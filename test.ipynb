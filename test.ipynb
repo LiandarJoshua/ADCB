{
 "cells": [
  {
   "cell_type": "code",
   "execution_count": 12,
   "id": "67aa4384",
   "metadata": {},
   "outputs": [],
   "source": [
    "import pandas as pd\n",
    "# df values\n",
    "data={\n",
    "    \"count\":[25,45,15,20,25,20],\n",
    "    \"sender\":['mfb','adcb','hdfc','idfc','mashreq','rakbank'],\n",
    "    \"receiver\":['adcb','mfb','idfc','hdfc','rakbank','mashreq'],\n",
    "    \"amount\":[4000000,500000,400000,1002313,3244223,9485734],\n",
    "    \"currency\":['EUR','EUR','USD','USD','USD','EUR'],\n",
    "    \"mt_type\":[103,202,103,104,202,103],\n",
    "    \"year\":[2024,2023,2023,2023,2024,2023],\n",
    "    \"direction\":['outgoing','incoming','outgoing','incoming','outgoing','incoming']    \n",
    "}\n",
    "df=pd.DataFrame(data)\n",
    "\n"
   ]
  },
  {
   "cell_type": "code",
   "execution_count": 13,
   "id": "bbb81271",
   "metadata": {},
   "outputs": [],
   "source": [
    "# making a big df\n",
    "import numpy as np\n",
    "num_samples = 1000\n",
    "simulated_df = pd.DataFrame({\n",
    "    \"count\": np.random.choice(data[\"count\"], num_samples),\n",
    "    \"sender\": np.random.choice(data[\"sender\"], num_samples),\n",
    "    \"receiver\": np.random.choice(data[\"receiver\"], num_samples),\n",
    "    \"amount\": np.random.choice(data[\"amount\"], num_samples),\n",
    "    \"currency\": np.random.choice(data[\"currency\"], num_samples),\n",
    "    \"mt_type\": np.random.choice(data[\"mt_type\"], num_samples),\n",
    "    \"year\": np.random.choice(data[\"year\"], num_samples),\n",
    "    \"direction\": np.random.choice(data[\"direction\"], num_samples),\n",
    "})\n",
    "simulated_df = simulated_df[simulated_df['sender'] != simulated_df['receiver']].reset_index(drop=True)\n"
   ]
  },
  {
   "cell_type": "code",
   "execution_count": 14,
   "id": "ae3f082e",
   "metadata": {},
   "outputs": [
    {
     "data": {
      "text/html": [
       "<div>\n",
       "<style scoped>\n",
       "    .dataframe tbody tr th:only-of-type {\n",
       "        vertical-align: middle;\n",
       "    }\n",
       "\n",
       "    .dataframe tbody tr th {\n",
       "        vertical-align: top;\n",
       "    }\n",
       "\n",
       "    .dataframe thead th {\n",
       "        text-align: right;\n",
       "    }\n",
       "</style>\n",
       "<table border=\"1\" class=\"dataframe\">\n",
       "  <thead>\n",
       "    <tr style=\"text-align: right;\">\n",
       "      <th></th>\n",
       "      <th>count</th>\n",
       "      <th>sender</th>\n",
       "      <th>receiver</th>\n",
       "      <th>amount</th>\n",
       "      <th>currency</th>\n",
       "      <th>mt_type</th>\n",
       "      <th>year</th>\n",
       "      <th>direction</th>\n",
       "    </tr>\n",
       "  </thead>\n",
       "  <tbody>\n",
       "    <tr>\n",
       "      <th>0</th>\n",
       "      <td>20</td>\n",
       "      <td>rakbank</td>\n",
       "      <td>mashreq</td>\n",
       "      <td>4000000</td>\n",
       "      <td>EUR</td>\n",
       "      <td>202</td>\n",
       "      <td>2024</td>\n",
       "      <td>outgoing</td>\n",
       "    </tr>\n",
       "    <tr>\n",
       "      <th>1</th>\n",
       "      <td>20</td>\n",
       "      <td>idfc</td>\n",
       "      <td>hdfc</td>\n",
       "      <td>500000</td>\n",
       "      <td>USD</td>\n",
       "      <td>103</td>\n",
       "      <td>2024</td>\n",
       "      <td>incoming</td>\n",
       "    </tr>\n",
       "    <tr>\n",
       "      <th>2</th>\n",
       "      <td>20</td>\n",
       "      <td>hdfc</td>\n",
       "      <td>mashreq</td>\n",
       "      <td>9485734</td>\n",
       "      <td>EUR</td>\n",
       "      <td>104</td>\n",
       "      <td>2023</td>\n",
       "      <td>outgoing</td>\n",
       "    </tr>\n",
       "    <tr>\n",
       "      <th>3</th>\n",
       "      <td>45</td>\n",
       "      <td>hdfc</td>\n",
       "      <td>mfb</td>\n",
       "      <td>9485734</td>\n",
       "      <td>USD</td>\n",
       "      <td>202</td>\n",
       "      <td>2023</td>\n",
       "      <td>incoming</td>\n",
       "    </tr>\n",
       "    <tr>\n",
       "      <th>4</th>\n",
       "      <td>20</td>\n",
       "      <td>adcb</td>\n",
       "      <td>mfb</td>\n",
       "      <td>1002313</td>\n",
       "      <td>EUR</td>\n",
       "      <td>103</td>\n",
       "      <td>2023</td>\n",
       "      <td>outgoing</td>\n",
       "    </tr>\n",
       "    <tr>\n",
       "      <th>...</th>\n",
       "      <td>...</td>\n",
       "      <td>...</td>\n",
       "      <td>...</td>\n",
       "      <td>...</td>\n",
       "      <td>...</td>\n",
       "      <td>...</td>\n",
       "      <td>...</td>\n",
       "      <td>...</td>\n",
       "    </tr>\n",
       "    <tr>\n",
       "      <th>846</th>\n",
       "      <td>15</td>\n",
       "      <td>mfb</td>\n",
       "      <td>adcb</td>\n",
       "      <td>3244223</td>\n",
       "      <td>EUR</td>\n",
       "      <td>103</td>\n",
       "      <td>2023</td>\n",
       "      <td>incoming</td>\n",
       "    </tr>\n",
       "    <tr>\n",
       "      <th>847</th>\n",
       "      <td>25</td>\n",
       "      <td>hdfc</td>\n",
       "      <td>mashreq</td>\n",
       "      <td>3244223</td>\n",
       "      <td>USD</td>\n",
       "      <td>103</td>\n",
       "      <td>2023</td>\n",
       "      <td>incoming</td>\n",
       "    </tr>\n",
       "    <tr>\n",
       "      <th>848</th>\n",
       "      <td>20</td>\n",
       "      <td>mashreq</td>\n",
       "      <td>rakbank</td>\n",
       "      <td>1002313</td>\n",
       "      <td>USD</td>\n",
       "      <td>103</td>\n",
       "      <td>2023</td>\n",
       "      <td>outgoing</td>\n",
       "    </tr>\n",
       "    <tr>\n",
       "      <th>849</th>\n",
       "      <td>45</td>\n",
       "      <td>mfb</td>\n",
       "      <td>idfc</td>\n",
       "      <td>9485734</td>\n",
       "      <td>EUR</td>\n",
       "      <td>104</td>\n",
       "      <td>2024</td>\n",
       "      <td>incoming</td>\n",
       "    </tr>\n",
       "    <tr>\n",
       "      <th>850</th>\n",
       "      <td>20</td>\n",
       "      <td>adcb</td>\n",
       "      <td>mfb</td>\n",
       "      <td>4000000</td>\n",
       "      <td>EUR</td>\n",
       "      <td>103</td>\n",
       "      <td>2023</td>\n",
       "      <td>outgoing</td>\n",
       "    </tr>\n",
       "  </tbody>\n",
       "</table>\n",
       "<p>851 rows × 8 columns</p>\n",
       "</div>"
      ],
      "text/plain": [
       "     count   sender receiver   amount currency  mt_type  year direction\n",
       "0       20  rakbank  mashreq  4000000      EUR      202  2024  outgoing\n",
       "1       20     idfc     hdfc   500000      USD      103  2024  incoming\n",
       "2       20     hdfc  mashreq  9485734      EUR      104  2023  outgoing\n",
       "3       45     hdfc      mfb  9485734      USD      202  2023  incoming\n",
       "4       20     adcb      mfb  1002313      EUR      103  2023  outgoing\n",
       "..     ...      ...      ...      ...      ...      ...   ...       ...\n",
       "846     15      mfb     adcb  3244223      EUR      103  2023  incoming\n",
       "847     25     hdfc  mashreq  3244223      USD      103  2023  incoming\n",
       "848     20  mashreq  rakbank  1002313      USD      103  2023  outgoing\n",
       "849     45      mfb     idfc  9485734      EUR      104  2024  incoming\n",
       "850     20     adcb      mfb  4000000      EUR      103  2023  outgoing\n",
       "\n",
       "[851 rows x 8 columns]"
      ]
     },
     "execution_count": 14,
     "metadata": {},
     "output_type": "execute_result"
    }
   ],
   "source": [
    "df=simulated_df\n",
    "df"
   ]
  },
  {
   "cell_type": "code",
   "execution_count": 15,
   "id": "31259980",
   "metadata": {},
   "outputs": [],
   "source": [
    "import plotly.graph_objects as go\n"
   ]
  },
  {
   "cell_type": "code",
   "execution_count": null,
   "id": "c0f57299",
   "metadata": {},
   "outputs": [],
   "source": [
    "sources=['mfbb','adcb','mashreq'] #assuming these banks as sources\n",
    "targets=['idfc','hdfc','rakbank']\n",
    "df = df[df['sender'].isin(sources) & df['receiver'].isin(targets)].copy() #only rows where sources and targets match in their respective positions\n"
   ]
  },
  {
   "cell_type": "code",
   "execution_count": 17,
   "id": "bf1c42ca",
   "metadata": {},
   "outputs": [
    {
     "data": {
      "text/html": [
       "<div>\n",
       "<style scoped>\n",
       "    .dataframe tbody tr th:only-of-type {\n",
       "        vertical-align: middle;\n",
       "    }\n",
       "\n",
       "    .dataframe tbody tr th {\n",
       "        vertical-align: top;\n",
       "    }\n",
       "\n",
       "    .dataframe thead th {\n",
       "        text-align: right;\n",
       "    }\n",
       "</style>\n",
       "<table border=\"1\" class=\"dataframe\">\n",
       "  <thead>\n",
       "    <tr style=\"text-align: right;\">\n",
       "      <th></th>\n",
       "      <th>count</th>\n",
       "      <th>sender</th>\n",
       "      <th>receiver</th>\n",
       "      <th>amount</th>\n",
       "      <th>currency</th>\n",
       "      <th>mt_type</th>\n",
       "      <th>year</th>\n",
       "      <th>direction</th>\n",
       "    </tr>\n",
       "  </thead>\n",
       "  <tbody>\n",
       "    <tr>\n",
       "      <th>6</th>\n",
       "      <td>25</td>\n",
       "      <td>adcb</td>\n",
       "      <td>rakbank</td>\n",
       "      <td>500000</td>\n",
       "      <td>USD</td>\n",
       "      <td>103</td>\n",
       "      <td>2023</td>\n",
       "      <td>incoming</td>\n",
       "    </tr>\n",
       "    <tr>\n",
       "      <th>8</th>\n",
       "      <td>20</td>\n",
       "      <td>mashreq</td>\n",
       "      <td>hdfc</td>\n",
       "      <td>400000</td>\n",
       "      <td>EUR</td>\n",
       "      <td>104</td>\n",
       "      <td>2024</td>\n",
       "      <td>incoming</td>\n",
       "    </tr>\n",
       "    <tr>\n",
       "      <th>11</th>\n",
       "      <td>15</td>\n",
       "      <td>mashreq</td>\n",
       "      <td>rakbank</td>\n",
       "      <td>500000</td>\n",
       "      <td>USD</td>\n",
       "      <td>103</td>\n",
       "      <td>2023</td>\n",
       "      <td>outgoing</td>\n",
       "    </tr>\n",
       "    <tr>\n",
       "      <th>18</th>\n",
       "      <td>25</td>\n",
       "      <td>adcb</td>\n",
       "      <td>idfc</td>\n",
       "      <td>3244223</td>\n",
       "      <td>USD</td>\n",
       "      <td>202</td>\n",
       "      <td>2023</td>\n",
       "      <td>incoming</td>\n",
       "    </tr>\n",
       "    <tr>\n",
       "      <th>19</th>\n",
       "      <td>25</td>\n",
       "      <td>mashreq</td>\n",
       "      <td>rakbank</td>\n",
       "      <td>3244223</td>\n",
       "      <td>USD</td>\n",
       "      <td>104</td>\n",
       "      <td>2024</td>\n",
       "      <td>incoming</td>\n",
       "    </tr>\n",
       "    <tr>\n",
       "      <th>...</th>\n",
       "      <td>...</td>\n",
       "      <td>...</td>\n",
       "      <td>...</td>\n",
       "      <td>...</td>\n",
       "      <td>...</td>\n",
       "      <td>...</td>\n",
       "      <td>...</td>\n",
       "      <td>...</td>\n",
       "    </tr>\n",
       "    <tr>\n",
       "      <th>819</th>\n",
       "      <td>45</td>\n",
       "      <td>adcb</td>\n",
       "      <td>rakbank</td>\n",
       "      <td>3244223</td>\n",
       "      <td>USD</td>\n",
       "      <td>104</td>\n",
       "      <td>2024</td>\n",
       "      <td>outgoing</td>\n",
       "    </tr>\n",
       "    <tr>\n",
       "      <th>836</th>\n",
       "      <td>15</td>\n",
       "      <td>adcb</td>\n",
       "      <td>hdfc</td>\n",
       "      <td>1002313</td>\n",
       "      <td>USD</td>\n",
       "      <td>104</td>\n",
       "      <td>2023</td>\n",
       "      <td>incoming</td>\n",
       "    </tr>\n",
       "    <tr>\n",
       "      <th>843</th>\n",
       "      <td>25</td>\n",
       "      <td>adcb</td>\n",
       "      <td>rakbank</td>\n",
       "      <td>9485734</td>\n",
       "      <td>USD</td>\n",
       "      <td>202</td>\n",
       "      <td>2023</td>\n",
       "      <td>outgoing</td>\n",
       "    </tr>\n",
       "    <tr>\n",
       "      <th>845</th>\n",
       "      <td>45</td>\n",
       "      <td>adcb</td>\n",
       "      <td>hdfc</td>\n",
       "      <td>1002313</td>\n",
       "      <td>USD</td>\n",
       "      <td>202</td>\n",
       "      <td>2024</td>\n",
       "      <td>outgoing</td>\n",
       "    </tr>\n",
       "    <tr>\n",
       "      <th>848</th>\n",
       "      <td>20</td>\n",
       "      <td>mashreq</td>\n",
       "      <td>rakbank</td>\n",
       "      <td>1002313</td>\n",
       "      <td>USD</td>\n",
       "      <td>103</td>\n",
       "      <td>2023</td>\n",
       "      <td>outgoing</td>\n",
       "    </tr>\n",
       "  </tbody>\n",
       "</table>\n",
       "<p>162 rows × 8 columns</p>\n",
       "</div>"
      ],
      "text/plain": [
       "     count   sender receiver   amount currency  mt_type  year direction\n",
       "6       25     adcb  rakbank   500000      USD      103  2023  incoming\n",
       "8       20  mashreq     hdfc   400000      EUR      104  2024  incoming\n",
       "11      15  mashreq  rakbank   500000      USD      103  2023  outgoing\n",
       "18      25     adcb     idfc  3244223      USD      202  2023  incoming\n",
       "19      25  mashreq  rakbank  3244223      USD      104  2024  incoming\n",
       "..     ...      ...      ...      ...      ...      ...   ...       ...\n",
       "819     45     adcb  rakbank  3244223      USD      104  2024  outgoing\n",
       "836     15     adcb     hdfc  1002313      USD      104  2023  incoming\n",
       "843     25     adcb  rakbank  9485734      USD      202  2023  outgoing\n",
       "845     45     adcb     hdfc  1002313      USD      202  2024  outgoing\n",
       "848     20  mashreq  rakbank  1002313      USD      103  2023  outgoing\n",
       "\n",
       "[162 rows x 8 columns]"
      ]
     },
     "execution_count": 17,
     "metadata": {},
     "output_type": "execute_result"
    }
   ],
   "source": [
    "df"
   ]
  },
  {
   "cell_type": "code",
   "execution_count": 18,
   "id": "72d6b708",
   "metadata": {},
   "outputs": [],
   "source": [
    "nodes = list(pd.unique(df[['sender', 'receiver']].values.ravel('K')))  #we select sender and receiver banks as nodes in this case and take the unique labels\n"
   ]
  },
  {
   "cell_type": "code",
   "execution_count": 19,
   "id": "4a48789a",
   "metadata": {},
   "outputs": [
    {
     "data": {
      "text/plain": [
       "['adcb', 'mashreq', 'rakbank', 'hdfc', 'idfc']"
      ]
     },
     "execution_count": 19,
     "metadata": {},
     "output_type": "execute_result"
    }
   ],
   "source": [
    "\n",
    "nodes\n",
    "\n",
    "#nodes here would be the banks which acts as a source and target to each other\n",
    "#links are the flows/connections between all of them "
   ]
  },
  {
   "cell_type": "code",
   "execution_count": 20,
   "id": "dfaa18a2",
   "metadata": {},
   "outputs": [],
   "source": [
    "indices={node:i for i,node in enumerate(nodes)}  #indexes of all nodes"
   ]
  },
  {
   "cell_type": "code",
   "execution_count": 21,
   "id": "2a7c4637",
   "metadata": {},
   "outputs": [
    {
     "name": "stdout",
     "output_type": "stream",
     "text": [
      "6       500000\n",
      "8       400000\n",
      "11      500000\n",
      "18     3244223\n",
      "19     3244223\n",
      "        ...   \n",
      "819    3244223\n",
      "836    1002313\n",
      "843    9485734\n",
      "845    1002313\n",
      "848    1002313\n",
      "Name: amount, Length: 162, dtype: int32\n",
      "6      0\n",
      "8      1\n",
      "11     1\n",
      "18     0\n",
      "19     1\n",
      "      ..\n",
      "819    0\n",
      "836    0\n",
      "843    0\n",
      "845    0\n",
      "848    1\n",
      "Name: sender, Length: 162, dtype: int64\n",
      "6      2\n",
      "8      3\n",
      "11     2\n",
      "18     4\n",
      "19     2\n",
      "      ..\n",
      "819    2\n",
      "836    3\n",
      "843    2\n",
      "845    3\n",
      "848    2\n",
      "Name: receiver, Length: 162, dtype: int64\n"
     ]
    }
   ],
   "source": [
    "senderindices=df['sender'].map(indices)  #indices of all the senders\n",
    "receiverindices=df['receiver'].map(indices)  #'' receivers\n",
    "amounts=df['amount']\n",
    "print(amounts)\n",
    "print(senderindices)\n",
    "print(receiverindices)"
   ]
  },
  {
   "cell_type": "code",
   "execution_count": null,
   "id": "ea779a5e",
   "metadata": {},
   "outputs": [],
   "source": [
    "# diagram\n",
    "\n",
    "fig=go.Figure(data=go.Sankey(\n",
    "    node=dict(\n",
    "        pad=25,\n",
    "        thickness=20,\n",
    "        line=dict(color=\"black\",width=0.5),\n",
    "        label=['mfb','adcb','idfc','hdfc'],\n",
    "    ),\n",
    "    link=dict(\n",
    "        source=senderindices,\n",
    "        target=receiverindices,\n",
    "        value=amounts\n",
    "    )\n",
    "))"
   ]
  },
  {
   "cell_type": "code",
   "execution_count": 23,
   "id": "af0a5019",
   "metadata": {},
   "outputs": [
    {
     "data": {
      "application/vnd.plotly.v1+json": {
       "config": {
        "plotlyServerURL": "https://plot.ly"
       },
       "data": [
        {
         "link": {
          "source": [
           0,
           1,
           1,
           0,
           1,
           0,
           0,
           1,
           1,
           1,
           1,
           0,
           0,
           1,
           1,
           0,
           1,
           0,
           0,
           0,
           0,
           0,
           1,
           1,
           1,
           0,
           0,
           1,
           0,
           0,
           1,
           1,
           0,
           0,
           1,
           0,
           1,
           0,
           0,
           1,
           1,
           0,
           0,
           1,
           1,
           0,
           1,
           1,
           1,
           1,
           0,
           1,
           1,
           0,
           0,
           0,
           0,
           1,
           0,
           0,
           0,
           1,
           1,
           1,
           0,
           0,
           0,
           0,
           1,
           0,
           1,
           1,
           0,
           1,
           1,
           1,
           1,
           1,
           1,
           1,
           0,
           1,
           1,
           0,
           0,
           0,
           1,
           1,
           0,
           0,
           0,
           0,
           1,
           0,
           0,
           1,
           1,
           0,
           0,
           0,
           0,
           0,
           1,
           1,
           1,
           0,
           0,
           0,
           0,
           1,
           0,
           0,
           1,
           1,
           0,
           0,
           0,
           1,
           0,
           0,
           1,
           0,
           0,
           1,
           1,
           0,
           1,
           0,
           1,
           1,
           0,
           0,
           1,
           0,
           0,
           1,
           0,
           1,
           0,
           1,
           0,
           0,
           1,
           0,
           1,
           0,
           1,
           1,
           1,
           0,
           0,
           1,
           1,
           1,
           0,
           1,
           1,
           0,
           0,
           0,
           0,
           1
          ],
          "target": [
           2,
           3,
           2,
           4,
           2,
           3,
           2,
           3,
           3,
           2,
           2,
           4,
           2,
           2,
           4,
           4,
           2,
           2,
           4,
           4,
           4,
           2,
           4,
           4,
           3,
           4,
           3,
           2,
           3,
           4,
           4,
           2,
           3,
           2,
           4,
           4,
           4,
           3,
           4,
           2,
           3,
           4,
           3,
           2,
           4,
           3,
           3,
           2,
           3,
           4,
           2,
           2,
           2,
           2,
           4,
           4,
           2,
           2,
           4,
           4,
           2,
           4,
           3,
           3,
           2,
           2,
           4,
           2,
           3,
           2,
           4,
           2,
           3,
           3,
           4,
           4,
           4,
           2,
           2,
           3,
           4,
           2,
           3,
           4,
           3,
           4,
           2,
           4,
           4,
           4,
           3,
           4,
           2,
           2,
           3,
           2,
           2,
           3,
           3,
           2,
           4,
           4,
           4,
           3,
           4,
           2,
           3,
           3,
           3,
           4,
           3,
           4,
           2,
           2,
           3,
           4,
           3,
           2,
           4,
           2,
           3,
           4,
           3,
           3,
           4,
           2,
           3,
           4,
           2,
           3,
           2,
           3,
           3,
           3,
           2,
           2,
           4,
           4,
           3,
           4,
           2,
           2,
           4,
           2,
           4,
           2,
           2,
           3,
           3,
           2,
           2,
           2,
           3,
           4,
           4,
           2,
           4,
           2,
           3,
           2,
           3,
           2
          ],
          "value": [
           500000,
           400000,
           500000,
           3244223,
           3244223,
           4000000,
           3244223,
           3244223,
           9485734,
           400000,
           1002313,
           500000,
           500000,
           500000,
           9485734,
           1002313,
           4000000,
           3244223,
           9485734,
           3244223,
           4000000,
           4000000,
           500000,
           9485734,
           9485734,
           1002313,
           500000,
           3244223,
           500000,
           3244223,
           3244223,
           400000,
           3244223,
           400000,
           4000000,
           4000000,
           4000000,
           1002313,
           9485734,
           1002313,
           3244223,
           400000,
           3244223,
           4000000,
           400000,
           1002313,
           3244223,
           9485734,
           400000,
           9485734,
           4000000,
           400000,
           1002313,
           1002313,
           9485734,
           3244223,
           3244223,
           400000,
           1002313,
           400000,
           400000,
           400000,
           3244223,
           400000,
           4000000,
           400000,
           4000000,
           3244223,
           500000,
           3244223,
           9485734,
           1002313,
           400000,
           4000000,
           500000,
           400000,
           4000000,
           400000,
           1002313,
           9485734,
           1002313,
           3244223,
           4000000,
           400000,
           400000,
           1002313,
           400000,
           400000,
           3244223,
           3244223,
           3244223,
           9485734,
           4000000,
           500000,
           3244223,
           500000,
           1002313,
           500000,
           4000000,
           9485734,
           3244223,
           500000,
           3244223,
           400000,
           4000000,
           400000,
           400000,
           1002313,
           500000,
           400000,
           500000,
           9485734,
           4000000,
           400000,
           4000000,
           4000000,
           3244223,
           3244223,
           3244223,
           4000000,
           3244223,
           400000,
           4000000,
           1002313,
           3244223,
           9485734,
           400000,
           1002313,
           400000,
           9485734,
           4000000,
           4000000,
           3244223,
           400000,
           400000,
           3244223,
           4000000,
           400000,
           3244223,
           3244223,
           3244223,
           3244223,
           9485734,
           3244223,
           500000,
           1002313,
           4000000,
           4000000,
           1002313,
           500000,
           1002313,
           500000,
           1002313,
           9485734,
           3244223,
           1002313,
           3244223,
           3244223,
           1002313,
           9485734,
           1002313,
           1002313
          ]
         },
         "node": {
          "label": [
           "mfb",
           "adcb",
           "idfc",
           "hdfc"
          ],
          "line": {
           "color": "black",
           "width": 0.5
          },
          "pad": 25,
          "thickness": 20
         },
         "type": "sankey"
        }
       ],
       "layout": {
        "height": 700,
        "template": {
         "data": {
          "bar": [
           {
            "error_x": {
             "color": "#2a3f5f"
            },
            "error_y": {
             "color": "#2a3f5f"
            },
            "marker": {
             "line": {
              "color": "#E5ECF6",
              "width": 0.5
             },
             "pattern": {
              "fillmode": "overlay",
              "size": 10,
              "solidity": 0.2
             }
            },
            "type": "bar"
           }
          ],
          "barpolar": [
           {
            "marker": {
             "line": {
              "color": "#E5ECF6",
              "width": 0.5
             },
             "pattern": {
              "fillmode": "overlay",
              "size": 10,
              "solidity": 0.2
             }
            },
            "type": "barpolar"
           }
          ],
          "carpet": [
           {
            "aaxis": {
             "endlinecolor": "#2a3f5f",
             "gridcolor": "white",
             "linecolor": "white",
             "minorgridcolor": "white",
             "startlinecolor": "#2a3f5f"
            },
            "baxis": {
             "endlinecolor": "#2a3f5f",
             "gridcolor": "white",
             "linecolor": "white",
             "minorgridcolor": "white",
             "startlinecolor": "#2a3f5f"
            },
            "type": "carpet"
           }
          ],
          "choropleth": [
           {
            "colorbar": {
             "outlinewidth": 0,
             "ticks": ""
            },
            "type": "choropleth"
           }
          ],
          "contour": [
           {
            "colorbar": {
             "outlinewidth": 0,
             "ticks": ""
            },
            "colorscale": [
             [
              0,
              "#0d0887"
             ],
             [
              0.1111111111111111,
              "#46039f"
             ],
             [
              0.2222222222222222,
              "#7201a8"
             ],
             [
              0.3333333333333333,
              "#9c179e"
             ],
             [
              0.4444444444444444,
              "#bd3786"
             ],
             [
              0.5555555555555556,
              "#d8576b"
             ],
             [
              0.6666666666666666,
              "#ed7953"
             ],
             [
              0.7777777777777778,
              "#fb9f3a"
             ],
             [
              0.8888888888888888,
              "#fdca26"
             ],
             [
              1,
              "#f0f921"
             ]
            ],
            "type": "contour"
           }
          ],
          "contourcarpet": [
           {
            "colorbar": {
             "outlinewidth": 0,
             "ticks": ""
            },
            "type": "contourcarpet"
           }
          ],
          "heatmap": [
           {
            "colorbar": {
             "outlinewidth": 0,
             "ticks": ""
            },
            "colorscale": [
             [
              0,
              "#0d0887"
             ],
             [
              0.1111111111111111,
              "#46039f"
             ],
             [
              0.2222222222222222,
              "#7201a8"
             ],
             [
              0.3333333333333333,
              "#9c179e"
             ],
             [
              0.4444444444444444,
              "#bd3786"
             ],
             [
              0.5555555555555556,
              "#d8576b"
             ],
             [
              0.6666666666666666,
              "#ed7953"
             ],
             [
              0.7777777777777778,
              "#fb9f3a"
             ],
             [
              0.8888888888888888,
              "#fdca26"
             ],
             [
              1,
              "#f0f921"
             ]
            ],
            "type": "heatmap"
           }
          ],
          "heatmapgl": [
           {
            "colorbar": {
             "outlinewidth": 0,
             "ticks": ""
            },
            "colorscale": [
             [
              0,
              "#0d0887"
             ],
             [
              0.1111111111111111,
              "#46039f"
             ],
             [
              0.2222222222222222,
              "#7201a8"
             ],
             [
              0.3333333333333333,
              "#9c179e"
             ],
             [
              0.4444444444444444,
              "#bd3786"
             ],
             [
              0.5555555555555556,
              "#d8576b"
             ],
             [
              0.6666666666666666,
              "#ed7953"
             ],
             [
              0.7777777777777778,
              "#fb9f3a"
             ],
             [
              0.8888888888888888,
              "#fdca26"
             ],
             [
              1,
              "#f0f921"
             ]
            ],
            "type": "heatmapgl"
           }
          ],
          "histogram": [
           {
            "marker": {
             "pattern": {
              "fillmode": "overlay",
              "size": 10,
              "solidity": 0.2
             }
            },
            "type": "histogram"
           }
          ],
          "histogram2d": [
           {
            "colorbar": {
             "outlinewidth": 0,
             "ticks": ""
            },
            "colorscale": [
             [
              0,
              "#0d0887"
             ],
             [
              0.1111111111111111,
              "#46039f"
             ],
             [
              0.2222222222222222,
              "#7201a8"
             ],
             [
              0.3333333333333333,
              "#9c179e"
             ],
             [
              0.4444444444444444,
              "#bd3786"
             ],
             [
              0.5555555555555556,
              "#d8576b"
             ],
             [
              0.6666666666666666,
              "#ed7953"
             ],
             [
              0.7777777777777778,
              "#fb9f3a"
             ],
             [
              0.8888888888888888,
              "#fdca26"
             ],
             [
              1,
              "#f0f921"
             ]
            ],
            "type": "histogram2d"
           }
          ],
          "histogram2dcontour": [
           {
            "colorbar": {
             "outlinewidth": 0,
             "ticks": ""
            },
            "colorscale": [
             [
              0,
              "#0d0887"
             ],
             [
              0.1111111111111111,
              "#46039f"
             ],
             [
              0.2222222222222222,
              "#7201a8"
             ],
             [
              0.3333333333333333,
              "#9c179e"
             ],
             [
              0.4444444444444444,
              "#bd3786"
             ],
             [
              0.5555555555555556,
              "#d8576b"
             ],
             [
              0.6666666666666666,
              "#ed7953"
             ],
             [
              0.7777777777777778,
              "#fb9f3a"
             ],
             [
              0.8888888888888888,
              "#fdca26"
             ],
             [
              1,
              "#f0f921"
             ]
            ],
            "type": "histogram2dcontour"
           }
          ],
          "mesh3d": [
           {
            "colorbar": {
             "outlinewidth": 0,
             "ticks": ""
            },
            "type": "mesh3d"
           }
          ],
          "parcoords": [
           {
            "line": {
             "colorbar": {
              "outlinewidth": 0,
              "ticks": ""
             }
            },
            "type": "parcoords"
           }
          ],
          "pie": [
           {
            "automargin": true,
            "type": "pie"
           }
          ],
          "scatter": [
           {
            "fillpattern": {
             "fillmode": "overlay",
             "size": 10,
             "solidity": 0.2
            },
            "type": "scatter"
           }
          ],
          "scatter3d": [
           {
            "line": {
             "colorbar": {
              "outlinewidth": 0,
              "ticks": ""
             }
            },
            "marker": {
             "colorbar": {
              "outlinewidth": 0,
              "ticks": ""
             }
            },
            "type": "scatter3d"
           }
          ],
          "scattercarpet": [
           {
            "marker": {
             "colorbar": {
              "outlinewidth": 0,
              "ticks": ""
             }
            },
            "type": "scattercarpet"
           }
          ],
          "scattergeo": [
           {
            "marker": {
             "colorbar": {
              "outlinewidth": 0,
              "ticks": ""
             }
            },
            "type": "scattergeo"
           }
          ],
          "scattergl": [
           {
            "marker": {
             "colorbar": {
              "outlinewidth": 0,
              "ticks": ""
             }
            },
            "type": "scattergl"
           }
          ],
          "scattermapbox": [
           {
            "marker": {
             "colorbar": {
              "outlinewidth": 0,
              "ticks": ""
             }
            },
            "type": "scattermapbox"
           }
          ],
          "scatterpolar": [
           {
            "marker": {
             "colorbar": {
              "outlinewidth": 0,
              "ticks": ""
             }
            },
            "type": "scatterpolar"
           }
          ],
          "scatterpolargl": [
           {
            "marker": {
             "colorbar": {
              "outlinewidth": 0,
              "ticks": ""
             }
            },
            "type": "scatterpolargl"
           }
          ],
          "scatterternary": [
           {
            "marker": {
             "colorbar": {
              "outlinewidth": 0,
              "ticks": ""
             }
            },
            "type": "scatterternary"
           }
          ],
          "surface": [
           {
            "colorbar": {
             "outlinewidth": 0,
             "ticks": ""
            },
            "colorscale": [
             [
              0,
              "#0d0887"
             ],
             [
              0.1111111111111111,
              "#46039f"
             ],
             [
              0.2222222222222222,
              "#7201a8"
             ],
             [
              0.3333333333333333,
              "#9c179e"
             ],
             [
              0.4444444444444444,
              "#bd3786"
             ],
             [
              0.5555555555555556,
              "#d8576b"
             ],
             [
              0.6666666666666666,
              "#ed7953"
             ],
             [
              0.7777777777777778,
              "#fb9f3a"
             ],
             [
              0.8888888888888888,
              "#fdca26"
             ],
             [
              1,
              "#f0f921"
             ]
            ],
            "type": "surface"
           }
          ],
          "table": [
           {
            "cells": {
             "fill": {
              "color": "#EBF0F8"
             },
             "line": {
              "color": "white"
             }
            },
            "header": {
             "fill": {
              "color": "#C8D4E3"
             },
             "line": {
              "color": "white"
             }
            },
            "type": "table"
           }
          ]
         },
         "layout": {
          "annotationdefaults": {
           "arrowcolor": "#2a3f5f",
           "arrowhead": 0,
           "arrowwidth": 1
          },
          "autotypenumbers": "strict",
          "coloraxis": {
           "colorbar": {
            "outlinewidth": 0,
            "ticks": ""
           }
          },
          "colorscale": {
           "diverging": [
            [
             0,
             "#8e0152"
            ],
            [
             0.1,
             "#c51b7d"
            ],
            [
             0.2,
             "#de77ae"
            ],
            [
             0.3,
             "#f1b6da"
            ],
            [
             0.4,
             "#fde0ef"
            ],
            [
             0.5,
             "#f7f7f7"
            ],
            [
             0.6,
             "#e6f5d0"
            ],
            [
             0.7,
             "#b8e186"
            ],
            [
             0.8,
             "#7fbc41"
            ],
            [
             0.9,
             "#4d9221"
            ],
            [
             1,
             "#276419"
            ]
           ],
           "sequential": [
            [
             0,
             "#0d0887"
            ],
            [
             0.1111111111111111,
             "#46039f"
            ],
            [
             0.2222222222222222,
             "#7201a8"
            ],
            [
             0.3333333333333333,
             "#9c179e"
            ],
            [
             0.4444444444444444,
             "#bd3786"
            ],
            [
             0.5555555555555556,
             "#d8576b"
            ],
            [
             0.6666666666666666,
             "#ed7953"
            ],
            [
             0.7777777777777778,
             "#fb9f3a"
            ],
            [
             0.8888888888888888,
             "#fdca26"
            ],
            [
             1,
             "#f0f921"
            ]
           ],
           "sequentialminus": [
            [
             0,
             "#0d0887"
            ],
            [
             0.1111111111111111,
             "#46039f"
            ],
            [
             0.2222222222222222,
             "#7201a8"
            ],
            [
             0.3333333333333333,
             "#9c179e"
            ],
            [
             0.4444444444444444,
             "#bd3786"
            ],
            [
             0.5555555555555556,
             "#d8576b"
            ],
            [
             0.6666666666666666,
             "#ed7953"
            ],
            [
             0.7777777777777778,
             "#fb9f3a"
            ],
            [
             0.8888888888888888,
             "#fdca26"
            ],
            [
             1,
             "#f0f921"
            ]
           ]
          },
          "colorway": [
           "#636efa",
           "#EF553B",
           "#00cc96",
           "#ab63fa",
           "#FFA15A",
           "#19d3f3",
           "#FF6692",
           "#B6E880",
           "#FF97FF",
           "#FECB52"
          ],
          "font": {
           "color": "#2a3f5f"
          },
          "geo": {
           "bgcolor": "white",
           "lakecolor": "white",
           "landcolor": "#E5ECF6",
           "showlakes": true,
           "showland": true,
           "subunitcolor": "white"
          },
          "hoverlabel": {
           "align": "left"
          },
          "hovermode": "closest",
          "mapbox": {
           "style": "light"
          },
          "paper_bgcolor": "white",
          "plot_bgcolor": "#E5ECF6",
          "polar": {
           "angularaxis": {
            "gridcolor": "white",
            "linecolor": "white",
            "ticks": ""
           },
           "bgcolor": "#E5ECF6",
           "radialaxis": {
            "gridcolor": "white",
            "linecolor": "white",
            "ticks": ""
           }
          },
          "scene": {
           "xaxis": {
            "backgroundcolor": "#E5ECF6",
            "gridcolor": "white",
            "gridwidth": 2,
            "linecolor": "white",
            "showbackground": true,
            "ticks": "",
            "zerolinecolor": "white"
           },
           "yaxis": {
            "backgroundcolor": "#E5ECF6",
            "gridcolor": "white",
            "gridwidth": 2,
            "linecolor": "white",
            "showbackground": true,
            "ticks": "",
            "zerolinecolor": "white"
           },
           "zaxis": {
            "backgroundcolor": "#E5ECF6",
            "gridcolor": "white",
            "gridwidth": 2,
            "linecolor": "white",
            "showbackground": true,
            "ticks": "",
            "zerolinecolor": "white"
           }
          },
          "shapedefaults": {
           "line": {
            "color": "#2a3f5f"
           }
          },
          "ternary": {
           "aaxis": {
            "gridcolor": "white",
            "linecolor": "white",
            "ticks": ""
           },
           "baxis": {
            "gridcolor": "white",
            "linecolor": "white",
            "ticks": ""
           },
           "bgcolor": "#E5ECF6",
           "caxis": {
            "gridcolor": "white",
            "linecolor": "white",
            "ticks": ""
           }
          },
          "title": {
           "x": 0.05
          },
          "xaxis": {
           "automargin": true,
           "gridcolor": "white",
           "linecolor": "white",
           "ticks": "",
           "title": {
            "standoff": 15
           },
           "zerolinecolor": "white",
           "zerolinewidth": 2
          },
          "yaxis": {
           "automargin": true,
           "gridcolor": "white",
           "linecolor": "white",
           "ticks": "",
           "title": {
            "standoff": 15
           },
           "zerolinecolor": "white",
           "zerolinewidth": 2
          }
         }
        },
        "title": {
         "text": "Sankey Diagram"
        },
        "width": 800
       }
      }
     },
     "metadata": {},
     "output_type": "display_data"
    }
   ],
   "source": [
    "fig.update_layout(title_text=\"Sankey Diagram\",width=800,height=700)\n",
    "fig.show()"
   ]
  },
  {
   "cell_type": "code",
   "execution_count": null,
   "id": "4981e3ac",
   "metadata": {},
   "outputs": [],
   "source": []
  }
 ],
 "metadata": {
  "kernelspec": {
   "display_name": "cudaenv",
   "language": "python",
   "name": "python3"
  },
  "language_info": {
   "codemirror_mode": {
    "name": "ipython",
    "version": 3
   },
   "file_extension": ".py",
   "mimetype": "text/x-python",
   "name": "python",
   "nbconvert_exporter": "python",
   "pygments_lexer": "ipython3",
   "version": "3.10.15"
  }
 },
 "nbformat": 4,
 "nbformat_minor": 5
}
