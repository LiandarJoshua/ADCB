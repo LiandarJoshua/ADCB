{
 "cells": [
  {
   "cell_type": "code",
   "execution_count": 1,
   "id": "67aa4384",
   "metadata": {},
   "outputs": [],
   "source": [
    "import pandas as pd\n",
    "# df values\n",
    "data={\n",
    "    \"count\":[25,45,15,20,25,20],\n",
    "    \"sender\":['mfb','adcb','hdfc','idfc','mashreq','rakbank'],\n",
    "    \"receiver\":['adcb','mfb','idfc','hdfc','rakbank','mashreq'],\n",
    "    \"amount\":[4000000,500000,400000,1002313,3244223,9485734],\n",
    "    \"currency\":['EUR','EUR','USD','USD','USD','EUR'],\n",
    "    \"mt_type\":[103,202,103,104,202,103],\n",
    "    \"year\":[2024,2023,2023,2023,2024,2023],\n",
    "    \"direction\":['outgoing','incoming','outgoing','incoming','outgoing','incoming']    \n",
    "}\n",
    "df=pd.DataFrame(data)\n",
    "\n"
   ]
  },
  {
   "cell_type": "code",
   "execution_count": 2,
   "id": "bbb81271",
   "metadata": {},
   "outputs": [],
   "source": [
    "# making a big df\n",
    "import numpy as np\n",
    "num_samples = 1000\n",
    "simulated_df = pd.DataFrame({\n",
    "    \"count\": np.random.choice(data[\"count\"], num_samples),\n",
    "    \"sender\": np.random.choice(data[\"sender\"], num_samples),\n",
    "    \"receiver\": np.random.choice(data[\"receiver\"], num_samples),\n",
    "    \"amount\": np.random.choice(data[\"amount\"], num_samples),\n",
    "    \"currency\": np.random.choice(data[\"currency\"], num_samples),\n",
    "    \"mt_type\": np.random.choice(data[\"mt_type\"], num_samples),\n",
    "    \"year\": np.random.choice(data[\"year\"], num_samples),\n",
    "    \"direction\": np.random.choice(data[\"direction\"], num_samples),\n",
    "})\n",
    "simulated_df = simulated_df[simulated_df['sender'] != simulated_df['receiver']].reset_index(drop=True)\n"
   ]
  },
  {
   "cell_type": "code",
   "execution_count": 3,
   "id": "ae3f082e",
   "metadata": {},
   "outputs": [
    {
     "data": {
      "text/html": [
       "<div>\n",
       "<style scoped>\n",
       "    .dataframe tbody tr th:only-of-type {\n",
       "        vertical-align: middle;\n",
       "    }\n",
       "\n",
       "    .dataframe tbody tr th {\n",
       "        vertical-align: top;\n",
       "    }\n",
       "\n",
       "    .dataframe thead th {\n",
       "        text-align: right;\n",
       "    }\n",
       "</style>\n",
       "<table border=\"1\" class=\"dataframe\">\n",
       "  <thead>\n",
       "    <tr style=\"text-align: right;\">\n",
       "      <th></th>\n",
       "      <th>count</th>\n",
       "      <th>sender</th>\n",
       "      <th>receiver</th>\n",
       "      <th>amount</th>\n",
       "      <th>currency</th>\n",
       "      <th>mt_type</th>\n",
       "      <th>year</th>\n",
       "      <th>direction</th>\n",
       "    </tr>\n",
       "  </thead>\n",
       "  <tbody>\n",
       "    <tr>\n",
       "      <th>0</th>\n",
       "      <td>25</td>\n",
       "      <td>adcb</td>\n",
       "      <td>rakbank</td>\n",
       "      <td>3244223</td>\n",
       "      <td>USD</td>\n",
       "      <td>104</td>\n",
       "      <td>2024</td>\n",
       "      <td>incoming</td>\n",
       "    </tr>\n",
       "    <tr>\n",
       "      <th>1</th>\n",
       "      <td>20</td>\n",
       "      <td>hdfc</td>\n",
       "      <td>rakbank</td>\n",
       "      <td>9485734</td>\n",
       "      <td>USD</td>\n",
       "      <td>202</td>\n",
       "      <td>2023</td>\n",
       "      <td>outgoing</td>\n",
       "    </tr>\n",
       "    <tr>\n",
       "      <th>2</th>\n",
       "      <td>45</td>\n",
       "      <td>idfc</td>\n",
       "      <td>adcb</td>\n",
       "      <td>4000000</td>\n",
       "      <td>USD</td>\n",
       "      <td>103</td>\n",
       "      <td>2024</td>\n",
       "      <td>incoming</td>\n",
       "    </tr>\n",
       "    <tr>\n",
       "      <th>3</th>\n",
       "      <td>25</td>\n",
       "      <td>idfc</td>\n",
       "      <td>mfb</td>\n",
       "      <td>3244223</td>\n",
       "      <td>EUR</td>\n",
       "      <td>103</td>\n",
       "      <td>2023</td>\n",
       "      <td>incoming</td>\n",
       "    </tr>\n",
       "    <tr>\n",
       "      <th>4</th>\n",
       "      <td>20</td>\n",
       "      <td>hdfc</td>\n",
       "      <td>rakbank</td>\n",
       "      <td>3244223</td>\n",
       "      <td>EUR</td>\n",
       "      <td>103</td>\n",
       "      <td>2023</td>\n",
       "      <td>outgoing</td>\n",
       "    </tr>\n",
       "    <tr>\n",
       "      <th>...</th>\n",
       "      <td>...</td>\n",
       "      <td>...</td>\n",
       "      <td>...</td>\n",
       "      <td>...</td>\n",
       "      <td>...</td>\n",
       "      <td>...</td>\n",
       "      <td>...</td>\n",
       "      <td>...</td>\n",
       "    </tr>\n",
       "    <tr>\n",
       "      <th>823</th>\n",
       "      <td>20</td>\n",
       "      <td>idfc</td>\n",
       "      <td>mfb</td>\n",
       "      <td>500000</td>\n",
       "      <td>USD</td>\n",
       "      <td>104</td>\n",
       "      <td>2024</td>\n",
       "      <td>outgoing</td>\n",
       "    </tr>\n",
       "    <tr>\n",
       "      <th>824</th>\n",
       "      <td>25</td>\n",
       "      <td>mfb</td>\n",
       "      <td>rakbank</td>\n",
       "      <td>9485734</td>\n",
       "      <td>USD</td>\n",
       "      <td>104</td>\n",
       "      <td>2023</td>\n",
       "      <td>incoming</td>\n",
       "    </tr>\n",
       "    <tr>\n",
       "      <th>825</th>\n",
       "      <td>25</td>\n",
       "      <td>mashreq</td>\n",
       "      <td>hdfc</td>\n",
       "      <td>4000000</td>\n",
       "      <td>EUR</td>\n",
       "      <td>103</td>\n",
       "      <td>2023</td>\n",
       "      <td>incoming</td>\n",
       "    </tr>\n",
       "    <tr>\n",
       "      <th>826</th>\n",
       "      <td>20</td>\n",
       "      <td>mfb</td>\n",
       "      <td>idfc</td>\n",
       "      <td>400000</td>\n",
       "      <td>EUR</td>\n",
       "      <td>103</td>\n",
       "      <td>2023</td>\n",
       "      <td>incoming</td>\n",
       "    </tr>\n",
       "    <tr>\n",
       "      <th>827</th>\n",
       "      <td>20</td>\n",
       "      <td>rakbank</td>\n",
       "      <td>adcb</td>\n",
       "      <td>400000</td>\n",
       "      <td>EUR</td>\n",
       "      <td>202</td>\n",
       "      <td>2023</td>\n",
       "      <td>incoming</td>\n",
       "    </tr>\n",
       "  </tbody>\n",
       "</table>\n",
       "<p>828 rows × 8 columns</p>\n",
       "</div>"
      ],
      "text/plain": [
       "     count   sender receiver   amount currency  mt_type  year direction\n",
       "0       25     adcb  rakbank  3244223      USD      104  2024  incoming\n",
       "1       20     hdfc  rakbank  9485734      USD      202  2023  outgoing\n",
       "2       45     idfc     adcb  4000000      USD      103  2024  incoming\n",
       "3       25     idfc      mfb  3244223      EUR      103  2023  incoming\n",
       "4       20     hdfc  rakbank  3244223      EUR      103  2023  outgoing\n",
       "..     ...      ...      ...      ...      ...      ...   ...       ...\n",
       "823     20     idfc      mfb   500000      USD      104  2024  outgoing\n",
       "824     25      mfb  rakbank  9485734      USD      104  2023  incoming\n",
       "825     25  mashreq     hdfc  4000000      EUR      103  2023  incoming\n",
       "826     20      mfb     idfc   400000      EUR      103  2023  incoming\n",
       "827     20  rakbank     adcb   400000      EUR      202  2023  incoming\n",
       "\n",
       "[828 rows x 8 columns]"
      ]
     },
     "execution_count": 3,
     "metadata": {},
     "output_type": "execute_result"
    }
   ],
   "source": [
    "df=simulated_df\n",
    "df"
   ]
  },
  {
   "cell_type": "code",
   "execution_count": 4,
   "id": "31259980",
   "metadata": {},
   "outputs": [],
   "source": [
    "import plotly.graph_objects as go\n"
   ]
  },
  {
   "cell_type": "code",
   "execution_count": 5,
   "id": "c0f57299",
   "metadata": {},
   "outputs": [],
   "source": [
    "sources=['mfbb','adcb','mashreq'] #assuming these banks as sources\n",
    "targets=['idfc','hdfc','rakbank']\n",
    "df = df[df['sender'].isin(sources) & df['receiver'].isin(targets)].copy() #only rows where sources and targets match in their respective positions\n"
   ]
  },
  {
   "cell_type": "code",
   "execution_count": 6,
   "id": "bf1c42ca",
   "metadata": {},
   "outputs": [
    {
     "data": {
      "text/html": [
       "<div>\n",
       "<style scoped>\n",
       "    .dataframe tbody tr th:only-of-type {\n",
       "        vertical-align: middle;\n",
       "    }\n",
       "\n",
       "    .dataframe tbody tr th {\n",
       "        vertical-align: top;\n",
       "    }\n",
       "\n",
       "    .dataframe thead th {\n",
       "        text-align: right;\n",
       "    }\n",
       "</style>\n",
       "<table border=\"1\" class=\"dataframe\">\n",
       "  <thead>\n",
       "    <tr style=\"text-align: right;\">\n",
       "      <th></th>\n",
       "      <th>count</th>\n",
       "      <th>sender</th>\n",
       "      <th>receiver</th>\n",
       "      <th>amount</th>\n",
       "      <th>currency</th>\n",
       "      <th>mt_type</th>\n",
       "      <th>year</th>\n",
       "      <th>direction</th>\n",
       "    </tr>\n",
       "  </thead>\n",
       "  <tbody>\n",
       "    <tr>\n",
       "      <th>0</th>\n",
       "      <td>25</td>\n",
       "      <td>adcb</td>\n",
       "      <td>rakbank</td>\n",
       "      <td>3244223</td>\n",
       "      <td>USD</td>\n",
       "      <td>104</td>\n",
       "      <td>2024</td>\n",
       "      <td>incoming</td>\n",
       "    </tr>\n",
       "    <tr>\n",
       "      <th>5</th>\n",
       "      <td>15</td>\n",
       "      <td>adcb</td>\n",
       "      <td>rakbank</td>\n",
       "      <td>9485734</td>\n",
       "      <td>USD</td>\n",
       "      <td>202</td>\n",
       "      <td>2023</td>\n",
       "      <td>incoming</td>\n",
       "    </tr>\n",
       "    <tr>\n",
       "      <th>10</th>\n",
       "      <td>45</td>\n",
       "      <td>adcb</td>\n",
       "      <td>rakbank</td>\n",
       "      <td>500000</td>\n",
       "      <td>EUR</td>\n",
       "      <td>103</td>\n",
       "      <td>2023</td>\n",
       "      <td>outgoing</td>\n",
       "    </tr>\n",
       "    <tr>\n",
       "      <th>12</th>\n",
       "      <td>25</td>\n",
       "      <td>adcb</td>\n",
       "      <td>idfc</td>\n",
       "      <td>3244223</td>\n",
       "      <td>EUR</td>\n",
       "      <td>202</td>\n",
       "      <td>2023</td>\n",
       "      <td>incoming</td>\n",
       "    </tr>\n",
       "    <tr>\n",
       "      <th>14</th>\n",
       "      <td>25</td>\n",
       "      <td>adcb</td>\n",
       "      <td>hdfc</td>\n",
       "      <td>1002313</td>\n",
       "      <td>EUR</td>\n",
       "      <td>103</td>\n",
       "      <td>2023</td>\n",
       "      <td>incoming</td>\n",
       "    </tr>\n",
       "    <tr>\n",
       "      <th>...</th>\n",
       "      <td>...</td>\n",
       "      <td>...</td>\n",
       "      <td>...</td>\n",
       "      <td>...</td>\n",
       "      <td>...</td>\n",
       "      <td>...</td>\n",
       "      <td>...</td>\n",
       "      <td>...</td>\n",
       "    </tr>\n",
       "    <tr>\n",
       "      <th>814</th>\n",
       "      <td>20</td>\n",
       "      <td>mashreq</td>\n",
       "      <td>rakbank</td>\n",
       "      <td>500000</td>\n",
       "      <td>USD</td>\n",
       "      <td>103</td>\n",
       "      <td>2024</td>\n",
       "      <td>outgoing</td>\n",
       "    </tr>\n",
       "    <tr>\n",
       "      <th>815</th>\n",
       "      <td>25</td>\n",
       "      <td>adcb</td>\n",
       "      <td>idfc</td>\n",
       "      <td>4000000</td>\n",
       "      <td>EUR</td>\n",
       "      <td>202</td>\n",
       "      <td>2024</td>\n",
       "      <td>incoming</td>\n",
       "    </tr>\n",
       "    <tr>\n",
       "      <th>817</th>\n",
       "      <td>15</td>\n",
       "      <td>mashreq</td>\n",
       "      <td>hdfc</td>\n",
       "      <td>500000</td>\n",
       "      <td>EUR</td>\n",
       "      <td>202</td>\n",
       "      <td>2023</td>\n",
       "      <td>incoming</td>\n",
       "    </tr>\n",
       "    <tr>\n",
       "      <th>822</th>\n",
       "      <td>20</td>\n",
       "      <td>adcb</td>\n",
       "      <td>hdfc</td>\n",
       "      <td>400000</td>\n",
       "      <td>USD</td>\n",
       "      <td>202</td>\n",
       "      <td>2024</td>\n",
       "      <td>outgoing</td>\n",
       "    </tr>\n",
       "    <tr>\n",
       "      <th>825</th>\n",
       "      <td>25</td>\n",
       "      <td>mashreq</td>\n",
       "      <td>hdfc</td>\n",
       "      <td>4000000</td>\n",
       "      <td>EUR</td>\n",
       "      <td>103</td>\n",
       "      <td>2023</td>\n",
       "      <td>incoming</td>\n",
       "    </tr>\n",
       "  </tbody>\n",
       "</table>\n",
       "<p>166 rows × 8 columns</p>\n",
       "</div>"
      ],
      "text/plain": [
       "     count   sender receiver   amount currency  mt_type  year direction\n",
       "0       25     adcb  rakbank  3244223      USD      104  2024  incoming\n",
       "5       15     adcb  rakbank  9485734      USD      202  2023  incoming\n",
       "10      45     adcb  rakbank   500000      EUR      103  2023  outgoing\n",
       "12      25     adcb     idfc  3244223      EUR      202  2023  incoming\n",
       "14      25     adcb     hdfc  1002313      EUR      103  2023  incoming\n",
       "..     ...      ...      ...      ...      ...      ...   ...       ...\n",
       "814     20  mashreq  rakbank   500000      USD      103  2024  outgoing\n",
       "815     25     adcb     idfc  4000000      EUR      202  2024  incoming\n",
       "817     15  mashreq     hdfc   500000      EUR      202  2023  incoming\n",
       "822     20     adcb     hdfc   400000      USD      202  2024  outgoing\n",
       "825     25  mashreq     hdfc  4000000      EUR      103  2023  incoming\n",
       "\n",
       "[166 rows x 8 columns]"
      ]
     },
     "execution_count": 6,
     "metadata": {},
     "output_type": "execute_result"
    }
   ],
   "source": [
    "df"
   ]
  },
  {
   "cell_type": "code",
   "execution_count": 7,
   "id": "72d6b708",
   "metadata": {},
   "outputs": [],
   "source": [
    "nodes = list(pd.unique(df[['sender', 'receiver']].values.ravel('K')))  #we select sender and receiver banks as nodes in this case and take the unique labels\n"
   ]
  },
  {
   "cell_type": "code",
   "execution_count": 8,
   "id": "4a48789a",
   "metadata": {},
   "outputs": [
    {
     "data": {
      "text/plain": [
       "['adcb', 'mashreq', 'rakbank', 'idfc', 'hdfc']"
      ]
     },
     "execution_count": 8,
     "metadata": {},
     "output_type": "execute_result"
    }
   ],
   "source": [
    "\n",
    "nodes\n",
    "\n",
    "#nodes here would be the banks which acts as a source and target to each other\n",
    "#links are the flows/connections between all of them "
   ]
  },
  {
   "cell_type": "code",
   "execution_count": 9,
   "id": "dfaa18a2",
   "metadata": {},
   "outputs": [],
   "source": [
    "indices={node:i for i,node in enumerate(nodes)}  #indexes of all nodes"
   ]
  },
  {
   "cell_type": "code",
   "execution_count": 10,
   "id": "2a7c4637",
   "metadata": {},
   "outputs": [
    {
     "name": "stdout",
     "output_type": "stream",
     "text": [
      "0      3244223\n",
      "5      9485734\n",
      "10      500000\n",
      "12     3244223\n",
      "14     1002313\n",
      "        ...   \n",
      "814     500000\n",
      "815    4000000\n",
      "817     500000\n",
      "822     400000\n",
      "825    4000000\n",
      "Name: amount, Length: 166, dtype: int32\n",
      "0      0\n",
      "5      0\n",
      "10     0\n",
      "12     0\n",
      "14     0\n",
      "      ..\n",
      "814    1\n",
      "815    0\n",
      "817    1\n",
      "822    0\n",
      "825    1\n",
      "Name: sender, Length: 166, dtype: int64\n",
      "0      2\n",
      "5      2\n",
      "10     2\n",
      "12     3\n",
      "14     4\n",
      "      ..\n",
      "814    2\n",
      "815    3\n",
      "817    4\n",
      "822    4\n",
      "825    4\n",
      "Name: receiver, Length: 166, dtype: int64\n"
     ]
    }
   ],
   "source": [
    "senderindices=df['sender'].map(indices)  #indices of all the senders\n",
    "receiverindices=df['receiver'].map(indices)  #'' receivers\n",
    "amounts=df['amount']\n",
    "print(amounts)\n",
    "print(senderindices)\n",
    "print(receiverindices)"
   ]
  },
  {
   "cell_type": "code",
   "execution_count": 11,
   "id": "ea779a5e",
   "metadata": {},
   "outputs": [],
   "source": [
    "# diagram\n",
    "\n",
    "fig=go.Figure(data=go.Sankey(\n",
    "    node=dict(\n",
    "        pad=25,\n",
    "        thickness=20,\n",
    "        line=dict(color=\"black\",width=0.5),\n",
    "        label=['mfb','adcb','idfc','hdfc'],\n",
    "    ),\n",
    "    link=dict(\n",
    "        source=senderindices,\n",
    "        target=receiverindices,\n",
    "        value=amounts\n",
    "    )\n",
    "))"
   ]
  },
  {
   "cell_type": "code",
   "execution_count": 12,
   "id": "af0a5019",
   "metadata": {},
   "outputs": [
    {
     "data": {
      "application/vnd.plotly.v1+json": {
       "config": {
        "plotlyServerURL": "https://plot.ly"
       },
       "data": [
        {
         "link": {
          "source": [
           0,
           1,
           1,
           0,
           0,
           1,
           1,
           0,
           0,
           0,
           1,
           0,
           1,
           1,
           1,
           1,
           0,
           0,
           1,
           0,
           0,
           1,
           1,
           0,
           0,
           1,
           0,
           1,
           0,
           0,
           1,
           0,
           0,
           1,
           1,
           0,
           0,
           0,
           1,
           1,
           0,
           0,
           0,
           0,
           1,
           1,
           1,
           1,
           0,
           0,
           0,
           1,
           1,
           1,
           0,
           0,
           0,
           0,
           0,
           0,
           1,
           1,
           0,
           1,
           0,
           1,
           0,
           0,
           0,
           1,
           0,
           0,
           0,
           0,
           1,
           0,
           1,
           0,
           1,
           1,
           0,
           0,
           0,
           1,
           1,
           0,
           1,
           1,
           1,
           1,
           0,
           0,
           0,
           0,
           1,
           0,
           1,
           1,
           1,
           1,
           1,
           1,
           0,
           1,
           1,
           1,
           0,
           0,
           0,
           1,
           0,
           0,
           1,
           1,
           0,
           0,
           1,
           1,
           0,
           1,
           0,
           1,
           0,
           0,
           1,
           0,
           1,
           0,
           1,
           0,
           1,
           1,
           0,
           1,
           1,
           1,
           0,
           1,
           1,
           0,
           1,
           1,
           0,
           1,
           1,
           0,
           0,
           1,
           0,
           1,
           0,
           0,
           0,
           0,
           0,
           0,
           0,
           0,
           0,
           1,
           0,
           0,
           1,
           0,
           0,
           0,
           0,
           1,
           0,
           0,
           1
          ],
          "target": [
           2,
           3,
           3,
           3,
           2,
           3,
           4,
           3,
           2,
           3,
           4,
           2,
           3,
           2,
           3,
           4,
           3,
           4,
           3,
           2,
           3,
           2,
           4,
           4,
           2,
           2,
           4,
           4,
           2,
           4,
           2,
           4,
           4,
           2,
           3,
           3,
           2,
           2,
           2,
           3,
           2,
           3,
           3,
           3,
           3,
           4,
           3,
           4,
           3,
           2,
           3,
           2,
           2,
           2,
           3,
           3,
           4,
           4,
           4,
           4,
           2,
           2,
           3,
           4,
           2,
           4,
           2,
           4,
           4,
           4,
           3,
           3,
           3,
           3,
           4,
           4,
           4,
           2,
           3,
           3,
           4,
           2,
           4,
           2,
           3,
           3,
           4,
           3,
           2,
           3,
           4,
           3,
           2,
           4,
           3,
           2,
           3,
           3,
           4,
           4,
           4,
           2,
           3,
           4,
           4,
           4,
           4,
           4,
           2,
           4,
           3,
           3,
           2,
           4,
           2,
           4,
           2,
           2,
           2,
           4,
           3,
           4,
           2,
           4,
           4,
           2,
           4,
           4,
           2,
           4,
           4,
           2,
           3,
           3,
           3,
           3,
           2,
           4,
           2,
           4,
           4,
           4,
           2,
           4,
           3,
           2,
           3,
           3,
           3,
           4,
           4,
           3,
           2,
           3,
           4,
           2,
           3,
           3,
           3,
           4,
           2,
           2,
           2,
           4,
           2,
           2,
           2,
           2,
           3,
           4,
           4
          ],
          "value": [
           9485734,
           500000,
           4000000,
           3244223,
           1002313,
           500000,
           4000000,
           9485734,
           500000,
           9485734,
           500000,
           4000000,
           1002313,
           4000000,
           500000,
           9485734,
           500000,
           3244223,
           9485734,
           500000,
           1002313,
           3244223,
           9485734,
           9485734,
           500000,
           400000,
           3244223,
           1002313,
           9485734,
           1002313,
           3244223,
           4000000,
           3244223,
           9485734,
           400000,
           500000,
           400000,
           1002313,
           4000000,
           500000,
           500000,
           1002313,
           4000000,
           500000,
           3244223,
           1002313,
           3244223,
           4000000,
           4000000,
           9485734,
           1002313,
           400000,
           500000,
           9485734,
           4000000,
           500000,
           1002313,
           3244223,
           3244223,
           500000,
           9485734,
           4000000,
           9485734,
           4000000,
           3244223,
           4000000,
           4000000,
           1002313,
           1002313,
           3244223,
           4000000,
           9485734,
           1002313,
           3244223,
           400000,
           4000000,
           9485734,
           9485734,
           1002313,
           3244223,
           1002313,
           1002313,
           9485734,
           1002313,
           500000,
           9485734,
           3244223,
           500000,
           3244223,
           500000,
           400000,
           500000,
           3244223,
           1002313,
           9485734,
           400000,
           400000,
           500000,
           9485734,
           400000,
           4000000,
           4000000,
           9485734,
           3244223,
           1002313,
           4000000,
           500000,
           1002313,
           3244223,
           9485734,
           3244223,
           9485734,
           9485734,
           3244223,
           3244223,
           9485734,
           500000,
           400000,
           1002313,
           1002313,
           1002313,
           1002313,
           4000000,
           400000,
           4000000,
           3244223,
           400000,
           3244223,
           500000,
           400000,
           3244223,
           400000,
           3244223,
           1002313,
           3244223,
           3244223,
           500000,
           3244223,
           4000000,
           9485734,
           500000,
           4000000,
           4000000,
           4000000,
           9485734,
           9485734,
           400000,
           400000,
           3244223,
           4000000,
           3244223,
           400000,
           3244223,
           4000000,
           4000000,
           500000,
           3244223,
           3244223,
           3244223,
           9485734,
           1002313,
           9485734,
           500000,
           4000000,
           3244223,
           3244223,
           3244223,
           3244223,
           4000000,
           1002313,
           9485734
          ]
         },
         "node": {
          "label": [
           "mfb",
           "adcb",
           "idfc",
           "hdfc"
          ],
          "line": {
           "color": "black",
           "width": 0.5
          },
          "pad": 25,
          "thickness": 20
         },
         "type": "sankey"
        }
       ],
       "layout": {
        "height": 700,
        "template": {
         "data": {
          "bar": [
           {
            "error_x": {
             "color": "#2a3f5f"
            },
            "error_y": {
             "color": "#2a3f5f"
            },
            "marker": {
             "line": {
              "color": "#E5ECF6",
              "width": 0.5
             },
             "pattern": {
              "fillmode": "overlay",
              "size": 10,
              "solidity": 0.2
             }
            },
            "type": "bar"
           }
          ],
          "barpolar": [
           {
            "marker": {
             "line": {
              "color": "#E5ECF6",
              "width": 0.5
             },
             "pattern": {
              "fillmode": "overlay",
              "size": 10,
              "solidity": 0.2
             }
            },
            "type": "barpolar"
           }
          ],
          "carpet": [
           {
            "aaxis": {
             "endlinecolor": "#2a3f5f",
             "gridcolor": "white",
             "linecolor": "white",
             "minorgridcolor": "white",
             "startlinecolor": "#2a3f5f"
            },
            "baxis": {
             "endlinecolor": "#2a3f5f",
             "gridcolor": "white",
             "linecolor": "white",
             "minorgridcolor": "white",
             "startlinecolor": "#2a3f5f"
            },
            "type": "carpet"
           }
          ],
          "choropleth": [
           {
            "colorbar": {
             "outlinewidth": 0,
             "ticks": ""
            },
            "type": "choropleth"
           }
          ],
          "contour": [
           {
            "colorbar": {
             "outlinewidth": 0,
             "ticks": ""
            },
            "colorscale": [
             [
              0,
              "#0d0887"
             ],
             [
              0.1111111111111111,
              "#46039f"
             ],
             [
              0.2222222222222222,
              "#7201a8"
             ],
             [
              0.3333333333333333,
              "#9c179e"
             ],
             [
              0.4444444444444444,
              "#bd3786"
             ],
             [
              0.5555555555555556,
              "#d8576b"
             ],
             [
              0.6666666666666666,
              "#ed7953"
             ],
             [
              0.7777777777777778,
              "#fb9f3a"
             ],
             [
              0.8888888888888888,
              "#fdca26"
             ],
             [
              1,
              "#f0f921"
             ]
            ],
            "type": "contour"
           }
          ],
          "contourcarpet": [
           {
            "colorbar": {
             "outlinewidth": 0,
             "ticks": ""
            },
            "type": "contourcarpet"
           }
          ],
          "heatmap": [
           {
            "colorbar": {
             "outlinewidth": 0,
             "ticks": ""
            },
            "colorscale": [
             [
              0,
              "#0d0887"
             ],
             [
              0.1111111111111111,
              "#46039f"
             ],
             [
              0.2222222222222222,
              "#7201a8"
             ],
             [
              0.3333333333333333,
              "#9c179e"
             ],
             [
              0.4444444444444444,
              "#bd3786"
             ],
             [
              0.5555555555555556,
              "#d8576b"
             ],
             [
              0.6666666666666666,
              "#ed7953"
             ],
             [
              0.7777777777777778,
              "#fb9f3a"
             ],
             [
              0.8888888888888888,
              "#fdca26"
             ],
             [
              1,
              "#f0f921"
             ]
            ],
            "type": "heatmap"
           }
          ],
          "heatmapgl": [
           {
            "colorbar": {
             "outlinewidth": 0,
             "ticks": ""
            },
            "colorscale": [
             [
              0,
              "#0d0887"
             ],
             [
              0.1111111111111111,
              "#46039f"
             ],
             [
              0.2222222222222222,
              "#7201a8"
             ],
             [
              0.3333333333333333,
              "#9c179e"
             ],
             [
              0.4444444444444444,
              "#bd3786"
             ],
             [
              0.5555555555555556,
              "#d8576b"
             ],
             [
              0.6666666666666666,
              "#ed7953"
             ],
             [
              0.7777777777777778,
              "#fb9f3a"
             ],
             [
              0.8888888888888888,
              "#fdca26"
             ],
             [
              1,
              "#f0f921"
             ]
            ],
            "type": "heatmapgl"
           }
          ],
          "histogram": [
           {
            "marker": {
             "pattern": {
              "fillmode": "overlay",
              "size": 10,
              "solidity": 0.2
             }
            },
            "type": "histogram"
           }
          ],
          "histogram2d": [
           {
            "colorbar": {
             "outlinewidth": 0,
             "ticks": ""
            },
            "colorscale": [
             [
              0,
              "#0d0887"
             ],
             [
              0.1111111111111111,
              "#46039f"
             ],
             [
              0.2222222222222222,
              "#7201a8"
             ],
             [
              0.3333333333333333,
              "#9c179e"
             ],
             [
              0.4444444444444444,
              "#bd3786"
             ],
             [
              0.5555555555555556,
              "#d8576b"
             ],
             [
              0.6666666666666666,
              "#ed7953"
             ],
             [
              0.7777777777777778,
              "#fb9f3a"
             ],
             [
              0.8888888888888888,
              "#fdca26"
             ],
             [
              1,
              "#f0f921"
             ]
            ],
            "type": "histogram2d"
           }
          ],
          "histogram2dcontour": [
           {
            "colorbar": {
             "outlinewidth": 0,
             "ticks": ""
            },
            "colorscale": [
             [
              0,
              "#0d0887"
             ],
             [
              0.1111111111111111,
              "#46039f"
             ],
             [
              0.2222222222222222,
              "#7201a8"
             ],
             [
              0.3333333333333333,
              "#9c179e"
             ],
             [
              0.4444444444444444,
              "#bd3786"
             ],
             [
              0.5555555555555556,
              "#d8576b"
             ],
             [
              0.6666666666666666,
              "#ed7953"
             ],
             [
              0.7777777777777778,
              "#fb9f3a"
             ],
             [
              0.8888888888888888,
              "#fdca26"
             ],
             [
              1,
              "#f0f921"
             ]
            ],
            "type": "histogram2dcontour"
           }
          ],
          "mesh3d": [
           {
            "colorbar": {
             "outlinewidth": 0,
             "ticks": ""
            },
            "type": "mesh3d"
           }
          ],
          "parcoords": [
           {
            "line": {
             "colorbar": {
              "outlinewidth": 0,
              "ticks": ""
             }
            },
            "type": "parcoords"
           }
          ],
          "pie": [
           {
            "automargin": true,
            "type": "pie"
           }
          ],
          "scatter": [
           {
            "fillpattern": {
             "fillmode": "overlay",
             "size": 10,
             "solidity": 0.2
            },
            "type": "scatter"
           }
          ],
          "scatter3d": [
           {
            "line": {
             "colorbar": {
              "outlinewidth": 0,
              "ticks": ""
             }
            },
            "marker": {
             "colorbar": {
              "outlinewidth": 0,
              "ticks": ""
             }
            },
            "type": "scatter3d"
           }
          ],
          "scattercarpet": [
           {
            "marker": {
             "colorbar": {
              "outlinewidth": 0,
              "ticks": ""
             }
            },
            "type": "scattercarpet"
           }
          ],
          "scattergeo": [
           {
            "marker": {
             "colorbar": {
              "outlinewidth": 0,
              "ticks": ""
             }
            },
            "type": "scattergeo"
           }
          ],
          "scattergl": [
           {
            "marker": {
             "colorbar": {
              "outlinewidth": 0,
              "ticks": ""
             }
            },
            "type": "scattergl"
           }
          ],
          "scattermapbox": [
           {
            "marker": {
             "colorbar": {
              "outlinewidth": 0,
              "ticks": ""
             }
            },
            "type": "scattermapbox"
           }
          ],
          "scatterpolar": [
           {
            "marker": {
             "colorbar": {
              "outlinewidth": 0,
              "ticks": ""
             }
            },
            "type": "scatterpolar"
           }
          ],
          "scatterpolargl": [
           {
            "marker": {
             "colorbar": {
              "outlinewidth": 0,
              "ticks": ""
             }
            },
            "type": "scatterpolargl"
           }
          ],
          "scatterternary": [
           {
            "marker": {
             "colorbar": {
              "outlinewidth": 0,
              "ticks": ""
             }
            },
            "type": "scatterternary"
           }
          ],
          "surface": [
           {
            "colorbar": {
             "outlinewidth": 0,
             "ticks": ""
            },
            "colorscale": [
             [
              0,
              "#0d0887"
             ],
             [
              0.1111111111111111,
              "#46039f"
             ],
             [
              0.2222222222222222,
              "#7201a8"
             ],
             [
              0.3333333333333333,
              "#9c179e"
             ],
             [
              0.4444444444444444,
              "#bd3786"
             ],
             [
              0.5555555555555556,
              "#d8576b"
             ],
             [
              0.6666666666666666,
              "#ed7953"
             ],
             [
              0.7777777777777778,
              "#fb9f3a"
             ],
             [
              0.8888888888888888,
              "#fdca26"
             ],
             [
              1,
              "#f0f921"
             ]
            ],
            "type": "surface"
           }
          ],
          "table": [
           {
            "cells": {
             "fill": {
              "color": "#EBF0F8"
             },
             "line": {
              "color": "white"
             }
            },
            "header": {
             "fill": {
              "color": "#C8D4E3"
             },
             "line": {
              "color": "white"
             }
            },
            "type": "table"
           }
          ]
         },
         "layout": {
          "annotationdefaults": {
           "arrowcolor": "#2a3f5f",
           "arrowhead": 0,
           "arrowwidth": 1
          },
          "autotypenumbers": "strict",
          "coloraxis": {
           "colorbar": {
            "outlinewidth": 0,
            "ticks": ""
           }
          },
          "colorscale": {
           "diverging": [
            [
             0,
             "#8e0152"
            ],
            [
             0.1,
             "#c51b7d"
            ],
            [
             0.2,
             "#de77ae"
            ],
            [
             0.3,
             "#f1b6da"
            ],
            [
             0.4,
             "#fde0ef"
            ],
            [
             0.5,
             "#f7f7f7"
            ],
            [
             0.6,
             "#e6f5d0"
            ],
            [
             0.7,
             "#b8e186"
            ],
            [
             0.8,
             "#7fbc41"
            ],
            [
             0.9,
             "#4d9221"
            ],
            [
             1,
             "#276419"
            ]
           ],
           "sequential": [
            [
             0,
             "#0d0887"
            ],
            [
             0.1111111111111111,
             "#46039f"
            ],
            [
             0.2222222222222222,
             "#7201a8"
            ],
            [
             0.3333333333333333,
             "#9c179e"
            ],
            [
             0.4444444444444444,
             "#bd3786"
            ],
            [
             0.5555555555555556,
             "#d8576b"
            ],
            [
             0.6666666666666666,
             "#ed7953"
            ],
            [
             0.7777777777777778,
             "#fb9f3a"
            ],
            [
             0.8888888888888888,
             "#fdca26"
            ],
            [
             1,
             "#f0f921"
            ]
           ],
           "sequentialminus": [
            [
             0,
             "#0d0887"
            ],
            [
             0.1111111111111111,
             "#46039f"
            ],
            [
             0.2222222222222222,
             "#7201a8"
            ],
            [
             0.3333333333333333,
             "#9c179e"
            ],
            [
             0.4444444444444444,
             "#bd3786"
            ],
            [
             0.5555555555555556,
             "#d8576b"
            ],
            [
             0.6666666666666666,
             "#ed7953"
            ],
            [
             0.7777777777777778,
             "#fb9f3a"
            ],
            [
             0.8888888888888888,
             "#fdca26"
            ],
            [
             1,
             "#f0f921"
            ]
           ]
          },
          "colorway": [
           "#636efa",
           "#EF553B",
           "#00cc96",
           "#ab63fa",
           "#FFA15A",
           "#19d3f3",
           "#FF6692",
           "#B6E880",
           "#FF97FF",
           "#FECB52"
          ],
          "font": {
           "color": "#2a3f5f"
          },
          "geo": {
           "bgcolor": "white",
           "lakecolor": "white",
           "landcolor": "#E5ECF6",
           "showlakes": true,
           "showland": true,
           "subunitcolor": "white"
          },
          "hoverlabel": {
           "align": "left"
          },
          "hovermode": "closest",
          "mapbox": {
           "style": "light"
          },
          "paper_bgcolor": "white",
          "plot_bgcolor": "#E5ECF6",
          "polar": {
           "angularaxis": {
            "gridcolor": "white",
            "linecolor": "white",
            "ticks": ""
           },
           "bgcolor": "#E5ECF6",
           "radialaxis": {
            "gridcolor": "white",
            "linecolor": "white",
            "ticks": ""
           }
          },
          "scene": {
           "xaxis": {
            "backgroundcolor": "#E5ECF6",
            "gridcolor": "white",
            "gridwidth": 2,
            "linecolor": "white",
            "showbackground": true,
            "ticks": "",
            "zerolinecolor": "white"
           },
           "yaxis": {
            "backgroundcolor": "#E5ECF6",
            "gridcolor": "white",
            "gridwidth": 2,
            "linecolor": "white",
            "showbackground": true,
            "ticks": "",
            "zerolinecolor": "white"
           },
           "zaxis": {
            "backgroundcolor": "#E5ECF6",
            "gridcolor": "white",
            "gridwidth": 2,
            "linecolor": "white",
            "showbackground": true,
            "ticks": "",
            "zerolinecolor": "white"
           }
          },
          "shapedefaults": {
           "line": {
            "color": "#2a3f5f"
           }
          },
          "ternary": {
           "aaxis": {
            "gridcolor": "white",
            "linecolor": "white",
            "ticks": ""
           },
           "baxis": {
            "gridcolor": "white",
            "linecolor": "white",
            "ticks": ""
           },
           "bgcolor": "#E5ECF6",
           "caxis": {
            "gridcolor": "white",
            "linecolor": "white",
            "ticks": ""
           }
          },
          "title": {
           "x": 0.05
          },
          "xaxis": {
           "automargin": true,
           "gridcolor": "white",
           "linecolor": "white",
           "ticks": "",
           "title": {
            "standoff": 15
           },
           "zerolinecolor": "white",
           "zerolinewidth": 2
          },
          "yaxis": {
           "automargin": true,
           "gridcolor": "white",
           "linecolor": "white",
           "ticks": "",
           "title": {
            "standoff": 15
           },
           "zerolinecolor": "white",
           "zerolinewidth": 2
          }
         }
        },
        "title": {
         "text": "Sankey Diagram"
        },
        "width": 800
       }
      }
     },
     "metadata": {},
     "output_type": "display_data"
    }
   ],
   "source": [
    "fig.update_layout(title_text=\"Sankey Diagram\",width=800,height=700)\n",
    "fig.show()"
   ]
  },
  {
   "cell_type": "code",
   "execution_count": 17,
   "id": "4981e3ac",
   "metadata": {},
   "outputs": [
    {
     "name": "stderr",
     "output_type": "stream",
     "text": [
      "C:\\Users\\joshu\\AppData\\Local\\Temp\\ipykernel_18608\\216848560.py:44: FutureWarning:\n",
      "\n",
      "The default of observed=False is deprecated and will be changed to True in a future version of pandas. Pass observed=False to retain current behavior or observed=True to adopt the future default and silence this warning.\n",
      "\n",
      "C:\\Users\\joshu\\AppData\\Local\\Temp\\ipykernel_18608\\216848560.py:45: FutureWarning:\n",
      "\n",
      "The default of observed=False is deprecated and will be changed to True in a future version of pandas. Pass observed=False to retain current behavior or observed=True to adopt the future default and silence this warning.\n",
      "\n",
      "C:\\Users\\joshu\\AppData\\Local\\Temp\\ipykernel_18608\\216848560.py:50: FutureWarning:\n",
      "\n",
      "unique with argument that is not not a Series, Index, ExtensionArray, or np.ndarray is deprecated and will raise in a future version.\n",
      "\n"
     ]
    },
    {
     "data": {
      "application/vnd.plotly.v1+json": {
       "config": {
        "plotlyServerURL": "https://plot.ly"
       },
       "data": [
        {
         "arrangement": "snap",
         "link": {
          "source": [
           0,
           0,
           1,
           1,
           2,
           2,
           3,
           3,
           4,
           4,
           5,
           5,
           6,
           6,
           6,
           7,
           7,
           7,
           8,
           8,
           8,
           9,
           9,
           9,
           10,
           10,
           10,
           11,
           11,
           12,
           12,
           13,
           13,
           14,
           14,
           14,
           14,
           14,
           14,
           15,
           15,
           15,
           15,
           15,
           15
          ],
          "target": [
           6,
           7,
           6,
           7,
           6,
           7,
           6,
           7,
           6,
           7,
           6,
           7,
           8,
           9,
           10,
           8,
           9,
           10,
           11,
           12,
           13,
           11,
           12,
           13,
           11,
           12,
           13,
           14,
           15,
           14,
           15,
           14,
           15,
           0,
           1,
           2,
           3,
           4,
           5,
           0,
           1,
           2,
           3,
           4,
           5
          ],
          "value": [
           238906143,
           176443495,
           330015443,
           147281667,
           260099114,
           146382066,
           345246904,
           116649796,
           306512810,
           149695545,
           242639211,
           161025401,
           78800000,
           762446363,
           882173262,
           31500000,
           448605674,
           417372296,
           54400000,
           17100000,
           38800000,
           550575715,
           230621799,
           429854523,
           626058444,
           227657616,
           445829498,
           656882526,
           574151633,
           245093679,
           230285736,
           390845889,
           523638132,
           231305632,
           242467550,
           208573362,
           225117298,
           201800491,
           183557761,
           209061909,
           228187740,
           243184848,
           225753067,
           192183103,
           229704834
          ]
         },
         "node": {
          "label": [
           "adcb",
           "hdfc",
           "idfc",
           "mashreq",
           "mfb",
           "rakbank",
           "2023",
           "2024",
           "low",
           "medium",
           "high",
           "103",
           "104",
           "202",
           "incoming",
           "outgoing"
          ],
          "line": {
           "color": "black",
           "width": 0.5
          },
          "pad": 20,
          "thickness": 20
         },
         "type": "sankey"
        }
       ],
       "layout": {
        "font": {
         "size": 12
        },
        "template": {
         "data": {
          "bar": [
           {
            "error_x": {
             "color": "#2a3f5f"
            },
            "error_y": {
             "color": "#2a3f5f"
            },
            "marker": {
             "line": {
              "color": "#E5ECF6",
              "width": 0.5
             },
             "pattern": {
              "fillmode": "overlay",
              "size": 10,
              "solidity": 0.2
             }
            },
            "type": "bar"
           }
          ],
          "barpolar": [
           {
            "marker": {
             "line": {
              "color": "#E5ECF6",
              "width": 0.5
             },
             "pattern": {
              "fillmode": "overlay",
              "size": 10,
              "solidity": 0.2
             }
            },
            "type": "barpolar"
           }
          ],
          "carpet": [
           {
            "aaxis": {
             "endlinecolor": "#2a3f5f",
             "gridcolor": "white",
             "linecolor": "white",
             "minorgridcolor": "white",
             "startlinecolor": "#2a3f5f"
            },
            "baxis": {
             "endlinecolor": "#2a3f5f",
             "gridcolor": "white",
             "linecolor": "white",
             "minorgridcolor": "white",
             "startlinecolor": "#2a3f5f"
            },
            "type": "carpet"
           }
          ],
          "choropleth": [
           {
            "colorbar": {
             "outlinewidth": 0,
             "ticks": ""
            },
            "type": "choropleth"
           }
          ],
          "contour": [
           {
            "colorbar": {
             "outlinewidth": 0,
             "ticks": ""
            },
            "colorscale": [
             [
              0,
              "#0d0887"
             ],
             [
              0.1111111111111111,
              "#46039f"
             ],
             [
              0.2222222222222222,
              "#7201a8"
             ],
             [
              0.3333333333333333,
              "#9c179e"
             ],
             [
              0.4444444444444444,
              "#bd3786"
             ],
             [
              0.5555555555555556,
              "#d8576b"
             ],
             [
              0.6666666666666666,
              "#ed7953"
             ],
             [
              0.7777777777777778,
              "#fb9f3a"
             ],
             [
              0.8888888888888888,
              "#fdca26"
             ],
             [
              1,
              "#f0f921"
             ]
            ],
            "type": "contour"
           }
          ],
          "contourcarpet": [
           {
            "colorbar": {
             "outlinewidth": 0,
             "ticks": ""
            },
            "type": "contourcarpet"
           }
          ],
          "heatmap": [
           {
            "colorbar": {
             "outlinewidth": 0,
             "ticks": ""
            },
            "colorscale": [
             [
              0,
              "#0d0887"
             ],
             [
              0.1111111111111111,
              "#46039f"
             ],
             [
              0.2222222222222222,
              "#7201a8"
             ],
             [
              0.3333333333333333,
              "#9c179e"
             ],
             [
              0.4444444444444444,
              "#bd3786"
             ],
             [
              0.5555555555555556,
              "#d8576b"
             ],
             [
              0.6666666666666666,
              "#ed7953"
             ],
             [
              0.7777777777777778,
              "#fb9f3a"
             ],
             [
              0.8888888888888888,
              "#fdca26"
             ],
             [
              1,
              "#f0f921"
             ]
            ],
            "type": "heatmap"
           }
          ],
          "heatmapgl": [
           {
            "colorbar": {
             "outlinewidth": 0,
             "ticks": ""
            },
            "colorscale": [
             [
              0,
              "#0d0887"
             ],
             [
              0.1111111111111111,
              "#46039f"
             ],
             [
              0.2222222222222222,
              "#7201a8"
             ],
             [
              0.3333333333333333,
              "#9c179e"
             ],
             [
              0.4444444444444444,
              "#bd3786"
             ],
             [
              0.5555555555555556,
              "#d8576b"
             ],
             [
              0.6666666666666666,
              "#ed7953"
             ],
             [
              0.7777777777777778,
              "#fb9f3a"
             ],
             [
              0.8888888888888888,
              "#fdca26"
             ],
             [
              1,
              "#f0f921"
             ]
            ],
            "type": "heatmapgl"
           }
          ],
          "histogram": [
           {
            "marker": {
             "pattern": {
              "fillmode": "overlay",
              "size": 10,
              "solidity": 0.2
             }
            },
            "type": "histogram"
           }
          ],
          "histogram2d": [
           {
            "colorbar": {
             "outlinewidth": 0,
             "ticks": ""
            },
            "colorscale": [
             [
              0,
              "#0d0887"
             ],
             [
              0.1111111111111111,
              "#46039f"
             ],
             [
              0.2222222222222222,
              "#7201a8"
             ],
             [
              0.3333333333333333,
              "#9c179e"
             ],
             [
              0.4444444444444444,
              "#bd3786"
             ],
             [
              0.5555555555555556,
              "#d8576b"
             ],
             [
              0.6666666666666666,
              "#ed7953"
             ],
             [
              0.7777777777777778,
              "#fb9f3a"
             ],
             [
              0.8888888888888888,
              "#fdca26"
             ],
             [
              1,
              "#f0f921"
             ]
            ],
            "type": "histogram2d"
           }
          ],
          "histogram2dcontour": [
           {
            "colorbar": {
             "outlinewidth": 0,
             "ticks": ""
            },
            "colorscale": [
             [
              0,
              "#0d0887"
             ],
             [
              0.1111111111111111,
              "#46039f"
             ],
             [
              0.2222222222222222,
              "#7201a8"
             ],
             [
              0.3333333333333333,
              "#9c179e"
             ],
             [
              0.4444444444444444,
              "#bd3786"
             ],
             [
              0.5555555555555556,
              "#d8576b"
             ],
             [
              0.6666666666666666,
              "#ed7953"
             ],
             [
              0.7777777777777778,
              "#fb9f3a"
             ],
             [
              0.8888888888888888,
              "#fdca26"
             ],
             [
              1,
              "#f0f921"
             ]
            ],
            "type": "histogram2dcontour"
           }
          ],
          "mesh3d": [
           {
            "colorbar": {
             "outlinewidth": 0,
             "ticks": ""
            },
            "type": "mesh3d"
           }
          ],
          "parcoords": [
           {
            "line": {
             "colorbar": {
              "outlinewidth": 0,
              "ticks": ""
             }
            },
            "type": "parcoords"
           }
          ],
          "pie": [
           {
            "automargin": true,
            "type": "pie"
           }
          ],
          "scatter": [
           {
            "fillpattern": {
             "fillmode": "overlay",
             "size": 10,
             "solidity": 0.2
            },
            "type": "scatter"
           }
          ],
          "scatter3d": [
           {
            "line": {
             "colorbar": {
              "outlinewidth": 0,
              "ticks": ""
             }
            },
            "marker": {
             "colorbar": {
              "outlinewidth": 0,
              "ticks": ""
             }
            },
            "type": "scatter3d"
           }
          ],
          "scattercarpet": [
           {
            "marker": {
             "colorbar": {
              "outlinewidth": 0,
              "ticks": ""
             }
            },
            "type": "scattercarpet"
           }
          ],
          "scattergeo": [
           {
            "marker": {
             "colorbar": {
              "outlinewidth": 0,
              "ticks": ""
             }
            },
            "type": "scattergeo"
           }
          ],
          "scattergl": [
           {
            "marker": {
             "colorbar": {
              "outlinewidth": 0,
              "ticks": ""
             }
            },
            "type": "scattergl"
           }
          ],
          "scattermapbox": [
           {
            "marker": {
             "colorbar": {
              "outlinewidth": 0,
              "ticks": ""
             }
            },
            "type": "scattermapbox"
           }
          ],
          "scatterpolar": [
           {
            "marker": {
             "colorbar": {
              "outlinewidth": 0,
              "ticks": ""
             }
            },
            "type": "scatterpolar"
           }
          ],
          "scatterpolargl": [
           {
            "marker": {
             "colorbar": {
              "outlinewidth": 0,
              "ticks": ""
             }
            },
            "type": "scatterpolargl"
           }
          ],
          "scatterternary": [
           {
            "marker": {
             "colorbar": {
              "outlinewidth": 0,
              "ticks": ""
             }
            },
            "type": "scatterternary"
           }
          ],
          "surface": [
           {
            "colorbar": {
             "outlinewidth": 0,
             "ticks": ""
            },
            "colorscale": [
             [
              0,
              "#0d0887"
             ],
             [
              0.1111111111111111,
              "#46039f"
             ],
             [
              0.2222222222222222,
              "#7201a8"
             ],
             [
              0.3333333333333333,
              "#9c179e"
             ],
             [
              0.4444444444444444,
              "#bd3786"
             ],
             [
              0.5555555555555556,
              "#d8576b"
             ],
             [
              0.6666666666666666,
              "#ed7953"
             ],
             [
              0.7777777777777778,
              "#fb9f3a"
             ],
             [
              0.8888888888888888,
              "#fdca26"
             ],
             [
              1,
              "#f0f921"
             ]
            ],
            "type": "surface"
           }
          ],
          "table": [
           {
            "cells": {
             "fill": {
              "color": "#EBF0F8"
             },
             "line": {
              "color": "white"
             }
            },
            "header": {
             "fill": {
              "color": "#C8D4E3"
             },
             "line": {
              "color": "white"
             }
            },
            "type": "table"
           }
          ]
         },
         "layout": {
          "annotationdefaults": {
           "arrowcolor": "#2a3f5f",
           "arrowhead": 0,
           "arrowwidth": 1
          },
          "autotypenumbers": "strict",
          "coloraxis": {
           "colorbar": {
            "outlinewidth": 0,
            "ticks": ""
           }
          },
          "colorscale": {
           "diverging": [
            [
             0,
             "#8e0152"
            ],
            [
             0.1,
             "#c51b7d"
            ],
            [
             0.2,
             "#de77ae"
            ],
            [
             0.3,
             "#f1b6da"
            ],
            [
             0.4,
             "#fde0ef"
            ],
            [
             0.5,
             "#f7f7f7"
            ],
            [
             0.6,
             "#e6f5d0"
            ],
            [
             0.7,
             "#b8e186"
            ],
            [
             0.8,
             "#7fbc41"
            ],
            [
             0.9,
             "#4d9221"
            ],
            [
             1,
             "#276419"
            ]
           ],
           "sequential": [
            [
             0,
             "#0d0887"
            ],
            [
             0.1111111111111111,
             "#46039f"
            ],
            [
             0.2222222222222222,
             "#7201a8"
            ],
            [
             0.3333333333333333,
             "#9c179e"
            ],
            [
             0.4444444444444444,
             "#bd3786"
            ],
            [
             0.5555555555555556,
             "#d8576b"
            ],
            [
             0.6666666666666666,
             "#ed7953"
            ],
            [
             0.7777777777777778,
             "#fb9f3a"
            ],
            [
             0.8888888888888888,
             "#fdca26"
            ],
            [
             1,
             "#f0f921"
            ]
           ],
           "sequentialminus": [
            [
             0,
             "#0d0887"
            ],
            [
             0.1111111111111111,
             "#46039f"
            ],
            [
             0.2222222222222222,
             "#7201a8"
            ],
            [
             0.3333333333333333,
             "#9c179e"
            ],
            [
             0.4444444444444444,
             "#bd3786"
            ],
            [
             0.5555555555555556,
             "#d8576b"
            ],
            [
             0.6666666666666666,
             "#ed7953"
            ],
            [
             0.7777777777777778,
             "#fb9f3a"
            ],
            [
             0.8888888888888888,
             "#fdca26"
            ],
            [
             1,
             "#f0f921"
            ]
           ]
          },
          "colorway": [
           "#636efa",
           "#EF553B",
           "#00cc96",
           "#ab63fa",
           "#FFA15A",
           "#19d3f3",
           "#FF6692",
           "#B6E880",
           "#FF97FF",
           "#FECB52"
          ],
          "font": {
           "color": "#2a3f5f"
          },
          "geo": {
           "bgcolor": "white",
           "lakecolor": "white",
           "landcolor": "#E5ECF6",
           "showlakes": true,
           "showland": true,
           "subunitcolor": "white"
          },
          "hoverlabel": {
           "align": "left"
          },
          "hovermode": "closest",
          "mapbox": {
           "style": "light"
          },
          "paper_bgcolor": "white",
          "plot_bgcolor": "#E5ECF6",
          "polar": {
           "angularaxis": {
            "gridcolor": "white",
            "linecolor": "white",
            "ticks": ""
           },
           "bgcolor": "#E5ECF6",
           "radialaxis": {
            "gridcolor": "white",
            "linecolor": "white",
            "ticks": ""
           }
          },
          "scene": {
           "xaxis": {
            "backgroundcolor": "#E5ECF6",
            "gridcolor": "white",
            "gridwidth": 2,
            "linecolor": "white",
            "showbackground": true,
            "ticks": "",
            "zerolinecolor": "white"
           },
           "yaxis": {
            "backgroundcolor": "#E5ECF6",
            "gridcolor": "white",
            "gridwidth": 2,
            "linecolor": "white",
            "showbackground": true,
            "ticks": "",
            "zerolinecolor": "white"
           },
           "zaxis": {
            "backgroundcolor": "#E5ECF6",
            "gridcolor": "white",
            "gridwidth": 2,
            "linecolor": "white",
            "showbackground": true,
            "ticks": "",
            "zerolinecolor": "white"
           }
          },
          "shapedefaults": {
           "line": {
            "color": "#2a3f5f"
           }
          },
          "ternary": {
           "aaxis": {
            "gridcolor": "white",
            "linecolor": "white",
            "ticks": ""
           },
           "baxis": {
            "gridcolor": "white",
            "linecolor": "white",
            "ticks": ""
           },
           "bgcolor": "#E5ECF6",
           "caxis": {
            "gridcolor": "white",
            "linecolor": "white",
            "ticks": ""
           }
          },
          "title": {
           "x": 0.05
          },
          "xaxis": {
           "automargin": true,
           "gridcolor": "white",
           "linecolor": "white",
           "ticks": "",
           "title": {
            "standoff": 15
           },
           "zerolinecolor": "white",
           "zerolinewidth": 2
          },
          "yaxis": {
           "automargin": true,
           "gridcolor": "white",
           "linecolor": "white",
           "ticks": "",
           "title": {
            "standoff": 15
           },
           "zerolinecolor": "white",
           "zerolinewidth": 2
          }
         }
        },
        "title": {
         "text": "Transaction Flow from Sender to Receiver"
        }
       }
      }
     },
     "metadata": {},
     "output_type": "display_data"
    }
   ],
   "source": [
    "import pandas as pd\n",
    "import numpy as np\n",
    "import plotly.graph_objects as go\n",
    "\n",
    "# Sample data\n",
    "data = {\n",
    "    \"count\": [25, 45, 15, 20, 25, 20],\n",
    "    \"sender\": ['mfb', 'adcb', 'hdfc', 'idfc', 'mashreq', 'rakbank'],\n",
    "    \"receiver\": ['adcb', 'mfb', 'idfc', 'hdfc', 'rakbank', 'mashreq'],\n",
    "    \"amount\": [4000000, 500000, 400000, 1002313, 3244223, 9485734],\n",
    "    \"currency\": ['EUR', 'EUR', 'USD', 'USD', 'USD', 'EUR'],\n",
    "    \"mt_type\": [103, 202, 103, 104, 202, 103],\n",
    "    \"year\": [2024, 2023, 2023, 2023, 2024, 2023],\n",
    "    \"direction\": ['outgoing', 'incoming', 'outgoing', 'incoming', 'outgoing', 'incoming']\n",
    "}\n",
    "\n",
    "df = pd.DataFrame(data)\n",
    "\n",
    "# Simulate more samples\n",
    "num_samples = 1000\n",
    "simulated_df = pd.DataFrame({\n",
    "    \"count\": np.random.choice(data[\"count\"], num_samples),\n",
    "    \"sender\": np.random.choice(data[\"sender\"], num_samples),\n",
    "    \"receiver\": np.random.choice(data[\"receiver\"], num_samples),\n",
    "    \"amount\": np.random.choice(data[\"amount\"], num_samples),\n",
    "    \"currency\": np.random.choice(data[\"currency\"], num_samples),\n",
    "    \"mt_type\": np.random.choice(data[\"mt_type\"], num_samples),\n",
    "    \"year\": np.random.choice(data[\"year\"], num_samples),\n",
    "    \"direction\": np.random.choice(data[\"direction\"], num_samples),\n",
    "})\n",
    "# Filter out sender == receiver\n",
    "simulated_df = simulated_df[simulated_df['sender'] != simulated_df['receiver']].reset_index(drop=True)\n",
    "df = simulated_df\n",
    "\n",
    "# Amount range binning\n",
    "df['amount_range'] = pd.cut(df['amount'], bins=[0, 1e6, 5e6, 1e7], labels=['low', 'medium', 'high'])\n",
    "\n",
    "# Convert to string for label compatibility\n",
    "df['year'] = df['year'].astype(str)\n",
    "df['mt_type'] = df['mt_type'].astype(str)\n",
    "\n",
    "# Create all flow segments\n",
    "flow1 = df.groupby(['sender', 'year'])['amount'].sum().reset_index()\n",
    "flow2 = df.groupby(['year', 'amount_range'])['amount'].sum().reset_index()\n",
    "flow3 = df.groupby(['amount_range', 'mt_type'])['amount'].sum().reset_index()\n",
    "flow4 = df.groupby(['mt_type', 'direction'])['amount'].sum().reset_index()\n",
    "flow5 = df.groupby(['direction', 'receiver'])['amount'].sum().reset_index()\n",
    "\n",
    "# All labels\n",
    "labels = pd.unique(\n",
    "    flow1['sender'].tolist() +\n",
    "    flow1['year'].tolist() +\n",
    "    flow2['amount_range'].astype(str).tolist() +\n",
    "    flow3['mt_type'].astype(str).tolist() +\n",
    "    flow4['direction'].tolist() +\n",
    "    flow5['receiver'].tolist()\n",
    ")\n",
    "\n",
    "# Mapping label to index\n",
    "label_to_index = {label: i for i, label in enumerate(labels)}\n",
    "\n",
    "# Create source, target, value lists\n",
    "source, target, value = [], [], []\n",
    "\n",
    "# Flow 1: sender → year\n",
    "for _, row in flow1.iterrows():\n",
    "    source.append(label_to_index[row['sender']])\n",
    "    target.append(label_to_index[row['year']])\n",
    "    value.append(row['amount'])\n",
    "\n",
    "# Flow 2: year → amount_range\n",
    "for _, row in flow2.iterrows():\n",
    "    source.append(label_to_index[row['year']])\n",
    "    target.append(label_to_index[str(row['amount_range'])])\n",
    "    value.append(row['amount'])\n",
    "\n",
    "# Flow 3: amount_range → mt_type\n",
    "for _, row in flow3.iterrows():\n",
    "    source.append(label_to_index[str(row['amount_range'])])\n",
    "    target.append(label_to_index[str(row['mt_type'])])\n",
    "    value.append(row['amount'])\n",
    "\n",
    "# Flow 4: mt_type → direction\n",
    "for _, row in flow4.iterrows():\n",
    "    source.append(label_to_index[str(row['mt_type'])])\n",
    "    target.append(label_to_index[row['direction']])\n",
    "    value.append(row['amount'])\n",
    "\n",
    "# Flow 5: direction → receiver\n",
    "for _, row in flow5.iterrows():\n",
    "    source.append(label_to_index[row['direction']])\n",
    "    target.append(label_to_index[row['receiver']])\n",
    "    value.append(row['amount'])\n",
    "\n",
    "# Plot Sankey\n",
    "fig = go.Figure(data=[go.Sankey(\n",
    "    arrangement=\"snap\",\n",
    "    node=dict(\n",
    "        pad=20,\n",
    "        thickness=20,\n",
    "        line=dict(color=\"black\", width=0.5),\n",
    "        label=list(labels)\n",
    "    ),\n",
    "    link=dict(\n",
    "        source=source,\n",
    "        target=target,\n",
    "        value=value\n",
    "    )\n",
    ")])\n",
    "\n",
    "fig.update_layout(title_text=\"Transaction Flow from Sender to Receiver\", font_size=12)\n",
    "fig.show()\n"
   ]
  },
  {
   "cell_type": "code",
   "execution_count": 27,
   "id": "fa5b96cd",
   "metadata": {},
   "outputs": [],
   "source": [
    "reverse_label_map = {v: k for k, v in label_to_index.items()}\n",
    "\n",
    "color_map = {\n",
    "    'mfbb': 'rgba(255,0,0,0.6)',\n",
    "    'adcb': 'rgba(0,255,0,0.6)',\n",
    "    'mashreq': 'rgba(0,0,255,0.6)',\n",
    "    '2023': 'rgba(255,165,0,0.6)',\n",
    "    '2024': 'rgba(0,128,128,0.6)',\n",
    "    'low': 'rgba(173,216,230,0.6)',\n",
    "    'medium': 'rgba(100,149,237,0.6)',\n",
    "    'high': 'rgba(25,25,112,0.6)',\n",
    "    '103': 'rgba(186,85,211,0.6)',\n",
    "    '104': 'rgba(199,21,133,0.6)',\n",
    "    '202': 'rgba(75,0,130,0.6)',\n",
    "    'incoming': 'rgba(30,144,255,0.6)',\n",
    "    'outgoing': 'rgba(220,20,60,0.6)'\n",
    "}\n",
    "\n",
    "node_colors = [color_map.get(str(label), 'rgba(150,150,150,0.4)') for label in labels]\n",
    "\n",
    "link_colors = []\n",
    "for s in source:\n",
    "    label = reverse_label_map[s]\n",
    "    link_colors.append(color_map.get(str(label), 'rgba(150,150,150,0.4)'))"
   ]
  },
  {
   "cell_type": "code",
   "execution_count": 54,
   "id": "69290d13",
   "metadata": {},
   "outputs": [
    {
     "name": "stderr",
     "output_type": "stream",
     "text": [
      "C:\\Users\\joshu\\AppData\\Local\\Temp\\ipykernel_18608\\2836616570.py:39: SettingWithCopyWarning:\n",
      "\n",
      "\n",
      "A value is trying to be set on a copy of a slice from a DataFrame.\n",
      "Try using .loc[row_indexer,col_indexer] = value instead\n",
      "\n",
      "See the caveats in the documentation: https://pandas.pydata.org/pandas-docs/stable/user_guide/indexing.html#returning-a-view-versus-a-copy\n",
      "\n",
      "C:\\Users\\joshu\\AppData\\Local\\Temp\\ipykernel_18608\\2836616570.py:42: SettingWithCopyWarning:\n",
      "\n",
      "\n",
      "A value is trying to be set on a copy of a slice from a DataFrame.\n",
      "Try using .loc[row_indexer,col_indexer] = value instead\n",
      "\n",
      "See the caveats in the documentation: https://pandas.pydata.org/pandas-docs/stable/user_guide/indexing.html#returning-a-view-versus-a-copy\n",
      "\n",
      "C:\\Users\\joshu\\AppData\\Local\\Temp\\ipykernel_18608\\2836616570.py:43: SettingWithCopyWarning:\n",
      "\n",
      "\n",
      "A value is trying to be set on a copy of a slice from a DataFrame.\n",
      "Try using .loc[row_indexer,col_indexer] = value instead\n",
      "\n",
      "See the caveats in the documentation: https://pandas.pydata.org/pandas-docs/stable/user_guide/indexing.html#returning-a-view-versus-a-copy\n",
      "\n",
      "C:\\Users\\joshu\\AppData\\Local\\Temp\\ipykernel_18608\\2836616570.py:47: FutureWarning:\n",
      "\n",
      "The default of observed=False is deprecated and will be changed to True in a future version of pandas. Pass observed=False to retain current behavior or observed=True to adopt the future default and silence this warning.\n",
      "\n",
      "C:\\Users\\joshu\\AppData\\Local\\Temp\\ipykernel_18608\\2836616570.py:48: FutureWarning:\n",
      "\n",
      "The default of observed=False is deprecated and will be changed to True in a future version of pandas. Pass observed=False to retain current behavior or observed=True to adopt the future default and silence this warning.\n",
      "\n",
      "C:\\Users\\joshu\\AppData\\Local\\Temp\\ipykernel_18608\\2836616570.py:52: FutureWarning:\n",
      "\n",
      "unique with argument that is not not a Series, Index, ExtensionArray, or np.ndarray is deprecated and will raise in a future version.\n",
      "\n"
     ]
    },
    {
     "data": {
      "application/vnd.plotly.v1+json": {
       "config": {
        "plotlyServerURL": "https://plot.ly"
       },
       "data": [
        {
         "arrangement": "snap",
         "link": {
          "color": [
           "rgba(0,255,0,0.6)",
           "rgba(0,255,0,0.6)",
           "rgba(0,0,255,0.6)",
           "rgba(0,0,255,0.6)",
           "rgba(255,0,0,0.6)",
           "rgba(255,0,0,0.6)",
           "rgba(255,165,0,0.6)",
           "rgba(255,165,0,0.6)",
           "rgba(255,165,0,0.6)",
           "rgba(0,128,128,0.6)",
           "rgba(0,128,128,0.6)",
           "rgba(0,128,128,0.6)",
           "rgba(173,216,230,0.6)",
           "rgba(173,216,230,0.6)",
           "rgba(173,216,230,0.6)",
           "rgba(100,149,237,0.6)",
           "rgba(100,149,237,0.6)",
           "rgba(100,149,237,0.6)",
           "rgba(25,25,112,0.6)",
           "rgba(25,25,112,0.6)",
           "rgba(25,25,112,0.6)",
           "rgba(186,85,211,0.6)",
           "rgba(186,85,211,0.6)",
           "rgba(199,21,133,0.6)",
           "rgba(199,21,133,0.6)",
           "rgba(75,0,130,0.6)",
           "rgba(75,0,130,0.6)",
           "rgba(30,144,255,0.6)",
           "rgba(30,144,255,0.6)",
           "rgba(30,144,255,0.6)",
           "rgba(220,20,60,0.6)",
           "rgba(220,20,60,0.6)",
           "rgba(220,20,60,0.6)"
          ],
          "source": [
           0,
           0,
           1,
           1,
           2,
           2,
           3,
           3,
           3,
           4,
           4,
           4,
           5,
           5,
           5,
           6,
           6,
           6,
           7,
           7,
           7,
           8,
           8,
           9,
           9,
           10,
           10,
           11,
           11,
           11,
           12,
           12,
           12
          ],
          "target": [
           3,
           4,
           3,
           4,
           3,
           4,
           5,
           6,
           7,
           5,
           6,
           7,
           8,
           9,
           10,
           8,
           9,
           10,
           8,
           9,
           10,
           11,
           12,
           11,
           12,
           11,
           12,
           13,
           14,
           15,
           13,
           14,
           15
          ],
          "value": [
           1882226557,
           779948502,
           1747934077,
           848798765,
           1676663782,
           809202297,
           234100000,
           2217518482,
           2855205934,
           131400000,
           1111347080,
           1195202484,
           168000000,
           61800000,
           135700000,
           1726519041,
           556748279,
           1045598242,
           1963546938,
           701944316,
           1384917164,
           1766926336,
           2091139643,
           677837415,
           642655180,
           1238592365,
           1327623041,
           1191379202,
           1279621285,
           1212355629,
           1392791902,
           1290525924,
           1378100038
          ]
         },
         "node": {
          "color": [
           "rgba(0,255,0,0.6)",
           "rgba(0,0,255,0.6)",
           "rgba(255,0,0,0.6)",
           "rgba(255,165,0,0.6)",
           "rgba(0,128,128,0.6)",
           "rgba(173,216,230,0.6)",
           "rgba(100,149,237,0.6)",
           "rgba(25,25,112,0.6)",
           "rgba(186,85,211,0.6)",
           "rgba(199,21,133,0.6)",
           "rgba(75,0,130,0.6)",
           "rgba(30,144,255,0.6)",
           "rgba(220,20,60,0.6)",
           "rgba(150,150,150,0.4)",
           "rgba(150,150,150,0.4)",
           "rgba(150,150,150,0.4)"
          ],
          "label": [
           "adcb",
           "mashreq",
           "mfbb",
           "2023",
           "2024",
           "low",
           "medium",
           "high",
           "mt103",
           "mt104",
           "mt202",
           "incoming",
           "outgoing",
           "hdfc",
           "idfc",
           "rakbank"
          ],
          "line": {
           "color": "black",
           "width": 0.5
          },
          "pad": 20,
          "thickness": 20
         },
         "type": "sankey"
        }
       ],
       "layout": {
        "annotations": [
         {
          "font": {
           "color": "black",
           "size": 14
          },
          "showarrow": false,
          "text": "Sender",
          "x": 0.03,
          "xref": "paper",
          "y": 1,
          "yref": "paper"
         },
         {
          "font": {
           "color": "black",
           "size": 14
          },
          "showarrow": false,
          "text": "Year",
          "x": 0.18,
          "xref": "paper",
          "y": 1,
          "yref": "paper"
         },
         {
          "font": {
           "color": "black",
           "size": 14
          },
          "showarrow": false,
          "text": "Amount Range",
          "x": 0.34,
          "xref": "paper",
          "y": 1,
          "yref": "paper"
         },
         {
          "font": {
           "color": "black",
           "size": 14
          },
          "showarrow": false,
          "text": "MT Type",
          "x": 0.54,
          "xref": "paper",
          "y": 1,
          "yref": "paper"
         },
         {
          "font": {
           "color": "black",
           "size": 14
          },
          "showarrow": false,
          "text": "Direction",
          "x": 0.8,
          "xref": "paper",
          "y": 1,
          "yref": "paper"
         },
         {
          "font": {
           "color": "black",
           "size": 14
          },
          "showarrow": false,
          "text": "Receiver",
          "x": 0.97,
          "xref": "paper",
          "y": 1,
          "yref": "paper"
         }
        ],
        "font": {
         "size": 12
        },
        "template": {
         "data": {
          "bar": [
           {
            "error_x": {
             "color": "#2a3f5f"
            },
            "error_y": {
             "color": "#2a3f5f"
            },
            "marker": {
             "line": {
              "color": "#E5ECF6",
              "width": 0.5
             },
             "pattern": {
              "fillmode": "overlay",
              "size": 10,
              "solidity": 0.2
             }
            },
            "type": "bar"
           }
          ],
          "barpolar": [
           {
            "marker": {
             "line": {
              "color": "#E5ECF6",
              "width": 0.5
             },
             "pattern": {
              "fillmode": "overlay",
              "size": 10,
              "solidity": 0.2
             }
            },
            "type": "barpolar"
           }
          ],
          "carpet": [
           {
            "aaxis": {
             "endlinecolor": "#2a3f5f",
             "gridcolor": "white",
             "linecolor": "white",
             "minorgridcolor": "white",
             "startlinecolor": "#2a3f5f"
            },
            "baxis": {
             "endlinecolor": "#2a3f5f",
             "gridcolor": "white",
             "linecolor": "white",
             "minorgridcolor": "white",
             "startlinecolor": "#2a3f5f"
            },
            "type": "carpet"
           }
          ],
          "choropleth": [
           {
            "colorbar": {
             "outlinewidth": 0,
             "ticks": ""
            },
            "type": "choropleth"
           }
          ],
          "contour": [
           {
            "colorbar": {
             "outlinewidth": 0,
             "ticks": ""
            },
            "colorscale": [
             [
              0,
              "#0d0887"
             ],
             [
              0.1111111111111111,
              "#46039f"
             ],
             [
              0.2222222222222222,
              "#7201a8"
             ],
             [
              0.3333333333333333,
              "#9c179e"
             ],
             [
              0.4444444444444444,
              "#bd3786"
             ],
             [
              0.5555555555555556,
              "#d8576b"
             ],
             [
              0.6666666666666666,
              "#ed7953"
             ],
             [
              0.7777777777777778,
              "#fb9f3a"
             ],
             [
              0.8888888888888888,
              "#fdca26"
             ],
             [
              1,
              "#f0f921"
             ]
            ],
            "type": "contour"
           }
          ],
          "contourcarpet": [
           {
            "colorbar": {
             "outlinewidth": 0,
             "ticks": ""
            },
            "type": "contourcarpet"
           }
          ],
          "heatmap": [
           {
            "colorbar": {
             "outlinewidth": 0,
             "ticks": ""
            },
            "colorscale": [
             [
              0,
              "#0d0887"
             ],
             [
              0.1111111111111111,
              "#46039f"
             ],
             [
              0.2222222222222222,
              "#7201a8"
             ],
             [
              0.3333333333333333,
              "#9c179e"
             ],
             [
              0.4444444444444444,
              "#bd3786"
             ],
             [
              0.5555555555555556,
              "#d8576b"
             ],
             [
              0.6666666666666666,
              "#ed7953"
             ],
             [
              0.7777777777777778,
              "#fb9f3a"
             ],
             [
              0.8888888888888888,
              "#fdca26"
             ],
             [
              1,
              "#f0f921"
             ]
            ],
            "type": "heatmap"
           }
          ],
          "heatmapgl": [
           {
            "colorbar": {
             "outlinewidth": 0,
             "ticks": ""
            },
            "colorscale": [
             [
              0,
              "#0d0887"
             ],
             [
              0.1111111111111111,
              "#46039f"
             ],
             [
              0.2222222222222222,
              "#7201a8"
             ],
             [
              0.3333333333333333,
              "#9c179e"
             ],
             [
              0.4444444444444444,
              "#bd3786"
             ],
             [
              0.5555555555555556,
              "#d8576b"
             ],
             [
              0.6666666666666666,
              "#ed7953"
             ],
             [
              0.7777777777777778,
              "#fb9f3a"
             ],
             [
              0.8888888888888888,
              "#fdca26"
             ],
             [
              1,
              "#f0f921"
             ]
            ],
            "type": "heatmapgl"
           }
          ],
          "histogram": [
           {
            "marker": {
             "pattern": {
              "fillmode": "overlay",
              "size": 10,
              "solidity": 0.2
             }
            },
            "type": "histogram"
           }
          ],
          "histogram2d": [
           {
            "colorbar": {
             "outlinewidth": 0,
             "ticks": ""
            },
            "colorscale": [
             [
              0,
              "#0d0887"
             ],
             [
              0.1111111111111111,
              "#46039f"
             ],
             [
              0.2222222222222222,
              "#7201a8"
             ],
             [
              0.3333333333333333,
              "#9c179e"
             ],
             [
              0.4444444444444444,
              "#bd3786"
             ],
             [
              0.5555555555555556,
              "#d8576b"
             ],
             [
              0.6666666666666666,
              "#ed7953"
             ],
             [
              0.7777777777777778,
              "#fb9f3a"
             ],
             [
              0.8888888888888888,
              "#fdca26"
             ],
             [
              1,
              "#f0f921"
             ]
            ],
            "type": "histogram2d"
           }
          ],
          "histogram2dcontour": [
           {
            "colorbar": {
             "outlinewidth": 0,
             "ticks": ""
            },
            "colorscale": [
             [
              0,
              "#0d0887"
             ],
             [
              0.1111111111111111,
              "#46039f"
             ],
             [
              0.2222222222222222,
              "#7201a8"
             ],
             [
              0.3333333333333333,
              "#9c179e"
             ],
             [
              0.4444444444444444,
              "#bd3786"
             ],
             [
              0.5555555555555556,
              "#d8576b"
             ],
             [
              0.6666666666666666,
              "#ed7953"
             ],
             [
              0.7777777777777778,
              "#fb9f3a"
             ],
             [
              0.8888888888888888,
              "#fdca26"
             ],
             [
              1,
              "#f0f921"
             ]
            ],
            "type": "histogram2dcontour"
           }
          ],
          "mesh3d": [
           {
            "colorbar": {
             "outlinewidth": 0,
             "ticks": ""
            },
            "type": "mesh3d"
           }
          ],
          "parcoords": [
           {
            "line": {
             "colorbar": {
              "outlinewidth": 0,
              "ticks": ""
             }
            },
            "type": "parcoords"
           }
          ],
          "pie": [
           {
            "automargin": true,
            "type": "pie"
           }
          ],
          "scatter": [
           {
            "fillpattern": {
             "fillmode": "overlay",
             "size": 10,
             "solidity": 0.2
            },
            "type": "scatter"
           }
          ],
          "scatter3d": [
           {
            "line": {
             "colorbar": {
              "outlinewidth": 0,
              "ticks": ""
             }
            },
            "marker": {
             "colorbar": {
              "outlinewidth": 0,
              "ticks": ""
             }
            },
            "type": "scatter3d"
           }
          ],
          "scattercarpet": [
           {
            "marker": {
             "colorbar": {
              "outlinewidth": 0,
              "ticks": ""
             }
            },
            "type": "scattercarpet"
           }
          ],
          "scattergeo": [
           {
            "marker": {
             "colorbar": {
              "outlinewidth": 0,
              "ticks": ""
             }
            },
            "type": "scattergeo"
           }
          ],
          "scattergl": [
           {
            "marker": {
             "colorbar": {
              "outlinewidth": 0,
              "ticks": ""
             }
            },
            "type": "scattergl"
           }
          ],
          "scattermapbox": [
           {
            "marker": {
             "colorbar": {
              "outlinewidth": 0,
              "ticks": ""
             }
            },
            "type": "scattermapbox"
           }
          ],
          "scatterpolar": [
           {
            "marker": {
             "colorbar": {
              "outlinewidth": 0,
              "ticks": ""
             }
            },
            "type": "scatterpolar"
           }
          ],
          "scatterpolargl": [
           {
            "marker": {
             "colorbar": {
              "outlinewidth": 0,
              "ticks": ""
             }
            },
            "type": "scatterpolargl"
           }
          ],
          "scatterternary": [
           {
            "marker": {
             "colorbar": {
              "outlinewidth": 0,
              "ticks": ""
             }
            },
            "type": "scatterternary"
           }
          ],
          "surface": [
           {
            "colorbar": {
             "outlinewidth": 0,
             "ticks": ""
            },
            "colorscale": [
             [
              0,
              "#0d0887"
             ],
             [
              0.1111111111111111,
              "#46039f"
             ],
             [
              0.2222222222222222,
              "#7201a8"
             ],
             [
              0.3333333333333333,
              "#9c179e"
             ],
             [
              0.4444444444444444,
              "#bd3786"
             ],
             [
              0.5555555555555556,
              "#d8576b"
             ],
             [
              0.6666666666666666,
              "#ed7953"
             ],
             [
              0.7777777777777778,
              "#fb9f3a"
             ],
             [
              0.8888888888888888,
              "#fdca26"
             ],
             [
              1,
              "#f0f921"
             ]
            ],
            "type": "surface"
           }
          ],
          "table": [
           {
            "cells": {
             "fill": {
              "color": "#EBF0F8"
             },
             "line": {
              "color": "white"
             }
            },
            "header": {
             "fill": {
              "color": "#C8D4E3"
             },
             "line": {
              "color": "white"
             }
            },
            "type": "table"
           }
          ]
         },
         "layout": {
          "annotationdefaults": {
           "arrowcolor": "#2a3f5f",
           "arrowhead": 0,
           "arrowwidth": 1
          },
          "autotypenumbers": "strict",
          "coloraxis": {
           "colorbar": {
            "outlinewidth": 0,
            "ticks": ""
           }
          },
          "colorscale": {
           "diverging": [
            [
             0,
             "#8e0152"
            ],
            [
             0.1,
             "#c51b7d"
            ],
            [
             0.2,
             "#de77ae"
            ],
            [
             0.3,
             "#f1b6da"
            ],
            [
             0.4,
             "#fde0ef"
            ],
            [
             0.5,
             "#f7f7f7"
            ],
            [
             0.6,
             "#e6f5d0"
            ],
            [
             0.7,
             "#b8e186"
            ],
            [
             0.8,
             "#7fbc41"
            ],
            [
             0.9,
             "#4d9221"
            ],
            [
             1,
             "#276419"
            ]
           ],
           "sequential": [
            [
             0,
             "#0d0887"
            ],
            [
             0.1111111111111111,
             "#46039f"
            ],
            [
             0.2222222222222222,
             "#7201a8"
            ],
            [
             0.3333333333333333,
             "#9c179e"
            ],
            [
             0.4444444444444444,
             "#bd3786"
            ],
            [
             0.5555555555555556,
             "#d8576b"
            ],
            [
             0.6666666666666666,
             "#ed7953"
            ],
            [
             0.7777777777777778,
             "#fb9f3a"
            ],
            [
             0.8888888888888888,
             "#fdca26"
            ],
            [
             1,
             "#f0f921"
            ]
           ],
           "sequentialminus": [
            [
             0,
             "#0d0887"
            ],
            [
             0.1111111111111111,
             "#46039f"
            ],
            [
             0.2222222222222222,
             "#7201a8"
            ],
            [
             0.3333333333333333,
             "#9c179e"
            ],
            [
             0.4444444444444444,
             "#bd3786"
            ],
            [
             0.5555555555555556,
             "#d8576b"
            ],
            [
             0.6666666666666666,
             "#ed7953"
            ],
            [
             0.7777777777777778,
             "#fb9f3a"
            ],
            [
             0.8888888888888888,
             "#fdca26"
            ],
            [
             1,
             "#f0f921"
            ]
           ]
          },
          "colorway": [
           "#636efa",
           "#EF553B",
           "#00cc96",
           "#ab63fa",
           "#FFA15A",
           "#19d3f3",
           "#FF6692",
           "#B6E880",
           "#FF97FF",
           "#FECB52"
          ],
          "font": {
           "color": "#2a3f5f"
          },
          "geo": {
           "bgcolor": "white",
           "lakecolor": "white",
           "landcolor": "#E5ECF6",
           "showlakes": true,
           "showland": true,
           "subunitcolor": "white"
          },
          "hoverlabel": {
           "align": "left"
          },
          "hovermode": "closest",
          "mapbox": {
           "style": "light"
          },
          "paper_bgcolor": "white",
          "plot_bgcolor": "#E5ECF6",
          "polar": {
           "angularaxis": {
            "gridcolor": "white",
            "linecolor": "white",
            "ticks": ""
           },
           "bgcolor": "#E5ECF6",
           "radialaxis": {
            "gridcolor": "white",
            "linecolor": "white",
            "ticks": ""
           }
          },
          "scene": {
           "xaxis": {
            "backgroundcolor": "#E5ECF6",
            "gridcolor": "white",
            "gridwidth": 2,
            "linecolor": "white",
            "showbackground": true,
            "ticks": "",
            "zerolinecolor": "white"
           },
           "yaxis": {
            "backgroundcolor": "#E5ECF6",
            "gridcolor": "white",
            "gridwidth": 2,
            "linecolor": "white",
            "showbackground": true,
            "ticks": "",
            "zerolinecolor": "white"
           },
           "zaxis": {
            "backgroundcolor": "#E5ECF6",
            "gridcolor": "white",
            "gridwidth": 2,
            "linecolor": "white",
            "showbackground": true,
            "ticks": "",
            "zerolinecolor": "white"
           }
          },
          "shapedefaults": {
           "line": {
            "color": "#2a3f5f"
           }
          },
          "ternary": {
           "aaxis": {
            "gridcolor": "white",
            "linecolor": "white",
            "ticks": ""
           },
           "baxis": {
            "gridcolor": "white",
            "linecolor": "white",
            "ticks": ""
           },
           "bgcolor": "#E5ECF6",
           "caxis": {
            "gridcolor": "white",
            "linecolor": "white",
            "ticks": ""
           }
          },
          "title": {
           "x": 0.05
          },
          "xaxis": {
           "automargin": true,
           "gridcolor": "white",
           "linecolor": "white",
           "ticks": "",
           "title": {
            "standoff": 15
           },
           "zerolinecolor": "white",
           "zerolinewidth": 2
          },
          "yaxis": {
           "automargin": true,
           "gridcolor": "white",
           "linecolor": "white",
           "ticks": "",
           "title": {
            "standoff": 15
           },
           "zerolinecolor": "white",
           "zerolinewidth": 2
          }
         }
        },
        "title": {
         "text": "Flow of Transactions"
        }
       }
      }
     },
     "metadata": {},
     "output_type": "display_data"
    }
   ],
   "source": [
    "import pandas as pd\n",
    "import numpy as np\n",
    "import plotly.graph_objects as go\n",
    "\n",
    "data = {\n",
    "    \"count\": [25, 45, 15, 20, 25, 20],\n",
    "    \"sender\": ['mfbb', 'adcb', 'hdfc', 'idfc', 'mashreq', 'rakbank'],\n",
    "    \"receiver\": ['adcb', 'mfbb', 'idfc', 'hdfc', 'rakbank', 'mashreq'],\n",
    "    \"amount\": [4000000, 500000, 400000, 1002313, 3244223, 9485734],\n",
    "    \"currency\": ['EUR', 'EUR', 'USD', 'USD', 'USD', 'EUR'],\n",
    "    \"mt_type\": ['mt103', 'mt202', 'mt103', 'mt104', 'mt202', 'mt103'],\n",
    "    \"year\": [2024, 2023, 2023, 2023, 2024, 2023],\n",
    "    \"direction\": ['outgoing', 'incoming', 'outgoing', 'incoming', 'outgoing', 'incoming']\n",
    "}\n",
    "\n",
    "df = pd.DataFrame(data)\n",
    "num_samples = 10000\n",
    "simulated_df = pd.DataFrame({\n",
    "    \"count\": np.random.choice(data[\"count\"], num_samples),\n",
    "    \"sender\": np.random.choice(data[\"sender\"], num_samples),\n",
    "    \"receiver\": np.random.choice(data[\"receiver\"], num_samples),\n",
    "    \"amount\": np.random.choice(data[\"amount\"], num_samples),\n",
    "    \"currency\": np.random.choice(data[\"currency\"], num_samples),\n",
    "    \"mt_type\": np.random.choice(data[\"mt_type\"], num_samples),\n",
    "    \"year\": np.random.choice(data[\"year\"], num_samples),\n",
    "    \"direction\": np.random.choice(data[\"direction\"], num_samples),\n",
    "})\n",
    "simulated_df = simulated_df[simulated_df['sender'] != simulated_df['receiver']].reset_index(drop=True)\n",
    "df = simulated_df\n",
    "\n",
    "\n",
    "sources = ['mfbb', 'adcb', 'mashreq']\n",
    "targets = ['idfc', 'hdfc', 'rakbank']\n",
    "df = df[df['sender'].isin(sources) & df['receiver'].isin(targets)]\n",
    "\n",
    "\n",
    "\n",
    "\n",
    "df['amount_range'] = pd.cut(df['amount'], bins=[0, 1e6, 5e6, 1e7], labels=['low', 'medium', 'high'])\n",
    "\n",
    "\n",
    "df['year'] = df['year'].astype(str)\n",
    "df['mt_type'] = df['mt_type'].astype(str)\n",
    "\n",
    "\n",
    "flow1 = df.groupby(['sender', 'year'])['amount'].sum().reset_index()\n",
    "flow2 = df.groupby(['year', 'amount_range'])['amount'].sum().reset_index()\n",
    "flow3 = df.groupby(['amount_range', 'mt_type'])['amount'].sum().reset_index()\n",
    "flow4 = df.groupby(['mt_type', 'direction'])['amount'].sum().reset_index()\n",
    "flow5 = df.groupby(['direction', 'receiver'])['amount'].sum().reset_index()\n",
    "\n",
    "labels = pd.unique(\n",
    "    flow1['sender'].tolist() +\n",
    "    flow1['year'].tolist() +\n",
    "    flow2['amount_range'].astype(str).tolist() +\n",
    "    flow3['mt_type'].astype(str).tolist() +\n",
    "    flow4['direction'].tolist() +\n",
    "    flow5['receiver'].tolist()\n",
    ")\n",
    "\n",
    "label_to_index = {label: i for i, label in enumerate(labels)}\n",
    "\n",
    "source, target, value = [], [], []\n",
    "\n",
    "\n",
    "for _, row in flow1.iterrows():\n",
    "    source.append(label_to_index[row['sender']])\n",
    "    target.append(label_to_index[row['year']])\n",
    "    value.append(row['amount'])\n",
    "\n",
    "#  year → amount_range\n",
    "for _, row in flow2.iterrows():\n",
    "    source.append(label_to_index[row['year']])\n",
    "    target.append(label_to_index[str(row['amount_range'])])\n",
    "    value.append(row['amount'])\n",
    "\n",
    "# amount_range → mt_type\n",
    "for _, row in flow3.iterrows():\n",
    "    source.append(label_to_index[str(row['amount_range'])])\n",
    "    target.append(label_to_index[str(row['mt_type'])])\n",
    "    value.append(row['amount'])\n",
    "\n",
    "#  mt_type → direction\n",
    "for _, row in flow4.iterrows():\n",
    "    source.append(label_to_index[str(row['mt_type'])])\n",
    "    target.append(label_to_index[row['direction']])\n",
    "    value.append(row['amount'])\n",
    "\n",
    "#  direction → receiver\n",
    "for _, row in flow5.iterrows():\n",
    "    source.append(label_to_index[row['direction']])\n",
    "    target.append(label_to_index[row['receiver']])\n",
    "    value.append(row['amount'])\n",
    "\n",
    "\n",
    "fig = go.Figure(data=[go.Sankey(\n",
    "    arrangement=\"snap\",\n",
    "    node=dict(\n",
    "        pad=20,\n",
    "        thickness=20,\n",
    "        line=dict(color=\"black\", width=0.5),\n",
    "        label=list(labels),\n",
    "        color=node_colors\n",
    "    ),\n",
    "    link=dict(\n",
    "        source=source,\n",
    "        target=target,\n",
    "        value=value,\n",
    "        color=link_colors\n",
    "    )\n",
    ")])\n",
    "fig.update_layout(\n",
    "    title_text=\"Flow of Transactions\",\n",
    "    font_size=12,\n",
    "    annotations=[\n",
    "        dict(x=0.03, y=1, xref='paper', yref='paper', text='Sender', showarrow=False, font=dict(size=14, color='black')),\n",
    "        dict(x=0.18, y=1, xref='paper', yref='paper', text='Year', showarrow=False, font=dict(size=14, color='black')),\n",
    "        dict(x=0.34, y=1, xref='paper', yref='paper', text='Amount Range', showarrow=False, font=dict(size=14, color='black')),\n",
    "        dict(x=0.54, y=1, xref='paper', yref='paper', text='MT Type', showarrow=False, font=dict(size=14, color='black')),\n",
    "        dict(x=0.8, y=1, xref='paper', yref='paper', text='Direction', showarrow=False, font=dict(size=14, color='black')),\n",
    "        dict(x=0.97, y=1, xref='paper', yref='paper', text='Receiver', showarrow=False, font=dict(size=14, color='black')),\n",
    "    ]\n",
    ")\n",
    "\n",
    "fig.update_layout(title_text=\"Flow of Transactions\", font_size=12)\n",
    "fig.show()\n"
   ]
  },
  {
   "cell_type": "code",
   "execution_count": null,
   "id": "41c0c923",
   "metadata": {},
   "outputs": [],
   "source": []
  },
  {
   "cell_type": "code",
   "execution_count": null,
   "id": "660570fa",
   "metadata": {},
   "outputs": [],
   "source": []
  },
  {
   "cell_type": "code",
   "execution_count": null,
   "id": "7c938f1e",
   "metadata": {},
   "outputs": [],
   "source": []
  }
 ],
 "metadata": {
  "kernelspec": {
   "display_name": "cudaenv",
   "language": "python",
   "name": "python3"
  },
  "language_info": {
   "codemirror_mode": {
    "name": "ipython",
    "version": 3
   },
   "file_extension": ".py",
   "mimetype": "text/x-python",
   "name": "python",
   "nbconvert_exporter": "python",
   "pygments_lexer": "ipython3",
   "version": "3.10.15"
  }
 },
 "nbformat": 4,
 "nbformat_minor": 5
}
