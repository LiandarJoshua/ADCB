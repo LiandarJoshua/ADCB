{
 "cells": [
  {
   "cell_type": "code",
   "execution_count": 114,
   "id": "67aa4384",
   "metadata": {},
   "outputs": [],
   "source": [
    "import pandas as pd\n",
    "# df values\n",
    "data={\n",
    "    \"count\":[25,45,15,20,25,20],\n",
    "    \"sender\":['mfb','adcb','hdfc','idfc','mashreq','rakbank'],\n",
    "    \"receiver\":['adcb','mfb','idfc','hdfc','rakbank','mashreq'],\n",
    "    \"amount\":[4000000,500000,400000,1002313,3244223,9485734],\n",
    "    \"currency\":['EUR','EUR','USD','USD','USD','EUR'],\n",
    "    \"mt_type\":[103,202,103,104,202,103],\n",
    "    \"year\":[2024,2023,2023,2023,2024,2023],\n",
    "    \"direction\":['outgoing','incoming','outgoing','incoming','outgoing','incoming']    \n",
    "}\n",
    "df=pd.DataFrame(data)\n",
    "\n"
   ]
  },
  {
   "cell_type": "code",
   "execution_count": 115,
   "id": "bbb81271",
   "metadata": {},
   "outputs": [],
   "source": [
    "# making a big df\n",
    "import numpy as np\n",
    "num_samples = 50\n",
    "simulated_df = pd.DataFrame({\n",
    "    \"count\": np.random.choice(data[\"count\"], num_samples),\n",
    "    \"sender\": np.random.choice(data[\"sender\"], num_samples),\n",
    "    \"receiver\": np.random.choice(data[\"receiver\"], num_samples),\n",
    "    \"amount\": np.random.choice(data[\"amount\"], num_samples),\n",
    "    \"currency\": np.random.choice(data[\"currency\"], num_samples),\n",
    "    \"mt_type\": np.random.choice(data[\"mt_type\"], num_samples),\n",
    "    \"year\": np.random.choice(data[\"year\"], num_samples),\n",
    "    \"direction\": np.random.choice(data[\"direction\"], num_samples),\n",
    "})\n",
    "simulated_df = simulated_df[simulated_df['sender'] != simulated_df['receiver']].reset_index(drop=True)\n"
   ]
  },
  {
   "cell_type": "code",
   "execution_count": 116,
   "id": "ae3f082e",
   "metadata": {},
   "outputs": [
    {
     "data": {
      "text/html": [
       "<div>\n",
       "<style scoped>\n",
       "    .dataframe tbody tr th:only-of-type {\n",
       "        vertical-align: middle;\n",
       "    }\n",
       "\n",
       "    .dataframe tbody tr th {\n",
       "        vertical-align: top;\n",
       "    }\n",
       "\n",
       "    .dataframe thead th {\n",
       "        text-align: right;\n",
       "    }\n",
       "</style>\n",
       "<table border=\"1\" class=\"dataframe\">\n",
       "  <thead>\n",
       "    <tr style=\"text-align: right;\">\n",
       "      <th></th>\n",
       "      <th>count</th>\n",
       "      <th>sender</th>\n",
       "      <th>receiver</th>\n",
       "      <th>amount</th>\n",
       "      <th>currency</th>\n",
       "      <th>mt_type</th>\n",
       "      <th>year</th>\n",
       "      <th>direction</th>\n",
       "    </tr>\n",
       "  </thead>\n",
       "  <tbody>\n",
       "    <tr>\n",
       "      <th>0</th>\n",
       "      <td>25</td>\n",
       "      <td>adcb</td>\n",
       "      <td>idfc</td>\n",
       "      <td>4000000</td>\n",
       "      <td>EUR</td>\n",
       "      <td>202</td>\n",
       "      <td>2023</td>\n",
       "      <td>incoming</td>\n",
       "    </tr>\n",
       "    <tr>\n",
       "      <th>1</th>\n",
       "      <td>20</td>\n",
       "      <td>adcb</td>\n",
       "      <td>rakbank</td>\n",
       "      <td>1002313</td>\n",
       "      <td>USD</td>\n",
       "      <td>103</td>\n",
       "      <td>2023</td>\n",
       "      <td>incoming</td>\n",
       "    </tr>\n",
       "    <tr>\n",
       "      <th>2</th>\n",
       "      <td>25</td>\n",
       "      <td>adcb</td>\n",
       "      <td>rakbank</td>\n",
       "      <td>500000</td>\n",
       "      <td>EUR</td>\n",
       "      <td>103</td>\n",
       "      <td>2024</td>\n",
       "      <td>outgoing</td>\n",
       "    </tr>\n",
       "    <tr>\n",
       "      <th>3</th>\n",
       "      <td>45</td>\n",
       "      <td>adcb</td>\n",
       "      <td>hdfc</td>\n",
       "      <td>9485734</td>\n",
       "      <td>EUR</td>\n",
       "      <td>103</td>\n",
       "      <td>2023</td>\n",
       "      <td>incoming</td>\n",
       "    </tr>\n",
       "    <tr>\n",
       "      <th>4</th>\n",
       "      <td>15</td>\n",
       "      <td>hdfc</td>\n",
       "      <td>mfb</td>\n",
       "      <td>9485734</td>\n",
       "      <td>EUR</td>\n",
       "      <td>202</td>\n",
       "      <td>2024</td>\n",
       "      <td>incoming</td>\n",
       "    </tr>\n",
       "    <tr>\n",
       "      <th>5</th>\n",
       "      <td>25</td>\n",
       "      <td>hdfc</td>\n",
       "      <td>mashreq</td>\n",
       "      <td>9485734</td>\n",
       "      <td>USD</td>\n",
       "      <td>103</td>\n",
       "      <td>2023</td>\n",
       "      <td>outgoing</td>\n",
       "    </tr>\n",
       "    <tr>\n",
       "      <th>6</th>\n",
       "      <td>25</td>\n",
       "      <td>mashreq</td>\n",
       "      <td>rakbank</td>\n",
       "      <td>4000000</td>\n",
       "      <td>USD</td>\n",
       "      <td>103</td>\n",
       "      <td>2023</td>\n",
       "      <td>outgoing</td>\n",
       "    </tr>\n",
       "    <tr>\n",
       "      <th>7</th>\n",
       "      <td>25</td>\n",
       "      <td>mfb</td>\n",
       "      <td>adcb</td>\n",
       "      <td>4000000</td>\n",
       "      <td>USD</td>\n",
       "      <td>202</td>\n",
       "      <td>2024</td>\n",
       "      <td>outgoing</td>\n",
       "    </tr>\n",
       "    <tr>\n",
       "      <th>8</th>\n",
       "      <td>20</td>\n",
       "      <td>mashreq</td>\n",
       "      <td>mfb</td>\n",
       "      <td>400000</td>\n",
       "      <td>EUR</td>\n",
       "      <td>202</td>\n",
       "      <td>2024</td>\n",
       "      <td>incoming</td>\n",
       "    </tr>\n",
       "    <tr>\n",
       "      <th>9</th>\n",
       "      <td>15</td>\n",
       "      <td>rakbank</td>\n",
       "      <td>adcb</td>\n",
       "      <td>400000</td>\n",
       "      <td>USD</td>\n",
       "      <td>103</td>\n",
       "      <td>2023</td>\n",
       "      <td>incoming</td>\n",
       "    </tr>\n",
       "    <tr>\n",
       "      <th>10</th>\n",
       "      <td>25</td>\n",
       "      <td>adcb</td>\n",
       "      <td>rakbank</td>\n",
       "      <td>1002313</td>\n",
       "      <td>USD</td>\n",
       "      <td>103</td>\n",
       "      <td>2023</td>\n",
       "      <td>incoming</td>\n",
       "    </tr>\n",
       "    <tr>\n",
       "      <th>11</th>\n",
       "      <td>45</td>\n",
       "      <td>mfb</td>\n",
       "      <td>adcb</td>\n",
       "      <td>1002313</td>\n",
       "      <td>USD</td>\n",
       "      <td>103</td>\n",
       "      <td>2023</td>\n",
       "      <td>incoming</td>\n",
       "    </tr>\n",
       "    <tr>\n",
       "      <th>12</th>\n",
       "      <td>25</td>\n",
       "      <td>rakbank</td>\n",
       "      <td>hdfc</td>\n",
       "      <td>9485734</td>\n",
       "      <td>EUR</td>\n",
       "      <td>103</td>\n",
       "      <td>2023</td>\n",
       "      <td>incoming</td>\n",
       "    </tr>\n",
       "    <tr>\n",
       "      <th>13</th>\n",
       "      <td>20</td>\n",
       "      <td>hdfc</td>\n",
       "      <td>rakbank</td>\n",
       "      <td>1002313</td>\n",
       "      <td>EUR</td>\n",
       "      <td>103</td>\n",
       "      <td>2023</td>\n",
       "      <td>incoming</td>\n",
       "    </tr>\n",
       "    <tr>\n",
       "      <th>14</th>\n",
       "      <td>25</td>\n",
       "      <td>adcb</td>\n",
       "      <td>mfb</td>\n",
       "      <td>1002313</td>\n",
       "      <td>USD</td>\n",
       "      <td>103</td>\n",
       "      <td>2024</td>\n",
       "      <td>outgoing</td>\n",
       "    </tr>\n",
       "    <tr>\n",
       "      <th>15</th>\n",
       "      <td>15</td>\n",
       "      <td>idfc</td>\n",
       "      <td>mfb</td>\n",
       "      <td>400000</td>\n",
       "      <td>USD</td>\n",
       "      <td>103</td>\n",
       "      <td>2024</td>\n",
       "      <td>incoming</td>\n",
       "    </tr>\n",
       "    <tr>\n",
       "      <th>16</th>\n",
       "      <td>25</td>\n",
       "      <td>hdfc</td>\n",
       "      <td>rakbank</td>\n",
       "      <td>1002313</td>\n",
       "      <td>EUR</td>\n",
       "      <td>103</td>\n",
       "      <td>2023</td>\n",
       "      <td>outgoing</td>\n",
       "    </tr>\n",
       "    <tr>\n",
       "      <th>17</th>\n",
       "      <td>25</td>\n",
       "      <td>adcb</td>\n",
       "      <td>mfb</td>\n",
       "      <td>500000</td>\n",
       "      <td>EUR</td>\n",
       "      <td>103</td>\n",
       "      <td>2024</td>\n",
       "      <td>outgoing</td>\n",
       "    </tr>\n",
       "    <tr>\n",
       "      <th>18</th>\n",
       "      <td>15</td>\n",
       "      <td>adcb</td>\n",
       "      <td>hdfc</td>\n",
       "      <td>4000000</td>\n",
       "      <td>EUR</td>\n",
       "      <td>202</td>\n",
       "      <td>2024</td>\n",
       "      <td>outgoing</td>\n",
       "    </tr>\n",
       "    <tr>\n",
       "      <th>19</th>\n",
       "      <td>25</td>\n",
       "      <td>hdfc</td>\n",
       "      <td>mfb</td>\n",
       "      <td>500000</td>\n",
       "      <td>EUR</td>\n",
       "      <td>103</td>\n",
       "      <td>2024</td>\n",
       "      <td>incoming</td>\n",
       "    </tr>\n",
       "    <tr>\n",
       "      <th>20</th>\n",
       "      <td>20</td>\n",
       "      <td>mfb</td>\n",
       "      <td>hdfc</td>\n",
       "      <td>400000</td>\n",
       "      <td>EUR</td>\n",
       "      <td>104</td>\n",
       "      <td>2023</td>\n",
       "      <td>incoming</td>\n",
       "    </tr>\n",
       "    <tr>\n",
       "      <th>21</th>\n",
       "      <td>45</td>\n",
       "      <td>hdfc</td>\n",
       "      <td>adcb</td>\n",
       "      <td>400000</td>\n",
       "      <td>USD</td>\n",
       "      <td>202</td>\n",
       "      <td>2023</td>\n",
       "      <td>outgoing</td>\n",
       "    </tr>\n",
       "    <tr>\n",
       "      <th>22</th>\n",
       "      <td>25</td>\n",
       "      <td>mashreq</td>\n",
       "      <td>rakbank</td>\n",
       "      <td>4000000</td>\n",
       "      <td>EUR</td>\n",
       "      <td>202</td>\n",
       "      <td>2024</td>\n",
       "      <td>outgoing</td>\n",
       "    </tr>\n",
       "    <tr>\n",
       "      <th>23</th>\n",
       "      <td>25</td>\n",
       "      <td>rakbank</td>\n",
       "      <td>adcb</td>\n",
       "      <td>1002313</td>\n",
       "      <td>USD</td>\n",
       "      <td>202</td>\n",
       "      <td>2023</td>\n",
       "      <td>incoming</td>\n",
       "    </tr>\n",
       "    <tr>\n",
       "      <th>24</th>\n",
       "      <td>25</td>\n",
       "      <td>rakbank</td>\n",
       "      <td>mashreq</td>\n",
       "      <td>500000</td>\n",
       "      <td>EUR</td>\n",
       "      <td>103</td>\n",
       "      <td>2023</td>\n",
       "      <td>incoming</td>\n",
       "    </tr>\n",
       "    <tr>\n",
       "      <th>25</th>\n",
       "      <td>25</td>\n",
       "      <td>mfb</td>\n",
       "      <td>rakbank</td>\n",
       "      <td>9485734</td>\n",
       "      <td>USD</td>\n",
       "      <td>103</td>\n",
       "      <td>2024</td>\n",
       "      <td>incoming</td>\n",
       "    </tr>\n",
       "    <tr>\n",
       "      <th>26</th>\n",
       "      <td>20</td>\n",
       "      <td>adcb</td>\n",
       "      <td>mfb</td>\n",
       "      <td>3244223</td>\n",
       "      <td>USD</td>\n",
       "      <td>202</td>\n",
       "      <td>2024</td>\n",
       "      <td>outgoing</td>\n",
       "    </tr>\n",
       "    <tr>\n",
       "      <th>27</th>\n",
       "      <td>20</td>\n",
       "      <td>rakbank</td>\n",
       "      <td>mfb</td>\n",
       "      <td>1002313</td>\n",
       "      <td>EUR</td>\n",
       "      <td>103</td>\n",
       "      <td>2023</td>\n",
       "      <td>incoming</td>\n",
       "    </tr>\n",
       "    <tr>\n",
       "      <th>28</th>\n",
       "      <td>25</td>\n",
       "      <td>adcb</td>\n",
       "      <td>mfb</td>\n",
       "      <td>500000</td>\n",
       "      <td>USD</td>\n",
       "      <td>103</td>\n",
       "      <td>2023</td>\n",
       "      <td>incoming</td>\n",
       "    </tr>\n",
       "    <tr>\n",
       "      <th>29</th>\n",
       "      <td>25</td>\n",
       "      <td>rakbank</td>\n",
       "      <td>mashreq</td>\n",
       "      <td>500000</td>\n",
       "      <td>EUR</td>\n",
       "      <td>104</td>\n",
       "      <td>2023</td>\n",
       "      <td>outgoing</td>\n",
       "    </tr>\n",
       "    <tr>\n",
       "      <th>30</th>\n",
       "      <td>45</td>\n",
       "      <td>adcb</td>\n",
       "      <td>mashreq</td>\n",
       "      <td>9485734</td>\n",
       "      <td>EUR</td>\n",
       "      <td>202</td>\n",
       "      <td>2024</td>\n",
       "      <td>outgoing</td>\n",
       "    </tr>\n",
       "    <tr>\n",
       "      <th>31</th>\n",
       "      <td>45</td>\n",
       "      <td>adcb</td>\n",
       "      <td>hdfc</td>\n",
       "      <td>9485734</td>\n",
       "      <td>EUR</td>\n",
       "      <td>202</td>\n",
       "      <td>2023</td>\n",
       "      <td>outgoing</td>\n",
       "    </tr>\n",
       "    <tr>\n",
       "      <th>32</th>\n",
       "      <td>45</td>\n",
       "      <td>mashreq</td>\n",
       "      <td>idfc</td>\n",
       "      <td>1002313</td>\n",
       "      <td>USD</td>\n",
       "      <td>202</td>\n",
       "      <td>2023</td>\n",
       "      <td>incoming</td>\n",
       "    </tr>\n",
       "    <tr>\n",
       "      <th>33</th>\n",
       "      <td>20</td>\n",
       "      <td>idfc</td>\n",
       "      <td>mfb</td>\n",
       "      <td>1002313</td>\n",
       "      <td>EUR</td>\n",
       "      <td>202</td>\n",
       "      <td>2023</td>\n",
       "      <td>incoming</td>\n",
       "    </tr>\n",
       "    <tr>\n",
       "      <th>34</th>\n",
       "      <td>15</td>\n",
       "      <td>rakbank</td>\n",
       "      <td>idfc</td>\n",
       "      <td>9485734</td>\n",
       "      <td>EUR</td>\n",
       "      <td>202</td>\n",
       "      <td>2024</td>\n",
       "      <td>outgoing</td>\n",
       "    </tr>\n",
       "    <tr>\n",
       "      <th>35</th>\n",
       "      <td>45</td>\n",
       "      <td>rakbank</td>\n",
       "      <td>idfc</td>\n",
       "      <td>500000</td>\n",
       "      <td>EUR</td>\n",
       "      <td>103</td>\n",
       "      <td>2023</td>\n",
       "      <td>incoming</td>\n",
       "    </tr>\n",
       "    <tr>\n",
       "      <th>36</th>\n",
       "      <td>25</td>\n",
       "      <td>idfc</td>\n",
       "      <td>rakbank</td>\n",
       "      <td>3244223</td>\n",
       "      <td>USD</td>\n",
       "      <td>202</td>\n",
       "      <td>2024</td>\n",
       "      <td>outgoing</td>\n",
       "    </tr>\n",
       "    <tr>\n",
       "      <th>37</th>\n",
       "      <td>15</td>\n",
       "      <td>rakbank</td>\n",
       "      <td>mashreq</td>\n",
       "      <td>9485734</td>\n",
       "      <td>USD</td>\n",
       "      <td>103</td>\n",
       "      <td>2023</td>\n",
       "      <td>incoming</td>\n",
       "    </tr>\n",
       "    <tr>\n",
       "      <th>38</th>\n",
       "      <td>45</td>\n",
       "      <td>adcb</td>\n",
       "      <td>mfb</td>\n",
       "      <td>9485734</td>\n",
       "      <td>USD</td>\n",
       "      <td>202</td>\n",
       "      <td>2024</td>\n",
       "      <td>outgoing</td>\n",
       "    </tr>\n",
       "    <tr>\n",
       "      <th>39</th>\n",
       "      <td>20</td>\n",
       "      <td>rakbank</td>\n",
       "      <td>idfc</td>\n",
       "      <td>400000</td>\n",
       "      <td>EUR</td>\n",
       "      <td>103</td>\n",
       "      <td>2023</td>\n",
       "      <td>outgoing</td>\n",
       "    </tr>\n",
       "    <tr>\n",
       "      <th>40</th>\n",
       "      <td>20</td>\n",
       "      <td>idfc</td>\n",
       "      <td>rakbank</td>\n",
       "      <td>9485734</td>\n",
       "      <td>USD</td>\n",
       "      <td>103</td>\n",
       "      <td>2024</td>\n",
       "      <td>outgoing</td>\n",
       "    </tr>\n",
       "    <tr>\n",
       "      <th>41</th>\n",
       "      <td>45</td>\n",
       "      <td>rakbank</td>\n",
       "      <td>mfb</td>\n",
       "      <td>500000</td>\n",
       "      <td>USD</td>\n",
       "      <td>103</td>\n",
       "      <td>2023</td>\n",
       "      <td>incoming</td>\n",
       "    </tr>\n",
       "    <tr>\n",
       "      <th>42</th>\n",
       "      <td>20</td>\n",
       "      <td>mfb</td>\n",
       "      <td>adcb</td>\n",
       "      <td>3244223</td>\n",
       "      <td>EUR</td>\n",
       "      <td>104</td>\n",
       "      <td>2024</td>\n",
       "      <td>outgoing</td>\n",
       "    </tr>\n",
       "  </tbody>\n",
       "</table>\n",
       "</div>"
      ],
      "text/plain": [
       "    count   sender receiver   amount currency  mt_type  year direction\n",
       "0      25     adcb     idfc  4000000      EUR      202  2023  incoming\n",
       "1      20     adcb  rakbank  1002313      USD      103  2023  incoming\n",
       "2      25     adcb  rakbank   500000      EUR      103  2024  outgoing\n",
       "3      45     adcb     hdfc  9485734      EUR      103  2023  incoming\n",
       "4      15     hdfc      mfb  9485734      EUR      202  2024  incoming\n",
       "5      25     hdfc  mashreq  9485734      USD      103  2023  outgoing\n",
       "6      25  mashreq  rakbank  4000000      USD      103  2023  outgoing\n",
       "7      25      mfb     adcb  4000000      USD      202  2024  outgoing\n",
       "8      20  mashreq      mfb   400000      EUR      202  2024  incoming\n",
       "9      15  rakbank     adcb   400000      USD      103  2023  incoming\n",
       "10     25     adcb  rakbank  1002313      USD      103  2023  incoming\n",
       "11     45      mfb     adcb  1002313      USD      103  2023  incoming\n",
       "12     25  rakbank     hdfc  9485734      EUR      103  2023  incoming\n",
       "13     20     hdfc  rakbank  1002313      EUR      103  2023  incoming\n",
       "14     25     adcb      mfb  1002313      USD      103  2024  outgoing\n",
       "15     15     idfc      mfb   400000      USD      103  2024  incoming\n",
       "16     25     hdfc  rakbank  1002313      EUR      103  2023  outgoing\n",
       "17     25     adcb      mfb   500000      EUR      103  2024  outgoing\n",
       "18     15     adcb     hdfc  4000000      EUR      202  2024  outgoing\n",
       "19     25     hdfc      mfb   500000      EUR      103  2024  incoming\n",
       "20     20      mfb     hdfc   400000      EUR      104  2023  incoming\n",
       "21     45     hdfc     adcb   400000      USD      202  2023  outgoing\n",
       "22     25  mashreq  rakbank  4000000      EUR      202  2024  outgoing\n",
       "23     25  rakbank     adcb  1002313      USD      202  2023  incoming\n",
       "24     25  rakbank  mashreq   500000      EUR      103  2023  incoming\n",
       "25     25      mfb  rakbank  9485734      USD      103  2024  incoming\n",
       "26     20     adcb      mfb  3244223      USD      202  2024  outgoing\n",
       "27     20  rakbank      mfb  1002313      EUR      103  2023  incoming\n",
       "28     25     adcb      mfb   500000      USD      103  2023  incoming\n",
       "29     25  rakbank  mashreq   500000      EUR      104  2023  outgoing\n",
       "30     45     adcb  mashreq  9485734      EUR      202  2024  outgoing\n",
       "31     45     adcb     hdfc  9485734      EUR      202  2023  outgoing\n",
       "32     45  mashreq     idfc  1002313      USD      202  2023  incoming\n",
       "33     20     idfc      mfb  1002313      EUR      202  2023  incoming\n",
       "34     15  rakbank     idfc  9485734      EUR      202  2024  outgoing\n",
       "35     45  rakbank     idfc   500000      EUR      103  2023  incoming\n",
       "36     25     idfc  rakbank  3244223      USD      202  2024  outgoing\n",
       "37     15  rakbank  mashreq  9485734      USD      103  2023  incoming\n",
       "38     45     adcb      mfb  9485734      USD      202  2024  outgoing\n",
       "39     20  rakbank     idfc   400000      EUR      103  2023  outgoing\n",
       "40     20     idfc  rakbank  9485734      USD      103  2024  outgoing\n",
       "41     45  rakbank      mfb   500000      USD      103  2023  incoming\n",
       "42     20      mfb     adcb  3244223      EUR      104  2024  outgoing"
      ]
     },
     "execution_count": 116,
     "metadata": {},
     "output_type": "execute_result"
    }
   ],
   "source": [
    "df=simulated_df\n",
    "df"
   ]
  },
  {
   "cell_type": "code",
   "execution_count": 117,
   "id": "31259980",
   "metadata": {},
   "outputs": [],
   "source": [
    "import plotly.graph_objects as go\n"
   ]
  },
  {
   "cell_type": "code",
   "execution_count": null,
   "id": "72d6b708",
   "metadata": {},
   "outputs": [],
   "source": [
    "nodes = list(pd.unique(df[['sender', 'receiver']].values.ravel('K')))  #we select sender and receiver banks as nodes in this case and take the unique labels\n"
   ]
  },
  {
   "cell_type": "code",
   "execution_count": null,
   "id": "4a48789a",
   "metadata": {},
   "outputs": [
    {
     "data": {
      "text/plain": [
       "['adcb', 'hdfc', 'mashreq', 'mfb', 'rakbank', 'idfc']"
      ]
     },
     "execution_count": 119,
     "metadata": {},
     "output_type": "execute_result"
    }
   ],
   "source": [
    "\n",
    "nodes\n",
    "\n",
    "#nodes here would be the banks which acts as a source and target to each other\n",
    "#links are the flows/connections between all of them "
   ]
  },
  {
   "cell_type": "code",
   "execution_count": 120,
   "id": "dfaa18a2",
   "metadata": {},
   "outputs": [],
   "source": [
    "indices={node:i for i,node in enumerate(nodes)}  #indexes of all nodes"
   ]
  },
  {
   "cell_type": "code",
   "execution_count": 121,
   "id": "2a7c4637",
   "metadata": {},
   "outputs": [
    {
     "name": "stdout",
     "output_type": "stream",
     "text": [
      "0     4000000\n",
      "1     1002313\n",
      "2      500000\n",
      "3     9485734\n",
      "4     9485734\n",
      "5     9485734\n",
      "6     4000000\n",
      "7     4000000\n",
      "8      400000\n",
      "9      400000\n",
      "10    1002313\n",
      "11    1002313\n",
      "12    9485734\n",
      "13    1002313\n",
      "14    1002313\n",
      "15     400000\n",
      "16    1002313\n",
      "17     500000\n",
      "18    4000000\n",
      "19     500000\n",
      "20     400000\n",
      "21     400000\n",
      "22    4000000\n",
      "23    1002313\n",
      "24     500000\n",
      "25    9485734\n",
      "26    3244223\n",
      "27    1002313\n",
      "28     500000\n",
      "29     500000\n",
      "30    9485734\n",
      "31    9485734\n",
      "32    1002313\n",
      "33    1002313\n",
      "34    9485734\n",
      "35     500000\n",
      "36    3244223\n",
      "37    9485734\n",
      "38    9485734\n",
      "39     400000\n",
      "40    9485734\n",
      "41     500000\n",
      "42    3244223\n",
      "Name: amount, dtype: int32\n",
      "0     0\n",
      "1     0\n",
      "2     0\n",
      "3     0\n",
      "4     1\n",
      "5     1\n",
      "6     2\n",
      "7     3\n",
      "8     2\n",
      "9     4\n",
      "10    0\n",
      "11    3\n",
      "12    4\n",
      "13    1\n",
      "14    0\n",
      "15    5\n",
      "16    1\n",
      "17    0\n",
      "18    0\n",
      "19    1\n",
      "20    3\n",
      "21    1\n",
      "22    2\n",
      "23    4\n",
      "24    4\n",
      "25    3\n",
      "26    0\n",
      "27    4\n",
      "28    0\n",
      "29    4\n",
      "30    0\n",
      "31    0\n",
      "32    2\n",
      "33    5\n",
      "34    4\n",
      "35    4\n",
      "36    5\n",
      "37    4\n",
      "38    0\n",
      "39    4\n",
      "40    5\n",
      "41    4\n",
      "42    3\n",
      "Name: sender, dtype: int64\n",
      "0     5\n",
      "1     4\n",
      "2     4\n",
      "3     1\n",
      "4     3\n",
      "5     2\n",
      "6     4\n",
      "7     0\n",
      "8     3\n",
      "9     0\n",
      "10    4\n",
      "11    0\n",
      "12    1\n",
      "13    4\n",
      "14    3\n",
      "15    3\n",
      "16    4\n",
      "17    3\n",
      "18    1\n",
      "19    3\n",
      "20    1\n",
      "21    0\n",
      "22    4\n",
      "23    0\n",
      "24    2\n",
      "25    4\n",
      "26    3\n",
      "27    3\n",
      "28    3\n",
      "29    2\n",
      "30    2\n",
      "31    1\n",
      "32    5\n",
      "33    3\n",
      "34    5\n",
      "35    5\n",
      "36    4\n",
      "37    2\n",
      "38    3\n",
      "39    5\n",
      "40    4\n",
      "41    3\n",
      "42    0\n",
      "Name: receiver, dtype: int64\n"
     ]
    }
   ],
   "source": [
    "senderindices=df['sender'].map(indices)  #indices of all the senders\n",
    "receiverindices=df['receiver'].map(indices)  #'' receivers\n",
    "amounts=df['amount']\n",
    "print(amounts)\n",
    "print(senderindices)\n",
    "print(receiverindices)"
   ]
  },
  {
   "cell_type": "code",
   "execution_count": 122,
   "id": "ea779a5e",
   "metadata": {},
   "outputs": [],
   "source": [
    "# links\n",
    "\n",
    "fig=go.Figure(data=go.Sankey(\n",
    "    node=dict(\n",
    "        pad=25,\n",
    "        thickness=20,\n",
    "        line=dict(color=\"black\",width=0.5),\n",
    "        label=['mfb','adcb','idfc','hdfc'],\n",
    "    ),\n",
    "    link=dict(\n",
    "        source=senderindices,\n",
    "        target=receiverindices,\n",
    "        value=amounts\n",
    "    )\n",
    "))"
   ]
  },
  {
   "cell_type": "code",
   "execution_count": 124,
   "id": "af0a5019",
   "metadata": {},
   "outputs": [
    {
     "data": {
      "application/vnd.plotly.v1+json": {
       "config": {
        "plotlyServerURL": "https://plot.ly"
       },
       "data": [
        {
         "link": {
          "source": [
           0,
           0,
           0,
           0,
           1,
           1,
           2,
           3,
           2,
           4,
           0,
           3,
           4,
           1,
           0,
           5,
           1,
           0,
           0,
           1,
           3,
           1,
           2,
           4,
           4,
           3,
           0,
           4,
           0,
           4,
           0,
           0,
           2,
           5,
           4,
           4,
           5,
           4,
           0,
           4,
           5,
           4,
           3
          ],
          "target": [
           5,
           4,
           4,
           1,
           3,
           2,
           4,
           0,
           3,
           0,
           4,
           0,
           1,
           4,
           3,
           3,
           4,
           3,
           1,
           3,
           1,
           0,
           4,
           0,
           2,
           4,
           3,
           3,
           3,
           2,
           2,
           1,
           5,
           3,
           5,
           5,
           4,
           2,
           3,
           5,
           4,
           3,
           0
          ],
          "value": [
           4000000,
           1002313,
           500000,
           9485734,
           9485734,
           9485734,
           4000000,
           4000000,
           400000,
           400000,
           1002313,
           1002313,
           9485734,
           1002313,
           1002313,
           400000,
           1002313,
           500000,
           4000000,
           500000,
           400000,
           400000,
           4000000,
           1002313,
           500000,
           9485734,
           3244223,
           1002313,
           500000,
           500000,
           9485734,
           9485734,
           1002313,
           1002313,
           9485734,
           500000,
           3244223,
           9485734,
           9485734,
           400000,
           9485734,
           500000,
           3244223
          ]
         },
         "node": {
          "label": [
           "mfb",
           "adcb",
           "idfc",
           "hdfc"
          ],
          "line": {
           "color": "black",
           "width": 0.5
          },
          "pad": 25,
          "thickness": 20
         },
         "type": "sankey"
        }
       ],
       "layout": {
        "height": 700,
        "template": {
         "data": {
          "bar": [
           {
            "error_x": {
             "color": "#2a3f5f"
            },
            "error_y": {
             "color": "#2a3f5f"
            },
            "marker": {
             "line": {
              "color": "#E5ECF6",
              "width": 0.5
             },
             "pattern": {
              "fillmode": "overlay",
              "size": 10,
              "solidity": 0.2
             }
            },
            "type": "bar"
           }
          ],
          "barpolar": [
           {
            "marker": {
             "line": {
              "color": "#E5ECF6",
              "width": 0.5
             },
             "pattern": {
              "fillmode": "overlay",
              "size": 10,
              "solidity": 0.2
             }
            },
            "type": "barpolar"
           }
          ],
          "carpet": [
           {
            "aaxis": {
             "endlinecolor": "#2a3f5f",
             "gridcolor": "white",
             "linecolor": "white",
             "minorgridcolor": "white",
             "startlinecolor": "#2a3f5f"
            },
            "baxis": {
             "endlinecolor": "#2a3f5f",
             "gridcolor": "white",
             "linecolor": "white",
             "minorgridcolor": "white",
             "startlinecolor": "#2a3f5f"
            },
            "type": "carpet"
           }
          ],
          "choropleth": [
           {
            "colorbar": {
             "outlinewidth": 0,
             "ticks": ""
            },
            "type": "choropleth"
           }
          ],
          "contour": [
           {
            "colorbar": {
             "outlinewidth": 0,
             "ticks": ""
            },
            "colorscale": [
             [
              0,
              "#0d0887"
             ],
             [
              0.1111111111111111,
              "#46039f"
             ],
             [
              0.2222222222222222,
              "#7201a8"
             ],
             [
              0.3333333333333333,
              "#9c179e"
             ],
             [
              0.4444444444444444,
              "#bd3786"
             ],
             [
              0.5555555555555556,
              "#d8576b"
             ],
             [
              0.6666666666666666,
              "#ed7953"
             ],
             [
              0.7777777777777778,
              "#fb9f3a"
             ],
             [
              0.8888888888888888,
              "#fdca26"
             ],
             [
              1,
              "#f0f921"
             ]
            ],
            "type": "contour"
           }
          ],
          "contourcarpet": [
           {
            "colorbar": {
             "outlinewidth": 0,
             "ticks": ""
            },
            "type": "contourcarpet"
           }
          ],
          "heatmap": [
           {
            "colorbar": {
             "outlinewidth": 0,
             "ticks": ""
            },
            "colorscale": [
             [
              0,
              "#0d0887"
             ],
             [
              0.1111111111111111,
              "#46039f"
             ],
             [
              0.2222222222222222,
              "#7201a8"
             ],
             [
              0.3333333333333333,
              "#9c179e"
             ],
             [
              0.4444444444444444,
              "#bd3786"
             ],
             [
              0.5555555555555556,
              "#d8576b"
             ],
             [
              0.6666666666666666,
              "#ed7953"
             ],
             [
              0.7777777777777778,
              "#fb9f3a"
             ],
             [
              0.8888888888888888,
              "#fdca26"
             ],
             [
              1,
              "#f0f921"
             ]
            ],
            "type": "heatmap"
           }
          ],
          "heatmapgl": [
           {
            "colorbar": {
             "outlinewidth": 0,
             "ticks": ""
            },
            "colorscale": [
             [
              0,
              "#0d0887"
             ],
             [
              0.1111111111111111,
              "#46039f"
             ],
             [
              0.2222222222222222,
              "#7201a8"
             ],
             [
              0.3333333333333333,
              "#9c179e"
             ],
             [
              0.4444444444444444,
              "#bd3786"
             ],
             [
              0.5555555555555556,
              "#d8576b"
             ],
             [
              0.6666666666666666,
              "#ed7953"
             ],
             [
              0.7777777777777778,
              "#fb9f3a"
             ],
             [
              0.8888888888888888,
              "#fdca26"
             ],
             [
              1,
              "#f0f921"
             ]
            ],
            "type": "heatmapgl"
           }
          ],
          "histogram": [
           {
            "marker": {
             "pattern": {
              "fillmode": "overlay",
              "size": 10,
              "solidity": 0.2
             }
            },
            "type": "histogram"
           }
          ],
          "histogram2d": [
           {
            "colorbar": {
             "outlinewidth": 0,
             "ticks": ""
            },
            "colorscale": [
             [
              0,
              "#0d0887"
             ],
             [
              0.1111111111111111,
              "#46039f"
             ],
             [
              0.2222222222222222,
              "#7201a8"
             ],
             [
              0.3333333333333333,
              "#9c179e"
             ],
             [
              0.4444444444444444,
              "#bd3786"
             ],
             [
              0.5555555555555556,
              "#d8576b"
             ],
             [
              0.6666666666666666,
              "#ed7953"
             ],
             [
              0.7777777777777778,
              "#fb9f3a"
             ],
             [
              0.8888888888888888,
              "#fdca26"
             ],
             [
              1,
              "#f0f921"
             ]
            ],
            "type": "histogram2d"
           }
          ],
          "histogram2dcontour": [
           {
            "colorbar": {
             "outlinewidth": 0,
             "ticks": ""
            },
            "colorscale": [
             [
              0,
              "#0d0887"
             ],
             [
              0.1111111111111111,
              "#46039f"
             ],
             [
              0.2222222222222222,
              "#7201a8"
             ],
             [
              0.3333333333333333,
              "#9c179e"
             ],
             [
              0.4444444444444444,
              "#bd3786"
             ],
             [
              0.5555555555555556,
              "#d8576b"
             ],
             [
              0.6666666666666666,
              "#ed7953"
             ],
             [
              0.7777777777777778,
              "#fb9f3a"
             ],
             [
              0.8888888888888888,
              "#fdca26"
             ],
             [
              1,
              "#f0f921"
             ]
            ],
            "type": "histogram2dcontour"
           }
          ],
          "mesh3d": [
           {
            "colorbar": {
             "outlinewidth": 0,
             "ticks": ""
            },
            "type": "mesh3d"
           }
          ],
          "parcoords": [
           {
            "line": {
             "colorbar": {
              "outlinewidth": 0,
              "ticks": ""
             }
            },
            "type": "parcoords"
           }
          ],
          "pie": [
           {
            "automargin": true,
            "type": "pie"
           }
          ],
          "scatter": [
           {
            "fillpattern": {
             "fillmode": "overlay",
             "size": 10,
             "solidity": 0.2
            },
            "type": "scatter"
           }
          ],
          "scatter3d": [
           {
            "line": {
             "colorbar": {
              "outlinewidth": 0,
              "ticks": ""
             }
            },
            "marker": {
             "colorbar": {
              "outlinewidth": 0,
              "ticks": ""
             }
            },
            "type": "scatter3d"
           }
          ],
          "scattercarpet": [
           {
            "marker": {
             "colorbar": {
              "outlinewidth": 0,
              "ticks": ""
             }
            },
            "type": "scattercarpet"
           }
          ],
          "scattergeo": [
           {
            "marker": {
             "colorbar": {
              "outlinewidth": 0,
              "ticks": ""
             }
            },
            "type": "scattergeo"
           }
          ],
          "scattergl": [
           {
            "marker": {
             "colorbar": {
              "outlinewidth": 0,
              "ticks": ""
             }
            },
            "type": "scattergl"
           }
          ],
          "scattermapbox": [
           {
            "marker": {
             "colorbar": {
              "outlinewidth": 0,
              "ticks": ""
             }
            },
            "type": "scattermapbox"
           }
          ],
          "scatterpolar": [
           {
            "marker": {
             "colorbar": {
              "outlinewidth": 0,
              "ticks": ""
             }
            },
            "type": "scatterpolar"
           }
          ],
          "scatterpolargl": [
           {
            "marker": {
             "colorbar": {
              "outlinewidth": 0,
              "ticks": ""
             }
            },
            "type": "scatterpolargl"
           }
          ],
          "scatterternary": [
           {
            "marker": {
             "colorbar": {
              "outlinewidth": 0,
              "ticks": ""
             }
            },
            "type": "scatterternary"
           }
          ],
          "surface": [
           {
            "colorbar": {
             "outlinewidth": 0,
             "ticks": ""
            },
            "colorscale": [
             [
              0,
              "#0d0887"
             ],
             [
              0.1111111111111111,
              "#46039f"
             ],
             [
              0.2222222222222222,
              "#7201a8"
             ],
             [
              0.3333333333333333,
              "#9c179e"
             ],
             [
              0.4444444444444444,
              "#bd3786"
             ],
             [
              0.5555555555555556,
              "#d8576b"
             ],
             [
              0.6666666666666666,
              "#ed7953"
             ],
             [
              0.7777777777777778,
              "#fb9f3a"
             ],
             [
              0.8888888888888888,
              "#fdca26"
             ],
             [
              1,
              "#f0f921"
             ]
            ],
            "type": "surface"
           }
          ],
          "table": [
           {
            "cells": {
             "fill": {
              "color": "#EBF0F8"
             },
             "line": {
              "color": "white"
             }
            },
            "header": {
             "fill": {
              "color": "#C8D4E3"
             },
             "line": {
              "color": "white"
             }
            },
            "type": "table"
           }
          ]
         },
         "layout": {
          "annotationdefaults": {
           "arrowcolor": "#2a3f5f",
           "arrowhead": 0,
           "arrowwidth": 1
          },
          "autotypenumbers": "strict",
          "coloraxis": {
           "colorbar": {
            "outlinewidth": 0,
            "ticks": ""
           }
          },
          "colorscale": {
           "diverging": [
            [
             0,
             "#8e0152"
            ],
            [
             0.1,
             "#c51b7d"
            ],
            [
             0.2,
             "#de77ae"
            ],
            [
             0.3,
             "#f1b6da"
            ],
            [
             0.4,
             "#fde0ef"
            ],
            [
             0.5,
             "#f7f7f7"
            ],
            [
             0.6,
             "#e6f5d0"
            ],
            [
             0.7,
             "#b8e186"
            ],
            [
             0.8,
             "#7fbc41"
            ],
            [
             0.9,
             "#4d9221"
            ],
            [
             1,
             "#276419"
            ]
           ],
           "sequential": [
            [
             0,
             "#0d0887"
            ],
            [
             0.1111111111111111,
             "#46039f"
            ],
            [
             0.2222222222222222,
             "#7201a8"
            ],
            [
             0.3333333333333333,
             "#9c179e"
            ],
            [
             0.4444444444444444,
             "#bd3786"
            ],
            [
             0.5555555555555556,
             "#d8576b"
            ],
            [
             0.6666666666666666,
             "#ed7953"
            ],
            [
             0.7777777777777778,
             "#fb9f3a"
            ],
            [
             0.8888888888888888,
             "#fdca26"
            ],
            [
             1,
             "#f0f921"
            ]
           ],
           "sequentialminus": [
            [
             0,
             "#0d0887"
            ],
            [
             0.1111111111111111,
             "#46039f"
            ],
            [
             0.2222222222222222,
             "#7201a8"
            ],
            [
             0.3333333333333333,
             "#9c179e"
            ],
            [
             0.4444444444444444,
             "#bd3786"
            ],
            [
             0.5555555555555556,
             "#d8576b"
            ],
            [
             0.6666666666666666,
             "#ed7953"
            ],
            [
             0.7777777777777778,
             "#fb9f3a"
            ],
            [
             0.8888888888888888,
             "#fdca26"
            ],
            [
             1,
             "#f0f921"
            ]
           ]
          },
          "colorway": [
           "#636efa",
           "#EF553B",
           "#00cc96",
           "#ab63fa",
           "#FFA15A",
           "#19d3f3",
           "#FF6692",
           "#B6E880",
           "#FF97FF",
           "#FECB52"
          ],
          "font": {
           "color": "#2a3f5f"
          },
          "geo": {
           "bgcolor": "white",
           "lakecolor": "white",
           "landcolor": "#E5ECF6",
           "showlakes": true,
           "showland": true,
           "subunitcolor": "white"
          },
          "hoverlabel": {
           "align": "left"
          },
          "hovermode": "closest",
          "mapbox": {
           "style": "light"
          },
          "paper_bgcolor": "white",
          "plot_bgcolor": "#E5ECF6",
          "polar": {
           "angularaxis": {
            "gridcolor": "white",
            "linecolor": "white",
            "ticks": ""
           },
           "bgcolor": "#E5ECF6",
           "radialaxis": {
            "gridcolor": "white",
            "linecolor": "white",
            "ticks": ""
           }
          },
          "scene": {
           "xaxis": {
            "backgroundcolor": "#E5ECF6",
            "gridcolor": "white",
            "gridwidth": 2,
            "linecolor": "white",
            "showbackground": true,
            "ticks": "",
            "zerolinecolor": "white"
           },
           "yaxis": {
            "backgroundcolor": "#E5ECF6",
            "gridcolor": "white",
            "gridwidth": 2,
            "linecolor": "white",
            "showbackground": true,
            "ticks": "",
            "zerolinecolor": "white"
           },
           "zaxis": {
            "backgroundcolor": "#E5ECF6",
            "gridcolor": "white",
            "gridwidth": 2,
            "linecolor": "white",
            "showbackground": true,
            "ticks": "",
            "zerolinecolor": "white"
           }
          },
          "shapedefaults": {
           "line": {
            "color": "#2a3f5f"
           }
          },
          "ternary": {
           "aaxis": {
            "gridcolor": "white",
            "linecolor": "white",
            "ticks": ""
           },
           "baxis": {
            "gridcolor": "white",
            "linecolor": "white",
            "ticks": ""
           },
           "bgcolor": "#E5ECF6",
           "caxis": {
            "gridcolor": "white",
            "linecolor": "white",
            "ticks": ""
           }
          },
          "title": {
           "x": 0.05
          },
          "xaxis": {
           "automargin": true,
           "gridcolor": "white",
           "linecolor": "white",
           "ticks": "",
           "title": {
            "standoff": 15
           },
           "zerolinecolor": "white",
           "zerolinewidth": 2
          },
          "yaxis": {
           "automargin": true,
           "gridcolor": "white",
           "linecolor": "white",
           "ticks": "",
           "title": {
            "standoff": 15
           },
           "zerolinecolor": "white",
           "zerolinewidth": 2
          }
         }
        },
        "title": {
         "text": "Sankey Diagram"
        },
        "width": 800
       }
      }
     },
     "metadata": {},
     "output_type": "display_data"
    }
   ],
   "source": [
    "fig.update_layout(title_text=\"Sankey Diagram\",width=800,height=700)\n",
    "fig.show()"
   ]
  },
  {
   "cell_type": "code",
   "execution_count": null,
   "id": "4981e3ac",
   "metadata": {},
   "outputs": [],
   "source": []
  }
 ],
 "metadata": {
  "kernelspec": {
   "display_name": "cudaenv",
   "language": "python",
   "name": "python3"
  },
  "language_info": {
   "codemirror_mode": {
    "name": "ipython",
    "version": 3
   },
   "file_extension": ".py",
   "mimetype": "text/x-python",
   "name": "python",
   "nbconvert_exporter": "python",
   "pygments_lexer": "ipython3",
   "version": "3.10.15"
  }
 },
 "nbformat": 4,
 "nbformat_minor": 5
}
