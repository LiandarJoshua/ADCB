{
 "cells": [
  {
   "cell_type": "code",
   "execution_count": 1,
   "id": "6b02397d",
   "metadata": {},
   "outputs": [
    {
     "data": {
      "text/html": [
       "<div>\n",
       "<style scoped>\n",
       "    .dataframe tbody tr th:only-of-type {\n",
       "        vertical-align: middle;\n",
       "    }\n",
       "\n",
       "    .dataframe tbody tr th {\n",
       "        vertical-align: top;\n",
       "    }\n",
       "\n",
       "    .dataframe thead th {\n",
       "        text-align: right;\n",
       "    }\n",
       "</style>\n",
       "<table border=\"1\" class=\"dataframe\">\n",
       "  <thead>\n",
       "    <tr style=\"text-align: right;\">\n",
       "      <th></th>\n",
       "      <th>Count</th>\n",
       "      <th>sender</th>\n",
       "      <th>receiver</th>\n",
       "      <th>amount</th>\n",
       "      <th>currency</th>\n",
       "      <th>Mt</th>\n",
       "      <th>year</th>\n",
       "      <th>direction</th>\n",
       "      <th>category</th>\n",
       "      <th>send region</th>\n",
       "      <th>receiver region</th>\n",
       "      <th>mx/mt</th>\n",
       "    </tr>\n",
       "  </thead>\n",
       "  <tbody>\n",
       "    <tr>\n",
       "      <th>0</th>\n",
       "      <td>1</td>\n",
       "      <td>Mashreq Bank</td>\n",
       "      <td>United Arab Bank</td>\n",
       "      <td>38111.53</td>\n",
       "      <td>EUR</td>\n",
       "      <td>MT940</td>\n",
       "      <td>2015</td>\n",
       "      <td>Outgoing</td>\n",
       "      <td>Retail Payment</td>\n",
       "      <td>Central Asia</td>\n",
       "      <td>Middle East</td>\n",
       "      <td>MT</td>\n",
       "    </tr>\n",
       "    <tr>\n",
       "      <th>1</th>\n",
       "      <td>2</td>\n",
       "      <td>Barclays</td>\n",
       "      <td>RAK Bank</td>\n",
       "      <td>128668.30</td>\n",
       "      <td>GBP</td>\n",
       "      <td>MT799</td>\n",
       "      <td>2022</td>\n",
       "      <td>Incoming</td>\n",
       "      <td>FX Settlement</td>\n",
       "      <td>Latin America</td>\n",
       "      <td>Middle East</td>\n",
       "      <td>MT</td>\n",
       "    </tr>\n",
       "    <tr>\n",
       "      <th>2</th>\n",
       "      <td>3</td>\n",
       "      <td>Royal Bank of Canada</td>\n",
       "      <td>Emirates NBD</td>\n",
       "      <td>26914.61</td>\n",
       "      <td>EUR</td>\n",
       "      <td>MT103</td>\n",
       "      <td>2023</td>\n",
       "      <td>Outgoing</td>\n",
       "      <td>Retail Payment</td>\n",
       "      <td>Southeast Asia</td>\n",
       "      <td>Middle East</td>\n",
       "      <td>MT</td>\n",
       "    </tr>\n",
       "    <tr>\n",
       "      <th>3</th>\n",
       "      <td>4</td>\n",
       "      <td>Bank of China</td>\n",
       "      <td>First Abu Dhabi Bank</td>\n",
       "      <td>1248.98</td>\n",
       "      <td>USD</td>\n",
       "      <td>MT760</td>\n",
       "      <td>2017</td>\n",
       "      <td>Incoming</td>\n",
       "      <td>Trade Finance</td>\n",
       "      <td>Asia Pacific</td>\n",
       "      <td>Middle East</td>\n",
       "      <td>MT</td>\n",
       "    </tr>\n",
       "    <tr>\n",
       "      <th>4</th>\n",
       "      <td>5</td>\n",
       "      <td>BNP Paribas</td>\n",
       "      <td>Bank of Tokyo-Mitsubishi UFJ</td>\n",
       "      <td>6710.04</td>\n",
       "      <td>GBP</td>\n",
       "      <td>MT940</td>\n",
       "      <td>2016</td>\n",
       "      <td>Incoming</td>\n",
       "      <td>Loan Disbursement</td>\n",
       "      <td>Central Asia</td>\n",
       "      <td>Southeast Asia</td>\n",
       "      <td>MT</td>\n",
       "    </tr>\n",
       "    <tr>\n",
       "      <th>...</th>\n",
       "      <td>...</td>\n",
       "      <td>...</td>\n",
       "      <td>...</td>\n",
       "      <td>...</td>\n",
       "      <td>...</td>\n",
       "      <td>...</td>\n",
       "      <td>...</td>\n",
       "      <td>...</td>\n",
       "      <td>...</td>\n",
       "      <td>...</td>\n",
       "      <td>...</td>\n",
       "      <td>...</td>\n",
       "    </tr>\n",
       "    <tr>\n",
       "      <th>495</th>\n",
       "      <td>496</td>\n",
       "      <td>UBS</td>\n",
       "      <td>National Bank of Fujairah</td>\n",
       "      <td>14928.90</td>\n",
       "      <td>AED</td>\n",
       "      <td>MT799</td>\n",
       "      <td>2015</td>\n",
       "      <td>Incoming</td>\n",
       "      <td>Corporate Payment</td>\n",
       "      <td>South Asia</td>\n",
       "      <td>Middle East</td>\n",
       "      <td>MT</td>\n",
       "    </tr>\n",
       "    <tr>\n",
       "      <th>496</th>\n",
       "      <td>497</td>\n",
       "      <td>Bank of China</td>\n",
       "      <td>Abu Dhabi Commercial Bank</td>\n",
       "      <td>11987567.00</td>\n",
       "      <td>JPY</td>\n",
       "      <td>MT940</td>\n",
       "      <td>2018</td>\n",
       "      <td>Outgoing</td>\n",
       "      <td>Loan Disbursement</td>\n",
       "      <td>Caribbean</td>\n",
       "      <td>Middle East</td>\n",
       "      <td>MT</td>\n",
       "    </tr>\n",
       "    <tr>\n",
       "      <th>497</th>\n",
       "      <td>498</td>\n",
       "      <td>Industrial and Commercial Bank of China</td>\n",
       "      <td>Credit Suisse</td>\n",
       "      <td>61238.79</td>\n",
       "      <td>USD</td>\n",
       "      <td>MT700</td>\n",
       "      <td>2021</td>\n",
       "      <td>Outgoing</td>\n",
       "      <td>Corporate Payment</td>\n",
       "      <td>South Asia</td>\n",
       "      <td>South Asia</td>\n",
       "      <td>MT</td>\n",
       "    </tr>\n",
       "    <tr>\n",
       "      <th>498</th>\n",
       "      <td>499</td>\n",
       "      <td>Abu Dhabi Commercial Bank</td>\n",
       "      <td>Commercial Bank of Dubai</td>\n",
       "      <td>1165309.00</td>\n",
       "      <td>JPY</td>\n",
       "      <td>MT202</td>\n",
       "      <td>2018</td>\n",
       "      <td>Incoming</td>\n",
       "      <td>Loan Disbursement</td>\n",
       "      <td>Caribbean</td>\n",
       "      <td>Middle East</td>\n",
       "      <td>MT</td>\n",
       "    </tr>\n",
       "    <tr>\n",
       "      <th>499</th>\n",
       "      <td>500</td>\n",
       "      <td>Barclays</td>\n",
       "      <td>Emirates NBD</td>\n",
       "      <td>382288.01</td>\n",
       "      <td>AED</td>\n",
       "      <td>MT910</td>\n",
       "      <td>2018</td>\n",
       "      <td>Outgoing</td>\n",
       "      <td>Treasury Operations</td>\n",
       "      <td>South Asia</td>\n",
       "      <td>Middle East</td>\n",
       "      <td>MT</td>\n",
       "    </tr>\n",
       "  </tbody>\n",
       "</table>\n",
       "<p>500 rows × 12 columns</p>\n",
       "</div>"
      ],
      "text/plain": [
       "     Count                                   sender  \\\n",
       "0        1                             Mashreq Bank   \n",
       "1        2                                 Barclays   \n",
       "2        3                     Royal Bank of Canada   \n",
       "3        4                            Bank of China   \n",
       "4        5                              BNP Paribas   \n",
       "..     ...                                      ...   \n",
       "495    496                                      UBS   \n",
       "496    497                            Bank of China   \n",
       "497    498  Industrial and Commercial Bank of China   \n",
       "498    499                Abu Dhabi Commercial Bank   \n",
       "499    500                                 Barclays   \n",
       "\n",
       "                         receiver       amount currency     Mt  year  \\\n",
       "0                United Arab Bank     38111.53      EUR  MT940  2015   \n",
       "1                        RAK Bank    128668.30      GBP  MT799  2022   \n",
       "2                    Emirates NBD     26914.61      EUR  MT103  2023   \n",
       "3            First Abu Dhabi Bank      1248.98      USD  MT760  2017   \n",
       "4    Bank of Tokyo-Mitsubishi UFJ      6710.04      GBP  MT940  2016   \n",
       "..                            ...          ...      ...    ...   ...   \n",
       "495     National Bank of Fujairah     14928.90      AED  MT799  2015   \n",
       "496     Abu Dhabi Commercial Bank  11987567.00      JPY  MT940  2018   \n",
       "497                 Credit Suisse     61238.79      USD  MT700  2021   \n",
       "498      Commercial Bank of Dubai   1165309.00      JPY  MT202  2018   \n",
       "499                  Emirates NBD    382288.01      AED  MT910  2018   \n",
       "\n",
       "    direction             category     send region receiver region mx/mt  \n",
       "0    Outgoing       Retail Payment    Central Asia     Middle East    MT  \n",
       "1    Incoming        FX Settlement   Latin America     Middle East    MT  \n",
       "2    Outgoing       Retail Payment  Southeast Asia     Middle East    MT  \n",
       "3    Incoming        Trade Finance    Asia Pacific     Middle East    MT  \n",
       "4    Incoming    Loan Disbursement    Central Asia  Southeast Asia    MT  \n",
       "..        ...                  ...             ...             ...   ...  \n",
       "495  Incoming    Corporate Payment      South Asia     Middle East    MT  \n",
       "496  Outgoing    Loan Disbursement       Caribbean     Middle East    MT  \n",
       "497  Outgoing    Corporate Payment      South Asia      South Asia    MT  \n",
       "498  Incoming    Loan Disbursement       Caribbean     Middle East    MT  \n",
       "499  Outgoing  Treasury Operations      South Asia     Middle East    MT  \n",
       "\n",
       "[500 rows x 12 columns]"
      ]
     },
     "execution_count": 1,
     "metadata": {},
     "output_type": "execute_result"
    }
   ],
   "source": [
    "import pandas as pd\n",
    "import numpy as np\n",
    "import random\n",
    "from datetime import datetime, timedelta\n",
    "\n",
    "np.random.seed(42)\n",
    "\n",
    "num_records = 500\n",
    "banks = [\n",
    "    \"Citibank\", \"HSBC\", \"JPMorgan Chase\", \"Bank of America\", \"Standard Chartered\",\n",
    "    \"Deutsche Bank\", \"BNP Paribas\", \"Barclays\", \"Credit Suisse\", \"UBS\",\n",
    "    \"Emirates NBD\", \"Abu Dhabi Commercial Bank\", \"First Abu Dhabi Bank\", \"Dubai Islamic Bank\",\n",
    "    \"Mashreq Bank\", \"Bank of China\", \"Industrial and Commercial Bank of China\", \"Wells Fargo\",\n",
    "    \"Goldman Sachs\", \"Morgan Stanley\", \"Royal Bank of Canada\", \"Bank of Tokyo-Mitsubishi UFJ\"\n",
    "]\n",
    "\n",
    "uae_banks = [\n",
    "    \"Emirates NBD\", \"Abu Dhabi Commercial Bank\", \"First Abu Dhabi Bank\", \n",
    "    \"Dubai Islamic Bank\", \"Mashreq Bank\", \"Commercial Bank of Dubai\", \n",
    "    \"Abu Dhabi Islamic Bank\", \"RAK Bank\", \"National Bank of Fujairah\",\n",
    "    \"Sharjah Islamic Bank\", \"United Arab Bank\", \"National Bank of Umm Al Qaiwain\"\n",
    "]\n",
    "\n",
    "currencies = [\"USD\", \"EUR\", \"GBP\", \"AED\", \"JPY\", \"CHF\", \"CNY\", \"CAD\", \"AUD\", \"SGD\"]\n",
    "mt_types = [\"MT103\", \"MT202\", \"MT700\", \"MT760\", \"MT799\", \"MT910\", \"MT940\", \"MT950\"]\n",
    "directions = [\"Outgoing\", \"Incoming\"]\n",
    "categories = [\"Trade Finance\", \"Corporate Payment\", \"Retail Payment\", \"Interbank Settlement\", \n",
    "              \"Treasury Operations\", \"Investment\", \"Loan Disbursement\", \"FX Settlement\"]\n",
    "\n",
    "regions = [\n",
    "    \"North America\", \"Europe\", \"Asia Pacific\", \"Middle East\", \"Africa\", \n",
    "    \"Latin America\", \"Caribbean\", \"Central Asia\", \"South Asia\", \"Southeast Asia\"\n",
    "]\n",
    "\n",
    "def random_date(start_year=2015, end_year=2023):\n",
    "    start_date = datetime(start_year, 1, 1)\n",
    "    end_date = datetime(end_year, 12, 31)\n",
    "    time_between_dates = end_date - start_date\n",
    "    days_between_dates = time_between_dates.days\n",
    "    random_number_of_days = random.randrange(days_between_dates)\n",
    "    return start_date + timedelta(days=random_number_of_days)\n",
    "\n",
    "data = []\n",
    "for i in range(num_records):\n",
    "    # Determine if receiver is UAE-based (75% probability)\n",
    "    is_uae_receiver = np.random.choice([True, False], p=[0.75, 0.25])\n",
    "\n",
    "    sender = np.random.choice(banks)\n",
    "    if is_uae_receiver:\n",
    "        receiver = np.random.choice(uae_banks)\n",
    "        receiver_region = \"Middle East\"  # UAE is in Middle East\n",
    "    else:\n",
    "\n",
    "        possible_receivers = [bank for bank in banks if bank != sender]\n",
    "        receiver = np.random.choice(possible_receivers)\n",
    "        receiver_region = np.random.choice([r for r in regions if r != \"Middle East\"])\n",
    "\n",
    "    count = i + 1\n",
    "    amount = round(np.random.lognormal(mean=10, sigma=1.5), 2)  \n",
    "    currency = np.random.choice(currencies, p=[0.4, 0.2, 0.1, 0.15, 0.05, 0.02, 0.03, 0.02, 0.02, 0.01])  # USD most common\n",
    "    mt = np.random.choice(mt_types)\n",
    "    year = random_date().year\n",
    "    direction = np.random.choice(directions)\n",
    "    category = np.random.choice(categories)\n",
    "    send_region = np.random.choice(regions)\n",
    "    mx_mt = \"MT\"  # All are MT in this simulation\n",
    "\n",
    "    # Add to data\n",
    "    data.append([\n",
    "        count, sender, receiver, amount, currency, mt, year, direction, \n",
    "        category, send_region, receiver_region, mx_mt\n",
    "    ])\n",
    "\n",
    "columns = ['Count', 'sender', 'receiver', 'amount', 'currency', 'Mt', 'year', \n",
    "           'direction', 'category', 'send region', 'receiver region', 'mx/mt']\n",
    "df = pd.DataFrame(data, columns=columns)\n",
    "\n",
    "for idx, row in df.iterrows():\n",
    "    if row['currency'] == 'JPY':\n",
    "        df.at[idx, 'amount'] = round(row['amount'] * 100)  \n",
    "    elif row['currency'] == 'AED':\n",
    "        df.at[idx, 'amount'] = round(row['amount'] * 3.67, 2)  \n",
    "    elif row['currency'] == 'EUR':\n",
    "        df.at[idx, 'amount'] = round(row['amount'] * 0.85, 2)\n",
    "    elif row['currency'] == 'GBP':\n",
    "        df.at[idx, 'amount'] = round(row['amount'] * 0.75, 2)\n",
    "\n",
    "df"
   ]
  },
  {
   "cell_type": "code",
   "execution_count": null,
   "id": "20769eb6",
   "metadata": {},
   "outputs": [],
   "source": [
    "    status_choices = [\"Completed\", \"Pending\", \"Failed\", \"Cancelled\"]\n",
    "    status_probs = [0.85, 0.08, 0.05, 0.02]\n",
    "    df['transaction_status'] = np.random.choice(status_choices, size=len(df), p=status_probs)\n",
    "    payment_methods = [\"Wire Transfer\", \"ACH\", \"SWIFT\", \"Check\", \"Cash\", \"Mobile Payment\", \"Credit Card\"]\n",
    "    probabilities = [0.4, 0.25, 0.15, 0.05, 0.05, 0.05, 0.05]\n",
    "\n",
    "    df['payment_method'] = np.random.choice(payment_methods, size=len(df), p=probabilities)\n",
    "\n"
   ]
  },
  {
   "cell_type": "code",
   "execution_count": null,
   "id": "abc960a7",
   "metadata": {},
   "outputs": [],
   "source": []
  },
  {
   "cell_type": "code",
   "execution_count": 3,
   "id": "2b3cc029",
   "metadata": {},
   "outputs": [
    {
     "data": {
      "text/plain": [
       "Index(['Count', 'sender', 'receiver', 'amount', 'currency', 'Mt', 'year',\n",
       "       'direction', 'category', 'send region', 'receiver region', 'mx/mt',\n",
       "       'transaction_status', 'payment_method'],\n",
       "      dtype='object')"
      ]
     },
     "execution_count": 3,
     "metadata": {},
     "output_type": "execute_result"
    }
   ],
   "source": [
    "df.columns"
   ]
  },
  {
   "cell_type": "code",
   "execution_count": 19,
   "id": "50bfe24b",
   "metadata": {},
   "outputs": [],
   "source": [
    "import pandas as pd\n",
    "import numpy as np\n",
    "import plotly.graph_objects as go\n",
    "import plotly.express as px\n",
    "from plotly.subplots import make_subplots\n",
    "from ipywidgets import widgets, interactive, Layout\n",
    "from IPython.display import display\n",
    "\n",
    "# Region coordinates (approximate centroids)\n",
    "region_coordinates = {\n",
    "    \"North America\": {\"lat\": 40.0, \"lon\": -100.0},\n",
    "    \"Europe\": {\"lat\": 50.0, \"lon\": 10.0},\n",
    "    \"Asia Pacific\": {\"lat\": 30.0, \"lon\": 120.0},\n",
    "    \"Middle East\": {\"lat\": 27.0, \"lon\": 45.0},\n",
    "    \"Africa\": {\"lat\": 5.0, \"lon\": 20.0},\n",
    "    \"Latin America\": {\"lat\": -10.0, \"lon\": -60.0},\n",
    "    \"Caribbean\": {\"lat\": 20.0, \"lon\": -75.0},\n",
    "    \"Central Asia\": {\"lat\": 45.0, \"lon\": 65.0},\n",
    "    \"South Asia\": {\"lat\": 20.0, \"lon\": 75.0},\n",
    "    \"Southeast Asia\": {\"lat\": 10.0, \"lon\": 105.0}\n",
    "}\n",
    "\n",
    "def prepare_region_flow_data(df):\n",
    "    flow_data = df.groupby(['send region', 'receiver region'])['amount'].sum().reset_index()\n",
    "    for coord in ['lat', 'lon']:\n",
    "        flow_data[f'source_{coord}'] = flow_data['send region'].map(lambda x: region_coordinates.get(x, {}).get(coord))\n",
    "        flow_data[f'target_{coord}'] = flow_data['receiver region'].map(lambda x: region_coordinates.get(x, {}).get(coord))\n",
    "    return flow_data\n",
    "\n",
    "def create_flow_map(df, mapbox_token=None):\n",
    "    flow_data = prepare_region_flow_data(df)\n",
    "    region_flows = pd.merge(\n",
    "        df.groupby('receiver region')['amount'].sum().rename('inflow').reset_index(),\n",
    "        df.groupby('send region')['amount'].sum().rename('outflow').reset_index(),\n",
    "        left_on='receiver region', right_on='send region', how='outer'\n",
    "    ).fillna(0).rename(columns={'receiver region': 'region'}).drop('send region', axis=1)\n",
    "    \n",
    "    region_flows['net_flow'] = region_flows['inflow'] - region_flows['outflow']\n",
    "    region_flows['total_volume'] = region_flows['inflow'] + region_flows['outflow']\n",
    "    region_data = pd.merge(region_flows, pd.DataFrame(region_coordinates).T.reset_index().rename(columns={'index': 'region'}), on='region')\n",
    "    \n",
    "    flow_data['normalized_amount'] = flow_data['amount'] / flow_data['amount'].max() * 10\n",
    "    fig = go.Figure()\n",
    "    \n",
    "    # Add flow lines\n",
    "    for idx, row in flow_data[flow_data['normalized_amount'] >= 0.5].iterrows():\n",
    "        # Check for None or NaN values in coordinates\n",
    "        if (pd.isna(row['source_lon']) or pd.isna(row['source_lat']) or \n",
    "            pd.isna(row['target_lon']) or pd.isna(row['target_lat'])):\n",
    "            continue\n",
    "            \n",
    "        lon_diff, lat_diff = row['target_lon'] - row['source_lon'], row['target_lat'] - row['source_lat']\n",
    "        midpoint_offset = min(np.sqrt(lon_diff**2 + lat_diff**2) * 0.15, 10)\n",
    "        curve_points = [(row['source_lon'], row['source_lat'])] + [\n",
    "            ((1-t)**2 * row['source_lon'] + 2*(1-t)*t * ((row['source_lon'] + row['target_lon'])/2) + t**2 * row['target_lon'],\n",
    "             (1-t)**2 * row['source_lat'] + 2*(1-t)*t * ((row['source_lat'] + row['target_lat'])/2 + midpoint_offset) + t**2 * row['target_lat'])\n",
    "            for t in np.linspace(0, 1, 20)[1:-1]\n",
    "        ] + [(row['target_lon'], row['target_lat'])]\n",
    "        \n",
    "        lons, lats = zip(*curve_points)\n",
    "        # Fix the color transparency value\n",
    "        alpha = min(0.8, 0.3 + row[\"normalized_amount\"] * 0.05)\n",
    "        color = f'rgba(70, 130, 180, {alpha:.2f})'\n",
    "        \n",
    "        # Create a custom_data field for identifying the flow when clicked\n",
    "        custom_data = [row['send region'], row['receiver region'], row['amount']]\n",
    "        \n",
    "        fig.add_trace(go.Scattermapbox(\n",
    "            lon=lons, lat=lats, mode='lines',\n",
    "            line=dict(width=row['normalized_amount']*1.5, color=color),\n",
    "            hoverinfo='text', \n",
    "            hovertext=f\"{row['send region']} → {row['receiver region']}<br>Amount: ${row['amount']:,.2f}\",\n",
    "            customdata=[custom_data] * len(lons),  # Repeat the custom data for each point\n",
    "            showlegend=False\n",
    "        ))\n",
    "    \n",
    "    # Add regions\n",
    "    # Filter out any rows with NaN coordinates\n",
    "    valid_region_data = region_data.dropna(subset=['lon', 'lat'])\n",
    "    if not valid_region_data.empty:\n",
    "        fig.add_trace(go.Scattermapbox(\n",
    "            lon=valid_region_data['lon'], \n",
    "            lat=valid_region_data['lat'], \n",
    "            text=valid_region_data['region'],\n",
    "            customdata=valid_region_data[['inflow', 'outflow', 'net_flow', 'region']].values,\n",
    "            hovertemplate='<b>%{text}</b><br>Inflow: $%{customdata[0]:,.2f}<br>Outflow: $%{customdata[1]:,.2f}<br>Net Flow: $%{customdata[2]:,.2f}',\n",
    "            mode='markers',\n",
    "            marker=dict(\n",
    "                size=valid_region_data['total_volume'] / valid_region_data['total_volume'].max() * 25 + 10,\n",
    "                color=valid_region_data['net_flow'], \n",
    "                colorscale='RdBu', \n",
    "                cmid=0, \n",
    "                opacity=0.8,\n",
    "                colorbar=dict(title='Net Flow<br>(Inflow - Outflow)', thickness=15)\n",
    "            ),\n",
    "            name='Regions'\n",
    "        ))\n",
    "    \n",
    "    fig.update_layout(\n",
    "        title='Global Banking Transaction Flows Between Regions',\n",
    "        mapbox=dict(\n",
    "            style='carto-positron',\n",
    "            zoom=1.2,\n",
    "            center=dict(lat=20, lon=0),\n",
    "            **({'accesstoken': mapbox_token, 'style': 'mapbox://styles/mapbox/light-v10'} if mapbox_token else {})\n",
    "        ),\n",
    "        width=1200, height=700, margin=dict(l=0, r=0, t=50, b=0)\n",
    "    )\n",
    "    \n",
    "    return fig\n",
    "\n",
    "def create_sankey_for_regions(df, send_region=None, receive_region=None, year=None):\n",
    "    \"\"\"\n",
    "    Create a Sankey diagram for transactions between specified regions,\n",
    "    showing a flow from sender → receiver → currency → mx/mt → mt → direction → amount\n",
    "    without showing the regions themselves as nodes.\n",
    "    \n",
    "    Parameters:\n",
    "    -----------\n",
    "    df : pandas DataFrame\n",
    "        The DataFrame containing transaction data\n",
    "    send_region : str, optional\n",
    "        Region to filter senders by\n",
    "    receive_region : str, optional\n",
    "        Region to filter receivers by\n",
    "    year : int, optional\n",
    "        Year to filter transactions by\n",
    "    \n",
    "    Returns:\n",
    "    --------\n",
    "    plotly.graph_objects.Figure\n",
    "        A Sankey diagram figure\n",
    "    \"\"\"\n",
    "    import pandas as pd\n",
    "    import numpy as np\n",
    "    import plotly.graph_objects as go\n",
    "    \n",
    "    # Create a copy to avoid modifying the original\n",
    "    filtered_df = df.copy()\n",
    "    \n",
    "    # Filter data if regions are specified\n",
    "    title_parts = []\n",
    "    \n",
    "    if send_region:\n",
    "        filtered_df = filtered_df[filtered_df['send region'] == send_region]\n",
    "        title_parts.append(f\"from {send_region}\")\n",
    "    \n",
    "    if receive_region:\n",
    "        filtered_df = filtered_df[filtered_df['receiver region'] == receive_region]\n",
    "        title_parts.append(f\"to {receive_region}\")\n",
    "    \n",
    "    # Filter by year if specified\n",
    "    if year and 'year' in filtered_df.columns:\n",
    "        filtered_df = filtered_df[filtered_df['year'] == year]\n",
    "        title_parts.append(f\"in {year}\")\n",
    "    \n",
    "    if title_parts:\n",
    "        title = f\"Transactions {' '.join(title_parts)}\"\n",
    "    else:\n",
    "        title = \"All Regional Transactions\"\n",
    "    \n",
    "    # Ensure amount categories exist (create if missing)\n",
    "    if 'amount_category' not in filtered_df.columns:\n",
    "        filtered_df['amount_category'] = pd.cut(\n",
    "            filtered_df['amount'], \n",
    "            bins=[0, 1e6, 5e6, 1e7, float('inf')], \n",
    "            labels=['< 1M', '1M-5M', '5M-10M', '> 10M']\n",
    "        )\n",
    "    \n",
    "    # Check if we have data after all the filters\n",
    "    if filtered_df.empty:\n",
    "        fig = go.Figure()\n",
    "        fig.update_layout(\n",
    "            title_text=f\"No data available for {title}\",\n",
    "            annotations=[dict(\n",
    "                text=\"No transactions found for the selected criteria\",\n",
    "                xref=\"paper\", yref=\"paper\",\n",
    "                x=0.5, y=0.5, showarrow=False,\n",
    "                font=dict(size=20)\n",
    "            )]\n",
    "        )\n",
    "        return fig\n",
    "    \n",
    "    # Make sure all columns are properly formatted as strings\n",
    "    str_columns = ['sender', 'receiver', 'currency', 'mx/mt', 'Mt', 'direction', 'amount_category']\n",
    "    for col in str_columns:\n",
    "        if col in filtered_df.columns and filtered_df[col].dtype != 'str':\n",
    "            filtered_df[col] = filtered_df[col].astype(str)\n",
    "    \n",
    "    # Create the flows according to the specified path\n",
    "    # sender → receiver\n",
    "    flow1 = filtered_df.groupby(['sender', 'receiver']).size().reset_index(name='count')\n",
    "    \n",
    "    # receiver → currency\n",
    "    flow2 = filtered_df.groupby(['receiver', 'currency']).size().reset_index(name='count')\n",
    "    \n",
    "    # currency → mx/mt\n",
    "    flow3 = filtered_df.groupby(['currency', 'mx/mt']).size().reset_index(name='count')\n",
    "    \n",
    "    # mx/mt → mt\n",
    "    flow4 = filtered_df.groupby(['mx/mt', 'Mt']).size().reset_index(name='count')\n",
    "    \n",
    "    # mt → direction\n",
    "    flow5 = filtered_df.groupby(['Mt', 'direction']).size().reset_index(name='count')\n",
    "    \n",
    "    # direction → amount\n",
    "    flow6 = filtered_df.groupby(['direction', 'amount_category']).size().reset_index(name='count')\n",
    "    \n",
    "    # Get all unique labels\n",
    "    labels = pd.unique(\n",
    "        flow1['sender'].tolist() +\n",
    "        flow1['receiver'].tolist() +\n",
    "        flow2['currency'].tolist() +\n",
    "        flow3['mx/mt'].tolist() +\n",
    "        flow4['Mt'].tolist() +\n",
    "        flow5['direction'].tolist() +\n",
    "        flow6['amount_category'].astype(str).tolist()\n",
    "    )\n",
    "    \n",
    "    # Map labels to indices\n",
    "    label_to_index = {label: i for i, label in enumerate(labels)}\n",
    "    \n",
    "    # Prepare sources, targets, and values for links\n",
    "    source, target, value = [], [], []\n",
    "    link_labels = []\n",
    "    \n",
    "    # sender → receiver\n",
    "    for _, row in flow1.iterrows():\n",
    "        source.append(label_to_index[row['sender']])\n",
    "        target.append(label_to_index[row['receiver']])\n",
    "        value.append(row['count'])\n",
    "        link_labels.append(f\"{row['sender']} → {row['receiver']}<br>Count: {row['count']}\")\n",
    "    \n",
    "    # receiver → currency\n",
    "    for _, row in flow2.iterrows():\n",
    "        source.append(label_to_index[row['receiver']])\n",
    "        target.append(label_to_index[row['currency']])\n",
    "        value.append(row['count'])\n",
    "        link_labels.append(f\"{row['receiver']} → {row['currency']}<br>Count: {row['count']}\")\n",
    "    \n",
    "    # currency → mx/mt\n",
    "    for _, row in flow3.iterrows():\n",
    "        source.append(label_to_index[row['currency']])\n",
    "        target.append(label_to_index[row['mx/mt']])\n",
    "        value.append(row['count'])\n",
    "        link_labels.append(f\"{row['currency']} → {row['mx/mt']}<br>Count: {row['count']}\")\n",
    "    \n",
    "    # mx/mt → mt\n",
    "    for _, row in flow4.iterrows():\n",
    "        source.append(label_to_index[row['mx/mt']])\n",
    "        target.append(label_to_index[row['Mt']])\n",
    "        value.append(row['count'])\n",
    "        link_labels.append(f\"{row['mx/mt']} → {row['Mt']}<br>Count: {row['count']}\")\n",
    "    \n",
    "    # mt → direction\n",
    "    for _, row in flow5.iterrows():\n",
    "        source.append(label_to_index[row['Mt']])\n",
    "        target.append(label_to_index[row['direction']])\n",
    "        value.append(row['count'])\n",
    "        link_labels.append(f\"{row['Mt']} → {row['direction']}<br>Count: {row['count']}\")\n",
    "    \n",
    "    # direction → amount_category\n",
    "    for _, row in flow6.iterrows():\n",
    "        source.append(label_to_index[row['direction']])\n",
    "        target.append(label_to_index[str(row['amount_category'])])\n",
    "        value.append(row['count'])\n",
    "        link_labels.append(f\"{row['direction']} → {row['amount_category']}<br>Count: {row['count']}\")\n",
    "    \n",
    "    # Set up colors for nodes and links\n",
    "    num_nodes = len(labels)\n",
    "    node_colors = [\"rgba(31, 119, 180, 0.8)\"] * num_nodes  # Default blue color\n",
    "    \n",
    "    # Create color groups for different node types\n",
    "    sender_idx = [label_to_index[label] for label in pd.Series(flow1['sender']).unique()]\n",
    "    receiver_idx = [label_to_index[label] for label in pd.Series(flow1['receiver']).unique()]\n",
    "    currency_idx = [label_to_index[label] for label in pd.Series(flow2['currency']).unique()]\n",
    "    mxmt_idx = [label_to_index[label] for label in pd.Series(flow3['mx/mt']).unique()]\n",
    "    mt_idx = [label_to_index[label] for label in pd.Series(flow4['Mt']).unique()]\n",
    "    direction_idx = [label_to_index[label] for label in pd.Series(flow5['direction']).unique()]\n",
    "    amount_idx = [label_to_index[str(label)] for label in pd.Series(flow6['amount_category']).unique()]\n",
    "\n",
    "    \n",
    "    # Assign different colors to each node type\n",
    "    for idx in sender_idx:\n",
    "        node_colors[idx] = \"rgba(214, 39, 40, 0.8)\"  # Red for senders\n",
    "    for idx in receiver_idx:\n",
    "        node_colors[idx] = \"rgba(44, 160, 44, 0.8)\"  # Green for receivers\n",
    "    for idx in currency_idx:\n",
    "        node_colors[idx] = \"rgba(255, 127, 14, 0.8)\"  # Orange for currency\n",
    "    for idx in mxmt_idx:\n",
    "        node_colors[idx] = \"rgba(148, 103, 189, 0.8)\"  # Purple for mx/mt\n",
    "    for idx in mt_idx:\n",
    "        node_colors[idx] = \"rgba(140, 86, 75, 0.8)\"   # Brown for Mt\n",
    "    for idx in direction_idx:\n",
    "        node_colors[idx] = \"rgba(23, 190, 207, 0.8)\"  # Cyan for directions\n",
    "    for idx in amount_idx:\n",
    "        node_colors[idx] = \"rgba(31, 119, 180, 0.8)\"  # Blue for amount categories\n",
    "    \n",
    "    # Create colors for links based on their source\n",
    "    link_colors = []\n",
    "    for s in source:\n",
    "        # Use a slightly transparent version of the source node color\n",
    "        base_color = node_colors[s].replace(\"0.8\", \"0.6\")\n",
    "        link_colors.append(base_color)\n",
    "    \n",
    "    # Create the Sankey diagram\n",
    "    fig = go.Figure(data=[go.Sankey(\n",
    "        arrangement=\"snap\",\n",
    "        node=dict(\n",
    "            pad=20,\n",
    "            thickness=20,\n",
    "            line=dict(color=\"black\", width=0.5),\n",
    "            label=list(labels),\n",
    "            color=node_colors\n",
    "        ),\n",
    "        link=dict(\n",
    "            source=source,\n",
    "            target=target,\n",
    "            value=value,\n",
    "            color=link_colors,\n",
    "            customdata=np.array(link_labels),\n",
    "            hovertemplate='%{customdata}<extra></extra>'\n",
    "        )\n",
    "    )])\n",
    "    \n",
    "    # Add annotations to describe each column\n",
    "    fig.update_layout(\n",
    "        title_text=title,\n",
    "        font_size=12,\n",
    "        height=600,\n",
    "        width=1000,\n",
    "        annotations=[\n",
    "            dict(x=0.03, y=1, xref='paper', yref='paper', text='Sender', showarrow=False, font=dict(size=14, color='black')),\n",
    "            dict(x=0.18, y=1, xref='paper', yref='paper', text='Receiver', showarrow=False, font=dict(size=14, color='black')),\n",
    "            dict(x=0.32, y=1, xref='paper', yref='paper', text='Currency', showarrow=False, font=dict(size=14, color='black')),\n",
    "            dict(x=0.47, y=1, xref='paper', yref='paper', text='MX/MT', showarrow=False, font=dict(size=14, color='black')),\n",
    "            dict(x=0.62, y=1, xref='paper', yref='paper', text='MT', showarrow=False, font=dict(size=14, color='black')),\n",
    "            dict(x=0.77, y=1, xref='paper', yref='paper', text='Direction', showarrow=False, font=dict(size=14, color='black')),\n",
    "            dict(x=0.92, y=1, xref='paper', yref='paper', text='Amount', showarrow=False, font=dict(size=14, color='black')),\n",
    "        ]\n",
    "    )\n",
    "    \n",
    "    return fig\n",
    "\n",
    "def visualize_banking_flows(df):\n",
    "    # Ensure the expected columns exist\n",
    "    required_columns = ['send region', 'receiver region', 'amount']\n",
    "    missing_columns = [col for col in required_columns if col not in df.columns]\n",
    "    \n",
    "    if missing_columns:\n",
    "        raise ValueError(f\"Missing required columns in dataframe: {missing_columns}\")\n",
    "    \n",
    "    # Check if year column exists, if not, provide a default\n",
    "    if 'year' not in df.columns:\n",
    "        print(\"Warning: 'year' column not found in data. Creating a dummy year column with value 2023.\")\n",
    "        df['year'] = 2023\n",
    "    \n",
    "    # Ensure all regions are in the coordinates dictionary\n",
    "    unknown_send_regions = set(df['send region'].unique()) - set(region_coordinates.keys())\n",
    "    unknown_recv_regions = set(df['receiver region'].unique()) - set(region_coordinates.keys())\n",
    "    \n",
    "    if unknown_send_regions:\n",
    "        print(f\"Warning: Unknown send regions: {unknown_send_regions}\")\n",
    "    if unknown_recv_regions:\n",
    "        print(f\"Warning: Unknown receiver regions: {unknown_recv_regions}\")\n",
    "    \n",
    "    # Create the flow map\n",
    "    flow_map = create_flow_map(df)\n",
    "    \n",
    "    # Get unique regions for dropdowns\n",
    "    all_regions = sorted(list(set(df['send region'].unique()).union(set(df['receiver region'].unique()))))\n",
    "    \n",
    "    # Get unique years for the year dropdown\n",
    "    years = sorted(df['year'].unique())\n",
    "    \n",
    "    # Create dropdown widgets\n",
    "    send_dropdown = widgets.Dropdown(\n",
    "        options=['All'] + all_regions,\n",
    "        value='All',\n",
    "        description='Sender Region:',\n",
    "        layout=Layout(width='300px')\n",
    "    )\n",
    "    \n",
    "    receive_dropdown = widgets.Dropdown(\n",
    "        options=['All'] + all_regions,\n",
    "        value='All',\n",
    "        description='Receiver Region:',\n",
    "        layout=Layout(width='300px')\n",
    "    )\n",
    "    \n",
    "    # Create year dropdown\n",
    "    year_dropdown = widgets.Dropdown(\n",
    "        options=['All'] + list(years),\n",
    "        value='All',\n",
    "        description='Year:',\n",
    "        layout=Layout(width='300px')\n",
    "    )\n",
    "    \n",
    "    # Create output area for the Sankey diagram\n",
    "    sankey_output = widgets.Output()\n",
    "    \n",
    "    def update_sankey(sender_region, receiver_region, year):\n",
    "        with sankey_output:\n",
    "            sankey_output.clear_output(wait=True)\n",
    "            send_region = None if sender_region == 'All' else sender_region\n",
    "            receive_region = None if receiver_region == 'All' else receiver_region\n",
    "            selected_year = None if year == 'All' else year\n",
    "            sankey_fig = create_sankey_for_regions(df, send_region, receive_region, selected_year)\n",
    "            sankey_fig.show()\n",
    "    \n",
    "    # Create interactive widget with all three dropdowns\n",
    "    interactive_widget = interactive(\n",
    "        update_sankey,\n",
    "        sender_region=send_dropdown,\n",
    "        receiver_region=receive_dropdown,\n",
    "        year=year_dropdown\n",
    "    )\n",
    "    \n",
    "    # Display everything\n",
    "    display(flow_map)\n",
    "    display(interactive_widget)\n",
    "    display(sankey_output)\n",
    "    \n",
    "    # Initial display\n",
    "    update_sankey('All', 'All', 'All')\n",
    "    \n",
    "    return flow_map\n",
    "\n",
    "# Example usage - comment these out if you're importing this as a module\n"
   ]
  },
  {
   "cell_type": "code",
   "execution_count": 20,
   "id": "83e9d597",
   "metadata": {},
   "outputs": [
    {
     "data": {
      "text/plain": [
       "Index(['Count', 'sender', 'receiver', 'amount', 'currency', 'Mt', 'year',\n",
       "       'direction', 'category', 'send region', 'receiver region', 'mx/mt',\n",
       "       'transaction_status', 'payment_method'],\n",
       "      dtype='object')"
      ]
     },
     "execution_count": 20,
     "metadata": {},
     "output_type": "execute_result"
    }
   ],
   "source": [
    "df.columns"
   ]
  },
  {
   "cell_type": "code",
   "execution_count": 21,
   "id": "de4959d2",
   "metadata": {},
   "outputs": [
    {
     "name": "stderr",
     "output_type": "stream",
     "text": [
      "C:\\Users\\joshu\\AppData\\Local\\Temp\\ipykernel_26056\\2675578790.py:68: DeprecationWarning:\n",
      "\n",
      "*scattermapbox* is deprecated! Use *scattermap* instead. Learn more at: https://plotly.com/python/mapbox-to-maplibre/\n",
      "\n",
      "C:\\Users\\joshu\\AppData\\Local\\Temp\\ipykernel_26056\\2675578790.py:81: DeprecationWarning:\n",
      "\n",
      "*scattermapbox* is deprecated! Use *scattermap* instead. Learn more at: https://plotly.com/python/mapbox-to-maplibre/\n",
      "\n"
     ]
    },
    {
     "data": {
      "application/vnd.plotly.v1+json": {
       "config": {
        "plotlyServerURL": "https://plot.ly"
       },
       "data": [
        {
         "customdata": [
          [
           "Africa",
           "Middle East",
           4794660.58
          ],
          [
           "Africa",
           "Middle East",
           4794660.58
          ],
          [
           "Africa",
           "Middle East",
           4794660.58
          ],
          [
           "Africa",
           "Middle East",
           4794660.58
          ],
          [
           "Africa",
           "Middle East",
           4794660.58
          ],
          [
           "Africa",
           "Middle East",
           4794660.58
          ],
          [
           "Africa",
           "Middle East",
           4794660.58
          ],
          [
           "Africa",
           "Middle East",
           4794660.58
          ],
          [
           "Africa",
           "Middle East",
           4794660.58
          ],
          [
           "Africa",
           "Middle East",
           4794660.58
          ],
          [
           "Africa",
           "Middle East",
           4794660.58
          ],
          [
           "Africa",
           "Middle East",
           4794660.58
          ],
          [
           "Africa",
           "Middle East",
           4794660.58
          ],
          [
           "Africa",
           "Middle East",
           4794660.58
          ],
          [
           "Africa",
           "Middle East",
           4794660.58
          ],
          [
           "Africa",
           "Middle East",
           4794660.58
          ],
          [
           "Africa",
           "Middle East",
           4794660.58
          ],
          [
           "Africa",
           "Middle East",
           4794660.58
          ],
          [
           "Africa",
           "Middle East",
           4794660.58
          ],
          [
           "Africa",
           "Middle East",
           4794660.58
          ]
         ],
         "hoverinfo": "text",
         "hovertext": "Africa → Middle East<br>Amount: $4,794,660.58",
         "lat": [
          5,
          6.6560357858663295,
          8.25672256628552,
          9.802060341257574,
          11.292049110782497,
          12.726688874860285,
          14.105979633490932,
          15.429921386674442,
          16.69851413441082,
          17.911757876700065,
          19.069652613542168,
          20.172198344937136,
          21.21939507088497,
          22.211242791385665,
          23.14774150643923,
          24.028891216045658,
          24.854691920204946,
          25.625143618917097,
          26.340246312182117,
          27
         ],
         "line": {
          "color": "rgba(70, 130, 180, 0.35)",
          "width": 1.4913030752006498
         },
         "lon": [
          20,
          21.315789473684212,
          22.63157894736842,
          23.94736842105263,
          25.263157894736842,
          26.578947368421055,
          27.89473684210526,
          29.210526315789473,
          30.52631578947368,
          31.842105263157897,
          33.15789473684211,
          34.473684210526315,
          35.78947368421053,
          37.10526315789474,
          38.421052631578945,
          39.73684210526316,
          41.05263157894736,
          42.368421052631575,
          43.68421052631579,
          45
         ],
         "mode": "lines",
         "showlegend": false,
         "type": "scattermapbox"
        },
        {
         "customdata": [
          [
           "Asia Pacific",
           "Middle East",
           16083014.38
          ],
          [
           "Asia Pacific",
           "Middle East",
           16083014.38
          ],
          [
           "Asia Pacific",
           "Middle East",
           16083014.38
          ],
          [
           "Asia Pacific",
           "Middle East",
           16083014.38
          ],
          [
           "Asia Pacific",
           "Middle East",
           16083014.38
          ],
          [
           "Asia Pacific",
           "Middle East",
           16083014.38
          ],
          [
           "Asia Pacific",
           "Middle East",
           16083014.38
          ],
          [
           "Asia Pacific",
           "Middle East",
           16083014.38
          ],
          [
           "Asia Pacific",
           "Middle East",
           16083014.38
          ],
          [
           "Asia Pacific",
           "Middle East",
           16083014.38
          ],
          [
           "Asia Pacific",
           "Middle East",
           16083014.38
          ],
          [
           "Asia Pacific",
           "Middle East",
           16083014.38
          ],
          [
           "Asia Pacific",
           "Middle East",
           16083014.38
          ],
          [
           "Asia Pacific",
           "Middle East",
           16083014.38
          ],
          [
           "Asia Pacific",
           "Middle East",
           16083014.38
          ],
          [
           "Asia Pacific",
           "Middle East",
           16083014.38
          ],
          [
           "Asia Pacific",
           "Middle East",
           16083014.38
          ],
          [
           "Asia Pacific",
           "Middle East",
           16083014.38
          ],
          [
           "Asia Pacific",
           "Middle East",
           16083014.38
          ],
          [
           "Asia Pacific",
           "Middle East",
           16083014.38
          ]
         ],
         "hoverinfo": "text",
         "hovertext": "Asia Pacific → Middle East<br>Amount: $16,083,014.38",
         "lat": [
          30,
          30.839335180055407,
          31.567867036011084,
          32.18559556786703,
          32.69252077562327,
          33.088642659279785,
          33.37396121883656,
          33.54847645429363,
          33.612188365650965,
          33.56509695290859,
          33.40720221606648,
          33.13850415512465,
          32.7590027700831,
          32.26869806094183,
          31.667590027700832,
          30.955678670360115,
          30.13296398891967,
          29.1994459833795,
          28.155124653739612,
          27
         ],
         "line": {
          "color": "rgba(70, 130, 180, 0.47)",
          "width": 5.002366362164946
         },
         "lon": [
          120,
          116.05263157894738,
          112.10526315789474,
          108.15789473684208,
          104.21052631578948,
          100.26315789473686,
          96.31578947368422,
          92.36842105263158,
          88.42105263157895,
          84.47368421052633,
          80.52631578947368,
          76.57894736842105,
          72.63157894736842,
          68.6842105263158,
          64.73684210526316,
          60.78947368421053,
          56.8421052631579,
          52.89473684210527,
          48.94736842105264,
          45
         ],
         "mode": "lines",
         "showlegend": false,
         "type": "scattermapbox"
        },
        {
         "customdata": [
          [
           "Caribbean",
           "Middle East",
           42760814.73
          ],
          [
           "Caribbean",
           "Middle East",
           42760814.73
          ],
          [
           "Caribbean",
           "Middle East",
           42760814.73
          ],
          [
           "Caribbean",
           "Middle East",
           42760814.73
          ],
          [
           "Caribbean",
           "Middle East",
           42760814.73
          ],
          [
           "Caribbean",
           "Middle East",
           42760814.73
          ],
          [
           "Caribbean",
           "Middle East",
           42760814.73
          ],
          [
           "Caribbean",
           "Middle East",
           42760814.73
          ],
          [
           "Caribbean",
           "Middle East",
           42760814.73
          ],
          [
           "Caribbean",
           "Middle East",
           42760814.73
          ],
          [
           "Caribbean",
           "Middle East",
           42760814.73
          ],
          [
           "Caribbean",
           "Middle East",
           42760814.73
          ],
          [
           "Caribbean",
           "Middle East",
           42760814.73
          ],
          [
           "Caribbean",
           "Middle East",
           42760814.73
          ],
          [
           "Caribbean",
           "Middle East",
           42760814.73
          ],
          [
           "Caribbean",
           "Middle East",
           42760814.73
          ],
          [
           "Caribbean",
           "Middle East",
           42760814.73
          ],
          [
           "Caribbean",
           "Middle East",
           42760814.73
          ],
          [
           "Caribbean",
           "Middle East",
           42760814.73
          ],
          [
           "Caribbean",
           "Middle East",
           42760814.73
          ]
         ],
         "hoverinfo": "text",
         "hovertext": "Caribbean → Middle East<br>Amount: $42,760,814.73",
         "lat": [
          20,
          21.36565096952909,
          22.620498614958446,
          23.764542936288084,
          24.797783933518005,
          25.7202216066482,
          26.53185595567867,
          27.232686980609415,
          27.82271468144044,
          28.301939058171747,
          28.670360110803323,
          28.927977839335178,
          29.074792243767313,
          29.110803324099727,
          29.036011080332408,
          28.850415512465375,
          28.554016620498615,
          28.14681440443213,
          27.628808864265928,
          27
         ],
         "line": {
          "color": "rgba(70, 130, 180, 0.74)",
          "width": 13.300072745698767
         },
         "lon": [
          -75,
          -68.68421052631581,
          -62.368421052631575,
          -56.052631578947356,
          -49.736842105263165,
          -43.42105263157896,
          -37.10526315789474,
          -30.78947368421052,
          -24.47368421052632,
          -18.15789473684211,
          -11.8421052631579,
          -5.526315789473681,
          0.7894736842105239,
          7.105263157894726,
          13.421052631578942,
          19.736842105263158,
          26.05263157894736,
          32.36842105263156,
          38.68421052631579,
          45
         ],
         "mode": "lines",
         "showlegend": false,
         "type": "scattermapbox"
        },
        {
         "customdata": [
          [
           "Central Asia",
           "Latin America",
           4435977
          ],
          [
           "Central Asia",
           "Latin America",
           4435977
          ],
          [
           "Central Asia",
           "Latin America",
           4435977
          ],
          [
           "Central Asia",
           "Latin America",
           4435977
          ],
          [
           "Central Asia",
           "Latin America",
           4435977
          ],
          [
           "Central Asia",
           "Latin America",
           4435977
          ],
          [
           "Central Asia",
           "Latin America",
           4435977
          ],
          [
           "Central Asia",
           "Latin America",
           4435977
          ],
          [
           "Central Asia",
           "Latin America",
           4435977
          ],
          [
           "Central Asia",
           "Latin America",
           4435977
          ],
          [
           "Central Asia",
           "Latin America",
           4435977
          ],
          [
           "Central Asia",
           "Latin America",
           4435977
          ],
          [
           "Central Asia",
           "Latin America",
           4435977
          ],
          [
           "Central Asia",
           "Latin America",
           4435977
          ],
          [
           "Central Asia",
           "Latin America",
           4435977
          ],
          [
           "Central Asia",
           "Latin America",
           4435977
          ],
          [
           "Central Asia",
           "Latin America",
           4435977
          ],
          [
           "Central Asia",
           "Latin America",
           4435977
          ],
          [
           "Central Asia",
           "Latin America",
           4435977
          ],
          [
           "Central Asia",
           "Latin America",
           4435977
          ]
         ],
         "hoverinfo": "text",
         "hovertext": "Central Asia → Latin America<br>Amount: $4,435,977.00",
         "lat": [
          45,
          43.10249307479225,
          41.094182825484765,
          38.97506925207755,
          36.745152354570635,
          34.404432132964004,
          31.95290858725762,
          29.390581717451518,
          26.71745152354571,
          23.933518005540172,
          21.038781163434905,
          18.033240997229917,
          14.916897506925208,
          11.689750692520786,
          8.351800554016622,
          4.903047091412741,
          1.343490304709145,
          -2.326869806094175,
          -6.108033240997225,
          -10
         ],
         "line": {
          "color": "rgba(70, 130, 180, 0.35)",
          "width": 1.3797402404696084
         },
         "lon": [
          65,
          58.42105263157895,
          51.8421052631579,
          45.263157894736835,
          38.684210526315795,
          32.10526315789475,
          25.52631578947369,
          18.94736842105263,
          12.368421052631582,
          5.789473684210533,
          -0.7894736842105221,
          -7.368421052631582,
          -13.947368421052628,
          -20.52631578947367,
          -27.105263157894733,
          -33.684210526315795,
          -40.263157894736835,
          -46.842105263157876,
          -53.42105263157894,
          -60
         ],
         "mode": "lines",
         "showlegend": false,
         "type": "scattermapbox"
        },
        {
         "customdata": [
          [
           "Central Asia",
           "Middle East",
           8409233.71
          ],
          [
           "Central Asia",
           "Middle East",
           8409233.71
          ],
          [
           "Central Asia",
           "Middle East",
           8409233.71
          ],
          [
           "Central Asia",
           "Middle East",
           8409233.71
          ],
          [
           "Central Asia",
           "Middle East",
           8409233.71
          ],
          [
           "Central Asia",
           "Middle East",
           8409233.71
          ],
          [
           "Central Asia",
           "Middle East",
           8409233.71
          ],
          [
           "Central Asia",
           "Middle East",
           8409233.71
          ],
          [
           "Central Asia",
           "Middle East",
           8409233.71
          ],
          [
           "Central Asia",
           "Middle East",
           8409233.71
          ],
          [
           "Central Asia",
           "Middle East",
           8409233.71
          ],
          [
           "Central Asia",
           "Middle East",
           8409233.71
          ],
          [
           "Central Asia",
           "Middle East",
           8409233.71
          ],
          [
           "Central Asia",
           "Middle East",
           8409233.71
          ],
          [
           "Central Asia",
           "Middle East",
           8409233.71
          ],
          [
           "Central Asia",
           "Middle East",
           8409233.71
          ],
          [
           "Central Asia",
           "Middle East",
           8409233.71
          ],
          [
           "Central Asia",
           "Middle East",
           8409233.71
          ],
          [
           "Central Asia",
           "Middle East",
           8409233.71
          ],
          [
           "Central Asia",
           "Middle East",
           8409233.71
          ]
         ],
         "hoverinfo": "text",
         "hovertext": "Central Asia → Middle East<br>Amount: $8,409,233.71",
         "lat": [
          45,
          44.45512227066038,
          43.86552335335264,
          43.23120324807679,
          42.55216195483283,
          41.82839947362077,
          41.05991580444058,
          40.24671094729228,
          39.38878490217587,
          38.48613766909136,
          37.538769248038726,
          36.54667963901798,
          35.50986884202913,
          34.42833685707216,
          33.30208368414708,
          32.131109323253895,
          30.915413774392587,
          29.65499703756317,
          28.349859112765643,
          27
         ],
         "line": {
          "color": "rgba(70, 130, 180, 0.39)",
          "width": 2.615558678775958
         },
         "lon": [
          65,
          63.94736842105264,
          62.89473684210526,
          61.84210526315788,
          60.78947368421053,
          59.736842105263165,
          58.684210526315795,
          57.63157894736841,
          56.578947368421055,
          55.52631578947369,
          54.47368421052632,
          53.421052631578945,
          52.368421052631575,
          51.31578947368422,
          50.26315789473684,
          49.21052631578947,
          48.1578947368421,
          47.10526315789474,
          46.05263157894737,
          45
         ],
         "mode": "lines",
         "showlegend": false,
         "type": "scattermapbox"
        },
        {
         "customdata": [
          [
           "Europe",
           "Middle East",
           5915148.550000001
          ],
          [
           "Europe",
           "Middle East",
           5915148.550000001
          ],
          [
           "Europe",
           "Middle East",
           5915148.550000001
          ],
          [
           "Europe",
           "Middle East",
           5915148.550000001
          ],
          [
           "Europe",
           "Middle East",
           5915148.550000001
          ],
          [
           "Europe",
           "Middle East",
           5915148.550000001
          ],
          [
           "Europe",
           "Middle East",
           5915148.550000001
          ],
          [
           "Europe",
           "Middle East",
           5915148.550000001
          ],
          [
           "Europe",
           "Middle East",
           5915148.550000001
          ],
          [
           "Europe",
           "Middle East",
           5915148.550000001
          ],
          [
           "Europe",
           "Middle East",
           5915148.550000001
          ],
          [
           "Europe",
           "Middle East",
           5915148.550000001
          ],
          [
           "Europe",
           "Middle East",
           5915148.550000001
          ],
          [
           "Europe",
           "Middle East",
           5915148.550000001
          ],
          [
           "Europe",
           "Middle East",
           5915148.550000001
          ],
          [
           "Europe",
           "Middle East",
           5915148.550000001
          ],
          [
           "Europe",
           "Middle East",
           5915148.550000001
          ],
          [
           "Europe",
           "Middle East",
           5915148.550000001
          ],
          [
           "Europe",
           "Middle East",
           5915148.550000001
          ],
          [
           "Europe",
           "Middle East",
           5915148.550000001
          ]
         ],
         "hoverinfo": "text",
         "hovertext": "Europe → Middle East<br>Amount: $5,915,148.55",
         "lat": [
          50,
          49.41594523320448,
          48.762282516520735,
          48.03901184994878,
          47.246133233488614,
          46.38364666714023,
          45.45155215090361,
          44.44984968477878,
          43.37853926876575,
          42.237620902864506,
          41.02709458707503,
          39.74696032139734,
          38.39721810583143,
          36.97786794037731,
          35.48890982503496,
          33.9303437598044,
          32.30216974468563,
          30.60438777967864,
          28.836997864783427,
          27
         ],
         "line": {
          "color": "rgba(70, 130, 180, 0.36)",
          "width": 1.839813074502067
         },
         "lon": [
          10,
          11.842105263157897,
          13.684210526315788,
          15.526315789473681,
          17.36842105263158,
          19.210526315789473,
          21.052631578947366,
          22.89473684210526,
          24.736842105263158,
          26.578947368421055,
          28.421052631578945,
          30.263157894736842,
          32.10526315789474,
          33.94736842105263,
          35.78947368421052,
          37.63157894736842,
          39.473684210526315,
          41.315789473684205,
          43.1578947368421,
          45
         ],
         "mode": "lines",
         "showlegend": false,
         "type": "scattermapbox"
        },
        {
         "customdata": [
          [
           "Latin America",
           "Middle East",
           7798331.86
          ],
          [
           "Latin America",
           "Middle East",
           7798331.86
          ],
          [
           "Latin America",
           "Middle East",
           7798331.86
          ],
          [
           "Latin America",
           "Middle East",
           7798331.86
          ],
          [
           "Latin America",
           "Middle East",
           7798331.86
          ],
          [
           "Latin America",
           "Middle East",
           7798331.86
          ],
          [
           "Latin America",
           "Middle East",
           7798331.86
          ],
          [
           "Latin America",
           "Middle East",
           7798331.86
          ],
          [
           "Latin America",
           "Middle East",
           7798331.86
          ],
          [
           "Latin America",
           "Middle East",
           7798331.86
          ],
          [
           "Latin America",
           "Middle East",
           7798331.86
          ],
          [
           "Latin America",
           "Middle East",
           7798331.86
          ],
          [
           "Latin America",
           "Middle East",
           7798331.86
          ],
          [
           "Latin America",
           "Middle East",
           7798331.86
          ],
          [
           "Latin America",
           "Middle East",
           7798331.86
          ],
          [
           "Latin America",
           "Middle East",
           7798331.86
          ],
          [
           "Latin America",
           "Middle East",
           7798331.86
          ],
          [
           "Latin America",
           "Middle East",
           7798331.86
          ],
          [
           "Latin America",
           "Middle East",
           7798331.86
          ],
          [
           "Latin America",
           "Middle East",
           7798331.86
          ]
         ],
         "hoverinfo": "text",
         "hovertext": "Latin America → Middle East<br>Amount: $7,798,331.86",
         "lat": [
          -10,
          -7.055401662049863,
          -4.221606648199446,
          -1.4986149584487531,
          1.1135734072022154,
          3.614958448753461,
          6.005540166204986,
          8.285318559556785,
          10.454293628808864,
          12.51246537396122,
          14.45983379501385,
          16.29639889196676,
          18.022160664819943,
          19.637119113573405,
          21.141274238227144,
          22.534626038781166,
          23.817174515235457,
          24.988919667590025,
          26.049861495844873,
          27
         ],
         "line": {
          "color": "rgba(70, 130, 180, 0.38)",
          "width": 2.4255473542306936
         },
         "lon": [
          -60,
          -54.47368421052633,
          -48.94736842105263,
          -43.42105263157894,
          -37.89473684210527,
          -32.36842105263158,
          -26.842105263157897,
          -21.31578947368421,
          -15.789473684210527,
          -10.263157894736848,
          -4.736842105263159,
          0.7894736842105292,
          6.315789473684209,
          11.842105263157885,
          17.368421052631575,
          22.894736842105264,
          28.421052631578938,
          33.947368421052616,
          39.473684210526315,
          45
         ],
         "mode": "lines",
         "showlegend": false,
         "type": "scattermapbox"
        },
        {
         "customdata": [
          [
           "Middle East",
           "Central Asia",
           48226219
          ],
          [
           "Middle East",
           "Central Asia",
           48226219
          ],
          [
           "Middle East",
           "Central Asia",
           48226219
          ],
          [
           "Middle East",
           "Central Asia",
           48226219
          ],
          [
           "Middle East",
           "Central Asia",
           48226219
          ],
          [
           "Middle East",
           "Central Asia",
           48226219
          ],
          [
           "Middle East",
           "Central Asia",
           48226219
          ],
          [
           "Middle East",
           "Central Asia",
           48226219
          ],
          [
           "Middle East",
           "Central Asia",
           48226219
          ],
          [
           "Middle East",
           "Central Asia",
           48226219
          ],
          [
           "Middle East",
           "Central Asia",
           48226219
          ],
          [
           "Middle East",
           "Central Asia",
           48226219
          ],
          [
           "Middle East",
           "Central Asia",
           48226219
          ],
          [
           "Middle East",
           "Central Asia",
           48226219
          ],
          [
           "Middle East",
           "Central Asia",
           48226219
          ],
          [
           "Middle East",
           "Central Asia",
           48226219
          ],
          [
           "Middle East",
           "Central Asia",
           48226219
          ],
          [
           "Middle East",
           "Central Asia",
           48226219
          ],
          [
           "Middle East",
           "Central Asia",
           48226219
          ],
          [
           "Middle East",
           "Central Asia",
           48226219
          ]
         ],
         "hoverinfo": "text",
         "hovertext": "Middle East → Central Asia<br>Amount: $48,226,219.00",
         "lat": [
          27,
          28.349859112765646,
          29.65499703756317,
          30.915413774392583,
          32.13110932325389,
          33.302083684147085,
          34.42833685707216,
          35.50986884202912,
          36.54667963901798,
          37.538769248038726,
          38.48613766909136,
          39.38878490217588,
          40.246710947292286,
          41.05991580444058,
          41.82839947362076,
          42.55216195483283,
          43.231203248076795,
          43.865523353352636,
          44.455122270660375,
          45
         ],
         "line": {
          "color": "rgba(70, 130, 180, 0.80)",
          "width": 15
         },
         "lon": [
          45,
          46.05263157894738,
          47.10526315789474,
          48.157894736842096,
          49.210526315789465,
          50.26315789473685,
          51.31578947368421,
          52.368421052631575,
          53.421052631578945,
          54.47368421052632,
          55.526315789473685,
          56.578947368421055,
          57.63157894736842,
          58.684210526315795,
          59.73684210526315,
          60.78947368421052,
          61.84210526315789,
          62.89473684210526,
          63.94736842105263,
          65
         ],
         "mode": "lines",
         "showlegend": false,
         "type": "scattermapbox"
        },
        {
         "customdata": [
          [
           "Middle East",
           "Southeast Asia",
           33486319.98
          ],
          [
           "Middle East",
           "Southeast Asia",
           33486319.98
          ],
          [
           "Middle East",
           "Southeast Asia",
           33486319.98
          ],
          [
           "Middle East",
           "Southeast Asia",
           33486319.98
          ],
          [
           "Middle East",
           "Southeast Asia",
           33486319.98
          ],
          [
           "Middle East",
           "Southeast Asia",
           33486319.98
          ],
          [
           "Middle East",
           "Southeast Asia",
           33486319.98
          ],
          [
           "Middle East",
           "Southeast Asia",
           33486319.98
          ],
          [
           "Middle East",
           "Southeast Asia",
           33486319.98
          ],
          [
           "Middle East",
           "Southeast Asia",
           33486319.98
          ],
          [
           "Middle East",
           "Southeast Asia",
           33486319.98
          ],
          [
           "Middle East",
           "Southeast Asia",
           33486319.98
          ],
          [
           "Middle East",
           "Southeast Asia",
           33486319.98
          ],
          [
           "Middle East",
           "Southeast Asia",
           33486319.98
          ],
          [
           "Middle East",
           "Southeast Asia",
           33486319.98
          ],
          [
           "Middle East",
           "Southeast Asia",
           33486319.98
          ],
          [
           "Middle East",
           "Southeast Asia",
           33486319.98
          ],
          [
           "Middle East",
           "Southeast Asia",
           33486319.98
          ],
          [
           "Middle East",
           "Southeast Asia",
           33486319.98
          ],
          [
           "Middle East",
           "Southeast Asia",
           33486319.98
          ]
         ],
         "hoverinfo": "text",
         "hovertext": "Middle East → Southeast Asia<br>Amount: $33,486,319.98",
         "lat": [
          27,
          27.038099655062737,
          26.972550810440136,
          26.803353466132204,
          26.530507622138945,
          26.15401327846035,
          25.673870435096415,
          25.090079092047148,
          24.402639249312557,
          23.611550906892628,
          22.716814064787364,
          21.718428722996766,
          20.616394881520836,
          19.410712540359576,
          18.101381699512977,
          16.688402358981048,
          15.171774518763787,
          13.551498178861193,
          11.827573339273261,
          10
         ],
         "line": {
          "color": "rgba(70, 130, 180, 0.65)",
          "width": 10.415388353376823
         },
         "lon": [
          45,
          48.15789473684211,
          51.315789473684205,
          54.47368421052631,
          57.63157894736842,
          60.789473684210535,
          63.94736842105263,
          67.10526315789474,
          70.26315789473684,
          73.42105263157895,
          76.57894736842105,
          79.73684210526315,
          82.89473684210526,
          86.05263157894737,
          89.21052631578947,
          92.36842105263158,
          95.52631578947367,
          98.68421052631578,
          101.84210526315789,
          105
         ],
         "mode": "lines",
         "showlegend": false,
         "type": "scattermapbox"
        },
        {
         "customdata": [
          [
           "North America",
           "Europe",
           4646043.73
          ],
          [
           "North America",
           "Europe",
           4646043.73
          ],
          [
           "North America",
           "Europe",
           4646043.73
          ],
          [
           "North America",
           "Europe",
           4646043.73
          ],
          [
           "North America",
           "Europe",
           4646043.73
          ],
          [
           "North America",
           "Europe",
           4646043.73
          ],
          [
           "North America",
           "Europe",
           4646043.73
          ],
          [
           "North America",
           "Europe",
           4646043.73
          ],
          [
           "North America",
           "Europe",
           4646043.73
          ],
          [
           "North America",
           "Europe",
           4646043.73
          ],
          [
           "North America",
           "Europe",
           4646043.73
          ],
          [
           "North America",
           "Europe",
           4646043.73
          ],
          [
           "North America",
           "Europe",
           4646043.73
          ],
          [
           "North America",
           "Europe",
           4646043.73
          ],
          [
           "North America",
           "Europe",
           4646043.73
          ],
          [
           "North America",
           "Europe",
           4646043.73
          ],
          [
           "North America",
           "Europe",
           4646043.73
          ],
          [
           "North America",
           "Europe",
           4646043.73
          ],
          [
           "North America",
           "Europe",
           4646043.73
          ],
          [
           "North America",
           "Europe",
           4646043.73
          ]
         ],
         "hoverinfo": "text",
         "hovertext": "North America → Europe<br>Amount: $4,646,043.73",
         "lat": [
          40,
          41.523545706371195,
          42.936288088642655,
          44.238227146814395,
          45.42936288088643,
          46.50969529085873,
          47.4792243767313,
          48.33795013850415,
          49.08587257617729,
          49.7229916897507,
          50.249307479224385,
          50.664819944598335,
          50.96952908587258,
          51.16343490304709,
          51.24653739612188,
          51.21883656509695,
          51.0803324099723,
          50.83102493074793,
          50.470914127423825,
          50
         ],
         "line": {
          "color": "rgba(70, 130, 180, 0.35)",
          "width": 1.4450781627728273
         },
         "lon": [
          -100,
          -94.21052631578948,
          -88.42105263157895,
          -82.63157894736841,
          -76.84210526315789,
          -71.05263157894738,
          -65.26315789473685,
          -59.47368421052631,
          -53.684210526315795,
          -47.894736842105274,
          -42.10526315789474,
          -36.315789473684205,
          -30.52631578947369,
          -24.736842105263168,
          -18.947368421052634,
          -13.157894736842103,
          -7.368421052631585,
          -1.5789473684210638,
          4.210526315789466,
          10
         ],
         "mode": "lines",
         "showlegend": false,
         "type": "scattermapbox"
        },
        {
         "customdata": [
          [
           "North America",
           "Middle East",
           10590745.35
          ],
          [
           "North America",
           "Middle East",
           10590745.35
          ],
          [
           "North America",
           "Middle East",
           10590745.35
          ],
          [
           "North America",
           "Middle East",
           10590745.35
          ],
          [
           "North America",
           "Middle East",
           10590745.35
          ],
          [
           "North America",
           "Middle East",
           10590745.35
          ],
          [
           "North America",
           "Middle East",
           10590745.35
          ],
          [
           "North America",
           "Middle East",
           10590745.35
          ],
          [
           "North America",
           "Middle East",
           10590745.35
          ],
          [
           "North America",
           "Middle East",
           10590745.35
          ],
          [
           "North America",
           "Middle East",
           10590745.35
          ],
          [
           "North America",
           "Middle East",
           10590745.35
          ],
          [
           "North America",
           "Middle East",
           10590745.35
          ],
          [
           "North America",
           "Middle East",
           10590745.35
          ],
          [
           "North America",
           "Middle East",
           10590745.35
          ],
          [
           "North America",
           "Middle East",
           10590745.35
          ],
          [
           "North America",
           "Middle East",
           10590745.35
          ],
          [
           "North America",
           "Middle East",
           10590745.35
          ],
          [
           "North America",
           "Middle East",
           10590745.35
          ],
          [
           "North America",
           "Middle East",
           10590745.35
          ]
         ],
         "hoverinfo": "text",
         "hovertext": "North America → Middle East<br>Amount: $10,590,745.35",
         "lat": [
          40,
          40.31301939058172,
          40.51523545706371,
          40.60664819944598,
          40.58725761772853,
          40.45706371191137,
          40.21606648199446,
          39.86426592797783,
          39.4016620498615,
          38.82825484764544,
          38.14404432132964,
          37.34903047091413,
          36.443213296398895,
          35.42659279778393,
          34.29916897506925,
          33.060941828254855,
          31.711911357340725,
          30.25207756232687,
          28.681440443213297,
          27
         ],
         "line": {
          "color": "rgba(70, 130, 180, 0.41)",
          "width": 3.2940832506483657
         },
         "lon": [
          -100,
          -92.36842105263159,
          -84.73684210526315,
          -77.10526315789473,
          -69.47368421052632,
          -61.84210526315791,
          -54.21052631578948,
          -46.57894736842105,
          -38.94736842105263,
          -31.315789473684227,
          -23.684210526315788,
          -16.052631578947366,
          -8.421052631578952,
          -0.7894736842105416,
          6.842105263157887,
          14.473684210526319,
          22.105263157894726,
          29.736842105263136,
          37.368421052631575,
          45
         ],
         "mode": "lines",
         "showlegend": false,
         "type": "scattermapbox"
        },
        {
         "customdata": [
          [
           "South Asia",
           "Middle East",
           5440545.04
          ],
          [
           "South Asia",
           "Middle East",
           5440545.04
          ],
          [
           "South Asia",
           "Middle East",
           5440545.04
          ],
          [
           "South Asia",
           "Middle East",
           5440545.04
          ],
          [
           "South Asia",
           "Middle East",
           5440545.04
          ],
          [
           "South Asia",
           "Middle East",
           5440545.04
          ],
          [
           "South Asia",
           "Middle East",
           5440545.04
          ],
          [
           "South Asia",
           "Middle East",
           5440545.04
          ],
          [
           "South Asia",
           "Middle East",
           5440545.04
          ],
          [
           "South Asia",
           "Middle East",
           5440545.04
          ],
          [
           "South Asia",
           "Middle East",
           5440545.04
          ],
          [
           "South Asia",
           "Middle East",
           5440545.04
          ],
          [
           "South Asia",
           "Middle East",
           5440545.04
          ],
          [
           "South Asia",
           "Middle East",
           5440545.04
          ],
          [
           "South Asia",
           "Middle East",
           5440545.04
          ],
          [
           "South Asia",
           "Middle East",
           5440545.04
          ],
          [
           "South Asia",
           "Middle East",
           5440545.04
          ],
          [
           "South Asia",
           "Middle East",
           5440545.04
          ],
          [
           "South Asia",
           "Middle East",
           5440545.04
          ],
          [
           "South Asia",
           "Middle East",
           5440545.04
          ]
         ],
         "hoverinfo": "text",
         "hovertext": "South Asia → Middle East<br>Amount: $5,440,545.04",
         "lat": [
          20,
          20.829228685451785,
          21.60725652281243,
          22.33408351208194,
          23.009709653260323,
          23.634134946347576,
          24.207359391343683,
          24.729382988248663,
          25.200205737062515,
          25.619827637785225,
          25.988248690416803,
          26.305468894957247,
          26.571488251406556,
          26.786306759764738,
          26.94992442003178,
          27.062341232207697,
          27.12355719629247,
          27.133572312286113,
          27.092386580188624,
          27
         ],
         "line": {
          "color": "rgba(70, 130, 180, 0.36)",
          "width": 1.692195185361722
         },
         "lon": [
          75,
          73.42105263157896,
          71.84210526315789,
          70.26315789473684,
          68.6842105263158,
          67.10526315789475,
          65.52631578947368,
          63.94736842105263,
          62.368421052631575,
          60.789473684210535,
          59.21052631578948,
          57.631578947368425,
          56.05263157894737,
          54.47368421052632,
          52.89473684210526,
          51.315789473684205,
          49.73684210526316,
          48.15789473684211,
          46.578947368421055,
          45
         ],
         "mode": "lines",
         "showlegend": false,
         "type": "scattermapbox"
        },
        {
         "customdata": [
          [
           874798.97,
           5552112.78,
           -4677313.8100000005,
           "Africa"
          ],
          [
           1127800.99,
           17499290.02,
           -16371489.03,
           "Asia Pacific"
          ],
          [
           654512.99,
           43489845.73,
           -42835332.739999995,
           "Caribbean"
          ],
          [
           48753914.99,
           13450115.83,
           35303799.160000004,
           "Central Asia"
          ],
          [
           6545044.47,
           6885869.07,
           -340824.60000000056,
           "Europe"
          ],
          [
           6277920.2700000005,
           10194766.540000001,
           -3916846.2700000005,
           "Latin America"
          ],
          [
           105059536.71,
           84499534.24,
           20560002.47,
           "Middle East"
          ],
          [
           645744.36,
           17838163.39,
           -17192419.03,
           "North America"
          ],
          [
           904343.14,
           5894135.18,
           -4989792.04,
           "South Asia"
          ],
          [
           35948692.910000004,
           1488477.02,
           34460215.89,
           "Southeast Asia"
          ]
         ],
         "hovertemplate": "<b>%{text}</b><br>Inflow: $%{customdata[0]:,.2f}<br>Outflow: $%{customdata[1]:,.2f}<br>Net Flow: $%{customdata[2]:,.2f}",
         "lat": {
          "bdata": "AAAAAAAAFEAAAAAAAAA+QAAAAAAAADRAAAAAAACARkAAAAAAAABJQAAAAAAAACTAAAAAAAAAO0AAAAAAAABEQAAAAAAAADRAAAAAAAAAJEA=",
          "dtype": "f8"
         },
         "lon": {
          "bdata": "AAAAAAAANEAAAAAAAABeQAAAAAAAwFLAAAAAAABAUEAAAAAAAAAkQAAAAAAAAE7AAAAAAACARkAAAAAAAABZwAAAAAAAwFJAAAAAAABAWkA=",
          "dtype": "f8"
         },
         "marker": {
          "cmid": 0,
          "color": {
           "bdata": "PgrXc7DXUcGPwvUg5DlvwR6F6yXsbITBFa5HuYvVgEFwZmZmYs0UwSpcjyIX4k3BuB6FJ4ibc0FI4XowXmVwwSlcjwLYCFPBUrgev5FugEE=",
           "dtype": "f8"
          },
          "colorbar": {
           "thickness": 15,
           "title": {
            "text": "Net Flow<br>(Inflow - Outflow)"
           }
          },
          "colorscale": [
           [
            0,
            "rgb(103,0,31)"
           ],
           [
            0.1,
            "rgb(178,24,43)"
           ],
           [
            0.2,
            "rgb(214,96,77)"
           ],
           [
            0.3,
            "rgb(244,165,130)"
           ],
           [
            0.4,
            "rgb(253,219,199)"
           ],
           [
            0.5,
            "rgb(247,247,247)"
           ],
           [
            0.6,
            "rgb(209,229,240)"
           ],
           [
            0.7,
            "rgb(146,197,222)"
           ],
           [
            0.8,
            "rgb(67,147,195)"
           ],
           [
            0.9,
            "rgb(33,102,172)"
           ],
           [
            1,
            "rgb(5,48,97)"
           ]
          ],
          "opacity": 0.8,
          "size": {
           "bdata": "7RCPX/qxJUBEQ27xy+koQA0CIXXapC9ADMZH4Co0MkBniAaT7IonQEyQNPtRWChAAAAAAACAQUDLor3QIOAoQIaf/G4RyyVApscgGPPfLUA=",
           "dtype": "f8"
          }
         },
         "mode": "markers",
         "name": "Regions",
         "text": [
          "Africa",
          "Asia Pacific",
          "Caribbean",
          "Central Asia",
          "Europe",
          "Latin America",
          "Middle East",
          "North America",
          "South Asia",
          "Southeast Asia"
         ],
         "type": "scattermapbox"
        }
       ],
       "layout": {
        "height": 700,
        "mapbox": {
         "center": {
          "lat": 20,
          "lon": 0
         },
         "style": "carto-positron",
         "zoom": 1.2
        },
        "margin": {
         "b": 0,
         "l": 0,
         "r": 0,
         "t": 50
        },
        "template": {
         "data": {
          "bar": [
           {
            "error_x": {
             "color": "#2a3f5f"
            },
            "error_y": {
             "color": "#2a3f5f"
            },
            "marker": {
             "line": {
              "color": "#E5ECF6",
              "width": 0.5
             },
             "pattern": {
              "fillmode": "overlay",
              "size": 10,
              "solidity": 0.2
             }
            },
            "type": "bar"
           }
          ],
          "barpolar": [
           {
            "marker": {
             "line": {
              "color": "#E5ECF6",
              "width": 0.5
             },
             "pattern": {
              "fillmode": "overlay",
              "size": 10,
              "solidity": 0.2
             }
            },
            "type": "barpolar"
           }
          ],
          "carpet": [
           {
            "aaxis": {
             "endlinecolor": "#2a3f5f",
             "gridcolor": "white",
             "linecolor": "white",
             "minorgridcolor": "white",
             "startlinecolor": "#2a3f5f"
            },
            "baxis": {
             "endlinecolor": "#2a3f5f",
             "gridcolor": "white",
             "linecolor": "white",
             "minorgridcolor": "white",
             "startlinecolor": "#2a3f5f"
            },
            "type": "carpet"
           }
          ],
          "choropleth": [
           {
            "colorbar": {
             "outlinewidth": 0,
             "ticks": ""
            },
            "type": "choropleth"
           }
          ],
          "contour": [
           {
            "colorbar": {
             "outlinewidth": 0,
             "ticks": ""
            },
            "colorscale": [
             [
              0,
              "#0d0887"
             ],
             [
              0.1111111111111111,
              "#46039f"
             ],
             [
              0.2222222222222222,
              "#7201a8"
             ],
             [
              0.3333333333333333,
              "#9c179e"
             ],
             [
              0.4444444444444444,
              "#bd3786"
             ],
             [
              0.5555555555555556,
              "#d8576b"
             ],
             [
              0.6666666666666666,
              "#ed7953"
             ],
             [
              0.7777777777777778,
              "#fb9f3a"
             ],
             [
              0.8888888888888888,
              "#fdca26"
             ],
             [
              1,
              "#f0f921"
             ]
            ],
            "type": "contour"
           }
          ],
          "contourcarpet": [
           {
            "colorbar": {
             "outlinewidth": 0,
             "ticks": ""
            },
            "type": "contourcarpet"
           }
          ],
          "heatmap": [
           {
            "colorbar": {
             "outlinewidth": 0,
             "ticks": ""
            },
            "colorscale": [
             [
              0,
              "#0d0887"
             ],
             [
              0.1111111111111111,
              "#46039f"
             ],
             [
              0.2222222222222222,
              "#7201a8"
             ],
             [
              0.3333333333333333,
              "#9c179e"
             ],
             [
              0.4444444444444444,
              "#bd3786"
             ],
             [
              0.5555555555555556,
              "#d8576b"
             ],
             [
              0.6666666666666666,
              "#ed7953"
             ],
             [
              0.7777777777777778,
              "#fb9f3a"
             ],
             [
              0.8888888888888888,
              "#fdca26"
             ],
             [
              1,
              "#f0f921"
             ]
            ],
            "type": "heatmap"
           }
          ],
          "histogram": [
           {
            "marker": {
             "pattern": {
              "fillmode": "overlay",
              "size": 10,
              "solidity": 0.2
             }
            },
            "type": "histogram"
           }
          ],
          "histogram2d": [
           {
            "colorbar": {
             "outlinewidth": 0,
             "ticks": ""
            },
            "colorscale": [
             [
              0,
              "#0d0887"
             ],
             [
              0.1111111111111111,
              "#46039f"
             ],
             [
              0.2222222222222222,
              "#7201a8"
             ],
             [
              0.3333333333333333,
              "#9c179e"
             ],
             [
              0.4444444444444444,
              "#bd3786"
             ],
             [
              0.5555555555555556,
              "#d8576b"
             ],
             [
              0.6666666666666666,
              "#ed7953"
             ],
             [
              0.7777777777777778,
              "#fb9f3a"
             ],
             [
              0.8888888888888888,
              "#fdca26"
             ],
             [
              1,
              "#f0f921"
             ]
            ],
            "type": "histogram2d"
           }
          ],
          "histogram2dcontour": [
           {
            "colorbar": {
             "outlinewidth": 0,
             "ticks": ""
            },
            "colorscale": [
             [
              0,
              "#0d0887"
             ],
             [
              0.1111111111111111,
              "#46039f"
             ],
             [
              0.2222222222222222,
              "#7201a8"
             ],
             [
              0.3333333333333333,
              "#9c179e"
             ],
             [
              0.4444444444444444,
              "#bd3786"
             ],
             [
              0.5555555555555556,
              "#d8576b"
             ],
             [
              0.6666666666666666,
              "#ed7953"
             ],
             [
              0.7777777777777778,
              "#fb9f3a"
             ],
             [
              0.8888888888888888,
              "#fdca26"
             ],
             [
              1,
              "#f0f921"
             ]
            ],
            "type": "histogram2dcontour"
           }
          ],
          "mesh3d": [
           {
            "colorbar": {
             "outlinewidth": 0,
             "ticks": ""
            },
            "type": "mesh3d"
           }
          ],
          "parcoords": [
           {
            "line": {
             "colorbar": {
              "outlinewidth": 0,
              "ticks": ""
             }
            },
            "type": "parcoords"
           }
          ],
          "pie": [
           {
            "automargin": true,
            "type": "pie"
           }
          ],
          "scatter": [
           {
            "fillpattern": {
             "fillmode": "overlay",
             "size": 10,
             "solidity": 0.2
            },
            "type": "scatter"
           }
          ],
          "scatter3d": [
           {
            "line": {
             "colorbar": {
              "outlinewidth": 0,
              "ticks": ""
             }
            },
            "marker": {
             "colorbar": {
              "outlinewidth": 0,
              "ticks": ""
             }
            },
            "type": "scatter3d"
           }
          ],
          "scattercarpet": [
           {
            "marker": {
             "colorbar": {
              "outlinewidth": 0,
              "ticks": ""
             }
            },
            "type": "scattercarpet"
           }
          ],
          "scattergeo": [
           {
            "marker": {
             "colorbar": {
              "outlinewidth": 0,
              "ticks": ""
             }
            },
            "type": "scattergeo"
           }
          ],
          "scattergl": [
           {
            "marker": {
             "colorbar": {
              "outlinewidth": 0,
              "ticks": ""
             }
            },
            "type": "scattergl"
           }
          ],
          "scattermap": [
           {
            "marker": {
             "colorbar": {
              "outlinewidth": 0,
              "ticks": ""
             }
            },
            "type": "scattermap"
           }
          ],
          "scattermapbox": [
           {
            "marker": {
             "colorbar": {
              "outlinewidth": 0,
              "ticks": ""
             }
            },
            "type": "scattermapbox"
           }
          ],
          "scatterpolar": [
           {
            "marker": {
             "colorbar": {
              "outlinewidth": 0,
              "ticks": ""
             }
            },
            "type": "scatterpolar"
           }
          ],
          "scatterpolargl": [
           {
            "marker": {
             "colorbar": {
              "outlinewidth": 0,
              "ticks": ""
             }
            },
            "type": "scatterpolargl"
           }
          ],
          "scatterternary": [
           {
            "marker": {
             "colorbar": {
              "outlinewidth": 0,
              "ticks": ""
             }
            },
            "type": "scatterternary"
           }
          ],
          "surface": [
           {
            "colorbar": {
             "outlinewidth": 0,
             "ticks": ""
            },
            "colorscale": [
             [
              0,
              "#0d0887"
             ],
             [
              0.1111111111111111,
              "#46039f"
             ],
             [
              0.2222222222222222,
              "#7201a8"
             ],
             [
              0.3333333333333333,
              "#9c179e"
             ],
             [
              0.4444444444444444,
              "#bd3786"
             ],
             [
              0.5555555555555556,
              "#d8576b"
             ],
             [
              0.6666666666666666,
              "#ed7953"
             ],
             [
              0.7777777777777778,
              "#fb9f3a"
             ],
             [
              0.8888888888888888,
              "#fdca26"
             ],
             [
              1,
              "#f0f921"
             ]
            ],
            "type": "surface"
           }
          ],
          "table": [
           {
            "cells": {
             "fill": {
              "color": "#EBF0F8"
             },
             "line": {
              "color": "white"
             }
            },
            "header": {
             "fill": {
              "color": "#C8D4E3"
             },
             "line": {
              "color": "white"
             }
            },
            "type": "table"
           }
          ]
         },
         "layout": {
          "annotationdefaults": {
           "arrowcolor": "#2a3f5f",
           "arrowhead": 0,
           "arrowwidth": 1
          },
          "autotypenumbers": "strict",
          "coloraxis": {
           "colorbar": {
            "outlinewidth": 0,
            "ticks": ""
           }
          },
          "colorscale": {
           "diverging": [
            [
             0,
             "#8e0152"
            ],
            [
             0.1,
             "#c51b7d"
            ],
            [
             0.2,
             "#de77ae"
            ],
            [
             0.3,
             "#f1b6da"
            ],
            [
             0.4,
             "#fde0ef"
            ],
            [
             0.5,
             "#f7f7f7"
            ],
            [
             0.6,
             "#e6f5d0"
            ],
            [
             0.7,
             "#b8e186"
            ],
            [
             0.8,
             "#7fbc41"
            ],
            [
             0.9,
             "#4d9221"
            ],
            [
             1,
             "#276419"
            ]
           ],
           "sequential": [
            [
             0,
             "#0d0887"
            ],
            [
             0.1111111111111111,
             "#46039f"
            ],
            [
             0.2222222222222222,
             "#7201a8"
            ],
            [
             0.3333333333333333,
             "#9c179e"
            ],
            [
             0.4444444444444444,
             "#bd3786"
            ],
            [
             0.5555555555555556,
             "#d8576b"
            ],
            [
             0.6666666666666666,
             "#ed7953"
            ],
            [
             0.7777777777777778,
             "#fb9f3a"
            ],
            [
             0.8888888888888888,
             "#fdca26"
            ],
            [
             1,
             "#f0f921"
            ]
           ],
           "sequentialminus": [
            [
             0,
             "#0d0887"
            ],
            [
             0.1111111111111111,
             "#46039f"
            ],
            [
             0.2222222222222222,
             "#7201a8"
            ],
            [
             0.3333333333333333,
             "#9c179e"
            ],
            [
             0.4444444444444444,
             "#bd3786"
            ],
            [
             0.5555555555555556,
             "#d8576b"
            ],
            [
             0.6666666666666666,
             "#ed7953"
            ],
            [
             0.7777777777777778,
             "#fb9f3a"
            ],
            [
             0.8888888888888888,
             "#fdca26"
            ],
            [
             1,
             "#f0f921"
            ]
           ]
          },
          "colorway": [
           "#636efa",
           "#EF553B",
           "#00cc96",
           "#ab63fa",
           "#FFA15A",
           "#19d3f3",
           "#FF6692",
           "#B6E880",
           "#FF97FF",
           "#FECB52"
          ],
          "font": {
           "color": "#2a3f5f"
          },
          "geo": {
           "bgcolor": "white",
           "lakecolor": "white",
           "landcolor": "#E5ECF6",
           "showlakes": true,
           "showland": true,
           "subunitcolor": "white"
          },
          "hoverlabel": {
           "align": "left"
          },
          "hovermode": "closest",
          "mapbox": {
           "style": "light"
          },
          "paper_bgcolor": "white",
          "plot_bgcolor": "#E5ECF6",
          "polar": {
           "angularaxis": {
            "gridcolor": "white",
            "linecolor": "white",
            "ticks": ""
           },
           "bgcolor": "#E5ECF6",
           "radialaxis": {
            "gridcolor": "white",
            "linecolor": "white",
            "ticks": ""
           }
          },
          "scene": {
           "xaxis": {
            "backgroundcolor": "#E5ECF6",
            "gridcolor": "white",
            "gridwidth": 2,
            "linecolor": "white",
            "showbackground": true,
            "ticks": "",
            "zerolinecolor": "white"
           },
           "yaxis": {
            "backgroundcolor": "#E5ECF6",
            "gridcolor": "white",
            "gridwidth": 2,
            "linecolor": "white",
            "showbackground": true,
            "ticks": "",
            "zerolinecolor": "white"
           },
           "zaxis": {
            "backgroundcolor": "#E5ECF6",
            "gridcolor": "white",
            "gridwidth": 2,
            "linecolor": "white",
            "showbackground": true,
            "ticks": "",
            "zerolinecolor": "white"
           }
          },
          "shapedefaults": {
           "line": {
            "color": "#2a3f5f"
           }
          },
          "ternary": {
           "aaxis": {
            "gridcolor": "white",
            "linecolor": "white",
            "ticks": ""
           },
           "baxis": {
            "gridcolor": "white",
            "linecolor": "white",
            "ticks": ""
           },
           "bgcolor": "#E5ECF6",
           "caxis": {
            "gridcolor": "white",
            "linecolor": "white",
            "ticks": ""
           }
          },
          "title": {
           "x": 0.05
          },
          "xaxis": {
           "automargin": true,
           "gridcolor": "white",
           "linecolor": "white",
           "ticks": "",
           "title": {
            "standoff": 15
           },
           "zerolinecolor": "white",
           "zerolinewidth": 2
          },
          "yaxis": {
           "automargin": true,
           "gridcolor": "white",
           "linecolor": "white",
           "ticks": "",
           "title": {
            "standoff": 15
           },
           "zerolinecolor": "white",
           "zerolinewidth": 2
          }
         }
        },
        "title": {
         "text": "Global Banking Transaction Flows Between Regions"
        },
        "width": 1200
       }
      }
     },
     "metadata": {},
     "output_type": "display_data"
    },
    {
     "data": {
      "application/vnd.jupyter.widget-view+json": {
       "model_id": "da126c8136914501a0ab026d657cc743",
       "version_major": 2,
       "version_minor": 0
      },
      "text/plain": [
       "interactive(children=(Dropdown(description='Sender Region:', layout=Layout(width='300px'), options=('All', np.…"
      ]
     },
     "metadata": {},
     "output_type": "display_data"
    },
    {
     "data": {
      "application/vnd.jupyter.widget-view+json": {
       "model_id": "ae7ff78be008435880d3b10c8b15fc99",
       "version_major": 2,
       "version_minor": 0
      },
      "text/plain": [
       "Output()"
      ]
     },
     "metadata": {},
     "output_type": "display_data"
    },
    {
     "data": {
      "application/vnd.plotly.v1+json": {
       "config": {
        "plotlyServerURL": "https://plot.ly"
       },
       "data": [
        {
         "customdata": [
          [
           "Africa",
           "Middle East",
           4794660.58
          ],
          [
           "Africa",
           "Middle East",
           4794660.58
          ],
          [
           "Africa",
           "Middle East",
           4794660.58
          ],
          [
           "Africa",
           "Middle East",
           4794660.58
          ],
          [
           "Africa",
           "Middle East",
           4794660.58
          ],
          [
           "Africa",
           "Middle East",
           4794660.58
          ],
          [
           "Africa",
           "Middle East",
           4794660.58
          ],
          [
           "Africa",
           "Middle East",
           4794660.58
          ],
          [
           "Africa",
           "Middle East",
           4794660.58
          ],
          [
           "Africa",
           "Middle East",
           4794660.58
          ],
          [
           "Africa",
           "Middle East",
           4794660.58
          ],
          [
           "Africa",
           "Middle East",
           4794660.58
          ],
          [
           "Africa",
           "Middle East",
           4794660.58
          ],
          [
           "Africa",
           "Middle East",
           4794660.58
          ],
          [
           "Africa",
           "Middle East",
           4794660.58
          ],
          [
           "Africa",
           "Middle East",
           4794660.58
          ],
          [
           "Africa",
           "Middle East",
           4794660.58
          ],
          [
           "Africa",
           "Middle East",
           4794660.58
          ],
          [
           "Africa",
           "Middle East",
           4794660.58
          ],
          [
           "Africa",
           "Middle East",
           4794660.58
          ]
         ],
         "hoverinfo": "text",
         "hovertext": "Africa → Middle East<br>Amount: $4,794,660.58",
         "lat": [
          5,
          6.6560357858663295,
          8.25672256628552,
          9.802060341257574,
          11.292049110782497,
          12.726688874860285,
          14.105979633490932,
          15.429921386674442,
          16.69851413441082,
          17.911757876700065,
          19.069652613542168,
          20.172198344937136,
          21.21939507088497,
          22.211242791385665,
          23.14774150643923,
          24.028891216045658,
          24.854691920204946,
          25.625143618917097,
          26.340246312182117,
          27
         ],
         "line": {
          "color": "rgba(70, 130, 180, 0.35)",
          "width": 1.4913030752006498
         },
         "lon": [
          20,
          21.315789473684212,
          22.63157894736842,
          23.94736842105263,
          25.263157894736842,
          26.578947368421055,
          27.89473684210526,
          29.210526315789473,
          30.52631578947368,
          31.842105263157897,
          33.15789473684211,
          34.473684210526315,
          35.78947368421053,
          37.10526315789474,
          38.421052631578945,
          39.73684210526316,
          41.05263157894736,
          42.368421052631575,
          43.68421052631579,
          45
         ],
         "mode": "lines",
         "showlegend": false,
         "type": "scattermapbox"
        },
        {
         "customdata": [
          [
           "Asia Pacific",
           "Middle East",
           16083014.38
          ],
          [
           "Asia Pacific",
           "Middle East",
           16083014.38
          ],
          [
           "Asia Pacific",
           "Middle East",
           16083014.38
          ],
          [
           "Asia Pacific",
           "Middle East",
           16083014.38
          ],
          [
           "Asia Pacific",
           "Middle East",
           16083014.38
          ],
          [
           "Asia Pacific",
           "Middle East",
           16083014.38
          ],
          [
           "Asia Pacific",
           "Middle East",
           16083014.38
          ],
          [
           "Asia Pacific",
           "Middle East",
           16083014.38
          ],
          [
           "Asia Pacific",
           "Middle East",
           16083014.38
          ],
          [
           "Asia Pacific",
           "Middle East",
           16083014.38
          ],
          [
           "Asia Pacific",
           "Middle East",
           16083014.38
          ],
          [
           "Asia Pacific",
           "Middle East",
           16083014.38
          ],
          [
           "Asia Pacific",
           "Middle East",
           16083014.38
          ],
          [
           "Asia Pacific",
           "Middle East",
           16083014.38
          ],
          [
           "Asia Pacific",
           "Middle East",
           16083014.38
          ],
          [
           "Asia Pacific",
           "Middle East",
           16083014.38
          ],
          [
           "Asia Pacific",
           "Middle East",
           16083014.38
          ],
          [
           "Asia Pacific",
           "Middle East",
           16083014.38
          ],
          [
           "Asia Pacific",
           "Middle East",
           16083014.38
          ],
          [
           "Asia Pacific",
           "Middle East",
           16083014.38
          ]
         ],
         "hoverinfo": "text",
         "hovertext": "Asia Pacific → Middle East<br>Amount: $16,083,014.38",
         "lat": [
          30,
          30.839335180055407,
          31.567867036011084,
          32.18559556786703,
          32.69252077562327,
          33.088642659279785,
          33.37396121883656,
          33.54847645429363,
          33.612188365650965,
          33.56509695290859,
          33.40720221606648,
          33.13850415512465,
          32.7590027700831,
          32.26869806094183,
          31.667590027700832,
          30.955678670360115,
          30.13296398891967,
          29.1994459833795,
          28.155124653739612,
          27
         ],
         "line": {
          "color": "rgba(70, 130, 180, 0.47)",
          "width": 5.002366362164946
         },
         "lon": [
          120,
          116.05263157894738,
          112.10526315789474,
          108.15789473684208,
          104.21052631578948,
          100.26315789473686,
          96.31578947368422,
          92.36842105263158,
          88.42105263157895,
          84.47368421052633,
          80.52631578947368,
          76.57894736842105,
          72.63157894736842,
          68.6842105263158,
          64.73684210526316,
          60.78947368421053,
          56.8421052631579,
          52.89473684210527,
          48.94736842105264,
          45
         ],
         "mode": "lines",
         "showlegend": false,
         "type": "scattermapbox"
        },
        {
         "customdata": [
          [
           "Caribbean",
           "Middle East",
           42760814.73
          ],
          [
           "Caribbean",
           "Middle East",
           42760814.73
          ],
          [
           "Caribbean",
           "Middle East",
           42760814.73
          ],
          [
           "Caribbean",
           "Middle East",
           42760814.73
          ],
          [
           "Caribbean",
           "Middle East",
           42760814.73
          ],
          [
           "Caribbean",
           "Middle East",
           42760814.73
          ],
          [
           "Caribbean",
           "Middle East",
           42760814.73
          ],
          [
           "Caribbean",
           "Middle East",
           42760814.73
          ],
          [
           "Caribbean",
           "Middle East",
           42760814.73
          ],
          [
           "Caribbean",
           "Middle East",
           42760814.73
          ],
          [
           "Caribbean",
           "Middle East",
           42760814.73
          ],
          [
           "Caribbean",
           "Middle East",
           42760814.73
          ],
          [
           "Caribbean",
           "Middle East",
           42760814.73
          ],
          [
           "Caribbean",
           "Middle East",
           42760814.73
          ],
          [
           "Caribbean",
           "Middle East",
           42760814.73
          ],
          [
           "Caribbean",
           "Middle East",
           42760814.73
          ],
          [
           "Caribbean",
           "Middle East",
           42760814.73
          ],
          [
           "Caribbean",
           "Middle East",
           42760814.73
          ],
          [
           "Caribbean",
           "Middle East",
           42760814.73
          ],
          [
           "Caribbean",
           "Middle East",
           42760814.73
          ]
         ],
         "hoverinfo": "text",
         "hovertext": "Caribbean → Middle East<br>Amount: $42,760,814.73",
         "lat": [
          20,
          21.36565096952909,
          22.620498614958446,
          23.764542936288084,
          24.797783933518005,
          25.7202216066482,
          26.53185595567867,
          27.232686980609415,
          27.82271468144044,
          28.301939058171747,
          28.670360110803323,
          28.927977839335178,
          29.074792243767313,
          29.110803324099727,
          29.036011080332408,
          28.850415512465375,
          28.554016620498615,
          28.14681440443213,
          27.628808864265928,
          27
         ],
         "line": {
          "color": "rgba(70, 130, 180, 0.74)",
          "width": 13.300072745698767
         },
         "lon": [
          -75,
          -68.68421052631581,
          -62.368421052631575,
          -56.052631578947356,
          -49.736842105263165,
          -43.42105263157896,
          -37.10526315789474,
          -30.78947368421052,
          -24.47368421052632,
          -18.15789473684211,
          -11.8421052631579,
          -5.526315789473681,
          0.7894736842105239,
          7.105263157894726,
          13.421052631578942,
          19.736842105263158,
          26.05263157894736,
          32.36842105263156,
          38.68421052631579,
          45
         ],
         "mode": "lines",
         "showlegend": false,
         "type": "scattermapbox"
        },
        {
         "customdata": [
          [
           "Central Asia",
           "Latin America",
           4435977
          ],
          [
           "Central Asia",
           "Latin America",
           4435977
          ],
          [
           "Central Asia",
           "Latin America",
           4435977
          ],
          [
           "Central Asia",
           "Latin America",
           4435977
          ],
          [
           "Central Asia",
           "Latin America",
           4435977
          ],
          [
           "Central Asia",
           "Latin America",
           4435977
          ],
          [
           "Central Asia",
           "Latin America",
           4435977
          ],
          [
           "Central Asia",
           "Latin America",
           4435977
          ],
          [
           "Central Asia",
           "Latin America",
           4435977
          ],
          [
           "Central Asia",
           "Latin America",
           4435977
          ],
          [
           "Central Asia",
           "Latin America",
           4435977
          ],
          [
           "Central Asia",
           "Latin America",
           4435977
          ],
          [
           "Central Asia",
           "Latin America",
           4435977
          ],
          [
           "Central Asia",
           "Latin America",
           4435977
          ],
          [
           "Central Asia",
           "Latin America",
           4435977
          ],
          [
           "Central Asia",
           "Latin America",
           4435977
          ],
          [
           "Central Asia",
           "Latin America",
           4435977
          ],
          [
           "Central Asia",
           "Latin America",
           4435977
          ],
          [
           "Central Asia",
           "Latin America",
           4435977
          ],
          [
           "Central Asia",
           "Latin America",
           4435977
          ]
         ],
         "hoverinfo": "text",
         "hovertext": "Central Asia → Latin America<br>Amount: $4,435,977.00",
         "lat": [
          45,
          43.10249307479225,
          41.094182825484765,
          38.97506925207755,
          36.745152354570635,
          34.404432132964004,
          31.95290858725762,
          29.390581717451518,
          26.71745152354571,
          23.933518005540172,
          21.038781163434905,
          18.033240997229917,
          14.916897506925208,
          11.689750692520786,
          8.351800554016622,
          4.903047091412741,
          1.343490304709145,
          -2.326869806094175,
          -6.108033240997225,
          -10
         ],
         "line": {
          "color": "rgba(70, 130, 180, 0.35)",
          "width": 1.3797402404696084
         },
         "lon": [
          65,
          58.42105263157895,
          51.8421052631579,
          45.263157894736835,
          38.684210526315795,
          32.10526315789475,
          25.52631578947369,
          18.94736842105263,
          12.368421052631582,
          5.789473684210533,
          -0.7894736842105221,
          -7.368421052631582,
          -13.947368421052628,
          -20.52631578947367,
          -27.105263157894733,
          -33.684210526315795,
          -40.263157894736835,
          -46.842105263157876,
          -53.42105263157894,
          -60
         ],
         "mode": "lines",
         "showlegend": false,
         "type": "scattermapbox"
        },
        {
         "customdata": [
          [
           "Central Asia",
           "Middle East",
           8409233.71
          ],
          [
           "Central Asia",
           "Middle East",
           8409233.71
          ],
          [
           "Central Asia",
           "Middle East",
           8409233.71
          ],
          [
           "Central Asia",
           "Middle East",
           8409233.71
          ],
          [
           "Central Asia",
           "Middle East",
           8409233.71
          ],
          [
           "Central Asia",
           "Middle East",
           8409233.71
          ],
          [
           "Central Asia",
           "Middle East",
           8409233.71
          ],
          [
           "Central Asia",
           "Middle East",
           8409233.71
          ],
          [
           "Central Asia",
           "Middle East",
           8409233.71
          ],
          [
           "Central Asia",
           "Middle East",
           8409233.71
          ],
          [
           "Central Asia",
           "Middle East",
           8409233.71
          ],
          [
           "Central Asia",
           "Middle East",
           8409233.71
          ],
          [
           "Central Asia",
           "Middle East",
           8409233.71
          ],
          [
           "Central Asia",
           "Middle East",
           8409233.71
          ],
          [
           "Central Asia",
           "Middle East",
           8409233.71
          ],
          [
           "Central Asia",
           "Middle East",
           8409233.71
          ],
          [
           "Central Asia",
           "Middle East",
           8409233.71
          ],
          [
           "Central Asia",
           "Middle East",
           8409233.71
          ],
          [
           "Central Asia",
           "Middle East",
           8409233.71
          ],
          [
           "Central Asia",
           "Middle East",
           8409233.71
          ]
         ],
         "hoverinfo": "text",
         "hovertext": "Central Asia → Middle East<br>Amount: $8,409,233.71",
         "lat": [
          45,
          44.45512227066038,
          43.86552335335264,
          43.23120324807679,
          42.55216195483283,
          41.82839947362077,
          41.05991580444058,
          40.24671094729228,
          39.38878490217587,
          38.48613766909136,
          37.538769248038726,
          36.54667963901798,
          35.50986884202913,
          34.42833685707216,
          33.30208368414708,
          32.131109323253895,
          30.915413774392587,
          29.65499703756317,
          28.349859112765643,
          27
         ],
         "line": {
          "color": "rgba(70, 130, 180, 0.39)",
          "width": 2.615558678775958
         },
         "lon": [
          65,
          63.94736842105264,
          62.89473684210526,
          61.84210526315788,
          60.78947368421053,
          59.736842105263165,
          58.684210526315795,
          57.63157894736841,
          56.578947368421055,
          55.52631578947369,
          54.47368421052632,
          53.421052631578945,
          52.368421052631575,
          51.31578947368422,
          50.26315789473684,
          49.21052631578947,
          48.1578947368421,
          47.10526315789474,
          46.05263157894737,
          45
         ],
         "mode": "lines",
         "showlegend": false,
         "type": "scattermapbox"
        },
        {
         "customdata": [
          [
           "Europe",
           "Middle East",
           5915148.550000001
          ],
          [
           "Europe",
           "Middle East",
           5915148.550000001
          ],
          [
           "Europe",
           "Middle East",
           5915148.550000001
          ],
          [
           "Europe",
           "Middle East",
           5915148.550000001
          ],
          [
           "Europe",
           "Middle East",
           5915148.550000001
          ],
          [
           "Europe",
           "Middle East",
           5915148.550000001
          ],
          [
           "Europe",
           "Middle East",
           5915148.550000001
          ],
          [
           "Europe",
           "Middle East",
           5915148.550000001
          ],
          [
           "Europe",
           "Middle East",
           5915148.550000001
          ],
          [
           "Europe",
           "Middle East",
           5915148.550000001
          ],
          [
           "Europe",
           "Middle East",
           5915148.550000001
          ],
          [
           "Europe",
           "Middle East",
           5915148.550000001
          ],
          [
           "Europe",
           "Middle East",
           5915148.550000001
          ],
          [
           "Europe",
           "Middle East",
           5915148.550000001
          ],
          [
           "Europe",
           "Middle East",
           5915148.550000001
          ],
          [
           "Europe",
           "Middle East",
           5915148.550000001
          ],
          [
           "Europe",
           "Middle East",
           5915148.550000001
          ],
          [
           "Europe",
           "Middle East",
           5915148.550000001
          ],
          [
           "Europe",
           "Middle East",
           5915148.550000001
          ],
          [
           "Europe",
           "Middle East",
           5915148.550000001
          ]
         ],
         "hoverinfo": "text",
         "hovertext": "Europe → Middle East<br>Amount: $5,915,148.55",
         "lat": [
          50,
          49.41594523320448,
          48.762282516520735,
          48.03901184994878,
          47.246133233488614,
          46.38364666714023,
          45.45155215090361,
          44.44984968477878,
          43.37853926876575,
          42.237620902864506,
          41.02709458707503,
          39.74696032139734,
          38.39721810583143,
          36.97786794037731,
          35.48890982503496,
          33.9303437598044,
          32.30216974468563,
          30.60438777967864,
          28.836997864783427,
          27
         ],
         "line": {
          "color": "rgba(70, 130, 180, 0.36)",
          "width": 1.839813074502067
         },
         "lon": [
          10,
          11.842105263157897,
          13.684210526315788,
          15.526315789473681,
          17.36842105263158,
          19.210526315789473,
          21.052631578947366,
          22.89473684210526,
          24.736842105263158,
          26.578947368421055,
          28.421052631578945,
          30.263157894736842,
          32.10526315789474,
          33.94736842105263,
          35.78947368421052,
          37.63157894736842,
          39.473684210526315,
          41.315789473684205,
          43.1578947368421,
          45
         ],
         "mode": "lines",
         "showlegend": false,
         "type": "scattermapbox"
        },
        {
         "customdata": [
          [
           "Latin America",
           "Middle East",
           7798331.86
          ],
          [
           "Latin America",
           "Middle East",
           7798331.86
          ],
          [
           "Latin America",
           "Middle East",
           7798331.86
          ],
          [
           "Latin America",
           "Middle East",
           7798331.86
          ],
          [
           "Latin America",
           "Middle East",
           7798331.86
          ],
          [
           "Latin America",
           "Middle East",
           7798331.86
          ],
          [
           "Latin America",
           "Middle East",
           7798331.86
          ],
          [
           "Latin America",
           "Middle East",
           7798331.86
          ],
          [
           "Latin America",
           "Middle East",
           7798331.86
          ],
          [
           "Latin America",
           "Middle East",
           7798331.86
          ],
          [
           "Latin America",
           "Middle East",
           7798331.86
          ],
          [
           "Latin America",
           "Middle East",
           7798331.86
          ],
          [
           "Latin America",
           "Middle East",
           7798331.86
          ],
          [
           "Latin America",
           "Middle East",
           7798331.86
          ],
          [
           "Latin America",
           "Middle East",
           7798331.86
          ],
          [
           "Latin America",
           "Middle East",
           7798331.86
          ],
          [
           "Latin America",
           "Middle East",
           7798331.86
          ],
          [
           "Latin America",
           "Middle East",
           7798331.86
          ],
          [
           "Latin America",
           "Middle East",
           7798331.86
          ],
          [
           "Latin America",
           "Middle East",
           7798331.86
          ]
         ],
         "hoverinfo": "text",
         "hovertext": "Latin America → Middle East<br>Amount: $7,798,331.86",
         "lat": [
          -10,
          -7.055401662049863,
          -4.221606648199446,
          -1.4986149584487531,
          1.1135734072022154,
          3.614958448753461,
          6.005540166204986,
          8.285318559556785,
          10.454293628808864,
          12.51246537396122,
          14.45983379501385,
          16.29639889196676,
          18.022160664819943,
          19.637119113573405,
          21.141274238227144,
          22.534626038781166,
          23.817174515235457,
          24.988919667590025,
          26.049861495844873,
          27
         ],
         "line": {
          "color": "rgba(70, 130, 180, 0.38)",
          "width": 2.4255473542306936
         },
         "lon": [
          -60,
          -54.47368421052633,
          -48.94736842105263,
          -43.42105263157894,
          -37.89473684210527,
          -32.36842105263158,
          -26.842105263157897,
          -21.31578947368421,
          -15.789473684210527,
          -10.263157894736848,
          -4.736842105263159,
          0.7894736842105292,
          6.315789473684209,
          11.842105263157885,
          17.368421052631575,
          22.894736842105264,
          28.421052631578938,
          33.947368421052616,
          39.473684210526315,
          45
         ],
         "mode": "lines",
         "showlegend": false,
         "type": "scattermapbox"
        },
        {
         "customdata": [
          [
           "Middle East",
           "Central Asia",
           48226219
          ],
          [
           "Middle East",
           "Central Asia",
           48226219
          ],
          [
           "Middle East",
           "Central Asia",
           48226219
          ],
          [
           "Middle East",
           "Central Asia",
           48226219
          ],
          [
           "Middle East",
           "Central Asia",
           48226219
          ],
          [
           "Middle East",
           "Central Asia",
           48226219
          ],
          [
           "Middle East",
           "Central Asia",
           48226219
          ],
          [
           "Middle East",
           "Central Asia",
           48226219
          ],
          [
           "Middle East",
           "Central Asia",
           48226219
          ],
          [
           "Middle East",
           "Central Asia",
           48226219
          ],
          [
           "Middle East",
           "Central Asia",
           48226219
          ],
          [
           "Middle East",
           "Central Asia",
           48226219
          ],
          [
           "Middle East",
           "Central Asia",
           48226219
          ],
          [
           "Middle East",
           "Central Asia",
           48226219
          ],
          [
           "Middle East",
           "Central Asia",
           48226219
          ],
          [
           "Middle East",
           "Central Asia",
           48226219
          ],
          [
           "Middle East",
           "Central Asia",
           48226219
          ],
          [
           "Middle East",
           "Central Asia",
           48226219
          ],
          [
           "Middle East",
           "Central Asia",
           48226219
          ],
          [
           "Middle East",
           "Central Asia",
           48226219
          ]
         ],
         "hoverinfo": "text",
         "hovertext": "Middle East → Central Asia<br>Amount: $48,226,219.00",
         "lat": [
          27,
          28.349859112765646,
          29.65499703756317,
          30.915413774392583,
          32.13110932325389,
          33.302083684147085,
          34.42833685707216,
          35.50986884202912,
          36.54667963901798,
          37.538769248038726,
          38.48613766909136,
          39.38878490217588,
          40.246710947292286,
          41.05991580444058,
          41.82839947362076,
          42.55216195483283,
          43.231203248076795,
          43.865523353352636,
          44.455122270660375,
          45
         ],
         "line": {
          "color": "rgba(70, 130, 180, 0.80)",
          "width": 15
         },
         "lon": [
          45,
          46.05263157894738,
          47.10526315789474,
          48.157894736842096,
          49.210526315789465,
          50.26315789473685,
          51.31578947368421,
          52.368421052631575,
          53.421052631578945,
          54.47368421052632,
          55.526315789473685,
          56.578947368421055,
          57.63157894736842,
          58.684210526315795,
          59.73684210526315,
          60.78947368421052,
          61.84210526315789,
          62.89473684210526,
          63.94736842105263,
          65
         ],
         "mode": "lines",
         "showlegend": false,
         "type": "scattermapbox"
        },
        {
         "customdata": [
          [
           "Middle East",
           "Southeast Asia",
           33486319.98
          ],
          [
           "Middle East",
           "Southeast Asia",
           33486319.98
          ],
          [
           "Middle East",
           "Southeast Asia",
           33486319.98
          ],
          [
           "Middle East",
           "Southeast Asia",
           33486319.98
          ],
          [
           "Middle East",
           "Southeast Asia",
           33486319.98
          ],
          [
           "Middle East",
           "Southeast Asia",
           33486319.98
          ],
          [
           "Middle East",
           "Southeast Asia",
           33486319.98
          ],
          [
           "Middle East",
           "Southeast Asia",
           33486319.98
          ],
          [
           "Middle East",
           "Southeast Asia",
           33486319.98
          ],
          [
           "Middle East",
           "Southeast Asia",
           33486319.98
          ],
          [
           "Middle East",
           "Southeast Asia",
           33486319.98
          ],
          [
           "Middle East",
           "Southeast Asia",
           33486319.98
          ],
          [
           "Middle East",
           "Southeast Asia",
           33486319.98
          ],
          [
           "Middle East",
           "Southeast Asia",
           33486319.98
          ],
          [
           "Middle East",
           "Southeast Asia",
           33486319.98
          ],
          [
           "Middle East",
           "Southeast Asia",
           33486319.98
          ],
          [
           "Middle East",
           "Southeast Asia",
           33486319.98
          ],
          [
           "Middle East",
           "Southeast Asia",
           33486319.98
          ],
          [
           "Middle East",
           "Southeast Asia",
           33486319.98
          ],
          [
           "Middle East",
           "Southeast Asia",
           33486319.98
          ]
         ],
         "hoverinfo": "text",
         "hovertext": "Middle East → Southeast Asia<br>Amount: $33,486,319.98",
         "lat": [
          27,
          27.038099655062737,
          26.972550810440136,
          26.803353466132204,
          26.530507622138945,
          26.15401327846035,
          25.673870435096415,
          25.090079092047148,
          24.402639249312557,
          23.611550906892628,
          22.716814064787364,
          21.718428722996766,
          20.616394881520836,
          19.410712540359576,
          18.101381699512977,
          16.688402358981048,
          15.171774518763787,
          13.551498178861193,
          11.827573339273261,
          10
         ],
         "line": {
          "color": "rgba(70, 130, 180, 0.65)",
          "width": 10.415388353376823
         },
         "lon": [
          45,
          48.15789473684211,
          51.315789473684205,
          54.47368421052631,
          57.63157894736842,
          60.789473684210535,
          63.94736842105263,
          67.10526315789474,
          70.26315789473684,
          73.42105263157895,
          76.57894736842105,
          79.73684210526315,
          82.89473684210526,
          86.05263157894737,
          89.21052631578947,
          92.36842105263158,
          95.52631578947367,
          98.68421052631578,
          101.84210526315789,
          105
         ],
         "mode": "lines",
         "showlegend": false,
         "type": "scattermapbox"
        },
        {
         "customdata": [
          [
           "North America",
           "Europe",
           4646043.73
          ],
          [
           "North America",
           "Europe",
           4646043.73
          ],
          [
           "North America",
           "Europe",
           4646043.73
          ],
          [
           "North America",
           "Europe",
           4646043.73
          ],
          [
           "North America",
           "Europe",
           4646043.73
          ],
          [
           "North America",
           "Europe",
           4646043.73
          ],
          [
           "North America",
           "Europe",
           4646043.73
          ],
          [
           "North America",
           "Europe",
           4646043.73
          ],
          [
           "North America",
           "Europe",
           4646043.73
          ],
          [
           "North America",
           "Europe",
           4646043.73
          ],
          [
           "North America",
           "Europe",
           4646043.73
          ],
          [
           "North America",
           "Europe",
           4646043.73
          ],
          [
           "North America",
           "Europe",
           4646043.73
          ],
          [
           "North America",
           "Europe",
           4646043.73
          ],
          [
           "North America",
           "Europe",
           4646043.73
          ],
          [
           "North America",
           "Europe",
           4646043.73
          ],
          [
           "North America",
           "Europe",
           4646043.73
          ],
          [
           "North America",
           "Europe",
           4646043.73
          ],
          [
           "North America",
           "Europe",
           4646043.73
          ],
          [
           "North America",
           "Europe",
           4646043.73
          ]
         ],
         "hoverinfo": "text",
         "hovertext": "North America → Europe<br>Amount: $4,646,043.73",
         "lat": [
          40,
          41.523545706371195,
          42.936288088642655,
          44.238227146814395,
          45.42936288088643,
          46.50969529085873,
          47.4792243767313,
          48.33795013850415,
          49.08587257617729,
          49.7229916897507,
          50.249307479224385,
          50.664819944598335,
          50.96952908587258,
          51.16343490304709,
          51.24653739612188,
          51.21883656509695,
          51.0803324099723,
          50.83102493074793,
          50.470914127423825,
          50
         ],
         "line": {
          "color": "rgba(70, 130, 180, 0.35)",
          "width": 1.4450781627728273
         },
         "lon": [
          -100,
          -94.21052631578948,
          -88.42105263157895,
          -82.63157894736841,
          -76.84210526315789,
          -71.05263157894738,
          -65.26315789473685,
          -59.47368421052631,
          -53.684210526315795,
          -47.894736842105274,
          -42.10526315789474,
          -36.315789473684205,
          -30.52631578947369,
          -24.736842105263168,
          -18.947368421052634,
          -13.157894736842103,
          -7.368421052631585,
          -1.5789473684210638,
          4.210526315789466,
          10
         ],
         "mode": "lines",
         "showlegend": false,
         "type": "scattermapbox"
        },
        {
         "customdata": [
          [
           "North America",
           "Middle East",
           10590745.35
          ],
          [
           "North America",
           "Middle East",
           10590745.35
          ],
          [
           "North America",
           "Middle East",
           10590745.35
          ],
          [
           "North America",
           "Middle East",
           10590745.35
          ],
          [
           "North America",
           "Middle East",
           10590745.35
          ],
          [
           "North America",
           "Middle East",
           10590745.35
          ],
          [
           "North America",
           "Middle East",
           10590745.35
          ],
          [
           "North America",
           "Middle East",
           10590745.35
          ],
          [
           "North America",
           "Middle East",
           10590745.35
          ],
          [
           "North America",
           "Middle East",
           10590745.35
          ],
          [
           "North America",
           "Middle East",
           10590745.35
          ],
          [
           "North America",
           "Middle East",
           10590745.35
          ],
          [
           "North America",
           "Middle East",
           10590745.35
          ],
          [
           "North America",
           "Middle East",
           10590745.35
          ],
          [
           "North America",
           "Middle East",
           10590745.35
          ],
          [
           "North America",
           "Middle East",
           10590745.35
          ],
          [
           "North America",
           "Middle East",
           10590745.35
          ],
          [
           "North America",
           "Middle East",
           10590745.35
          ],
          [
           "North America",
           "Middle East",
           10590745.35
          ],
          [
           "North America",
           "Middle East",
           10590745.35
          ]
         ],
         "hoverinfo": "text",
         "hovertext": "North America → Middle East<br>Amount: $10,590,745.35",
         "lat": [
          40,
          40.31301939058172,
          40.51523545706371,
          40.60664819944598,
          40.58725761772853,
          40.45706371191137,
          40.21606648199446,
          39.86426592797783,
          39.4016620498615,
          38.82825484764544,
          38.14404432132964,
          37.34903047091413,
          36.443213296398895,
          35.42659279778393,
          34.29916897506925,
          33.060941828254855,
          31.711911357340725,
          30.25207756232687,
          28.681440443213297,
          27
         ],
         "line": {
          "color": "rgba(70, 130, 180, 0.41)",
          "width": 3.2940832506483657
         },
         "lon": [
          -100,
          -92.36842105263159,
          -84.73684210526315,
          -77.10526315789473,
          -69.47368421052632,
          -61.84210526315791,
          -54.21052631578948,
          -46.57894736842105,
          -38.94736842105263,
          -31.315789473684227,
          -23.684210526315788,
          -16.052631578947366,
          -8.421052631578952,
          -0.7894736842105416,
          6.842105263157887,
          14.473684210526319,
          22.105263157894726,
          29.736842105263136,
          37.368421052631575,
          45
         ],
         "mode": "lines",
         "showlegend": false,
         "type": "scattermapbox"
        },
        {
         "customdata": [
          [
           "South Asia",
           "Middle East",
           5440545.04
          ],
          [
           "South Asia",
           "Middle East",
           5440545.04
          ],
          [
           "South Asia",
           "Middle East",
           5440545.04
          ],
          [
           "South Asia",
           "Middle East",
           5440545.04
          ],
          [
           "South Asia",
           "Middle East",
           5440545.04
          ],
          [
           "South Asia",
           "Middle East",
           5440545.04
          ],
          [
           "South Asia",
           "Middle East",
           5440545.04
          ],
          [
           "South Asia",
           "Middle East",
           5440545.04
          ],
          [
           "South Asia",
           "Middle East",
           5440545.04
          ],
          [
           "South Asia",
           "Middle East",
           5440545.04
          ],
          [
           "South Asia",
           "Middle East",
           5440545.04
          ],
          [
           "South Asia",
           "Middle East",
           5440545.04
          ],
          [
           "South Asia",
           "Middle East",
           5440545.04
          ],
          [
           "South Asia",
           "Middle East",
           5440545.04
          ],
          [
           "South Asia",
           "Middle East",
           5440545.04
          ],
          [
           "South Asia",
           "Middle East",
           5440545.04
          ],
          [
           "South Asia",
           "Middle East",
           5440545.04
          ],
          [
           "South Asia",
           "Middle East",
           5440545.04
          ],
          [
           "South Asia",
           "Middle East",
           5440545.04
          ],
          [
           "South Asia",
           "Middle East",
           5440545.04
          ]
         ],
         "hoverinfo": "text",
         "hovertext": "South Asia → Middle East<br>Amount: $5,440,545.04",
         "lat": [
          20,
          20.829228685451785,
          21.60725652281243,
          22.33408351208194,
          23.009709653260323,
          23.634134946347576,
          24.207359391343683,
          24.729382988248663,
          25.200205737062515,
          25.619827637785225,
          25.988248690416803,
          26.305468894957247,
          26.571488251406556,
          26.786306759764738,
          26.94992442003178,
          27.062341232207697,
          27.12355719629247,
          27.133572312286113,
          27.092386580188624,
          27
         ],
         "line": {
          "color": "rgba(70, 130, 180, 0.36)",
          "width": 1.692195185361722
         },
         "lon": [
          75,
          73.42105263157896,
          71.84210526315789,
          70.26315789473684,
          68.6842105263158,
          67.10526315789475,
          65.52631578947368,
          63.94736842105263,
          62.368421052631575,
          60.789473684210535,
          59.21052631578948,
          57.631578947368425,
          56.05263157894737,
          54.47368421052632,
          52.89473684210526,
          51.315789473684205,
          49.73684210526316,
          48.15789473684211,
          46.578947368421055,
          45
         ],
         "mode": "lines",
         "showlegend": false,
         "type": "scattermapbox"
        },
        {
         "customdata": [
          [
           874798.97,
           5552112.78,
           -4677313.8100000005,
           "Africa"
          ],
          [
           1127800.99,
           17499290.02,
           -16371489.03,
           "Asia Pacific"
          ],
          [
           654512.99,
           43489845.73,
           -42835332.739999995,
           "Caribbean"
          ],
          [
           48753914.99,
           13450115.83,
           35303799.160000004,
           "Central Asia"
          ],
          [
           6545044.47,
           6885869.07,
           -340824.60000000056,
           "Europe"
          ],
          [
           6277920.2700000005,
           10194766.540000001,
           -3916846.2700000005,
           "Latin America"
          ],
          [
           105059536.71,
           84499534.24,
           20560002.47,
           "Middle East"
          ],
          [
           645744.36,
           17838163.39,
           -17192419.03,
           "North America"
          ],
          [
           904343.14,
           5894135.18,
           -4989792.04,
           "South Asia"
          ],
          [
           35948692.910000004,
           1488477.02,
           34460215.89,
           "Southeast Asia"
          ]
         ],
         "hovertemplate": "<b>%{text}</b><br>Inflow: $%{customdata[0]:,.2f}<br>Outflow: $%{customdata[1]:,.2f}<br>Net Flow: $%{customdata[2]:,.2f}",
         "lat": {
          "bdata": "AAAAAAAAFEAAAAAAAAA+QAAAAAAAADRAAAAAAACARkAAAAAAAABJQAAAAAAAACTAAAAAAAAAO0AAAAAAAABEQAAAAAAAADRAAAAAAAAAJEA=",
          "dtype": "f8"
         },
         "lon": {
          "bdata": "AAAAAAAANEAAAAAAAABeQAAAAAAAwFLAAAAAAABAUEAAAAAAAAAkQAAAAAAAAE7AAAAAAACARkAAAAAAAABZwAAAAAAAwFJAAAAAAABAWkA=",
          "dtype": "f8"
         },
         "marker": {
          "cmid": 0,
          "color": {
           "bdata": "PgrXc7DXUcGPwvUg5DlvwR6F6yXsbITBFa5HuYvVgEFwZmZmYs0UwSpcjyIX4k3BuB6FJ4ibc0FI4XowXmVwwSlcjwLYCFPBUrgev5FugEE=",
           "dtype": "f8"
          },
          "colorbar": {
           "thickness": 15,
           "title": {
            "text": "Net Flow<br>(Inflow - Outflow)"
           }
          },
          "colorscale": [
           [
            0,
            "rgb(103,0,31)"
           ],
           [
            0.1,
            "rgb(178,24,43)"
           ],
           [
            0.2,
            "rgb(214,96,77)"
           ],
           [
            0.3,
            "rgb(244,165,130)"
           ],
           [
            0.4,
            "rgb(253,219,199)"
           ],
           [
            0.5,
            "rgb(247,247,247)"
           ],
           [
            0.6,
            "rgb(209,229,240)"
           ],
           [
            0.7,
            "rgb(146,197,222)"
           ],
           [
            0.8,
            "rgb(67,147,195)"
           ],
           [
            0.9,
            "rgb(33,102,172)"
           ],
           [
            1,
            "rgb(5,48,97)"
           ]
          ],
          "opacity": 0.8,
          "size": {
           "bdata": "7RCPX/qxJUBEQ27xy+koQA0CIXXapC9ADMZH4Co0MkBniAaT7IonQEyQNPtRWChAAAAAAACAQUDLor3QIOAoQIaf/G4RyyVApscgGPPfLUA=",
           "dtype": "f8"
          }
         },
         "mode": "markers",
         "name": "Regions",
         "text": [
          "Africa",
          "Asia Pacific",
          "Caribbean",
          "Central Asia",
          "Europe",
          "Latin America",
          "Middle East",
          "North America",
          "South Asia",
          "Southeast Asia"
         ],
         "type": "scattermapbox"
        }
       ],
       "layout": {
        "height": 700,
        "mapbox": {
         "center": {
          "lat": 20,
          "lon": 0
         },
         "style": "carto-positron",
         "zoom": 1.2
        },
        "margin": {
         "b": 0,
         "l": 0,
         "r": 0,
         "t": 50
        },
        "template": {
         "data": {
          "bar": [
           {
            "error_x": {
             "color": "#2a3f5f"
            },
            "error_y": {
             "color": "#2a3f5f"
            },
            "marker": {
             "line": {
              "color": "#E5ECF6",
              "width": 0.5
             },
             "pattern": {
              "fillmode": "overlay",
              "size": 10,
              "solidity": 0.2
             }
            },
            "type": "bar"
           }
          ],
          "barpolar": [
           {
            "marker": {
             "line": {
              "color": "#E5ECF6",
              "width": 0.5
             },
             "pattern": {
              "fillmode": "overlay",
              "size": 10,
              "solidity": 0.2
             }
            },
            "type": "barpolar"
           }
          ],
          "carpet": [
           {
            "aaxis": {
             "endlinecolor": "#2a3f5f",
             "gridcolor": "white",
             "linecolor": "white",
             "minorgridcolor": "white",
             "startlinecolor": "#2a3f5f"
            },
            "baxis": {
             "endlinecolor": "#2a3f5f",
             "gridcolor": "white",
             "linecolor": "white",
             "minorgridcolor": "white",
             "startlinecolor": "#2a3f5f"
            },
            "type": "carpet"
           }
          ],
          "choropleth": [
           {
            "colorbar": {
             "outlinewidth": 0,
             "ticks": ""
            },
            "type": "choropleth"
           }
          ],
          "contour": [
           {
            "colorbar": {
             "outlinewidth": 0,
             "ticks": ""
            },
            "colorscale": [
             [
              0,
              "#0d0887"
             ],
             [
              0.1111111111111111,
              "#46039f"
             ],
             [
              0.2222222222222222,
              "#7201a8"
             ],
             [
              0.3333333333333333,
              "#9c179e"
             ],
             [
              0.4444444444444444,
              "#bd3786"
             ],
             [
              0.5555555555555556,
              "#d8576b"
             ],
             [
              0.6666666666666666,
              "#ed7953"
             ],
             [
              0.7777777777777778,
              "#fb9f3a"
             ],
             [
              0.8888888888888888,
              "#fdca26"
             ],
             [
              1,
              "#f0f921"
             ]
            ],
            "type": "contour"
           }
          ],
          "contourcarpet": [
           {
            "colorbar": {
             "outlinewidth": 0,
             "ticks": ""
            },
            "type": "contourcarpet"
           }
          ],
          "heatmap": [
           {
            "colorbar": {
             "outlinewidth": 0,
             "ticks": ""
            },
            "colorscale": [
             [
              0,
              "#0d0887"
             ],
             [
              0.1111111111111111,
              "#46039f"
             ],
             [
              0.2222222222222222,
              "#7201a8"
             ],
             [
              0.3333333333333333,
              "#9c179e"
             ],
             [
              0.4444444444444444,
              "#bd3786"
             ],
             [
              0.5555555555555556,
              "#d8576b"
             ],
             [
              0.6666666666666666,
              "#ed7953"
             ],
             [
              0.7777777777777778,
              "#fb9f3a"
             ],
             [
              0.8888888888888888,
              "#fdca26"
             ],
             [
              1,
              "#f0f921"
             ]
            ],
            "type": "heatmap"
           }
          ],
          "histogram": [
           {
            "marker": {
             "pattern": {
              "fillmode": "overlay",
              "size": 10,
              "solidity": 0.2
             }
            },
            "type": "histogram"
           }
          ],
          "histogram2d": [
           {
            "colorbar": {
             "outlinewidth": 0,
             "ticks": ""
            },
            "colorscale": [
             [
              0,
              "#0d0887"
             ],
             [
              0.1111111111111111,
              "#46039f"
             ],
             [
              0.2222222222222222,
              "#7201a8"
             ],
             [
              0.3333333333333333,
              "#9c179e"
             ],
             [
              0.4444444444444444,
              "#bd3786"
             ],
             [
              0.5555555555555556,
              "#d8576b"
             ],
             [
              0.6666666666666666,
              "#ed7953"
             ],
             [
              0.7777777777777778,
              "#fb9f3a"
             ],
             [
              0.8888888888888888,
              "#fdca26"
             ],
             [
              1,
              "#f0f921"
             ]
            ],
            "type": "histogram2d"
           }
          ],
          "histogram2dcontour": [
           {
            "colorbar": {
             "outlinewidth": 0,
             "ticks": ""
            },
            "colorscale": [
             [
              0,
              "#0d0887"
             ],
             [
              0.1111111111111111,
              "#46039f"
             ],
             [
              0.2222222222222222,
              "#7201a8"
             ],
             [
              0.3333333333333333,
              "#9c179e"
             ],
             [
              0.4444444444444444,
              "#bd3786"
             ],
             [
              0.5555555555555556,
              "#d8576b"
             ],
             [
              0.6666666666666666,
              "#ed7953"
             ],
             [
              0.7777777777777778,
              "#fb9f3a"
             ],
             [
              0.8888888888888888,
              "#fdca26"
             ],
             [
              1,
              "#f0f921"
             ]
            ],
            "type": "histogram2dcontour"
           }
          ],
          "mesh3d": [
           {
            "colorbar": {
             "outlinewidth": 0,
             "ticks": ""
            },
            "type": "mesh3d"
           }
          ],
          "parcoords": [
           {
            "line": {
             "colorbar": {
              "outlinewidth": 0,
              "ticks": ""
             }
            },
            "type": "parcoords"
           }
          ],
          "pie": [
           {
            "automargin": true,
            "type": "pie"
           }
          ],
          "scatter": [
           {
            "fillpattern": {
             "fillmode": "overlay",
             "size": 10,
             "solidity": 0.2
            },
            "type": "scatter"
           }
          ],
          "scatter3d": [
           {
            "line": {
             "colorbar": {
              "outlinewidth": 0,
              "ticks": ""
             }
            },
            "marker": {
             "colorbar": {
              "outlinewidth": 0,
              "ticks": ""
             }
            },
            "type": "scatter3d"
           }
          ],
          "scattercarpet": [
           {
            "marker": {
             "colorbar": {
              "outlinewidth": 0,
              "ticks": ""
             }
            },
            "type": "scattercarpet"
           }
          ],
          "scattergeo": [
           {
            "marker": {
             "colorbar": {
              "outlinewidth": 0,
              "ticks": ""
             }
            },
            "type": "scattergeo"
           }
          ],
          "scattergl": [
           {
            "marker": {
             "colorbar": {
              "outlinewidth": 0,
              "ticks": ""
             }
            },
            "type": "scattergl"
           }
          ],
          "scattermap": [
           {
            "marker": {
             "colorbar": {
              "outlinewidth": 0,
              "ticks": ""
             }
            },
            "type": "scattermap"
           }
          ],
          "scattermapbox": [
           {
            "marker": {
             "colorbar": {
              "outlinewidth": 0,
              "ticks": ""
             }
            },
            "type": "scattermapbox"
           }
          ],
          "scatterpolar": [
           {
            "marker": {
             "colorbar": {
              "outlinewidth": 0,
              "ticks": ""
             }
            },
            "type": "scatterpolar"
           }
          ],
          "scatterpolargl": [
           {
            "marker": {
             "colorbar": {
              "outlinewidth": 0,
              "ticks": ""
             }
            },
            "type": "scatterpolargl"
           }
          ],
          "scatterternary": [
           {
            "marker": {
             "colorbar": {
              "outlinewidth": 0,
              "ticks": ""
             }
            },
            "type": "scatterternary"
           }
          ],
          "surface": [
           {
            "colorbar": {
             "outlinewidth": 0,
             "ticks": ""
            },
            "colorscale": [
             [
              0,
              "#0d0887"
             ],
             [
              0.1111111111111111,
              "#46039f"
             ],
             [
              0.2222222222222222,
              "#7201a8"
             ],
             [
              0.3333333333333333,
              "#9c179e"
             ],
             [
              0.4444444444444444,
              "#bd3786"
             ],
             [
              0.5555555555555556,
              "#d8576b"
             ],
             [
              0.6666666666666666,
              "#ed7953"
             ],
             [
              0.7777777777777778,
              "#fb9f3a"
             ],
             [
              0.8888888888888888,
              "#fdca26"
             ],
             [
              1,
              "#f0f921"
             ]
            ],
            "type": "surface"
           }
          ],
          "table": [
           {
            "cells": {
             "fill": {
              "color": "#EBF0F8"
             },
             "line": {
              "color": "white"
             }
            },
            "header": {
             "fill": {
              "color": "#C8D4E3"
             },
             "line": {
              "color": "white"
             }
            },
            "type": "table"
           }
          ]
         },
         "layout": {
          "annotationdefaults": {
           "arrowcolor": "#2a3f5f",
           "arrowhead": 0,
           "arrowwidth": 1
          },
          "autotypenumbers": "strict",
          "coloraxis": {
           "colorbar": {
            "outlinewidth": 0,
            "ticks": ""
           }
          },
          "colorscale": {
           "diverging": [
            [
             0,
             "#8e0152"
            ],
            [
             0.1,
             "#c51b7d"
            ],
            [
             0.2,
             "#de77ae"
            ],
            [
             0.3,
             "#f1b6da"
            ],
            [
             0.4,
             "#fde0ef"
            ],
            [
             0.5,
             "#f7f7f7"
            ],
            [
             0.6,
             "#e6f5d0"
            ],
            [
             0.7,
             "#b8e186"
            ],
            [
             0.8,
             "#7fbc41"
            ],
            [
             0.9,
             "#4d9221"
            ],
            [
             1,
             "#276419"
            ]
           ],
           "sequential": [
            [
             0,
             "#0d0887"
            ],
            [
             0.1111111111111111,
             "#46039f"
            ],
            [
             0.2222222222222222,
             "#7201a8"
            ],
            [
             0.3333333333333333,
             "#9c179e"
            ],
            [
             0.4444444444444444,
             "#bd3786"
            ],
            [
             0.5555555555555556,
             "#d8576b"
            ],
            [
             0.6666666666666666,
             "#ed7953"
            ],
            [
             0.7777777777777778,
             "#fb9f3a"
            ],
            [
             0.8888888888888888,
             "#fdca26"
            ],
            [
             1,
             "#f0f921"
            ]
           ],
           "sequentialminus": [
            [
             0,
             "#0d0887"
            ],
            [
             0.1111111111111111,
             "#46039f"
            ],
            [
             0.2222222222222222,
             "#7201a8"
            ],
            [
             0.3333333333333333,
             "#9c179e"
            ],
            [
             0.4444444444444444,
             "#bd3786"
            ],
            [
             0.5555555555555556,
             "#d8576b"
            ],
            [
             0.6666666666666666,
             "#ed7953"
            ],
            [
             0.7777777777777778,
             "#fb9f3a"
            ],
            [
             0.8888888888888888,
             "#fdca26"
            ],
            [
             1,
             "#f0f921"
            ]
           ]
          },
          "colorway": [
           "#636efa",
           "#EF553B",
           "#00cc96",
           "#ab63fa",
           "#FFA15A",
           "#19d3f3",
           "#FF6692",
           "#B6E880",
           "#FF97FF",
           "#FECB52"
          ],
          "font": {
           "color": "#2a3f5f"
          },
          "geo": {
           "bgcolor": "white",
           "lakecolor": "white",
           "landcolor": "#E5ECF6",
           "showlakes": true,
           "showland": true,
           "subunitcolor": "white"
          },
          "hoverlabel": {
           "align": "left"
          },
          "hovermode": "closest",
          "mapbox": {
           "style": "light"
          },
          "paper_bgcolor": "white",
          "plot_bgcolor": "#E5ECF6",
          "polar": {
           "angularaxis": {
            "gridcolor": "white",
            "linecolor": "white",
            "ticks": ""
           },
           "bgcolor": "#E5ECF6",
           "radialaxis": {
            "gridcolor": "white",
            "linecolor": "white",
            "ticks": ""
           }
          },
          "scene": {
           "xaxis": {
            "backgroundcolor": "#E5ECF6",
            "gridcolor": "white",
            "gridwidth": 2,
            "linecolor": "white",
            "showbackground": true,
            "ticks": "",
            "zerolinecolor": "white"
           },
           "yaxis": {
            "backgroundcolor": "#E5ECF6",
            "gridcolor": "white",
            "gridwidth": 2,
            "linecolor": "white",
            "showbackground": true,
            "ticks": "",
            "zerolinecolor": "white"
           },
           "zaxis": {
            "backgroundcolor": "#E5ECF6",
            "gridcolor": "white",
            "gridwidth": 2,
            "linecolor": "white",
            "showbackground": true,
            "ticks": "",
            "zerolinecolor": "white"
           }
          },
          "shapedefaults": {
           "line": {
            "color": "#2a3f5f"
           }
          },
          "ternary": {
           "aaxis": {
            "gridcolor": "white",
            "linecolor": "white",
            "ticks": ""
           },
           "baxis": {
            "gridcolor": "white",
            "linecolor": "white",
            "ticks": ""
           },
           "bgcolor": "#E5ECF6",
           "caxis": {
            "gridcolor": "white",
            "linecolor": "white",
            "ticks": ""
           }
          },
          "title": {
           "x": 0.05
          },
          "xaxis": {
           "automargin": true,
           "gridcolor": "white",
           "linecolor": "white",
           "ticks": "",
           "title": {
            "standoff": 15
           },
           "zerolinecolor": "white",
           "zerolinewidth": 2
          },
          "yaxis": {
           "automargin": true,
           "gridcolor": "white",
           "linecolor": "white",
           "ticks": "",
           "title": {
            "standoff": 15
           },
           "zerolinecolor": "white",
           "zerolinewidth": 2
          }
         }
        },
        "title": {
         "text": "Global Banking Transaction Flows Between Regions"
        },
        "width": 1200
       }
      }
     },
     "metadata": {},
     "output_type": "display_data"
    }
   ],
   "source": [
    "def create_sankey_for_regions(df, send_region=None, receive_region=None, year=None):\n",
    "    \"\"\"\n",
    "    Create a Sankey diagram for transactions between specified regions,\n",
    "    showing a flow from sender → receiver → currency → mx/mt → mt → direction → \n",
    "    transaction_status → payment_method → amount\n",
    "    \n",
    "    Parameters:\n",
    "    -----------\n",
    "    df : pandas DataFrame\n",
    "        The DataFrame containing transaction data\n",
    "    send_region : str, optional\n",
    "        Region to filter senders by\n",
    "    receive_region : str, optional\n",
    "        Region to filter receivers by\n",
    "    year : int, optional\n",
    "        Year to filter transactions by\n",
    "    \n",
    "    Returns:\n",
    "    --------\n",
    "    plotly.graph_objects.Figure\n",
    "        A Sankey diagram figure\n",
    "    \"\"\"\n",
    "    import pandas as pd\n",
    "    import numpy as np\n",
    "    import plotly.graph_objects as go\n",
    "    \n",
    "    # Create a copy to avoid modifying the original\n",
    "    filtered_df = df.copy()\n",
    "    \n",
    "    # Filter data if regions are specified\n",
    "    title_parts = []\n",
    "    \n",
    "    if send_region:\n",
    "        filtered_df = filtered_df[filtered_df['send region'] == send_region]\n",
    "        title_parts.append(f\"from {send_region}\")\n",
    "    \n",
    "    if receive_region:\n",
    "        filtered_df = filtered_df[filtered_df['receiver region'] == receive_region]\n",
    "        title_parts.append(f\"to {receive_region}\")\n",
    "    \n",
    "    # Filter by year if specified\n",
    "    if year and 'year' in filtered_df.columns:\n",
    "        filtered_df = filtered_df[filtered_df['year'] == year]\n",
    "        title_parts.append(f\"in {year}\")\n",
    "    \n",
    "    if title_parts:\n",
    "        title = f\"Transactions {' '.join(title_parts)}\"\n",
    "    else:\n",
    "        title = \"All Regional Transactions\"\n",
    "    \n",
    "    # Ensure amount categories exist (create if missing)\n",
    "    if 'amount_category' not in filtered_df.columns:\n",
    "        filtered_df['amount_category'] = pd.cut(\n",
    "            filtered_df['amount'], \n",
    "            bins=[0, 1e6, 5e6, 1e7, float('inf')], \n",
    "            labels=['< 1M', '1M-5M', '5M-10M', '> 10M']\n",
    "        )\n",
    "    \n",
    "    # Check if we have data after all the filters\n",
    "    if filtered_df.empty:\n",
    "        fig = go.Figure()\n",
    "        fig.update_layout(\n",
    "            title_text=f\"No data available for {title}\",\n",
    "            annotations=[dict(\n",
    "                text=\"No transactions found for the selected criteria\",\n",
    "                xref=\"paper\", yref=\"paper\",\n",
    "                x=0.5, y=0.5, showarrow=False,\n",
    "                font=dict(size=20)\n",
    "            )]\n",
    "        )\n",
    "        return fig\n",
    "    \n",
    "    # Make sure all columns are properly formatted as strings\n",
    "    str_columns = ['sender', 'receiver', 'currency', 'mx/mt', 'Mt', 'direction', \n",
    "                'transaction_status', 'payment_method', 'amount_category']\n",
    "    for col in str_columns:\n",
    "        if col in filtered_df.columns and filtered_df[col].dtype != 'str':\n",
    "            filtered_df[col] = filtered_df[col].astype(str)\n",
    "    \n",
    "    # Create the flows according to the specified path\n",
    "    # sender → receiver\n",
    "    flow1 = filtered_df.groupby(['sender', 'receiver']).size().reset_index(name='count')\n",
    "    \n",
    "    # receiver → currency\n",
    "    flow2 = filtered_df.groupby(['receiver', 'currency']).size().reset_index(name='count')\n",
    "    \n",
    "    # currency → mx/mt\n",
    "    flow3 = filtered_df.groupby(['currency', 'mx/mt']).size().reset_index(name='count')\n",
    "    \n",
    "    # mx/mt → mt\n",
    "    flow4 = filtered_df.groupby(['mx/mt', 'Mt']).size().reset_index(name='count')\n",
    "    \n",
    "    # mt → direction\n",
    "    flow5 = filtered_df.groupby(['Mt', 'direction']).size().reset_index(name='count')\n",
    "    \n",
    "    # direction → transaction_status (new flow)\n",
    "    flow6 = filtered_df.groupby(['direction', 'transaction_status']).size().reset_index(name='count')\n",
    "    \n",
    "    # transaction_status → payment_method (new flow)\n",
    "    flow7 = filtered_df.groupby(['transaction_status', 'payment_method']).size().reset_index(name='count')\n",
    "    \n",
    "    # payment_method → amount (new flow)\n",
    "    flow8 = filtered_df.groupby(['payment_method', 'amount_category']).size().reset_index(name='count')\n",
    "    \n",
    "    # Get all unique labels\n",
    "    labels = pd.unique(\n",
    "        flow1['sender'].tolist() +\n",
    "        flow1['receiver'].tolist() +\n",
    "        flow2['currency'].tolist() +\n",
    "        flow3['mx/mt'].tolist() +\n",
    "        flow4['Mt'].tolist() +\n",
    "        flow5['direction'].tolist() +\n",
    "        flow6['transaction_status'].tolist() +\n",
    "        flow7['payment_method'].tolist() +\n",
    "        flow8['amount_category'].astype(str).tolist()\n",
    "    )\n",
    "    \n",
    "    # Map labels to indices\n",
    "    label_to_index = {label: i for i, label in enumerate(labels)}\n",
    "    \n",
    "    # Prepare sources, targets, and values for links\n",
    "    source, target, value = [], [], []\n",
    "    link_labels = []\n",
    "    \n",
    "    # sender → receiver\n",
    "    for _, row in flow1.iterrows():\n",
    "        source.append(label_to_index[row['sender']])\n",
    "        target.append(label_to_index[row['receiver']])\n",
    "        value.append(row['count'])\n",
    "        link_labels.append(f\"{row['sender']} → {row['receiver']}<br>Count: {row['count']}\")\n",
    "    \n",
    "    # receiver → currency\n",
    "    for _, row in flow2.iterrows():\n",
    "        source.append(label_to_index[row['receiver']])\n",
    "        target.append(label_to_index[row['currency']])\n",
    "        value.append(row['count'])\n",
    "        link_labels.append(f\"{row['receiver']} → {row['currency']}<br>Count: {row['count']}\")\n",
    "    \n",
    "    # currency → mx/mt\n",
    "    for _, row in flow3.iterrows():\n",
    "        source.append(label_to_index[row['currency']])\n",
    "        target.append(label_to_index[row['mx/mt']])\n",
    "        value.append(row['count'])\n",
    "        link_labels.append(f\"{row['currency']} → {row['mx/mt']}<br>Count: {row['count']}\")\n",
    "    \n",
    "    # mx/mt → mt\n",
    "    for _, row in flow4.iterrows():\n",
    "        source.append(label_to_index[row['mx/mt']])\n",
    "        target.append(label_to_index[row['Mt']])\n",
    "        value.append(row['count'])\n",
    "        link_labels.append(f\"{row['mx/mt']} → {row['Mt']}<br>Count: {row['count']}\")\n",
    "    \n",
    "    # mt → direction\n",
    "    for _, row in flow5.iterrows():\n",
    "        source.append(label_to_index[row['Mt']])\n",
    "        target.append(label_to_index[row['direction']])\n",
    "        value.append(row['count'])\n",
    "        link_labels.append(f\"{row['Mt']} → {row['direction']}<br>Count: {row['count']}\")\n",
    "    \n",
    "    # direction → transaction_status (new flow)\n",
    "    for _, row in flow6.iterrows():\n",
    "        source.append(label_to_index[row['direction']])\n",
    "        target.append(label_to_index[row['transaction_status']])\n",
    "        value.append(row['count'])\n",
    "        link_labels.append(f\"{row['direction']} → {row['transaction_status']}<br>Count: {row['count']}\")\n",
    "    \n",
    "    # transaction_status → payment_method (new flow)\n",
    "    for _, row in flow7.iterrows():\n",
    "        source.append(label_to_index[row['transaction_status']])\n",
    "        target.append(label_to_index[row['payment_method']])\n",
    "        value.append(row['count'])\n",
    "        link_labels.append(f\"{row['transaction_status']} → {row['payment_method']}<br>Count: {row['count']}\")\n",
    "    \n",
    "    # payment_method → amount_category (new flow)\n",
    "    for _, row in flow8.iterrows():\n",
    "        source.append(label_to_index[row['payment_method']])\n",
    "        target.append(label_to_index[str(row['amount_category'])])\n",
    "        value.append(row['count'])\n",
    "        link_labels.append(f\"{row['payment_method']} → {row['amount_category']}<br>Count: {row['count']}\")\n",
    "    \n",
    "    # Set up colors for nodes and links\n",
    "    num_nodes = len(labels)\n",
    "    node_colors = [\"rgba(31, 119, 180, 0.8)\"] * num_nodes  # Default blue color\n",
    "    \n",
    "    # Create color groups for different node types\n",
    "    sender_idx = [label_to_index[label] for label in flow1['sender'].unique()]\n",
    "    receiver_idx = [label_to_index[label] for label in flow1['receiver'].unique()]\n",
    "    currency_idx = [label_to_index[label] for label in flow2['currency'].unique()]\n",
    "    mxmt_idx = [label_to_index[label] for label in flow3['mx/mt'].unique()]\n",
    "    mt_idx = [label_to_index[label] for label in flow4['Mt'].unique()]\n",
    "    direction_idx = [label_to_index[label] for label in flow5['direction'].unique()]\n",
    "    status_idx = [label_to_index[label] for label in flow6['transaction_status'].unique()]\n",
    "    payment_idx = [label_to_index[label] for label in flow7['payment_method'].unique()]\n",
    "    amount_idx = [label_to_index[str(label)] for label in flow8['amount_category'].unique()]\n",
    "    \n",
    "    # Assign different colors to each node type\n",
    "    for idx in sender_idx:\n",
    "        node_colors[idx] = \"rgba(214, 39, 40, 0.8)\"  # Red for senders\n",
    "    for idx in receiver_idx:\n",
    "        node_colors[idx] = \"rgba(44, 160, 44, 0.8)\"  # Green for receivers\n",
    "    for idx in currency_idx:\n",
    "        node_colors[idx] = \"rgba(255, 127, 14, 0.8)\"  # Orange for currency\n",
    "    for idx in mxmt_idx:\n",
    "        node_colors[idx] = \"rgba(148, 103, 189, 0.8)\"  # Purple for mx/mt\n",
    "    for idx in mt_idx:\n",
    "        node_colors[idx] = \"rgba(140, 86, 75, 0.8)\"   # Brown for Mt\n",
    "    for idx in direction_idx:\n",
    "        node_colors[idx] = \"rgba(23, 190, 207, 0.8)\"  # Cyan for directions\n",
    "    for idx in status_idx:\n",
    "        node_colors[idx] = \"rgba(188, 189, 34, 0.8)\"  # Yellow-green for transaction status\n",
    "    for idx in payment_idx:\n",
    "        node_colors[idx] = \"rgba(127, 127, 127, 0.8)\"  # Gray for payment method\n",
    "    for idx in amount_idx:\n",
    "        node_colors[idx] = \"rgba(31, 119, 180, 0.8)\"  # Blue for amount categories\n",
    "    \n",
    "    # Create colors for links based on their source\n",
    "    link_colors = []\n",
    "    for s in source:\n",
    "        # Use a slightly transparent version of the source node color\n",
    "        base_color = node_colors[s].replace(\"0.8\", \"0.6\")\n",
    "        link_colors.append(base_color)\n",
    "    \n",
    "    # Create the Sankey diagram\n",
    "    fig = go.Figure(data=[go.Sankey(\n",
    "        arrangement=\"snap\",\n",
    "        node=dict(\n",
    "            pad=20,\n",
    "            thickness=20,\n",
    "            line=dict(color=\"black\", width=0.5),\n",
    "            label=list(labels),\n",
    "            color=node_colors\n",
    "        ),\n",
    "        link=dict(\n",
    "            source=source,\n",
    "            target=target,\n",
    "            value=value,\n",
    "            color=link_colors,\n",
    "            customdata=np.array(link_labels),\n",
    "            hovertemplate='%{customdata}<extra></extra>'\n",
    "        )\n",
    "    )])\n",
    "    \n",
    "    # Add annotations to describe each column\n",
    "    fig.update_layout(\n",
    "        title_text=title,\n",
    "        font_size=12,\n",
    "        height=800,  # Increased height to accommodate more nodes\n",
    "        width=1200,  # Increased width to accommodate more columns\n",
    "        annotations=[\n",
    "            dict(x=0.02, y=1, xref='paper', yref='paper', text='Sender', showarrow=False, font=dict(size=14, color='black')),\n",
    "            dict(x=0.14, y=1, xref='paper', yref='paper', text='Receiver', showarrow=False, font=dict(size=14, color='black')),\n",
    "            dict(x=0.25, y=1, xref='paper', yref='paper', text='Currency', showarrow=False, font=dict(size=14, color='black')),\n",
    "            dict(x=0.37, y=1, xref='paper', yref='paper', text='MX/MT', showarrow=False, font=dict(size=14, color='black')),\n",
    "            dict(x=0.48, y=1, xref='paper', yref='paper', text='MT', showarrow=False, font=dict(size=14, color='black')),\n",
    "            dict(x=0.60, y=1, xref='paper', yref='paper', text='Direction', showarrow=False, font=dict(size=14, color='black')),\n",
    "            dict(x=0.71, y=1, xref='paper', yref='paper', text='Status', showarrow=False, font=dict(size=14, color='black')),\n",
    "            dict(x=0.83, y=1, xref='paper', yref='paper', text='Payment', showarrow=False, font=dict(size=14, color='black')),\n",
    "            dict(x=0.94, y=1, xref='paper', yref='paper', text='Amount', showarrow=False, font=dict(size=14, color='black')),\n",
    "        ]\n",
    "    )\n",
    "    \n",
    "    return fig\n",
    "\n",
    "def visualize_banking_flows(df):\n",
    "    # Ensure the expected columns exist\n",
    "    required_columns = ['send region', 'receiver region', 'amount', 'transaction_status', 'payment_method']\n",
    "    missing_columns = [col for col in required_columns if col not in df.columns]\n",
    "    \n",
    "    if missing_columns:\n",
    "        raise ValueError(f\"Missing required columns in dataframe: {missing_columns}\")\n",
    "    \n",
    "    # Check if year column exists, if not, provide a default\n",
    "    if 'year' not in df.columns:\n",
    "        print(\"Warning: 'year' column not found in data. Creating a dummy year column with value 2023.\")\n",
    "        df['year'] = 2023\n",
    "    \n",
    "    # Ensure all regions are in the coordinates dictionary\n",
    "    unknown_send_regions = set(df['send region'].unique()) - set(region_coordinates.keys())\n",
    "    unknown_recv_regions = set(df['receiver region'].unique()) - set(region_coordinates.keys())\n",
    "    \n",
    "    if unknown_send_regions:\n",
    "        print(f\"Warning: Unknown send regions: {unknown_send_regions}\")\n",
    "    if unknown_recv_regions:\n",
    "        print(f\"Warning: Unknown receiver regions: {unknown_recv_regions}\")\n",
    "    \n",
    "    # Create the flow map\n",
    "    flow_map = create_flow_map(df)\n",
    "    \n",
    "    # Get unique regions for dropdowns\n",
    "    all_regions = sorted(list(set(df['send region'].unique()).union(set(df['receiver region'].unique()))))\n",
    "    \n",
    "    # Get unique years for the year dropdown\n",
    "    years = sorted(df['year'].unique())\n",
    "    \n",
    "    # Create dropdown widgets\n",
    "    send_dropdown = widgets.Dropdown(\n",
    "        options=['All'] + all_regions,\n",
    "        value='All',\n",
    "        description='Sender Region:',\n",
    "        layout=Layout(width='300px')\n",
    "    )\n",
    "    \n",
    "    receive_dropdown = widgets.Dropdown(\n",
    "        options=['All'] + all_regions,\n",
    "        value='All',\n",
    "        description='Receiver Region:',\n",
    "        layout=Layout(width='300px')\n",
    "    )\n",
    "    \n",
    "    # Create year dropdown\n",
    "    year_dropdown = widgets.Dropdown(\n",
    "        options=['All'] + list(years),\n",
    "        value='All',\n",
    "        description='Year:',\n",
    "        layout=Layout(width='300px')\n",
    "    )\n",
    "    \n",
    "    # Create output area for the Sankey diagram\n",
    "    sankey_output = widgets.Output()\n",
    "    \n",
    "    def update_sankey(sender_region, receiver_region, year):\n",
    "        with sankey_output:\n",
    "            sankey_output.clear_output(wait=True)\n",
    "            send_region = None if sender_region == 'All' else sender_region\n",
    "            receive_region = None if receiver_region == 'All' else receiver_region\n",
    "            selected_year = None if year == 'All' else year\n",
    "            sankey_fig = create_sankey_for_regions(df, send_region, receive_region, selected_year)\n",
    "            sankey_fig.show()\n",
    "    \n",
    "    # Create interactive widget with all three dropdowns\n",
    "    interactive_widget = interactive(\n",
    "        update_sankey,\n",
    "        sender_region=send_dropdown,\n",
    "        receiver_region=receive_dropdown,\n",
    "        year=year_dropdown\n",
    "    )\n",
    "    \n",
    "    # Display everything\n",
    "    display(flow_map)\n",
    "    display(interactive_widget)\n",
    "    display(sankey_output)\n",
    "    \n",
    "    # Initial display\n",
    "    update_sankey('All', 'All', 'All')\n",
    "    \n",
    "    return flow_map\n",
    "visualize_banking_flows(df) "
   ]
  },
  {
   "cell_type": "code",
   "execution_count": 62,
   "id": "9e7a5132",
   "metadata": {},
   "outputs": [],
   "source": [
    "def create_sankey_for_regions(df, send_region=None, receive_region=None, year=None):\n",
    "    \"\"\"\n",
    "    Create an enhanced Sankey diagram for transactions between specified regions,\n",
    "    with hover animations and flow animations for the links.\n",
    "    \n",
    "    Parameters:\n",
    "    -----------\n",
    "    df : pandas DataFrame\n",
    "        The DataFrame containing transaction data\n",
    "    send_region : str, optional\n",
    "        Region to filter senders by\n",
    "    receive_region : str, optional\n",
    "        Region to filter receivers by\n",
    "    year : int, optional\n",
    "        Year to filter transactions by\n",
    "    \n",
    "    Returns:\n",
    "    --------\n",
    "    plotly.graph_objects.Figure\n",
    "        A Sankey diagram figure with enhanced animations\n",
    "    \"\"\"\n",
    "    import pandas as pd\n",
    "    import numpy as np\n",
    "    import plotly.graph_objects as go\n",
    "    \n",
    "    # Create a copy to avoid modifying the original\n",
    "    filtered_df = df.copy()\n",
    "    \n",
    "    # Filter data if regions are specified\n",
    "    title_parts = []\n",
    "    \n",
    "    if send_region:\n",
    "        filtered_df = filtered_df[filtered_df['send region'] == send_region]\n",
    "        title_parts.append(f\"from {send_region}\")\n",
    "    \n",
    "    if receive_region:\n",
    "        filtered_df = filtered_df[filtered_df['receiver region'] == receive_region]\n",
    "        title_parts.append(f\"to {receive_region}\")\n",
    "    \n",
    "    # Filter by year if specified\n",
    "    if year and 'year' in filtered_df.columns:\n",
    "        filtered_df = filtered_df[filtered_df['year'] == year]\n",
    "        title_parts.append(f\"in {year}\")\n",
    "    \n",
    "    if title_parts:\n",
    "        title = f\"Transactions {' '.join(title_parts)}\"\n",
    "    else:\n",
    "        title = \"All Regional Transactions\"\n",
    "    \n",
    "    # Ensure amount categories exist (create if missing)\n",
    "    if 'amount_category' not in filtered_df.columns:\n",
    "        filtered_df['amount_category'] = pd.cut(\n",
    "            filtered_df['amount'], \n",
    "            bins=[0, 1e6, 5e6, 1e7, float('inf')], \n",
    "            labels=['< 1M', '1M-5M', '5M-10M', '> 10M']\n",
    "        )\n",
    "    \n",
    "    # Check if we have data after all the filters\n",
    "    if filtered_df.empty:\n",
    "        fig = go.Figure()\n",
    "        fig.update_layout(\n",
    "            title_text=f\"No data available for {title}\",\n",
    "            annotations=[dict(\n",
    "                text=\"No transactions found for the selected criteria\",\n",
    "                xref=\"paper\", yref=\"paper\",\n",
    "                x=0.5, y=0.5, showarrow=False,\n",
    "                font=dict(size=20)\n",
    "            )]\n",
    "        )\n",
    "        return fig\n",
    "    \n",
    "    # Make sure all columns are properly formatted as strings\n",
    "    str_columns = ['sender', 'receiver', 'currency', 'mx/mt', 'Mt', 'direction', \n",
    "                  'transaction_status', 'payment_method', 'amount_category']\n",
    "    for col in str_columns:\n",
    "        if col in filtered_df.columns and filtered_df[col].dtype != 'str':\n",
    "            filtered_df[col] = filtered_df[col].astype(str)\n",
    "    \n",
    "    # Create the flows according to the specified path\n",
    "    # sender → receiver\n",
    "    flow1 = filtered_df.groupby(['sender', 'receiver']).size().reset_index(name='count')\n",
    "    \n",
    "    # receiver → currency\n",
    "    flow2 = filtered_df.groupby(['receiver', 'currency']).size().reset_index(name='count')\n",
    "    \n",
    "    # currency → mx/mt\n",
    "    flow3 = filtered_df.groupby(['currency', 'mx/mt']).size().reset_index(name='count')\n",
    "    \n",
    "    # mx/mt → mt\n",
    "    flow4 = filtered_df.groupby(['mx/mt', 'Mt']).size().reset_index(name='count')\n",
    "    \n",
    "    # mt → direction\n",
    "    flow5 = filtered_df.groupby(['Mt', 'direction']).size().reset_index(name='count')\n",
    "    \n",
    "    # direction → transaction_status (new flow)\n",
    "    flow6 = filtered_df.groupby(['direction', 'transaction_status']).size().reset_index(name='count')\n",
    "    \n",
    "    # transaction_status → payment_method (new flow)\n",
    "    flow7 = filtered_df.groupby(['transaction_status', 'payment_method']).size().reset_index(name='count')\n",
    "    \n",
    "    # payment_method → amount (new flow)\n",
    "    flow8 = filtered_df.groupby(['payment_method', 'amount_category']).size().reset_index(name='count')\n",
    "    \n",
    "    # Get all unique labels\n",
    "    labels = pd.unique(\n",
    "        flow1['sender'].tolist() +\n",
    "        flow1['receiver'].tolist() +\n",
    "        flow2['currency'].tolist() +\n",
    "        flow3['mx/mt'].tolist() +\n",
    "        flow4['Mt'].tolist() +\n",
    "        flow5['direction'].tolist() +\n",
    "        flow6['transaction_status'].tolist() +\n",
    "        flow7['payment_method'].tolist() +\n",
    "        flow8['amount_category'].astype(str).tolist()\n",
    "    )\n",
    "    \n",
    "    # Map labels to indices\n",
    "    label_to_index = {label: i for i, label in enumerate(labels)}\n",
    "    \n",
    "    # Prepare sources, targets, and values for links\n",
    "    source, target, value = [], [], []\n",
    "    link_labels = []\n",
    "    \n",
    "    # sender → receiver\n",
    "    for _, row in flow1.iterrows():\n",
    "        source.append(label_to_index[row['sender']])\n",
    "        target.append(label_to_index[row['receiver']])\n",
    "        value.append(row['count'])\n",
    "        link_labels.append(f\"{row['sender']} → {row['receiver']}<br>Count: {row['count']}\")\n",
    "    \n",
    "    # receiver → currency\n",
    "    for _, row in flow2.iterrows():\n",
    "        source.append(label_to_index[row['receiver']])\n",
    "        target.append(label_to_index[row['currency']])\n",
    "        value.append(row['count'])\n",
    "        link_labels.append(f\"{row['receiver']} → {row['currency']}<br>Count: {row['count']}\")\n",
    "    \n",
    "    # currency → mx/mt\n",
    "    for _, row in flow3.iterrows():\n",
    "        source.append(label_to_index[row['currency']])\n",
    "        target.append(label_to_index[row['mx/mt']])\n",
    "        value.append(row['count'])\n",
    "        link_labels.append(f\"{row['currency']} → {row['mx/mt']}<br>Count: {row['count']}\")\n",
    "    \n",
    "    # mx/mt → mt\n",
    "    for _, row in flow4.iterrows():\n",
    "        source.append(label_to_index[row['mx/mt']])\n",
    "        target.append(label_to_index[row['Mt']])\n",
    "        value.append(row['count'])\n",
    "        link_labels.append(f\"{row['mx/mt']} → {row['Mt']}<br>Count: {row['count']}\")\n",
    "    \n",
    "    # mt → direction\n",
    "    for _, row in flow5.iterrows():\n",
    "        source.append(label_to_index[row['Mt']])\n",
    "        target.append(label_to_index[row['direction']])\n",
    "        value.append(row['count'])\n",
    "        link_labels.append(f\"{row['Mt']} → {row['direction']}<br>Count: {row['count']}\")\n",
    "    \n",
    "    # direction → transaction_status (new flow)\n",
    "    for _, row in flow6.iterrows():\n",
    "        source.append(label_to_index[row['direction']])\n",
    "        target.append(label_to_index[row['transaction_status']])\n",
    "        value.append(row['count'])\n",
    "        link_labels.append(f\"{row['direction']} → {row['transaction_status']}<br>Count: {row['count']}\")\n",
    "    \n",
    "    # transaction_status → payment_method (new flow)\n",
    "    for _, row in flow7.iterrows():\n",
    "        source.append(label_to_index[row['transaction_status']])\n",
    "        target.append(label_to_index[row['payment_method']])\n",
    "        value.append(row['count'])\n",
    "        link_labels.append(f\"{row['transaction_status']} → {row['payment_method']}<br>Count: {row['count']}\")\n",
    "    \n",
    "    # payment_method → amount_category (new flow)\n",
    "    for _, row in flow8.iterrows():\n",
    "        source.append(label_to_index[row['payment_method']])\n",
    "        target.append(label_to_index[str(row['amount_category'])])\n",
    "        value.append(row['count'])\n",
    "        link_labels.append(f\"{row['payment_method']} → {row['amount_category']}<br>Count: {row['count']}\")\n",
    "    \n",
    "    # Set up colors for nodes and links\n",
    "    num_nodes = len(labels)\n",
    "    node_colors = [\"rgba(31, 119, 180, 0.8)\"] * num_nodes  # Default blue color\n",
    "    \n",
    "    # Create color groups for different node types\n",
    "   \n",
    "    sender_idx = [label_to_index[label] for label in pd.Series(flow1['sender']).unique()]\n",
    "    receiver_idx = [label_to_index[label] for label in pd.Series(flow1['receiver']).unique()]\n",
    "    currency_idx = [label_to_index[label] for label in pd.Series(flow2['currency']).unique()]\n",
    "    mxmt_idx = [label_to_index[label] for label in pd.Series(flow3['mx/mt']).unique()]\n",
    "    mt_idx = [label_to_index[label] for label in pd.Series(flow4['Mt']).unique()]\n",
    "    direction_idx = [label_to_index[label] for label in pd.Series(flow5['direction']).unique()]\n",
    "    status_idx = [label_to_index[label] for label in pd.Series(flow6['transaction_status']).unique()]\n",
    "    payment_idx = [label_to_index[label] for label in pd.Series(flow7['payment_method']).unique()]\n",
    "    amount_idx = [label_to_index[str(label)] for label in pd.Series(flow8['amount_category']).unique()]\n",
    "    # Assign different colors to each node type\n",
    "    for idx in sender_idx:\n",
    "        node_colors[idx] = \"rgba(214, 39, 40, 0.8)\"  # Red for senders\n",
    "    for idx in receiver_idx:\n",
    "        node_colors[idx] = \"rgba(44, 160, 44, 0.8)\"  # Green for receivers\n",
    "    for idx in currency_idx:\n",
    "        node_colors[idx] = \"rgba(255, 127, 14, 0.8)\"  # Orange for currency\n",
    "    for idx in mxmt_idx:\n",
    "        node_colors[idx] = \"rgba(148, 103, 189, 0.8)\"  # Purple for mx/mt\n",
    "    for idx in mt_idx:\n",
    "        node_colors[idx] = \"rgba(140, 86, 75, 0.8)\"   # Brown for Mt\n",
    "    for idx in direction_idx:\n",
    "        node_colors[idx] = \"rgba(23, 190, 207, 0.8)\"  # Cyan for directions\n",
    "    for idx in status_idx:\n",
    "        node_colors[idx] = \"rgba(188, 189, 34, 0.8)\"  # Yellow-green for transaction status\n",
    "    for idx in payment_idx:\n",
    "        node_colors[idx] = \"rgba(127, 127, 127, 0.8)\"  # Gray for payment method\n",
    "    for idx in amount_idx:\n",
    "        node_colors[idx] = \"rgba(31, 119, 180, 0.8)\"  # Blue for amount categories\n",
    "    \n",
    "    # Create base and hover colors for links based on their source\n",
    "    link_colors = []\n",
    "    link_hover_colors = []\n",
    "    \n",
    "    for s in source:\n",
    "        # Normal state: semi-transparent\n",
    "        base_color = node_colors[s].replace(\"0.8\", \"0.4\")  # More transparent for normal state\n",
    "        # Hover state: more opaque and brighter\n",
    "        hover_color = node_colors[s].replace(\"0.8\", \"0.9\")  # More opaque for hover state\n",
    "        \n",
    "        link_colors.append(base_color)\n",
    "        link_hover_colors.append(hover_color)\n",
    "    \n",
    "    # Create the Sankey diagram with enhanced styling\n",
    "    fig = go.Figure(data=[go.Sankey(\n",
    "        arrangement=\"snap\",\n",
    "        node=dict(\n",
    "            pad=20,\n",
    "            thickness=20,\n",
    "            line=dict(color=\"black\", width=0.5),\n",
    "            label=list(labels),\n",
    "            color=node_colors,\n",
    "            # Add hover effect to nodes\n",
    "            hoverinfo=\"all\",\n",
    "            hoverlabel=dict(\n",
    "                bgcolor=\"white\",\n",
    "                font_size=14,\n",
    "                font_family=\"Arial\"\n",
    "            )\n",
    "        ),\n",
    "        link=dict(\n",
    "            source=source,\n",
    "            target=target,\n",
    "            value=value,\n",
    "            color=link_colors,\n",
    "            # Add animated hover effect for links\n",
    "            customdata=np.array(link_labels),\n",
    "            hovertemplate='%{customdata}<extra></extra>',\n",
    "            hoverlabel=dict(\n",
    "                bgcolor=\"white\",\n",
    "                font_size=14,\n",
    "                font_family=\"Arial\"\n",
    "            )\n",
    "        )\n",
    "    )])\n",
    "    \n",
    "    # Add flow animation using frames\n",
    "    # We'll create frames to animate link opacity to simulate flow\n",
    "    frames = []\n",
    "    \n",
    "    # Create several frames with different link opacities to simulate flow\n",
    "    for i in range(10):\n",
    "        # Generate a flow pattern that moves from left to right\n",
    "        phase = i / 10.0\n",
    "        flow_colors = []\n",
    "        \n",
    "        for s, t in zip(source, target):\n",
    "            # Calculate distance from left to right (normalized)\n",
    "            pos = (s + t) / (2 * num_nodes)\n",
    "            \n",
    "            # Create a wave pattern that moves across the links\n",
    "            intensity = 0.5 + 0.4 * np.sin(2 * np.pi * (pos - phase))\n",
    "            \n",
    "            # Apply the intensity to the base color\n",
    "            base_color = node_colors[s].replace(\"0.8\", str(intensity))\n",
    "            flow_colors.append(base_color)\n",
    "        \n",
    "        # Create a frame with the current flow pattern\n",
    "        frames.append(go.Frame(\n",
    "            data=[go.Sankey(\n",
    "                link=dict(color=flow_colors)\n",
    "            )],\n",
    "            name=f\"frame{i}\"\n",
    "        ))\n",
    "    \n",
    "    # Add frames to the figure\n",
    "    fig.frames = frames\n",
    "    \n",
    "    # Add play button for animation\n",
    "    fig.update_layout(\n",
    "        updatemenus=[\n",
    "            dict(\n",
    "                type=\"buttons\",\n",
    "                showactive=False,\n",
    "                buttons=[\n",
    "                    dict(\n",
    "                        label=\"Play Flow\",\n",
    "                        method=\"animate\",\n",
    "                        args=[\n",
    "                            None,\n",
    "                            dict(\n",
    "                                frame=dict(duration=200, redraw=True),\n",
    "                                fromcurrent=True,\n",
    "                                mode=\"immediate\",\n",
    "                                transition=dict(duration=200)\n",
    "                            )\n",
    "                        ]\n",
    "                    )\n",
    "                ],\n",
    "                x=0.1,\n",
    "                y=1.15,\n",
    "            )\n",
    "        ]\n",
    "    )\n",
    "    \n",
    "    # Add annotations to describe each column\n",
    "    fig.update_layout(\n",
    "        title_text=title,\n",
    "        font_size=12,\n",
    "        height=800,  # Increased height to accommodate more nodes\n",
    "        width=1200,  # Increased width to accommodate more columns\n",
    "        # Add hover mode settings to improve interactivity\n",
    "        hovermode=\"closest\",\n",
    "        hoverdistance=10,\n",
    "        # Add transition settings for smoother animations\n",
    "        transition=dict(\n",
    "            duration=500,\n",
    "            easing=\"cubic-in-out\"\n",
    "        ),\n",
    "        annotations=[\n",
    "            dict(x=0.02, y=1, xref='paper', yref='paper', text='Sender', showarrow=False, font=dict(size=14, color='black')),\n",
    "            dict(x=0.14, y=1, xref='paper', yref='paper', text='Receiver', showarrow=False, font=dict(size=14, color='black')),\n",
    "            dict(x=0.25, y=1, xref='paper', yref='paper', text='Currency', showarrow=False, font=dict(size=14, color='black')),\n",
    "            dict(x=0.37, y=1, xref='paper', yref='paper', text='MX/MT', showarrow=False, font=dict(size=14, color='black')),\n",
    "            dict(x=0.48, y=1, xref='paper', yref='paper', text='MT', showarrow=False, font=dict(size=14, color='black')),\n",
    "            dict(x=0.60, y=1, xref='paper', yref='paper', text='Direction', showarrow=False, font=dict(size=14, color='black')),\n",
    "            dict(x=0.71, y=1, xref='paper', yref='paper', text='Status', showarrow=False, font=dict(size=14, color='black')),\n",
    "            dict(x=0.83, y=1, xref='paper', yref='paper', text='Payment', showarrow=False, font=dict(size=14, color='black')),\n",
    "            dict(x=0.94, y=1, xref='paper', yref='paper', text='Amount', showarrow=False, font=dict(size=14, color='black')),\n",
    "        ]\n",
    "    )\n",
    "    \n",
    "    # Add custom CSS for hover effects\n",
    "    fig.update_layout(\n",
    "        hoverlabel_bgcolor=\"white\",\n",
    "        hoverlabel_font_size=14,\n",
    "        hoverlabel_font_family=\"Arial\"\n",
    "    )\n",
    "    \n",
    "    # Add configuration options for better interactivity\n",
    "    fig.update_layout(\n",
    "        dragmode=\"pan\",\n",
    "        clickmode=\"event+select\"\n",
    "    )\n",
    "    \n",
    "    return fig\n",
    "\n",
    "def visualize_banking_flows(df):\n",
    "    \"\"\"\n",
    "    Create an interactive visualization of banking flows with enhanced animations.\n",
    "    \n",
    "    Parameters:\n",
    "    -----------\n",
    "    df : pandas DataFrame\n",
    "        The DataFrame containing transaction data\n",
    "    \n",
    "    Returns:\n",
    "    --------\n",
    "    plotly.graph_objects.Figure\n",
    "        The flow map visualization\n",
    "    \"\"\"\n",
    "    # Ensure the expected columns exist\n",
    "    required_columns = ['send region', 'receiver region', 'amount', 'transaction_status', 'payment_method']\n",
    "    missing_columns = [col for col in required_columns if col not in df.columns]\n",
    "\n",
    "    # Raise error if essential columns are missing\n",
    "    if missing_columns:\n",
    "        raise ValueError(f\"Missing required columns in dataframe: {missing_columns}\")\n",
    "\n",
    "    # Add default year if not present\n",
    "    if 'year' not in df.columns:\n",
    "        print(\"Warning: 'year' column not found in data. Creating a dummy year column with value 2023.\")\n",
    "        df['year'] = 2023\n",
    "    else:\n",
    "        # Fill any missing year values with a default\n",
    "        df['year'] = df['year'].fillna(2023)\n",
    "\n",
    "    # Ensure all regions are in the coordinates dictionary\n",
    "    send_regions = df['send region'].dropna().unique()\n",
    "    recv_regions = df['receiver region'].dropna().unique()\n",
    "\n",
    "    unknown_send_regions = set(send_regions) - set(region_coordinates.keys())\n",
    "    unknown_recv_regions = set(recv_regions) - set(region_coordinates.keys())\n",
    "\n",
    "    if unknown_send_regions:\n",
    "        print(f\"Warning: Unknown send regions: {unknown_send_regions}\")\n",
    "    if unknown_recv_regions:\n",
    "        print(f\"Warning: Unknown receiver regions: {unknown_recv_regions}\")\n",
    "\n",
    "    # Build the flow map (assumes create_flow_map is already defined)\n",
    "    flow_map = create_flow_map(df)\n",
    "\n",
    "    # Collect unique regions for dropdowns (excluding missing values)\n",
    "    all_regions = sorted(set(send_regions).union(set(recv_regions)))\n",
    "\n",
    "    # Collect valid years (filtering non-numeric entries, if any)\n",
    "    years = sorted(df['year'].dropna().unique())\n",
    "\n",
    "    \n",
    "    # Create dropdown widgets with improved styling\n",
    "    send_dropdown = widgets.Dropdown(\n",
    "        options=['All'] + all_regions,\n",
    "        value='All',\n",
    "        description='Sender Region:',\n",
    "        layout=Layout(width='300px'),\n",
    "        style={'description_width': 'initial'}\n",
    "    )\n",
    "    \n",
    "    receive_dropdown = widgets.Dropdown(\n",
    "        options=['All'] + all_regions,\n",
    "        value='All',\n",
    "        description='Receiver Region:',\n",
    "        layout=Layout(width='300px'),\n",
    "        style={'description_width': 'initial'}\n",
    "    )\n",
    "    \n",
    "    # Create year dropdown\n",
    "    year_dropdown = widgets.Dropdown(\n",
    "        options=['All'] + list(years),\n",
    "        value='All',\n",
    "        description='Year:',\n",
    "        layout=Layout(width='300px'),\n",
    "        style={'description_width': 'initial'}\n",
    "    )\n",
    "    \n",
    "    # Add animation toggle button\n",
    "    animation_button = widgets.ToggleButton(\n",
    "        value=False,\n",
    "        description='Toggle Flow Animation',\n",
    "        disabled=False,\n",
    "        button_style='info',\n",
    "        tooltip='Toggle the flow animation on/off',\n",
    "        icon='play'\n",
    "    )\n",
    "    \n",
    "    # Create output area for the Sankey diagram\n",
    "    sankey_output = widgets.Output()\n",
    "    \n",
    "    # Create status message for user feedback\n",
    "    status_message = widgets.HTML(\n",
    "        value=\"<div style='padding: 10px; color: #555;'>Select options and click Update to visualize banking flows.</div>\"\n",
    "    )\n",
    "    \n",
    "    # Create an update button for better user experience\n",
    "    update_button = widgets.Button(\n",
    "        description='Update Visualization',\n",
    "        button_style='primary',\n",
    "        tooltip='Click to update the visualization',\n",
    "        icon='refresh'\n",
    "    )\n",
    "    \n",
    "    def update_sankey(sender_region, receiver_region, year, animate):\n",
    "        with sankey_output:\n",
    "            sankey_output.clear_output(wait=True)\n",
    "            status_message.value = \"<div style='padding: 10px; color: #555;'>Generating visualization...</div>\"\n",
    "            \n",
    "            send_region = None if sender_region == 'All' else sender_region\n",
    "            receive_region = None if receiver_region == 'All' else receiver_region\n",
    "            selected_year = None if year == 'All' else year\n",
    "            \n",
    "            # Create the Sankey diagram\n",
    "            sankey_fig = create_sankey_for_regions(df, send_region, receive_region, selected_year)\n",
    "            \n",
    "            # Start animation if toggle is on\n",
    "            if animate:\n",
    "                sankey_fig.update_layout(\n",
    "                    updatemenus=[dict(\n",
    "                        type=\"buttons\",\n",
    "                        showactive=False,\n",
    "                        buttons=[dict(\n",
    "                            label=\"Play Flow\",\n",
    "                            method=\"animate\",\n",
    "                            args=[None, dict(frame=dict(duration=200, redraw=True), fromcurrent=True, mode=\"immediate\")]\n",
    "                        )],\n",
    "                        active=0\n",
    "                    )]\n",
    "                )\n",
    "            \n",
    "            # Display the figure\n",
    "            sankey_fig.show()\n",
    "            \n",
    "            # Update status message\n",
    "            filters = []\n",
    "            if send_region:\n",
    "                filters.append(f\"sender: {send_region}\")\n",
    "            if receive_region:\n",
    "                filters.append(f\"receiver: {receive_region}\")\n",
    "            if selected_year:\n",
    "                filters.append(f\"year: {selected_year}\")\n",
    "                \n",
    "            if filters:\n",
    "                filter_text = \", \".join(filters)\n",
    "                status_message.value = f\"<div style='padding: 10px; color: #555;'>Showing transactions with {filter_text}</div>\"\n",
    "            else:\n",
    "                status_message.value = \"<div style='padding: 10px; color: #555;'>Showing all transactions</div>\"\n",
    "    \n",
    "    def on_update_button_click(b):\n",
    "        update_sankey(send_dropdown.value, receive_dropdown.value, year_dropdown.value, animation_button.value)\n",
    "    \n",
    "    update_button.on_click(on_update_button_click)\n",
    "    \n",
    "    # Layout the widgets in a more organized way\n",
    "    filters_box = widgets.HBox([send_dropdown, receive_dropdown, year_dropdown])\n",
    "    controls_box = widgets.HBox([animation_button, update_button])\n",
    "    \n",
    "    # Create a styled container for the interface\n",
    "    container = widgets.VBox([\n",
    "        widgets.HTML(\"<h2 style='color: #333;'>Banking Flows Analysis Dashboard</h2>\"),\n",
    "        widgets.HTML(\"<p style='color: #555;'>Use the controls below to explore transaction flows between regions.</p>\"),\n",
    "        filters_box,\n",
    "        controls_box,\n",
    "        status_message,\n",
    "        sankey_output\n",
    "    ], layout=Layout(border='1px solid #ddd', padding='20px', margin='10px'))\n",
    "    \n",
    "    # Display everything\n",
    "    display(flow_map)\n",
    "    display(container)\n",
    "    \n",
    "    # Initial display\n",
    "    update_sankey('All', 'All', 'All', animation_button.value)\n",
    "    \n",
    "    return flow_map"
   ]
  },
  {
   "cell_type": "code",
   "execution_count": 63,
   "id": "e8d8b259",
   "metadata": {},
   "outputs": [
    {
     "name": "stdout",
     "output_type": "stream",
     "text": [
      "Warning: Unknown send regions: {np.str_('Latin America'), np.str_('Asia Pacific')}\n",
      "Warning: Unknown receiver regions: {np.str_('Latin America'), np.str_('Asia Pacific')}\n"
     ]
    },
    {
     "data": {
      "application/vnd.plotly.v1+json": {
       "config": {
        "plotlyServerURL": "https://plot.ly"
       },
       "data": [
        {
         "hoverinfo": "none",
         "lat": [],
         "lon": [],
         "marker": {
          "color": "rgba(0,0,0,0)",
          "size": 1
         },
         "mode": "markers",
         "showlegend": false,
         "type": "scattergeo"
        },
        {
         "hoverinfo": "text",
         "lat": [
          0,
          40,
          20,
          25,
          50,
          45,
          10,
          25
         ],
         "lon": [
          20,
          -100,
          -75,
          80,
          10,
          60,
          105,
          45
         ],
         "marker": {
          "color": "blue",
          "line": {
           "color": "black",
           "width": 1
          },
          "size": 10
         },
         "mode": "markers+text",
         "name": "Regions",
         "text": [
          "Africa",
          "North America",
          "Caribbean",
          "South Asia",
          "Europe",
          "Central Asia",
          "Southeast Asia",
          "Middle East"
         ],
         "textposition": "top center",
         "type": "scattergeo"
        },
        {
         "customdata": [
          {
           "amount": 11075.75,
           "normalized_amount": 0.0002207433050140654,
           "receiver": "Central Asia",
           "sender": "Africa"
          }
         ],
         "hoverinfo": "text",
         "lat": [
          0,
          2.7673130193905817,
          5.490304709141274,
          8.168975069252078,
          10.803324099722992,
          13.393351800554017,
          15.939058171745152,
          18.440443213296398,
          20.897506925207757,
          23.310249307479225,
          25.6786703601108,
          28.002770083102497,
          30.282548476454295,
          32.51800554016621,
          34.70914127423822,
          36.85595567867036,
          38.9584487534626,
          41.01662049861496,
          43.03047091412742,
          45
         ],
         "line": {
          "color": "rgba(0, 0, 254, 0.8)",
          "width": 1.0011037165250702
         },
         "lon": [
          20,
          21.65650969529086,
          23.36288088642659,
          25.1191135734072,
          26.925207756232687,
          28.78116343490305,
          30.68698060941828,
          32.64265927977839,
          34.64819944598338,
          36.70360110803324,
          38.80886426592798,
          40.963988919667585,
          43.16897506925208,
          45.42382271468144,
          47.72853185595568,
          50.0831024930748,
          52.48753462603877,
          54.94182825484764,
          57.445983379501385,
          60
         ],
         "mode": "lines",
         "name": "Africa → Central Asia",
         "opacity": 0.7,
         "text": "Africa → Central Asia: $11,075.75",
         "type": "scattergeo"
        },
        {
         "customdata": [
          {
           "amount": 66831.14,
           "normalized_amount": 0.0013768755616767904,
           "receiver": "Europe",
           "sender": "Africa"
          }
         ],
         "hoverinfo": "text",
         "lat": [
          0,
          2.5318559556786706,
          5.0747922437673125,
          7.6288088642659275,
          10.193905817174516,
          12.770083102493075,
          15.357340720221607,
          17.955678670360108,
          20.565096952908586,
          23.185595567867036,
          25.817174515235454,
          28.45983379501385,
          31.113573407202214,
          33.77839335180056,
          36.454293628808855,
          39.14127423822715,
          41.8393351800554,
          44.54847645429363,
          47.26869806094183,
          50
         ],
         "line": {
          "color": "rgba(0, 0, 254, 0.8)",
          "width": 1.006884377808384
         },
         "lon": [
          20,
          18.975069252077564,
          18.005540166204984,
          17.091412742382268,
          16.23268698060942,
          15.42936288088643,
          14.681440443213296,
          13.988919667590025,
          13.35180055401662,
          12.770083102493075,
          12.243767313019392,
          11.772853185595569,
          11.357340720221607,
          10.997229916897506,
          10.692520775623269,
          10.443213296398891,
          10.249307479224377,
          10.110803324099722,
          10.02770083102493,
          10
         ],
         "mode": "lines",
         "name": "Africa → Europe",
         "opacity": 0.7,
         "text": "Africa → Europe: $66,831.14",
         "type": "scattergeo"
        },
        {
         "customdata": [
          {
           "amount": 4794660.58,
           "normalized_amount": 0.09941217079651717,
           "receiver": "Middle East",
           "sender": "Africa"
          }
         ],
         "hoverinfo": "text",
         "lat": [
          0,
          1.5650969529085874,
          3.1024930747922435,
          4.612188365650969,
          6.094182825484764,
          7.548476454293629,
          8.975069252077562,
          10.373961218836563,
          11.745152354570637,
          13.08864265927978,
          14.404432132963988,
          15.692520775623269,
          16.952908587257618,
          18.185595567867036,
          19.39058171745152,
          20.56786703601108,
          21.717451523545705,
          22.8393351800554,
          23.933518005540165,
          25
         ],
         "line": {
          "color": "rgba(25, 0, 229, 0.8)",
          "width": 1.4970608539825858
         },
         "lon": [
          20,
          21.06648199445984,
          22.1606648199446,
          23.282548476454288,
          24.43213296398892,
          25.60941828254848,
          26.81440443213296,
          28.04709141274238,
          29.30747922437673,
          30.595567867036017,
          31.911357340720222,
          33.254847645429365,
          34.62603878116343,
          36.02493074792244,
          37.451523545706365,
          38.905817174515235,
          40.38781163434903,
          41.89750692520776,
          43.43490304709141,
          45
         ],
         "mode": "lines",
         "name": "Africa → Middle East",
         "opacity": 0.7,
         "text": "Africa → Middle East: $4,794,660.58",
         "type": "scattergeo"
        },
        {
         "customdata": [
          {
           "amount": 70924.29,
           "normalized_amount": 0.0014617502750696844,
           "receiver": "North America",
           "sender": "Africa"
          }
         ],
         "hoverinfo": "text",
         "lat": [
          0,
          0.9085872576177285,
          1.9501385041551245,
          3.124653739612188,
          4.432132963988919,
          5.872576177285318,
          7.445983379501385,
          9.152354570637119,
          10.991689750692519,
          12.963988919667589,
          15.069252077562325,
          17.307479224376735,
          19.6786703601108,
          22.182825484764543,
          24.819944598337948,
          27.590027700831026,
          30.493074792243764,
          33.529085872576175,
          36.698060941828246,
          40
         ],
         "line": {
          "color": "rgba(0, 0, 254, 0.8)",
          "width": 1.0073087513753485
         },
         "lon": [
          20,
          13.285318559556789,
          6.6149584487534625,
          -0.011080332409972637,
          -6.5927977839335155,
          -13.13019390581717,
          -19.62326869806094,
          -26.072022160664815,
          -32.476454293628805,
          -38.83656509695291,
          -45.152354570637115,
          -51.42382271468145,
          -57.65096952908587,
          -63.83379501385042,
          -69.97229916897506,
          -76.06648199445983,
          -82.1163434903047,
          -88.1218836565097,
          -94.08310249307479,
          -100
         ],
         "mode": "lines",
         "name": "Africa → North America",
         "opacity": 0.7,
         "text": "Africa → North America: $70,924.29",
         "type": "scattergeo"
        },
        {
         "customdata": [
          {
           "amount": 200398.21999999997,
           "normalized_amount": 0.004146494958406876,
           "receiver": "South Asia",
           "sender": "Africa"
          }
         ],
         "hoverinfo": "text",
         "lat": [
          0,
          1.9141274238227148,
          3.761772853185595,
          5.542936288088642,
          7.257617728531856,
          8.905817174515235,
          10.48753462603878,
          12.00277008310249,
          13.451523545706372,
          14.833795013850416,
          16.149584487534625,
          17.398891966759003,
          18.581717451523545,
          19.698060941828256,
          20.74792243767313,
          21.731301939058174,
          22.64819944598338,
          23.49861495844875,
          24.282548476454295,
          25
         ],
         "line": {
          "color": "rgba(1, 0, 253, 0.8)",
          "width": 1.0207324747920343
         },
         "lon": [
          20,
          22.908587257617732,
          25.844875346260384,
          28.808864265927973,
          31.8005540166205,
          34.819944598337955,
          37.86703601108034,
          40.941828254847636,
          44.04432132963989,
          47.174515235457065,
          50.332409972299175,
          53.51800554016621,
          56.73130193905817,
          59.97229916897507,
          63.2409972299169,
          66.53739612188366,
          69.86149584487534,
          73.21329639889196,
          76.5927977839335,
          80
         ],
         "mode": "lines",
         "name": "Africa → South Asia",
         "opacity": 0.7,
         "text": "Africa → South Asia: $200,398.22",
         "type": "scattergeo"
        },
        {
         "customdata": [
          {
           "amount": 2293.35,
           "normalized_amount": 0.000038633271689669034,
           "receiver": "Southeast Asia",
           "sender": "Africa"
          }
         ],
         "hoverinfo": "text",
         "lat": [
          0,
          1.373961218836565,
          2.653739612188365,
          3.839335180055401,
          4.930747922437673,
          5.92797783933518,
          6.8310249307479225,
          7.6398891966759,
          8.354570637119114,
          8.975069252077564,
          9.501385041551247,
          9.933518005540167,
          10.27146814404432,
          10.515235457063712,
          10.664819944598339,
          10.720221606648199,
          10.681440443213296,
          10.548476454293628,
          10.321329639889196,
          10
         ],
         "line": {
          "color": "rgba(0, 0, 254, 0.8)",
          "width": 1.0001931663584482
         },
         "lon": [
          20,
          24.37396121883657,
          28.7590027700831,
          33.155124653739605,
          37.56232686980609,
          41.980609418282555,
          46.40997229916897,
          50.85041551246537,
          55.30193905817174,
          59.764542936288095,
          64.23822714681441,
          68.7229916897507,
          73.21883656509695,
          77.72576177285319,
          82.24376731301939,
          86.77285318559557,
          91.3130193905817,
          95.86426592797784,
          100.42659279778393,
          105
         ],
         "mode": "lines",
         "name": "Africa → Southeast Asia",
         "opacity": 0.7,
         "text": "Africa → Southeast Asia: $2,293.35",
         "type": "scattergeo"
        },
        {
         "customdata": [
          {
           "amount": 16455.1,
           "normalized_amount": 0.00033228839607842036,
           "receiver": "Africa",
           "sender": "Caribbean"
          }
         ],
         "hoverinfo": "text",
         "lat": [
          20,
          19.894736842105267,
          19.684210526315788,
          19.368421052631575,
          18.94736842105263,
          18.421052631578952,
          17.789473684210527,
          17.052631578947366,
          16.210526315789473,
          15.263157894736846,
          14.210526315789474,
          13.052631578947368,
          11.789473684210527,
          10.421052631578947,
          8.947368421052632,
          7.368421052631578,
          5.684210526315791,
          3.894736842105263,
          2.0000000000000018,
          0
         ],
         "line": {
          "color": "rgba(0, 0, 254, 0.8)",
          "width": 1.0016614419803922
         },
         "lon": [
          -75,
          -69.80055401662051,
          -64.62326869806094,
          -59.46814404432132,
          -54.33518005540167,
          -49.22437673130195,
          -44.13573407202217,
          -39.069252077562325,
          -34.02493074792243,
          -29.002770083102504,
          -24.002770083102497,
          -19.024930747922433,
          -14.069252077562329,
          -9.135734072022158,
          -4.224376731301941,
          0.6648199445983387,
          5.531855955678665,
          10.376731301939058,
          15.199445983379494,
          20
         ],
         "mode": "lines",
         "name": "Caribbean → Africa",
         "opacity": 0.7,
         "text": "Caribbean → Africa: $16,455.10",
         "type": "scattergeo"
        },
        {
         "customdata": [
          {
           "amount": 31097.72,
           "normalized_amount": 0.000635914741514346,
           "receiver": "Central Asia",
           "sender": "Caribbean"
          }
         ],
         "hoverinfo": "text",
         "lat": [
          20,
          22.66204986149585,
          25.174515235457065,
          27.537396121883653,
          29.750692520775623,
          31.814404432132967,
          33.72853185595568,
          35.49307479224376,
          37.10803324099723,
          38.57340720221607,
          39.88919667590028,
          41.05540166204986,
          42.072022160664815,
          42.93905817174515,
          43.65650969529086,
          44.22437673130194,
          44.64265927977839,
          44.91135734072022,
          45.03047091412743,
          45
         ],
         "line": {
          "color": "rgba(0, 0, 254, 0.8)",
          "width": 1.0031795737075717
         },
         "lon": [
          -75,
          -68.14404432132966,
          -61.26038781163435,
          -54.34903047091412,
          -47.409972299168984,
          -40.4432132963989,
          -33.448753462603875,
          -26.426592797783933,
          -19.37673130193906,
          -12.299168975069259,
          -5.193905817174521,
          1.939058171745156,
          9.099722991689747,
          16.288088642659282,
          23.504155124653735,
          30.747922437673132,
          38.01939058171744,
          45.3185595567867,
          52.645429362880876,
          60
         ],
         "mode": "lines",
         "name": "Caribbean → Central Asia",
         "opacity": 0.7,
         "text": "Caribbean → Central Asia: $31,097.72",
         "type": "scattergeo"
        },
        {
         "customdata": [
          {
           "amount": 1218.62,
           "normalized_amount": 0.00001634789228145163,
           "receiver": "Europe",
           "sender": "Caribbean"
          }
         ],
         "hoverinfo": "text",
         "lat": [
          20,
          22.426592797783936,
          24.7590027700831,
          26.997229916897503,
          29.141274238227147,
          31.191135734072027,
          33.146814404432135,
          35.00831024930747,
          36.77562326869806,
          38.44875346260388,
          40.02770083102493,
          41.51246537396122,
          42.903047091412745,
          44.199445983379505,
          45.40166204986149,
          46.50969529085873,
          47.52354570637119,
          48.44321329639889,
          49.26869806094183,
          50
         ],
         "line": {
          "color": "rgba(0, 0, 254, 0.8)",
          "width": 1.0000817394614072
         },
         "lon": [
          -75,
          -70.82548476454295,
          -66.61772853185596,
          -62.376731301939046,
          -58.10249307479225,
          -53.79501385041553,
          -49.45429362880886,
          -45.08033240997229,
          -40.67313019390582,
          -36.23268698060943,
          -31.759002770083107,
          -27.252077562326868,
          -22.71191135734072,
          -18.13850415512465,
          -13.531855955678672,
          -8.89196675900277,
          -4.218836565096958,
          0.48753462603878184,
          5.227146814404426,
          10
         ],
         "mode": "lines",
         "name": "Caribbean → Europe",
         "opacity": 0.7,
         "text": "Caribbean → Europe: $1,218.62",
         "type": "scattergeo"
        },
        {
         "customdata": [
          {
           "amount": 42760814.73,
           "normalized_amount": 0.8866705053583305,
           "receiver": "Middle East",
           "sender": "Caribbean"
          }
         ],
         "hoverinfo": "text",
         "lat": [
          20,
          21.45983379501385,
          22.78670360110803,
          23.980609418282544,
          25.041551246537395,
          25.96952908587258,
          26.764542936288088,
          27.42659279778393,
          27.955678670360115,
          28.351800554016624,
          28.614958448753463,
          28.745152354570635,
          28.742382271468145,
          28.606648199445985,
          28.337950138504155,
          27.936288088642662,
          27.401662049861496,
          26.734072022160664,
          25.93351800554017,
          25
         ],
         "line": {
          "color": "rgba(226, 0, 28, 0.8)",
          "width": 5.433352526791652
         },
         "lon": [
          -75,
          -68.73407202216067,
          -62.46260387811634,
          -56.185595567867026,
          -49.90304709141275,
          -43.61495844875348,
          -37.3213296398892,
          -31.022160664819943,
          -24.71745152354571,
          -18.407202216066487,
          -12.091412742382277,
          -5.770083102493071,
          0.5567867036011052,
          6.88919667590028,
          13.227146814404428,
          19.570637119113574,
          25.919667590027693,
          32.27423822714682,
          38.63434903047091,
          45
         ],
         "mode": "lines",
         "name": "Caribbean → Middle East",
         "opacity": 0.7,
         "text": "Caribbean → Middle East: $42,760,814.73",
         "type": "scattergeo"
        },
        {
         "customdata": [
          {
           "amount": 36351.93,
           "normalized_amount": 0.0007448649553731289,
           "receiver": "North America",
           "sender": "Caribbean"
          }
         ],
         "hoverinfo": "text",
         "lat": [
          20,
          20.803324099722996,
          21.63434903047091,
          22.493074792243764,
          23.379501385041554,
          24.29362880886427,
          25.235457063711912,
          26.204986149584485,
          27.202216066481995,
          28.227146814404435,
          29.279778393351805,
          30.3601108033241,
          31.468144044321328,
          32.603878116343495,
          33.767313019390585,
          34.958448753462605,
          36.177285318559555,
          37.423822714681435,
          38.698060941828246,
          40
         ],
         "line": {
          "color": "rgba(0, 0, 254, 0.8)",
          "width": 1.0037243247768657
         },
         "lon": [
          -75,
          -76.51523545706371,
          -78.00831024930747,
          -79.47922437673128,
          -80.92797783933518,
          -82.35457063711911,
          -83.7590027700831,
          -85.14127423822714,
          -86.50138504155125,
          -87.83933518005541,
          -89.15512465373962,
          -90.44875346260389,
          -91.7202216066482,
          -92.96952908587258,
          -94.196675900277,
          -95.4016620498615,
          -96.58448753462604,
          -97.74515235457064,
          -98.88365650969529,
          -100
         ],
         "mode": "lines",
         "name": "Caribbean → North America",
         "opacity": 0.7,
         "text": "Caribbean → North America: $36,351.93",
         "type": "scattergeo"
        },
        {
         "customdata": [
          {
           "amount": 449726.31,
           "normalized_amount": 0.009316510760307052,
           "receiver": "South Asia",
           "sender": "Caribbean"
          }
         ],
         "hoverinfo": "text",
         "lat": [
          20,
          21.80886426592798,
          23.445983379501385,
          24.911357340720215,
          26.20498614958449,
          27.326869806094187,
          28.277008310249307,
          29.055401662049857,
          29.662049861495845,
          30.09695290858726,
          30.360110803324105,
          30.451523545706372,
          30.371191135734072,
          30.119113573407198,
          29.695290858725762,
          29.099722991689752,
          28.332409972299168,
          27.393351800554015,
          26.282548476454295,
          25
         ],
         "line": {
          "color": "rgba(2, 0, 252, 0.8)",
          "width": 1.0465825538015352
         },
         "lon": [
          -75,
          -66.89196675900278,
          -58.77839335180055,
          -50.65927977839334,
          -42.53462603878117,
          -34.404432132964,
          -26.268698060941833,
          -18.127423822714682,
          -9.98060941828255,
          -1.8282548476454394,
          6.32963988919667,
          14.493074792243773,
          22.662049861495838,
          30.83656509695291,
          39.016620498614955,
          47.202216066481995,
          55.39335180055401,
          63.59002770083102,
          71.792243767313,
          80
         ],
         "mode": "lines",
         "name": "Caribbean → South Asia",
         "opacity": 0.7,
         "text": "Caribbean → South Asia: $449,726.31",
         "type": "scattergeo"
        },
        {
         "customdata": [
          {
           "amount": 7444.03,
           "normalized_amount": 0.00014543670884162085,
           "receiver": "Southeast Asia",
           "sender": "Caribbean"
          }
         ],
         "hoverinfo": "text",
         "lat": [
          20,
          21.26869806094183,
          22.337950138504155,
          23.207756232686975,
          23.878116343490305,
          24.349030470914133,
          24.620498614958446,
          24.692520775623265,
          24.565096952908586,
          24.238227146814406,
          23.711911357340725,
          22.98614958448753,
          22.06094182825485,
          20.93628808864266,
          19.612188365650972,
          18.088642659279778,
          16.365650969529085,
          14.443213296398891,
          12.321329639889196,
          10
         ],
         "line": {
          "color": "rgba(0, 0, 254, 0.8)",
          "width": 1.0007271835442082
         },
         "lon": [
          -75,
          -65.42659279778394,
          -55.86426592797784,
          -46.31301939058171,
          -36.77285318559557,
          -27.243767313019404,
          -17.725761772853193,
          -8.218836565096954,
          1.277008310249304,
          10.76177285318559,
          20.235457063711905,
          29.69806094182826,
          39.14958448753462,
          48.59002770083102,
          58.019390581717445,
          67.43767313019391,
          76.84487534626038,
          86.2409972299169,
          95.62603878116343,
          105
         ],
         "mode": "lines",
         "name": "Caribbean → Southeast Asia",
         "opacity": 0.7,
         "text": "Caribbean → Southeast Asia: $7,444.03",
         "type": "scattergeo"
        },
        {
         "customdata": [
          {
           "amount": 447540.54,
           "normalized_amount": 0.009271187084826606,
           "receiver": "Caribbean",
           "sender": "Central Asia"
          }
         ],
         "hoverinfo": "text",
         "lat": [
          45,
          42.337950138504155,
          39.82548476454294,
          37.46260387811634,
          35.24930747922438,
          33.18559556786704,
          31.27146814404432,
          29.506925207756233,
          27.89196675900277,
          26.426592797783936,
          25.110803324099727,
          23.94459833795014,
          22.92797783933518,
          22.060941828254848,
          21.343490304709142,
          20.775623268698062,
          20.357340720221607,
          20.088642659279778,
          19.969529085872573,
          20
         ],
         "line": {
          "color": "rgba(2, 0, 252, 0.8)",
          "width": 1.046355935424133
         },
         "lon": [
          60,
          53.144044321329645,
          46.26038781163435,
          39.349030470914116,
          32.40997229916898,
          25.4432132963989,
          18.448753462603882,
          11.426592797783933,
          4.3767313019390635,
          -2.7008310249307392,
          -9.80609418282548,
          -16.939058171745152,
          -24.09972299168975,
          -31.288088642659282,
          -38.504155124653735,
          -45.74792243767313,
          -53.01939058171744,
          -60.3185595567867,
          -67.64542936288088,
          -75
         ],
         "mode": "lines",
         "name": "Central Asia → Caribbean",
         "opacity": 0.7,
         "text": "Central Asia → Caribbean: $447,540.54",
         "type": "scattergeo"
        },
        {
         "customdata": [
          {
           "amount": 8409233.71,
           "normalized_amount": 0.17436321301251367,
           "receiver": "Middle East",
           "sender": "Central Asia"
          }
         ],
         "hoverinfo": "text",
         "lat": [
          45,
          43.797783933518005,
          42.61218836565097,
          41.44321329639888,
          40.29085872576177,
          39.15512465373962,
          38.03601108033241,
          36.933518005540165,
          35.84764542936288,
          34.77839335180056,
          33.72576177285318,
          32.689750692520775,
          31.670360110803323,
          30.667590027700832,
          29.681440443213294,
          28.711911357340718,
          27.759002770083104,
          26.82271468144044,
          25.903047091412745,
          25
         ],
         "line": {
          "color": "rgba(44, 0, 210, 0.8)",
          "width": 1.8718160650625684
         },
         "lon": [
          60,
          59.40997229916898,
          58.797783933518005,
          58.16343490304708,
          57.50692520775623,
          56.82825484764543,
          56.12742382271468,
          55.40443213296399,
          54.659279778393355,
          53.89196675900278,
          53.10249307479225,
          52.290858725761765,
          51.45706371191136,
          50.601108033241,
          49.722991689750685,
          48.822714681440445,
          47.90027700831025,
          46.955678670360115,
          45.98891966759003,
          45
         ],
         "mode": "lines",
         "name": "Central Asia → Middle East",
         "opacity": 0.7,
         "text": "Central Asia → Middle East: $8,409,233.71",
         "type": "scattergeo"
        },
        {
         "customdata": [
          {
           "amount": 21737.07,
           "normalized_amount": 0.0004418142355663123,
           "receiver": "North America",
           "sender": "Central Asia"
          }
         ],
         "hoverinfo": "text",
         "lat": [
          45,
          43.14127423822715,
          41.45983379501386,
          39.95567867036011,
          38.62880886426593,
          37.47922437673131,
          36.50692520775623,
          35.71191135734072,
          35.094182825484765,
          34.65373961218837,
          34.390581717451525,
          34.304709141274245,
          34.39612188365651,
          34.664819944598335,
          35.11080332409972,
          35.73407202216067,
          36.53462603878116,
          37.51246537396122,
          38.667590027700825,
          40
         ],
         "line": {
          "color": "rgba(0, 0, 254, 0.8)",
          "width": 1.0022090711778315
         },
         "lon": [
          60,
          51.628808864265935,
          43.25207756232687,
          34.86980609418282,
          26.4819944598338,
          18.088642659279785,
          9.68975069252078,
          1.2853185595567886,
          -7.124653739612185,
          -15.540166204986145,
          -23.961218836565088,
          -32.387811634349035,
          -40.81994459833794,
          -49.257617728531855,
          -57.700831024930736,
          -66.14958448753463,
          -74.60387811634348,
          -83.06371191135734,
          -91.52908587257618,
          -100
         ],
         "mode": "lines",
         "name": "Central Asia → North America",
         "opacity": 0.7,
         "text": "Central Asia → North America: $21,737.07",
         "type": "scattergeo"
        },
        {
         "customdata": [
          {
           "amount": 66951.22,
           "normalized_amount": 0.00137936551576697,
           "receiver": "Southeast Asia",
           "sender": "Central Asia"
          }
         ],
         "hoverinfo": "text",
         "lat": [
          45,
          43.606648199445985,
          42.16343490304709,
          40.670360110803315,
          39.12742382271468,
          37.53462603878117,
          35.89196675900277,
          34.1994459833795,
          32.45706371191136,
          30.664819944598342,
          28.822714681440445,
          26.93074792243767,
          24.98891966759003,
          22.997229916897506,
          20.95567867036011,
          18.86426592797784,
          16.722991689750696,
          14.531855955678669,
          12.290858725761774,
          10
         ],
         "line": {
          "color": "rgba(0, 0, 254, 0.8)",
          "width": 1.0068968275788348
         },
         "lon": [
          60,
          62.71745152354571,
          65.3961218836565,
          68.0360110803324,
          70.6371191135734,
          73.1994459833795,
          75.7229916897507,
          78.20775623268698,
          80.65373961218836,
          83.06094182825485,
          85.42936288088643,
          87.7590027700831,
          90.04986149584487,
          92.30193905817174,
          94.51523545706371,
          96.68975069252078,
          98.82548476454292,
          100.92243767313019,
          102.98060941828254,
          105
         ],
         "mode": "lines",
         "name": "Central Asia → Southeast Asia",
         "opacity": 0.7,
         "text": "Central Asia → Southeast Asia: $66,951.22",
         "type": "scattergeo"
        },
        {
         "customdata": [
          {
           "amount": 157517.53,
           "normalized_amount": 0.00325732982303692,
           "receiver": "Caribbean",
           "sender": "Europe"
          }
         ],
         "hoverinfo": "text",
         "lat": [
          50,
          47.57340720221607,
          45.2409972299169,
          43.00277008310249,
          40.85872576177285,
          38.80886426592799,
          36.853185595567865,
          34.991689750692515,
          33.224376731301945,
          31.551246537396125,
          29.97229916897507,
          28.48753462603878,
          27.09695290858726,
          25.800554016620495,
          24.598337950138504,
          23.490304709141277,
          22.47645429362881,
          21.556786703601105,
          20.73130193905817,
          20
         ],
         "line": {
          "color": "rgba(0, 0, 254, 0.8)",
          "width": 1.0162866491151845
         },
         "lon": [
          10,
          5.825484764542937,
          1.6177285318559564,
          -2.623268698060942,
          -6.897506925207755,
          -11.204986149584485,
          -15.545706371191134,
          -19.9196675900277,
          -24.32686980609418,
          -28.767313019390578,
          -33.2409972299169,
          -37.74792243767313,
          -42.288088642659275,
          -46.86149584487535,
          -51.46814404432133,
          -56.10803324099724,
          -60.781163434903036,
          -65.48753462603878,
          -70.22714681440442,
          -75
         ],
         "mode": "lines",
         "name": "Europe → Caribbean",
         "opacity": 0.7,
         "text": "Europe → Caribbean: $157,517.53",
         "type": "scattergeo"
        },
        {
         "customdata": [
          {
           "amount": 360078,
           "normalized_amount": 0.00745758191152132,
           "receiver": "Central Asia",
           "sender": "Europe"
          }
         ],
         "hoverinfo": "text",
         "lat": [
          50,
          50.23545706371191,
          50.415512465373965,
          50.54016620498614,
          50.60941828254848,
          50.62326869806095,
          50.581717451523545,
          50.48476454293628,
          50.33240997229916,
          50.12465373961219,
          49.86149584487535,
          49.54293628808864,
          49.168975069252085,
          48.739612188365655,
          48.254847645429365,
          47.714681440443215,
          47.1191135734072,
          46.468144044321335,
          45.7617728531856,
          45
         ],
         "line": {
          "color": "rgba(1, 0, 253, 0.8)",
          "width": 1.0372879095576066
         },
         "lon": [
          10,
          12.681440443213297,
          15.357340720221604,
          18.02770083102493,
          20.69252077562327,
          23.351800554016624,
          26.005540166204984,
          28.653739612188367,
          31.296398891966756,
          33.933518005540165,
          36.56509695290859,
          39.19113573407202,
          41.81163434903047,
          44.42659279778394,
          47.03601108033241,
          49.6398891966759,
          52.238227146814395,
          54.83102493074792,
          57.418282548476455,
          60
         ],
         "mode": "lines",
         "name": "Europe → Central Asia",
         "opacity": 0.7,
         "text": "Europe → Central Asia: $360,078.00",
         "type": "scattergeo"
        },
        {
         "customdata": [
          {
           "amount": 5915148.550000001,
           "normalized_amount": 0.12264637802418675,
           "receiver": "Middle East",
           "sender": "Europe"
          }
         ],
         "hoverinfo": "text",
         "lat": [
          50,
          49.03324099722992,
          48.02770083102493,
          46.98337950138503,
          45.900277008310255,
          44.77839335180056,
          43.61772853185595,
          42.41828254847645,
          41.18005540166205,
          39.903047091412745,
          38.58725761772853,
          37.232686980609415,
          35.83933518005541,
          34.40720221606648,
          32.936288088642655,
          31.426592797783933,
          29.878116343490305,
          28.290858725761773,
          26.66481994459834,
          25
         ],
         "line": {
          "color": "rgba(31, 0, 223, 0.8)",
          "width": 1.6132318901209337
         },
         "lon": [
          10,
          12.091412742382273,
          14.15512465373961,
          16.19113573407202,
          18.199445983379498,
          20.180055401662052,
          22.132963988919666,
          24.058171745152354,
          25.95567867036011,
          27.825484764542942,
          29.667590027700832,
          31.481994459833796,
          33.26869806094183,
          35.02770083102493,
          36.7590027700831,
          38.46260387811634,
          40.13850415512465,
          41.78670360110804,
          43.40720221606648,
          45
         ],
         "mode": "lines",
         "name": "Europe → Middle East",
         "opacity": 0.7,
         "text": "Europe → Middle East: $5,915,148.55",
         "type": "scattergeo"
        },
        {
         "customdata": [
          {
           "amount": 47319.479999999996,
           "normalized_amount": 0.0009722858079859663,
           "receiver": "South Asia",
           "sender": "Europe"
          }
         ],
         "hoverinfo": "text",
         "lat": [
          50,
          49.38227146814405,
          48.68698060941828,
          47.914127423822706,
          47.063711911357345,
          46.13573407202217,
          45.13019390581717,
          44.047091412742375,
          42.88642659279779,
          41.64819944598339,
          40.33240997229917,
          38.93905817174515,
          37.468144044321335,
          35.9196675900277,
          34.29362880886426,
          32.59002770083102,
          30.80886426592798,
          28.950138504155124,
          27.01385041551247,
          25
         ],
         "line": {
          "color": "rgba(0, 0, 254, 0.8)",
          "width": 1.0048614290399298
         },
         "lon": [
          10,
          13.933518005540167,
          17.8393351800554,
          21.7174515235457,
          25.567867036011076,
          29.390581717451525,
          33.18559556786704,
          36.95290858725761,
          40.692520775623265,
          44.40443213296399,
          48.08864265927978,
          51.74515235457064,
          55.37396121883656,
          58.97506925207756,
          62.54847645429363,
          66.09418282548476,
          69.61218836565097,
          73.10249307479224,
          76.56509695290858,
          80
         ],
         "mode": "lines",
         "name": "Europe → South Asia",
         "opacity": 0.7,
         "text": "Europe → South Asia: $47,319.48",
         "type": "scattergeo"
        },
        {
         "customdata": [
          {
           "amount": 346348.15,
           "normalized_amount": 0.007172882576369316,
           "receiver": "Africa",
           "sender": "Middle East"
          }
         ],
         "hoverinfo": "text",
         "lat": [
          25,
          23.434903047091414,
          21.897506925207757,
          20.387811634349028,
          18.905817174515235,
          17.451523545706376,
          16.02493074792244,
          14.626038781163434,
          13.254847645429363,
          11.911357340720224,
          10.595567867036012,
          9.307479224376731,
          8.047091412742382,
          6.814404432132964,
          5.609418282548477,
          4.432132963988919,
          3.282548476454295,
          2.160664819944598,
          1.066481994459835,
          0
         ],
         "line": {
          "color": "rgba(1, 0, 253, 0.8)",
          "width": 1.0358644128818466
         },
         "lon": [
          45,
          43.93351800554017,
          42.83933518005541,
          41.7174515235457,
          40.56786703601108,
          39.39058171745153,
          38.18559556786703,
          36.95290858725762,
          35.69252077562327,
          34.40443213296399,
          33.08864265927978,
          31.745152354570635,
          30.373961218836566,
          28.97506925207756,
          27.54847645429363,
          26.094182825484765,
          24.612188365650972,
          23.102493074792243,
          21.565096952908586,
          20
         ],
         "mode": "lines",
         "name": "Middle East → Africa",
         "opacity": 0.7,
         "text": "Middle East → Africa: $346,348.15",
         "type": "scattergeo"
        },
        {
         "customdata": [
          {
           "amount": 34186.59,
           "normalized_amount": 0.0006999649121550281,
           "receiver": "Caribbean",
           "sender": "Middle East"
          }
         ],
         "hoverinfo": "text",
         "lat": [
          25,
          23.54016620498615,
          22.213296398891966,
          21.01939058171745,
          19.958448753462605,
          19.030470914127427,
          18.235457063711912,
          17.573407202216067,
          17.04432132963989,
          16.64819944598338,
          16.385041551246537,
          16.254847645429365,
          16.257617728531855,
          16.393351800554015,
          16.662049861495845,
          17.06371191135734,
          17.598337950138504,
          18.265927977839333,
          19.06648199445983,
          20
         ],
         "line": {
          "color": "rgba(0, 0, 254, 0.8)",
          "width": 1.0034998245607751
         },
         "lon": [
          45,
          38.73407202216067,
          32.46260387811635,
          26.185595567867033,
          19.90304709141274,
          13.614958448753473,
          7.321329639889197,
          1.0221606648199462,
          -5.28254847645429,
          -11.592797783933513,
          -17.908587257617725,
          -24.229916897506925,
          -30.556786703601105,
          -36.88919667590028,
          -43.22714681440443,
          -49.57063711911358,
          -55.91966759002769,
          -62.27423822714681,
          -68.6343490304709,
          -75
         ],
         "mode": "lines",
         "name": "Middle East → Caribbean",
         "opacity": 0.7,
         "text": "Middle East → Caribbean: $34,186.59",
         "type": "scattergeo"
        },
        {
         "customdata": [
          {
           "amount": 48226219,
           "normalized_amount": 1,
           "receiver": "Central Asia",
           "sender": "Middle East"
          }
         ],
         "hoverinfo": "text",
         "lat": [
          25,
          26.202216066482,
          27.38781163434903,
          28.556786703601105,
          29.709141274238227,
          30.84487534626039,
          31.96398891966759,
          33.06648199445983,
          34.152354570637115,
          35.22160664819945,
          36.27423822714682,
          37.310249307479225,
          38.32963988919668,
          39.33240997229917,
          40.3185595567867,
          41.28808864265928,
          42.24099722991689,
          43.177285318559555,
          44.096952908587255,
          45
         ],
         "line": {
          "color": "rgba(255, 0, 0, 0.8)",
          "width": 6
         },
         "lon": [
          45,
          45.59002770083103,
          46.202216066481995,
          46.836565096952896,
          47.493074792243775,
          48.17174515235458,
          48.872576177285325,
          49.595567867036,
          50.340720221606645,
          51.10803324099723,
          51.89750692520775,
          52.70914127423822,
          53.54293628808864,
          54.398891966759,
          55.27700831024931,
          56.177285318559555,
          57.099722991689745,
          58.044321329639885,
          59.011080332409975,
          60
         ],
         "mode": "lines",
         "name": "Middle East → Central Asia",
         "opacity": 0.7,
         "text": "Middle East → Central Asia: $48,226,219.00",
         "type": "scattergeo"
        },
        {
         "customdata": [
          {
           "amount": 84537.08,
           "normalized_amount": 0.0017440222782280478,
           "receiver": "North America",
           "sender": "Middle East"
          }
         ],
         "hoverinfo": "text",
         "lat": [
          25,
          24.343490304709142,
          23.84764542936288,
          23.512465373961216,
          23.33795013850416,
          23.324099722991694,
          23.470914127423825,
          23.77839335180055,
          24.246537396121884,
          24.875346260387815,
          25.664819944598335,
          26.614958448753463,
          27.725761772853183,
          28.997229916897506,
          30.429362880886426,
          32.02216066481995,
          33.775623268698055,
          35.689750692520775,
          37.76454293628808,
          40
         ],
         "line": {
          "color": "rgba(0, 0, 254, 0.8)",
          "width": 1.0087201113911402
         },
         "lon": [
          45,
          37.21883656509696,
          29.454293628808866,
          21.70637119113573,
          13.97506925207756,
          6.260387811634358,
          -1.4376731301939039,
          -9.1191135734072,
          -16.783933518005536,
          -24.432132963988916,
          -32.06371191135733,
          -39.67867036011081,
          -47.2770083102493,
          -54.85872576177286,
          -62.42382271468143,
          -69.97229916897507,
          -77.50415512465374,
          -85.01939058171745,
          -92.5180055401662,
          -100
         ],
         "mode": "lines",
         "name": "Middle East → North America",
         "opacity": 0.7,
         "text": "Middle East → North America: $84,537.08",
         "type": "scattergeo"
        },
        {
         "customdata": [
          {
           "amount": 7378.91,
           "normalized_amount": 0.00014408639396526764,
           "receiver": "South Asia",
           "sender": "Middle East"
          }
         ],
         "hoverinfo": "text",
         "lat": [
          25,
          25.349030470914126,
          25.65927977839335,
          25.930747922437668,
          26.16343490304709,
          26.357340720221607,
          26.51246537396122,
          26.628808864265924,
          26.706371191135737,
          26.745152354570642,
          26.745152354570635,
          26.706371191135737,
          26.628808864265928,
          26.51246537396122,
          26.357340720221604,
          26.16343490304709,
          25.930747922437675,
          25.65927977839335,
          25.34903047091413,
          25
         ],
         "line": {
          "color": "rgba(0, 0, 254, 0.8)",
          "width": 1.0007204319698264
         },
         "lon": [
          45,
          46.8421052631579,
          48.68421052631579,
          50.52631578947368,
          52.36842105263158,
          54.21052631578948,
          56.05263157894737,
          57.89473684210525,
          59.73684210526316,
          61.578947368421055,
          63.421052631578945,
          65.26315789473685,
          67.10526315789474,
          68.94736842105263,
          70.78947368421052,
          72.63157894736842,
          74.47368421052632,
          76.3157894736842,
          78.1578947368421,
          80
         ],
         "mode": "lines",
         "name": "Middle East → South Asia",
         "opacity": 0.7,
         "text": "Middle East → South Asia: $7,378.91",
         "type": "scattergeo"
        },
        {
         "customdata": [
          {
           "amount": 33486319.98,
           "normalized_amount": 0.6943564968880446,
           "receiver": "Southeast Asia",
           "sender": "Middle East"
          }
         ],
         "hoverinfo": "text",
         "lat": [
          25,
          24.80886426592798,
          24.55124653739612,
          24.227146814404428,
          23.83656509695291,
          23.379501385041554,
          22.85595567867036,
          22.265927977839333,
          21.60941828254848,
          20.88642659279779,
          20.09695290858726,
          19.240997229916896,
          18.318559556786706,
          17.329639889196677,
          16.274238227146814,
          15.152354570637119,
          13.96398891966759,
          12.709141274238226,
          11.387811634349031,
          10
         ],
         "line": {
          "color": "rgba(177, 0, 77, 0.8)",
          "width": 4.471782484440222
         },
         "lon": [
          45,
          48.307479224376735,
          51.5983379501385,
          54.8725761772853,
          58.13019390581717,
          61.37119113573408,
          64.59556786703601,
          67.80332409972297,
          70.994459833795,
          74.16897506925208,
          77.32686980609418,
          80.46814404432132,
          83.59279778393352,
          86.70083102493075,
          89.79224376731301,
          92.86703601108033,
          95.92520775623268,
          98.96675900277008,
          101.99168975069252,
          105
         ],
         "mode": "lines",
         "name": "Middle East → Southeast Asia",
         "opacity": 0.7,
         "text": "Middle East → Southeast Asia: $33,486,319.98",
         "type": "scattergeo"
        },
        {
         "customdata": [
          {
           "amount": 141682.11,
           "normalized_amount": 0.0029289698230476444,
           "receiver": "Africa",
           "sender": "North America"
          }
         ],
         "hoverinfo": "text",
         "lat": [
          40,
          39.091412742382275,
          38.04986149584487,
          36.87534626038781,
          35.56786703601108,
          34.12742382271469,
          32.554016620498615,
          30.847645429362878,
          29.00831024930748,
          27.036011080332415,
          24.930747922437675,
          22.69252077562327,
          20.3213296398892,
          17.817174515235457,
          15.18005540166205,
          12.409972299168974,
          9.506925207756236,
          6.470914127423822,
          3.3019390581717483,
          0
         ],
         "line": {
          "color": "rgba(0, 0, 254, 0.8)",
          "width": 1.0146448491152382
         },
         "lon": [
          -100,
          -93.2853185595568,
          -86.61495844875347,
          -79.98891966759001,
          -73.40720221606648,
          -66.86980609418285,
          -60.37673130193906,
          -53.92797783933517,
          -47.52354570637119,
          -41.163434903047104,
          -34.847645429362885,
          -28.576177285318558,
          -22.349030470914133,
          -16.16620498614958,
          -10.027700831024934,
          -3.933518005540165,
          2.1163434903047023,
          8.121883656509695,
          14.083102493074785,
          20
         ],
         "mode": "lines",
         "name": "North America → Africa",
         "opacity": 0.7,
         "text": "North America → Africa: $141,682.11",
         "type": "scattergeo"
        },
        {
         "customdata": [
          {
           "amount": 15268.33,
           "normalized_amount": 0.00030767977836021194,
           "receiver": "Caribbean",
           "sender": "North America"
          }
         ],
         "hoverinfo": "text",
         "lat": [
          40,
          39.196675900277015,
          38.365650969529085,
          37.506925207756225,
          36.62049861495845,
          35.70637119113574,
          34.76454293628809,
          33.79501385041551,
          32.797783933518005,
          31.772853185595572,
          30.720221606648202,
          29.639889196675902,
          28.53185595567867,
          27.396121883656512,
          26.23268698060942,
          25.041551246537395,
          23.822714681440445,
          22.576177285318558,
          21.301939058171744,
          20
         ],
         "line": {
          "color": "rgba(0, 0, 254, 0.8)",
          "width": 1.001538398891801
         },
         "lon": [
          -100,
          -98.48476454293629,
          -96.99168975069252,
          -95.52077562326868,
          -94.07202216066483,
          -92.6454293628809,
          -91.24099722991689,
          -89.85872576177285,
          -88.49861495844875,
          -87.16066481994461,
          -85.8448753462604,
          -84.55124653739611,
          -83.2797783933518,
          -82.03047091412742,
          -80.803324099723,
          -79.5983379501385,
          -78.41551246537395,
          -77.25484764542936,
          -76.1163434903047,
          -75
         ],
         "mode": "lines",
         "name": "North America → Caribbean",
         "opacity": 0.7,
         "text": "North America → Caribbean: $15,268.33",
         "type": "scattergeo"
        },
        {
         "customdata": [
          {
           "amount": 75222.33,
           "normalized_amount": 0.001550873545204225,
           "receiver": "Central Asia",
           "sender": "North America"
          }
         ],
         "hoverinfo": "text",
         "lat": [
          40,
          41.85872576177286,
          43.54016620498615,
          45.044321329639885,
          46.37119113573407,
          47.520775623268705,
          48.49307479224377,
          49.288088642659275,
          49.905817174515235,
          50.34626038781164,
          50.60941828254848,
          50.695290858725755,
          50.603878116343495,
          50.335180055401665,
          49.88919667590028,
          49.26592797783934,
          48.46537396121883,
          47.48753462603878,
          46.332409972299175,
          45
         ],
         "line": {
          "color": "rgba(0, 0, 254, 0.8)",
          "width": 1.0077543677260212
         },
         "lon": [
          -100,
          -91.62880886426593,
          -83.25207756232687,
          -74.8698060941828,
          -66.4819944598338,
          -58.0886426592798,
          -49.689750692520775,
          -41.285318559556785,
          -32.875346260387815,
          -24.459833795013864,
          -16.03878116343491,
          -7.612188365650969,
          0.8199445983379441,
          9.257617728531859,
          17.700831024930743,
          26.14958448753463,
          34.60387811634348,
          43.063711911357345,
          51.52908587257617,
          60
         ],
         "mode": "lines",
         "name": "North America → Central Asia",
         "opacity": 0.7,
         "text": "North America → Central Asia: $75,222.33",
         "type": "scattergeo"
        },
        {
         "customdata": [
          {
           "amount": 4646043.73,
           "normalized_amount": 0.09633048247600491,
           "receiver": "Europe",
           "sender": "North America"
          }
         ],
         "hoverinfo": "text",
         "lat": [
          40,
          41.62326869806094,
          43.124653739612185,
          44.50415512465373,
          45.7617728531856,
          46.897506925207765,
          47.91135734072022,
          48.803324099722985,
          49.573407202216075,
          50.22160664819945,
          50.747922437673125,
          51.152354570637115,
          51.43490304709141,
          51.59556786703601,
          51.634349030470915,
          51.551246537396125,
          51.34626038781163,
          51.019390581717445,
          50.57063711911358,
          50
         ],
         "line": {
          "color": "rgba(24, 0, 230, 0.8)",
          "width": 1.4816524123800245
         },
         "lon": [
          -100,
          -94.31024930747924,
          -88.60941828254848,
          -82.89750692520775,
          -77.17451523545706,
          -71.44044321329642,
          -65.69529085872577,
          -59.939058171745145,
          -54.171745152354575,
          -48.39335180055403,
          -42.603878116343495,
          -36.803324099722985,
          -30.991689750692526,
          -25.168975069252078,
          -19.33518005540167,
          -13.490304709141274,
          -7.634349030470921,
          -1.7673130193905813,
          4.110803324099716,
          10
         ],
         "mode": "lines",
         "name": "North America → Europe",
         "opacity": 0.7,
         "text": "North America → Europe: $4,646,043.73",
         "type": "scattergeo"
        },
        {
         "customdata": [
          {
           "amount": 10590745.35,
           "normalized_amount": 0.21959858801911306,
           "receiver": "Middle East",
           "sender": "North America"
          }
         ],
         "hoverinfo": "text",
         "lat": [
          40,
          40.656509695290865,
          41.152354570637115,
          41.48753462603877,
          41.662049861495845,
          41.67590027700831,
          41.52908587257618,
          41.22160664819944,
          40.75346260387812,
          40.12465373961219,
          39.335180055401665,
          38.38504155124654,
          37.27423822714682,
          36.0027700831025,
          34.57063711911357,
          32.97783933518006,
          31.22437673130194,
          29.31024930747922,
          27.235457063711912,
          25
         ],
         "line": {
          "color": "rgba(55, 0, 199, 0.8)",
          "width": 2.0979929400955655
         },
         "lon": [
          -100,
          -92.21883656509696,
          -84.45429362880886,
          -76.70637119113573,
          -68.97506925207756,
          -61.26038781163437,
          -53.5623268698061,
          -45.880886426592795,
          -38.21606648199446,
          -30.567867036011094,
          -22.936288088642662,
          -15.321329639889193,
          -7.722991689750696,
          -0.1412742382271439,
          7.423822714681435,
          14.97229916897507,
          22.504155124653728,
          30.019390581717452,
          37.5180055401662,
          45
         ],
         "mode": "lines",
         "name": "North America → Middle East",
         "opacity": 0.7,
         "text": "North America → Middle East: $10,590,745.35",
         "type": "scattergeo"
        },
        {
         "customdata": [
          {
           "amount": 24455.74,
           "normalized_amount": 0.0004981880154326401,
           "receiver": "South Asia",
           "sender": "North America"
          }
         ],
         "hoverinfo": "text",
         "lat": [
          40,
          41.00554016620499,
          41.81163434903047,
          42.41828254847645,
          42.825484764542935,
          43.033240997229925,
          43.041551246537395,
          42.85041551246537,
          42.45983379501385,
          41.86980609418283,
          41.0803324099723,
          40.091412742382275,
          38.903047091412745,
          37.51523545706371,
          35.92797783933518,
          34.14127423822715,
          32.15512465373961,
          29.969529085872573,
          27.584487534626042,
          25
         ],
         "line": {
          "color": "rgba(0, 0, 254, 0.8)",
          "width": 1.002490940077163
         },
         "lon": [
          -100,
          -90.37673130193907,
          -80.77008310249306,
          -71.18005540166203,
          -61.60664819944599,
          -52.049861495844894,
          -42.50969529085873,
          -32.98614958448753,
          -23.479224376731302,
          -13.988919667590043,
          -4.515235457063714,
          4.94182825484765,
          14.382271468144037,
          23.806094182825486,
          33.21329639889196,
          42.603878116343495,
          51.97783933518004,
          61.33518005540166,
          70.6759002770083,
          80
         ],
         "mode": "lines",
         "name": "North America → South Asia",
         "opacity": 0.7,
         "text": "North America → South Asia: $24,455.74",
         "type": "scattergeo"
        },
        {
         "customdata": [
          {
           "amount": 1916410.02,
           "normalized_amount": 0.039729361382511603,
           "receiver": "Southeast Asia",
           "sender": "North America"
          }
         ],
         "hoverinfo": "text",
         "lat": [
          40,
          40.465373961218845,
          40.70360110803323,
          40.71468144044321,
          40.498614958448755,
          40.05540166204986,
          39.385041551246545,
          38.48753462603878,
          37.362880886426595,
          36.011080332409975,
          34.43213296398892,
          32.62603878116344,
          30.592797783933523,
          28.33240997229917,
          25.844875346260388,
          23.130193905817176,
          20.188365650969534,
          17.01939058171745,
          13.623268698060944,
          10
         ],
         "line": {
          "color": "rgba(10, 0, 244, 0.8)",
          "width": 1.198646806912558
         },
         "lon": [
          -100,
          -88.91135734072022,
          -77.85595567867036,
          -66.8337950138504,
          -55.84487534626039,
          -44.889196675900294,
          -33.96675900277009,
          -23.077562326869803,
          -12.221606648199451,
          -1.3988919667590132,
          9.390581717451518,
          20.14681440443214,
          30.869806094182813,
          41.5595567867036,
          52.216066481994446,
          62.83933518005541,
          73.42936288088642,
          83.98614958448753,
          94.50969529085872,
          105
         ],
         "mode": "lines",
         "name": "North America → Southeast Asia",
         "opacity": 0.7,
         "text": "North America → Southeast Asia: $1,916,410.02",
         "type": "scattergeo"
        },
        {
         "customdata": [
          {
           "amount": 1395.73,
           "normalized_amount": 0.000020020408678118132,
           "receiver": "Europe",
           "sender": "South Asia"
          }
         ],
         "hoverinfo": "text",
         "lat": [
          25,
          25.617728531855956,
          26.313019390581715,
          27.085872576177284,
          27.936288088642662,
          28.864265927977844,
          29.869806094182827,
          30.95290858725761,
          32.11357340720222,
          33.35180055401662,
          34.667590027700825,
          36.06094182825485,
          37.531855955678665,
          39.0803324099723,
          40.70637119113573,
          42.40997229916898,
          44.19113573407202,
          46.04986149584487,
          47.986149584487535,
          50
         ],
         "line": {
          "color": "rgba(0, 0, 254, 0.8)",
          "width": 1.0001001020433906
         },
         "lon": [
          80,
          76.06648199445985,
          72.16066481994459,
          68.28254847645428,
          64.43213296398892,
          60.60941828254849,
          56.81440443213297,
          53.04709141274238,
          49.307479224376735,
          45.59556786703602,
          41.91135734072023,
          38.25484764542936,
          34.62603878116344,
          31.024930747922436,
          27.451523545706372,
          23.905817174515235,
          20.38781163434903,
          16.897506925207757,
          13.434903047091414,
          10
         ],
         "mode": "lines",
         "name": "South Asia → Europe",
         "opacity": 0.7,
         "text": "South Asia → Europe: $1,395.73",
         "type": "scattergeo"
        },
        {
         "customdata": [
          {
           "amount": 5440545.04,
           "normalized_amount": 0.112805097619972,
           "receiver": "Middle East",
           "sender": "South Asia"
          }
         ],
         "hoverinfo": "text",
         "lat": [
          25,
          24.650969529085874,
          24.340720221606645,
          24.06925207756232,
          23.83656509695291,
          23.642659279778396,
          23.48753462603878,
          23.37119113573407,
          23.293628808864266,
          23.254847645429365,
          23.254847645429365,
          23.293628808864263,
          23.371191135734072,
          23.48753462603878,
          23.642659279778393,
          23.83656509695291,
          24.069252077562325,
          24.340720221606645,
          24.650969529085874,
          25
         ],
         "line": {
          "color": "rgba(28, 0, 226, 0.8)",
          "width": 1.56402548809986
         },
         "lon": [
          80,
          78.15789473684211,
          76.3157894736842,
          74.4736842105263,
          72.63157894736842,
          70.78947368421055,
          68.94736842105263,
          67.10526315789473,
          65.26315789473685,
          63.42105263157896,
          61.57894736842106,
          59.736842105263165,
          57.89473684210526,
          56.05263157894737,
          54.21052631578947,
          52.368421052631575,
          50.526315789473685,
          48.684210526315795,
          46.8421052631579,
          45
         ],
         "mode": "lines",
         "name": "South Asia → Middle East",
         "opacity": 0.7,
         "text": "South Asia → Middle East: $5,440,545.04",
         "type": "scattergeo"
        },
        {
         "customdata": [
          {
           "amount": 364325.32,
           "normalized_amount": 0.007545653462206711,
           "receiver": "North America",
           "sender": "South Asia"
          }
         ],
         "hoverinfo": "text",
         "lat": [
          25,
          23.994459833795016,
          23.188365650969526,
          22.58171745152354,
          22.174515235457065,
          21.96675900277009,
          21.958448753462605,
          22.149584487534625,
          22.54016620498615,
          23.130193905817176,
          23.9196675900277,
          24.90858725761773,
          26.096952908587255,
          27.48476454293629,
          29.07202216066482,
          30.858725761772856,
          32.84487534626039,
          35.03047091412742,
          37.41551246537395,
          40
         ],
         "line": {
          "color": "rgba(1, 0, 253, 0.8)",
          "width": 1.0377282673110335
         },
         "lon": [
          80,
          70.37673130193907,
          60.77008310249307,
          51.18005540166204,
          41.606648199445985,
          32.04986149584489,
          22.50969529085873,
          12.986149584487535,
          3.479224376731306,
          -6.011080332409964,
          -15.48476454293628,
          -24.94182825484765,
          -34.38227146814404,
          -43.80609418282549,
          -53.213296398891956,
          -62.603878116343495,
          -71.97783933518005,
          -81.33518005540166,
          -90.67590027700831,
          -100
         ],
         "mode": "lines",
         "name": "South Asia → North America",
         "opacity": 0.7,
         "text": "South Asia → North America: $364,325.32",
         "type": "scattergeo"
        },
        {
         "customdata": [
          {
           "amount": 3003.48,
           "normalized_amount": 0.00005335838076744431,
           "receiver": "Southeast Asia",
           "sender": "South Asia"
          }
         ],
         "hoverinfo": "text",
         "lat": [
          25,
          24.45983379501385,
          23.89196675900277,
          23.296398891966756,
          22.673130193905816,
          22.02216066481995,
          21.34349030470914,
          20.637119113573405,
          19.90304709141274,
          19.141274238227147,
          18.35180055401662,
          17.534626038781163,
          16.68975069252078,
          15.817174515235457,
          14.916897506925208,
          13.988919667590029,
          13.033240997229917,
          12.049861495844874,
          11.038781163434903,
          10
         ],
         "line": {
          "color": "rgba(0, 0, 254, 0.8)",
          "width": 1.0002667919038373
         },
         "lon": [
          80,
          81.46537396121886,
          82.9141274238227,
          84.34626038781163,
          85.76177285318559,
          87.1606648199446,
          88.54293628808865,
          89.90858725761771,
          91.25761772853186,
          92.59002770083103,
          93.90581717451524,
          95.2049861495845,
          96.48753462603878,
          97.75346260387812,
          99.00277008310249,
          100.23545706371192,
          101.45152354570637,
          102.65096952908587,
          103.83379501385042,
          105
         ],
         "mode": "lines",
         "name": "South Asia → Southeast Asia",
         "opacity": 0.7,
         "text": "South Asia → Southeast Asia: $3,003.48",
         "type": "scattergeo"
        },
        {
         "customdata": [
          {
           "amount": 151674.24,
           "normalized_amount": 0.0031361645679102903,
           "receiver": "Africa",
           "sender": "Southeast Asia"
          }
         ],
         "hoverinfo": "text",
         "lat": [
          10,
          8.626038781163436,
          7.346260387811634,
          6.160664819944597,
          5.069252077562327,
          4.0720221606648215,
          3.1689750692520775,
          2.3601108033240994,
          1.6454293628808867,
          1.024930747922438,
          0.4986149584487538,
          0.06648199445983338,
          -0.27146814404432096,
          -0.515235457063712,
          -0.6648199445983379,
          -0.7202216066481995,
          -0.6814404432132964,
          -0.5484764542936288,
          -0.32132963988919694,
          0
         ],
         "line": {
          "color": "rgba(0, 0, 254, 0.8)",
          "width": 1.0156808228395515
         },
         "lon": [
          105,
          100.62603878116344,
          96.24099722991689,
          91.84487534626037,
          87.43767313019391,
          83.01939058171746,
          78.59002770083103,
          74.14958448753463,
          69.69806094182826,
          65.23545706371192,
          60.7617728531856,
          56.2770083102493,
          51.78116343490305,
          47.27423822714681,
          42.75623268698061,
          38.227146814404435,
          33.686980609418285,
          29.13573407202216,
          24.573407202216067,
          20
         ],
         "mode": "lines",
         "name": "Southeast Asia → Africa",
         "opacity": 0.7,
         "text": "Southeast Asia → Africa: $151,674.24",
         "type": "scattergeo"
        },
        {
         "customdata": [
          {
           "amount": 64302,
           "normalized_amount": 0.001324431836763092,
           "receiver": "Europe",
           "sender": "Southeast Asia"
          }
         ],
         "hoverinfo": "text",
         "lat": [
          10,
          11.157894736842106,
          12.421052631578947,
          13.789473684210524,
          15.263157894736842,
          16.842105263157897,
          18.526315789473685,
          20.315789473684205,
          22.210526315789473,
          24.210526315789473,
          26.31578947368421,
          28.526315789473685,
          30.842105263157894,
          33.26315789473684,
          35.78947368421052,
          38.42105263157895,
          41.1578947368421,
          44,
          46.94736842105263,
          50
         ],
         "line": {
          "color": "rgba(0, 0, 254, 0.8)",
          "width": 1.0066221591838154
         },
         "lon": [
          105,
          99.601108033241,
          94.24653739612188,
          88.93628808864264,
          83.67036011080333,
          78.44875346260389,
          73.27146814404432,
          68.13850415512464,
          63.04986149584488,
          58.005540166204995,
          53.00554016620499,
          48.04986149584487,
          43.13850415512466,
          38.27146814404432,
          33.44875346260388,
          28.670360110803323,
          23.936288088642666,
          19.24653739612188,
          14.601108033241001,
          10
         ],
         "mode": "lines",
         "name": "Southeast Asia → Europe",
         "opacity": 0.7,
         "text": "Southeast Asia → Europe: $64,302.00",
         "type": "scattergeo"
        },
        {
         "customdata": [
          {
           "amount": 1041574.22,
           "normalized_amount": 0.0215889468384946,
           "receiver": "Middle East",
           "sender": "Southeast Asia"
          }
         ],
         "hoverinfo": "text",
         "lat": [
          10,
          10.191135734072024,
          10.448753462603877,
          10.772853185595567,
          11.163434903047092,
          11.620498614958452,
          12.144044321329641,
          12.734072022160664,
          13.390581717451525,
          14.113573407202217,
          14.903047091412741,
          15.759002770083104,
          16.681440443213297,
          17.670360110803326,
          18.725761772853183,
          19.84764542936288,
          21.036011080332408,
          22.290858725761773,
          23.61218836565097,
          25
         ],
         "line": {
          "color": "rgba(5, 0, 249, 0.8)",
          "width": 1.107944734192473
         },
         "lon": [
          105,
          101.69252077562327,
          98.40166204986149,
          95.12742382271466,
          91.86980609418283,
          88.62880886426595,
          85.40443213296399,
          82.196675900277,
          79.00554016620498,
          75.83102493074794,
          72.67313019390582,
          69.53185595567867,
          66.40720221606648,
          63.29916897506925,
          60.20775623268699,
          57.13296398891967,
          54.07479224376731,
          51.03324099722992,
          48.008310249307485,
          45
         ],
         "mode": "lines",
         "name": "Southeast Asia → Middle East",
         "opacity": 0.7,
         "text": "Southeast Asia → Middle East: $1,041,574.22",
         "type": "scattergeo"
        }
       ],
       "layout": {
        "geo": {
         "coastlinecolor": "Black",
         "countrycolor": "Black",
         "lakecolor": "Blue",
         "landcolor": "LightGreen",
         "oceancolor": "LightBlue",
         "projection": {
          "type": "natural earth"
         },
         "rivercolor": "Blue",
         "showcoastlines": true,
         "showcountries": true,
         "showframe": false,
         "showlakes": true,
         "showland": true,
         "showocean": true,
         "showrivers": true
        },
        "height": 600,
        "showlegend": false,
        "template": {
         "data": {
          "bar": [
           {
            "error_x": {
             "color": "#2a3f5f"
            },
            "error_y": {
             "color": "#2a3f5f"
            },
            "marker": {
             "line": {
              "color": "#E5ECF6",
              "width": 0.5
             },
             "pattern": {
              "fillmode": "overlay",
              "size": 10,
              "solidity": 0.2
             }
            },
            "type": "bar"
           }
          ],
          "barpolar": [
           {
            "marker": {
             "line": {
              "color": "#E5ECF6",
              "width": 0.5
             },
             "pattern": {
              "fillmode": "overlay",
              "size": 10,
              "solidity": 0.2
             }
            },
            "type": "barpolar"
           }
          ],
          "carpet": [
           {
            "aaxis": {
             "endlinecolor": "#2a3f5f",
             "gridcolor": "white",
             "linecolor": "white",
             "minorgridcolor": "white",
             "startlinecolor": "#2a3f5f"
            },
            "baxis": {
             "endlinecolor": "#2a3f5f",
             "gridcolor": "white",
             "linecolor": "white",
             "minorgridcolor": "white",
             "startlinecolor": "#2a3f5f"
            },
            "type": "carpet"
           }
          ],
          "choropleth": [
           {
            "colorbar": {
             "outlinewidth": 0,
             "ticks": ""
            },
            "type": "choropleth"
           }
          ],
          "contour": [
           {
            "colorbar": {
             "outlinewidth": 0,
             "ticks": ""
            },
            "colorscale": [
             [
              0,
              "#0d0887"
             ],
             [
              0.1111111111111111,
              "#46039f"
             ],
             [
              0.2222222222222222,
              "#7201a8"
             ],
             [
              0.3333333333333333,
              "#9c179e"
             ],
             [
              0.4444444444444444,
              "#bd3786"
             ],
             [
              0.5555555555555556,
              "#d8576b"
             ],
             [
              0.6666666666666666,
              "#ed7953"
             ],
             [
              0.7777777777777778,
              "#fb9f3a"
             ],
             [
              0.8888888888888888,
              "#fdca26"
             ],
             [
              1,
              "#f0f921"
             ]
            ],
            "type": "contour"
           }
          ],
          "contourcarpet": [
           {
            "colorbar": {
             "outlinewidth": 0,
             "ticks": ""
            },
            "type": "contourcarpet"
           }
          ],
          "heatmap": [
           {
            "colorbar": {
             "outlinewidth": 0,
             "ticks": ""
            },
            "colorscale": [
             [
              0,
              "#0d0887"
             ],
             [
              0.1111111111111111,
              "#46039f"
             ],
             [
              0.2222222222222222,
              "#7201a8"
             ],
             [
              0.3333333333333333,
              "#9c179e"
             ],
             [
              0.4444444444444444,
              "#bd3786"
             ],
             [
              0.5555555555555556,
              "#d8576b"
             ],
             [
              0.6666666666666666,
              "#ed7953"
             ],
             [
              0.7777777777777778,
              "#fb9f3a"
             ],
             [
              0.8888888888888888,
              "#fdca26"
             ],
             [
              1,
              "#f0f921"
             ]
            ],
            "type": "heatmap"
           }
          ],
          "histogram": [
           {
            "marker": {
             "pattern": {
              "fillmode": "overlay",
              "size": 10,
              "solidity": 0.2
             }
            },
            "type": "histogram"
           }
          ],
          "histogram2d": [
           {
            "colorbar": {
             "outlinewidth": 0,
             "ticks": ""
            },
            "colorscale": [
             [
              0,
              "#0d0887"
             ],
             [
              0.1111111111111111,
              "#46039f"
             ],
             [
              0.2222222222222222,
              "#7201a8"
             ],
             [
              0.3333333333333333,
              "#9c179e"
             ],
             [
              0.4444444444444444,
              "#bd3786"
             ],
             [
              0.5555555555555556,
              "#d8576b"
             ],
             [
              0.6666666666666666,
              "#ed7953"
             ],
             [
              0.7777777777777778,
              "#fb9f3a"
             ],
             [
              0.8888888888888888,
              "#fdca26"
             ],
             [
              1,
              "#f0f921"
             ]
            ],
            "type": "histogram2d"
           }
          ],
          "histogram2dcontour": [
           {
            "colorbar": {
             "outlinewidth": 0,
             "ticks": ""
            },
            "colorscale": [
             [
              0,
              "#0d0887"
             ],
             [
              0.1111111111111111,
              "#46039f"
             ],
             [
              0.2222222222222222,
              "#7201a8"
             ],
             [
              0.3333333333333333,
              "#9c179e"
             ],
             [
              0.4444444444444444,
              "#bd3786"
             ],
             [
              0.5555555555555556,
              "#d8576b"
             ],
             [
              0.6666666666666666,
              "#ed7953"
             ],
             [
              0.7777777777777778,
              "#fb9f3a"
             ],
             [
              0.8888888888888888,
              "#fdca26"
             ],
             [
              1,
              "#f0f921"
             ]
            ],
            "type": "histogram2dcontour"
           }
          ],
          "mesh3d": [
           {
            "colorbar": {
             "outlinewidth": 0,
             "ticks": ""
            },
            "type": "mesh3d"
           }
          ],
          "parcoords": [
           {
            "line": {
             "colorbar": {
              "outlinewidth": 0,
              "ticks": ""
             }
            },
            "type": "parcoords"
           }
          ],
          "pie": [
           {
            "automargin": true,
            "type": "pie"
           }
          ],
          "scatter": [
           {
            "fillpattern": {
             "fillmode": "overlay",
             "size": 10,
             "solidity": 0.2
            },
            "type": "scatter"
           }
          ],
          "scatter3d": [
           {
            "line": {
             "colorbar": {
              "outlinewidth": 0,
              "ticks": ""
             }
            },
            "marker": {
             "colorbar": {
              "outlinewidth": 0,
              "ticks": ""
             }
            },
            "type": "scatter3d"
           }
          ],
          "scattercarpet": [
           {
            "marker": {
             "colorbar": {
              "outlinewidth": 0,
              "ticks": ""
             }
            },
            "type": "scattercarpet"
           }
          ],
          "scattergeo": [
           {
            "marker": {
             "colorbar": {
              "outlinewidth": 0,
              "ticks": ""
             }
            },
            "type": "scattergeo"
           }
          ],
          "scattergl": [
           {
            "marker": {
             "colorbar": {
              "outlinewidth": 0,
              "ticks": ""
             }
            },
            "type": "scattergl"
           }
          ],
          "scattermap": [
           {
            "marker": {
             "colorbar": {
              "outlinewidth": 0,
              "ticks": ""
             }
            },
            "type": "scattermap"
           }
          ],
          "scattermapbox": [
           {
            "marker": {
             "colorbar": {
              "outlinewidth": 0,
              "ticks": ""
             }
            },
            "type": "scattermapbox"
           }
          ],
          "scatterpolar": [
           {
            "marker": {
             "colorbar": {
              "outlinewidth": 0,
              "ticks": ""
             }
            },
            "type": "scatterpolar"
           }
          ],
          "scatterpolargl": [
           {
            "marker": {
             "colorbar": {
              "outlinewidth": 0,
              "ticks": ""
             }
            },
            "type": "scatterpolargl"
           }
          ],
          "scatterternary": [
           {
            "marker": {
             "colorbar": {
              "outlinewidth": 0,
              "ticks": ""
             }
            },
            "type": "scatterternary"
           }
          ],
          "surface": [
           {
            "colorbar": {
             "outlinewidth": 0,
             "ticks": ""
            },
            "colorscale": [
             [
              0,
              "#0d0887"
             ],
             [
              0.1111111111111111,
              "#46039f"
             ],
             [
              0.2222222222222222,
              "#7201a8"
             ],
             [
              0.3333333333333333,
              "#9c179e"
             ],
             [
              0.4444444444444444,
              "#bd3786"
             ],
             [
              0.5555555555555556,
              "#d8576b"
             ],
             [
              0.6666666666666666,
              "#ed7953"
             ],
             [
              0.7777777777777778,
              "#fb9f3a"
             ],
             [
              0.8888888888888888,
              "#fdca26"
             ],
             [
              1,
              "#f0f921"
             ]
            ],
            "type": "surface"
           }
          ],
          "table": [
           {
            "cells": {
             "fill": {
              "color": "#EBF0F8"
             },
             "line": {
              "color": "white"
             }
            },
            "header": {
             "fill": {
              "color": "#C8D4E3"
             },
             "line": {
              "color": "white"
             }
            },
            "type": "table"
           }
          ]
         },
         "layout": {
          "annotationdefaults": {
           "arrowcolor": "#2a3f5f",
           "arrowhead": 0,
           "arrowwidth": 1
          },
          "autotypenumbers": "strict",
          "coloraxis": {
           "colorbar": {
            "outlinewidth": 0,
            "ticks": ""
           }
          },
          "colorscale": {
           "diverging": [
            [
             0,
             "#8e0152"
            ],
            [
             0.1,
             "#c51b7d"
            ],
            [
             0.2,
             "#de77ae"
            ],
            [
             0.3,
             "#f1b6da"
            ],
            [
             0.4,
             "#fde0ef"
            ],
            [
             0.5,
             "#f7f7f7"
            ],
            [
             0.6,
             "#e6f5d0"
            ],
            [
             0.7,
             "#b8e186"
            ],
            [
             0.8,
             "#7fbc41"
            ],
            [
             0.9,
             "#4d9221"
            ],
            [
             1,
             "#276419"
            ]
           ],
           "sequential": [
            [
             0,
             "#0d0887"
            ],
            [
             0.1111111111111111,
             "#46039f"
            ],
            [
             0.2222222222222222,
             "#7201a8"
            ],
            [
             0.3333333333333333,
             "#9c179e"
            ],
            [
             0.4444444444444444,
             "#bd3786"
            ],
            [
             0.5555555555555556,
             "#d8576b"
            ],
            [
             0.6666666666666666,
             "#ed7953"
            ],
            [
             0.7777777777777778,
             "#fb9f3a"
            ],
            [
             0.8888888888888888,
             "#fdca26"
            ],
            [
             1,
             "#f0f921"
            ]
           ],
           "sequentialminus": [
            [
             0,
             "#0d0887"
            ],
            [
             0.1111111111111111,
             "#46039f"
            ],
            [
             0.2222222222222222,
             "#7201a8"
            ],
            [
             0.3333333333333333,
             "#9c179e"
            ],
            [
             0.4444444444444444,
             "#bd3786"
            ],
            [
             0.5555555555555556,
             "#d8576b"
            ],
            [
             0.6666666666666666,
             "#ed7953"
            ],
            [
             0.7777777777777778,
             "#fb9f3a"
            ],
            [
             0.8888888888888888,
             "#fdca26"
            ],
            [
             1,
             "#f0f921"
            ]
           ]
          },
          "colorway": [
           "#636efa",
           "#EF553B",
           "#00cc96",
           "#ab63fa",
           "#FFA15A",
           "#19d3f3",
           "#FF6692",
           "#B6E880",
           "#FF97FF",
           "#FECB52"
          ],
          "font": {
           "color": "#2a3f5f"
          },
          "geo": {
           "bgcolor": "white",
           "lakecolor": "white",
           "landcolor": "#E5ECF6",
           "showlakes": true,
           "showland": true,
           "subunitcolor": "white"
          },
          "hoverlabel": {
           "align": "left"
          },
          "hovermode": "closest",
          "mapbox": {
           "style": "light"
          },
          "paper_bgcolor": "white",
          "plot_bgcolor": "#E5ECF6",
          "polar": {
           "angularaxis": {
            "gridcolor": "white",
            "linecolor": "white",
            "ticks": ""
           },
           "bgcolor": "#E5ECF6",
           "radialaxis": {
            "gridcolor": "white",
            "linecolor": "white",
            "ticks": ""
           }
          },
          "scene": {
           "xaxis": {
            "backgroundcolor": "#E5ECF6",
            "gridcolor": "white",
            "gridwidth": 2,
            "linecolor": "white",
            "showbackground": true,
            "ticks": "",
            "zerolinecolor": "white"
           },
           "yaxis": {
            "backgroundcolor": "#E5ECF6",
            "gridcolor": "white",
            "gridwidth": 2,
            "linecolor": "white",
            "showbackground": true,
            "ticks": "",
            "zerolinecolor": "white"
           },
           "zaxis": {
            "backgroundcolor": "#E5ECF6",
            "gridcolor": "white",
            "gridwidth": 2,
            "linecolor": "white",
            "showbackground": true,
            "ticks": "",
            "zerolinecolor": "white"
           }
          },
          "shapedefaults": {
           "line": {
            "color": "#2a3f5f"
           }
          },
          "ternary": {
           "aaxis": {
            "gridcolor": "white",
            "linecolor": "white",
            "ticks": ""
           },
           "baxis": {
            "gridcolor": "white",
            "linecolor": "white",
            "ticks": ""
           },
           "bgcolor": "#E5ECF6",
           "caxis": {
            "gridcolor": "white",
            "linecolor": "white",
            "ticks": ""
           }
          },
          "title": {
           "x": 0.05
          },
          "xaxis": {
           "automargin": true,
           "gridcolor": "white",
           "linecolor": "white",
           "ticks": "",
           "title": {
            "standoff": 15
           },
           "zerolinecolor": "white",
           "zerolinewidth": 2
          },
          "yaxis": {
           "automargin": true,
           "gridcolor": "white",
           "linecolor": "white",
           "ticks": "",
           "title": {
            "standoff": 15
           },
           "zerolinecolor": "white",
           "zerolinewidth": 2
          }
         }
        },
        "title": {
         "text": "Global Banking Transaction Flows"
        }
       }
      }
     },
     "metadata": {},
     "output_type": "display_data"
    },
    {
     "data": {
      "application/vnd.jupyter.widget-view+json": {
       "model_id": "d8c9d83f75d7489d80bbe7fbfaf2512a",
       "version_major": 2,
       "version_minor": 0
      },
      "text/plain": [
       "VBox(children=(HTML(value=\"<h2 style='color: #333;'>Banking Flows Analysis Dashboard</h2>\"), HTML(value=\"<p st…"
      ]
     },
     "metadata": {},
     "output_type": "display_data"
    },
    {
     "data": {
      "application/vnd.plotly.v1+json": {
       "config": {
        "plotlyServerURL": "https://plot.ly"
       },
       "data": [
        {
         "hoverinfo": "none",
         "lat": [],
         "lon": [],
         "marker": {
          "color": "rgba(0,0,0,0)",
          "size": 1
         },
         "mode": "markers",
         "showlegend": false,
         "type": "scattergeo"
        },
        {
         "hoverinfo": "text",
         "lat": [
          0,
          40,
          20,
          25,
          50,
          45,
          10,
          25
         ],
         "lon": [
          20,
          -100,
          -75,
          80,
          10,
          60,
          105,
          45
         ],
         "marker": {
          "color": "blue",
          "line": {
           "color": "black",
           "width": 1
          },
          "size": 10
         },
         "mode": "markers+text",
         "name": "Regions",
         "text": [
          "Africa",
          "North America",
          "Caribbean",
          "South Asia",
          "Europe",
          "Central Asia",
          "Southeast Asia",
          "Middle East"
         ],
         "textposition": "top center",
         "type": "scattergeo"
        },
        {
         "customdata": [
          {
           "amount": 11075.75,
           "normalized_amount": 0.0002207433050140654,
           "receiver": "Central Asia",
           "sender": "Africa"
          }
         ],
         "hoverinfo": "text",
         "lat": [
          0,
          2.7673130193905817,
          5.490304709141274,
          8.168975069252078,
          10.803324099722992,
          13.393351800554017,
          15.939058171745152,
          18.440443213296398,
          20.897506925207757,
          23.310249307479225,
          25.6786703601108,
          28.002770083102497,
          30.282548476454295,
          32.51800554016621,
          34.70914127423822,
          36.85595567867036,
          38.9584487534626,
          41.01662049861496,
          43.03047091412742,
          45
         ],
         "line": {
          "color": "rgba(0, 0, 254, 0.8)",
          "width": 1.0011037165250702
         },
         "lon": [
          20,
          21.65650969529086,
          23.36288088642659,
          25.1191135734072,
          26.925207756232687,
          28.78116343490305,
          30.68698060941828,
          32.64265927977839,
          34.64819944598338,
          36.70360110803324,
          38.80886426592798,
          40.963988919667585,
          43.16897506925208,
          45.42382271468144,
          47.72853185595568,
          50.0831024930748,
          52.48753462603877,
          54.94182825484764,
          57.445983379501385,
          60
         ],
         "mode": "lines",
         "name": "Africa → Central Asia",
         "opacity": 0.7,
         "text": "Africa → Central Asia: $11,075.75",
         "type": "scattergeo"
        },
        {
         "customdata": [
          {
           "amount": 66831.14,
           "normalized_amount": 0.0013768755616767904,
           "receiver": "Europe",
           "sender": "Africa"
          }
         ],
         "hoverinfo": "text",
         "lat": [
          0,
          2.5318559556786706,
          5.0747922437673125,
          7.6288088642659275,
          10.193905817174516,
          12.770083102493075,
          15.357340720221607,
          17.955678670360108,
          20.565096952908586,
          23.185595567867036,
          25.817174515235454,
          28.45983379501385,
          31.113573407202214,
          33.77839335180056,
          36.454293628808855,
          39.14127423822715,
          41.8393351800554,
          44.54847645429363,
          47.26869806094183,
          50
         ],
         "line": {
          "color": "rgba(0, 0, 254, 0.8)",
          "width": 1.006884377808384
         },
         "lon": [
          20,
          18.975069252077564,
          18.005540166204984,
          17.091412742382268,
          16.23268698060942,
          15.42936288088643,
          14.681440443213296,
          13.988919667590025,
          13.35180055401662,
          12.770083102493075,
          12.243767313019392,
          11.772853185595569,
          11.357340720221607,
          10.997229916897506,
          10.692520775623269,
          10.443213296398891,
          10.249307479224377,
          10.110803324099722,
          10.02770083102493,
          10
         ],
         "mode": "lines",
         "name": "Africa → Europe",
         "opacity": 0.7,
         "text": "Africa → Europe: $66,831.14",
         "type": "scattergeo"
        },
        {
         "customdata": [
          {
           "amount": 4794660.58,
           "normalized_amount": 0.09941217079651717,
           "receiver": "Middle East",
           "sender": "Africa"
          }
         ],
         "hoverinfo": "text",
         "lat": [
          0,
          1.5650969529085874,
          3.1024930747922435,
          4.612188365650969,
          6.094182825484764,
          7.548476454293629,
          8.975069252077562,
          10.373961218836563,
          11.745152354570637,
          13.08864265927978,
          14.404432132963988,
          15.692520775623269,
          16.952908587257618,
          18.185595567867036,
          19.39058171745152,
          20.56786703601108,
          21.717451523545705,
          22.8393351800554,
          23.933518005540165,
          25
         ],
         "line": {
          "color": "rgba(25, 0, 229, 0.8)",
          "width": 1.4970608539825858
         },
         "lon": [
          20,
          21.06648199445984,
          22.1606648199446,
          23.282548476454288,
          24.43213296398892,
          25.60941828254848,
          26.81440443213296,
          28.04709141274238,
          29.30747922437673,
          30.595567867036017,
          31.911357340720222,
          33.254847645429365,
          34.62603878116343,
          36.02493074792244,
          37.451523545706365,
          38.905817174515235,
          40.38781163434903,
          41.89750692520776,
          43.43490304709141,
          45
         ],
         "mode": "lines",
         "name": "Africa → Middle East",
         "opacity": 0.7,
         "text": "Africa → Middle East: $4,794,660.58",
         "type": "scattergeo"
        },
        {
         "customdata": [
          {
           "amount": 70924.29,
           "normalized_amount": 0.0014617502750696844,
           "receiver": "North America",
           "sender": "Africa"
          }
         ],
         "hoverinfo": "text",
         "lat": [
          0,
          0.9085872576177285,
          1.9501385041551245,
          3.124653739612188,
          4.432132963988919,
          5.872576177285318,
          7.445983379501385,
          9.152354570637119,
          10.991689750692519,
          12.963988919667589,
          15.069252077562325,
          17.307479224376735,
          19.6786703601108,
          22.182825484764543,
          24.819944598337948,
          27.590027700831026,
          30.493074792243764,
          33.529085872576175,
          36.698060941828246,
          40
         ],
         "line": {
          "color": "rgba(0, 0, 254, 0.8)",
          "width": 1.0073087513753485
         },
         "lon": [
          20,
          13.285318559556789,
          6.6149584487534625,
          -0.011080332409972637,
          -6.5927977839335155,
          -13.13019390581717,
          -19.62326869806094,
          -26.072022160664815,
          -32.476454293628805,
          -38.83656509695291,
          -45.152354570637115,
          -51.42382271468145,
          -57.65096952908587,
          -63.83379501385042,
          -69.97229916897506,
          -76.06648199445983,
          -82.1163434903047,
          -88.1218836565097,
          -94.08310249307479,
          -100
         ],
         "mode": "lines",
         "name": "Africa → North America",
         "opacity": 0.7,
         "text": "Africa → North America: $70,924.29",
         "type": "scattergeo"
        },
        {
         "customdata": [
          {
           "amount": 200398.21999999997,
           "normalized_amount": 0.004146494958406876,
           "receiver": "South Asia",
           "sender": "Africa"
          }
         ],
         "hoverinfo": "text",
         "lat": [
          0,
          1.9141274238227148,
          3.761772853185595,
          5.542936288088642,
          7.257617728531856,
          8.905817174515235,
          10.48753462603878,
          12.00277008310249,
          13.451523545706372,
          14.833795013850416,
          16.149584487534625,
          17.398891966759003,
          18.581717451523545,
          19.698060941828256,
          20.74792243767313,
          21.731301939058174,
          22.64819944598338,
          23.49861495844875,
          24.282548476454295,
          25
         ],
         "line": {
          "color": "rgba(1, 0, 253, 0.8)",
          "width": 1.0207324747920343
         },
         "lon": [
          20,
          22.908587257617732,
          25.844875346260384,
          28.808864265927973,
          31.8005540166205,
          34.819944598337955,
          37.86703601108034,
          40.941828254847636,
          44.04432132963989,
          47.174515235457065,
          50.332409972299175,
          53.51800554016621,
          56.73130193905817,
          59.97229916897507,
          63.2409972299169,
          66.53739612188366,
          69.86149584487534,
          73.21329639889196,
          76.5927977839335,
          80
         ],
         "mode": "lines",
         "name": "Africa → South Asia",
         "opacity": 0.7,
         "text": "Africa → South Asia: $200,398.22",
         "type": "scattergeo"
        },
        {
         "customdata": [
          {
           "amount": 2293.35,
           "normalized_amount": 0.000038633271689669034,
           "receiver": "Southeast Asia",
           "sender": "Africa"
          }
         ],
         "hoverinfo": "text",
         "lat": [
          0,
          1.373961218836565,
          2.653739612188365,
          3.839335180055401,
          4.930747922437673,
          5.92797783933518,
          6.8310249307479225,
          7.6398891966759,
          8.354570637119114,
          8.975069252077564,
          9.501385041551247,
          9.933518005540167,
          10.27146814404432,
          10.515235457063712,
          10.664819944598339,
          10.720221606648199,
          10.681440443213296,
          10.548476454293628,
          10.321329639889196,
          10
         ],
         "line": {
          "color": "rgba(0, 0, 254, 0.8)",
          "width": 1.0001931663584482
         },
         "lon": [
          20,
          24.37396121883657,
          28.7590027700831,
          33.155124653739605,
          37.56232686980609,
          41.980609418282555,
          46.40997229916897,
          50.85041551246537,
          55.30193905817174,
          59.764542936288095,
          64.23822714681441,
          68.7229916897507,
          73.21883656509695,
          77.72576177285319,
          82.24376731301939,
          86.77285318559557,
          91.3130193905817,
          95.86426592797784,
          100.42659279778393,
          105
         ],
         "mode": "lines",
         "name": "Africa → Southeast Asia",
         "opacity": 0.7,
         "text": "Africa → Southeast Asia: $2,293.35",
         "type": "scattergeo"
        },
        {
         "customdata": [
          {
           "amount": 16455.1,
           "normalized_amount": 0.00033228839607842036,
           "receiver": "Africa",
           "sender": "Caribbean"
          }
         ],
         "hoverinfo": "text",
         "lat": [
          20,
          19.894736842105267,
          19.684210526315788,
          19.368421052631575,
          18.94736842105263,
          18.421052631578952,
          17.789473684210527,
          17.052631578947366,
          16.210526315789473,
          15.263157894736846,
          14.210526315789474,
          13.052631578947368,
          11.789473684210527,
          10.421052631578947,
          8.947368421052632,
          7.368421052631578,
          5.684210526315791,
          3.894736842105263,
          2.0000000000000018,
          0
         ],
         "line": {
          "color": "rgba(0, 0, 254, 0.8)",
          "width": 1.0016614419803922
         },
         "lon": [
          -75,
          -69.80055401662051,
          -64.62326869806094,
          -59.46814404432132,
          -54.33518005540167,
          -49.22437673130195,
          -44.13573407202217,
          -39.069252077562325,
          -34.02493074792243,
          -29.002770083102504,
          -24.002770083102497,
          -19.024930747922433,
          -14.069252077562329,
          -9.135734072022158,
          -4.224376731301941,
          0.6648199445983387,
          5.531855955678665,
          10.376731301939058,
          15.199445983379494,
          20
         ],
         "mode": "lines",
         "name": "Caribbean → Africa",
         "opacity": 0.7,
         "text": "Caribbean → Africa: $16,455.10",
         "type": "scattergeo"
        },
        {
         "customdata": [
          {
           "amount": 31097.72,
           "normalized_amount": 0.000635914741514346,
           "receiver": "Central Asia",
           "sender": "Caribbean"
          }
         ],
         "hoverinfo": "text",
         "lat": [
          20,
          22.66204986149585,
          25.174515235457065,
          27.537396121883653,
          29.750692520775623,
          31.814404432132967,
          33.72853185595568,
          35.49307479224376,
          37.10803324099723,
          38.57340720221607,
          39.88919667590028,
          41.05540166204986,
          42.072022160664815,
          42.93905817174515,
          43.65650969529086,
          44.22437673130194,
          44.64265927977839,
          44.91135734072022,
          45.03047091412743,
          45
         ],
         "line": {
          "color": "rgba(0, 0, 254, 0.8)",
          "width": 1.0031795737075717
         },
         "lon": [
          -75,
          -68.14404432132966,
          -61.26038781163435,
          -54.34903047091412,
          -47.409972299168984,
          -40.4432132963989,
          -33.448753462603875,
          -26.426592797783933,
          -19.37673130193906,
          -12.299168975069259,
          -5.193905817174521,
          1.939058171745156,
          9.099722991689747,
          16.288088642659282,
          23.504155124653735,
          30.747922437673132,
          38.01939058171744,
          45.3185595567867,
          52.645429362880876,
          60
         ],
         "mode": "lines",
         "name": "Caribbean → Central Asia",
         "opacity": 0.7,
         "text": "Caribbean → Central Asia: $31,097.72",
         "type": "scattergeo"
        },
        {
         "customdata": [
          {
           "amount": 1218.62,
           "normalized_amount": 0.00001634789228145163,
           "receiver": "Europe",
           "sender": "Caribbean"
          }
         ],
         "hoverinfo": "text",
         "lat": [
          20,
          22.426592797783936,
          24.7590027700831,
          26.997229916897503,
          29.141274238227147,
          31.191135734072027,
          33.146814404432135,
          35.00831024930747,
          36.77562326869806,
          38.44875346260388,
          40.02770083102493,
          41.51246537396122,
          42.903047091412745,
          44.199445983379505,
          45.40166204986149,
          46.50969529085873,
          47.52354570637119,
          48.44321329639889,
          49.26869806094183,
          50
         ],
         "line": {
          "color": "rgba(0, 0, 254, 0.8)",
          "width": 1.0000817394614072
         },
         "lon": [
          -75,
          -70.82548476454295,
          -66.61772853185596,
          -62.376731301939046,
          -58.10249307479225,
          -53.79501385041553,
          -49.45429362880886,
          -45.08033240997229,
          -40.67313019390582,
          -36.23268698060943,
          -31.759002770083107,
          -27.252077562326868,
          -22.71191135734072,
          -18.13850415512465,
          -13.531855955678672,
          -8.89196675900277,
          -4.218836565096958,
          0.48753462603878184,
          5.227146814404426,
          10
         ],
         "mode": "lines",
         "name": "Caribbean → Europe",
         "opacity": 0.7,
         "text": "Caribbean → Europe: $1,218.62",
         "type": "scattergeo"
        },
        {
         "customdata": [
          {
           "amount": 42760814.73,
           "normalized_amount": 0.8866705053583305,
           "receiver": "Middle East",
           "sender": "Caribbean"
          }
         ],
         "hoverinfo": "text",
         "lat": [
          20,
          21.45983379501385,
          22.78670360110803,
          23.980609418282544,
          25.041551246537395,
          25.96952908587258,
          26.764542936288088,
          27.42659279778393,
          27.955678670360115,
          28.351800554016624,
          28.614958448753463,
          28.745152354570635,
          28.742382271468145,
          28.606648199445985,
          28.337950138504155,
          27.936288088642662,
          27.401662049861496,
          26.734072022160664,
          25.93351800554017,
          25
         ],
         "line": {
          "color": "rgba(226, 0, 28, 0.8)",
          "width": 5.433352526791652
         },
         "lon": [
          -75,
          -68.73407202216067,
          -62.46260387811634,
          -56.185595567867026,
          -49.90304709141275,
          -43.61495844875348,
          -37.3213296398892,
          -31.022160664819943,
          -24.71745152354571,
          -18.407202216066487,
          -12.091412742382277,
          -5.770083102493071,
          0.5567867036011052,
          6.88919667590028,
          13.227146814404428,
          19.570637119113574,
          25.919667590027693,
          32.27423822714682,
          38.63434903047091,
          45
         ],
         "mode": "lines",
         "name": "Caribbean → Middle East",
         "opacity": 0.7,
         "text": "Caribbean → Middle East: $42,760,814.73",
         "type": "scattergeo"
        },
        {
         "customdata": [
          {
           "amount": 36351.93,
           "normalized_amount": 0.0007448649553731289,
           "receiver": "North America",
           "sender": "Caribbean"
          }
         ],
         "hoverinfo": "text",
         "lat": [
          20,
          20.803324099722996,
          21.63434903047091,
          22.493074792243764,
          23.379501385041554,
          24.29362880886427,
          25.235457063711912,
          26.204986149584485,
          27.202216066481995,
          28.227146814404435,
          29.279778393351805,
          30.3601108033241,
          31.468144044321328,
          32.603878116343495,
          33.767313019390585,
          34.958448753462605,
          36.177285318559555,
          37.423822714681435,
          38.698060941828246,
          40
         ],
         "line": {
          "color": "rgba(0, 0, 254, 0.8)",
          "width": 1.0037243247768657
         },
         "lon": [
          -75,
          -76.51523545706371,
          -78.00831024930747,
          -79.47922437673128,
          -80.92797783933518,
          -82.35457063711911,
          -83.7590027700831,
          -85.14127423822714,
          -86.50138504155125,
          -87.83933518005541,
          -89.15512465373962,
          -90.44875346260389,
          -91.7202216066482,
          -92.96952908587258,
          -94.196675900277,
          -95.4016620498615,
          -96.58448753462604,
          -97.74515235457064,
          -98.88365650969529,
          -100
         ],
         "mode": "lines",
         "name": "Caribbean → North America",
         "opacity": 0.7,
         "text": "Caribbean → North America: $36,351.93",
         "type": "scattergeo"
        },
        {
         "customdata": [
          {
           "amount": 449726.31,
           "normalized_amount": 0.009316510760307052,
           "receiver": "South Asia",
           "sender": "Caribbean"
          }
         ],
         "hoverinfo": "text",
         "lat": [
          20,
          21.80886426592798,
          23.445983379501385,
          24.911357340720215,
          26.20498614958449,
          27.326869806094187,
          28.277008310249307,
          29.055401662049857,
          29.662049861495845,
          30.09695290858726,
          30.360110803324105,
          30.451523545706372,
          30.371191135734072,
          30.119113573407198,
          29.695290858725762,
          29.099722991689752,
          28.332409972299168,
          27.393351800554015,
          26.282548476454295,
          25
         ],
         "line": {
          "color": "rgba(2, 0, 252, 0.8)",
          "width": 1.0465825538015352
         },
         "lon": [
          -75,
          -66.89196675900278,
          -58.77839335180055,
          -50.65927977839334,
          -42.53462603878117,
          -34.404432132964,
          -26.268698060941833,
          -18.127423822714682,
          -9.98060941828255,
          -1.8282548476454394,
          6.32963988919667,
          14.493074792243773,
          22.662049861495838,
          30.83656509695291,
          39.016620498614955,
          47.202216066481995,
          55.39335180055401,
          63.59002770083102,
          71.792243767313,
          80
         ],
         "mode": "lines",
         "name": "Caribbean → South Asia",
         "opacity": 0.7,
         "text": "Caribbean → South Asia: $449,726.31",
         "type": "scattergeo"
        },
        {
         "customdata": [
          {
           "amount": 7444.03,
           "normalized_amount": 0.00014543670884162085,
           "receiver": "Southeast Asia",
           "sender": "Caribbean"
          }
         ],
         "hoverinfo": "text",
         "lat": [
          20,
          21.26869806094183,
          22.337950138504155,
          23.207756232686975,
          23.878116343490305,
          24.349030470914133,
          24.620498614958446,
          24.692520775623265,
          24.565096952908586,
          24.238227146814406,
          23.711911357340725,
          22.98614958448753,
          22.06094182825485,
          20.93628808864266,
          19.612188365650972,
          18.088642659279778,
          16.365650969529085,
          14.443213296398891,
          12.321329639889196,
          10
         ],
         "line": {
          "color": "rgba(0, 0, 254, 0.8)",
          "width": 1.0007271835442082
         },
         "lon": [
          -75,
          -65.42659279778394,
          -55.86426592797784,
          -46.31301939058171,
          -36.77285318559557,
          -27.243767313019404,
          -17.725761772853193,
          -8.218836565096954,
          1.277008310249304,
          10.76177285318559,
          20.235457063711905,
          29.69806094182826,
          39.14958448753462,
          48.59002770083102,
          58.019390581717445,
          67.43767313019391,
          76.84487534626038,
          86.2409972299169,
          95.62603878116343,
          105
         ],
         "mode": "lines",
         "name": "Caribbean → Southeast Asia",
         "opacity": 0.7,
         "text": "Caribbean → Southeast Asia: $7,444.03",
         "type": "scattergeo"
        },
        {
         "customdata": [
          {
           "amount": 447540.54,
           "normalized_amount": 0.009271187084826606,
           "receiver": "Caribbean",
           "sender": "Central Asia"
          }
         ],
         "hoverinfo": "text",
         "lat": [
          45,
          42.337950138504155,
          39.82548476454294,
          37.46260387811634,
          35.24930747922438,
          33.18559556786704,
          31.27146814404432,
          29.506925207756233,
          27.89196675900277,
          26.426592797783936,
          25.110803324099727,
          23.94459833795014,
          22.92797783933518,
          22.060941828254848,
          21.343490304709142,
          20.775623268698062,
          20.357340720221607,
          20.088642659279778,
          19.969529085872573,
          20
         ],
         "line": {
          "color": "rgba(2, 0, 252, 0.8)",
          "width": 1.046355935424133
         },
         "lon": [
          60,
          53.144044321329645,
          46.26038781163435,
          39.349030470914116,
          32.40997229916898,
          25.4432132963989,
          18.448753462603882,
          11.426592797783933,
          4.3767313019390635,
          -2.7008310249307392,
          -9.80609418282548,
          -16.939058171745152,
          -24.09972299168975,
          -31.288088642659282,
          -38.504155124653735,
          -45.74792243767313,
          -53.01939058171744,
          -60.3185595567867,
          -67.64542936288088,
          -75
         ],
         "mode": "lines",
         "name": "Central Asia → Caribbean",
         "opacity": 0.7,
         "text": "Central Asia → Caribbean: $447,540.54",
         "type": "scattergeo"
        },
        {
         "customdata": [
          {
           "amount": 8409233.71,
           "normalized_amount": 0.17436321301251367,
           "receiver": "Middle East",
           "sender": "Central Asia"
          }
         ],
         "hoverinfo": "text",
         "lat": [
          45,
          43.797783933518005,
          42.61218836565097,
          41.44321329639888,
          40.29085872576177,
          39.15512465373962,
          38.03601108033241,
          36.933518005540165,
          35.84764542936288,
          34.77839335180056,
          33.72576177285318,
          32.689750692520775,
          31.670360110803323,
          30.667590027700832,
          29.681440443213294,
          28.711911357340718,
          27.759002770083104,
          26.82271468144044,
          25.903047091412745,
          25
         ],
         "line": {
          "color": "rgba(44, 0, 210, 0.8)",
          "width": 1.8718160650625684
         },
         "lon": [
          60,
          59.40997229916898,
          58.797783933518005,
          58.16343490304708,
          57.50692520775623,
          56.82825484764543,
          56.12742382271468,
          55.40443213296399,
          54.659279778393355,
          53.89196675900278,
          53.10249307479225,
          52.290858725761765,
          51.45706371191136,
          50.601108033241,
          49.722991689750685,
          48.822714681440445,
          47.90027700831025,
          46.955678670360115,
          45.98891966759003,
          45
         ],
         "mode": "lines",
         "name": "Central Asia → Middle East",
         "opacity": 0.7,
         "text": "Central Asia → Middle East: $8,409,233.71",
         "type": "scattergeo"
        },
        {
         "customdata": [
          {
           "amount": 21737.07,
           "normalized_amount": 0.0004418142355663123,
           "receiver": "North America",
           "sender": "Central Asia"
          }
         ],
         "hoverinfo": "text",
         "lat": [
          45,
          43.14127423822715,
          41.45983379501386,
          39.95567867036011,
          38.62880886426593,
          37.47922437673131,
          36.50692520775623,
          35.71191135734072,
          35.094182825484765,
          34.65373961218837,
          34.390581717451525,
          34.304709141274245,
          34.39612188365651,
          34.664819944598335,
          35.11080332409972,
          35.73407202216067,
          36.53462603878116,
          37.51246537396122,
          38.667590027700825,
          40
         ],
         "line": {
          "color": "rgba(0, 0, 254, 0.8)",
          "width": 1.0022090711778315
         },
         "lon": [
          60,
          51.628808864265935,
          43.25207756232687,
          34.86980609418282,
          26.4819944598338,
          18.088642659279785,
          9.68975069252078,
          1.2853185595567886,
          -7.124653739612185,
          -15.540166204986145,
          -23.961218836565088,
          -32.387811634349035,
          -40.81994459833794,
          -49.257617728531855,
          -57.700831024930736,
          -66.14958448753463,
          -74.60387811634348,
          -83.06371191135734,
          -91.52908587257618,
          -100
         ],
         "mode": "lines",
         "name": "Central Asia → North America",
         "opacity": 0.7,
         "text": "Central Asia → North America: $21,737.07",
         "type": "scattergeo"
        },
        {
         "customdata": [
          {
           "amount": 66951.22,
           "normalized_amount": 0.00137936551576697,
           "receiver": "Southeast Asia",
           "sender": "Central Asia"
          }
         ],
         "hoverinfo": "text",
         "lat": [
          45,
          43.606648199445985,
          42.16343490304709,
          40.670360110803315,
          39.12742382271468,
          37.53462603878117,
          35.89196675900277,
          34.1994459833795,
          32.45706371191136,
          30.664819944598342,
          28.822714681440445,
          26.93074792243767,
          24.98891966759003,
          22.997229916897506,
          20.95567867036011,
          18.86426592797784,
          16.722991689750696,
          14.531855955678669,
          12.290858725761774,
          10
         ],
         "line": {
          "color": "rgba(0, 0, 254, 0.8)",
          "width": 1.0068968275788348
         },
         "lon": [
          60,
          62.71745152354571,
          65.3961218836565,
          68.0360110803324,
          70.6371191135734,
          73.1994459833795,
          75.7229916897507,
          78.20775623268698,
          80.65373961218836,
          83.06094182825485,
          85.42936288088643,
          87.7590027700831,
          90.04986149584487,
          92.30193905817174,
          94.51523545706371,
          96.68975069252078,
          98.82548476454292,
          100.92243767313019,
          102.98060941828254,
          105
         ],
         "mode": "lines",
         "name": "Central Asia → Southeast Asia",
         "opacity": 0.7,
         "text": "Central Asia → Southeast Asia: $66,951.22",
         "type": "scattergeo"
        },
        {
         "customdata": [
          {
           "amount": 157517.53,
           "normalized_amount": 0.00325732982303692,
           "receiver": "Caribbean",
           "sender": "Europe"
          }
         ],
         "hoverinfo": "text",
         "lat": [
          50,
          47.57340720221607,
          45.2409972299169,
          43.00277008310249,
          40.85872576177285,
          38.80886426592799,
          36.853185595567865,
          34.991689750692515,
          33.224376731301945,
          31.551246537396125,
          29.97229916897507,
          28.48753462603878,
          27.09695290858726,
          25.800554016620495,
          24.598337950138504,
          23.490304709141277,
          22.47645429362881,
          21.556786703601105,
          20.73130193905817,
          20
         ],
         "line": {
          "color": "rgba(0, 0, 254, 0.8)",
          "width": 1.0162866491151845
         },
         "lon": [
          10,
          5.825484764542937,
          1.6177285318559564,
          -2.623268698060942,
          -6.897506925207755,
          -11.204986149584485,
          -15.545706371191134,
          -19.9196675900277,
          -24.32686980609418,
          -28.767313019390578,
          -33.2409972299169,
          -37.74792243767313,
          -42.288088642659275,
          -46.86149584487535,
          -51.46814404432133,
          -56.10803324099724,
          -60.781163434903036,
          -65.48753462603878,
          -70.22714681440442,
          -75
         ],
         "mode": "lines",
         "name": "Europe → Caribbean",
         "opacity": 0.7,
         "text": "Europe → Caribbean: $157,517.53",
         "type": "scattergeo"
        },
        {
         "customdata": [
          {
           "amount": 360078,
           "normalized_amount": 0.00745758191152132,
           "receiver": "Central Asia",
           "sender": "Europe"
          }
         ],
         "hoverinfo": "text",
         "lat": [
          50,
          50.23545706371191,
          50.415512465373965,
          50.54016620498614,
          50.60941828254848,
          50.62326869806095,
          50.581717451523545,
          50.48476454293628,
          50.33240997229916,
          50.12465373961219,
          49.86149584487535,
          49.54293628808864,
          49.168975069252085,
          48.739612188365655,
          48.254847645429365,
          47.714681440443215,
          47.1191135734072,
          46.468144044321335,
          45.7617728531856,
          45
         ],
         "line": {
          "color": "rgba(1, 0, 253, 0.8)",
          "width": 1.0372879095576066
         },
         "lon": [
          10,
          12.681440443213297,
          15.357340720221604,
          18.02770083102493,
          20.69252077562327,
          23.351800554016624,
          26.005540166204984,
          28.653739612188367,
          31.296398891966756,
          33.933518005540165,
          36.56509695290859,
          39.19113573407202,
          41.81163434903047,
          44.42659279778394,
          47.03601108033241,
          49.6398891966759,
          52.238227146814395,
          54.83102493074792,
          57.418282548476455,
          60
         ],
         "mode": "lines",
         "name": "Europe → Central Asia",
         "opacity": 0.7,
         "text": "Europe → Central Asia: $360,078.00",
         "type": "scattergeo"
        },
        {
         "customdata": [
          {
           "amount": 5915148.550000001,
           "normalized_amount": 0.12264637802418675,
           "receiver": "Middle East",
           "sender": "Europe"
          }
         ],
         "hoverinfo": "text",
         "lat": [
          50,
          49.03324099722992,
          48.02770083102493,
          46.98337950138503,
          45.900277008310255,
          44.77839335180056,
          43.61772853185595,
          42.41828254847645,
          41.18005540166205,
          39.903047091412745,
          38.58725761772853,
          37.232686980609415,
          35.83933518005541,
          34.40720221606648,
          32.936288088642655,
          31.426592797783933,
          29.878116343490305,
          28.290858725761773,
          26.66481994459834,
          25
         ],
         "line": {
          "color": "rgba(31, 0, 223, 0.8)",
          "width": 1.6132318901209337
         },
         "lon": [
          10,
          12.091412742382273,
          14.15512465373961,
          16.19113573407202,
          18.199445983379498,
          20.180055401662052,
          22.132963988919666,
          24.058171745152354,
          25.95567867036011,
          27.825484764542942,
          29.667590027700832,
          31.481994459833796,
          33.26869806094183,
          35.02770083102493,
          36.7590027700831,
          38.46260387811634,
          40.13850415512465,
          41.78670360110804,
          43.40720221606648,
          45
         ],
         "mode": "lines",
         "name": "Europe → Middle East",
         "opacity": 0.7,
         "text": "Europe → Middle East: $5,915,148.55",
         "type": "scattergeo"
        },
        {
         "customdata": [
          {
           "amount": 47319.479999999996,
           "normalized_amount": 0.0009722858079859663,
           "receiver": "South Asia",
           "sender": "Europe"
          }
         ],
         "hoverinfo": "text",
         "lat": [
          50,
          49.38227146814405,
          48.68698060941828,
          47.914127423822706,
          47.063711911357345,
          46.13573407202217,
          45.13019390581717,
          44.047091412742375,
          42.88642659279779,
          41.64819944598339,
          40.33240997229917,
          38.93905817174515,
          37.468144044321335,
          35.9196675900277,
          34.29362880886426,
          32.59002770083102,
          30.80886426592798,
          28.950138504155124,
          27.01385041551247,
          25
         ],
         "line": {
          "color": "rgba(0, 0, 254, 0.8)",
          "width": 1.0048614290399298
         },
         "lon": [
          10,
          13.933518005540167,
          17.8393351800554,
          21.7174515235457,
          25.567867036011076,
          29.390581717451525,
          33.18559556786704,
          36.95290858725761,
          40.692520775623265,
          44.40443213296399,
          48.08864265927978,
          51.74515235457064,
          55.37396121883656,
          58.97506925207756,
          62.54847645429363,
          66.09418282548476,
          69.61218836565097,
          73.10249307479224,
          76.56509695290858,
          80
         ],
         "mode": "lines",
         "name": "Europe → South Asia",
         "opacity": 0.7,
         "text": "Europe → South Asia: $47,319.48",
         "type": "scattergeo"
        },
        {
         "customdata": [
          {
           "amount": 346348.15,
           "normalized_amount": 0.007172882576369316,
           "receiver": "Africa",
           "sender": "Middle East"
          }
         ],
         "hoverinfo": "text",
         "lat": [
          25,
          23.434903047091414,
          21.897506925207757,
          20.387811634349028,
          18.905817174515235,
          17.451523545706376,
          16.02493074792244,
          14.626038781163434,
          13.254847645429363,
          11.911357340720224,
          10.595567867036012,
          9.307479224376731,
          8.047091412742382,
          6.814404432132964,
          5.609418282548477,
          4.432132963988919,
          3.282548476454295,
          2.160664819944598,
          1.066481994459835,
          0
         ],
         "line": {
          "color": "rgba(1, 0, 253, 0.8)",
          "width": 1.0358644128818466
         },
         "lon": [
          45,
          43.93351800554017,
          42.83933518005541,
          41.7174515235457,
          40.56786703601108,
          39.39058171745153,
          38.18559556786703,
          36.95290858725762,
          35.69252077562327,
          34.40443213296399,
          33.08864265927978,
          31.745152354570635,
          30.373961218836566,
          28.97506925207756,
          27.54847645429363,
          26.094182825484765,
          24.612188365650972,
          23.102493074792243,
          21.565096952908586,
          20
         ],
         "mode": "lines",
         "name": "Middle East → Africa",
         "opacity": 0.7,
         "text": "Middle East → Africa: $346,348.15",
         "type": "scattergeo"
        },
        {
         "customdata": [
          {
           "amount": 34186.59,
           "normalized_amount": 0.0006999649121550281,
           "receiver": "Caribbean",
           "sender": "Middle East"
          }
         ],
         "hoverinfo": "text",
         "lat": [
          25,
          23.54016620498615,
          22.213296398891966,
          21.01939058171745,
          19.958448753462605,
          19.030470914127427,
          18.235457063711912,
          17.573407202216067,
          17.04432132963989,
          16.64819944598338,
          16.385041551246537,
          16.254847645429365,
          16.257617728531855,
          16.393351800554015,
          16.662049861495845,
          17.06371191135734,
          17.598337950138504,
          18.265927977839333,
          19.06648199445983,
          20
         ],
         "line": {
          "color": "rgba(0, 0, 254, 0.8)",
          "width": 1.0034998245607751
         },
         "lon": [
          45,
          38.73407202216067,
          32.46260387811635,
          26.185595567867033,
          19.90304709141274,
          13.614958448753473,
          7.321329639889197,
          1.0221606648199462,
          -5.28254847645429,
          -11.592797783933513,
          -17.908587257617725,
          -24.229916897506925,
          -30.556786703601105,
          -36.88919667590028,
          -43.22714681440443,
          -49.57063711911358,
          -55.91966759002769,
          -62.27423822714681,
          -68.6343490304709,
          -75
         ],
         "mode": "lines",
         "name": "Middle East → Caribbean",
         "opacity": 0.7,
         "text": "Middle East → Caribbean: $34,186.59",
         "type": "scattergeo"
        },
        {
         "customdata": [
          {
           "amount": 48226219,
           "normalized_amount": 1,
           "receiver": "Central Asia",
           "sender": "Middle East"
          }
         ],
         "hoverinfo": "text",
         "lat": [
          25,
          26.202216066482,
          27.38781163434903,
          28.556786703601105,
          29.709141274238227,
          30.84487534626039,
          31.96398891966759,
          33.06648199445983,
          34.152354570637115,
          35.22160664819945,
          36.27423822714682,
          37.310249307479225,
          38.32963988919668,
          39.33240997229917,
          40.3185595567867,
          41.28808864265928,
          42.24099722991689,
          43.177285318559555,
          44.096952908587255,
          45
         ],
         "line": {
          "color": "rgba(255, 0, 0, 0.8)",
          "width": 6
         },
         "lon": [
          45,
          45.59002770083103,
          46.202216066481995,
          46.836565096952896,
          47.493074792243775,
          48.17174515235458,
          48.872576177285325,
          49.595567867036,
          50.340720221606645,
          51.10803324099723,
          51.89750692520775,
          52.70914127423822,
          53.54293628808864,
          54.398891966759,
          55.27700831024931,
          56.177285318559555,
          57.099722991689745,
          58.044321329639885,
          59.011080332409975,
          60
         ],
         "mode": "lines",
         "name": "Middle East → Central Asia",
         "opacity": 0.7,
         "text": "Middle East → Central Asia: $48,226,219.00",
         "type": "scattergeo"
        },
        {
         "customdata": [
          {
           "amount": 84537.08,
           "normalized_amount": 0.0017440222782280478,
           "receiver": "North America",
           "sender": "Middle East"
          }
         ],
         "hoverinfo": "text",
         "lat": [
          25,
          24.343490304709142,
          23.84764542936288,
          23.512465373961216,
          23.33795013850416,
          23.324099722991694,
          23.470914127423825,
          23.77839335180055,
          24.246537396121884,
          24.875346260387815,
          25.664819944598335,
          26.614958448753463,
          27.725761772853183,
          28.997229916897506,
          30.429362880886426,
          32.02216066481995,
          33.775623268698055,
          35.689750692520775,
          37.76454293628808,
          40
         ],
         "line": {
          "color": "rgba(0, 0, 254, 0.8)",
          "width": 1.0087201113911402
         },
         "lon": [
          45,
          37.21883656509696,
          29.454293628808866,
          21.70637119113573,
          13.97506925207756,
          6.260387811634358,
          -1.4376731301939039,
          -9.1191135734072,
          -16.783933518005536,
          -24.432132963988916,
          -32.06371191135733,
          -39.67867036011081,
          -47.2770083102493,
          -54.85872576177286,
          -62.42382271468143,
          -69.97229916897507,
          -77.50415512465374,
          -85.01939058171745,
          -92.5180055401662,
          -100
         ],
         "mode": "lines",
         "name": "Middle East → North America",
         "opacity": 0.7,
         "text": "Middle East → North America: $84,537.08",
         "type": "scattergeo"
        },
        {
         "customdata": [
          {
           "amount": 7378.91,
           "normalized_amount": 0.00014408639396526764,
           "receiver": "South Asia",
           "sender": "Middle East"
          }
         ],
         "hoverinfo": "text",
         "lat": [
          25,
          25.349030470914126,
          25.65927977839335,
          25.930747922437668,
          26.16343490304709,
          26.357340720221607,
          26.51246537396122,
          26.628808864265924,
          26.706371191135737,
          26.745152354570642,
          26.745152354570635,
          26.706371191135737,
          26.628808864265928,
          26.51246537396122,
          26.357340720221604,
          26.16343490304709,
          25.930747922437675,
          25.65927977839335,
          25.34903047091413,
          25
         ],
         "line": {
          "color": "rgba(0, 0, 254, 0.8)",
          "width": 1.0007204319698264
         },
         "lon": [
          45,
          46.8421052631579,
          48.68421052631579,
          50.52631578947368,
          52.36842105263158,
          54.21052631578948,
          56.05263157894737,
          57.89473684210525,
          59.73684210526316,
          61.578947368421055,
          63.421052631578945,
          65.26315789473685,
          67.10526315789474,
          68.94736842105263,
          70.78947368421052,
          72.63157894736842,
          74.47368421052632,
          76.3157894736842,
          78.1578947368421,
          80
         ],
         "mode": "lines",
         "name": "Middle East → South Asia",
         "opacity": 0.7,
         "text": "Middle East → South Asia: $7,378.91",
         "type": "scattergeo"
        },
        {
         "customdata": [
          {
           "amount": 33486319.98,
           "normalized_amount": 0.6943564968880446,
           "receiver": "Southeast Asia",
           "sender": "Middle East"
          }
         ],
         "hoverinfo": "text",
         "lat": [
          25,
          24.80886426592798,
          24.55124653739612,
          24.227146814404428,
          23.83656509695291,
          23.379501385041554,
          22.85595567867036,
          22.265927977839333,
          21.60941828254848,
          20.88642659279779,
          20.09695290858726,
          19.240997229916896,
          18.318559556786706,
          17.329639889196677,
          16.274238227146814,
          15.152354570637119,
          13.96398891966759,
          12.709141274238226,
          11.387811634349031,
          10
         ],
         "line": {
          "color": "rgba(177, 0, 77, 0.8)",
          "width": 4.471782484440222
         },
         "lon": [
          45,
          48.307479224376735,
          51.5983379501385,
          54.8725761772853,
          58.13019390581717,
          61.37119113573408,
          64.59556786703601,
          67.80332409972297,
          70.994459833795,
          74.16897506925208,
          77.32686980609418,
          80.46814404432132,
          83.59279778393352,
          86.70083102493075,
          89.79224376731301,
          92.86703601108033,
          95.92520775623268,
          98.96675900277008,
          101.99168975069252,
          105
         ],
         "mode": "lines",
         "name": "Middle East → Southeast Asia",
         "opacity": 0.7,
         "text": "Middle East → Southeast Asia: $33,486,319.98",
         "type": "scattergeo"
        },
        {
         "customdata": [
          {
           "amount": 141682.11,
           "normalized_amount": 0.0029289698230476444,
           "receiver": "Africa",
           "sender": "North America"
          }
         ],
         "hoverinfo": "text",
         "lat": [
          40,
          39.091412742382275,
          38.04986149584487,
          36.87534626038781,
          35.56786703601108,
          34.12742382271469,
          32.554016620498615,
          30.847645429362878,
          29.00831024930748,
          27.036011080332415,
          24.930747922437675,
          22.69252077562327,
          20.3213296398892,
          17.817174515235457,
          15.18005540166205,
          12.409972299168974,
          9.506925207756236,
          6.470914127423822,
          3.3019390581717483,
          0
         ],
         "line": {
          "color": "rgba(0, 0, 254, 0.8)",
          "width": 1.0146448491152382
         },
         "lon": [
          -100,
          -93.2853185595568,
          -86.61495844875347,
          -79.98891966759001,
          -73.40720221606648,
          -66.86980609418285,
          -60.37673130193906,
          -53.92797783933517,
          -47.52354570637119,
          -41.163434903047104,
          -34.847645429362885,
          -28.576177285318558,
          -22.349030470914133,
          -16.16620498614958,
          -10.027700831024934,
          -3.933518005540165,
          2.1163434903047023,
          8.121883656509695,
          14.083102493074785,
          20
         ],
         "mode": "lines",
         "name": "North America → Africa",
         "opacity": 0.7,
         "text": "North America → Africa: $141,682.11",
         "type": "scattergeo"
        },
        {
         "customdata": [
          {
           "amount": 15268.33,
           "normalized_amount": 0.00030767977836021194,
           "receiver": "Caribbean",
           "sender": "North America"
          }
         ],
         "hoverinfo": "text",
         "lat": [
          40,
          39.196675900277015,
          38.365650969529085,
          37.506925207756225,
          36.62049861495845,
          35.70637119113574,
          34.76454293628809,
          33.79501385041551,
          32.797783933518005,
          31.772853185595572,
          30.720221606648202,
          29.639889196675902,
          28.53185595567867,
          27.396121883656512,
          26.23268698060942,
          25.041551246537395,
          23.822714681440445,
          22.576177285318558,
          21.301939058171744,
          20
         ],
         "line": {
          "color": "rgba(0, 0, 254, 0.8)",
          "width": 1.001538398891801
         },
         "lon": [
          -100,
          -98.48476454293629,
          -96.99168975069252,
          -95.52077562326868,
          -94.07202216066483,
          -92.6454293628809,
          -91.24099722991689,
          -89.85872576177285,
          -88.49861495844875,
          -87.16066481994461,
          -85.8448753462604,
          -84.55124653739611,
          -83.2797783933518,
          -82.03047091412742,
          -80.803324099723,
          -79.5983379501385,
          -78.41551246537395,
          -77.25484764542936,
          -76.1163434903047,
          -75
         ],
         "mode": "lines",
         "name": "North America → Caribbean",
         "opacity": 0.7,
         "text": "North America → Caribbean: $15,268.33",
         "type": "scattergeo"
        },
        {
         "customdata": [
          {
           "amount": 75222.33,
           "normalized_amount": 0.001550873545204225,
           "receiver": "Central Asia",
           "sender": "North America"
          }
         ],
         "hoverinfo": "text",
         "lat": [
          40,
          41.85872576177286,
          43.54016620498615,
          45.044321329639885,
          46.37119113573407,
          47.520775623268705,
          48.49307479224377,
          49.288088642659275,
          49.905817174515235,
          50.34626038781164,
          50.60941828254848,
          50.695290858725755,
          50.603878116343495,
          50.335180055401665,
          49.88919667590028,
          49.26592797783934,
          48.46537396121883,
          47.48753462603878,
          46.332409972299175,
          45
         ],
         "line": {
          "color": "rgba(0, 0, 254, 0.8)",
          "width": 1.0077543677260212
         },
         "lon": [
          -100,
          -91.62880886426593,
          -83.25207756232687,
          -74.8698060941828,
          -66.4819944598338,
          -58.0886426592798,
          -49.689750692520775,
          -41.285318559556785,
          -32.875346260387815,
          -24.459833795013864,
          -16.03878116343491,
          -7.612188365650969,
          0.8199445983379441,
          9.257617728531859,
          17.700831024930743,
          26.14958448753463,
          34.60387811634348,
          43.063711911357345,
          51.52908587257617,
          60
         ],
         "mode": "lines",
         "name": "North America → Central Asia",
         "opacity": 0.7,
         "text": "North America → Central Asia: $75,222.33",
         "type": "scattergeo"
        },
        {
         "customdata": [
          {
           "amount": 4646043.73,
           "normalized_amount": 0.09633048247600491,
           "receiver": "Europe",
           "sender": "North America"
          }
         ],
         "hoverinfo": "text",
         "lat": [
          40,
          41.62326869806094,
          43.124653739612185,
          44.50415512465373,
          45.7617728531856,
          46.897506925207765,
          47.91135734072022,
          48.803324099722985,
          49.573407202216075,
          50.22160664819945,
          50.747922437673125,
          51.152354570637115,
          51.43490304709141,
          51.59556786703601,
          51.634349030470915,
          51.551246537396125,
          51.34626038781163,
          51.019390581717445,
          50.57063711911358,
          50
         ],
         "line": {
          "color": "rgba(24, 0, 230, 0.8)",
          "width": 1.4816524123800245
         },
         "lon": [
          -100,
          -94.31024930747924,
          -88.60941828254848,
          -82.89750692520775,
          -77.17451523545706,
          -71.44044321329642,
          -65.69529085872577,
          -59.939058171745145,
          -54.171745152354575,
          -48.39335180055403,
          -42.603878116343495,
          -36.803324099722985,
          -30.991689750692526,
          -25.168975069252078,
          -19.33518005540167,
          -13.490304709141274,
          -7.634349030470921,
          -1.7673130193905813,
          4.110803324099716,
          10
         ],
         "mode": "lines",
         "name": "North America → Europe",
         "opacity": 0.7,
         "text": "North America → Europe: $4,646,043.73",
         "type": "scattergeo"
        },
        {
         "customdata": [
          {
           "amount": 10590745.35,
           "normalized_amount": 0.21959858801911306,
           "receiver": "Middle East",
           "sender": "North America"
          }
         ],
         "hoverinfo": "text",
         "lat": [
          40,
          40.656509695290865,
          41.152354570637115,
          41.48753462603877,
          41.662049861495845,
          41.67590027700831,
          41.52908587257618,
          41.22160664819944,
          40.75346260387812,
          40.12465373961219,
          39.335180055401665,
          38.38504155124654,
          37.27423822714682,
          36.0027700831025,
          34.57063711911357,
          32.97783933518006,
          31.22437673130194,
          29.31024930747922,
          27.235457063711912,
          25
         ],
         "line": {
          "color": "rgba(55, 0, 199, 0.8)",
          "width": 2.0979929400955655
         },
         "lon": [
          -100,
          -92.21883656509696,
          -84.45429362880886,
          -76.70637119113573,
          -68.97506925207756,
          -61.26038781163437,
          -53.5623268698061,
          -45.880886426592795,
          -38.21606648199446,
          -30.567867036011094,
          -22.936288088642662,
          -15.321329639889193,
          -7.722991689750696,
          -0.1412742382271439,
          7.423822714681435,
          14.97229916897507,
          22.504155124653728,
          30.019390581717452,
          37.5180055401662,
          45
         ],
         "mode": "lines",
         "name": "North America → Middle East",
         "opacity": 0.7,
         "text": "North America → Middle East: $10,590,745.35",
         "type": "scattergeo"
        },
        {
         "customdata": [
          {
           "amount": 24455.74,
           "normalized_amount": 0.0004981880154326401,
           "receiver": "South Asia",
           "sender": "North America"
          }
         ],
         "hoverinfo": "text",
         "lat": [
          40,
          41.00554016620499,
          41.81163434903047,
          42.41828254847645,
          42.825484764542935,
          43.033240997229925,
          43.041551246537395,
          42.85041551246537,
          42.45983379501385,
          41.86980609418283,
          41.0803324099723,
          40.091412742382275,
          38.903047091412745,
          37.51523545706371,
          35.92797783933518,
          34.14127423822715,
          32.15512465373961,
          29.969529085872573,
          27.584487534626042,
          25
         ],
         "line": {
          "color": "rgba(0, 0, 254, 0.8)",
          "width": 1.002490940077163
         },
         "lon": [
          -100,
          -90.37673130193907,
          -80.77008310249306,
          -71.18005540166203,
          -61.60664819944599,
          -52.049861495844894,
          -42.50969529085873,
          -32.98614958448753,
          -23.479224376731302,
          -13.988919667590043,
          -4.515235457063714,
          4.94182825484765,
          14.382271468144037,
          23.806094182825486,
          33.21329639889196,
          42.603878116343495,
          51.97783933518004,
          61.33518005540166,
          70.6759002770083,
          80
         ],
         "mode": "lines",
         "name": "North America → South Asia",
         "opacity": 0.7,
         "text": "North America → South Asia: $24,455.74",
         "type": "scattergeo"
        },
        {
         "customdata": [
          {
           "amount": 1916410.02,
           "normalized_amount": 0.039729361382511603,
           "receiver": "Southeast Asia",
           "sender": "North America"
          }
         ],
         "hoverinfo": "text",
         "lat": [
          40,
          40.465373961218845,
          40.70360110803323,
          40.71468144044321,
          40.498614958448755,
          40.05540166204986,
          39.385041551246545,
          38.48753462603878,
          37.362880886426595,
          36.011080332409975,
          34.43213296398892,
          32.62603878116344,
          30.592797783933523,
          28.33240997229917,
          25.844875346260388,
          23.130193905817176,
          20.188365650969534,
          17.01939058171745,
          13.623268698060944,
          10
         ],
         "line": {
          "color": "rgba(10, 0, 244, 0.8)",
          "width": 1.198646806912558
         },
         "lon": [
          -100,
          -88.91135734072022,
          -77.85595567867036,
          -66.8337950138504,
          -55.84487534626039,
          -44.889196675900294,
          -33.96675900277009,
          -23.077562326869803,
          -12.221606648199451,
          -1.3988919667590132,
          9.390581717451518,
          20.14681440443214,
          30.869806094182813,
          41.5595567867036,
          52.216066481994446,
          62.83933518005541,
          73.42936288088642,
          83.98614958448753,
          94.50969529085872,
          105
         ],
         "mode": "lines",
         "name": "North America → Southeast Asia",
         "opacity": 0.7,
         "text": "North America → Southeast Asia: $1,916,410.02",
         "type": "scattergeo"
        },
        {
         "customdata": [
          {
           "amount": 1395.73,
           "normalized_amount": 0.000020020408678118132,
           "receiver": "Europe",
           "sender": "South Asia"
          }
         ],
         "hoverinfo": "text",
         "lat": [
          25,
          25.617728531855956,
          26.313019390581715,
          27.085872576177284,
          27.936288088642662,
          28.864265927977844,
          29.869806094182827,
          30.95290858725761,
          32.11357340720222,
          33.35180055401662,
          34.667590027700825,
          36.06094182825485,
          37.531855955678665,
          39.0803324099723,
          40.70637119113573,
          42.40997229916898,
          44.19113573407202,
          46.04986149584487,
          47.986149584487535,
          50
         ],
         "line": {
          "color": "rgba(0, 0, 254, 0.8)",
          "width": 1.0001001020433906
         },
         "lon": [
          80,
          76.06648199445985,
          72.16066481994459,
          68.28254847645428,
          64.43213296398892,
          60.60941828254849,
          56.81440443213297,
          53.04709141274238,
          49.307479224376735,
          45.59556786703602,
          41.91135734072023,
          38.25484764542936,
          34.62603878116344,
          31.024930747922436,
          27.451523545706372,
          23.905817174515235,
          20.38781163434903,
          16.897506925207757,
          13.434903047091414,
          10
         ],
         "mode": "lines",
         "name": "South Asia → Europe",
         "opacity": 0.7,
         "text": "South Asia → Europe: $1,395.73",
         "type": "scattergeo"
        },
        {
         "customdata": [
          {
           "amount": 5440545.04,
           "normalized_amount": 0.112805097619972,
           "receiver": "Middle East",
           "sender": "South Asia"
          }
         ],
         "hoverinfo": "text",
         "lat": [
          25,
          24.650969529085874,
          24.340720221606645,
          24.06925207756232,
          23.83656509695291,
          23.642659279778396,
          23.48753462603878,
          23.37119113573407,
          23.293628808864266,
          23.254847645429365,
          23.254847645429365,
          23.293628808864263,
          23.371191135734072,
          23.48753462603878,
          23.642659279778393,
          23.83656509695291,
          24.069252077562325,
          24.340720221606645,
          24.650969529085874,
          25
         ],
         "line": {
          "color": "rgba(28, 0, 226, 0.8)",
          "width": 1.56402548809986
         },
         "lon": [
          80,
          78.15789473684211,
          76.3157894736842,
          74.4736842105263,
          72.63157894736842,
          70.78947368421055,
          68.94736842105263,
          67.10526315789473,
          65.26315789473685,
          63.42105263157896,
          61.57894736842106,
          59.736842105263165,
          57.89473684210526,
          56.05263157894737,
          54.21052631578947,
          52.368421052631575,
          50.526315789473685,
          48.684210526315795,
          46.8421052631579,
          45
         ],
         "mode": "lines",
         "name": "South Asia → Middle East",
         "opacity": 0.7,
         "text": "South Asia → Middle East: $5,440,545.04",
         "type": "scattergeo"
        },
        {
         "customdata": [
          {
           "amount": 364325.32,
           "normalized_amount": 0.007545653462206711,
           "receiver": "North America",
           "sender": "South Asia"
          }
         ],
         "hoverinfo": "text",
         "lat": [
          25,
          23.994459833795016,
          23.188365650969526,
          22.58171745152354,
          22.174515235457065,
          21.96675900277009,
          21.958448753462605,
          22.149584487534625,
          22.54016620498615,
          23.130193905817176,
          23.9196675900277,
          24.90858725761773,
          26.096952908587255,
          27.48476454293629,
          29.07202216066482,
          30.858725761772856,
          32.84487534626039,
          35.03047091412742,
          37.41551246537395,
          40
         ],
         "line": {
          "color": "rgba(1, 0, 253, 0.8)",
          "width": 1.0377282673110335
         },
         "lon": [
          80,
          70.37673130193907,
          60.77008310249307,
          51.18005540166204,
          41.606648199445985,
          32.04986149584489,
          22.50969529085873,
          12.986149584487535,
          3.479224376731306,
          -6.011080332409964,
          -15.48476454293628,
          -24.94182825484765,
          -34.38227146814404,
          -43.80609418282549,
          -53.213296398891956,
          -62.603878116343495,
          -71.97783933518005,
          -81.33518005540166,
          -90.67590027700831,
          -100
         ],
         "mode": "lines",
         "name": "South Asia → North America",
         "opacity": 0.7,
         "text": "South Asia → North America: $364,325.32",
         "type": "scattergeo"
        },
        {
         "customdata": [
          {
           "amount": 3003.48,
           "normalized_amount": 0.00005335838076744431,
           "receiver": "Southeast Asia",
           "sender": "South Asia"
          }
         ],
         "hoverinfo": "text",
         "lat": [
          25,
          24.45983379501385,
          23.89196675900277,
          23.296398891966756,
          22.673130193905816,
          22.02216066481995,
          21.34349030470914,
          20.637119113573405,
          19.90304709141274,
          19.141274238227147,
          18.35180055401662,
          17.534626038781163,
          16.68975069252078,
          15.817174515235457,
          14.916897506925208,
          13.988919667590029,
          13.033240997229917,
          12.049861495844874,
          11.038781163434903,
          10
         ],
         "line": {
          "color": "rgba(0, 0, 254, 0.8)",
          "width": 1.0002667919038373
         },
         "lon": [
          80,
          81.46537396121886,
          82.9141274238227,
          84.34626038781163,
          85.76177285318559,
          87.1606648199446,
          88.54293628808865,
          89.90858725761771,
          91.25761772853186,
          92.59002770083103,
          93.90581717451524,
          95.2049861495845,
          96.48753462603878,
          97.75346260387812,
          99.00277008310249,
          100.23545706371192,
          101.45152354570637,
          102.65096952908587,
          103.83379501385042,
          105
         ],
         "mode": "lines",
         "name": "South Asia → Southeast Asia",
         "opacity": 0.7,
         "text": "South Asia → Southeast Asia: $3,003.48",
         "type": "scattergeo"
        },
        {
         "customdata": [
          {
           "amount": 151674.24,
           "normalized_amount": 0.0031361645679102903,
           "receiver": "Africa",
           "sender": "Southeast Asia"
          }
         ],
         "hoverinfo": "text",
         "lat": [
          10,
          8.626038781163436,
          7.346260387811634,
          6.160664819944597,
          5.069252077562327,
          4.0720221606648215,
          3.1689750692520775,
          2.3601108033240994,
          1.6454293628808867,
          1.024930747922438,
          0.4986149584487538,
          0.06648199445983338,
          -0.27146814404432096,
          -0.515235457063712,
          -0.6648199445983379,
          -0.7202216066481995,
          -0.6814404432132964,
          -0.5484764542936288,
          -0.32132963988919694,
          0
         ],
         "line": {
          "color": "rgba(0, 0, 254, 0.8)",
          "width": 1.0156808228395515
         },
         "lon": [
          105,
          100.62603878116344,
          96.24099722991689,
          91.84487534626037,
          87.43767313019391,
          83.01939058171746,
          78.59002770083103,
          74.14958448753463,
          69.69806094182826,
          65.23545706371192,
          60.7617728531856,
          56.2770083102493,
          51.78116343490305,
          47.27423822714681,
          42.75623268698061,
          38.227146814404435,
          33.686980609418285,
          29.13573407202216,
          24.573407202216067,
          20
         ],
         "mode": "lines",
         "name": "Southeast Asia → Africa",
         "opacity": 0.7,
         "text": "Southeast Asia → Africa: $151,674.24",
         "type": "scattergeo"
        },
        {
         "customdata": [
          {
           "amount": 64302,
           "normalized_amount": 0.001324431836763092,
           "receiver": "Europe",
           "sender": "Southeast Asia"
          }
         ],
         "hoverinfo": "text",
         "lat": [
          10,
          11.157894736842106,
          12.421052631578947,
          13.789473684210524,
          15.263157894736842,
          16.842105263157897,
          18.526315789473685,
          20.315789473684205,
          22.210526315789473,
          24.210526315789473,
          26.31578947368421,
          28.526315789473685,
          30.842105263157894,
          33.26315789473684,
          35.78947368421052,
          38.42105263157895,
          41.1578947368421,
          44,
          46.94736842105263,
          50
         ],
         "line": {
          "color": "rgba(0, 0, 254, 0.8)",
          "width": 1.0066221591838154
         },
         "lon": [
          105,
          99.601108033241,
          94.24653739612188,
          88.93628808864264,
          83.67036011080333,
          78.44875346260389,
          73.27146814404432,
          68.13850415512464,
          63.04986149584488,
          58.005540166204995,
          53.00554016620499,
          48.04986149584487,
          43.13850415512466,
          38.27146814404432,
          33.44875346260388,
          28.670360110803323,
          23.936288088642666,
          19.24653739612188,
          14.601108033241001,
          10
         ],
         "mode": "lines",
         "name": "Southeast Asia → Europe",
         "opacity": 0.7,
         "text": "Southeast Asia → Europe: $64,302.00",
         "type": "scattergeo"
        },
        {
         "customdata": [
          {
           "amount": 1041574.22,
           "normalized_amount": 0.0215889468384946,
           "receiver": "Middle East",
           "sender": "Southeast Asia"
          }
         ],
         "hoverinfo": "text",
         "lat": [
          10,
          10.191135734072024,
          10.448753462603877,
          10.772853185595567,
          11.163434903047092,
          11.620498614958452,
          12.144044321329641,
          12.734072022160664,
          13.390581717451525,
          14.113573407202217,
          14.903047091412741,
          15.759002770083104,
          16.681440443213297,
          17.670360110803326,
          18.725761772853183,
          19.84764542936288,
          21.036011080332408,
          22.290858725761773,
          23.61218836565097,
          25
         ],
         "line": {
          "color": "rgba(5, 0, 249, 0.8)",
          "width": 1.107944734192473
         },
         "lon": [
          105,
          101.69252077562327,
          98.40166204986149,
          95.12742382271466,
          91.86980609418283,
          88.62880886426595,
          85.40443213296399,
          82.196675900277,
          79.00554016620498,
          75.83102493074794,
          72.67313019390582,
          69.53185595567867,
          66.40720221606648,
          63.29916897506925,
          60.20775623268699,
          57.13296398891967,
          54.07479224376731,
          51.03324099722992,
          48.008310249307485,
          45
         ],
         "mode": "lines",
         "name": "Southeast Asia → Middle East",
         "opacity": 0.7,
         "text": "Southeast Asia → Middle East: $1,041,574.22",
         "type": "scattergeo"
        }
       ],
       "layout": {
        "geo": {
         "coastlinecolor": "Black",
         "countrycolor": "Black",
         "lakecolor": "Blue",
         "landcolor": "LightGreen",
         "oceancolor": "LightBlue",
         "projection": {
          "type": "natural earth"
         },
         "rivercolor": "Blue",
         "showcoastlines": true,
         "showcountries": true,
         "showframe": false,
         "showlakes": true,
         "showland": true,
         "showocean": true,
         "showrivers": true
        },
        "height": 600,
        "showlegend": false,
        "template": {
         "data": {
          "bar": [
           {
            "error_x": {
             "color": "#2a3f5f"
            },
            "error_y": {
             "color": "#2a3f5f"
            },
            "marker": {
             "line": {
              "color": "#E5ECF6",
              "width": 0.5
             },
             "pattern": {
              "fillmode": "overlay",
              "size": 10,
              "solidity": 0.2
             }
            },
            "type": "bar"
           }
          ],
          "barpolar": [
           {
            "marker": {
             "line": {
              "color": "#E5ECF6",
              "width": 0.5
             },
             "pattern": {
              "fillmode": "overlay",
              "size": 10,
              "solidity": 0.2
             }
            },
            "type": "barpolar"
           }
          ],
          "carpet": [
           {
            "aaxis": {
             "endlinecolor": "#2a3f5f",
             "gridcolor": "white",
             "linecolor": "white",
             "minorgridcolor": "white",
             "startlinecolor": "#2a3f5f"
            },
            "baxis": {
             "endlinecolor": "#2a3f5f",
             "gridcolor": "white",
             "linecolor": "white",
             "minorgridcolor": "white",
             "startlinecolor": "#2a3f5f"
            },
            "type": "carpet"
           }
          ],
          "choropleth": [
           {
            "colorbar": {
             "outlinewidth": 0,
             "ticks": ""
            },
            "type": "choropleth"
           }
          ],
          "contour": [
           {
            "colorbar": {
             "outlinewidth": 0,
             "ticks": ""
            },
            "colorscale": [
             [
              0,
              "#0d0887"
             ],
             [
              0.1111111111111111,
              "#46039f"
             ],
             [
              0.2222222222222222,
              "#7201a8"
             ],
             [
              0.3333333333333333,
              "#9c179e"
             ],
             [
              0.4444444444444444,
              "#bd3786"
             ],
             [
              0.5555555555555556,
              "#d8576b"
             ],
             [
              0.6666666666666666,
              "#ed7953"
             ],
             [
              0.7777777777777778,
              "#fb9f3a"
             ],
             [
              0.8888888888888888,
              "#fdca26"
             ],
             [
              1,
              "#f0f921"
             ]
            ],
            "type": "contour"
           }
          ],
          "contourcarpet": [
           {
            "colorbar": {
             "outlinewidth": 0,
             "ticks": ""
            },
            "type": "contourcarpet"
           }
          ],
          "heatmap": [
           {
            "colorbar": {
             "outlinewidth": 0,
             "ticks": ""
            },
            "colorscale": [
             [
              0,
              "#0d0887"
             ],
             [
              0.1111111111111111,
              "#46039f"
             ],
             [
              0.2222222222222222,
              "#7201a8"
             ],
             [
              0.3333333333333333,
              "#9c179e"
             ],
             [
              0.4444444444444444,
              "#bd3786"
             ],
             [
              0.5555555555555556,
              "#d8576b"
             ],
             [
              0.6666666666666666,
              "#ed7953"
             ],
             [
              0.7777777777777778,
              "#fb9f3a"
             ],
             [
              0.8888888888888888,
              "#fdca26"
             ],
             [
              1,
              "#f0f921"
             ]
            ],
            "type": "heatmap"
           }
          ],
          "histogram": [
           {
            "marker": {
             "pattern": {
              "fillmode": "overlay",
              "size": 10,
              "solidity": 0.2
             }
            },
            "type": "histogram"
           }
          ],
          "histogram2d": [
           {
            "colorbar": {
             "outlinewidth": 0,
             "ticks": ""
            },
            "colorscale": [
             [
              0,
              "#0d0887"
             ],
             [
              0.1111111111111111,
              "#46039f"
             ],
             [
              0.2222222222222222,
              "#7201a8"
             ],
             [
              0.3333333333333333,
              "#9c179e"
             ],
             [
              0.4444444444444444,
              "#bd3786"
             ],
             [
              0.5555555555555556,
              "#d8576b"
             ],
             [
              0.6666666666666666,
              "#ed7953"
             ],
             [
              0.7777777777777778,
              "#fb9f3a"
             ],
             [
              0.8888888888888888,
              "#fdca26"
             ],
             [
              1,
              "#f0f921"
             ]
            ],
            "type": "histogram2d"
           }
          ],
          "histogram2dcontour": [
           {
            "colorbar": {
             "outlinewidth": 0,
             "ticks": ""
            },
            "colorscale": [
             [
              0,
              "#0d0887"
             ],
             [
              0.1111111111111111,
              "#46039f"
             ],
             [
              0.2222222222222222,
              "#7201a8"
             ],
             [
              0.3333333333333333,
              "#9c179e"
             ],
             [
              0.4444444444444444,
              "#bd3786"
             ],
             [
              0.5555555555555556,
              "#d8576b"
             ],
             [
              0.6666666666666666,
              "#ed7953"
             ],
             [
              0.7777777777777778,
              "#fb9f3a"
             ],
             [
              0.8888888888888888,
              "#fdca26"
             ],
             [
              1,
              "#f0f921"
             ]
            ],
            "type": "histogram2dcontour"
           }
          ],
          "mesh3d": [
           {
            "colorbar": {
             "outlinewidth": 0,
             "ticks": ""
            },
            "type": "mesh3d"
           }
          ],
          "parcoords": [
           {
            "line": {
             "colorbar": {
              "outlinewidth": 0,
              "ticks": ""
             }
            },
            "type": "parcoords"
           }
          ],
          "pie": [
           {
            "automargin": true,
            "type": "pie"
           }
          ],
          "scatter": [
           {
            "fillpattern": {
             "fillmode": "overlay",
             "size": 10,
             "solidity": 0.2
            },
            "type": "scatter"
           }
          ],
          "scatter3d": [
           {
            "line": {
             "colorbar": {
              "outlinewidth": 0,
              "ticks": ""
             }
            },
            "marker": {
             "colorbar": {
              "outlinewidth": 0,
              "ticks": ""
             }
            },
            "type": "scatter3d"
           }
          ],
          "scattercarpet": [
           {
            "marker": {
             "colorbar": {
              "outlinewidth": 0,
              "ticks": ""
             }
            },
            "type": "scattercarpet"
           }
          ],
          "scattergeo": [
           {
            "marker": {
             "colorbar": {
              "outlinewidth": 0,
              "ticks": ""
             }
            },
            "type": "scattergeo"
           }
          ],
          "scattergl": [
           {
            "marker": {
             "colorbar": {
              "outlinewidth": 0,
              "ticks": ""
             }
            },
            "type": "scattergl"
           }
          ],
          "scattermap": [
           {
            "marker": {
             "colorbar": {
              "outlinewidth": 0,
              "ticks": ""
             }
            },
            "type": "scattermap"
           }
          ],
          "scattermapbox": [
           {
            "marker": {
             "colorbar": {
              "outlinewidth": 0,
              "ticks": ""
             }
            },
            "type": "scattermapbox"
           }
          ],
          "scatterpolar": [
           {
            "marker": {
             "colorbar": {
              "outlinewidth": 0,
              "ticks": ""
             }
            },
            "type": "scatterpolar"
           }
          ],
          "scatterpolargl": [
           {
            "marker": {
             "colorbar": {
              "outlinewidth": 0,
              "ticks": ""
             }
            },
            "type": "scatterpolargl"
           }
          ],
          "scatterternary": [
           {
            "marker": {
             "colorbar": {
              "outlinewidth": 0,
              "ticks": ""
             }
            },
            "type": "scatterternary"
           }
          ],
          "surface": [
           {
            "colorbar": {
             "outlinewidth": 0,
             "ticks": ""
            },
            "colorscale": [
             [
              0,
              "#0d0887"
             ],
             [
              0.1111111111111111,
              "#46039f"
             ],
             [
              0.2222222222222222,
              "#7201a8"
             ],
             [
              0.3333333333333333,
              "#9c179e"
             ],
             [
              0.4444444444444444,
              "#bd3786"
             ],
             [
              0.5555555555555556,
              "#d8576b"
             ],
             [
              0.6666666666666666,
              "#ed7953"
             ],
             [
              0.7777777777777778,
              "#fb9f3a"
             ],
             [
              0.8888888888888888,
              "#fdca26"
             ],
             [
              1,
              "#f0f921"
             ]
            ],
            "type": "surface"
           }
          ],
          "table": [
           {
            "cells": {
             "fill": {
              "color": "#EBF0F8"
             },
             "line": {
              "color": "white"
             }
            },
            "header": {
             "fill": {
              "color": "#C8D4E3"
             },
             "line": {
              "color": "white"
             }
            },
            "type": "table"
           }
          ]
         },
         "layout": {
          "annotationdefaults": {
           "arrowcolor": "#2a3f5f",
           "arrowhead": 0,
           "arrowwidth": 1
          },
          "autotypenumbers": "strict",
          "coloraxis": {
           "colorbar": {
            "outlinewidth": 0,
            "ticks": ""
           }
          },
          "colorscale": {
           "diverging": [
            [
             0,
             "#8e0152"
            ],
            [
             0.1,
             "#c51b7d"
            ],
            [
             0.2,
             "#de77ae"
            ],
            [
             0.3,
             "#f1b6da"
            ],
            [
             0.4,
             "#fde0ef"
            ],
            [
             0.5,
             "#f7f7f7"
            ],
            [
             0.6,
             "#e6f5d0"
            ],
            [
             0.7,
             "#b8e186"
            ],
            [
             0.8,
             "#7fbc41"
            ],
            [
             0.9,
             "#4d9221"
            ],
            [
             1,
             "#276419"
            ]
           ],
           "sequential": [
            [
             0,
             "#0d0887"
            ],
            [
             0.1111111111111111,
             "#46039f"
            ],
            [
             0.2222222222222222,
             "#7201a8"
            ],
            [
             0.3333333333333333,
             "#9c179e"
            ],
            [
             0.4444444444444444,
             "#bd3786"
            ],
            [
             0.5555555555555556,
             "#d8576b"
            ],
            [
             0.6666666666666666,
             "#ed7953"
            ],
            [
             0.7777777777777778,
             "#fb9f3a"
            ],
            [
             0.8888888888888888,
             "#fdca26"
            ],
            [
             1,
             "#f0f921"
            ]
           ],
           "sequentialminus": [
            [
             0,
             "#0d0887"
            ],
            [
             0.1111111111111111,
             "#46039f"
            ],
            [
             0.2222222222222222,
             "#7201a8"
            ],
            [
             0.3333333333333333,
             "#9c179e"
            ],
            [
             0.4444444444444444,
             "#bd3786"
            ],
            [
             0.5555555555555556,
             "#d8576b"
            ],
            [
             0.6666666666666666,
             "#ed7953"
            ],
            [
             0.7777777777777778,
             "#fb9f3a"
            ],
            [
             0.8888888888888888,
             "#fdca26"
            ],
            [
             1,
             "#f0f921"
            ]
           ]
          },
          "colorway": [
           "#636efa",
           "#EF553B",
           "#00cc96",
           "#ab63fa",
           "#FFA15A",
           "#19d3f3",
           "#FF6692",
           "#B6E880",
           "#FF97FF",
           "#FECB52"
          ],
          "font": {
           "color": "#2a3f5f"
          },
          "geo": {
           "bgcolor": "white",
           "lakecolor": "white",
           "landcolor": "#E5ECF6",
           "showlakes": true,
           "showland": true,
           "subunitcolor": "white"
          },
          "hoverlabel": {
           "align": "left"
          },
          "hovermode": "closest",
          "mapbox": {
           "style": "light"
          },
          "paper_bgcolor": "white",
          "plot_bgcolor": "#E5ECF6",
          "polar": {
           "angularaxis": {
            "gridcolor": "white",
            "linecolor": "white",
            "ticks": ""
           },
           "bgcolor": "#E5ECF6",
           "radialaxis": {
            "gridcolor": "white",
            "linecolor": "white",
            "ticks": ""
           }
          },
          "scene": {
           "xaxis": {
            "backgroundcolor": "#E5ECF6",
            "gridcolor": "white",
            "gridwidth": 2,
            "linecolor": "white",
            "showbackground": true,
            "ticks": "",
            "zerolinecolor": "white"
           },
           "yaxis": {
            "backgroundcolor": "#E5ECF6",
            "gridcolor": "white",
            "gridwidth": 2,
            "linecolor": "white",
            "showbackground": true,
            "ticks": "",
            "zerolinecolor": "white"
           },
           "zaxis": {
            "backgroundcolor": "#E5ECF6",
            "gridcolor": "white",
            "gridwidth": 2,
            "linecolor": "white",
            "showbackground": true,
            "ticks": "",
            "zerolinecolor": "white"
           }
          },
          "shapedefaults": {
           "line": {
            "color": "#2a3f5f"
           }
          },
          "ternary": {
           "aaxis": {
            "gridcolor": "white",
            "linecolor": "white",
            "ticks": ""
           },
           "baxis": {
            "gridcolor": "white",
            "linecolor": "white",
            "ticks": ""
           },
           "bgcolor": "#E5ECF6",
           "caxis": {
            "gridcolor": "white",
            "linecolor": "white",
            "ticks": ""
           }
          },
          "title": {
           "x": 0.05
          },
          "xaxis": {
           "automargin": true,
           "gridcolor": "white",
           "linecolor": "white",
           "ticks": "",
           "title": {
            "standoff": 15
           },
           "zerolinecolor": "white",
           "zerolinewidth": 2
          },
          "yaxis": {
           "automargin": true,
           "gridcolor": "white",
           "linecolor": "white",
           "ticks": "",
           "title": {
            "standoff": 15
           },
           "zerolinecolor": "white",
           "zerolinewidth": 2
          }
         }
        },
        "title": {
         "text": "Global Banking Transaction Flows"
        }
       }
      }
     },
     "metadata": {},
     "output_type": "display_data"
    }
   ],
   "source": [
    "visualize_banking_flows(df) "
   ]
  },
  {
   "cell_type": "code",
   "execution_count": 83,
   "id": "fed308a2",
   "metadata": {},
   "outputs": [],
   "source": [
    "# Dictionary of region coordinates (latitude, longitude)\n",
    "region_coordinates = {\n",
    "    'North America': (40.0, -100.0),\n",
    "    'South America': (-15.0, -60.0),\n",
    "    'Europe': (50.0, 10.0),\n",
    "    'Africa': (0.0, 20.0),\n",
    "    'Middle East': (25.0, 45.0),\n",
    "    'Asia': (30.0, 100.0),\n",
    "    'Australia': (-25.0, 135.0),\n",
    "    'Caribbean': (20.0, -75.0),\n",
    "    'Central America': (15.0, -90.0),\n",
    "    'Southeast Asia': (10.0, 105.0),\n",
    "    'East Asia': (35.0, 120.0),\n",
    "    'South Asia': (25.0, 80.0),\n",
    "    'Central Asia': (45.0, 60.0),\n",
    "    'Eastern Europe': (55.0, 30.0),\n",
    "    'Northern Europe': (60.0, 15.0),\n",
    "    'Southern Europe': (40.0, 15.0),\n",
    "    'Western Europe': (48.0, 5.0),\n",
    "    'Northern Africa': (25.0, 15.0),\n",
    "    'Western Africa': (10.0, 0.0),\n",
    "    'Eastern Africa': (5.0, 35.0),\n",
    "    'Southern Africa': (-25.0, 25.0),\n",
    "    'Central Africa': (0.0, 20.0),\n",
    "    'Oceania': (-10.0, 150.0),\n",
    "    'Pacific Islands': (0.0, 160.0)\n",
    "}\n",
    "import plotly.express as px\n",
    "import plotly.express as px\n",
    "import pandas as pd\n",
    "\n",
    "def plot_transaction_time_series(df, \n",
    "                                  value_column='amount',\n",
    "                                  time_column='year',\n",
    "                                  group_by='send bank',  # Can also be 'receiver bank'\n",
    "                                  aggfunc='sum',\n",
    "                                  title='Transaction Trends Over Time by Bank',\n",
    "                                  status_filter=None,\n",
    "                                  payment_filter=None,\n",
    "                                  region_filter=None):\n",
    "    \"\"\"\n",
    "    Create a detailed interactive time series plot for transaction volume or amount over time, grouped by banks.\n",
    "\n",
    "    Parameters:\n",
    "    - df (pd.DataFrame): The transaction data.\n",
    "    - value_column (str): Column to aggregate ('amount' or 'Count').\n",
    "    - time_column (str): Column representing time ('year', 'month', or full datetime).\n",
    "    - group_by (str): Column to group lines by (e.g., 'send bank', 'receiver bank').\n",
    "    - aggfunc (str): Aggregation function ('sum' or 'count').\n",
    "    - title (str): Title of the plot.\n",
    "    - status_filter (str): Optional filter for 'transaction_status'.\n",
    "    - payment_filter (str): Optional filter for 'payment_method'.\n",
    "    - region_filter (str): Optional filter for specific region ('send region' or 'receiver region').\n",
    "\n",
    "    Returns:\n",
    "    - plotly.graph_objs._figure.Figure\n",
    "    \"\"\"\n",
    "    # Apply optional filters\n",
    "    if status_filter:\n",
    "        df = df[df['transaction_status'] == status_filter]\n",
    "    if payment_filter:\n",
    "        df = df[df['payment_method'] == payment_filter]\n",
    "    if region_filter and region_filter in df.columns:\n",
    "        df = df[df[region_filter].notna()]  # or specify a region like df[df[region_filter] == 'Delhi']\n",
    "\n",
    "    # Group and aggregate\n",
    "    grouped = df.groupby([time_column, group_by])[value_column].agg(aggfunc).reset_index()\n",
    "    grouped.rename(columns={value_column: 'value'}, inplace=True)\n",
    "\n",
    "    fig = px.line(\n",
    "        grouped,\n",
    "        x=time_column,\n",
    "        y='value',\n",
    "        color=group_by,\n",
    "        markers=True,\n",
    "        title=title,\n",
    "        labels={\n",
    "            time_column: time_column.replace('_', ' ').title(),\n",
    "            'value': value_column.title(),\n",
    "            group_by: group_by.replace('_', ' ').title()\n",
    "        }\n",
    "    )\n",
    "\n",
    "    fig.update_layout(\n",
    "        xaxis=dict(dtick=1),\n",
    "        yaxis_title=value_column.title(),\n",
    "        legend_title=group_by.replace('_', ' ').title()\n",
    "    )\n",
    "    \n",
    "    fig.show()\n",
    "    return fig\n",
    "\n",
    "\n",
    "\n",
    "def plot_transaction_heatmap(df, \n",
    "                              value_column='Count', \n",
    "                              aggfunc='count', \n",
    "                              title='Heatmap of Transaction Volumes Between Regions',\n",
    "                              status_filter=None):\n",
    "    \"\"\"\n",
    "    Create an interactive heatmap showing transaction volumes between regions.\n",
    "\n",
    "    Parameters:\n",
    "    - df (pd.DataFrame): The transaction data.\n",
    "    - value_column (str): The column to aggregate (e.g., 'Count' for frequency or 'amount' for value).\n",
    "    - aggfunc (str): Aggregation function: 'count' or 'sum'.\n",
    "    - title (str): Title of the heatmap.\n",
    "    - status_filter (str): Optional filter for transaction_status (e.g., 'Completed').\n",
    "\n",
    "    Returns:\n",
    "    - plotly.graph_objs._figure.Figure\n",
    "    \"\"\"\n",
    "    if status_filter:\n",
    "        df = df[df['transaction_status'] == status_filter]\n",
    "\n",
    "    # Create pivot table\n",
    "    matrix = df.pivot_table(\n",
    "        index='send region',\n",
    "        columns='receiver region',\n",
    "        values=value_column,\n",
    "        aggfunc=aggfunc,\n",
    "        fill_value=0\n",
    "    )\n",
    "\n",
    "    # Generate heatmap\n",
    "    fig = px.imshow(\n",
    "        matrix,\n",
    "        labels=dict(x=\"Receiver Region\", y=\"Sender Region\", color=value_column.title()),\n",
    "        x=matrix.columns,\n",
    "        y=matrix.index,\n",
    "        color_continuous_scale='Viridis',\n",
    "        text_auto=True\n",
    "    )\n",
    "\n",
    "    fig.update_layout(\n",
    "        title=title,\n",
    "        xaxis_title=\"Receiver Region\",\n",
    "        yaxis_title=\"Sender Region\",\n",
    "        autosize=True\n",
    "    )\n",
    "\n",
    "    fig.show()\n",
    "    return fig\n",
    "\n",
    "def create_sankey_for_regions(df, send_region=None, receive_region=None, year=None):\n",
    "    \"\"\"\n",
    "    Create an enhanced Sankey diagram for transactions between specified regions,\n",
    "    with hover animations and flow animations for the links.\n",
    "    \n",
    "    Parameters:\n",
    "    -----------\n",
    "    df : pandas DataFrame\n",
    "        The DataFrame containing transaction data\n",
    "    send_region : str, optional\n",
    "        Region to filter senders by\n",
    "    receive_region : str, optional\n",
    "        Region to filter receivers by\n",
    "    year : int, optional\n",
    "        Year to filter transactions by\n",
    "    \n",
    "    Returns:\n",
    "    --------\n",
    "    plotly.graph_objects.Figure\n",
    "        A Sankey diagram figure with enhanced animations\n",
    "    \"\"\"\n",
    "    import pandas as pd\n",
    "    import numpy as np\n",
    "    import plotly.graph_objects as go\n",
    "    \n",
    "    # Create a copy to avoid modifying the original\n",
    "    filtered_df = df.copy()\n",
    "    \n",
    "    # Filter data if regions are specified\n",
    "    title_parts = []\n",
    "    \n",
    "    if send_region:\n",
    "        filtered_df = filtered_df[filtered_df['send region'] == send_region]\n",
    "        title_parts.append(f\"from {send_region}\")\n",
    "    \n",
    "    if receive_region:\n",
    "        filtered_df = filtered_df[filtered_df['receiver region'] == receive_region]\n",
    "        title_parts.append(f\"to {receive_region}\")\n",
    "    \n",
    "    # Filter by year if specified\n",
    "    if year and 'year' in filtered_df.columns:\n",
    "        filtered_df = filtered_df[filtered_df['year'] == year]\n",
    "        title_parts.append(f\"in {year}\")\n",
    "    \n",
    "    if title_parts:\n",
    "        title = f\"Transactions {' '.join(title_parts)}\"\n",
    "    else:\n",
    "        title = \"All Regional Transactions\"\n",
    "    \n",
    "    # Ensure amount categories exist (create if missing)\n",
    "    if 'amount_category' not in filtered_df.columns:\n",
    "        filtered_df['amount_category'] = pd.cut(\n",
    "            filtered_df['amount'], \n",
    "            bins=[0, 1e6, 5e6, 1e7, float('inf')], \n",
    "            labels=['< 1M', '1M-5M', '5M-10M', '> 10M']\n",
    "        )\n",
    "    \n",
    "    # Check if we have data after all the filters\n",
    "    if filtered_df.empty:\n",
    "        fig = go.Figure()\n",
    "        fig.update_layout(\n",
    "            title_text=f\"No data available for {title}\",\n",
    "            annotations=[dict(\n",
    "                text=\"No transactions found for the selected criteria\",\n",
    "                xref=\"paper\", yref=\"paper\",\n",
    "                x=0.5, y=0.5, showarrow=False,\n",
    "                font=dict(size=20)\n",
    "            )]\n",
    "        )\n",
    "        return fig\n",
    "    \n",
    "    # Make sure all columns are properly formatted as strings\n",
    "    str_columns = ['sender', 'receiver', 'currency', 'mx/mt', 'Mt', 'direction', \n",
    "                  'transaction_status', 'payment_method', 'amount_category']\n",
    "    for col in str_columns:\n",
    "        if col in filtered_df.columns and filtered_df[col].dtype != 'str':\n",
    "            filtered_df[col] = filtered_df[col].astype(str)\n",
    "    \n",
    "    # Create the flows according to the specified path\n",
    "    # sender → receiver\n",
    "    flow1 = filtered_df.groupby(['sender', 'receiver']).size().reset_index(name='count')\n",
    "    \n",
    "    # receiver → currency\n",
    "    flow2 = filtered_df.groupby(['receiver', 'currency']).size().reset_index(name='count')\n",
    "    \n",
    "    # currency → mx/mt\n",
    "    flow3 = filtered_df.groupby(['currency', 'mx/mt']).size().reset_index(name='count')\n",
    "    \n",
    "    # mx/mt → mt\n",
    "    flow4 = filtered_df.groupby(['mx/mt', 'Mt']).size().reset_index(name='count')\n",
    "    \n",
    "    # mt → direction\n",
    "    flow5 = filtered_df.groupby(['Mt', 'direction']).size().reset_index(name='count')\n",
    "    \n",
    "    # direction → transaction_status (new flow)\n",
    "    flow6 = filtered_df.groupby(['direction', 'transaction_status']).size().reset_index(name='count')\n",
    "    \n",
    "    # transaction_status → payment_method (new flow)\n",
    "    flow7 = filtered_df.groupby(['transaction_status', 'payment_method']).size().reset_index(name='count')\n",
    "    \n",
    "    # payment_method → amount (new flow)\n",
    "    flow8 = filtered_df.groupby(['payment_method', 'amount_category']).size().reset_index(name='count')\n",
    "    \n",
    "    # Get all unique labels\n",
    "    labels = pd.unique(\n",
    "        flow1['sender'].tolist() +\n",
    "        flow1['receiver'].tolist() +\n",
    "        flow2['currency'].tolist() +\n",
    "        flow3['mx/mt'].tolist() +\n",
    "        flow4['Mt'].tolist() +\n",
    "        flow5['direction'].tolist() +\n",
    "        flow6['transaction_status'].tolist() +\n",
    "        flow7['payment_method'].tolist() +\n",
    "        flow8['amount_category'].astype(str).tolist()\n",
    "    )\n",
    "    \n",
    "    # Map labels to indices\n",
    "    label_to_index = {label: i for i, label in enumerate(labels)}\n",
    "    \n",
    "    # Prepare sources, targets, and values for links\n",
    "    source, target, value = [], [], []\n",
    "    link_labels = []\n",
    "    \n",
    "    # sender → receiver\n",
    "    for _, row in flow1.iterrows():\n",
    "        source.append(label_to_index[row['sender']])\n",
    "        target.append(label_to_index[row['receiver']])\n",
    "        value.append(row['count'])\n",
    "        link_labels.append(f\"{row['sender']} → {row['receiver']}<br>Count: {row['count']}\")\n",
    "    \n",
    "    # receiver → currency\n",
    "    for _, row in flow2.iterrows():\n",
    "        source.append(label_to_index[row['receiver']])\n",
    "        target.append(label_to_index[row['currency']])\n",
    "        value.append(row['count'])\n",
    "        link_labels.append(f\"{row['receiver']} → {row['currency']}<br>Count: {row['count']}\")\n",
    "    \n",
    "    # currency → mx/mt\n",
    "    for _, row in flow3.iterrows():\n",
    "        source.append(label_to_index[row['currency']])\n",
    "        target.append(label_to_index[row['mx/mt']])\n",
    "        value.append(row['count'])\n",
    "        link_labels.append(f\"{row['currency']} → {row['mx/mt']}<br>Count: {row['count']}\")\n",
    "    \n",
    "    # mx/mt → mt\n",
    "    for _, row in flow4.iterrows():\n",
    "        source.append(label_to_index[row['mx/mt']])\n",
    "        target.append(label_to_index[row['Mt']])\n",
    "        value.append(row['count'])\n",
    "        link_labels.append(f\"{row['mx/mt']} → {row['Mt']}<br>Count: {row['count']}\")\n",
    "    \n",
    "    # mt → direction\n",
    "    for _, row in flow5.iterrows():\n",
    "        source.append(label_to_index[row['Mt']])\n",
    "        target.append(label_to_index[row['direction']])\n",
    "        value.append(row['count'])\n",
    "        link_labels.append(f\"{row['Mt']} → {row['direction']}<br>Count: {row['count']}\")\n",
    "    \n",
    "    # direction → transaction_status (new flow)\n",
    "    for _, row in flow6.iterrows():\n",
    "        source.append(label_to_index[row['direction']])\n",
    "        target.append(label_to_index[row['transaction_status']])\n",
    "        value.append(row['count'])\n",
    "        link_labels.append(f\"{row['direction']} → {row['transaction_status']}<br>Count: {row['count']}\")\n",
    "    \n",
    "    # transaction_status → payment_method (new flow)\n",
    "    for _, row in flow7.iterrows():\n",
    "        source.append(label_to_index[row['transaction_status']])\n",
    "        target.append(label_to_index[row['payment_method']])\n",
    "        value.append(row['count'])\n",
    "        link_labels.append(f\"{row['transaction_status']} → {row['payment_method']}<br>Count: {row['count']}\")\n",
    "    \n",
    "    # payment_method → amount_category (new flow)\n",
    "    for _, row in flow8.iterrows():\n",
    "        source.append(label_to_index[row['payment_method']])\n",
    "        target.append(label_to_index[str(row['amount_category'])])\n",
    "        value.append(row['count'])\n",
    "        link_labels.append(f\"{row['payment_method']} → {row['amount_category']}<br>Count: {row['count']}\")\n",
    "    \n",
    "    # Set up colors for nodes and links\n",
    "    num_nodes = len(labels)\n",
    "    node_colors = [\"rgba(31, 119, 180, 0.8)\"] * num_nodes  # Default blue color\n",
    "    \n",
    "    # Create color groups for different node types\n",
    "    sender_idx    = [label_to_index[label] for label in pd.Series(flow1['sender']).unique()]\n",
    "    receiver_idx  = [label_to_index[label] for label in pd.Series(flow1['receiver']).unique()]\n",
    "    currency_idx  = [label_to_index[label] for label in pd.Series(flow2['currency']).unique()]\n",
    "    mxmt_idx      = [label_to_index[label] for label in pd.Series(flow3['mx/mt']).unique()]\n",
    "    mt_idx        = [label_to_index[label] for label in pd.Series(flow4['Mt']).unique()]\n",
    "    direction_idx = [label_to_index[label] for label in pd.Series(flow5['direction']).unique()]\n",
    "    status_idx    = [label_to_index[label] for label in pd.Series(flow6['transaction_status']).unique()]\n",
    "    payment_idx   = [label_to_index[label] for label in pd.Series(flow7['payment_method']).unique()]\n",
    "    amount_idx    = [label_to_index[str(label)] for label in pd.Series(flow8['amount_category']).unique()]\n",
    "\n",
    "    \n",
    "    # Assign different colors to each node type\n",
    "    for idx in sender_idx:\n",
    "        node_colors[idx] = \"rgba(214, 39, 40, 0.8)\"  # Red for senders\n",
    "    for idx in receiver_idx:\n",
    "        node_colors[idx] = \"rgba(44, 160, 44, 0.8)\"  # Green for receivers\n",
    "    for idx in currency_idx:\n",
    "        node_colors[idx] = \"rgba(255, 127, 14, 0.8)\"  # Orange for currency\n",
    "    for idx in mxmt_idx:\n",
    "        node_colors[idx] = \"rgba(148, 103, 189, 0.8)\"  # Purple for mx/mt\n",
    "    for idx in mt_idx:\n",
    "        node_colors[idx] = \"rgba(140, 86, 75, 0.8)\"   # Brown for Mt\n",
    "    for idx in direction_idx:\n",
    "        node_colors[idx] = \"rgba(23, 190, 207, 0.8)\"  # Cyan for directions\n",
    "    for idx in status_idx:\n",
    "        node_colors[idx] = \"rgba(188, 189, 34, 0.8)\"  # Yellow-green for transaction status\n",
    "    for idx in payment_idx:\n",
    "        node_colors[idx] = \"rgba(127, 127, 127, 0.8)\"  # Gray for payment method\n",
    "    for idx in amount_idx:\n",
    "        node_colors[idx] = \"rgba(31, 119, 180, 0.8)\"  # Blue for amount categories\n",
    "    \n",
    "    # Create base and hover colors for links based on their source\n",
    "    link_colors = []\n",
    "    link_hover_colors = []\n",
    "    \n",
    "    for s in source:\n",
    "        # Normal state: semi-transparent\n",
    "        base_color = node_colors[s].replace(\"0.8\", \"0.4\")  # More transparent for normal state\n",
    "        # Hover state: more opaque and brighter\n",
    "        hover_color = node_colors[s].replace(\"0.8\", \"0.9\")  # More opaque for hover state\n",
    "        \n",
    "        link_colors.append(base_color)\n",
    "        link_hover_colors.append(hover_color)\n",
    "    \n",
    "    # Create the Sankey diagram with enhanced styling\n",
    "    fig = go.Figure(data=[go.Sankey(\n",
    "        arrangement=\"snap\",\n",
    "        node=dict(\n",
    "            pad=20,\n",
    "            thickness=20,\n",
    "            line=dict(color=\"black\", width=0.5),\n",
    "            label=list(labels),\n",
    "            color=node_colors,\n",
    "            # Add hover effect to nodes\n",
    "            hoverinfo=\"all\",\n",
    "            hoverlabel=dict(\n",
    "                bgcolor=\"white\",\n",
    "                font_size=14,\n",
    "                font_family=\"Arial\"\n",
    "            )\n",
    "        ),\n",
    "        link=dict(\n",
    "            source=source,\n",
    "            target=target,\n",
    "            value=value,\n",
    "            color=link_colors,\n",
    "            # Add animated hover effect for links\n",
    "            customdata=np.array(link_labels),\n",
    "            hovertemplate='%{customdata}<extra></extra>',\n",
    "            hoverlabel=dict(\n",
    "                bgcolor=\"white\",\n",
    "                font_size=14,\n",
    "                font_family=\"Arial\"\n",
    "            )\n",
    "        )\n",
    "    )])\n",
    "    \n",
    "    # Add flow animation using frames\n",
    "    # We'll create frames to animate link opacity to simulate flow\n",
    "    frames = []\n",
    "    \n",
    "    # Create several frames with different link opacities to simulate flow\n",
    "    for i in range(10):\n",
    "        # Generate a flow pattern that moves from left to right\n",
    "        phase = i / 10.0\n",
    "        flow_colors = []\n",
    "        \n",
    "        for s, t in zip(source, target):\n",
    "            # Calculate distance from left to right (normalized)\n",
    "            pos = (s + t) / (2 * num_nodes)\n",
    "            \n",
    "            # Create a wave pattern that moves across the links\n",
    "            intensity = 0.5 + 0.4 * np.sin(2 * np.pi * (pos - phase))\n",
    "            \n",
    "            # Apply the intensity to the base color\n",
    "            base_color = node_colors[s].replace(\"0.8\", str(intensity))\n",
    "            flow_colors.append(base_color)\n",
    "        \n",
    "        # Create a frame with the current flow pattern\n",
    "        frames.append(go.Frame(\n",
    "            data=[go.Sankey(\n",
    "                link=dict(color=flow_colors)\n",
    "            )],\n",
    "            name=f\"frame{i}\"\n",
    "        ))\n",
    "    \n",
    "    # Add frames to the figure\n",
    "    fig.frames = frames\n",
    "    \n",
    "    # Add play button for animation\n",
    "    fig.update_layout(\n",
    "        updatemenus=[\n",
    "            dict(\n",
    "                type=\"buttons\",\n",
    "                showactive=False,\n",
    "                buttons=[\n",
    "                    dict(\n",
    "                        label=\"Play Flow\",\n",
    "                        method=\"animate\",\n",
    "                        args=[\n",
    "                            None,\n",
    "                            dict(\n",
    "                                frame=dict(duration=200, redraw=True),\n",
    "                                fromcurrent=True,\n",
    "                                mode=\"immediate\",\n",
    "                                transition=dict(duration=200)\n",
    "                            )\n",
    "                        ]\n",
    "                    )\n",
    "                ],\n",
    "                x=0.1,\n",
    "                y=1,\n",
    "            )\n",
    "        ]\n",
    "    )\n",
    "    \n",
    "    # Add annotations to describe each column\n",
    "    fig.update_layout(\n",
    "        title_text=title,\n",
    "        font_size=12,\n",
    "        height=800,  # Increased height to accommodate more nodes\n",
    "        width=1200,  # Increased width to accommodate more columns\n",
    "        # Add hover mode settings to improve interactivity\n",
    "        hovermode=\"closest\",\n",
    "        hoverdistance=10,\n",
    "        # Add transition settings for smoother animations\n",
    "        transition=dict(\n",
    "            duration=1000,\n",
    "            easing=\"cubic-in-out\"\n",
    "        ),\n",
    "        annotations=[\n",
    "            dict(x=0.02, y=1, xref='paper', yref='paper', text='Sender', showarrow=False, font=dict(size=14, color='black')),\n",
    "            dict(x=0.14, y=1, xref='paper', yref='paper', text='Receiver', showarrow=False, font=dict(size=14, color='black')),\n",
    "            dict(x=0.25, y=1, xref='paper', yref='paper', text='Currency', showarrow=False, font=dict(size=14, color='black')),\n",
    "            dict(x=0.37, y=1, xref='paper', yref='paper', text='MX/MT', showarrow=False, font=dict(size=14, color='black')),\n",
    "            dict(x=0.48, y=1, xref='paper', yref='paper', text='MT', showarrow=False, font=dict(size=14, color='black')),\n",
    "            dict(x=0.60, y=1, xref='paper', yref='paper', text='Direction', showarrow=False, font=dict(size=14, color='black')),\n",
    "            dict(x=0.71, y=1, xref='paper', yref='paper', text='Status', showarrow=False, font=dict(size=14, color='black')),\n",
    "            dict(x=0.83, y=1, xref='paper', yref='paper', text='Payment', showarrow=False, font=dict(size=14, color='black')),\n",
    "            dict(x=0.94, y=1, xref='paper', yref='paper', text='Amount', showarrow=False, font=dict(size=14, color='black')),\n",
    "        ]\n",
    "    )\n",
    "    \n",
    "    # Add custom CSS for hover effects\n",
    "    fig.update_layout(\n",
    "        hoverlabel_bgcolor=\"white\",\n",
    "        hoverlabel_font_size=14,\n",
    "        hoverlabel_font_family=\"Arial\"\n",
    "    )\n",
    "    \n",
    "    # Add configuration options for better interactivity\n",
    "    fig.update_layout(\n",
    "        dragmode=\"pan\",\n",
    "        clickmode=\"event+select\"\n",
    "    )\n",
    "    \n",
    "    return fig\n",
    "\n",
    "def create_flow_map(df, animate=False):\n",
    "    \n",
    "    import pandas as pd\n",
    "    import numpy as np\n",
    "    import plotly.graph_objects as go\n",
    "    from plotly.subplots import make_subplots\n",
    "    \n",
    "    # Aggregate transactions by sender and receiver regions\n",
    "    region_flows = df.groupby(['send region', 'receiver region'])['amount'].sum().reset_index()\n",
    "    \n",
    "    # Filter out flows where sender and receiver are the same\n",
    "    region_flows = region_flows[region_flows['send region'] != region_flows['receiver region']]\n",
    "    \n",
    "    # Create a figure with a map\n",
    "    fig = go.Figure()\n",
    "    \n",
    "    # Add a basemap\n",
    "    fig.add_trace(go.Scattergeo(\n",
    "        lon=[],\n",
    "        lat=[],\n",
    "        mode='markers',\n",
    "        marker=dict(\n",
    "            size=1,\n",
    "            color='rgba(0,0,0,0)'\n",
    "        ),\n",
    "        showlegend=False,\n",
    "        hoverinfo='none'\n",
    "    ))\n",
    "    \n",
    "    # Set up color scale for flows based on amount\n",
    "    max_amount = region_flows['amount'].max()\n",
    "    min_amount = region_flows['amount'].min()\n",
    "    \n",
    "    # Add region markers\n",
    "    all_regions = set(region_flows['send region'].unique()).union(set(region_flows['receiver region'].unique()))\n",
    "    \n",
    "    # Add only regions that have coordinates\n",
    "    valid_regions = [region for region in all_regions if region in region_coordinates]\n",
    "    \n",
    "    # Create a list of region names, longitudes, and latitudes\n",
    "    region_names = []\n",
    "    region_lons = []\n",
    "    region_lats = []\n",
    "    \n",
    "    for region in valid_regions:\n",
    "        if region in region_coordinates:\n",
    "            region_names.append(region)\n",
    "            region_lons.append(region_coordinates[region][1])  # lon\n",
    "            region_lats.append(region_coordinates[region][0])  # lat\n",
    "    \n",
    "    # Add region markers\n",
    "    fig.add_trace(go.Scattergeo(\n",
    "        lon=region_lons,\n",
    "        lat=region_lats,\n",
    "        text=region_names,\n",
    "        mode='markers+text',\n",
    "        marker=dict(\n",
    "            size=10,\n",
    "            color='blue',\n",
    "            line=dict(width=1, color='black')\n",
    "        ),\n",
    "        textposition=\"top center\",\n",
    "        name='Regions',\n",
    "        hoverinfo='text'\n",
    "    ))\n",
    "    \n",
    "    # Calculate normalized amounts for line widths and colors\n",
    "    region_flows['normalized_amount'] = (region_flows['amount'] - min_amount) / (max_amount - min_amount)\n",
    "    region_flows['width'] = 1 + 5 * region_flows['normalized_amount']  # Line width between 1 and 6\n",
    "    \n",
    "    # Add flow lines \n",
    "    # We'll create separate traces for each flow to enable better control over animations\n",
    "    for idx, flow in region_flows.iterrows():\n",
    "        sender = flow['send region']\n",
    "        receiver = flow['receiver region']\n",
    "        \n",
    "        # Skip if we don't have coordinates for either region\n",
    "        if sender not in region_coordinates or receiver not in region_coordinates:\n",
    "            continue\n",
    "        \n",
    "        # Get coordinates\n",
    "        sender_lat, sender_lon = region_coordinates[sender]\n",
    "        receiver_lat, receiver_lon = region_coordinates[receiver]\n",
    "        \n",
    "        # Calculate control point for curved lines\n",
    "        # We'll make a curved line by adding a midpoint that's offset\n",
    "        mid_lon = (sender_lon + receiver_lon) / 2\n",
    "        mid_lat = (sender_lat + receiver_lat) / 2\n",
    "        \n",
    "        # Add some curvature based on distance\n",
    "        dist = np.sqrt((receiver_lon - sender_lon)**2 + (receiver_lat - sender_lat)**2)\n",
    "        curve_strength = 0.1 * dist  # Adjust this factor for more/less curvature\n",
    "        \n",
    "        # Calculate perpendicular offset\n",
    "        dx = receiver_lon - sender_lon\n",
    "        dy = receiver_lat - sender_lat\n",
    "        \n",
    "        # Get perpendicular direction (rotate 90 degrees)\n",
    "        perp_dx = -dy\n",
    "        perp_dy = dx\n",
    "        \n",
    "        # Normalize and apply curve strength\n",
    "        magnitude = np.sqrt(perp_dx**2 + perp_dy**2)\n",
    "        if magnitude > 0:  # Avoid division by zero\n",
    "            perp_dx = perp_dx / magnitude * curve_strength\n",
    "            perp_dy = perp_dy / magnitude * curve_strength\n",
    "        \n",
    "        # Apply offset to midpoint\n",
    "        mid_lon += perp_dx\n",
    "        mid_lat += perp_dy\n",
    "        \n",
    "        # Create a smooth curve using multiple points\n",
    "        lon_points = []\n",
    "        lat_points = []\n",
    "        num_points = 20\n",
    "        \n",
    "        for i in range(num_points):\n",
    "            t = i / (num_points - 1)\n",
    "            # Quadratic Bezier curve\n",
    "            lon = (1-t)**2 * sender_lon + 2*(1-t)*t * mid_lon + t**2 * receiver_lon\n",
    "            lat = (1-t)**2 * sender_lat + 2*(1-t)*t * mid_lat + t**2 * receiver_lat\n",
    "            lon_points.append(lon)\n",
    "            lat_points.append(lat)\n",
    "        \n",
    "        # Calculate color based on normalized amount (blue to red)\n",
    "        color = f'rgba({int(255 * flow[\"normalized_amount\"])}, 0, {int(255 * (1 - flow[\"normalized_amount\"]))}, 0.8)'\n",
    "        \n",
    "        # Add the flow line\n",
    "        fig.add_trace(go.Scattergeo(\n",
    "            lon=lon_points,\n",
    "            lat=lat_points,\n",
    "            mode='lines',\n",
    "            line=dict(\n",
    "                width=flow['width'],\n",
    "                color=color\n",
    "            ),\n",
    "            opacity=0.7,\n",
    "            name=f\"{sender} → {receiver}\",\n",
    "            text=f\"{sender} → {receiver}: ${flow['amount']:,.2f}\",\n",
    "            hoverinfo='text',\n",
    "            customdata=[{\n",
    "                'sender': sender,\n",
    "                'receiver': receiver,\n",
    "                'amount': flow['amount'],\n",
    "                'normalized_amount': flow['normalized_amount']\n",
    "            }]\n",
    "        ))\n",
    "    \n",
    "    # Configure the base map\n",
    "    fig.update_geos(\n",
    "        showcoastlines=True, coastlinecolor=\"Black\",\n",
    "        showland=True, landcolor=\"LightGreen\",\n",
    "        showocean=True, oceancolor=\"LightBlue\",\n",
    "        showlakes=True, lakecolor=\"Blue\",\n",
    "        showrivers=True, rivercolor=\"Blue\",\n",
    "        showcountries=True, countrycolor=\"Black\"\n",
    "    )\n",
    "    \n",
    "    # Add animation frames if requested\n",
    "    if animate:\n",
    "        frames = []\n",
    "        \n",
    "        for frame_idx in range(20):\n",
    "            frame_data = []\n",
    "            \n",
    "            # First add the basemap and markers (unchanged)\n",
    "            frame_data.append(fig.data[0])  # Basemap\n",
    "            frame_data.append(fig.data[1])  # Region markers\n",
    "            \n",
    "            # For each flow line, create an animated version\n",
    "            for flow_idx in range(2, len(fig.data)):\n",
    "                flow_trace = fig.data[flow_idx]\n",
    "                \n",
    "                # Create a progress value that moves along the path\n",
    "                progress = frame_idx / 20.0\n",
    "                \n",
    "                # For animation, we'll show only part of the path up to the current progress\n",
    "                visible_points = int(progress * len(flow_trace.lon)) + 1\n",
    "                visible_points = max(2, min(visible_points, len(flow_trace.lon)))\n",
    "                \n",
    "                \n",
    "                animated_trace = go.Scattergeo(\n",
    "                    lon=flow_trace.lon[:visible_points],\n",
    "                    lat=flow_trace.lat[:visible_points],\n",
    "                    mode='lines',\n",
    "                    line=dict(\n",
    "                        width=flow_trace.line.width,\n",
    "                        color=flow_trace.line.color\n",
    "                    ),\n",
    "                    opacity=flow_trace.opacity,\n",
    "                    name=flow_trace.name,\n",
    "                    text=flow_trace.text,\n",
    "                    hoverinfo=flow_trace.hoverinfo\n",
    "                )\n",
    "                \n",
    "                frame_data.append(animated_trace)\n",
    "            \n",
    "            # Create the frame\n",
    "            frames.append(go.Frame(\n",
    "                data=frame_data,\n",
    "                name=f\"frame{frame_idx}\"\n",
    "            ))\n",
    "        \n",
    "        \n",
    "        fig.frames = frames\n",
    "        \n",
    "       \n",
    "        fig.update_layout(\n",
    "            updatemenus=[\n",
    "                dict(\n",
    "                    type=\"buttons\",\n",
    "                    showactive=False,\n",
    "                    buttons=[\n",
    "                        dict(\n",
    "                            label=\"Play Flow Animation\",\n",
    "                            method=\"animate\",\n",
    "                            args=[\n",
    "                                None,\n",
    "                                dict(\n",
    "                                    frame=dict(duration=100, redraw=True),\n",
    "                                    fromcurrent=True,\n",
    "                                    mode=\"immediate\",\n",
    "                                    transition=dict(duration=50)\n",
    "                                )\n",
    "                            ]\n",
    "                        )\n",
    "                    ],\n",
    "                    x=0.1,\n",
    "                    y=0.95,\n",
    "                )\n",
    "            ]\n",
    "        )\n",
    "    \n",
    "    fig.update_layout(\n",
    "        title=\"Global Banking Transaction Flows\",\n",
    "        height=600,\n",
    "        showlegend=False,\n",
    "        geo=dict(\n",
    "            projection_type=\"natural earth\",\n",
    "            showframe=False,\n",
    "            showcountries=True\n",
    "        )\n",
    "    )\n",
    "    \n",
    "    return fig\n",
    "\n",
    "\n",
    "def visualize_banking_flows(df):\n",
    "    import ipywidgets as widgets\n",
    "    from ipywidgets import Layout\n",
    "    \n",
    "    \n",
    "    required_columns = ['send region', 'receiver region', 'amount', 'transaction_status', 'payment_method']\n",
    "    missing_columns = [col for col in required_columns if col not in df.columns]\n",
    "    \n",
    "    if missing_columns:\n",
    "        raise ValueError(f\"Missing required columns in dataframe: {missing_columns}\")\n",
    "    \n",
    "    if 'year' not in df.columns:\n",
    "        print(\"Warning: 'year' column not found in data. Creating a dummy year column with value 2023.\")\n",
    "        df['year'] = 2023\n",
    "    \n",
    "    # Ensure all regions are in the coordinates dictionary\n",
    "    unknown_send_regions = set(df['send region'].unique()) - set(region_coordinates.keys())\n",
    "    unknown_recv_regions = set(df['receiver region'].unique()) - set(region_coordinates.keys())\n",
    "    \n",
    "    if unknown_send_regions:\n",
    "        print(f\"Warning: Unknown send regions: {unknown_send_regions}\")\n",
    "    if unknown_recv_regions:\n",
    "        print(f\"Warning: Unknown receiver regions: {unknown_recv_regions}\")\n",
    "    \n",
    "    # Get unique regions for dropdowns\n",
    "    all_regions = sorted(list(set(df['send region'].unique()).union(set(df['receiver region'].unique()))))\n",
    "    \n",
    "    # Get unique years for the year dropdown\n",
    "    years = sorted(df['year'].unique())\n",
    "    \n",
    "    # Create dropdown widgets with improved styling\n",
    "    send_dropdown = widgets.Dropdown(\n",
    "        options=['All'] + all_regions,\n",
    "        value='All',\n",
    "        description='Sender Region:',\n",
    "        layout=Layout(width='300px'),\n",
    "        style={'description_width': 'initial'}\n",
    "    )\n",
    "    \n",
    "    receive_dropdown = widgets.Dropdown(\n",
    "        options=['All'] + all_regions,\n",
    "        value='All',\n",
    "        description='Receiver Region:',\n",
    "        layout=Layout(width='300px'),\n",
    "        style={'description_width': 'initial'}\n",
    "    )\n",
    "    \n",
    "    # Create year dropdown\n",
    "    year_dropdown = widgets.Dropdown(\n",
    "        options=['All'] + list(years),\n",
    "        value='All',\n",
    "        description='Year:',\n",
    "        layout=Layout(width='300px'),\n",
    "        style={'description_width': 'initial'}\n",
    "    )\n",
    "    \n",
    "    # Add animation toggle button\n",
    "    animation_button = widgets.ToggleButton(\n",
    "        value=True,  # Default to animation enabled\n",
    "        description='Flow Animation',\n",
    "        disabled=False,\n",
    "        button_style='info',\n",
    "        tooltip='Toggle the flow animation on/off',\n",
    "        icon='play'\n",
    "    )\n",
    "    \n",
    "    # Create output areas for both visualizations\n",
    "    map_output = widgets.Output()\n",
    "    sankey_output = widgets.Output()\n",
    "    heatmap_output = widgets.Output()  \n",
    "    time_series_output=widgets.Output()\n",
    "\n",
    "    \n",
    "    # Create status message for user feedback\n",
    "    status_message = widgets.HTML(\n",
    "        value=\"<div style='padding: 10px; color: #555;'>Select options and click Update to visualize banking flows.</div>\"\n",
    "    )\n",
    "    \n",
    "    # Create an update button for better user experience\n",
    "    update_button = widgets.Button(\n",
    "        description='Update Visualization',\n",
    "        button_style='primary',\n",
    "        tooltip='Click to update the visualization',\n",
    "        icon='refresh'\n",
    "    )\n",
    "    \n",
    "    def update_visualizations(sender_region, receiver_region, year, animate):\n",
    "        # Filter the dataframe based on selections\n",
    "        filtered_df = df.copy()\n",
    "        \n",
    "        send_region = None if sender_region == 'All' else sender_region\n",
    "        receive_region = None if receiver_region == 'All' else receiver_region\n",
    "        selected_year = None if year == 'All' else year\n",
    "        \n",
    "        if send_region:\n",
    "            filtered_df = filtered_df[filtered_df['send region'] == send_region]\n",
    "        \n",
    "        if receive_region:\n",
    "            filtered_df = filtered_df[filtered_df['receiver region'] == receive_region]\n",
    "        \n",
    "        if selected_year and 'year' in filtered_df.columns:\n",
    "            filtered_df = filtered_df[filtered_df['year'] == selected_year]\n",
    "        \n",
    "        # Update the map visualization\n",
    "        with map_output:\n",
    "            map_output.clear_output(wait=True)\n",
    "            status_message.value = \"<div style='padding: 10px; color: #555;'>Generating map visualization...</div>\"\n",
    "            flow_map = create_flow_map(filtered_df, animate=animate)\n",
    "            flow_map.show()\n",
    "        \n",
    "        # Update the sankey diagram\n",
    "        with sankey_output:\n",
    "            sankey_output.clear_output(wait=True)\n",
    "            status_message.value = \"<div style='padding: 10px; color: #555;'>Generating Sankey diagram...</div>\"\n",
    "            sankey_fig = create_sankey_for_regions(filtered_df, send_region, receive_region, selected_year)\n",
    "            \n",
    "            # Start animation if toggle is on\n",
    "            if animate:\n",
    "                sankey_fig.update_layout(\n",
    "                    updatemenus=[dict(\n",
    "                        type=\"buttons\",\n",
    "                        showactive=False,\n",
    "                        buttons=[dict(\n",
    "                            label=\"Play Flow\",\n",
    "                            method=\"animate\",\n",
    "                            args=[None, dict(frame=dict(duration=200, redraw=True), fromcurrent=True, mode=\"immediate\")]\n",
    "                        )],\n",
    "                        active=0\n",
    "                    )]\n",
    "                )\n",
    "            \n",
    "            sankey_fig.show()\n",
    "        with heatmap_output:\n",
    "            heatmap_output.clear_output(wait=True)\n",
    "            status_message.value = \"<div style='padding: 10px; color: #555;'>Generating heatmap visualization...</div>\"\n",
    "            # Create heatmap for transaction counts\n",
    "            matrix = filtered_df.pivot_table(\n",
    "            index='send region',\n",
    "            columns='receiver region',\n",
    "            values='amount',  # or another column\n",
    "            aggfunc='count',  # or 'sum'\n",
    "            fill_value=0\n",
    "        )\n",
    "            \n",
    "            # Generate heatmap\n",
    "            heatmap_fig = px.imshow(\n",
    "                matrix,\n",
    "                labels=dict(x=\"Receiver Region\", y=\"Sender Region\", color=\"Transaction Count\"),\n",
    "                x=matrix.columns,\n",
    "                y=matrix.index,\n",
    "                color_continuous_scale='Viridis',\n",
    "                text_auto=True\n",
    "            )\n",
    "            \n",
    "            heatmap_fig.update_layout(\n",
    "                title=\"Heatmap of Transaction Volumes Between Regions\",\n",
    "                xaxis_title=\"Receiver Region\",\n",
    "                yaxis_title=\"Sender Region\",\n",
    "                autosize=True\n",
    "            )\n",
    "            \n",
    "            heatmap_fig.show()\n",
    "        # Update the time series visualization\n",
    "        with time_series_output:\n",
    "            time_series_output.clear_output(wait=True)\n",
    "            status_message.value = \"<div style='padding: 10px; color: #555;'>Generating time series visualization...</div>\"\n",
    "\n",
    "            try:\n",
    "                plot_transaction_time_series(\n",
    "                    filtered_df,\n",
    "                    value_column='amount',       # or 'Count' if precomputed\n",
    "                    time_column='year',          # adjust if using datetime column\n",
    "                    group_by='send region',      # or 'receiver region', etc.\n",
    "                    aggfunc='sum',               # or 'count'\n",
    "                    title='Transaction Trends Over Time'\n",
    "                )\n",
    "            except Exception as e:\n",
    "                print(f\"Error generating time series: {e}\")\n",
    "\n",
    "        \n",
    "        \n",
    "        \n",
    "        # Update status message\n",
    "        filters = []\n",
    "        if send_region:\n",
    "            filters.append(f\"sender: {send_region}\")\n",
    "        if receive_region:\n",
    "            filters.append(f\"receiver: {receive_region}\")\n",
    "        if selected_year:\n",
    "            filters.append(f\"year: {selected_year}\")\n",
    "            \n",
    "        if filters:\n",
    "            filter_text = \", \".join(filters)\n",
    "            status_message.value = f\"<div style='padding: 10px; color: #555;'>Showing transactions with {filter_text}</div>\"\n",
    "        else:\n",
    "            status_message.value = \"<div style='padding: 10px; color: #555;'>Showing all transactions</div>\"\n",
    "    \n",
    "    def on_update_button_click(b):\n",
    "        update_visualizations(send_dropdown.value, receive_dropdown.value, year_dropdown.value, animation_button.value)\n",
    "    \n",
    "    update_button.on_click(on_update_button_click)\n",
    "    \n",
    "    # Layout the widgets in a more organized way\n",
    "    filters_box = widgets.HBox([send_dropdown, receive_dropdown, year_dropdown])\n",
    "    controls_box = widgets.HBox([animation_button, update_button])\n",
    "    \n",
    "    # Create tabs for map and sankey\n",
    "    tab = widgets.Tab([map_output, sankey_output,heatmap_output,time_series_output])\n",
    "    tab.set_title(0, 'Flow Map')\n",
    "    tab.set_title(1, 'Sankey Diagram')\n",
    "    tab.set_title(2, 'Heatmap')  \n",
    "    tab.set_title(3, 'Time Series')  \n",
    "\n",
    "\n",
    "\n",
    "    styled_dashboard = widgets.HTML(\"\"\"\n",
    "<div style=\"\n",
    "    background-color: #1e1e1e;\n",
    "    color: white;\n",
    "    padding: 30px;\n",
    "    margin: 10px;\n",
    "    border: 1px solid #444;\n",
    "    border-radius: 10px;\n",
    "\">\n",
    "    <h2 style='color: #10a37f;'>Banking Flows Analysis Dashboard</h2>\n",
    "    <p>Use the controls below to explore transaction flows between regions.</p>\n",
    "</div>\n",
    "\"\"\")\n",
    "\n",
    "    # Create a styled container for the interface\n",
    "    container = widgets.VBox([\n",
    "        styled_dashboard,\n",
    "\n",
    "        filters_box,\n",
    "        controls_box,\n",
    "        status_message,\n",
    "        tab\n",
    "    ], layout=Layout(border='1px solid #ddd', padding='30px', margin='10px'))\n",
    "    \n",
    "\n",
    "\n",
    "    dashboard_container = widgets.VBox([\n",
    "    widgets.HTML(\"<style>body { background-color: black; }</style>\"),\n",
    "    container  # your main dashboard container\n",
    "])\n",
    "    display(dashboard_container)\n",
    "\n",
    "   \n",
    "    \n",
    "    # Initial visualization\n",
    "    update_visualizations('All', 'All', 'All', animation_button.value)\n",
    "    \n",
    "    # Return the final filtered dataframe for reference\n",
    "    return df"
   ]
  },
  {
   "cell_type": "code",
   "execution_count": 84,
   "id": "81098a61",
   "metadata": {},
   "outputs": [
    {
     "name": "stdout",
     "output_type": "stream",
     "text": [
      "Warning: Unknown send regions: {np.str_('Latin America'), np.str_('Asia Pacific')}\n",
      "Warning: Unknown receiver regions: {np.str_('Latin America'), np.str_('Asia Pacific')}\n"
     ]
    },
    {
     "data": {
      "application/vnd.jupyter.widget-view+json": {
       "model_id": "9e42ac96e82e43a19693ad5d57bbba87",
       "version_major": 2,
       "version_minor": 0
      },
      "text/plain": [
       "VBox(children=(HTML(value='<style>body { background-color: black; }</style>'), VBox(children=(HTML(value='\\n<d…"
      ]
     },
     "metadata": {},
     "output_type": "display_data"
    },
    {
     "data": {
      "text/html": [
       "<div>\n",
       "<style scoped>\n",
       "    .dataframe tbody tr th:only-of-type {\n",
       "        vertical-align: middle;\n",
       "    }\n",
       "\n",
       "    .dataframe tbody tr th {\n",
       "        vertical-align: top;\n",
       "    }\n",
       "\n",
       "    .dataframe thead th {\n",
       "        text-align: right;\n",
       "    }\n",
       "</style>\n",
       "<table border=\"1\" class=\"dataframe\">\n",
       "  <thead>\n",
       "    <tr style=\"text-align: right;\">\n",
       "      <th></th>\n",
       "      <th>Count</th>\n",
       "      <th>sender</th>\n",
       "      <th>receiver</th>\n",
       "      <th>amount</th>\n",
       "      <th>currency</th>\n",
       "      <th>Mt</th>\n",
       "      <th>year</th>\n",
       "      <th>direction</th>\n",
       "      <th>category</th>\n",
       "      <th>send region</th>\n",
       "      <th>receiver region</th>\n",
       "      <th>mx/mt</th>\n",
       "      <th>transaction_status</th>\n",
       "      <th>payment_method</th>\n",
       "    </tr>\n",
       "  </thead>\n",
       "  <tbody>\n",
       "    <tr>\n",
       "      <th>0</th>\n",
       "      <td>1</td>\n",
       "      <td>Mashreq Bank</td>\n",
       "      <td>United Arab Bank</td>\n",
       "      <td>38111.53</td>\n",
       "      <td>EUR</td>\n",
       "      <td>MT940</td>\n",
       "      <td>2015</td>\n",
       "      <td>Outgoing</td>\n",
       "      <td>Retail Payment</td>\n",
       "      <td>Central Asia</td>\n",
       "      <td>Middle East</td>\n",
       "      <td>MT</td>\n",
       "      <td>Completed</td>\n",
       "      <td>ACH</td>\n",
       "    </tr>\n",
       "    <tr>\n",
       "      <th>1</th>\n",
       "      <td>2</td>\n",
       "      <td>Barclays</td>\n",
       "      <td>RAK Bank</td>\n",
       "      <td>128668.30</td>\n",
       "      <td>GBP</td>\n",
       "      <td>MT799</td>\n",
       "      <td>2022</td>\n",
       "      <td>Incoming</td>\n",
       "      <td>FX Settlement</td>\n",
       "      <td>Latin America</td>\n",
       "      <td>Middle East</td>\n",
       "      <td>MT</td>\n",
       "      <td>Pending</td>\n",
       "      <td>Wire Transfer</td>\n",
       "    </tr>\n",
       "    <tr>\n",
       "      <th>2</th>\n",
       "      <td>3</td>\n",
       "      <td>Royal Bank of Canada</td>\n",
       "      <td>Emirates NBD</td>\n",
       "      <td>26914.61</td>\n",
       "      <td>EUR</td>\n",
       "      <td>MT103</td>\n",
       "      <td>2023</td>\n",
       "      <td>Outgoing</td>\n",
       "      <td>Retail Payment</td>\n",
       "      <td>Southeast Asia</td>\n",
       "      <td>Middle East</td>\n",
       "      <td>MT</td>\n",
       "      <td>Completed</td>\n",
       "      <td>Wire Transfer</td>\n",
       "    </tr>\n",
       "    <tr>\n",
       "      <th>3</th>\n",
       "      <td>4</td>\n",
       "      <td>Bank of China</td>\n",
       "      <td>First Abu Dhabi Bank</td>\n",
       "      <td>1248.98</td>\n",
       "      <td>USD</td>\n",
       "      <td>MT760</td>\n",
       "      <td>2017</td>\n",
       "      <td>Incoming</td>\n",
       "      <td>Trade Finance</td>\n",
       "      <td>Asia Pacific</td>\n",
       "      <td>Middle East</td>\n",
       "      <td>MT</td>\n",
       "      <td>Failed</td>\n",
       "      <td>ACH</td>\n",
       "    </tr>\n",
       "    <tr>\n",
       "      <th>4</th>\n",
       "      <td>5</td>\n",
       "      <td>BNP Paribas</td>\n",
       "      <td>Bank of Tokyo-Mitsubishi UFJ</td>\n",
       "      <td>6710.04</td>\n",
       "      <td>GBP</td>\n",
       "      <td>MT940</td>\n",
       "      <td>2016</td>\n",
       "      <td>Incoming</td>\n",
       "      <td>Loan Disbursement</td>\n",
       "      <td>Central Asia</td>\n",
       "      <td>Southeast Asia</td>\n",
       "      <td>MT</td>\n",
       "      <td>Failed</td>\n",
       "      <td>Check</td>\n",
       "    </tr>\n",
       "    <tr>\n",
       "      <th>...</th>\n",
       "      <td>...</td>\n",
       "      <td>...</td>\n",
       "      <td>...</td>\n",
       "      <td>...</td>\n",
       "      <td>...</td>\n",
       "      <td>...</td>\n",
       "      <td>...</td>\n",
       "      <td>...</td>\n",
       "      <td>...</td>\n",
       "      <td>...</td>\n",
       "      <td>...</td>\n",
       "      <td>...</td>\n",
       "      <td>...</td>\n",
       "      <td>...</td>\n",
       "    </tr>\n",
       "    <tr>\n",
       "      <th>495</th>\n",
       "      <td>496</td>\n",
       "      <td>UBS</td>\n",
       "      <td>National Bank of Fujairah</td>\n",
       "      <td>14928.90</td>\n",
       "      <td>AED</td>\n",
       "      <td>MT799</td>\n",
       "      <td>2015</td>\n",
       "      <td>Incoming</td>\n",
       "      <td>Corporate Payment</td>\n",
       "      <td>South Asia</td>\n",
       "      <td>Middle East</td>\n",
       "      <td>MT</td>\n",
       "      <td>Completed</td>\n",
       "      <td>Credit Card</td>\n",
       "    </tr>\n",
       "    <tr>\n",
       "      <th>496</th>\n",
       "      <td>497</td>\n",
       "      <td>Bank of China</td>\n",
       "      <td>Abu Dhabi Commercial Bank</td>\n",
       "      <td>11987567.00</td>\n",
       "      <td>JPY</td>\n",
       "      <td>MT940</td>\n",
       "      <td>2018</td>\n",
       "      <td>Outgoing</td>\n",
       "      <td>Loan Disbursement</td>\n",
       "      <td>Caribbean</td>\n",
       "      <td>Middle East</td>\n",
       "      <td>MT</td>\n",
       "      <td>Completed</td>\n",
       "      <td>ACH</td>\n",
       "    </tr>\n",
       "    <tr>\n",
       "      <th>497</th>\n",
       "      <td>498</td>\n",
       "      <td>Industrial and Commercial Bank of China</td>\n",
       "      <td>Credit Suisse</td>\n",
       "      <td>61238.79</td>\n",
       "      <td>USD</td>\n",
       "      <td>MT700</td>\n",
       "      <td>2021</td>\n",
       "      <td>Outgoing</td>\n",
       "      <td>Corporate Payment</td>\n",
       "      <td>South Asia</td>\n",
       "      <td>South Asia</td>\n",
       "      <td>MT</td>\n",
       "      <td>Cancelled</td>\n",
       "      <td>ACH</td>\n",
       "    </tr>\n",
       "    <tr>\n",
       "      <th>498</th>\n",
       "      <td>499</td>\n",
       "      <td>Abu Dhabi Commercial Bank</td>\n",
       "      <td>Commercial Bank of Dubai</td>\n",
       "      <td>1165309.00</td>\n",
       "      <td>JPY</td>\n",
       "      <td>MT202</td>\n",
       "      <td>2018</td>\n",
       "      <td>Incoming</td>\n",
       "      <td>Loan Disbursement</td>\n",
       "      <td>Caribbean</td>\n",
       "      <td>Middle East</td>\n",
       "      <td>MT</td>\n",
       "      <td>Completed</td>\n",
       "      <td>SWIFT</td>\n",
       "    </tr>\n",
       "    <tr>\n",
       "      <th>499</th>\n",
       "      <td>500</td>\n",
       "      <td>Barclays</td>\n",
       "      <td>Emirates NBD</td>\n",
       "      <td>382288.01</td>\n",
       "      <td>AED</td>\n",
       "      <td>MT910</td>\n",
       "      <td>2018</td>\n",
       "      <td>Outgoing</td>\n",
       "      <td>Treasury Operations</td>\n",
       "      <td>South Asia</td>\n",
       "      <td>Middle East</td>\n",
       "      <td>MT</td>\n",
       "      <td>Completed</td>\n",
       "      <td>Wire Transfer</td>\n",
       "    </tr>\n",
       "  </tbody>\n",
       "</table>\n",
       "<p>500 rows × 14 columns</p>\n",
       "</div>"
      ],
      "text/plain": [
       "     Count                                   sender  \\\n",
       "0        1                             Mashreq Bank   \n",
       "1        2                                 Barclays   \n",
       "2        3                     Royal Bank of Canada   \n",
       "3        4                            Bank of China   \n",
       "4        5                              BNP Paribas   \n",
       "..     ...                                      ...   \n",
       "495    496                                      UBS   \n",
       "496    497                            Bank of China   \n",
       "497    498  Industrial and Commercial Bank of China   \n",
       "498    499                Abu Dhabi Commercial Bank   \n",
       "499    500                                 Barclays   \n",
       "\n",
       "                         receiver       amount currency     Mt  year  \\\n",
       "0                United Arab Bank     38111.53      EUR  MT940  2015   \n",
       "1                        RAK Bank    128668.30      GBP  MT799  2022   \n",
       "2                    Emirates NBD     26914.61      EUR  MT103  2023   \n",
       "3            First Abu Dhabi Bank      1248.98      USD  MT760  2017   \n",
       "4    Bank of Tokyo-Mitsubishi UFJ      6710.04      GBP  MT940  2016   \n",
       "..                            ...          ...      ...    ...   ...   \n",
       "495     National Bank of Fujairah     14928.90      AED  MT799  2015   \n",
       "496     Abu Dhabi Commercial Bank  11987567.00      JPY  MT940  2018   \n",
       "497                 Credit Suisse     61238.79      USD  MT700  2021   \n",
       "498      Commercial Bank of Dubai   1165309.00      JPY  MT202  2018   \n",
       "499                  Emirates NBD    382288.01      AED  MT910  2018   \n",
       "\n",
       "    direction             category     send region receiver region mx/mt  \\\n",
       "0    Outgoing       Retail Payment    Central Asia     Middle East    MT   \n",
       "1    Incoming        FX Settlement   Latin America     Middle East    MT   \n",
       "2    Outgoing       Retail Payment  Southeast Asia     Middle East    MT   \n",
       "3    Incoming        Trade Finance    Asia Pacific     Middle East    MT   \n",
       "4    Incoming    Loan Disbursement    Central Asia  Southeast Asia    MT   \n",
       "..        ...                  ...             ...             ...   ...   \n",
       "495  Incoming    Corporate Payment      South Asia     Middle East    MT   \n",
       "496  Outgoing    Loan Disbursement       Caribbean     Middle East    MT   \n",
       "497  Outgoing    Corporate Payment      South Asia      South Asia    MT   \n",
       "498  Incoming    Loan Disbursement       Caribbean     Middle East    MT   \n",
       "499  Outgoing  Treasury Operations      South Asia     Middle East    MT   \n",
       "\n",
       "    transaction_status payment_method  \n",
       "0            Completed            ACH  \n",
       "1              Pending  Wire Transfer  \n",
       "2            Completed  Wire Transfer  \n",
       "3               Failed            ACH  \n",
       "4               Failed          Check  \n",
       "..                 ...            ...  \n",
       "495          Completed    Credit Card  \n",
       "496          Completed            ACH  \n",
       "497          Cancelled            ACH  \n",
       "498          Completed          SWIFT  \n",
       "499          Completed  Wire Transfer  \n",
       "\n",
       "[500 rows x 14 columns]"
      ]
     },
     "execution_count": 84,
     "metadata": {},
     "output_type": "execute_result"
    }
   ],
   "source": [
    "visualize_banking_flows(df) "
   ]
  },
  {
   "cell_type": "code",
   "execution_count": 41,
   "id": "2489f061",
   "metadata": {},
   "outputs": [
    {
     "data": {
      "application/vnd.plotly.v1+json": {
       "config": {
        "plotlyServerURL": "https://plot.ly"
       },
       "data": [
        {
         "coloraxis": "coloraxis",
         "hovertemplate": "Receiver Region: %{x}<br>Sender Region: %{y}<br>Transaction Count: %{z}<extra></extra>",
         "name": "0",
         "texttemplate": "%{z}",
         "type": "heatmap",
         "x": [
          "Africa",
          "Asia Pacific",
          "Caribbean",
          "Central Asia",
          "Europe",
          "Latin America",
          "Middle East",
          "North America",
          "South Asia",
          "Southeast Asia"
         ],
         "xaxis": "x",
         "y": [
          "Africa",
          "Asia Pacific",
          "Caribbean",
          "Central Asia",
          "Europe",
          "Latin America",
          "Middle East",
          "North America",
          "South Asia",
          "Southeast Asia"
         ],
         "yaxis": "y",
         "z": {
          "bdata": "AQEAAQIDMwEEAQADAAACAygBAAMCAgABAQIhAgEBAAEEAAABJwEAAgABAwEBBCAAAgABAAABAQEsAQEDAgIBAQABJQEBBAICAgIDACsAAQQAAAAAAQAoAgMBAQIAAAIBHgAAAQ==",
          "dtype": "i1",
          "shape": "10, 10"
         }
        }
       ],
       "layout": {
        "autosize": true,
        "coloraxis": {
         "colorbar": {
          "title": {
           "text": "Transaction Count"
          }
         },
         "colorscale": [
          [
           0,
           "#440154"
          ],
          [
           0.1111111111111111,
           "#482878"
          ],
          [
           0.2222222222222222,
           "#3e4989"
          ],
          [
           0.3333333333333333,
           "#31688e"
          ],
          [
           0.4444444444444444,
           "#26828e"
          ],
          [
           0.5555555555555556,
           "#1f9e89"
          ],
          [
           0.6666666666666666,
           "#35b779"
          ],
          [
           0.7777777777777778,
           "#6ece58"
          ],
          [
           0.8888888888888888,
           "#b5de2b"
          ],
          [
           1,
           "#fde725"
          ]
         ]
        },
        "margin": {
         "t": 60
        },
        "template": {
         "data": {
          "bar": [
           {
            "error_x": {
             "color": "#2a3f5f"
            },
            "error_y": {
             "color": "#2a3f5f"
            },
            "marker": {
             "line": {
              "color": "#E5ECF6",
              "width": 0.5
             },
             "pattern": {
              "fillmode": "overlay",
              "size": 10,
              "solidity": 0.2
             }
            },
            "type": "bar"
           }
          ],
          "barpolar": [
           {
            "marker": {
             "line": {
              "color": "#E5ECF6",
              "width": 0.5
             },
             "pattern": {
              "fillmode": "overlay",
              "size": 10,
              "solidity": 0.2
             }
            },
            "type": "barpolar"
           }
          ],
          "carpet": [
           {
            "aaxis": {
             "endlinecolor": "#2a3f5f",
             "gridcolor": "white",
             "linecolor": "white",
             "minorgridcolor": "white",
             "startlinecolor": "#2a3f5f"
            },
            "baxis": {
             "endlinecolor": "#2a3f5f",
             "gridcolor": "white",
             "linecolor": "white",
             "minorgridcolor": "white",
             "startlinecolor": "#2a3f5f"
            },
            "type": "carpet"
           }
          ],
          "choropleth": [
           {
            "colorbar": {
             "outlinewidth": 0,
             "ticks": ""
            },
            "type": "choropleth"
           }
          ],
          "contour": [
           {
            "colorbar": {
             "outlinewidth": 0,
             "ticks": ""
            },
            "colorscale": [
             [
              0,
              "#0d0887"
             ],
             [
              0.1111111111111111,
              "#46039f"
             ],
             [
              0.2222222222222222,
              "#7201a8"
             ],
             [
              0.3333333333333333,
              "#9c179e"
             ],
             [
              0.4444444444444444,
              "#bd3786"
             ],
             [
              0.5555555555555556,
              "#d8576b"
             ],
             [
              0.6666666666666666,
              "#ed7953"
             ],
             [
              0.7777777777777778,
              "#fb9f3a"
             ],
             [
              0.8888888888888888,
              "#fdca26"
             ],
             [
              1,
              "#f0f921"
             ]
            ],
            "type": "contour"
           }
          ],
          "contourcarpet": [
           {
            "colorbar": {
             "outlinewidth": 0,
             "ticks": ""
            },
            "type": "contourcarpet"
           }
          ],
          "heatmap": [
           {
            "colorbar": {
             "outlinewidth": 0,
             "ticks": ""
            },
            "colorscale": [
             [
              0,
              "#0d0887"
             ],
             [
              0.1111111111111111,
              "#46039f"
             ],
             [
              0.2222222222222222,
              "#7201a8"
             ],
             [
              0.3333333333333333,
              "#9c179e"
             ],
             [
              0.4444444444444444,
              "#bd3786"
             ],
             [
              0.5555555555555556,
              "#d8576b"
             ],
             [
              0.6666666666666666,
              "#ed7953"
             ],
             [
              0.7777777777777778,
              "#fb9f3a"
             ],
             [
              0.8888888888888888,
              "#fdca26"
             ],
             [
              1,
              "#f0f921"
             ]
            ],
            "type": "heatmap"
           }
          ],
          "histogram": [
           {
            "marker": {
             "pattern": {
              "fillmode": "overlay",
              "size": 10,
              "solidity": 0.2
             }
            },
            "type": "histogram"
           }
          ],
          "histogram2d": [
           {
            "colorbar": {
             "outlinewidth": 0,
             "ticks": ""
            },
            "colorscale": [
             [
              0,
              "#0d0887"
             ],
             [
              0.1111111111111111,
              "#46039f"
             ],
             [
              0.2222222222222222,
              "#7201a8"
             ],
             [
              0.3333333333333333,
              "#9c179e"
             ],
             [
              0.4444444444444444,
              "#bd3786"
             ],
             [
              0.5555555555555556,
              "#d8576b"
             ],
             [
              0.6666666666666666,
              "#ed7953"
             ],
             [
              0.7777777777777778,
              "#fb9f3a"
             ],
             [
              0.8888888888888888,
              "#fdca26"
             ],
             [
              1,
              "#f0f921"
             ]
            ],
            "type": "histogram2d"
           }
          ],
          "histogram2dcontour": [
           {
            "colorbar": {
             "outlinewidth": 0,
             "ticks": ""
            },
            "colorscale": [
             [
              0,
              "#0d0887"
             ],
             [
              0.1111111111111111,
              "#46039f"
             ],
             [
              0.2222222222222222,
              "#7201a8"
             ],
             [
              0.3333333333333333,
              "#9c179e"
             ],
             [
              0.4444444444444444,
              "#bd3786"
             ],
             [
              0.5555555555555556,
              "#d8576b"
             ],
             [
              0.6666666666666666,
              "#ed7953"
             ],
             [
              0.7777777777777778,
              "#fb9f3a"
             ],
             [
              0.8888888888888888,
              "#fdca26"
             ],
             [
              1,
              "#f0f921"
             ]
            ],
            "type": "histogram2dcontour"
           }
          ],
          "mesh3d": [
           {
            "colorbar": {
             "outlinewidth": 0,
             "ticks": ""
            },
            "type": "mesh3d"
           }
          ],
          "parcoords": [
           {
            "line": {
             "colorbar": {
              "outlinewidth": 0,
              "ticks": ""
             }
            },
            "type": "parcoords"
           }
          ],
          "pie": [
           {
            "automargin": true,
            "type": "pie"
           }
          ],
          "scatter": [
           {
            "fillpattern": {
             "fillmode": "overlay",
             "size": 10,
             "solidity": 0.2
            },
            "type": "scatter"
           }
          ],
          "scatter3d": [
           {
            "line": {
             "colorbar": {
              "outlinewidth": 0,
              "ticks": ""
             }
            },
            "marker": {
             "colorbar": {
              "outlinewidth": 0,
              "ticks": ""
             }
            },
            "type": "scatter3d"
           }
          ],
          "scattercarpet": [
           {
            "marker": {
             "colorbar": {
              "outlinewidth": 0,
              "ticks": ""
             }
            },
            "type": "scattercarpet"
           }
          ],
          "scattergeo": [
           {
            "marker": {
             "colorbar": {
              "outlinewidth": 0,
              "ticks": ""
             }
            },
            "type": "scattergeo"
           }
          ],
          "scattergl": [
           {
            "marker": {
             "colorbar": {
              "outlinewidth": 0,
              "ticks": ""
             }
            },
            "type": "scattergl"
           }
          ],
          "scattermap": [
           {
            "marker": {
             "colorbar": {
              "outlinewidth": 0,
              "ticks": ""
             }
            },
            "type": "scattermap"
           }
          ],
          "scattermapbox": [
           {
            "marker": {
             "colorbar": {
              "outlinewidth": 0,
              "ticks": ""
             }
            },
            "type": "scattermapbox"
           }
          ],
          "scatterpolar": [
           {
            "marker": {
             "colorbar": {
              "outlinewidth": 0,
              "ticks": ""
             }
            },
            "type": "scatterpolar"
           }
          ],
          "scatterpolargl": [
           {
            "marker": {
             "colorbar": {
              "outlinewidth": 0,
              "ticks": ""
             }
            },
            "type": "scatterpolargl"
           }
          ],
          "scatterternary": [
           {
            "marker": {
             "colorbar": {
              "outlinewidth": 0,
              "ticks": ""
             }
            },
            "type": "scatterternary"
           }
          ],
          "surface": [
           {
            "colorbar": {
             "outlinewidth": 0,
             "ticks": ""
            },
            "colorscale": [
             [
              0,
              "#0d0887"
             ],
             [
              0.1111111111111111,
              "#46039f"
             ],
             [
              0.2222222222222222,
              "#7201a8"
             ],
             [
              0.3333333333333333,
              "#9c179e"
             ],
             [
              0.4444444444444444,
              "#bd3786"
             ],
             [
              0.5555555555555556,
              "#d8576b"
             ],
             [
              0.6666666666666666,
              "#ed7953"
             ],
             [
              0.7777777777777778,
              "#fb9f3a"
             ],
             [
              0.8888888888888888,
              "#fdca26"
             ],
             [
              1,
              "#f0f921"
             ]
            ],
            "type": "surface"
           }
          ],
          "table": [
           {
            "cells": {
             "fill": {
              "color": "#EBF0F8"
             },
             "line": {
              "color": "white"
             }
            },
            "header": {
             "fill": {
              "color": "#C8D4E3"
             },
             "line": {
              "color": "white"
             }
            },
            "type": "table"
           }
          ]
         },
         "layout": {
          "annotationdefaults": {
           "arrowcolor": "#2a3f5f",
           "arrowhead": 0,
           "arrowwidth": 1
          },
          "autotypenumbers": "strict",
          "coloraxis": {
           "colorbar": {
            "outlinewidth": 0,
            "ticks": ""
           }
          },
          "colorscale": {
           "diverging": [
            [
             0,
             "#8e0152"
            ],
            [
             0.1,
             "#c51b7d"
            ],
            [
             0.2,
             "#de77ae"
            ],
            [
             0.3,
             "#f1b6da"
            ],
            [
             0.4,
             "#fde0ef"
            ],
            [
             0.5,
             "#f7f7f7"
            ],
            [
             0.6,
             "#e6f5d0"
            ],
            [
             0.7,
             "#b8e186"
            ],
            [
             0.8,
             "#7fbc41"
            ],
            [
             0.9,
             "#4d9221"
            ],
            [
             1,
             "#276419"
            ]
           ],
           "sequential": [
            [
             0,
             "#0d0887"
            ],
            [
             0.1111111111111111,
             "#46039f"
            ],
            [
             0.2222222222222222,
             "#7201a8"
            ],
            [
             0.3333333333333333,
             "#9c179e"
            ],
            [
             0.4444444444444444,
             "#bd3786"
            ],
            [
             0.5555555555555556,
             "#d8576b"
            ],
            [
             0.6666666666666666,
             "#ed7953"
            ],
            [
             0.7777777777777778,
             "#fb9f3a"
            ],
            [
             0.8888888888888888,
             "#fdca26"
            ],
            [
             1,
             "#f0f921"
            ]
           ],
           "sequentialminus": [
            [
             0,
             "#0d0887"
            ],
            [
             0.1111111111111111,
             "#46039f"
            ],
            [
             0.2222222222222222,
             "#7201a8"
            ],
            [
             0.3333333333333333,
             "#9c179e"
            ],
            [
             0.4444444444444444,
             "#bd3786"
            ],
            [
             0.5555555555555556,
             "#d8576b"
            ],
            [
             0.6666666666666666,
             "#ed7953"
            ],
            [
             0.7777777777777778,
             "#fb9f3a"
            ],
            [
             0.8888888888888888,
             "#fdca26"
            ],
            [
             1,
             "#f0f921"
            ]
           ]
          },
          "colorway": [
           "#636efa",
           "#EF553B",
           "#00cc96",
           "#ab63fa",
           "#FFA15A",
           "#19d3f3",
           "#FF6692",
           "#B6E880",
           "#FF97FF",
           "#FECB52"
          ],
          "font": {
           "color": "#2a3f5f"
          },
          "geo": {
           "bgcolor": "white",
           "lakecolor": "white",
           "landcolor": "#E5ECF6",
           "showlakes": true,
           "showland": true,
           "subunitcolor": "white"
          },
          "hoverlabel": {
           "align": "left"
          },
          "hovermode": "closest",
          "mapbox": {
           "style": "light"
          },
          "paper_bgcolor": "white",
          "plot_bgcolor": "#E5ECF6",
          "polar": {
           "angularaxis": {
            "gridcolor": "white",
            "linecolor": "white",
            "ticks": ""
           },
           "bgcolor": "#E5ECF6",
           "radialaxis": {
            "gridcolor": "white",
            "linecolor": "white",
            "ticks": ""
           }
          },
          "scene": {
           "xaxis": {
            "backgroundcolor": "#E5ECF6",
            "gridcolor": "white",
            "gridwidth": 2,
            "linecolor": "white",
            "showbackground": true,
            "ticks": "",
            "zerolinecolor": "white"
           },
           "yaxis": {
            "backgroundcolor": "#E5ECF6",
            "gridcolor": "white",
            "gridwidth": 2,
            "linecolor": "white",
            "showbackground": true,
            "ticks": "",
            "zerolinecolor": "white"
           },
           "zaxis": {
            "backgroundcolor": "#E5ECF6",
            "gridcolor": "white",
            "gridwidth": 2,
            "linecolor": "white",
            "showbackground": true,
            "ticks": "",
            "zerolinecolor": "white"
           }
          },
          "shapedefaults": {
           "line": {
            "color": "#2a3f5f"
           }
          },
          "ternary": {
           "aaxis": {
            "gridcolor": "white",
            "linecolor": "white",
            "ticks": ""
           },
           "baxis": {
            "gridcolor": "white",
            "linecolor": "white",
            "ticks": ""
           },
           "bgcolor": "#E5ECF6",
           "caxis": {
            "gridcolor": "white",
            "linecolor": "white",
            "ticks": ""
           }
          },
          "title": {
           "x": 0.05
          },
          "xaxis": {
           "automargin": true,
           "gridcolor": "white",
           "linecolor": "white",
           "ticks": "",
           "title": {
            "standoff": 15
           },
           "zerolinecolor": "white",
           "zerolinewidth": 2
          },
          "yaxis": {
           "automargin": true,
           "gridcolor": "white",
           "linecolor": "white",
           "ticks": "",
           "title": {
            "standoff": 15
           },
           "zerolinecolor": "white",
           "zerolinewidth": 2
          }
         }
        },
        "title": {
         "text": "Heatmap of Transaction Volumes Between Regions"
        },
        "xaxis": {
         "anchor": "y",
         "constrain": "domain",
         "domain": [
          0,
          1
         ],
         "scaleanchor": "y",
         "title": {
          "text": "Receiver Region"
         }
        },
        "yaxis": {
         "anchor": "x",
         "autorange": "reversed",
         "constrain": "domain",
         "domain": [
          0,
          1
         ],
         "title": {
          "text": "Sender Region"
         }
        }
       }
      }
     },
     "metadata": {},
     "output_type": "display_data"
    }
   ],
   "source": [
    "import plotly.express as px\n",
    "import pandas as pd\n",
    "\n",
    "# Create pivot table: counts of transactions by send and receiver regions\n",
    "region_matrix = df.pivot_table(index='send region', \n",
    "                               columns='receiver region', \n",
    "                               values='Count',  # Use transaction count\n",
    "                               aggfunc='count', \n",
    "                               fill_value=0)\n",
    "\n",
    "# Create an interactive heatmap\n",
    "fig = px.imshow(\n",
    "    region_matrix,\n",
    "    labels=dict(x=\"Receiver Region\", y=\"Sender Region\", color=\"Transaction Count\"),\n",
    "    x=region_matrix.columns,\n",
    "    y=region_matrix.index,\n",
    "    color_continuous_scale='Viridis',\n",
    "    text_auto=True\n",
    ")\n",
    "\n",
    "fig.update_layout(\n",
    "    title=\"Heatmap of Transaction Volumes Between Regions\",\n",
    "    xaxis_title=\"Receiver Region\",\n",
    "    yaxis_title=\"Sender Region\",\n",
    "    autosize=True\n",
    ")\n",
    "\n",
    "fig.show()\n"
   ]
  },
  {
   "cell_type": "code",
   "execution_count": null,
   "id": "1ab35be8",
   "metadata": {},
   "outputs": [],
   "source": []
  },
  {
   "cell_type": "code",
   "execution_count": null,
   "id": "d5aee61f",
   "metadata": {},
   "outputs": [],
   "source": []
  },
  {
   "cell_type": "code",
   "execution_count": null,
   "id": "932c6aa8",
   "metadata": {},
   "outputs": [],
   "source": []
  }
 ],
 "metadata": {
  "kernelspec": {
   "display_name": "sankeyenv",
   "language": "python",
   "name": "python3"
  },
  "language_info": {
   "codemirror_mode": {
    "name": "ipython",
    "version": 3
   },
   "file_extension": ".py",
   "mimetype": "text/x-python",
   "name": "python",
   "nbconvert_exporter": "python",
   "pygments_lexer": "ipython3",
   "version": "3.10.17"
  }
 },
 "nbformat": 4,
 "nbformat_minor": 5
}
