{
 "cells": [
  {
   "cell_type": "code",
   "execution_count": 14,
   "id": "a581c8b7",
   "metadata": {},
   "outputs": [
    {
     "name": "stdout",
     "output_type": "stream",
     "text": [
      "Requirement already satisfied: pandas in c:\\users\\joshu\\anaconda3\\envs\\sankeyenv\\lib\\site-packages (from -r requirements.txt (line 1)) (2.2.3)\n",
      "Requirement already satisfied: numpy in c:\\users\\joshu\\anaconda3\\envs\\sankeyenv\\lib\\site-packages (from -r requirements.txt (line 2)) (2.2.6)\n",
      "Requirement already satisfied: plotly in c:\\users\\joshu\\anaconda3\\envs\\sankeyenv\\lib\\site-packages (from -r requirements.txt (line 3)) (6.1.0)\n",
      "Requirement already satisfied: ipywidgets in c:\\users\\joshu\\anaconda3\\envs\\sankeyenv\\lib\\site-packages (from -r requirements.txt (line 4)) (8.1.7)\n",
      "Requirement already satisfied: python-dateutil>=2.8.2 in c:\\users\\joshu\\anaconda3\\envs\\sankeyenv\\lib\\site-packages (from pandas->-r requirements.txt (line 1)) (2.9.0.post0)\n",
      "Requirement already satisfied: pytz>=2020.1 in c:\\users\\joshu\\anaconda3\\envs\\sankeyenv\\lib\\site-packages (from pandas->-r requirements.txt (line 1)) (2025.2)\n",
      "Requirement already satisfied: tzdata>=2022.7 in c:\\users\\joshu\\anaconda3\\envs\\sankeyenv\\lib\\site-packages (from pandas->-r requirements.txt (line 1)) (2025.2)\n",
      "Requirement already satisfied: narwhals>=1.15.1 in c:\\users\\joshu\\anaconda3\\envs\\sankeyenv\\lib\\site-packages (from plotly->-r requirements.txt (line 3)) (1.40.0)\n",
      "Requirement already satisfied: packaging in c:\\users\\joshu\\anaconda3\\envs\\sankeyenv\\lib\\site-packages (from plotly->-r requirements.txt (line 3)) (25.0)\n",
      "Requirement already satisfied: comm>=0.1.3 in c:\\users\\joshu\\appdata\\roaming\\python\\python310\\site-packages (from ipywidgets->-r requirements.txt (line 4)) (0.2.2)\n",
      "Requirement already satisfied: ipython>=6.1.0 in c:\\users\\joshu\\anaconda3\\envs\\sankeyenv\\lib\\site-packages (from ipywidgets->-r requirements.txt (line 4)) (8.36.0)\n",
      "Requirement already satisfied: traitlets>=4.3.1 in c:\\users\\joshu\\anaconda3\\envs\\sankeyenv\\lib\\site-packages (from ipywidgets->-r requirements.txt (line 4)) (5.14.3)\n",
      "Requirement already satisfied: widgetsnbextension~=4.0.14 in c:\\users\\joshu\\anaconda3\\envs\\sankeyenv\\lib\\site-packages (from ipywidgets->-r requirements.txt (line 4)) (4.0.14)\n",
      "Requirement already satisfied: jupyterlab_widgets~=3.0.15 in c:\\users\\joshu\\anaconda3\\envs\\sankeyenv\\lib\\site-packages (from ipywidgets->-r requirements.txt (line 4)) (3.0.15)\n",
      "Requirement already satisfied: colorama in c:\\users\\joshu\\anaconda3\\envs\\sankeyenv\\lib\\site-packages (from ipython>=6.1.0->ipywidgets->-r requirements.txt (line 4)) (0.4.6)\n",
      "Requirement already satisfied: decorator in c:\\users\\joshu\\anaconda3\\envs\\sankeyenv\\lib\\site-packages (from ipython>=6.1.0->ipywidgets->-r requirements.txt (line 4)) (5.2.1)\n",
      "Requirement already satisfied: exceptiongroup in c:\\users\\joshu\\anaconda3\\envs\\sankeyenv\\lib\\site-packages (from ipython>=6.1.0->ipywidgets->-r requirements.txt (line 4)) (1.3.0)\n",
      "Requirement already satisfied: jedi>=0.16 in c:\\users\\joshu\\anaconda3\\envs\\sankeyenv\\lib\\site-packages (from ipython>=6.1.0->ipywidgets->-r requirements.txt (line 4)) (0.19.2)\n",
      "Requirement already satisfied: matplotlib-inline in c:\\users\\joshu\\anaconda3\\envs\\sankeyenv\\lib\\site-packages (from ipython>=6.1.0->ipywidgets->-r requirements.txt (line 4)) (0.1.7)\n",
      "Requirement already satisfied: prompt_toolkit<3.1.0,>=3.0.41 in c:\\users\\joshu\\anaconda3\\envs\\sankeyenv\\lib\\site-packages (from ipython>=6.1.0->ipywidgets->-r requirements.txt (line 4)) (3.0.51)\n",
      "Requirement already satisfied: pygments>=2.4.0 in c:\\users\\joshu\\anaconda3\\envs\\sankeyenv\\lib\\site-packages (from ipython>=6.1.0->ipywidgets->-r requirements.txt (line 4)) (2.19.1)\n",
      "Requirement already satisfied: stack_data in c:\\users\\joshu\\anaconda3\\envs\\sankeyenv\\lib\\site-packages (from ipython>=6.1.0->ipywidgets->-r requirements.txt (line 4)) (0.6.3)\n",
      "Requirement already satisfied: typing_extensions>=4.6 in c:\\users\\joshu\\anaconda3\\envs\\sankeyenv\\lib\\site-packages (from ipython>=6.1.0->ipywidgets->-r requirements.txt (line 4)) (4.13.2)\n",
      "Requirement already satisfied: wcwidth in c:\\users\\joshu\\anaconda3\\envs\\sankeyenv\\lib\\site-packages (from prompt_toolkit<3.1.0,>=3.0.41->ipython>=6.1.0->ipywidgets->-r requirements.txt (line 4)) (0.2.13)\n",
      "Requirement already satisfied: parso<0.9.0,>=0.8.4 in c:\\users\\joshu\\anaconda3\\envs\\sankeyenv\\lib\\site-packages (from jedi>=0.16->ipython>=6.1.0->ipywidgets->-r requirements.txt (line 4)) (0.8.4)\n",
      "Requirement already satisfied: six>=1.5 in c:\\users\\joshu\\anaconda3\\envs\\sankeyenv\\lib\\site-packages (from python-dateutil>=2.8.2->pandas->-r requirements.txt (line 1)) (1.17.0)\n",
      "Requirement already satisfied: executing>=1.2.0 in c:\\users\\joshu\\anaconda3\\envs\\sankeyenv\\lib\\site-packages (from stack_data->ipython>=6.1.0->ipywidgets->-r requirements.txt (line 4)) (2.2.0)\n",
      "Requirement already satisfied: asttokens>=2.1.0 in c:\\users\\joshu\\anaconda3\\envs\\sankeyenv\\lib\\site-packages (from stack_data->ipython>=6.1.0->ipywidgets->-r requirements.txt (line 4)) (3.0.0)\n",
      "Requirement already satisfied: pure_eval in c:\\users\\joshu\\anaconda3\\envs\\sankeyenv\\lib\\site-packages (from stack_data->ipython>=6.1.0->ipywidgets->-r requirements.txt (line 4)) (0.2.3)\n"
     ]
    }
   ],
   "source": [
    "!pip install -r requirements.txt"
   ]
  },
  {
   "cell_type": "code",
   "execution_count": 1,
   "id": "6b02397d",
   "metadata": {},
   "outputs": [
    {
     "data": {
      "text/html": [
       "<div>\n",
       "<style scoped>\n",
       "    .dataframe tbody tr th:only-of-type {\n",
       "        vertical-align: middle;\n",
       "    }\n",
       "\n",
       "    .dataframe tbody tr th {\n",
       "        vertical-align: top;\n",
       "    }\n",
       "\n",
       "    .dataframe thead th {\n",
       "        text-align: right;\n",
       "    }\n",
       "</style>\n",
       "<table border=\"1\" class=\"dataframe\">\n",
       "  <thead>\n",
       "    <tr style=\"text-align: right;\">\n",
       "      <th></th>\n",
       "      <th>Count</th>\n",
       "      <th>sender</th>\n",
       "      <th>receiver</th>\n",
       "      <th>amount</th>\n",
       "      <th>currency</th>\n",
       "      <th>Mt</th>\n",
       "      <th>year</th>\n",
       "      <th>direction</th>\n",
       "      <th>category</th>\n",
       "      <th>send region</th>\n",
       "      <th>receiver region</th>\n",
       "      <th>mx/mt</th>\n",
       "    </tr>\n",
       "  </thead>\n",
       "  <tbody>\n",
       "    <tr>\n",
       "      <th>0</th>\n",
       "      <td>1</td>\n",
       "      <td>Mashreq Bank</td>\n",
       "      <td>United Arab Bank</td>\n",
       "      <td>38111.53</td>\n",
       "      <td>EUR</td>\n",
       "      <td>MT940</td>\n",
       "      <td>2015</td>\n",
       "      <td>Outgoing</td>\n",
       "      <td>Retail Payment</td>\n",
       "      <td>Central Asia</td>\n",
       "      <td>Middle East</td>\n",
       "      <td>MT</td>\n",
       "    </tr>\n",
       "    <tr>\n",
       "      <th>1</th>\n",
       "      <td>2</td>\n",
       "      <td>Barclays</td>\n",
       "      <td>RAK Bank</td>\n",
       "      <td>128668.30</td>\n",
       "      <td>GBP</td>\n",
       "      <td>MT799</td>\n",
       "      <td>2017</td>\n",
       "      <td>Incoming</td>\n",
       "      <td>FX Settlement</td>\n",
       "      <td>Latin America</td>\n",
       "      <td>Middle East</td>\n",
       "      <td>MT</td>\n",
       "    </tr>\n",
       "    <tr>\n",
       "      <th>2</th>\n",
       "      <td>3</td>\n",
       "      <td>Royal Bank of Canada</td>\n",
       "      <td>Emirates NBD</td>\n",
       "      <td>26914.61</td>\n",
       "      <td>EUR</td>\n",
       "      <td>MT103</td>\n",
       "      <td>2015</td>\n",
       "      <td>Outgoing</td>\n",
       "      <td>Retail Payment</td>\n",
       "      <td>Southeast Asia</td>\n",
       "      <td>Middle East</td>\n",
       "      <td>MT</td>\n",
       "    </tr>\n",
       "    <tr>\n",
       "      <th>3</th>\n",
       "      <td>4</td>\n",
       "      <td>Bank of China</td>\n",
       "      <td>First Abu Dhabi Bank</td>\n",
       "      <td>1248.98</td>\n",
       "      <td>USD</td>\n",
       "      <td>MT760</td>\n",
       "      <td>2022</td>\n",
       "      <td>Incoming</td>\n",
       "      <td>Trade Finance</td>\n",
       "      <td>Asia Pacific</td>\n",
       "      <td>Middle East</td>\n",
       "      <td>MT</td>\n",
       "    </tr>\n",
       "    <tr>\n",
       "      <th>4</th>\n",
       "      <td>5</td>\n",
       "      <td>BNP Paribas</td>\n",
       "      <td>Bank of Tokyo-Mitsubishi UFJ</td>\n",
       "      <td>6710.04</td>\n",
       "      <td>GBP</td>\n",
       "      <td>MT940</td>\n",
       "      <td>2018</td>\n",
       "      <td>Incoming</td>\n",
       "      <td>Loan Disbursement</td>\n",
       "      <td>Central Asia</td>\n",
       "      <td>Southeast Asia</td>\n",
       "      <td>MT</td>\n",
       "    </tr>\n",
       "    <tr>\n",
       "      <th>...</th>\n",
       "      <td>...</td>\n",
       "      <td>...</td>\n",
       "      <td>...</td>\n",
       "      <td>...</td>\n",
       "      <td>...</td>\n",
       "      <td>...</td>\n",
       "      <td>...</td>\n",
       "      <td>...</td>\n",
       "      <td>...</td>\n",
       "      <td>...</td>\n",
       "      <td>...</td>\n",
       "      <td>...</td>\n",
       "    </tr>\n",
       "    <tr>\n",
       "      <th>495</th>\n",
       "      <td>496</td>\n",
       "      <td>UBS</td>\n",
       "      <td>National Bank of Fujairah</td>\n",
       "      <td>14928.90</td>\n",
       "      <td>AED</td>\n",
       "      <td>MT799</td>\n",
       "      <td>2019</td>\n",
       "      <td>Incoming</td>\n",
       "      <td>Corporate Payment</td>\n",
       "      <td>South Asia</td>\n",
       "      <td>Middle East</td>\n",
       "      <td>MT</td>\n",
       "    </tr>\n",
       "    <tr>\n",
       "      <th>496</th>\n",
       "      <td>497</td>\n",
       "      <td>Bank of China</td>\n",
       "      <td>Abu Dhabi Commercial Bank</td>\n",
       "      <td>11987567.00</td>\n",
       "      <td>JPY</td>\n",
       "      <td>MT940</td>\n",
       "      <td>2021</td>\n",
       "      <td>Outgoing</td>\n",
       "      <td>Loan Disbursement</td>\n",
       "      <td>Caribbean</td>\n",
       "      <td>Middle East</td>\n",
       "      <td>MT</td>\n",
       "    </tr>\n",
       "    <tr>\n",
       "      <th>497</th>\n",
       "      <td>498</td>\n",
       "      <td>Industrial and Commercial Bank of China</td>\n",
       "      <td>Credit Suisse</td>\n",
       "      <td>61238.79</td>\n",
       "      <td>USD</td>\n",
       "      <td>MT700</td>\n",
       "      <td>2018</td>\n",
       "      <td>Outgoing</td>\n",
       "      <td>Corporate Payment</td>\n",
       "      <td>South Asia</td>\n",
       "      <td>South Asia</td>\n",
       "      <td>MT</td>\n",
       "    </tr>\n",
       "    <tr>\n",
       "      <th>498</th>\n",
       "      <td>499</td>\n",
       "      <td>Abu Dhabi Commercial Bank</td>\n",
       "      <td>Commercial Bank of Dubai</td>\n",
       "      <td>1165309.00</td>\n",
       "      <td>JPY</td>\n",
       "      <td>MT202</td>\n",
       "      <td>2023</td>\n",
       "      <td>Incoming</td>\n",
       "      <td>Loan Disbursement</td>\n",
       "      <td>Caribbean</td>\n",
       "      <td>Middle East</td>\n",
       "      <td>MT</td>\n",
       "    </tr>\n",
       "    <tr>\n",
       "      <th>499</th>\n",
       "      <td>500</td>\n",
       "      <td>Barclays</td>\n",
       "      <td>Emirates NBD</td>\n",
       "      <td>382288.01</td>\n",
       "      <td>AED</td>\n",
       "      <td>MT910</td>\n",
       "      <td>2020</td>\n",
       "      <td>Outgoing</td>\n",
       "      <td>Treasury Operations</td>\n",
       "      <td>South Asia</td>\n",
       "      <td>Middle East</td>\n",
       "      <td>MT</td>\n",
       "    </tr>\n",
       "  </tbody>\n",
       "</table>\n",
       "<p>500 rows × 12 columns</p>\n",
       "</div>"
      ],
      "text/plain": [
       "     Count                                   sender  \\\n",
       "0        1                             Mashreq Bank   \n",
       "1        2                                 Barclays   \n",
       "2        3                     Royal Bank of Canada   \n",
       "3        4                            Bank of China   \n",
       "4        5                              BNP Paribas   \n",
       "..     ...                                      ...   \n",
       "495    496                                      UBS   \n",
       "496    497                            Bank of China   \n",
       "497    498  Industrial and Commercial Bank of China   \n",
       "498    499                Abu Dhabi Commercial Bank   \n",
       "499    500                                 Barclays   \n",
       "\n",
       "                         receiver       amount currency     Mt  year  \\\n",
       "0                United Arab Bank     38111.53      EUR  MT940  2015   \n",
       "1                        RAK Bank    128668.30      GBP  MT799  2017   \n",
       "2                    Emirates NBD     26914.61      EUR  MT103  2015   \n",
       "3            First Abu Dhabi Bank      1248.98      USD  MT760  2022   \n",
       "4    Bank of Tokyo-Mitsubishi UFJ      6710.04      GBP  MT940  2018   \n",
       "..                            ...          ...      ...    ...   ...   \n",
       "495     National Bank of Fujairah     14928.90      AED  MT799  2019   \n",
       "496     Abu Dhabi Commercial Bank  11987567.00      JPY  MT940  2021   \n",
       "497                 Credit Suisse     61238.79      USD  MT700  2018   \n",
       "498      Commercial Bank of Dubai   1165309.00      JPY  MT202  2023   \n",
       "499                  Emirates NBD    382288.01      AED  MT910  2020   \n",
       "\n",
       "    direction             category     send region receiver region mx/mt  \n",
       "0    Outgoing       Retail Payment    Central Asia     Middle East    MT  \n",
       "1    Incoming        FX Settlement   Latin America     Middle East    MT  \n",
       "2    Outgoing       Retail Payment  Southeast Asia     Middle East    MT  \n",
       "3    Incoming        Trade Finance    Asia Pacific     Middle East    MT  \n",
       "4    Incoming    Loan Disbursement    Central Asia  Southeast Asia    MT  \n",
       "..        ...                  ...             ...             ...   ...  \n",
       "495  Incoming    Corporate Payment      South Asia     Middle East    MT  \n",
       "496  Outgoing    Loan Disbursement       Caribbean     Middle East    MT  \n",
       "497  Outgoing    Corporate Payment      South Asia      South Asia    MT  \n",
       "498  Incoming    Loan Disbursement       Caribbean     Middle East    MT  \n",
       "499  Outgoing  Treasury Operations      South Asia     Middle East    MT  \n",
       "\n",
       "[500 rows x 12 columns]"
      ]
     },
     "execution_count": 1,
     "metadata": {},
     "output_type": "execute_result"
    }
   ],
   "source": [
    "import pandas as pd\n",
    "import numpy as np\n",
    "import random\n",
    "from datetime import datetime, timedelta\n",
    "\n",
    "np.random.seed(42)\n",
    "\n",
    "num_records = 500\n",
    "banks = [\n",
    "    \"Citibank\", \"HSBC\", \"JPMorgan Chase\", \"Bank of America\", \"Standard Chartered\",\n",
    "    \"Deutsche Bank\", \"BNP Paribas\", \"Barclays\", \"Credit Suisse\", \"UBS\",\n",
    "    \"Emirates NBD\", \"Abu Dhabi Commercial Bank\", \"First Abu Dhabi Bank\", \"Dubai Islamic Bank\",\n",
    "    \"Mashreq Bank\", \"Bank of China\", \"Industrial and Commercial Bank of China\", \"Wells Fargo\",\n",
    "    \"Goldman Sachs\", \"Morgan Stanley\", \"Royal Bank of Canada\", \"Bank of Tokyo-Mitsubishi UFJ\"\n",
    "]\n",
    "\n",
    "uae_banks = [\n",
    "    \"Emirates NBD\", \"Abu Dhabi Commercial Bank\", \"First Abu Dhabi Bank\", \n",
    "    \"Dubai Islamic Bank\", \"Mashreq Bank\", \"Commercial Bank of Dubai\", \n",
    "    \"Abu Dhabi Islamic Bank\", \"RAK Bank\", \"National Bank of Fujairah\",\n",
    "    \"Sharjah Islamic Bank\", \"United Arab Bank\", \"National Bank of Umm Al Qaiwain\"\n",
    "]\n",
    "\n",
    "currencies = [\"USD\", \"EUR\", \"GBP\", \"AED\", \"JPY\", \"CHF\", \"CNY\", \"CAD\", \"AUD\", \"SGD\"]\n",
    "mt_types = [\"MT103\", \"MT202\", \"MT700\", \"MT760\", \"MT799\", \"MT910\", \"MT940\", \"MT950\"]\n",
    "directions = [\"Outgoing\", \"Incoming\"]\n",
    "categories = [\"Trade Finance\", \"Corporate Payment\", \"Retail Payment\", \"Interbank Settlement\", \n",
    "              \"Treasury Operations\", \"Investment\", \"Loan Disbursement\", \"FX Settlement\"]\n",
    "\n",
    "regions = [\n",
    "    \"North America\", \"Europe\", \"Asia Pacific\", \"Middle East\", \"Africa\", \n",
    "    \"Latin America\", \"Caribbean\", \"Central Asia\", \"South Asia\", \"Southeast Asia\"\n",
    "]\n",
    "\n",
    "def random_date(start_year=2015, end_year=2023):\n",
    "    start_date = datetime(start_year, 1, 1)\n",
    "    end_date = datetime(end_year, 12, 31)\n",
    "    time_between_dates = end_date - start_date\n",
    "    days_between_dates = time_between_dates.days\n",
    "    random_number_of_days = random.randrange(days_between_dates)\n",
    "    return start_date + timedelta(days=random_number_of_days)\n",
    "\n",
    "data = []\n",
    "for i in range(num_records):\n",
    "    # Determine if receiver is UAE-based (75% probability)\n",
    "    is_uae_receiver = np.random.choice([True, False], p=[0.75, 0.25])\n",
    "\n",
    "    sender = np.random.choice(banks)\n",
    "    if is_uae_receiver:\n",
    "        receiver = np.random.choice(uae_banks)\n",
    "        receiver_region = \"Middle East\"  # UAE is in Middle East\n",
    "    else:\n",
    "\n",
    "        possible_receivers = [bank for bank in banks if bank != sender]\n",
    "        receiver = np.random.choice(possible_receivers)\n",
    "        receiver_region = np.random.choice([r for r in regions if r != \"Middle East\"])\n",
    "\n",
    "    count = i + 1\n",
    "    amount = round(np.random.lognormal(mean=10, sigma=1.5), 2)  \n",
    "    currency = np.random.choice(currencies, p=[0.4, 0.2, 0.1, 0.15, 0.05, 0.02, 0.03, 0.02, 0.02, 0.01])  # USD most common\n",
    "    mt = np.random.choice(mt_types)\n",
    "    year = random_date().year\n",
    "    direction = np.random.choice(directions)\n",
    "    category = np.random.choice(categories)\n",
    "    send_region = np.random.choice(regions)\n",
    "    mx_mt = \"MT\"  # All are MT in this simulation\n",
    "\n",
    "    # Add to data\n",
    "    data.append([\n",
    "        count, sender, receiver, amount, currency, mt, year, direction, \n",
    "        category, send_region, receiver_region, mx_mt\n",
    "    ])\n",
    "\n",
    "columns = ['Count', 'sender', 'receiver', 'amount', 'currency', 'Mt', 'year', \n",
    "           'direction', 'category', 'send region', 'receiver region', 'mx/mt']\n",
    "df = pd.DataFrame(data, columns=columns)\n",
    "\n",
    "for idx, row in df.iterrows():\n",
    "    if row['currency'] == 'JPY':\n",
    "        df.at[idx, 'amount'] = round(row['amount'] * 100)  \n",
    "    elif row['currency'] == 'AED':\n",
    "        df.at[idx, 'amount'] = round(row['amount'] * 3.67, 2)  \n",
    "    elif row['currency'] == 'EUR':\n",
    "        df.at[idx, 'amount'] = round(row['amount'] * 0.85, 2)\n",
    "    elif row['currency'] == 'GBP':\n",
    "        df.at[idx, 'amount'] = round(row['amount'] * 0.75, 2)\n",
    "\n",
    "df"
   ]
  },
  {
   "cell_type": "code",
   "execution_count": 2,
   "id": "20769eb6",
   "metadata": {},
   "outputs": [],
   "source": [
    "status_choices = [\"Completed\", \"Pending\", \"Failed\", \"Cancelled\"]\n",
    "status_probs = [0.85, 0.08, 0.05, 0.02]\n",
    "df['transaction_status'] = np.random.choice(status_choices, size=len(df), p=status_probs)\n",
    "payment_methods = [\"Wire Transfer\", \"ACH\", \"SWIFT\", \"Check\", \"Cash\", \"Mobile Payment\", \"Credit Card\"]\n",
    "probabilities = [0.4, 0.25, 0.15, 0.05, 0.05, 0.05, 0.05]\n",
    "\n",
    "df['payment_method'] = np.random.choice(payment_methods, size=len(df), p=probabilities)\n",
    "\n"
   ]
  },
  {
   "cell_type": "code",
   "execution_count": null,
   "id": "abc960a7",
   "metadata": {},
   "outputs": [],
   "source": []
  },
  {
   "cell_type": "code",
   "execution_count": 3,
   "id": "2b3cc029",
   "metadata": {},
   "outputs": [
    {
     "data": {
      "text/plain": [
       "Index(['Count', 'sender', 'receiver', 'amount', 'currency', 'Mt', 'year',\n",
       "       'direction', 'category', 'send region', 'receiver region', 'mx/mt',\n",
       "       'transaction_status', 'payment_method'],\n",
       "      dtype='object')"
      ]
     },
     "execution_count": 3,
     "metadata": {},
     "output_type": "execute_result"
    }
   ],
   "source": [
    "df.columns"
   ]
  },
  {
   "cell_type": "code",
   "execution_count": 4,
   "id": "50bfe24b",
   "metadata": {},
   "outputs": [],
   "source": [
    "import pandas as pd\n",
    "import numpy as np\n",
    "import plotly.graph_objects as go\n",
    "import plotly.express as px\n",
    "from plotly.subplots import make_subplots\n",
    "from ipywidgets import widgets, interactive, Layout\n",
    "from IPython.display import display\n",
    "\n",
    "# Region coordinates (approximate centroids)\n",
    "region_coordinates = {\n",
    "    \"North America\": {\"lat\": 40.0, \"lon\": -100.0},\n",
    "    \"Europe\": {\"lat\": 50.0, \"lon\": 10.0},\n",
    "    \"Asia Pacific\": {\"lat\": 30.0, \"lon\": 120.0},\n",
    "    \"Middle East\": {\"lat\": 27.0, \"lon\": 45.0},\n",
    "    \"Africa\": {\"lat\": 5.0, \"lon\": 20.0},\n",
    "    \"Latin America\": {\"lat\": -10.0, \"lon\": -60.0},\n",
    "    \"Caribbean\": {\"lat\": 20.0, \"lon\": -75.0},\n",
    "    \"Central Asia\": {\"lat\": 45.0, \"lon\": 65.0},\n",
    "    \"South Asia\": {\"lat\": 20.0, \"lon\": 75.0},\n",
    "    \"Southeast Asia\": {\"lat\": 10.0, \"lon\": 105.0}\n",
    "}\n",
    "\n",
    "def prepare_region_flow_data(df):\n",
    "    flow_data = df.groupby(['send region', 'receiver region'])['amount'].sum().reset_index()\n",
    "    for coord in ['lat', 'lon']:\n",
    "        flow_data[f'source_{coord}'] = flow_data['send region'].map(lambda x: region_coordinates.get(x, {}).get(coord))\n",
    "        flow_data[f'target_{coord}'] = flow_data['receiver region'].map(lambda x: region_coordinates.get(x, {}).get(coord))\n",
    "    return flow_data\n",
    "\n",
    "def create_flow_map(df, mapbox_token=None):\n",
    "    flow_data = prepare_region_flow_data(df)\n",
    "    region_flows = pd.merge(\n",
    "        df.groupby('receiver region')['amount'].sum().rename('inflow').reset_index(),\n",
    "        df.groupby('send region')['amount'].sum().rename('outflow').reset_index(),\n",
    "        left_on='receiver region', right_on='send region', how='outer'\n",
    "    ).fillna(0).rename(columns={'receiver region': 'region'}).drop('send region', axis=1)\n",
    "    \n",
    "    region_flows['net_flow'] = region_flows['inflow'] - region_flows['outflow']\n",
    "    region_flows['total_volume'] = region_flows['inflow'] + region_flows['outflow']\n",
    "    region_data = pd.merge(region_flows, pd.DataFrame(region_coordinates).T.reset_index().rename(columns={'index': 'region'}), on='region')\n",
    "    \n",
    "    flow_data['normalized_amount'] = flow_data['amount'] / flow_data['amount'].max() * 10\n",
    "    fig = go.Figure()\n",
    "    \n",
    "    # Add flow lines\n",
    "    for idx, row in flow_data[flow_data['normalized_amount'] >= 0.5].iterrows():\n",
    "        # Check for None or NaN values in coordinates\n",
    "        if (pd.isna(row['source_lon']) or pd.isna(row['source_lat']) or \n",
    "            pd.isna(row['target_lon']) or pd.isna(row['target_lat'])):\n",
    "            continue\n",
    "            \n",
    "        lon_diff, lat_diff = row['target_lon'] - row['source_lon'], row['target_lat'] - row['source_lat']\n",
    "        midpoint_offset = min(np.sqrt(lon_diff**2 + lat_diff**2) * 0.15, 10)\n",
    "        curve_points = [(row['source_lon'], row['source_lat'])] + [\n",
    "            ((1-t)**2 * row['source_lon'] + 2*(1-t)*t * ((row['source_lon'] + row['target_lon'])/2) + t**2 * row['target_lon'],\n",
    "             (1-t)**2 * row['source_lat'] + 2*(1-t)*t * ((row['source_lat'] + row['target_lat'])/2 + midpoint_offset) + t**2 * row['target_lat'])\n",
    "            for t in np.linspace(0, 1, 20)[1:-1]\n",
    "        ] + [(row['target_lon'], row['target_lat'])]\n",
    "        \n",
    "        lons, lats = zip(*curve_points)\n",
    "        # Fix the color transparency value\n",
    "        alpha = min(0.8, 0.3 + row[\"normalized_amount\"] * 0.05)\n",
    "        color = f'rgba(70, 130, 180, {alpha:.2f})'\n",
    "        \n",
    "        # Create a custom_data field for identifying the flow when clicked\n",
    "        custom_data = [row['send region'], row['receiver region'], row['amount']]\n",
    "        \n",
    "        fig.add_trace(go.Scattermapbox(\n",
    "            lon=lons, lat=lats, mode='lines',\n",
    "            line=dict(width=row['normalized_amount']*1.5, color=color),\n",
    "            hoverinfo='text', \n",
    "            hovertext=f\"{row['send region']} → {row['receiver region']}<br>Amount: ${row['amount']:,.2f}\",\n",
    "            customdata=[custom_data] * len(lons),  # Repeat the custom data for each point\n",
    "            showlegend=False\n",
    "        ))\n",
    "    \n",
    "    # Add regions\n",
    "    # Filter out any rows with NaN coordinates\n",
    "    valid_region_data = region_data.dropna(subset=['lon', 'lat'])\n",
    "    if not valid_region_data.empty:\n",
    "        fig.add_trace(go.Scattermapbox(\n",
    "            lon=valid_region_data['lon'], \n",
    "            lat=valid_region_data['lat'], \n",
    "            text=valid_region_data['region'],\n",
    "            customdata=valid_region_data[['inflow', 'outflow', 'net_flow', 'region']].values,\n",
    "            hovertemplate='<b>%{text}</b><br>Inflow: $%{customdata[0]:,.2f}<br>Outflow: $%{customdata[1]:,.2f}<br>Net Flow: $%{customdata[2]:,.2f}',\n",
    "            mode='markers',\n",
    "            marker=dict(\n",
    "                size=valid_region_data['total_volume'] / valid_region_data['total_volume'].max() * 25 + 10,\n",
    "                color=valid_region_data['net_flow'], \n",
    "                colorscale='RdBu', \n",
    "                cmid=0, \n",
    "                opacity=0.8,\n",
    "                colorbar=dict(title='Net Flow<br>(Inflow - Outflow)', thickness=15)\n",
    "            ),\n",
    "            name='Regions'\n",
    "        ))\n",
    "    \n",
    "    fig.update_layout(\n",
    "        title='Global Banking Transaction Flows Between Regions',\n",
    "        mapbox=dict(\n",
    "            style='carto-positron',\n",
    "            zoom=1.2,\n",
    "            center=dict(lat=20, lon=0),\n",
    "            **({'accesstoken': mapbox_token, 'style': 'mapbox://styles/mapbox/light-v10'} if mapbox_token else {})\n",
    "        ),\n",
    "        width=1200, height=700, margin=dict(l=0, r=0, t=50, b=0)\n",
    "    )\n",
    "    \n",
    "    return fig\n",
    "\n",
    "def create_sankey_for_regions(df, send_region=None, receive_region=None, year=None):\n",
    "    \"\"\"\n",
    "    Create a Sankey diagram for transactions between specified regions,\n",
    "    showing a flow from sender → receiver → currency → mx/mt → mt → direction → amount\n",
    "    without showing the regions themselves as nodes.\n",
    "    \n",
    "    Parameters:\n",
    "    -----------\n",
    "    df : pandas DataFrame\n",
    "        The DataFrame containing transaction data\n",
    "    send_region : str, optional\n",
    "        Region to filter senders by\n",
    "    receive_region : str, optional\n",
    "        Region to filter receivers by\n",
    "    year : int, optional\n",
    "        Year to filter transactions by\n",
    "    \n",
    "    Returns:\n",
    "    --------\n",
    "    plotly.graph_objects.Figure\n",
    "        A Sankey diagram figure\n",
    "    \"\"\"\n",
    "    import pandas as pd\n",
    "    import numpy as np\n",
    "    import plotly.graph_objects as go\n",
    "    \n",
    "    # Create a copy to avoid modifying the original\n",
    "    filtered_df = df.copy()\n",
    "    \n",
    "    # Filter data if regions are specified\n",
    "    title_parts = []\n",
    "    \n",
    "    if send_region:\n",
    "        filtered_df = filtered_df[filtered_df['send region'] == send_region]\n",
    "        title_parts.append(f\"from {send_region}\")\n",
    "    \n",
    "    if receive_region:\n",
    "        filtered_df = filtered_df[filtered_df['receiver region'] == receive_region]\n",
    "        title_parts.append(f\"to {receive_region}\")\n",
    "    \n",
    "    # Filter by year if specified\n",
    "    if year and 'year' in filtered_df.columns:\n",
    "        filtered_df = filtered_df[filtered_df['year'] == year]\n",
    "        title_parts.append(f\"in {year}\")\n",
    "    \n",
    "    if title_parts:\n",
    "        title = f\"Transactions {' '.join(title_parts)}\"\n",
    "    else:\n",
    "        title = \"All Regional Transactions\"\n",
    "    \n",
    "    # Ensure amount categories exist (create if missing)\n",
    "    if 'amount_category' not in filtered_df.columns:\n",
    "        filtered_df['amount_category'] = pd.cut(\n",
    "            filtered_df['amount'], \n",
    "            bins=[0, 1e6, 5e6, 1e7, float('inf')], \n",
    "            labels=['< 1M', '1M-5M', '5M-10M', '> 10M']\n",
    "        )\n",
    "    \n",
    "    # Check if we have data after all the filters\n",
    "    if filtered_df.empty:\n",
    "        fig = go.Figure()\n",
    "        fig.update_layout(\n",
    "            title_text=f\"No data available for {title}\",\n",
    "            annotations=[dict(\n",
    "                text=\"No transactions found for the selected criteria\",\n",
    "                xref=\"paper\", yref=\"paper\",\n",
    "                x=0.5, y=0.5, showarrow=False,\n",
    "                font=dict(size=20)\n",
    "            )]\n",
    "        )\n",
    "        return fig\n",
    "    \n",
    "    # Make sure all columns are properly formatted as strings\n",
    "    str_columns = ['sender', 'receiver', 'currency', 'mx/mt', 'Mt', 'direction', 'amount_category']\n",
    "    for col in str_columns:\n",
    "        if col in filtered_df.columns and filtered_df[col].dtype != 'str':\n",
    "            filtered_df[col] = filtered_df[col].astype(str)\n",
    "    \n",
    "    # Create the flows according to the specified path\n",
    "    # sender → receiver\n",
    "    flow1 = filtered_df.groupby(['sender', 'receiver']).size().reset_index(name='count')\n",
    "    \n",
    "    # receiver → currency\n",
    "    flow2 = filtered_df.groupby(['receiver', 'currency']).size().reset_index(name='count')\n",
    "    \n",
    "    # currency → mx/mt\n",
    "    flow3 = filtered_df.groupby(['currency', 'mx/mt']).size().reset_index(name='count')\n",
    "    \n",
    "    # mx/mt → mt\n",
    "    flow4 = filtered_df.groupby(['mx/mt', 'Mt']).size().reset_index(name='count')\n",
    "    \n",
    "    # mt → direction\n",
    "    flow5 = filtered_df.groupby(['Mt', 'direction']).size().reset_index(name='count')\n",
    "    \n",
    "    # direction → amount\n",
    "    flow6 = filtered_df.groupby(['direction', 'amount_category']).size().reset_index(name='count')\n",
    "    \n",
    "    # Get all unique labels\n",
    "    labels = pd.unique(\n",
    "        flow1['sender'].tolist() +\n",
    "        flow1['receiver'].tolist() +\n",
    "        flow2['currency'].tolist() +\n",
    "        flow3['mx/mt'].tolist() +\n",
    "        flow4['Mt'].tolist() +\n",
    "        flow5['direction'].tolist() +\n",
    "        flow6['amount_category'].astype(str).tolist()\n",
    "    )\n",
    "    \n",
    "    # Map labels to indices\n",
    "    label_to_index = {label: i for i, label in enumerate(labels)}\n",
    "    \n",
    "    # Prepare sources, targets, and values for links\n",
    "    source, target, value = [], [], []\n",
    "    link_labels = []\n",
    "    \n",
    "    # sender → receiver\n",
    "    for _, row in flow1.iterrows():\n",
    "        source.append(label_to_index[row['sender']])\n",
    "        target.append(label_to_index[row['receiver']])\n",
    "        value.append(row['count'])\n",
    "        link_labels.append(f\"{row['sender']} → {row['receiver']}<br>Count: {row['count']}\")\n",
    "    \n",
    "    # receiver → currency\n",
    "    for _, row in flow2.iterrows():\n",
    "        source.append(label_to_index[row['receiver']])\n",
    "        target.append(label_to_index[row['currency']])\n",
    "        value.append(row['count'])\n",
    "        link_labels.append(f\"{row['receiver']} → {row['currency']}<br>Count: {row['count']}\")\n",
    "    \n",
    "    # currency → mx/mt\n",
    "    for _, row in flow3.iterrows():\n",
    "        source.append(label_to_index[row['currency']])\n",
    "        target.append(label_to_index[row['mx/mt']])\n",
    "        value.append(row['count'])\n",
    "        link_labels.append(f\"{row['currency']} → {row['mx/mt']}<br>Count: {row['count']}\")\n",
    "    \n",
    "    # mx/mt → mt\n",
    "    for _, row in flow4.iterrows():\n",
    "        source.append(label_to_index[row['mx/mt']])\n",
    "        target.append(label_to_index[row['Mt']])\n",
    "        value.append(row['count'])\n",
    "        link_labels.append(f\"{row['mx/mt']} → {row['Mt']}<br>Count: {row['count']}\")\n",
    "    \n",
    "    # mt → direction\n",
    "    for _, row in flow5.iterrows():\n",
    "        source.append(label_to_index[row['Mt']])\n",
    "        target.append(label_to_index[row['direction']])\n",
    "        value.append(row['count'])\n",
    "        link_labels.append(f\"{row['Mt']} → {row['direction']}<br>Count: {row['count']}\")\n",
    "    \n",
    "    # direction → amount_category\n",
    "    for _, row in flow6.iterrows():\n",
    "        source.append(label_to_index[row['direction']])\n",
    "        target.append(label_to_index[str(row['amount_category'])])\n",
    "        value.append(row['count'])\n",
    "        link_labels.append(f\"{row['direction']} → {row['amount_category']}<br>Count: {row['count']}\")\n",
    "    \n",
    "    # Set up colors for nodes and links\n",
    "    num_nodes = len(labels)\n",
    "    node_colors = [\"rgba(31, 119, 180, 0.8)\"] * num_nodes  # Default blue color\n",
    "    \n",
    "    # Create color groups for different node types\n",
    "    sender_idx = [label_to_index[label] for label in pd.Series(flow1['sender']).unique()]\n",
    "    receiver_idx = [label_to_index[label] for label in pd.Series(flow1['receiver']).unique()]\n",
    "    currency_idx = [label_to_index[label] for label in pd.Series(flow2['currency']).unique()]\n",
    "    mxmt_idx = [label_to_index[label] for label in pd.Series(flow3['mx/mt']).unique()]\n",
    "    mt_idx = [label_to_index[label] for label in pd.Series(flow4['Mt']).unique()]\n",
    "    direction_idx = [label_to_index[label] for label in pd.Series(flow5['direction']).unique()]\n",
    "    amount_idx = [label_to_index[str(label)] for label in pd.Series(flow6['amount_category']).unique()]\n",
    "\n",
    "    \n",
    "    # Assign different colors to each node type\n",
    "    for idx in sender_idx:\n",
    "        node_colors[idx] = \"rgba(214, 39, 40, 0.8)\"  # Red for senders\n",
    "    for idx in receiver_idx:\n",
    "        node_colors[idx] = \"rgba(44, 160, 44, 0.8)\"  # Green for receivers\n",
    "    for idx in currency_idx:\n",
    "        node_colors[idx] = \"rgba(255, 127, 14, 0.8)\"  # Orange for currency\n",
    "    for idx in mxmt_idx:\n",
    "        node_colors[idx] = \"rgba(148, 103, 189, 0.8)\"  # Purple for mx/mt\n",
    "    for idx in mt_idx:\n",
    "        node_colors[idx] = \"rgba(140, 86, 75, 0.8)\"   # Brown for Mt\n",
    "    for idx in direction_idx:\n",
    "        node_colors[idx] = \"rgba(23, 190, 207, 0.8)\"  # Cyan for directions\n",
    "    for idx in amount_idx:\n",
    "        node_colors[idx] = \"rgba(31, 119, 180, 0.8)\"  # Blue for amount categories\n",
    "    \n",
    "    # Create colors for links based on their source\n",
    "    link_colors = []\n",
    "    for s in source:\n",
    "        # Use a slightly transparent version of the source node color\n",
    "        base_color = node_colors[s].replace(\"0.8\", \"0.6\")\n",
    "        link_colors.append(base_color)\n",
    "    \n",
    "    # Create the Sankey diagram\n",
    "    fig = go.Figure(data=[go.Sankey(\n",
    "        arrangement=\"snap\",\n",
    "        node=dict(\n",
    "            pad=20,\n",
    "            thickness=20,\n",
    "            line=dict(color=\"black\", width=0.5),\n",
    "            label=list(labels),\n",
    "            color=node_colors\n",
    "        ),\n",
    "        link=dict(\n",
    "            source=source,\n",
    "            target=target,\n",
    "            value=value,\n",
    "            color=link_colors,\n",
    "            customdata=np.array(link_labels),\n",
    "            hovertemplate='%{customdata}<extra></extra>'\n",
    "        )\n",
    "    )])\n",
    "    \n",
    "    # Add annotations to describe each column\n",
    "    fig.update_layout(\n",
    "        title_text=title,\n",
    "        font_size=12,\n",
    "        height=600,\n",
    "        width=1000,\n",
    "        annotations=[\n",
    "            dict(x=0.03, y=1, xref='paper', yref='paper', text='Sender', showarrow=False, font=dict(size=14, color='black')),\n",
    "            dict(x=0.18, y=1, xref='paper', yref='paper', text='Receiver', showarrow=False, font=dict(size=14, color='black')),\n",
    "            dict(x=0.32, y=1, xref='paper', yref='paper', text='Currency', showarrow=False, font=dict(size=14, color='black')),\n",
    "            dict(x=0.47, y=1, xref='paper', yref='paper', text='MX/MT', showarrow=False, font=dict(size=14, color='black')),\n",
    "            dict(x=0.62, y=1, xref='paper', yref='paper', text='MT', showarrow=False, font=dict(size=14, color='black')),\n",
    "            dict(x=0.77, y=1, xref='paper', yref='paper', text='Direction', showarrow=False, font=dict(size=14, color='black')),\n",
    "            dict(x=0.92, y=1, xref='paper', yref='paper', text='Amount', showarrow=False, font=dict(size=14, color='black')),\n",
    "        ]\n",
    "    )\n",
    "    \n",
    "    return fig\n",
    "\n",
    "def visualize_banking_flows(df):\n",
    "    # Ensure the expected columns exist\n",
    "    required_columns = ['send region', 'receiver region', 'amount']\n",
    "    missing_columns = [col for col in required_columns if col not in df.columns]\n",
    "    \n",
    "    if missing_columns:\n",
    "        raise ValueError(f\"Missing required columns in dataframe: {missing_columns}\")\n",
    "    \n",
    "    # Check if year column exists, if not, provide a default\n",
    "    if 'year' not in df.columns:\n",
    "        print(\"Warning: 'year' column not found in data. Creating a dummy year column with value 2023.\")\n",
    "        df['year'] = 2023\n",
    "    \n",
    "    # Ensure all regions are in the coordinates dictionary\n",
    "    unknown_send_regions = set(df['send region'].unique()) - set(region_coordinates.keys())\n",
    "    unknown_recv_regions = set(df['receiver region'].unique()) - set(region_coordinates.keys())\n",
    "    \n",
    "    if unknown_send_regions:\n",
    "        print(f\"Warning: Unknown send regions: {unknown_send_regions}\")\n",
    "    if unknown_recv_regions:\n",
    "        print(f\"Warning: Unknown receiver regions: {unknown_recv_regions}\")\n",
    "    \n",
    "    # Create the flow map\n",
    "    flow_map = create_flow_map(df)\n",
    "    \n",
    "    # Get unique regions for dropdowns\n",
    "    all_regions = sorted(list(set(df['send region'].unique()).union(set(df['receiver region'].unique()))))\n",
    "    \n",
    "    # Get unique years for the year dropdown\n",
    "    years = sorted(df['year'].unique())\n",
    "    \n",
    "    # Create dropdown widgets\n",
    "    send_dropdown = widgets.Dropdown(\n",
    "        options=['All'] + all_regions,\n",
    "        value='All',\n",
    "        description='Sender Region:',\n",
    "        layout=Layout(width='300px')\n",
    "    )\n",
    "    \n",
    "    receive_dropdown = widgets.Dropdown(\n",
    "        options=['All'] + all_regions,\n",
    "        value='All',\n",
    "        description='Receiver Region:',\n",
    "        layout=Layout(width='300px')\n",
    "    )\n",
    "    \n",
    "    # Create year dropdown\n",
    "    year_dropdown = widgets.Dropdown(\n",
    "        options=['All'] + list(years),\n",
    "        value='All',\n",
    "        description='Year:',\n",
    "        layout=Layout(width='300px')\n",
    "    )\n",
    "    \n",
    "    # Create output area for the Sankey diagram\n",
    "    sankey_output = widgets.Output()\n",
    "    \n",
    "    def update_sankey(sender_region, receiver_region, year):\n",
    "        with sankey_output:\n",
    "            sankey_output.clear_output(wait=True)\n",
    "            send_region = None if sender_region == 'All' else sender_region\n",
    "            receive_region = None if receiver_region == 'All' else receiver_region\n",
    "            selected_year = None if year == 'All' else year\n",
    "            sankey_fig = create_sankey_for_regions(df, send_region, receive_region, selected_year)\n",
    "            sankey_fig.show()\n",
    "    \n",
    "    # Create interactive widget with all three dropdowns\n",
    "    interactive_widget = interactive(\n",
    "        update_sankey,\n",
    "        sender_region=send_dropdown,\n",
    "        receiver_region=receive_dropdown,\n",
    "        year=year_dropdown\n",
    "    )\n",
    "    \n",
    "    # Display everything\n",
    "    display(flow_map)\n",
    "    display(interactive_widget)\n",
    "    display(sankey_output)\n",
    "    \n",
    "    # Initial display\n",
    "    update_sankey('All', 'All', 'All')\n",
    "    \n",
    "    return flow_map\n",
    "\n"
   ]
  },
  {
   "cell_type": "code",
   "execution_count": 5,
   "id": "83e9d597",
   "metadata": {},
   "outputs": [
    {
     "data": {
      "text/plain": [
       "Index(['Count', 'sender', 'receiver', 'amount', 'currency', 'Mt', 'year',\n",
       "       'direction', 'category', 'send region', 'receiver region', 'mx/mt',\n",
       "       'transaction_status', 'payment_method'],\n",
       "      dtype='object')"
      ]
     },
     "execution_count": 5,
     "metadata": {},
     "output_type": "execute_result"
    }
   ],
   "source": [
    "df.columns"
   ]
  },
  {
   "cell_type": "code",
   "execution_count": 6,
   "id": "de4959d2",
   "metadata": {},
   "outputs": [
    {
     "name": "stderr",
     "output_type": "stream",
     "text": [
      "C:\\Users\\joshu\\AppData\\Local\\Temp\\ipykernel_15860\\3031759551.py:68: DeprecationWarning:\n",
      "\n",
      "*scattermapbox* is deprecated! Use *scattermap* instead. Learn more at: https://plotly.com/python/mapbox-to-maplibre/\n",
      "\n",
      "C:\\Users\\joshu\\AppData\\Local\\Temp\\ipykernel_15860\\3031759551.py:81: DeprecationWarning:\n",
      "\n",
      "*scattermapbox* is deprecated! Use *scattermap* instead. Learn more at: https://plotly.com/python/mapbox-to-maplibre/\n",
      "\n"
     ]
    },
    {
     "data": {
      "application/vnd.plotly.v1+json": {
       "config": {
        "plotlyServerURL": "https://plot.ly"
       },
       "data": [
        {
         "customdata": [
          [
           "Africa",
           "Middle East",
           4794660.58
          ],
          [
           "Africa",
           "Middle East",
           4794660.58
          ],
          [
           "Africa",
           "Middle East",
           4794660.58
          ],
          [
           "Africa",
           "Middle East",
           4794660.58
          ],
          [
           "Africa",
           "Middle East",
           4794660.58
          ],
          [
           "Africa",
           "Middle East",
           4794660.58
          ],
          [
           "Africa",
           "Middle East",
           4794660.58
          ],
          [
           "Africa",
           "Middle East",
           4794660.58
          ],
          [
           "Africa",
           "Middle East",
           4794660.58
          ],
          [
           "Africa",
           "Middle East",
           4794660.58
          ],
          [
           "Africa",
           "Middle East",
           4794660.58
          ],
          [
           "Africa",
           "Middle East",
           4794660.58
          ],
          [
           "Africa",
           "Middle East",
           4794660.58
          ],
          [
           "Africa",
           "Middle East",
           4794660.58
          ],
          [
           "Africa",
           "Middle East",
           4794660.58
          ],
          [
           "Africa",
           "Middle East",
           4794660.58
          ],
          [
           "Africa",
           "Middle East",
           4794660.58
          ],
          [
           "Africa",
           "Middle East",
           4794660.58
          ],
          [
           "Africa",
           "Middle East",
           4794660.58
          ],
          [
           "Africa",
           "Middle East",
           4794660.58
          ]
         ],
         "hoverinfo": "text",
         "hovertext": "Africa → Middle East<br>Amount: $4,794,660.58",
         "lat": [
          5,
          6.6560357858663295,
          8.25672256628552,
          9.802060341257574,
          11.292049110782497,
          12.726688874860285,
          14.105979633490932,
          15.429921386674442,
          16.69851413441082,
          17.911757876700065,
          19.069652613542168,
          20.172198344937136,
          21.21939507088497,
          22.211242791385665,
          23.14774150643923,
          24.028891216045658,
          24.854691920204946,
          25.625143618917097,
          26.340246312182117,
          27
         ],
         "line": {
          "color": "rgba(70, 130, 180, 0.35)",
          "width": 1.4913030752006498
         },
         "lon": [
          20,
          21.315789473684212,
          22.63157894736842,
          23.94736842105263,
          25.263157894736842,
          26.578947368421055,
          27.89473684210526,
          29.210526315789473,
          30.52631578947368,
          31.842105263157897,
          33.15789473684211,
          34.473684210526315,
          35.78947368421053,
          37.10526315789474,
          38.421052631578945,
          39.73684210526316,
          41.05263157894736,
          42.368421052631575,
          43.68421052631579,
          45
         ],
         "mode": "lines",
         "showlegend": false,
         "type": "scattermapbox"
        },
        {
         "customdata": [
          [
           "Asia Pacific",
           "Middle East",
           16083014.38
          ],
          [
           "Asia Pacific",
           "Middle East",
           16083014.38
          ],
          [
           "Asia Pacific",
           "Middle East",
           16083014.38
          ],
          [
           "Asia Pacific",
           "Middle East",
           16083014.38
          ],
          [
           "Asia Pacific",
           "Middle East",
           16083014.38
          ],
          [
           "Asia Pacific",
           "Middle East",
           16083014.38
          ],
          [
           "Asia Pacific",
           "Middle East",
           16083014.38
          ],
          [
           "Asia Pacific",
           "Middle East",
           16083014.38
          ],
          [
           "Asia Pacific",
           "Middle East",
           16083014.38
          ],
          [
           "Asia Pacific",
           "Middle East",
           16083014.38
          ],
          [
           "Asia Pacific",
           "Middle East",
           16083014.38
          ],
          [
           "Asia Pacific",
           "Middle East",
           16083014.38
          ],
          [
           "Asia Pacific",
           "Middle East",
           16083014.38
          ],
          [
           "Asia Pacific",
           "Middle East",
           16083014.38
          ],
          [
           "Asia Pacific",
           "Middle East",
           16083014.38
          ],
          [
           "Asia Pacific",
           "Middle East",
           16083014.38
          ],
          [
           "Asia Pacific",
           "Middle East",
           16083014.38
          ],
          [
           "Asia Pacific",
           "Middle East",
           16083014.38
          ],
          [
           "Asia Pacific",
           "Middle East",
           16083014.38
          ],
          [
           "Asia Pacific",
           "Middle East",
           16083014.38
          ]
         ],
         "hoverinfo": "text",
         "hovertext": "Asia Pacific → Middle East<br>Amount: $16,083,014.38",
         "lat": [
          30,
          30.839335180055407,
          31.567867036011084,
          32.18559556786703,
          32.69252077562327,
          33.088642659279785,
          33.37396121883656,
          33.54847645429363,
          33.612188365650965,
          33.56509695290859,
          33.40720221606648,
          33.13850415512465,
          32.7590027700831,
          32.26869806094183,
          31.667590027700832,
          30.955678670360115,
          30.13296398891967,
          29.1994459833795,
          28.155124653739612,
          27
         ],
         "line": {
          "color": "rgba(70, 130, 180, 0.47)",
          "width": 5.002366362164946
         },
         "lon": [
          120,
          116.05263157894738,
          112.10526315789474,
          108.15789473684208,
          104.21052631578948,
          100.26315789473686,
          96.31578947368422,
          92.36842105263158,
          88.42105263157895,
          84.47368421052633,
          80.52631578947368,
          76.57894736842105,
          72.63157894736842,
          68.6842105263158,
          64.73684210526316,
          60.78947368421053,
          56.8421052631579,
          52.89473684210527,
          48.94736842105264,
          45
         ],
         "mode": "lines",
         "showlegend": false,
         "type": "scattermapbox"
        },
        {
         "customdata": [
          [
           "Caribbean",
           "Middle East",
           42760814.73
          ],
          [
           "Caribbean",
           "Middle East",
           42760814.73
          ],
          [
           "Caribbean",
           "Middle East",
           42760814.73
          ],
          [
           "Caribbean",
           "Middle East",
           42760814.73
          ],
          [
           "Caribbean",
           "Middle East",
           42760814.73
          ],
          [
           "Caribbean",
           "Middle East",
           42760814.73
          ],
          [
           "Caribbean",
           "Middle East",
           42760814.73
          ],
          [
           "Caribbean",
           "Middle East",
           42760814.73
          ],
          [
           "Caribbean",
           "Middle East",
           42760814.73
          ],
          [
           "Caribbean",
           "Middle East",
           42760814.73
          ],
          [
           "Caribbean",
           "Middle East",
           42760814.73
          ],
          [
           "Caribbean",
           "Middle East",
           42760814.73
          ],
          [
           "Caribbean",
           "Middle East",
           42760814.73
          ],
          [
           "Caribbean",
           "Middle East",
           42760814.73
          ],
          [
           "Caribbean",
           "Middle East",
           42760814.73
          ],
          [
           "Caribbean",
           "Middle East",
           42760814.73
          ],
          [
           "Caribbean",
           "Middle East",
           42760814.73
          ],
          [
           "Caribbean",
           "Middle East",
           42760814.73
          ],
          [
           "Caribbean",
           "Middle East",
           42760814.73
          ],
          [
           "Caribbean",
           "Middle East",
           42760814.73
          ]
         ],
         "hoverinfo": "text",
         "hovertext": "Caribbean → Middle East<br>Amount: $42,760,814.73",
         "lat": [
          20,
          21.36565096952909,
          22.620498614958446,
          23.764542936288084,
          24.797783933518005,
          25.7202216066482,
          26.53185595567867,
          27.232686980609415,
          27.82271468144044,
          28.301939058171747,
          28.670360110803323,
          28.927977839335178,
          29.074792243767313,
          29.110803324099727,
          29.036011080332408,
          28.850415512465375,
          28.554016620498615,
          28.14681440443213,
          27.628808864265928,
          27
         ],
         "line": {
          "color": "rgba(70, 130, 180, 0.74)",
          "width": 13.300072745698767
         },
         "lon": [
          -75,
          -68.68421052631581,
          -62.368421052631575,
          -56.052631578947356,
          -49.736842105263165,
          -43.42105263157896,
          -37.10526315789474,
          -30.78947368421052,
          -24.47368421052632,
          -18.15789473684211,
          -11.8421052631579,
          -5.526315789473681,
          0.7894736842105239,
          7.105263157894726,
          13.421052631578942,
          19.736842105263158,
          26.05263157894736,
          32.36842105263156,
          38.68421052631579,
          45
         ],
         "mode": "lines",
         "showlegend": false,
         "type": "scattermapbox"
        },
        {
         "customdata": [
          [
           "Central Asia",
           "Latin America",
           4435977
          ],
          [
           "Central Asia",
           "Latin America",
           4435977
          ],
          [
           "Central Asia",
           "Latin America",
           4435977
          ],
          [
           "Central Asia",
           "Latin America",
           4435977
          ],
          [
           "Central Asia",
           "Latin America",
           4435977
          ],
          [
           "Central Asia",
           "Latin America",
           4435977
          ],
          [
           "Central Asia",
           "Latin America",
           4435977
          ],
          [
           "Central Asia",
           "Latin America",
           4435977
          ],
          [
           "Central Asia",
           "Latin America",
           4435977
          ],
          [
           "Central Asia",
           "Latin America",
           4435977
          ],
          [
           "Central Asia",
           "Latin America",
           4435977
          ],
          [
           "Central Asia",
           "Latin America",
           4435977
          ],
          [
           "Central Asia",
           "Latin America",
           4435977
          ],
          [
           "Central Asia",
           "Latin America",
           4435977
          ],
          [
           "Central Asia",
           "Latin America",
           4435977
          ],
          [
           "Central Asia",
           "Latin America",
           4435977
          ],
          [
           "Central Asia",
           "Latin America",
           4435977
          ],
          [
           "Central Asia",
           "Latin America",
           4435977
          ],
          [
           "Central Asia",
           "Latin America",
           4435977
          ],
          [
           "Central Asia",
           "Latin America",
           4435977
          ]
         ],
         "hoverinfo": "text",
         "hovertext": "Central Asia → Latin America<br>Amount: $4,435,977.00",
         "lat": [
          45,
          43.10249307479225,
          41.094182825484765,
          38.97506925207755,
          36.745152354570635,
          34.404432132964004,
          31.95290858725762,
          29.390581717451518,
          26.71745152354571,
          23.933518005540172,
          21.038781163434905,
          18.033240997229917,
          14.916897506925208,
          11.689750692520786,
          8.351800554016622,
          4.903047091412741,
          1.343490304709145,
          -2.326869806094175,
          -6.108033240997225,
          -10
         ],
         "line": {
          "color": "rgba(70, 130, 180, 0.35)",
          "width": 1.3797402404696084
         },
         "lon": [
          65,
          58.42105263157895,
          51.8421052631579,
          45.263157894736835,
          38.684210526315795,
          32.10526315789475,
          25.52631578947369,
          18.94736842105263,
          12.368421052631582,
          5.789473684210533,
          -0.7894736842105221,
          -7.368421052631582,
          -13.947368421052628,
          -20.52631578947367,
          -27.105263157894733,
          -33.684210526315795,
          -40.263157894736835,
          -46.842105263157876,
          -53.42105263157894,
          -60
         ],
         "mode": "lines",
         "showlegend": false,
         "type": "scattermapbox"
        },
        {
         "customdata": [
          [
           "Central Asia",
           "Middle East",
           8409233.71
          ],
          [
           "Central Asia",
           "Middle East",
           8409233.71
          ],
          [
           "Central Asia",
           "Middle East",
           8409233.71
          ],
          [
           "Central Asia",
           "Middle East",
           8409233.71
          ],
          [
           "Central Asia",
           "Middle East",
           8409233.71
          ],
          [
           "Central Asia",
           "Middle East",
           8409233.71
          ],
          [
           "Central Asia",
           "Middle East",
           8409233.71
          ],
          [
           "Central Asia",
           "Middle East",
           8409233.71
          ],
          [
           "Central Asia",
           "Middle East",
           8409233.71
          ],
          [
           "Central Asia",
           "Middle East",
           8409233.71
          ],
          [
           "Central Asia",
           "Middle East",
           8409233.71
          ],
          [
           "Central Asia",
           "Middle East",
           8409233.71
          ],
          [
           "Central Asia",
           "Middle East",
           8409233.71
          ],
          [
           "Central Asia",
           "Middle East",
           8409233.71
          ],
          [
           "Central Asia",
           "Middle East",
           8409233.71
          ],
          [
           "Central Asia",
           "Middle East",
           8409233.71
          ],
          [
           "Central Asia",
           "Middle East",
           8409233.71
          ],
          [
           "Central Asia",
           "Middle East",
           8409233.71
          ],
          [
           "Central Asia",
           "Middle East",
           8409233.71
          ],
          [
           "Central Asia",
           "Middle East",
           8409233.71
          ]
         ],
         "hoverinfo": "text",
         "hovertext": "Central Asia → Middle East<br>Amount: $8,409,233.71",
         "lat": [
          45,
          44.45512227066038,
          43.86552335335264,
          43.23120324807679,
          42.55216195483283,
          41.82839947362077,
          41.05991580444058,
          40.24671094729228,
          39.38878490217587,
          38.48613766909136,
          37.538769248038726,
          36.54667963901798,
          35.50986884202913,
          34.42833685707216,
          33.30208368414708,
          32.131109323253895,
          30.915413774392587,
          29.65499703756317,
          28.349859112765643,
          27
         ],
         "line": {
          "color": "rgba(70, 130, 180, 0.39)",
          "width": 2.615558678775958
         },
         "lon": [
          65,
          63.94736842105264,
          62.89473684210526,
          61.84210526315788,
          60.78947368421053,
          59.736842105263165,
          58.684210526315795,
          57.63157894736841,
          56.578947368421055,
          55.52631578947369,
          54.47368421052632,
          53.421052631578945,
          52.368421052631575,
          51.31578947368422,
          50.26315789473684,
          49.21052631578947,
          48.1578947368421,
          47.10526315789474,
          46.05263157894737,
          45
         ],
         "mode": "lines",
         "showlegend": false,
         "type": "scattermapbox"
        },
        {
         "customdata": [
          [
           "Europe",
           "Middle East",
           5915148.550000001
          ],
          [
           "Europe",
           "Middle East",
           5915148.550000001
          ],
          [
           "Europe",
           "Middle East",
           5915148.550000001
          ],
          [
           "Europe",
           "Middle East",
           5915148.550000001
          ],
          [
           "Europe",
           "Middle East",
           5915148.550000001
          ],
          [
           "Europe",
           "Middle East",
           5915148.550000001
          ],
          [
           "Europe",
           "Middle East",
           5915148.550000001
          ],
          [
           "Europe",
           "Middle East",
           5915148.550000001
          ],
          [
           "Europe",
           "Middle East",
           5915148.550000001
          ],
          [
           "Europe",
           "Middle East",
           5915148.550000001
          ],
          [
           "Europe",
           "Middle East",
           5915148.550000001
          ],
          [
           "Europe",
           "Middle East",
           5915148.550000001
          ],
          [
           "Europe",
           "Middle East",
           5915148.550000001
          ],
          [
           "Europe",
           "Middle East",
           5915148.550000001
          ],
          [
           "Europe",
           "Middle East",
           5915148.550000001
          ],
          [
           "Europe",
           "Middle East",
           5915148.550000001
          ],
          [
           "Europe",
           "Middle East",
           5915148.550000001
          ],
          [
           "Europe",
           "Middle East",
           5915148.550000001
          ],
          [
           "Europe",
           "Middle East",
           5915148.550000001
          ],
          [
           "Europe",
           "Middle East",
           5915148.550000001
          ]
         ],
         "hoverinfo": "text",
         "hovertext": "Europe → Middle East<br>Amount: $5,915,148.55",
         "lat": [
          50,
          49.41594523320448,
          48.762282516520735,
          48.03901184994878,
          47.246133233488614,
          46.38364666714023,
          45.45155215090361,
          44.44984968477878,
          43.37853926876575,
          42.237620902864506,
          41.02709458707503,
          39.74696032139734,
          38.39721810583143,
          36.97786794037731,
          35.48890982503496,
          33.9303437598044,
          32.30216974468563,
          30.60438777967864,
          28.836997864783427,
          27
         ],
         "line": {
          "color": "rgba(70, 130, 180, 0.36)",
          "width": 1.839813074502067
         },
         "lon": [
          10,
          11.842105263157897,
          13.684210526315788,
          15.526315789473681,
          17.36842105263158,
          19.210526315789473,
          21.052631578947366,
          22.89473684210526,
          24.736842105263158,
          26.578947368421055,
          28.421052631578945,
          30.263157894736842,
          32.10526315789474,
          33.94736842105263,
          35.78947368421052,
          37.63157894736842,
          39.473684210526315,
          41.315789473684205,
          43.1578947368421,
          45
         ],
         "mode": "lines",
         "showlegend": false,
         "type": "scattermapbox"
        },
        {
         "customdata": [
          [
           "Latin America",
           "Middle East",
           7798331.86
          ],
          [
           "Latin America",
           "Middle East",
           7798331.86
          ],
          [
           "Latin America",
           "Middle East",
           7798331.86
          ],
          [
           "Latin America",
           "Middle East",
           7798331.86
          ],
          [
           "Latin America",
           "Middle East",
           7798331.86
          ],
          [
           "Latin America",
           "Middle East",
           7798331.86
          ],
          [
           "Latin America",
           "Middle East",
           7798331.86
          ],
          [
           "Latin America",
           "Middle East",
           7798331.86
          ],
          [
           "Latin America",
           "Middle East",
           7798331.86
          ],
          [
           "Latin America",
           "Middle East",
           7798331.86
          ],
          [
           "Latin America",
           "Middle East",
           7798331.86
          ],
          [
           "Latin America",
           "Middle East",
           7798331.86
          ],
          [
           "Latin America",
           "Middle East",
           7798331.86
          ],
          [
           "Latin America",
           "Middle East",
           7798331.86
          ],
          [
           "Latin America",
           "Middle East",
           7798331.86
          ],
          [
           "Latin America",
           "Middle East",
           7798331.86
          ],
          [
           "Latin America",
           "Middle East",
           7798331.86
          ],
          [
           "Latin America",
           "Middle East",
           7798331.86
          ],
          [
           "Latin America",
           "Middle East",
           7798331.86
          ],
          [
           "Latin America",
           "Middle East",
           7798331.86
          ]
         ],
         "hoverinfo": "text",
         "hovertext": "Latin America → Middle East<br>Amount: $7,798,331.86",
         "lat": [
          -10,
          -7.055401662049863,
          -4.221606648199446,
          -1.4986149584487531,
          1.1135734072022154,
          3.614958448753461,
          6.005540166204986,
          8.285318559556785,
          10.454293628808864,
          12.51246537396122,
          14.45983379501385,
          16.29639889196676,
          18.022160664819943,
          19.637119113573405,
          21.141274238227144,
          22.534626038781166,
          23.817174515235457,
          24.988919667590025,
          26.049861495844873,
          27
         ],
         "line": {
          "color": "rgba(70, 130, 180, 0.38)",
          "width": 2.4255473542306936
         },
         "lon": [
          -60,
          -54.47368421052633,
          -48.94736842105263,
          -43.42105263157894,
          -37.89473684210527,
          -32.36842105263158,
          -26.842105263157897,
          -21.31578947368421,
          -15.789473684210527,
          -10.263157894736848,
          -4.736842105263159,
          0.7894736842105292,
          6.315789473684209,
          11.842105263157885,
          17.368421052631575,
          22.894736842105264,
          28.421052631578938,
          33.947368421052616,
          39.473684210526315,
          45
         ],
         "mode": "lines",
         "showlegend": false,
         "type": "scattermapbox"
        },
        {
         "customdata": [
          [
           "Middle East",
           "Central Asia",
           48226219
          ],
          [
           "Middle East",
           "Central Asia",
           48226219
          ],
          [
           "Middle East",
           "Central Asia",
           48226219
          ],
          [
           "Middle East",
           "Central Asia",
           48226219
          ],
          [
           "Middle East",
           "Central Asia",
           48226219
          ],
          [
           "Middle East",
           "Central Asia",
           48226219
          ],
          [
           "Middle East",
           "Central Asia",
           48226219
          ],
          [
           "Middle East",
           "Central Asia",
           48226219
          ],
          [
           "Middle East",
           "Central Asia",
           48226219
          ],
          [
           "Middle East",
           "Central Asia",
           48226219
          ],
          [
           "Middle East",
           "Central Asia",
           48226219
          ],
          [
           "Middle East",
           "Central Asia",
           48226219
          ],
          [
           "Middle East",
           "Central Asia",
           48226219
          ],
          [
           "Middle East",
           "Central Asia",
           48226219
          ],
          [
           "Middle East",
           "Central Asia",
           48226219
          ],
          [
           "Middle East",
           "Central Asia",
           48226219
          ],
          [
           "Middle East",
           "Central Asia",
           48226219
          ],
          [
           "Middle East",
           "Central Asia",
           48226219
          ],
          [
           "Middle East",
           "Central Asia",
           48226219
          ],
          [
           "Middle East",
           "Central Asia",
           48226219
          ]
         ],
         "hoverinfo": "text",
         "hovertext": "Middle East → Central Asia<br>Amount: $48,226,219.00",
         "lat": [
          27,
          28.349859112765646,
          29.65499703756317,
          30.915413774392583,
          32.13110932325389,
          33.302083684147085,
          34.42833685707216,
          35.50986884202912,
          36.54667963901798,
          37.538769248038726,
          38.48613766909136,
          39.38878490217588,
          40.246710947292286,
          41.05991580444058,
          41.82839947362076,
          42.55216195483283,
          43.231203248076795,
          43.865523353352636,
          44.455122270660375,
          45
         ],
         "line": {
          "color": "rgba(70, 130, 180, 0.80)",
          "width": 15
         },
         "lon": [
          45,
          46.05263157894738,
          47.10526315789474,
          48.157894736842096,
          49.210526315789465,
          50.26315789473685,
          51.31578947368421,
          52.368421052631575,
          53.421052631578945,
          54.47368421052632,
          55.526315789473685,
          56.578947368421055,
          57.63157894736842,
          58.684210526315795,
          59.73684210526315,
          60.78947368421052,
          61.84210526315789,
          62.89473684210526,
          63.94736842105263,
          65
         ],
         "mode": "lines",
         "showlegend": false,
         "type": "scattermapbox"
        },
        {
         "customdata": [
          [
           "Middle East",
           "Southeast Asia",
           33486319.98
          ],
          [
           "Middle East",
           "Southeast Asia",
           33486319.98
          ],
          [
           "Middle East",
           "Southeast Asia",
           33486319.98
          ],
          [
           "Middle East",
           "Southeast Asia",
           33486319.98
          ],
          [
           "Middle East",
           "Southeast Asia",
           33486319.98
          ],
          [
           "Middle East",
           "Southeast Asia",
           33486319.98
          ],
          [
           "Middle East",
           "Southeast Asia",
           33486319.98
          ],
          [
           "Middle East",
           "Southeast Asia",
           33486319.98
          ],
          [
           "Middle East",
           "Southeast Asia",
           33486319.98
          ],
          [
           "Middle East",
           "Southeast Asia",
           33486319.98
          ],
          [
           "Middle East",
           "Southeast Asia",
           33486319.98
          ],
          [
           "Middle East",
           "Southeast Asia",
           33486319.98
          ],
          [
           "Middle East",
           "Southeast Asia",
           33486319.98
          ],
          [
           "Middle East",
           "Southeast Asia",
           33486319.98
          ],
          [
           "Middle East",
           "Southeast Asia",
           33486319.98
          ],
          [
           "Middle East",
           "Southeast Asia",
           33486319.98
          ],
          [
           "Middle East",
           "Southeast Asia",
           33486319.98
          ],
          [
           "Middle East",
           "Southeast Asia",
           33486319.98
          ],
          [
           "Middle East",
           "Southeast Asia",
           33486319.98
          ],
          [
           "Middle East",
           "Southeast Asia",
           33486319.98
          ]
         ],
         "hoverinfo": "text",
         "hovertext": "Middle East → Southeast Asia<br>Amount: $33,486,319.98",
         "lat": [
          27,
          27.038099655062737,
          26.972550810440136,
          26.803353466132204,
          26.530507622138945,
          26.15401327846035,
          25.673870435096415,
          25.090079092047148,
          24.402639249312557,
          23.611550906892628,
          22.716814064787364,
          21.718428722996766,
          20.616394881520836,
          19.410712540359576,
          18.101381699512977,
          16.688402358981048,
          15.171774518763787,
          13.551498178861193,
          11.827573339273261,
          10
         ],
         "line": {
          "color": "rgba(70, 130, 180, 0.65)",
          "width": 10.415388353376823
         },
         "lon": [
          45,
          48.15789473684211,
          51.315789473684205,
          54.47368421052631,
          57.63157894736842,
          60.789473684210535,
          63.94736842105263,
          67.10526315789474,
          70.26315789473684,
          73.42105263157895,
          76.57894736842105,
          79.73684210526315,
          82.89473684210526,
          86.05263157894737,
          89.21052631578947,
          92.36842105263158,
          95.52631578947367,
          98.68421052631578,
          101.84210526315789,
          105
         ],
         "mode": "lines",
         "showlegend": false,
         "type": "scattermapbox"
        },
        {
         "customdata": [
          [
           "North America",
           "Europe",
           4646043.73
          ],
          [
           "North America",
           "Europe",
           4646043.73
          ],
          [
           "North America",
           "Europe",
           4646043.73
          ],
          [
           "North America",
           "Europe",
           4646043.73
          ],
          [
           "North America",
           "Europe",
           4646043.73
          ],
          [
           "North America",
           "Europe",
           4646043.73
          ],
          [
           "North America",
           "Europe",
           4646043.73
          ],
          [
           "North America",
           "Europe",
           4646043.73
          ],
          [
           "North America",
           "Europe",
           4646043.73
          ],
          [
           "North America",
           "Europe",
           4646043.73
          ],
          [
           "North America",
           "Europe",
           4646043.73
          ],
          [
           "North America",
           "Europe",
           4646043.73
          ],
          [
           "North America",
           "Europe",
           4646043.73
          ],
          [
           "North America",
           "Europe",
           4646043.73
          ],
          [
           "North America",
           "Europe",
           4646043.73
          ],
          [
           "North America",
           "Europe",
           4646043.73
          ],
          [
           "North America",
           "Europe",
           4646043.73
          ],
          [
           "North America",
           "Europe",
           4646043.73
          ],
          [
           "North America",
           "Europe",
           4646043.73
          ],
          [
           "North America",
           "Europe",
           4646043.73
          ]
         ],
         "hoverinfo": "text",
         "hovertext": "North America → Europe<br>Amount: $4,646,043.73",
         "lat": [
          40,
          41.523545706371195,
          42.936288088642655,
          44.238227146814395,
          45.42936288088643,
          46.50969529085873,
          47.4792243767313,
          48.33795013850415,
          49.08587257617729,
          49.7229916897507,
          50.249307479224385,
          50.664819944598335,
          50.96952908587258,
          51.16343490304709,
          51.24653739612188,
          51.21883656509695,
          51.0803324099723,
          50.83102493074793,
          50.470914127423825,
          50
         ],
         "line": {
          "color": "rgba(70, 130, 180, 0.35)",
          "width": 1.4450781627728273
         },
         "lon": [
          -100,
          -94.21052631578948,
          -88.42105263157895,
          -82.63157894736841,
          -76.84210526315789,
          -71.05263157894738,
          -65.26315789473685,
          -59.47368421052631,
          -53.684210526315795,
          -47.894736842105274,
          -42.10526315789474,
          -36.315789473684205,
          -30.52631578947369,
          -24.736842105263168,
          -18.947368421052634,
          -13.157894736842103,
          -7.368421052631585,
          -1.5789473684210638,
          4.210526315789466,
          10
         ],
         "mode": "lines",
         "showlegend": false,
         "type": "scattermapbox"
        },
        {
         "customdata": [
          [
           "North America",
           "Middle East",
           10590745.35
          ],
          [
           "North America",
           "Middle East",
           10590745.35
          ],
          [
           "North America",
           "Middle East",
           10590745.35
          ],
          [
           "North America",
           "Middle East",
           10590745.35
          ],
          [
           "North America",
           "Middle East",
           10590745.35
          ],
          [
           "North America",
           "Middle East",
           10590745.35
          ],
          [
           "North America",
           "Middle East",
           10590745.35
          ],
          [
           "North America",
           "Middle East",
           10590745.35
          ],
          [
           "North America",
           "Middle East",
           10590745.35
          ],
          [
           "North America",
           "Middle East",
           10590745.35
          ],
          [
           "North America",
           "Middle East",
           10590745.35
          ],
          [
           "North America",
           "Middle East",
           10590745.35
          ],
          [
           "North America",
           "Middle East",
           10590745.35
          ],
          [
           "North America",
           "Middle East",
           10590745.35
          ],
          [
           "North America",
           "Middle East",
           10590745.35
          ],
          [
           "North America",
           "Middle East",
           10590745.35
          ],
          [
           "North America",
           "Middle East",
           10590745.35
          ],
          [
           "North America",
           "Middle East",
           10590745.35
          ],
          [
           "North America",
           "Middle East",
           10590745.35
          ],
          [
           "North America",
           "Middle East",
           10590745.35
          ]
         ],
         "hoverinfo": "text",
         "hovertext": "North America → Middle East<br>Amount: $10,590,745.35",
         "lat": [
          40,
          40.31301939058172,
          40.51523545706371,
          40.60664819944598,
          40.58725761772853,
          40.45706371191137,
          40.21606648199446,
          39.86426592797783,
          39.4016620498615,
          38.82825484764544,
          38.14404432132964,
          37.34903047091413,
          36.443213296398895,
          35.42659279778393,
          34.29916897506925,
          33.060941828254855,
          31.711911357340725,
          30.25207756232687,
          28.681440443213297,
          27
         ],
         "line": {
          "color": "rgba(70, 130, 180, 0.41)",
          "width": 3.2940832506483657
         },
         "lon": [
          -100,
          -92.36842105263159,
          -84.73684210526315,
          -77.10526315789473,
          -69.47368421052632,
          -61.84210526315791,
          -54.21052631578948,
          -46.57894736842105,
          -38.94736842105263,
          -31.315789473684227,
          -23.684210526315788,
          -16.052631578947366,
          -8.421052631578952,
          -0.7894736842105416,
          6.842105263157887,
          14.473684210526319,
          22.105263157894726,
          29.736842105263136,
          37.368421052631575,
          45
         ],
         "mode": "lines",
         "showlegend": false,
         "type": "scattermapbox"
        },
        {
         "customdata": [
          [
           "South Asia",
           "Middle East",
           5440545.04
          ],
          [
           "South Asia",
           "Middle East",
           5440545.04
          ],
          [
           "South Asia",
           "Middle East",
           5440545.04
          ],
          [
           "South Asia",
           "Middle East",
           5440545.04
          ],
          [
           "South Asia",
           "Middle East",
           5440545.04
          ],
          [
           "South Asia",
           "Middle East",
           5440545.04
          ],
          [
           "South Asia",
           "Middle East",
           5440545.04
          ],
          [
           "South Asia",
           "Middle East",
           5440545.04
          ],
          [
           "South Asia",
           "Middle East",
           5440545.04
          ],
          [
           "South Asia",
           "Middle East",
           5440545.04
          ],
          [
           "South Asia",
           "Middle East",
           5440545.04
          ],
          [
           "South Asia",
           "Middle East",
           5440545.04
          ],
          [
           "South Asia",
           "Middle East",
           5440545.04
          ],
          [
           "South Asia",
           "Middle East",
           5440545.04
          ],
          [
           "South Asia",
           "Middle East",
           5440545.04
          ],
          [
           "South Asia",
           "Middle East",
           5440545.04
          ],
          [
           "South Asia",
           "Middle East",
           5440545.04
          ],
          [
           "South Asia",
           "Middle East",
           5440545.04
          ],
          [
           "South Asia",
           "Middle East",
           5440545.04
          ],
          [
           "South Asia",
           "Middle East",
           5440545.04
          ]
         ],
         "hoverinfo": "text",
         "hovertext": "South Asia → Middle East<br>Amount: $5,440,545.04",
         "lat": [
          20,
          20.829228685451785,
          21.60725652281243,
          22.33408351208194,
          23.009709653260323,
          23.634134946347576,
          24.207359391343683,
          24.729382988248663,
          25.200205737062515,
          25.619827637785225,
          25.988248690416803,
          26.305468894957247,
          26.571488251406556,
          26.786306759764738,
          26.94992442003178,
          27.062341232207697,
          27.12355719629247,
          27.133572312286113,
          27.092386580188624,
          27
         ],
         "line": {
          "color": "rgba(70, 130, 180, 0.36)",
          "width": 1.692195185361722
         },
         "lon": [
          75,
          73.42105263157896,
          71.84210526315789,
          70.26315789473684,
          68.6842105263158,
          67.10526315789475,
          65.52631578947368,
          63.94736842105263,
          62.368421052631575,
          60.789473684210535,
          59.21052631578948,
          57.631578947368425,
          56.05263157894737,
          54.47368421052632,
          52.89473684210526,
          51.315789473684205,
          49.73684210526316,
          48.15789473684211,
          46.578947368421055,
          45
         ],
         "mode": "lines",
         "showlegend": false,
         "type": "scattermapbox"
        },
        {
         "customdata": [
          [
           874798.97,
           5552112.78,
           -4677313.8100000005,
           "Africa"
          ],
          [
           1127800.99,
           17499290.02,
           -16371489.03,
           "Asia Pacific"
          ],
          [
           654512.99,
           43489845.73,
           -42835332.739999995,
           "Caribbean"
          ],
          [
           48753914.99,
           13450115.83,
           35303799.160000004,
           "Central Asia"
          ],
          [
           6545044.47,
           6885869.07,
           -340824.60000000056,
           "Europe"
          ],
          [
           6277920.2700000005,
           10194766.540000001,
           -3916846.2700000005,
           "Latin America"
          ],
          [
           105059536.71,
           84499534.24,
           20560002.47,
           "Middle East"
          ],
          [
           645744.36,
           17838163.39,
           -17192419.03,
           "North America"
          ],
          [
           904343.14,
           5894135.18,
           -4989792.04,
           "South Asia"
          ],
          [
           35948692.910000004,
           1488477.02,
           34460215.89,
           "Southeast Asia"
          ]
         ],
         "hovertemplate": "<b>%{text}</b><br>Inflow: $%{customdata[0]:,.2f}<br>Outflow: $%{customdata[1]:,.2f}<br>Net Flow: $%{customdata[2]:,.2f}",
         "lat": {
          "bdata": "AAAAAAAAFEAAAAAAAAA+QAAAAAAAADRAAAAAAACARkAAAAAAAABJQAAAAAAAACTAAAAAAAAAO0AAAAAAAABEQAAAAAAAADRAAAAAAAAAJEA=",
          "dtype": "f8"
         },
         "lon": {
          "bdata": "AAAAAAAANEAAAAAAAABeQAAAAAAAwFLAAAAAAABAUEAAAAAAAAAkQAAAAAAAAE7AAAAAAACARkAAAAAAAABZwAAAAAAAwFJAAAAAAABAWkA=",
          "dtype": "f8"
         },
         "marker": {
          "cmid": 0,
          "color": {
           "bdata": "PgrXc7DXUcGPwvUg5DlvwR6F6yXsbITBFa5HuYvVgEFwZmZmYs0UwSpcjyIX4k3BuB6FJ4ibc0FI4XowXmVwwSlcjwLYCFPBUrgev5FugEE=",
           "dtype": "f8"
          },
          "colorbar": {
           "thickness": 15,
           "title": {
            "text": "Net Flow<br>(Inflow - Outflow)"
           }
          },
          "colorscale": [
           [
            0,
            "rgb(103,0,31)"
           ],
           [
            0.1,
            "rgb(178,24,43)"
           ],
           [
            0.2,
            "rgb(214,96,77)"
           ],
           [
            0.3,
            "rgb(244,165,130)"
           ],
           [
            0.4,
            "rgb(253,219,199)"
           ],
           [
            0.5,
            "rgb(247,247,247)"
           ],
           [
            0.6,
            "rgb(209,229,240)"
           ],
           [
            0.7,
            "rgb(146,197,222)"
           ],
           [
            0.8,
            "rgb(67,147,195)"
           ],
           [
            0.9,
            "rgb(33,102,172)"
           ],
           [
            1,
            "rgb(5,48,97)"
           ]
          ],
          "opacity": 0.8,
          "size": {
           "bdata": "7RCPX/qxJUBEQ27xy+koQA0CIXXapC9ADMZH4Co0MkBniAaT7IonQEyQNPtRWChAAAAAAACAQUDLor3QIOAoQIaf/G4RyyVApscgGPPfLUA=",
           "dtype": "f8"
          }
         },
         "mode": "markers",
         "name": "Regions",
         "text": [
          "Africa",
          "Asia Pacific",
          "Caribbean",
          "Central Asia",
          "Europe",
          "Latin America",
          "Middle East",
          "North America",
          "South Asia",
          "Southeast Asia"
         ],
         "type": "scattermapbox"
        }
       ],
       "layout": {
        "height": 700,
        "mapbox": {
         "center": {
          "lat": 20,
          "lon": 0
         },
         "style": "carto-positron",
         "zoom": 1.2
        },
        "margin": {
         "b": 0,
         "l": 0,
         "r": 0,
         "t": 50
        },
        "template": {
         "data": {
          "bar": [
           {
            "error_x": {
             "color": "#2a3f5f"
            },
            "error_y": {
             "color": "#2a3f5f"
            },
            "marker": {
             "line": {
              "color": "#E5ECF6",
              "width": 0.5
             },
             "pattern": {
              "fillmode": "overlay",
              "size": 10,
              "solidity": 0.2
             }
            },
            "type": "bar"
           }
          ],
          "barpolar": [
           {
            "marker": {
             "line": {
              "color": "#E5ECF6",
              "width": 0.5
             },
             "pattern": {
              "fillmode": "overlay",
              "size": 10,
              "solidity": 0.2
             }
            },
            "type": "barpolar"
           }
          ],
          "carpet": [
           {
            "aaxis": {
             "endlinecolor": "#2a3f5f",
             "gridcolor": "white",
             "linecolor": "white",
             "minorgridcolor": "white",
             "startlinecolor": "#2a3f5f"
            },
            "baxis": {
             "endlinecolor": "#2a3f5f",
             "gridcolor": "white",
             "linecolor": "white",
             "minorgridcolor": "white",
             "startlinecolor": "#2a3f5f"
            },
            "type": "carpet"
           }
          ],
          "choropleth": [
           {
            "colorbar": {
             "outlinewidth": 0,
             "ticks": ""
            },
            "type": "choropleth"
           }
          ],
          "contour": [
           {
            "colorbar": {
             "outlinewidth": 0,
             "ticks": ""
            },
            "colorscale": [
             [
              0,
              "#0d0887"
             ],
             [
              0.1111111111111111,
              "#46039f"
             ],
             [
              0.2222222222222222,
              "#7201a8"
             ],
             [
              0.3333333333333333,
              "#9c179e"
             ],
             [
              0.4444444444444444,
              "#bd3786"
             ],
             [
              0.5555555555555556,
              "#d8576b"
             ],
             [
              0.6666666666666666,
              "#ed7953"
             ],
             [
              0.7777777777777778,
              "#fb9f3a"
             ],
             [
              0.8888888888888888,
              "#fdca26"
             ],
             [
              1,
              "#f0f921"
             ]
            ],
            "type": "contour"
           }
          ],
          "contourcarpet": [
           {
            "colorbar": {
             "outlinewidth": 0,
             "ticks": ""
            },
            "type": "contourcarpet"
           }
          ],
          "heatmap": [
           {
            "colorbar": {
             "outlinewidth": 0,
             "ticks": ""
            },
            "colorscale": [
             [
              0,
              "#0d0887"
             ],
             [
              0.1111111111111111,
              "#46039f"
             ],
             [
              0.2222222222222222,
              "#7201a8"
             ],
             [
              0.3333333333333333,
              "#9c179e"
             ],
             [
              0.4444444444444444,
              "#bd3786"
             ],
             [
              0.5555555555555556,
              "#d8576b"
             ],
             [
              0.6666666666666666,
              "#ed7953"
             ],
             [
              0.7777777777777778,
              "#fb9f3a"
             ],
             [
              0.8888888888888888,
              "#fdca26"
             ],
             [
              1,
              "#f0f921"
             ]
            ],
            "type": "heatmap"
           }
          ],
          "histogram": [
           {
            "marker": {
             "pattern": {
              "fillmode": "overlay",
              "size": 10,
              "solidity": 0.2
             }
            },
            "type": "histogram"
           }
          ],
          "histogram2d": [
           {
            "colorbar": {
             "outlinewidth": 0,
             "ticks": ""
            },
            "colorscale": [
             [
              0,
              "#0d0887"
             ],
             [
              0.1111111111111111,
              "#46039f"
             ],
             [
              0.2222222222222222,
              "#7201a8"
             ],
             [
              0.3333333333333333,
              "#9c179e"
             ],
             [
              0.4444444444444444,
              "#bd3786"
             ],
             [
              0.5555555555555556,
              "#d8576b"
             ],
             [
              0.6666666666666666,
              "#ed7953"
             ],
             [
              0.7777777777777778,
              "#fb9f3a"
             ],
             [
              0.8888888888888888,
              "#fdca26"
             ],
             [
              1,
              "#f0f921"
             ]
            ],
            "type": "histogram2d"
           }
          ],
          "histogram2dcontour": [
           {
            "colorbar": {
             "outlinewidth": 0,
             "ticks": ""
            },
            "colorscale": [
             [
              0,
              "#0d0887"
             ],
             [
              0.1111111111111111,
              "#46039f"
             ],
             [
              0.2222222222222222,
              "#7201a8"
             ],
             [
              0.3333333333333333,
              "#9c179e"
             ],
             [
              0.4444444444444444,
              "#bd3786"
             ],
             [
              0.5555555555555556,
              "#d8576b"
             ],
             [
              0.6666666666666666,
              "#ed7953"
             ],
             [
              0.7777777777777778,
              "#fb9f3a"
             ],
             [
              0.8888888888888888,
              "#fdca26"
             ],
             [
              1,
              "#f0f921"
             ]
            ],
            "type": "histogram2dcontour"
           }
          ],
          "mesh3d": [
           {
            "colorbar": {
             "outlinewidth": 0,
             "ticks": ""
            },
            "type": "mesh3d"
           }
          ],
          "parcoords": [
           {
            "line": {
             "colorbar": {
              "outlinewidth": 0,
              "ticks": ""
             }
            },
            "type": "parcoords"
           }
          ],
          "pie": [
           {
            "automargin": true,
            "type": "pie"
           }
          ],
          "scatter": [
           {
            "fillpattern": {
             "fillmode": "overlay",
             "size": 10,
             "solidity": 0.2
            },
            "type": "scatter"
           }
          ],
          "scatter3d": [
           {
            "line": {
             "colorbar": {
              "outlinewidth": 0,
              "ticks": ""
             }
            },
            "marker": {
             "colorbar": {
              "outlinewidth": 0,
              "ticks": ""
             }
            },
            "type": "scatter3d"
           }
          ],
          "scattercarpet": [
           {
            "marker": {
             "colorbar": {
              "outlinewidth": 0,
              "ticks": ""
             }
            },
            "type": "scattercarpet"
           }
          ],
          "scattergeo": [
           {
            "marker": {
             "colorbar": {
              "outlinewidth": 0,
              "ticks": ""
             }
            },
            "type": "scattergeo"
           }
          ],
          "scattergl": [
           {
            "marker": {
             "colorbar": {
              "outlinewidth": 0,
              "ticks": ""
             }
            },
            "type": "scattergl"
           }
          ],
          "scattermap": [
           {
            "marker": {
             "colorbar": {
              "outlinewidth": 0,
              "ticks": ""
             }
            },
            "type": "scattermap"
           }
          ],
          "scattermapbox": [
           {
            "marker": {
             "colorbar": {
              "outlinewidth": 0,
              "ticks": ""
             }
            },
            "type": "scattermapbox"
           }
          ],
          "scatterpolar": [
           {
            "marker": {
             "colorbar": {
              "outlinewidth": 0,
              "ticks": ""
             }
            },
            "type": "scatterpolar"
           }
          ],
          "scatterpolargl": [
           {
            "marker": {
             "colorbar": {
              "outlinewidth": 0,
              "ticks": ""
             }
            },
            "type": "scatterpolargl"
           }
          ],
          "scatterternary": [
           {
            "marker": {
             "colorbar": {
              "outlinewidth": 0,
              "ticks": ""
             }
            },
            "type": "scatterternary"
           }
          ],
          "surface": [
           {
            "colorbar": {
             "outlinewidth": 0,
             "ticks": ""
            },
            "colorscale": [
             [
              0,
              "#0d0887"
             ],
             [
              0.1111111111111111,
              "#46039f"
             ],
             [
              0.2222222222222222,
              "#7201a8"
             ],
             [
              0.3333333333333333,
              "#9c179e"
             ],
             [
              0.4444444444444444,
              "#bd3786"
             ],
             [
              0.5555555555555556,
              "#d8576b"
             ],
             [
              0.6666666666666666,
              "#ed7953"
             ],
             [
              0.7777777777777778,
              "#fb9f3a"
             ],
             [
              0.8888888888888888,
              "#fdca26"
             ],
             [
              1,
              "#f0f921"
             ]
            ],
            "type": "surface"
           }
          ],
          "table": [
           {
            "cells": {
             "fill": {
              "color": "#EBF0F8"
             },
             "line": {
              "color": "white"
             }
            },
            "header": {
             "fill": {
              "color": "#C8D4E3"
             },
             "line": {
              "color": "white"
             }
            },
            "type": "table"
           }
          ]
         },
         "layout": {
          "annotationdefaults": {
           "arrowcolor": "#2a3f5f",
           "arrowhead": 0,
           "arrowwidth": 1
          },
          "autotypenumbers": "strict",
          "coloraxis": {
           "colorbar": {
            "outlinewidth": 0,
            "ticks": ""
           }
          },
          "colorscale": {
           "diverging": [
            [
             0,
             "#8e0152"
            ],
            [
             0.1,
             "#c51b7d"
            ],
            [
             0.2,
             "#de77ae"
            ],
            [
             0.3,
             "#f1b6da"
            ],
            [
             0.4,
             "#fde0ef"
            ],
            [
             0.5,
             "#f7f7f7"
            ],
            [
             0.6,
             "#e6f5d0"
            ],
            [
             0.7,
             "#b8e186"
            ],
            [
             0.8,
             "#7fbc41"
            ],
            [
             0.9,
             "#4d9221"
            ],
            [
             1,
             "#276419"
            ]
           ],
           "sequential": [
            [
             0,
             "#0d0887"
            ],
            [
             0.1111111111111111,
             "#46039f"
            ],
            [
             0.2222222222222222,
             "#7201a8"
            ],
            [
             0.3333333333333333,
             "#9c179e"
            ],
            [
             0.4444444444444444,
             "#bd3786"
            ],
            [
             0.5555555555555556,
             "#d8576b"
            ],
            [
             0.6666666666666666,
             "#ed7953"
            ],
            [
             0.7777777777777778,
             "#fb9f3a"
            ],
            [
             0.8888888888888888,
             "#fdca26"
            ],
            [
             1,
             "#f0f921"
            ]
           ],
           "sequentialminus": [
            [
             0,
             "#0d0887"
            ],
            [
             0.1111111111111111,
             "#46039f"
            ],
            [
             0.2222222222222222,
             "#7201a8"
            ],
            [
             0.3333333333333333,
             "#9c179e"
            ],
            [
             0.4444444444444444,
             "#bd3786"
            ],
            [
             0.5555555555555556,
             "#d8576b"
            ],
            [
             0.6666666666666666,
             "#ed7953"
            ],
            [
             0.7777777777777778,
             "#fb9f3a"
            ],
            [
             0.8888888888888888,
             "#fdca26"
            ],
            [
             1,
             "#f0f921"
            ]
           ]
          },
          "colorway": [
           "#636efa",
           "#EF553B",
           "#00cc96",
           "#ab63fa",
           "#FFA15A",
           "#19d3f3",
           "#FF6692",
           "#B6E880",
           "#FF97FF",
           "#FECB52"
          ],
          "font": {
           "color": "#2a3f5f"
          },
          "geo": {
           "bgcolor": "white",
           "lakecolor": "white",
           "landcolor": "#E5ECF6",
           "showlakes": true,
           "showland": true,
           "subunitcolor": "white"
          },
          "hoverlabel": {
           "align": "left"
          },
          "hovermode": "closest",
          "mapbox": {
           "style": "light"
          },
          "paper_bgcolor": "white",
          "plot_bgcolor": "#E5ECF6",
          "polar": {
           "angularaxis": {
            "gridcolor": "white",
            "linecolor": "white",
            "ticks": ""
           },
           "bgcolor": "#E5ECF6",
           "radialaxis": {
            "gridcolor": "white",
            "linecolor": "white",
            "ticks": ""
           }
          },
          "scene": {
           "xaxis": {
            "backgroundcolor": "#E5ECF6",
            "gridcolor": "white",
            "gridwidth": 2,
            "linecolor": "white",
            "showbackground": true,
            "ticks": "",
            "zerolinecolor": "white"
           },
           "yaxis": {
            "backgroundcolor": "#E5ECF6",
            "gridcolor": "white",
            "gridwidth": 2,
            "linecolor": "white",
            "showbackground": true,
            "ticks": "",
            "zerolinecolor": "white"
           },
           "zaxis": {
            "backgroundcolor": "#E5ECF6",
            "gridcolor": "white",
            "gridwidth": 2,
            "linecolor": "white",
            "showbackground": true,
            "ticks": "",
            "zerolinecolor": "white"
           }
          },
          "shapedefaults": {
           "line": {
            "color": "#2a3f5f"
           }
          },
          "ternary": {
           "aaxis": {
            "gridcolor": "white",
            "linecolor": "white",
            "ticks": ""
           },
           "baxis": {
            "gridcolor": "white",
            "linecolor": "white",
            "ticks": ""
           },
           "bgcolor": "#E5ECF6",
           "caxis": {
            "gridcolor": "white",
            "linecolor": "white",
            "ticks": ""
           }
          },
          "title": {
           "x": 0.05
          },
          "xaxis": {
           "automargin": true,
           "gridcolor": "white",
           "linecolor": "white",
           "ticks": "",
           "title": {
            "standoff": 15
           },
           "zerolinecolor": "white",
           "zerolinewidth": 2
          },
          "yaxis": {
           "automargin": true,
           "gridcolor": "white",
           "linecolor": "white",
           "ticks": "",
           "title": {
            "standoff": 15
           },
           "zerolinecolor": "white",
           "zerolinewidth": 2
          }
         }
        },
        "title": {
         "text": "Global Banking Transaction Flows Between Regions"
        },
        "width": 1200
       }
      }
     },
     "metadata": {},
     "output_type": "display_data"
    },
    {
     "data": {
      "application/vnd.jupyter.widget-view+json": {
       "model_id": "585c6d8dc8064cfe915341434bf68017",
       "version_major": 2,
       "version_minor": 0
      },
      "text/plain": [
       "interactive(children=(Dropdown(description='Sender Region:', layout=Layout(width='300px'), options=('All', np.…"
      ]
     },
     "metadata": {},
     "output_type": "display_data"
    },
    {
     "data": {
      "application/vnd.jupyter.widget-view+json": {
       "model_id": "09760606e14740df834bca1492379751",
       "version_major": 2,
       "version_minor": 0
      },
      "text/plain": [
       "Output()"
      ]
     },
     "metadata": {},
     "output_type": "display_data"
    },
    {
     "data": {
      "application/vnd.plotly.v1+json": {
       "config": {
        "plotlyServerURL": "https://plot.ly"
       },
       "data": [
        {
         "customdata": [
          [
           "Africa",
           "Middle East",
           4794660.58
          ],
          [
           "Africa",
           "Middle East",
           4794660.58
          ],
          [
           "Africa",
           "Middle East",
           4794660.58
          ],
          [
           "Africa",
           "Middle East",
           4794660.58
          ],
          [
           "Africa",
           "Middle East",
           4794660.58
          ],
          [
           "Africa",
           "Middle East",
           4794660.58
          ],
          [
           "Africa",
           "Middle East",
           4794660.58
          ],
          [
           "Africa",
           "Middle East",
           4794660.58
          ],
          [
           "Africa",
           "Middle East",
           4794660.58
          ],
          [
           "Africa",
           "Middle East",
           4794660.58
          ],
          [
           "Africa",
           "Middle East",
           4794660.58
          ],
          [
           "Africa",
           "Middle East",
           4794660.58
          ],
          [
           "Africa",
           "Middle East",
           4794660.58
          ],
          [
           "Africa",
           "Middle East",
           4794660.58
          ],
          [
           "Africa",
           "Middle East",
           4794660.58
          ],
          [
           "Africa",
           "Middle East",
           4794660.58
          ],
          [
           "Africa",
           "Middle East",
           4794660.58
          ],
          [
           "Africa",
           "Middle East",
           4794660.58
          ],
          [
           "Africa",
           "Middle East",
           4794660.58
          ],
          [
           "Africa",
           "Middle East",
           4794660.58
          ]
         ],
         "hoverinfo": "text",
         "hovertext": "Africa → Middle East<br>Amount: $4,794,660.58",
         "lat": [
          5,
          6.6560357858663295,
          8.25672256628552,
          9.802060341257574,
          11.292049110782497,
          12.726688874860285,
          14.105979633490932,
          15.429921386674442,
          16.69851413441082,
          17.911757876700065,
          19.069652613542168,
          20.172198344937136,
          21.21939507088497,
          22.211242791385665,
          23.14774150643923,
          24.028891216045658,
          24.854691920204946,
          25.625143618917097,
          26.340246312182117,
          27
         ],
         "line": {
          "color": "rgba(70, 130, 180, 0.35)",
          "width": 1.4913030752006498
         },
         "lon": [
          20,
          21.315789473684212,
          22.63157894736842,
          23.94736842105263,
          25.263157894736842,
          26.578947368421055,
          27.89473684210526,
          29.210526315789473,
          30.52631578947368,
          31.842105263157897,
          33.15789473684211,
          34.473684210526315,
          35.78947368421053,
          37.10526315789474,
          38.421052631578945,
          39.73684210526316,
          41.05263157894736,
          42.368421052631575,
          43.68421052631579,
          45
         ],
         "mode": "lines",
         "showlegend": false,
         "type": "scattermapbox"
        },
        {
         "customdata": [
          [
           "Asia Pacific",
           "Middle East",
           16083014.38
          ],
          [
           "Asia Pacific",
           "Middle East",
           16083014.38
          ],
          [
           "Asia Pacific",
           "Middle East",
           16083014.38
          ],
          [
           "Asia Pacific",
           "Middle East",
           16083014.38
          ],
          [
           "Asia Pacific",
           "Middle East",
           16083014.38
          ],
          [
           "Asia Pacific",
           "Middle East",
           16083014.38
          ],
          [
           "Asia Pacific",
           "Middle East",
           16083014.38
          ],
          [
           "Asia Pacific",
           "Middle East",
           16083014.38
          ],
          [
           "Asia Pacific",
           "Middle East",
           16083014.38
          ],
          [
           "Asia Pacific",
           "Middle East",
           16083014.38
          ],
          [
           "Asia Pacific",
           "Middle East",
           16083014.38
          ],
          [
           "Asia Pacific",
           "Middle East",
           16083014.38
          ],
          [
           "Asia Pacific",
           "Middle East",
           16083014.38
          ],
          [
           "Asia Pacific",
           "Middle East",
           16083014.38
          ],
          [
           "Asia Pacific",
           "Middle East",
           16083014.38
          ],
          [
           "Asia Pacific",
           "Middle East",
           16083014.38
          ],
          [
           "Asia Pacific",
           "Middle East",
           16083014.38
          ],
          [
           "Asia Pacific",
           "Middle East",
           16083014.38
          ],
          [
           "Asia Pacific",
           "Middle East",
           16083014.38
          ],
          [
           "Asia Pacific",
           "Middle East",
           16083014.38
          ]
         ],
         "hoverinfo": "text",
         "hovertext": "Asia Pacific → Middle East<br>Amount: $16,083,014.38",
         "lat": [
          30,
          30.839335180055407,
          31.567867036011084,
          32.18559556786703,
          32.69252077562327,
          33.088642659279785,
          33.37396121883656,
          33.54847645429363,
          33.612188365650965,
          33.56509695290859,
          33.40720221606648,
          33.13850415512465,
          32.7590027700831,
          32.26869806094183,
          31.667590027700832,
          30.955678670360115,
          30.13296398891967,
          29.1994459833795,
          28.155124653739612,
          27
         ],
         "line": {
          "color": "rgba(70, 130, 180, 0.47)",
          "width": 5.002366362164946
         },
         "lon": [
          120,
          116.05263157894738,
          112.10526315789474,
          108.15789473684208,
          104.21052631578948,
          100.26315789473686,
          96.31578947368422,
          92.36842105263158,
          88.42105263157895,
          84.47368421052633,
          80.52631578947368,
          76.57894736842105,
          72.63157894736842,
          68.6842105263158,
          64.73684210526316,
          60.78947368421053,
          56.8421052631579,
          52.89473684210527,
          48.94736842105264,
          45
         ],
         "mode": "lines",
         "showlegend": false,
         "type": "scattermapbox"
        },
        {
         "customdata": [
          [
           "Caribbean",
           "Middle East",
           42760814.73
          ],
          [
           "Caribbean",
           "Middle East",
           42760814.73
          ],
          [
           "Caribbean",
           "Middle East",
           42760814.73
          ],
          [
           "Caribbean",
           "Middle East",
           42760814.73
          ],
          [
           "Caribbean",
           "Middle East",
           42760814.73
          ],
          [
           "Caribbean",
           "Middle East",
           42760814.73
          ],
          [
           "Caribbean",
           "Middle East",
           42760814.73
          ],
          [
           "Caribbean",
           "Middle East",
           42760814.73
          ],
          [
           "Caribbean",
           "Middle East",
           42760814.73
          ],
          [
           "Caribbean",
           "Middle East",
           42760814.73
          ],
          [
           "Caribbean",
           "Middle East",
           42760814.73
          ],
          [
           "Caribbean",
           "Middle East",
           42760814.73
          ],
          [
           "Caribbean",
           "Middle East",
           42760814.73
          ],
          [
           "Caribbean",
           "Middle East",
           42760814.73
          ],
          [
           "Caribbean",
           "Middle East",
           42760814.73
          ],
          [
           "Caribbean",
           "Middle East",
           42760814.73
          ],
          [
           "Caribbean",
           "Middle East",
           42760814.73
          ],
          [
           "Caribbean",
           "Middle East",
           42760814.73
          ],
          [
           "Caribbean",
           "Middle East",
           42760814.73
          ],
          [
           "Caribbean",
           "Middle East",
           42760814.73
          ]
         ],
         "hoverinfo": "text",
         "hovertext": "Caribbean → Middle East<br>Amount: $42,760,814.73",
         "lat": [
          20,
          21.36565096952909,
          22.620498614958446,
          23.764542936288084,
          24.797783933518005,
          25.7202216066482,
          26.53185595567867,
          27.232686980609415,
          27.82271468144044,
          28.301939058171747,
          28.670360110803323,
          28.927977839335178,
          29.074792243767313,
          29.110803324099727,
          29.036011080332408,
          28.850415512465375,
          28.554016620498615,
          28.14681440443213,
          27.628808864265928,
          27
         ],
         "line": {
          "color": "rgba(70, 130, 180, 0.74)",
          "width": 13.300072745698767
         },
         "lon": [
          -75,
          -68.68421052631581,
          -62.368421052631575,
          -56.052631578947356,
          -49.736842105263165,
          -43.42105263157896,
          -37.10526315789474,
          -30.78947368421052,
          -24.47368421052632,
          -18.15789473684211,
          -11.8421052631579,
          -5.526315789473681,
          0.7894736842105239,
          7.105263157894726,
          13.421052631578942,
          19.736842105263158,
          26.05263157894736,
          32.36842105263156,
          38.68421052631579,
          45
         ],
         "mode": "lines",
         "showlegend": false,
         "type": "scattermapbox"
        },
        {
         "customdata": [
          [
           "Central Asia",
           "Latin America",
           4435977
          ],
          [
           "Central Asia",
           "Latin America",
           4435977
          ],
          [
           "Central Asia",
           "Latin America",
           4435977
          ],
          [
           "Central Asia",
           "Latin America",
           4435977
          ],
          [
           "Central Asia",
           "Latin America",
           4435977
          ],
          [
           "Central Asia",
           "Latin America",
           4435977
          ],
          [
           "Central Asia",
           "Latin America",
           4435977
          ],
          [
           "Central Asia",
           "Latin America",
           4435977
          ],
          [
           "Central Asia",
           "Latin America",
           4435977
          ],
          [
           "Central Asia",
           "Latin America",
           4435977
          ],
          [
           "Central Asia",
           "Latin America",
           4435977
          ],
          [
           "Central Asia",
           "Latin America",
           4435977
          ],
          [
           "Central Asia",
           "Latin America",
           4435977
          ],
          [
           "Central Asia",
           "Latin America",
           4435977
          ],
          [
           "Central Asia",
           "Latin America",
           4435977
          ],
          [
           "Central Asia",
           "Latin America",
           4435977
          ],
          [
           "Central Asia",
           "Latin America",
           4435977
          ],
          [
           "Central Asia",
           "Latin America",
           4435977
          ],
          [
           "Central Asia",
           "Latin America",
           4435977
          ],
          [
           "Central Asia",
           "Latin America",
           4435977
          ]
         ],
         "hoverinfo": "text",
         "hovertext": "Central Asia → Latin America<br>Amount: $4,435,977.00",
         "lat": [
          45,
          43.10249307479225,
          41.094182825484765,
          38.97506925207755,
          36.745152354570635,
          34.404432132964004,
          31.95290858725762,
          29.390581717451518,
          26.71745152354571,
          23.933518005540172,
          21.038781163434905,
          18.033240997229917,
          14.916897506925208,
          11.689750692520786,
          8.351800554016622,
          4.903047091412741,
          1.343490304709145,
          -2.326869806094175,
          -6.108033240997225,
          -10
         ],
         "line": {
          "color": "rgba(70, 130, 180, 0.35)",
          "width": 1.3797402404696084
         },
         "lon": [
          65,
          58.42105263157895,
          51.8421052631579,
          45.263157894736835,
          38.684210526315795,
          32.10526315789475,
          25.52631578947369,
          18.94736842105263,
          12.368421052631582,
          5.789473684210533,
          -0.7894736842105221,
          -7.368421052631582,
          -13.947368421052628,
          -20.52631578947367,
          -27.105263157894733,
          -33.684210526315795,
          -40.263157894736835,
          -46.842105263157876,
          -53.42105263157894,
          -60
         ],
         "mode": "lines",
         "showlegend": false,
         "type": "scattermapbox"
        },
        {
         "customdata": [
          [
           "Central Asia",
           "Middle East",
           8409233.71
          ],
          [
           "Central Asia",
           "Middle East",
           8409233.71
          ],
          [
           "Central Asia",
           "Middle East",
           8409233.71
          ],
          [
           "Central Asia",
           "Middle East",
           8409233.71
          ],
          [
           "Central Asia",
           "Middle East",
           8409233.71
          ],
          [
           "Central Asia",
           "Middle East",
           8409233.71
          ],
          [
           "Central Asia",
           "Middle East",
           8409233.71
          ],
          [
           "Central Asia",
           "Middle East",
           8409233.71
          ],
          [
           "Central Asia",
           "Middle East",
           8409233.71
          ],
          [
           "Central Asia",
           "Middle East",
           8409233.71
          ],
          [
           "Central Asia",
           "Middle East",
           8409233.71
          ],
          [
           "Central Asia",
           "Middle East",
           8409233.71
          ],
          [
           "Central Asia",
           "Middle East",
           8409233.71
          ],
          [
           "Central Asia",
           "Middle East",
           8409233.71
          ],
          [
           "Central Asia",
           "Middle East",
           8409233.71
          ],
          [
           "Central Asia",
           "Middle East",
           8409233.71
          ],
          [
           "Central Asia",
           "Middle East",
           8409233.71
          ],
          [
           "Central Asia",
           "Middle East",
           8409233.71
          ],
          [
           "Central Asia",
           "Middle East",
           8409233.71
          ],
          [
           "Central Asia",
           "Middle East",
           8409233.71
          ]
         ],
         "hoverinfo": "text",
         "hovertext": "Central Asia → Middle East<br>Amount: $8,409,233.71",
         "lat": [
          45,
          44.45512227066038,
          43.86552335335264,
          43.23120324807679,
          42.55216195483283,
          41.82839947362077,
          41.05991580444058,
          40.24671094729228,
          39.38878490217587,
          38.48613766909136,
          37.538769248038726,
          36.54667963901798,
          35.50986884202913,
          34.42833685707216,
          33.30208368414708,
          32.131109323253895,
          30.915413774392587,
          29.65499703756317,
          28.349859112765643,
          27
         ],
         "line": {
          "color": "rgba(70, 130, 180, 0.39)",
          "width": 2.615558678775958
         },
         "lon": [
          65,
          63.94736842105264,
          62.89473684210526,
          61.84210526315788,
          60.78947368421053,
          59.736842105263165,
          58.684210526315795,
          57.63157894736841,
          56.578947368421055,
          55.52631578947369,
          54.47368421052632,
          53.421052631578945,
          52.368421052631575,
          51.31578947368422,
          50.26315789473684,
          49.21052631578947,
          48.1578947368421,
          47.10526315789474,
          46.05263157894737,
          45
         ],
         "mode": "lines",
         "showlegend": false,
         "type": "scattermapbox"
        },
        {
         "customdata": [
          [
           "Europe",
           "Middle East",
           5915148.550000001
          ],
          [
           "Europe",
           "Middle East",
           5915148.550000001
          ],
          [
           "Europe",
           "Middle East",
           5915148.550000001
          ],
          [
           "Europe",
           "Middle East",
           5915148.550000001
          ],
          [
           "Europe",
           "Middle East",
           5915148.550000001
          ],
          [
           "Europe",
           "Middle East",
           5915148.550000001
          ],
          [
           "Europe",
           "Middle East",
           5915148.550000001
          ],
          [
           "Europe",
           "Middle East",
           5915148.550000001
          ],
          [
           "Europe",
           "Middle East",
           5915148.550000001
          ],
          [
           "Europe",
           "Middle East",
           5915148.550000001
          ],
          [
           "Europe",
           "Middle East",
           5915148.550000001
          ],
          [
           "Europe",
           "Middle East",
           5915148.550000001
          ],
          [
           "Europe",
           "Middle East",
           5915148.550000001
          ],
          [
           "Europe",
           "Middle East",
           5915148.550000001
          ],
          [
           "Europe",
           "Middle East",
           5915148.550000001
          ],
          [
           "Europe",
           "Middle East",
           5915148.550000001
          ],
          [
           "Europe",
           "Middle East",
           5915148.550000001
          ],
          [
           "Europe",
           "Middle East",
           5915148.550000001
          ],
          [
           "Europe",
           "Middle East",
           5915148.550000001
          ],
          [
           "Europe",
           "Middle East",
           5915148.550000001
          ]
         ],
         "hoverinfo": "text",
         "hovertext": "Europe → Middle East<br>Amount: $5,915,148.55",
         "lat": [
          50,
          49.41594523320448,
          48.762282516520735,
          48.03901184994878,
          47.246133233488614,
          46.38364666714023,
          45.45155215090361,
          44.44984968477878,
          43.37853926876575,
          42.237620902864506,
          41.02709458707503,
          39.74696032139734,
          38.39721810583143,
          36.97786794037731,
          35.48890982503496,
          33.9303437598044,
          32.30216974468563,
          30.60438777967864,
          28.836997864783427,
          27
         ],
         "line": {
          "color": "rgba(70, 130, 180, 0.36)",
          "width": 1.839813074502067
         },
         "lon": [
          10,
          11.842105263157897,
          13.684210526315788,
          15.526315789473681,
          17.36842105263158,
          19.210526315789473,
          21.052631578947366,
          22.89473684210526,
          24.736842105263158,
          26.578947368421055,
          28.421052631578945,
          30.263157894736842,
          32.10526315789474,
          33.94736842105263,
          35.78947368421052,
          37.63157894736842,
          39.473684210526315,
          41.315789473684205,
          43.1578947368421,
          45
         ],
         "mode": "lines",
         "showlegend": false,
         "type": "scattermapbox"
        },
        {
         "customdata": [
          [
           "Latin America",
           "Middle East",
           7798331.86
          ],
          [
           "Latin America",
           "Middle East",
           7798331.86
          ],
          [
           "Latin America",
           "Middle East",
           7798331.86
          ],
          [
           "Latin America",
           "Middle East",
           7798331.86
          ],
          [
           "Latin America",
           "Middle East",
           7798331.86
          ],
          [
           "Latin America",
           "Middle East",
           7798331.86
          ],
          [
           "Latin America",
           "Middle East",
           7798331.86
          ],
          [
           "Latin America",
           "Middle East",
           7798331.86
          ],
          [
           "Latin America",
           "Middle East",
           7798331.86
          ],
          [
           "Latin America",
           "Middle East",
           7798331.86
          ],
          [
           "Latin America",
           "Middle East",
           7798331.86
          ],
          [
           "Latin America",
           "Middle East",
           7798331.86
          ],
          [
           "Latin America",
           "Middle East",
           7798331.86
          ],
          [
           "Latin America",
           "Middle East",
           7798331.86
          ],
          [
           "Latin America",
           "Middle East",
           7798331.86
          ],
          [
           "Latin America",
           "Middle East",
           7798331.86
          ],
          [
           "Latin America",
           "Middle East",
           7798331.86
          ],
          [
           "Latin America",
           "Middle East",
           7798331.86
          ],
          [
           "Latin America",
           "Middle East",
           7798331.86
          ],
          [
           "Latin America",
           "Middle East",
           7798331.86
          ]
         ],
         "hoverinfo": "text",
         "hovertext": "Latin America → Middle East<br>Amount: $7,798,331.86",
         "lat": [
          -10,
          -7.055401662049863,
          -4.221606648199446,
          -1.4986149584487531,
          1.1135734072022154,
          3.614958448753461,
          6.005540166204986,
          8.285318559556785,
          10.454293628808864,
          12.51246537396122,
          14.45983379501385,
          16.29639889196676,
          18.022160664819943,
          19.637119113573405,
          21.141274238227144,
          22.534626038781166,
          23.817174515235457,
          24.988919667590025,
          26.049861495844873,
          27
         ],
         "line": {
          "color": "rgba(70, 130, 180, 0.38)",
          "width": 2.4255473542306936
         },
         "lon": [
          -60,
          -54.47368421052633,
          -48.94736842105263,
          -43.42105263157894,
          -37.89473684210527,
          -32.36842105263158,
          -26.842105263157897,
          -21.31578947368421,
          -15.789473684210527,
          -10.263157894736848,
          -4.736842105263159,
          0.7894736842105292,
          6.315789473684209,
          11.842105263157885,
          17.368421052631575,
          22.894736842105264,
          28.421052631578938,
          33.947368421052616,
          39.473684210526315,
          45
         ],
         "mode": "lines",
         "showlegend": false,
         "type": "scattermapbox"
        },
        {
         "customdata": [
          [
           "Middle East",
           "Central Asia",
           48226219
          ],
          [
           "Middle East",
           "Central Asia",
           48226219
          ],
          [
           "Middle East",
           "Central Asia",
           48226219
          ],
          [
           "Middle East",
           "Central Asia",
           48226219
          ],
          [
           "Middle East",
           "Central Asia",
           48226219
          ],
          [
           "Middle East",
           "Central Asia",
           48226219
          ],
          [
           "Middle East",
           "Central Asia",
           48226219
          ],
          [
           "Middle East",
           "Central Asia",
           48226219
          ],
          [
           "Middle East",
           "Central Asia",
           48226219
          ],
          [
           "Middle East",
           "Central Asia",
           48226219
          ],
          [
           "Middle East",
           "Central Asia",
           48226219
          ],
          [
           "Middle East",
           "Central Asia",
           48226219
          ],
          [
           "Middle East",
           "Central Asia",
           48226219
          ],
          [
           "Middle East",
           "Central Asia",
           48226219
          ],
          [
           "Middle East",
           "Central Asia",
           48226219
          ],
          [
           "Middle East",
           "Central Asia",
           48226219
          ],
          [
           "Middle East",
           "Central Asia",
           48226219
          ],
          [
           "Middle East",
           "Central Asia",
           48226219
          ],
          [
           "Middle East",
           "Central Asia",
           48226219
          ],
          [
           "Middle East",
           "Central Asia",
           48226219
          ]
         ],
         "hoverinfo": "text",
         "hovertext": "Middle East → Central Asia<br>Amount: $48,226,219.00",
         "lat": [
          27,
          28.349859112765646,
          29.65499703756317,
          30.915413774392583,
          32.13110932325389,
          33.302083684147085,
          34.42833685707216,
          35.50986884202912,
          36.54667963901798,
          37.538769248038726,
          38.48613766909136,
          39.38878490217588,
          40.246710947292286,
          41.05991580444058,
          41.82839947362076,
          42.55216195483283,
          43.231203248076795,
          43.865523353352636,
          44.455122270660375,
          45
         ],
         "line": {
          "color": "rgba(70, 130, 180, 0.80)",
          "width": 15
         },
         "lon": [
          45,
          46.05263157894738,
          47.10526315789474,
          48.157894736842096,
          49.210526315789465,
          50.26315789473685,
          51.31578947368421,
          52.368421052631575,
          53.421052631578945,
          54.47368421052632,
          55.526315789473685,
          56.578947368421055,
          57.63157894736842,
          58.684210526315795,
          59.73684210526315,
          60.78947368421052,
          61.84210526315789,
          62.89473684210526,
          63.94736842105263,
          65
         ],
         "mode": "lines",
         "showlegend": false,
         "type": "scattermapbox"
        },
        {
         "customdata": [
          [
           "Middle East",
           "Southeast Asia",
           33486319.98
          ],
          [
           "Middle East",
           "Southeast Asia",
           33486319.98
          ],
          [
           "Middle East",
           "Southeast Asia",
           33486319.98
          ],
          [
           "Middle East",
           "Southeast Asia",
           33486319.98
          ],
          [
           "Middle East",
           "Southeast Asia",
           33486319.98
          ],
          [
           "Middle East",
           "Southeast Asia",
           33486319.98
          ],
          [
           "Middle East",
           "Southeast Asia",
           33486319.98
          ],
          [
           "Middle East",
           "Southeast Asia",
           33486319.98
          ],
          [
           "Middle East",
           "Southeast Asia",
           33486319.98
          ],
          [
           "Middle East",
           "Southeast Asia",
           33486319.98
          ],
          [
           "Middle East",
           "Southeast Asia",
           33486319.98
          ],
          [
           "Middle East",
           "Southeast Asia",
           33486319.98
          ],
          [
           "Middle East",
           "Southeast Asia",
           33486319.98
          ],
          [
           "Middle East",
           "Southeast Asia",
           33486319.98
          ],
          [
           "Middle East",
           "Southeast Asia",
           33486319.98
          ],
          [
           "Middle East",
           "Southeast Asia",
           33486319.98
          ],
          [
           "Middle East",
           "Southeast Asia",
           33486319.98
          ],
          [
           "Middle East",
           "Southeast Asia",
           33486319.98
          ],
          [
           "Middle East",
           "Southeast Asia",
           33486319.98
          ],
          [
           "Middle East",
           "Southeast Asia",
           33486319.98
          ]
         ],
         "hoverinfo": "text",
         "hovertext": "Middle East → Southeast Asia<br>Amount: $33,486,319.98",
         "lat": [
          27,
          27.038099655062737,
          26.972550810440136,
          26.803353466132204,
          26.530507622138945,
          26.15401327846035,
          25.673870435096415,
          25.090079092047148,
          24.402639249312557,
          23.611550906892628,
          22.716814064787364,
          21.718428722996766,
          20.616394881520836,
          19.410712540359576,
          18.101381699512977,
          16.688402358981048,
          15.171774518763787,
          13.551498178861193,
          11.827573339273261,
          10
         ],
         "line": {
          "color": "rgba(70, 130, 180, 0.65)",
          "width": 10.415388353376823
         },
         "lon": [
          45,
          48.15789473684211,
          51.315789473684205,
          54.47368421052631,
          57.63157894736842,
          60.789473684210535,
          63.94736842105263,
          67.10526315789474,
          70.26315789473684,
          73.42105263157895,
          76.57894736842105,
          79.73684210526315,
          82.89473684210526,
          86.05263157894737,
          89.21052631578947,
          92.36842105263158,
          95.52631578947367,
          98.68421052631578,
          101.84210526315789,
          105
         ],
         "mode": "lines",
         "showlegend": false,
         "type": "scattermapbox"
        },
        {
         "customdata": [
          [
           "North America",
           "Europe",
           4646043.73
          ],
          [
           "North America",
           "Europe",
           4646043.73
          ],
          [
           "North America",
           "Europe",
           4646043.73
          ],
          [
           "North America",
           "Europe",
           4646043.73
          ],
          [
           "North America",
           "Europe",
           4646043.73
          ],
          [
           "North America",
           "Europe",
           4646043.73
          ],
          [
           "North America",
           "Europe",
           4646043.73
          ],
          [
           "North America",
           "Europe",
           4646043.73
          ],
          [
           "North America",
           "Europe",
           4646043.73
          ],
          [
           "North America",
           "Europe",
           4646043.73
          ],
          [
           "North America",
           "Europe",
           4646043.73
          ],
          [
           "North America",
           "Europe",
           4646043.73
          ],
          [
           "North America",
           "Europe",
           4646043.73
          ],
          [
           "North America",
           "Europe",
           4646043.73
          ],
          [
           "North America",
           "Europe",
           4646043.73
          ],
          [
           "North America",
           "Europe",
           4646043.73
          ],
          [
           "North America",
           "Europe",
           4646043.73
          ],
          [
           "North America",
           "Europe",
           4646043.73
          ],
          [
           "North America",
           "Europe",
           4646043.73
          ],
          [
           "North America",
           "Europe",
           4646043.73
          ]
         ],
         "hoverinfo": "text",
         "hovertext": "North America → Europe<br>Amount: $4,646,043.73",
         "lat": [
          40,
          41.523545706371195,
          42.936288088642655,
          44.238227146814395,
          45.42936288088643,
          46.50969529085873,
          47.4792243767313,
          48.33795013850415,
          49.08587257617729,
          49.7229916897507,
          50.249307479224385,
          50.664819944598335,
          50.96952908587258,
          51.16343490304709,
          51.24653739612188,
          51.21883656509695,
          51.0803324099723,
          50.83102493074793,
          50.470914127423825,
          50
         ],
         "line": {
          "color": "rgba(70, 130, 180, 0.35)",
          "width": 1.4450781627728273
         },
         "lon": [
          -100,
          -94.21052631578948,
          -88.42105263157895,
          -82.63157894736841,
          -76.84210526315789,
          -71.05263157894738,
          -65.26315789473685,
          -59.47368421052631,
          -53.684210526315795,
          -47.894736842105274,
          -42.10526315789474,
          -36.315789473684205,
          -30.52631578947369,
          -24.736842105263168,
          -18.947368421052634,
          -13.157894736842103,
          -7.368421052631585,
          -1.5789473684210638,
          4.210526315789466,
          10
         ],
         "mode": "lines",
         "showlegend": false,
         "type": "scattermapbox"
        },
        {
         "customdata": [
          [
           "North America",
           "Middle East",
           10590745.35
          ],
          [
           "North America",
           "Middle East",
           10590745.35
          ],
          [
           "North America",
           "Middle East",
           10590745.35
          ],
          [
           "North America",
           "Middle East",
           10590745.35
          ],
          [
           "North America",
           "Middle East",
           10590745.35
          ],
          [
           "North America",
           "Middle East",
           10590745.35
          ],
          [
           "North America",
           "Middle East",
           10590745.35
          ],
          [
           "North America",
           "Middle East",
           10590745.35
          ],
          [
           "North America",
           "Middle East",
           10590745.35
          ],
          [
           "North America",
           "Middle East",
           10590745.35
          ],
          [
           "North America",
           "Middle East",
           10590745.35
          ],
          [
           "North America",
           "Middle East",
           10590745.35
          ],
          [
           "North America",
           "Middle East",
           10590745.35
          ],
          [
           "North America",
           "Middle East",
           10590745.35
          ],
          [
           "North America",
           "Middle East",
           10590745.35
          ],
          [
           "North America",
           "Middle East",
           10590745.35
          ],
          [
           "North America",
           "Middle East",
           10590745.35
          ],
          [
           "North America",
           "Middle East",
           10590745.35
          ],
          [
           "North America",
           "Middle East",
           10590745.35
          ],
          [
           "North America",
           "Middle East",
           10590745.35
          ]
         ],
         "hoverinfo": "text",
         "hovertext": "North America → Middle East<br>Amount: $10,590,745.35",
         "lat": [
          40,
          40.31301939058172,
          40.51523545706371,
          40.60664819944598,
          40.58725761772853,
          40.45706371191137,
          40.21606648199446,
          39.86426592797783,
          39.4016620498615,
          38.82825484764544,
          38.14404432132964,
          37.34903047091413,
          36.443213296398895,
          35.42659279778393,
          34.29916897506925,
          33.060941828254855,
          31.711911357340725,
          30.25207756232687,
          28.681440443213297,
          27
         ],
         "line": {
          "color": "rgba(70, 130, 180, 0.41)",
          "width": 3.2940832506483657
         },
         "lon": [
          -100,
          -92.36842105263159,
          -84.73684210526315,
          -77.10526315789473,
          -69.47368421052632,
          -61.84210526315791,
          -54.21052631578948,
          -46.57894736842105,
          -38.94736842105263,
          -31.315789473684227,
          -23.684210526315788,
          -16.052631578947366,
          -8.421052631578952,
          -0.7894736842105416,
          6.842105263157887,
          14.473684210526319,
          22.105263157894726,
          29.736842105263136,
          37.368421052631575,
          45
         ],
         "mode": "lines",
         "showlegend": false,
         "type": "scattermapbox"
        },
        {
         "customdata": [
          [
           "South Asia",
           "Middle East",
           5440545.04
          ],
          [
           "South Asia",
           "Middle East",
           5440545.04
          ],
          [
           "South Asia",
           "Middle East",
           5440545.04
          ],
          [
           "South Asia",
           "Middle East",
           5440545.04
          ],
          [
           "South Asia",
           "Middle East",
           5440545.04
          ],
          [
           "South Asia",
           "Middle East",
           5440545.04
          ],
          [
           "South Asia",
           "Middle East",
           5440545.04
          ],
          [
           "South Asia",
           "Middle East",
           5440545.04
          ],
          [
           "South Asia",
           "Middle East",
           5440545.04
          ],
          [
           "South Asia",
           "Middle East",
           5440545.04
          ],
          [
           "South Asia",
           "Middle East",
           5440545.04
          ],
          [
           "South Asia",
           "Middle East",
           5440545.04
          ],
          [
           "South Asia",
           "Middle East",
           5440545.04
          ],
          [
           "South Asia",
           "Middle East",
           5440545.04
          ],
          [
           "South Asia",
           "Middle East",
           5440545.04
          ],
          [
           "South Asia",
           "Middle East",
           5440545.04
          ],
          [
           "South Asia",
           "Middle East",
           5440545.04
          ],
          [
           "South Asia",
           "Middle East",
           5440545.04
          ],
          [
           "South Asia",
           "Middle East",
           5440545.04
          ],
          [
           "South Asia",
           "Middle East",
           5440545.04
          ]
         ],
         "hoverinfo": "text",
         "hovertext": "South Asia → Middle East<br>Amount: $5,440,545.04",
         "lat": [
          20,
          20.829228685451785,
          21.60725652281243,
          22.33408351208194,
          23.009709653260323,
          23.634134946347576,
          24.207359391343683,
          24.729382988248663,
          25.200205737062515,
          25.619827637785225,
          25.988248690416803,
          26.305468894957247,
          26.571488251406556,
          26.786306759764738,
          26.94992442003178,
          27.062341232207697,
          27.12355719629247,
          27.133572312286113,
          27.092386580188624,
          27
         ],
         "line": {
          "color": "rgba(70, 130, 180, 0.36)",
          "width": 1.692195185361722
         },
         "lon": [
          75,
          73.42105263157896,
          71.84210526315789,
          70.26315789473684,
          68.6842105263158,
          67.10526315789475,
          65.52631578947368,
          63.94736842105263,
          62.368421052631575,
          60.789473684210535,
          59.21052631578948,
          57.631578947368425,
          56.05263157894737,
          54.47368421052632,
          52.89473684210526,
          51.315789473684205,
          49.73684210526316,
          48.15789473684211,
          46.578947368421055,
          45
         ],
         "mode": "lines",
         "showlegend": false,
         "type": "scattermapbox"
        },
        {
         "customdata": [
          [
           874798.97,
           5552112.78,
           -4677313.8100000005,
           "Africa"
          ],
          [
           1127800.99,
           17499290.02,
           -16371489.03,
           "Asia Pacific"
          ],
          [
           654512.99,
           43489845.73,
           -42835332.739999995,
           "Caribbean"
          ],
          [
           48753914.99,
           13450115.83,
           35303799.160000004,
           "Central Asia"
          ],
          [
           6545044.47,
           6885869.07,
           -340824.60000000056,
           "Europe"
          ],
          [
           6277920.2700000005,
           10194766.540000001,
           -3916846.2700000005,
           "Latin America"
          ],
          [
           105059536.71,
           84499534.24,
           20560002.47,
           "Middle East"
          ],
          [
           645744.36,
           17838163.39,
           -17192419.03,
           "North America"
          ],
          [
           904343.14,
           5894135.18,
           -4989792.04,
           "South Asia"
          ],
          [
           35948692.910000004,
           1488477.02,
           34460215.89,
           "Southeast Asia"
          ]
         ],
         "hovertemplate": "<b>%{text}</b><br>Inflow: $%{customdata[0]:,.2f}<br>Outflow: $%{customdata[1]:,.2f}<br>Net Flow: $%{customdata[2]:,.2f}",
         "lat": {
          "bdata": "AAAAAAAAFEAAAAAAAAA+QAAAAAAAADRAAAAAAACARkAAAAAAAABJQAAAAAAAACTAAAAAAAAAO0AAAAAAAABEQAAAAAAAADRAAAAAAAAAJEA=",
          "dtype": "f8"
         },
         "lon": {
          "bdata": "AAAAAAAANEAAAAAAAABeQAAAAAAAwFLAAAAAAABAUEAAAAAAAAAkQAAAAAAAAE7AAAAAAACARkAAAAAAAABZwAAAAAAAwFJAAAAAAABAWkA=",
          "dtype": "f8"
         },
         "marker": {
          "cmid": 0,
          "color": {
           "bdata": "PgrXc7DXUcGPwvUg5DlvwR6F6yXsbITBFa5HuYvVgEFwZmZmYs0UwSpcjyIX4k3BuB6FJ4ibc0FI4XowXmVwwSlcjwLYCFPBUrgev5FugEE=",
           "dtype": "f8"
          },
          "colorbar": {
           "thickness": 15,
           "title": {
            "text": "Net Flow<br>(Inflow - Outflow)"
           }
          },
          "colorscale": [
           [
            0,
            "rgb(103,0,31)"
           ],
           [
            0.1,
            "rgb(178,24,43)"
           ],
           [
            0.2,
            "rgb(214,96,77)"
           ],
           [
            0.3,
            "rgb(244,165,130)"
           ],
           [
            0.4,
            "rgb(253,219,199)"
           ],
           [
            0.5,
            "rgb(247,247,247)"
           ],
           [
            0.6,
            "rgb(209,229,240)"
           ],
           [
            0.7,
            "rgb(146,197,222)"
           ],
           [
            0.8,
            "rgb(67,147,195)"
           ],
           [
            0.9,
            "rgb(33,102,172)"
           ],
           [
            1,
            "rgb(5,48,97)"
           ]
          ],
          "opacity": 0.8,
          "size": {
           "bdata": "7RCPX/qxJUBEQ27xy+koQA0CIXXapC9ADMZH4Co0MkBniAaT7IonQEyQNPtRWChAAAAAAACAQUDLor3QIOAoQIaf/G4RyyVApscgGPPfLUA=",
           "dtype": "f8"
          }
         },
         "mode": "markers",
         "name": "Regions",
         "text": [
          "Africa",
          "Asia Pacific",
          "Caribbean",
          "Central Asia",
          "Europe",
          "Latin America",
          "Middle East",
          "North America",
          "South Asia",
          "Southeast Asia"
         ],
         "type": "scattermapbox"
        }
       ],
       "layout": {
        "height": 700,
        "mapbox": {
         "center": {
          "lat": 20,
          "lon": 0
         },
         "style": "carto-positron",
         "zoom": 1.2
        },
        "margin": {
         "b": 0,
         "l": 0,
         "r": 0,
         "t": 50
        },
        "template": {
         "data": {
          "bar": [
           {
            "error_x": {
             "color": "#2a3f5f"
            },
            "error_y": {
             "color": "#2a3f5f"
            },
            "marker": {
             "line": {
              "color": "#E5ECF6",
              "width": 0.5
             },
             "pattern": {
              "fillmode": "overlay",
              "size": 10,
              "solidity": 0.2
             }
            },
            "type": "bar"
           }
          ],
          "barpolar": [
           {
            "marker": {
             "line": {
              "color": "#E5ECF6",
              "width": 0.5
             },
             "pattern": {
              "fillmode": "overlay",
              "size": 10,
              "solidity": 0.2
             }
            },
            "type": "barpolar"
           }
          ],
          "carpet": [
           {
            "aaxis": {
             "endlinecolor": "#2a3f5f",
             "gridcolor": "white",
             "linecolor": "white",
             "minorgridcolor": "white",
             "startlinecolor": "#2a3f5f"
            },
            "baxis": {
             "endlinecolor": "#2a3f5f",
             "gridcolor": "white",
             "linecolor": "white",
             "minorgridcolor": "white",
             "startlinecolor": "#2a3f5f"
            },
            "type": "carpet"
           }
          ],
          "choropleth": [
           {
            "colorbar": {
             "outlinewidth": 0,
             "ticks": ""
            },
            "type": "choropleth"
           }
          ],
          "contour": [
           {
            "colorbar": {
             "outlinewidth": 0,
             "ticks": ""
            },
            "colorscale": [
             [
              0,
              "#0d0887"
             ],
             [
              0.1111111111111111,
              "#46039f"
             ],
             [
              0.2222222222222222,
              "#7201a8"
             ],
             [
              0.3333333333333333,
              "#9c179e"
             ],
             [
              0.4444444444444444,
              "#bd3786"
             ],
             [
              0.5555555555555556,
              "#d8576b"
             ],
             [
              0.6666666666666666,
              "#ed7953"
             ],
             [
              0.7777777777777778,
              "#fb9f3a"
             ],
             [
              0.8888888888888888,
              "#fdca26"
             ],
             [
              1,
              "#f0f921"
             ]
            ],
            "type": "contour"
           }
          ],
          "contourcarpet": [
           {
            "colorbar": {
             "outlinewidth": 0,
             "ticks": ""
            },
            "type": "contourcarpet"
           }
          ],
          "heatmap": [
           {
            "colorbar": {
             "outlinewidth": 0,
             "ticks": ""
            },
            "colorscale": [
             [
              0,
              "#0d0887"
             ],
             [
              0.1111111111111111,
              "#46039f"
             ],
             [
              0.2222222222222222,
              "#7201a8"
             ],
             [
              0.3333333333333333,
              "#9c179e"
             ],
             [
              0.4444444444444444,
              "#bd3786"
             ],
             [
              0.5555555555555556,
              "#d8576b"
             ],
             [
              0.6666666666666666,
              "#ed7953"
             ],
             [
              0.7777777777777778,
              "#fb9f3a"
             ],
             [
              0.8888888888888888,
              "#fdca26"
             ],
             [
              1,
              "#f0f921"
             ]
            ],
            "type": "heatmap"
           }
          ],
          "histogram": [
           {
            "marker": {
             "pattern": {
              "fillmode": "overlay",
              "size": 10,
              "solidity": 0.2
             }
            },
            "type": "histogram"
           }
          ],
          "histogram2d": [
           {
            "colorbar": {
             "outlinewidth": 0,
             "ticks": ""
            },
            "colorscale": [
             [
              0,
              "#0d0887"
             ],
             [
              0.1111111111111111,
              "#46039f"
             ],
             [
              0.2222222222222222,
              "#7201a8"
             ],
             [
              0.3333333333333333,
              "#9c179e"
             ],
             [
              0.4444444444444444,
              "#bd3786"
             ],
             [
              0.5555555555555556,
              "#d8576b"
             ],
             [
              0.6666666666666666,
              "#ed7953"
             ],
             [
              0.7777777777777778,
              "#fb9f3a"
             ],
             [
              0.8888888888888888,
              "#fdca26"
             ],
             [
              1,
              "#f0f921"
             ]
            ],
            "type": "histogram2d"
           }
          ],
          "histogram2dcontour": [
           {
            "colorbar": {
             "outlinewidth": 0,
             "ticks": ""
            },
            "colorscale": [
             [
              0,
              "#0d0887"
             ],
             [
              0.1111111111111111,
              "#46039f"
             ],
             [
              0.2222222222222222,
              "#7201a8"
             ],
             [
              0.3333333333333333,
              "#9c179e"
             ],
             [
              0.4444444444444444,
              "#bd3786"
             ],
             [
              0.5555555555555556,
              "#d8576b"
             ],
             [
              0.6666666666666666,
              "#ed7953"
             ],
             [
              0.7777777777777778,
              "#fb9f3a"
             ],
             [
              0.8888888888888888,
              "#fdca26"
             ],
             [
              1,
              "#f0f921"
             ]
            ],
            "type": "histogram2dcontour"
           }
          ],
          "mesh3d": [
           {
            "colorbar": {
             "outlinewidth": 0,
             "ticks": ""
            },
            "type": "mesh3d"
           }
          ],
          "parcoords": [
           {
            "line": {
             "colorbar": {
              "outlinewidth": 0,
              "ticks": ""
             }
            },
            "type": "parcoords"
           }
          ],
          "pie": [
           {
            "automargin": true,
            "type": "pie"
           }
          ],
          "scatter": [
           {
            "fillpattern": {
             "fillmode": "overlay",
             "size": 10,
             "solidity": 0.2
            },
            "type": "scatter"
           }
          ],
          "scatter3d": [
           {
            "line": {
             "colorbar": {
              "outlinewidth": 0,
              "ticks": ""
             }
            },
            "marker": {
             "colorbar": {
              "outlinewidth": 0,
              "ticks": ""
             }
            },
            "type": "scatter3d"
           }
          ],
          "scattercarpet": [
           {
            "marker": {
             "colorbar": {
              "outlinewidth": 0,
              "ticks": ""
             }
            },
            "type": "scattercarpet"
           }
          ],
          "scattergeo": [
           {
            "marker": {
             "colorbar": {
              "outlinewidth": 0,
              "ticks": ""
             }
            },
            "type": "scattergeo"
           }
          ],
          "scattergl": [
           {
            "marker": {
             "colorbar": {
              "outlinewidth": 0,
              "ticks": ""
             }
            },
            "type": "scattergl"
           }
          ],
          "scattermap": [
           {
            "marker": {
             "colorbar": {
              "outlinewidth": 0,
              "ticks": ""
             }
            },
            "type": "scattermap"
           }
          ],
          "scattermapbox": [
           {
            "marker": {
             "colorbar": {
              "outlinewidth": 0,
              "ticks": ""
             }
            },
            "type": "scattermapbox"
           }
          ],
          "scatterpolar": [
           {
            "marker": {
             "colorbar": {
              "outlinewidth": 0,
              "ticks": ""
             }
            },
            "type": "scatterpolar"
           }
          ],
          "scatterpolargl": [
           {
            "marker": {
             "colorbar": {
              "outlinewidth": 0,
              "ticks": ""
             }
            },
            "type": "scatterpolargl"
           }
          ],
          "scatterternary": [
           {
            "marker": {
             "colorbar": {
              "outlinewidth": 0,
              "ticks": ""
             }
            },
            "type": "scatterternary"
           }
          ],
          "surface": [
           {
            "colorbar": {
             "outlinewidth": 0,
             "ticks": ""
            },
            "colorscale": [
             [
              0,
              "#0d0887"
             ],
             [
              0.1111111111111111,
              "#46039f"
             ],
             [
              0.2222222222222222,
              "#7201a8"
             ],
             [
              0.3333333333333333,
              "#9c179e"
             ],
             [
              0.4444444444444444,
              "#bd3786"
             ],
             [
              0.5555555555555556,
              "#d8576b"
             ],
             [
              0.6666666666666666,
              "#ed7953"
             ],
             [
              0.7777777777777778,
              "#fb9f3a"
             ],
             [
              0.8888888888888888,
              "#fdca26"
             ],
             [
              1,
              "#f0f921"
             ]
            ],
            "type": "surface"
           }
          ],
          "table": [
           {
            "cells": {
             "fill": {
              "color": "#EBF0F8"
             },
             "line": {
              "color": "white"
             }
            },
            "header": {
             "fill": {
              "color": "#C8D4E3"
             },
             "line": {
              "color": "white"
             }
            },
            "type": "table"
           }
          ]
         },
         "layout": {
          "annotationdefaults": {
           "arrowcolor": "#2a3f5f",
           "arrowhead": 0,
           "arrowwidth": 1
          },
          "autotypenumbers": "strict",
          "coloraxis": {
           "colorbar": {
            "outlinewidth": 0,
            "ticks": ""
           }
          },
          "colorscale": {
           "diverging": [
            [
             0,
             "#8e0152"
            ],
            [
             0.1,
             "#c51b7d"
            ],
            [
             0.2,
             "#de77ae"
            ],
            [
             0.3,
             "#f1b6da"
            ],
            [
             0.4,
             "#fde0ef"
            ],
            [
             0.5,
             "#f7f7f7"
            ],
            [
             0.6,
             "#e6f5d0"
            ],
            [
             0.7,
             "#b8e186"
            ],
            [
             0.8,
             "#7fbc41"
            ],
            [
             0.9,
             "#4d9221"
            ],
            [
             1,
             "#276419"
            ]
           ],
           "sequential": [
            [
             0,
             "#0d0887"
            ],
            [
             0.1111111111111111,
             "#46039f"
            ],
            [
             0.2222222222222222,
             "#7201a8"
            ],
            [
             0.3333333333333333,
             "#9c179e"
            ],
            [
             0.4444444444444444,
             "#bd3786"
            ],
            [
             0.5555555555555556,
             "#d8576b"
            ],
            [
             0.6666666666666666,
             "#ed7953"
            ],
            [
             0.7777777777777778,
             "#fb9f3a"
            ],
            [
             0.8888888888888888,
             "#fdca26"
            ],
            [
             1,
             "#f0f921"
            ]
           ],
           "sequentialminus": [
            [
             0,
             "#0d0887"
            ],
            [
             0.1111111111111111,
             "#46039f"
            ],
            [
             0.2222222222222222,
             "#7201a8"
            ],
            [
             0.3333333333333333,
             "#9c179e"
            ],
            [
             0.4444444444444444,
             "#bd3786"
            ],
            [
             0.5555555555555556,
             "#d8576b"
            ],
            [
             0.6666666666666666,
             "#ed7953"
            ],
            [
             0.7777777777777778,
             "#fb9f3a"
            ],
            [
             0.8888888888888888,
             "#fdca26"
            ],
            [
             1,
             "#f0f921"
            ]
           ]
          },
          "colorway": [
           "#636efa",
           "#EF553B",
           "#00cc96",
           "#ab63fa",
           "#FFA15A",
           "#19d3f3",
           "#FF6692",
           "#B6E880",
           "#FF97FF",
           "#FECB52"
          ],
          "font": {
           "color": "#2a3f5f"
          },
          "geo": {
           "bgcolor": "white",
           "lakecolor": "white",
           "landcolor": "#E5ECF6",
           "showlakes": true,
           "showland": true,
           "subunitcolor": "white"
          },
          "hoverlabel": {
           "align": "left"
          },
          "hovermode": "closest",
          "mapbox": {
           "style": "light"
          },
          "paper_bgcolor": "white",
          "plot_bgcolor": "#E5ECF6",
          "polar": {
           "angularaxis": {
            "gridcolor": "white",
            "linecolor": "white",
            "ticks": ""
           },
           "bgcolor": "#E5ECF6",
           "radialaxis": {
            "gridcolor": "white",
            "linecolor": "white",
            "ticks": ""
           }
          },
          "scene": {
           "xaxis": {
            "backgroundcolor": "#E5ECF6",
            "gridcolor": "white",
            "gridwidth": 2,
            "linecolor": "white",
            "showbackground": true,
            "ticks": "",
            "zerolinecolor": "white"
           },
           "yaxis": {
            "backgroundcolor": "#E5ECF6",
            "gridcolor": "white",
            "gridwidth": 2,
            "linecolor": "white",
            "showbackground": true,
            "ticks": "",
            "zerolinecolor": "white"
           },
           "zaxis": {
            "backgroundcolor": "#E5ECF6",
            "gridcolor": "white",
            "gridwidth": 2,
            "linecolor": "white",
            "showbackground": true,
            "ticks": "",
            "zerolinecolor": "white"
           }
          },
          "shapedefaults": {
           "line": {
            "color": "#2a3f5f"
           }
          },
          "ternary": {
           "aaxis": {
            "gridcolor": "white",
            "linecolor": "white",
            "ticks": ""
           },
           "baxis": {
            "gridcolor": "white",
            "linecolor": "white",
            "ticks": ""
           },
           "bgcolor": "#E5ECF6",
           "caxis": {
            "gridcolor": "white",
            "linecolor": "white",
            "ticks": ""
           }
          },
          "title": {
           "x": 0.05
          },
          "xaxis": {
           "automargin": true,
           "gridcolor": "white",
           "linecolor": "white",
           "ticks": "",
           "title": {
            "standoff": 15
           },
           "zerolinecolor": "white",
           "zerolinewidth": 2
          },
          "yaxis": {
           "automargin": true,
           "gridcolor": "white",
           "linecolor": "white",
           "ticks": "",
           "title": {
            "standoff": 15
           },
           "zerolinecolor": "white",
           "zerolinewidth": 2
          }
         }
        },
        "title": {
         "text": "Global Banking Transaction Flows Between Regions"
        },
        "width": 1200
       }
      }
     },
     "metadata": {},
     "output_type": "display_data"
    }
   ],
   "source": [
    "def create_sankey_for_regions(df, send_region=None, receive_region=None, year=None):\n",
    "    \"\"\"\n",
    "    Create a Sankey diagram for transactions between specified regions,\n",
    "    showing a flow from sender → receiver → currency → mx/mt → mt → direction → \n",
    "    transaction_status → payment_method → amount\n",
    "    \n",
    "    Parameters:\n",
    "    -----------\n",
    "    df : pandas DataFrame\n",
    "        The DataFrame containing transaction data\n",
    "    send_region : str, optional\n",
    "        Region to filter senders by\n",
    "    receive_region : str, optional\n",
    "        Region to filter receivers by\n",
    "    year : int, optional\n",
    "        Year to filter transactions by\n",
    "    \n",
    "    Returns:\n",
    "    --------\n",
    "    plotly.graph_objects.Figure\n",
    "        A Sankey diagram figure\n",
    "    \"\"\"\n",
    "    import pandas as pd\n",
    "    import numpy as np\n",
    "    import plotly.graph_objects as go\n",
    "    \n",
    "    # Create a copy to avoid modifying the original\n",
    "    filtered_df = df.copy()\n",
    "    \n",
    "    # Filter data if regions are specified\n",
    "    title_parts = []\n",
    "    \n",
    "    if send_region:\n",
    "        filtered_df = filtered_df[filtered_df['send region'] == send_region]\n",
    "        title_parts.append(f\"from {send_region}\")\n",
    "    \n",
    "    if receive_region:\n",
    "        filtered_df = filtered_df[filtered_df['receiver region'] == receive_region]\n",
    "        title_parts.append(f\"to {receive_region}\")\n",
    "    \n",
    "    # Filter by year if specified\n",
    "    if year and 'year' in filtered_df.columns:\n",
    "        filtered_df = filtered_df[filtered_df['year'] == year]\n",
    "        title_parts.append(f\"in {year}\")\n",
    "    \n",
    "    if title_parts:\n",
    "        title = f\"Transactions {' '.join(title_parts)}\"\n",
    "    else:\n",
    "        title = \"All Regional Transactions\"\n",
    "    \n",
    "    # Ensure amount categories exist (create if missing)\n",
    "    if 'amount_category' not in filtered_df.columns:\n",
    "        filtered_df['amount_category'] = pd.cut(\n",
    "            filtered_df['amount'], \n",
    "            bins=[0, 1e6, 5e6, 1e7, float('inf')], \n",
    "            labels=['< 1M', '1M-5M', '5M-10M', '> 10M']\n",
    "        )\n",
    "    \n",
    "    # Check if we have data after all the filters\n",
    "    if filtered_df.empty:\n",
    "        fig = go.Figure()\n",
    "        fig.update_layout(\n",
    "            title_text=f\"No data available for {title}\",\n",
    "            annotations=[dict(\n",
    "                text=\"No transactions found for the selected criteria\",\n",
    "                xref=\"paper\", yref=\"paper\",\n",
    "                x=0.5, y=0.5, showarrow=False,\n",
    "                font=dict(size=20)\n",
    "            )]\n",
    "        )\n",
    "        return fig\n",
    "    \n",
    "    # Make sure all columns are properly formatted as strings\n",
    "    str_columns = ['sender', 'receiver', 'currency', 'mx/mt', 'Mt', 'direction', \n",
    "                'transaction_status', 'payment_method', 'amount_category']\n",
    "    for col in str_columns:\n",
    "        if col in filtered_df.columns and filtered_df[col].dtype != 'str':\n",
    "            filtered_df[col] = filtered_df[col].astype(str)\n",
    "    \n",
    "    # Create the flows according to the specified path\n",
    "    # sender → receiver\n",
    "    flow1 = filtered_df.groupby(['sender', 'receiver']).size().reset_index(name='count')\n",
    "    \n",
    "    # receiver → currency\n",
    "    flow2 = filtered_df.groupby(['receiver', 'currency']).size().reset_index(name='count')\n",
    "    \n",
    "    # currency → mx/mt\n",
    "    flow3 = filtered_df.groupby(['currency', 'mx/mt']).size().reset_index(name='count')\n",
    "    \n",
    "    # mx/mt → mt\n",
    "    flow4 = filtered_df.groupby(['mx/mt', 'Mt']).size().reset_index(name='count')\n",
    "    \n",
    "    # mt → direction\n",
    "    flow5 = filtered_df.groupby(['Mt', 'direction']).size().reset_index(name='count')\n",
    "    \n",
    "    # direction → transaction_status (new flow)\n",
    "    flow6 = filtered_df.groupby(['direction', 'transaction_status']).size().reset_index(name='count')\n",
    "    \n",
    "    # transaction_status → payment_method (new flow)\n",
    "    flow7 = filtered_df.groupby(['transaction_status', 'payment_method']).size().reset_index(name='count')\n",
    "    \n",
    "    # payment_method → amount (new flow)\n",
    "    flow8 = filtered_df.groupby(['payment_method', 'amount_category']).size().reset_index(name='count')\n",
    "    \n",
    "    # Get all unique labels\n",
    "    labels = pd.unique(\n",
    "        flow1['sender'].tolist() +\n",
    "        flow1['receiver'].tolist() +\n",
    "        flow2['currency'].tolist() +\n",
    "        flow3['mx/mt'].tolist() +\n",
    "        flow4['Mt'].tolist() +\n",
    "        flow5['direction'].tolist() +\n",
    "        flow6['transaction_status'].tolist() +\n",
    "        flow7['payment_method'].tolist() +\n",
    "        flow8['amount_category'].astype(str).tolist()\n",
    "    )\n",
    "    \n",
    "    # Map labels to indices\n",
    "    label_to_index = {label: i for i, label in enumerate(labels)}\n",
    "    \n",
    "    # Prepare sources, targets, and values for links\n",
    "    source, target, value = [], [], []\n",
    "    link_labels = []\n",
    "    \n",
    "    # sender → receiver\n",
    "    for _, row in flow1.iterrows():\n",
    "        source.append(label_to_index[row['sender']])\n",
    "        target.append(label_to_index[row['receiver']])\n",
    "        value.append(row['count'])\n",
    "        link_labels.append(f\"{row['sender']} → {row['receiver']}<br>Count: {row['count']}\")\n",
    "    \n",
    "    # receiver → currency\n",
    "    for _, row in flow2.iterrows():\n",
    "        source.append(label_to_index[row['receiver']])\n",
    "        target.append(label_to_index[row['currency']])\n",
    "        value.append(row['count'])\n",
    "        link_labels.append(f\"{row['receiver']} → {row['currency']}<br>Count: {row['count']}\")\n",
    "    \n",
    "    # currency → mx/mt\n",
    "    for _, row in flow3.iterrows():\n",
    "        source.append(label_to_index[row['currency']])\n",
    "        target.append(label_to_index[row['mx/mt']])\n",
    "        value.append(row['count'])\n",
    "        link_labels.append(f\"{row['currency']} → {row['mx/mt']}<br>Count: {row['count']}\")\n",
    "    \n",
    "    # mx/mt → mt\n",
    "    for _, row in flow4.iterrows():\n",
    "        source.append(label_to_index[row['mx/mt']])\n",
    "        target.append(label_to_index[row['Mt']])\n",
    "        value.append(row['count'])\n",
    "        link_labels.append(f\"{row['mx/mt']} → {row['Mt']}<br>Count: {row['count']}\")\n",
    "    \n",
    "    # mt → direction\n",
    "    for _, row in flow5.iterrows():\n",
    "        source.append(label_to_index[row['Mt']])\n",
    "        target.append(label_to_index[row['direction']])\n",
    "        value.append(row['count'])\n",
    "        link_labels.append(f\"{row['Mt']} → {row['direction']}<br>Count: {row['count']}\")\n",
    "    \n",
    "    # direction → transaction_status (new flow)\n",
    "    for _, row in flow6.iterrows():\n",
    "        source.append(label_to_index[row['direction']])\n",
    "        target.append(label_to_index[row['transaction_status']])\n",
    "        value.append(row['count'])\n",
    "        link_labels.append(f\"{row['direction']} → {row['transaction_status']}<br>Count: {row['count']}\")\n",
    "    \n",
    "    # transaction_status → payment_method (new flow)\n",
    "    for _, row in flow7.iterrows():\n",
    "        source.append(label_to_index[row['transaction_status']])\n",
    "        target.append(label_to_index[row['payment_method']])\n",
    "        value.append(row['count'])\n",
    "        link_labels.append(f\"{row['transaction_status']} → {row['payment_method']}<br>Count: {row['count']}\")\n",
    "    \n",
    "    # payment_method → amount_category (new flow)\n",
    "    for _, row in flow8.iterrows():\n",
    "        source.append(label_to_index[row['payment_method']])\n",
    "        target.append(label_to_index[str(row['amount_category'])])\n",
    "        value.append(row['count'])\n",
    "        link_labels.append(f\"{row['payment_method']} → {row['amount_category']}<br>Count: {row['count']}\")\n",
    "    \n",
    "    # Set up colors for nodes and links\n",
    "    num_nodes = len(labels)\n",
    "    node_colors = [\"rgba(31, 119, 180, 0.8)\"] * num_nodes  # Default blue color\n",
    "    \n",
    "    # Create color groups for different node types\n",
    "    sender_idx = [label_to_index[label] for label in flow1['sender'].unique()]\n",
    "    receiver_idx = [label_to_index[label] for label in flow1['receiver'].unique()]\n",
    "    currency_idx = [label_to_index[label] for label in flow2['currency'].unique()]\n",
    "    mxmt_idx = [label_to_index[label] for label in flow3['mx/mt'].unique()]\n",
    "    mt_idx = [label_to_index[label] for label in flow4['Mt'].unique()]\n",
    "    direction_idx = [label_to_index[label] for label in flow5['direction'].unique()]\n",
    "    status_idx = [label_to_index[label] for label in flow6['transaction_status'].unique()]\n",
    "    payment_idx = [label_to_index[label] for label in flow7['payment_method'].unique()]\n",
    "    amount_idx = [label_to_index[str(label)] for label in flow8['amount_category'].unique()]\n",
    "    \n",
    "    # Assign different colors to each node type\n",
    "    for idx in sender_idx:\n",
    "        node_colors[idx] = \"rgba(214, 39, 40, 0.8)\"  # Red for senders\n",
    "    for idx in receiver_idx:\n",
    "        node_colors[idx] = \"rgba(44, 160, 44, 0.8)\"  # Green for receivers\n",
    "    for idx in currency_idx:\n",
    "        node_colors[idx] = \"rgba(255, 127, 14, 0.8)\"  # Orange for currency\n",
    "    for idx in mxmt_idx:\n",
    "        node_colors[idx] = \"rgba(148, 103, 189, 0.8)\"  # Purple for mx/mt\n",
    "    for idx in mt_idx:\n",
    "        node_colors[idx] = \"rgba(140, 86, 75, 0.8)\"   # Brown for Mt\n",
    "    for idx in direction_idx:\n",
    "        node_colors[idx] = \"rgba(23, 190, 207, 0.8)\"  # Cyan for directions\n",
    "    for idx in status_idx:\n",
    "        node_colors[idx] = \"rgba(188, 189, 34, 0.8)\"  # Yellow-green for transaction status\n",
    "    for idx in payment_idx:\n",
    "        node_colors[idx] = \"rgba(127, 127, 127, 0.8)\"  # Gray for payment method\n",
    "    for idx in amount_idx:\n",
    "        node_colors[idx] = \"rgba(31, 119, 180, 0.8)\"  # Blue for amount categories\n",
    "    \n",
    "    # Create colors for links based on their source\n",
    "    link_colors = []\n",
    "    for s in source:\n",
    "        # Use a slightly transparent version of the source node color\n",
    "        base_color = node_colors[s].replace(\"0.8\", \"0.6\")\n",
    "        link_colors.append(base_color)\n",
    "    \n",
    "    # Create the Sankey diagram\n",
    "    fig = go.Figure(data=[go.Sankey(\n",
    "        arrangement=\"snap\",\n",
    "        node=dict(\n",
    "            pad=20,\n",
    "            thickness=20,\n",
    "            line=dict(color=\"black\", width=0.5),\n",
    "            label=list(labels),\n",
    "            color=node_colors\n",
    "        ),\n",
    "        link=dict(\n",
    "            source=source,\n",
    "            target=target,\n",
    "            value=value,\n",
    "            color=link_colors,\n",
    "            customdata=np.array(link_labels),\n",
    "            hovertemplate='%{customdata}<extra></extra>'\n",
    "        )\n",
    "    )])\n",
    "    \n",
    "    # Add annotations to describe each column\n",
    "    fig.update_layout(\n",
    "        title_text=title,\n",
    "        font_size=12,\n",
    "        height=800,  # Increased height to accommodate more nodes\n",
    "        width=1200,  # Increased width to accommodate more columns\n",
    "        annotations=[\n",
    "            dict(x=0.02, y=1, xref='paper', yref='paper', text='Sender', showarrow=False, font=dict(size=14, color='black')),\n",
    "            dict(x=0.14, y=1, xref='paper', yref='paper', text='Receiver', showarrow=False, font=dict(size=14, color='black')),\n",
    "            dict(x=0.25, y=1, xref='paper', yref='paper', text='Currency', showarrow=False, font=dict(size=14, color='black')),\n",
    "            dict(x=0.37, y=1, xref='paper', yref='paper', text='MX/MT', showarrow=False, font=dict(size=14, color='black')),\n",
    "            dict(x=0.48, y=1, xref='paper', yref='paper', text='MT', showarrow=False, font=dict(size=14, color='black')),\n",
    "            dict(x=0.60, y=1, xref='paper', yref='paper', text='Direction', showarrow=False, font=dict(size=14, color='black')),\n",
    "            dict(x=0.71, y=1, xref='paper', yref='paper', text='Status', showarrow=False, font=dict(size=14, color='black')),\n",
    "            dict(x=0.83, y=1, xref='paper', yref='paper', text='Payment', showarrow=False, font=dict(size=14, color='black')),\n",
    "            dict(x=0.94, y=1, xref='paper', yref='paper', text='Amount', showarrow=False, font=dict(size=14, color='black')),\n",
    "        ]\n",
    "    )\n",
    "    \n",
    "    return fig\n",
    "\n",
    "def visualize_banking_flows(df):\n",
    "    # Ensure the expected columns exist\n",
    "    required_columns = ['send region', 'receiver region', 'amount', 'transaction_status', 'payment_method']\n",
    "    missing_columns = [col for col in required_columns if col not in df.columns]\n",
    "    \n",
    "    if missing_columns:\n",
    "        raise ValueError(f\"Missing required columns in dataframe: {missing_columns}\")\n",
    "    \n",
    "    # Check if year column exists, if not, provide a default\n",
    "    if 'year' not in df.columns:\n",
    "        print(\"Warning: 'year' column not found in data. Creating a dummy year column with value 2023.\")\n",
    "        df['year'] = 2023\n",
    "    \n",
    "    # Ensure all regions are in the coordinates dictionary\n",
    "    unknown_send_regions = set(df['send region'].unique()) - set(region_coordinates.keys())\n",
    "    unknown_recv_regions = set(df['receiver region'].unique()) - set(region_coordinates.keys())\n",
    "    \n",
    "    if unknown_send_regions:\n",
    "        print(f\"Warning: Unknown send regions: {unknown_send_regions}\")\n",
    "    if unknown_recv_regions:\n",
    "        print(f\"Warning: Unknown receiver regions: {unknown_recv_regions}\")\n",
    "    \n",
    "    # Create the flow map\n",
    "    flow_map = create_flow_map(df)\n",
    "    \n",
    "    # Get unique regions for dropdowns\n",
    "    all_regions = sorted(list(set(df['send region'].unique()).union(set(df['receiver region'].unique()))))\n",
    "    \n",
    "    # Get unique years for the year dropdown\n",
    "    years = sorted(df['year'].unique())\n",
    "    \n",
    "    # Create dropdown widgets\n",
    "    send_dropdown = widgets.Dropdown(\n",
    "        options=['All'] + all_regions,\n",
    "        value='All',\n",
    "        description='Sender Region:',\n",
    "        layout=Layout(width='300px')\n",
    "    )\n",
    "    \n",
    "    receive_dropdown = widgets.Dropdown(\n",
    "        options=['All'] + all_regions,\n",
    "        value='All',\n",
    "        description='Receiver Region:',\n",
    "        layout=Layout(width='300px')\n",
    "    )\n",
    "    \n",
    "    # Create year dropdown\n",
    "    year_dropdown = widgets.Dropdown(\n",
    "        options=['All'] + list(years),\n",
    "        value='All',\n",
    "        description='Year:',\n",
    "        layout=Layout(width='300px')\n",
    "    )\n",
    "    \n",
    "    # Create output area for the Sankey diagram\n",
    "    sankey_output = widgets.Output()\n",
    "    \n",
    "    def update_sankey(sender_region, receiver_region, year):\n",
    "        with sankey_output:\n",
    "            sankey_output.clear_output(wait=True)\n",
    "            send_region = None if sender_region == 'All' else sender_region\n",
    "            receive_region = None if receiver_region == 'All' else receiver_region\n",
    "            selected_year = None if year == 'All' else year\n",
    "            sankey_fig = create_sankey_for_regions(df, send_region, receive_region, selected_year)\n",
    "            sankey_fig.show()\n",
    "    \n",
    "    # Create interactive widget with all three dropdowns\n",
    "    interactive_widget = interactive(\n",
    "        update_sankey,\n",
    "        sender_region=send_dropdown,\n",
    "        receiver_region=receive_dropdown,\n",
    "        year=year_dropdown\n",
    "    )\n",
    "    \n",
    "    # Display everything\n",
    "    display(flow_map)\n",
    "    display(interactive_widget)\n",
    "    display(sankey_output)\n",
    "    \n",
    "    # Initial display\n",
    "    update_sankey('All', 'All', 'All')\n",
    "    \n",
    "    return flow_map\n",
    "visualize_banking_flows(df) "
   ]
  },
  {
   "cell_type": "code",
   "execution_count": 7,
   "id": "9e7a5132",
   "metadata": {},
   "outputs": [],
   "source": [
    "def create_sankey_for_regions(df, send_region=None, receive_region=None, year=None):\n",
    "    \"\"\"\n",
    "    Create an enhanced Sankey diagram for transactions between specified regions,\n",
    "    with hover animations and flow animations for the links.\n",
    "    \n",
    "    Parameters:\n",
    "    -----------\n",
    "    df : pandas DataFrame\n",
    "        The DataFrame containing transaction data\n",
    "    send_region : str, optional\n",
    "        Region to filter senders by\n",
    "    receive_region : str, optional\n",
    "        Region to filter receivers by\n",
    "    year : int, optional\n",
    "        Year to filter transactions by\n",
    "    \n",
    "    Returns:\n",
    "    --------\n",
    "    plotly.graph_objects.Figure\n",
    "        A Sankey diagram figure with enhanced animations\n",
    "    \"\"\"\n",
    "    import pandas as pd\n",
    "    import numpy as np\n",
    "    import plotly.graph_objects as go\n",
    "    \n",
    "    # Create a copy to avoid modifying the original\n",
    "    filtered_df = df.copy()\n",
    "    \n",
    "    # Filter data if regions are specified\n",
    "    title_parts = []\n",
    "    \n",
    "    if send_region:\n",
    "        filtered_df = filtered_df[filtered_df['send region'] == send_region]\n",
    "        title_parts.append(f\"from {send_region}\")\n",
    "    \n",
    "    if receive_region:\n",
    "        filtered_df = filtered_df[filtered_df['receiver region'] == receive_region]\n",
    "        title_parts.append(f\"to {receive_region}\")\n",
    "    \n",
    "    # Filter by year if specified\n",
    "    if year and 'year' in filtered_df.columns:\n",
    "        filtered_df = filtered_df[filtered_df['year'] == year]\n",
    "        title_parts.append(f\"in {year}\")\n",
    "    \n",
    "    if title_parts:\n",
    "        title = f\"Transactions {' '.join(title_parts)}\"\n",
    "    else:\n",
    "        title = \"All Regional Transactions\"\n",
    "    \n",
    "    # Ensure amount categories exist (create if missing)\n",
    "    if 'amount_category' not in filtered_df.columns:\n",
    "        filtered_df['amount_category'] = pd.cut(\n",
    "            filtered_df['amount'], \n",
    "            bins=[0, 1e6, 5e6, 1e7, float('inf')], \n",
    "            labels=['< 1M', '1M-5M', '5M-10M', '> 10M']\n",
    "        )\n",
    "    \n",
    "    # Check if we have data after all the filters\n",
    "    if filtered_df.empty:\n",
    "        fig = go.Figure()\n",
    "        fig.update_layout(\n",
    "            title_text=f\"No data available for {title}\",\n",
    "            annotations=[dict(\n",
    "                text=\"No transactions found for the selected criteria\",\n",
    "                xref=\"paper\", yref=\"paper\",\n",
    "                x=0.5, y=0.5, showarrow=False,\n",
    "                font=dict(size=20)\n",
    "            )]\n",
    "        )\n",
    "        return fig\n",
    "    \n",
    "    # Make sure all columns are properly formatted as strings\n",
    "    str_columns = ['sender', 'receiver', 'currency', 'mx/mt', 'Mt', 'direction', \n",
    "                  'transaction_status', 'payment_method', 'amount_category']\n",
    "    for col in str_columns:\n",
    "        if col in filtered_df.columns and filtered_df[col].dtype != 'str':\n",
    "            filtered_df[col] = filtered_df[col].astype(str)\n",
    "    \n",
    "    # Create the flows according to the specified path\n",
    "    # sender → receiver\n",
    "    flow1 = filtered_df.groupby(['sender', 'receiver']).size().reset_index(name='count')\n",
    "    \n",
    "    # receiver → currency\n",
    "    flow2 = filtered_df.groupby(['receiver', 'currency']).size().reset_index(name='count')\n",
    "    \n",
    "    # currency → mx/mt\n",
    "    flow3 = filtered_df.groupby(['currency', 'mx/mt']).size().reset_index(name='count')\n",
    "    \n",
    "    # mx/mt → mt\n",
    "    flow4 = filtered_df.groupby(['mx/mt', 'Mt']).size().reset_index(name='count')\n",
    "    \n",
    "    # mt → direction\n",
    "    flow5 = filtered_df.groupby(['Mt', 'direction']).size().reset_index(name='count')\n",
    "    \n",
    "    # direction → transaction_status (new flow)\n",
    "    flow6 = filtered_df.groupby(['direction', 'transaction_status']).size().reset_index(name='count')\n",
    "    \n",
    "    # transaction_status → payment_method (new flow)\n",
    "    flow7 = filtered_df.groupby(['transaction_status', 'payment_method']).size().reset_index(name='count')\n",
    "    \n",
    "    # payment_method → amount (new flow)\n",
    "    flow8 = filtered_df.groupby(['payment_method', 'amount_category']).size().reset_index(name='count')\n",
    "    \n",
    "    # Get all unique labels\n",
    "    labels = pd.unique(\n",
    "        flow1['sender'].tolist() +\n",
    "        flow1['receiver'].tolist() +\n",
    "        flow2['currency'].tolist() +\n",
    "        flow3['mx/mt'].tolist() +\n",
    "        flow4['Mt'].tolist() +\n",
    "        flow5['direction'].tolist() +\n",
    "        flow6['transaction_status'].tolist() +\n",
    "        flow7['payment_method'].tolist() +\n",
    "        flow8['amount_category'].astype(str).tolist()\n",
    "    )\n",
    "    \n",
    "    # Map labels to indices\n",
    "    label_to_index = {label: i for i, label in enumerate(labels)}\n",
    "    \n",
    "    # Prepare sources, targets, and values for links\n",
    "    source, target, value = [], [], []\n",
    "    link_labels = []\n",
    "    \n",
    "    # sender → receiver\n",
    "    for _, row in flow1.iterrows():\n",
    "        source.append(label_to_index[row['sender']])\n",
    "        target.append(label_to_index[row['receiver']])\n",
    "        value.append(row['count'])\n",
    "        link_labels.append(f\"{row['sender']} → {row['receiver']}<br>Count: {row['count']}\")\n",
    "    \n",
    "    # receiver → currency\n",
    "    for _, row in flow2.iterrows():\n",
    "        source.append(label_to_index[row['receiver']])\n",
    "        target.append(label_to_index[row['currency']])\n",
    "        value.append(row['count'])\n",
    "        link_labels.append(f\"{row['receiver']} → {row['currency']}<br>Count: {row['count']}\")\n",
    "    \n",
    "    # currency → mx/mt\n",
    "    for _, row in flow3.iterrows():\n",
    "        source.append(label_to_index[row['currency']])\n",
    "        target.append(label_to_index[row['mx/mt']])\n",
    "        value.append(row['count'])\n",
    "        link_labels.append(f\"{row['currency']} → {row['mx/mt']}<br>Count: {row['count']}\")\n",
    "    \n",
    "    # mx/mt → mt\n",
    "    for _, row in flow4.iterrows():\n",
    "        source.append(label_to_index[row['mx/mt']])\n",
    "        target.append(label_to_index[row['Mt']])\n",
    "        value.append(row['count'])\n",
    "        link_labels.append(f\"{row['mx/mt']} → {row['Mt']}<br>Count: {row['count']}\")\n",
    "    \n",
    "    # mt → direction\n",
    "    for _, row in flow5.iterrows():\n",
    "        source.append(label_to_index[row['Mt']])\n",
    "        target.append(label_to_index[row['direction']])\n",
    "        value.append(row['count'])\n",
    "        link_labels.append(f\"{row['Mt']} → {row['direction']}<br>Count: {row['count']}\")\n",
    "    \n",
    "    # direction → transaction_status (new flow)\n",
    "    for _, row in flow6.iterrows():\n",
    "        source.append(label_to_index[row['direction']])\n",
    "        target.append(label_to_index[row['transaction_status']])\n",
    "        value.append(row['count'])\n",
    "        link_labels.append(f\"{row['direction']} → {row['transaction_status']}<br>Count: {row['count']}\")\n",
    "    \n",
    "    # transaction_status → payment_method (new flow)\n",
    "    for _, row in flow7.iterrows():\n",
    "        source.append(label_to_index[row['transaction_status']])\n",
    "        target.append(label_to_index[row['payment_method']])\n",
    "        value.append(row['count'])\n",
    "        link_labels.append(f\"{row['transaction_status']} → {row['payment_method']}<br>Count: {row['count']}\")\n",
    "    \n",
    "    # payment_method → amount_category (new flow)\n",
    "    for _, row in flow8.iterrows():\n",
    "        source.append(label_to_index[row['payment_method']])\n",
    "        target.append(label_to_index[str(row['amount_category'])])\n",
    "        value.append(row['count'])\n",
    "        link_labels.append(f\"{row['payment_method']} → {row['amount_category']}<br>Count: {row['count']}\")\n",
    "    \n",
    "    # Set up colors for nodes and links\n",
    "    num_nodes = len(labels)\n",
    "    node_colors = [\"rgba(31, 119, 180, 0.8)\"] * num_nodes  # Default blue color\n",
    "    \n",
    "    # Create color groups for different node types\n",
    "   \n",
    "    sender_idx = [label_to_index[label] for label in pd.Series(flow1['sender']).unique()]\n",
    "    receiver_idx = [label_to_index[label] for label in pd.Series(flow1['receiver']).unique()]\n",
    "    currency_idx = [label_to_index[label] for label in pd.Series(flow2['currency']).unique()]\n",
    "    mxmt_idx = [label_to_index[label] for label in pd.Series(flow3['mx/mt']).unique()]\n",
    "    mt_idx = [label_to_index[label] for label in pd.Series(flow4['Mt']).unique()]\n",
    "    direction_idx = [label_to_index[label] for label in pd.Series(flow5['direction']).unique()]\n",
    "    status_idx = [label_to_index[label] for label in pd.Series(flow6['transaction_status']).unique()]\n",
    "    payment_idx = [label_to_index[label] for label in pd.Series(flow7['payment_method']).unique()]\n",
    "    amount_idx = [label_to_index[str(label)] for label in pd.Series(flow8['amount_category']).unique()]\n",
    "    # Assign different colors to each node type\n",
    "    for idx in sender_idx:\n",
    "        node_colors[idx] = \"rgba(214, 39, 40, 0.8)\"  # Red for senders\n",
    "    for idx in receiver_idx:\n",
    "        node_colors[idx] = \"rgba(44, 160, 44, 0.8)\"  # Green for receivers\n",
    "    for idx in currency_idx:\n",
    "        node_colors[idx] = \"rgba(255, 127, 14, 0.8)\"  # Orange for currency\n",
    "    for idx in mxmt_idx:\n",
    "        node_colors[idx] = \"rgba(148, 103, 189, 0.8)\"  # Purple for mx/mt\n",
    "    for idx in mt_idx:\n",
    "        node_colors[idx] = \"rgba(140, 86, 75, 0.8)\"   # Brown for Mt\n",
    "    for idx in direction_idx:\n",
    "        node_colors[idx] = \"rgba(23, 190, 207, 0.8)\"  # Cyan for directions\n",
    "    for idx in status_idx:\n",
    "        node_colors[idx] = \"rgba(188, 189, 34, 0.8)\"  # Yellow-green for transaction status\n",
    "    for idx in payment_idx:\n",
    "        node_colors[idx] = \"rgba(127, 127, 127, 0.8)\"  # Gray for payment method\n",
    "    for idx in amount_idx:\n",
    "        node_colors[idx] = \"rgba(31, 119, 180, 0.8)\"  # Blue for amount categories\n",
    "    \n",
    "    # Create base and hover colors for links based on their source\n",
    "    link_colors = []\n",
    "    link_hover_colors = []\n",
    "    \n",
    "    for s in source:\n",
    "        # Normal state: semi-transparent\n",
    "        base_color = node_colors[s].replace(\"0.8\", \"0.4\")  # More transparent for normal state\n",
    "        # Hover state: more opaque and brighter\n",
    "        hover_color = node_colors[s].replace(\"0.8\", \"0.9\")  # More opaque for hover state\n",
    "        \n",
    "        link_colors.append(base_color)\n",
    "        link_hover_colors.append(hover_color)\n",
    "    \n",
    "    # Create the Sankey diagram with enhanced styling\n",
    "    fig = go.Figure(data=[go.Sankey(\n",
    "        arrangement=\"snap\",\n",
    "        node=dict(\n",
    "            pad=20,\n",
    "            thickness=20,\n",
    "            line=dict(color=\"black\", width=0.5),\n",
    "            label=list(labels),\n",
    "            color=node_colors,\n",
    "            # Add hover effect to nodes\n",
    "            hoverinfo=\"all\",\n",
    "            hoverlabel=dict(\n",
    "                bgcolor=\"white\",\n",
    "                font_size=14,\n",
    "                font_family=\"Arial\"\n",
    "            )\n",
    "        ),\n",
    "        link=dict(\n",
    "            source=source,\n",
    "            target=target,\n",
    "            value=value,\n",
    "            color=link_colors,\n",
    "            # Add animated hover effect for links\n",
    "            customdata=np.array(link_labels),\n",
    "            hovertemplate='%{customdata}<extra></extra>',\n",
    "            hoverlabel=dict(\n",
    "                bgcolor=\"white\",\n",
    "                font_size=14,\n",
    "                font_family=\"Arial\"\n",
    "            )\n",
    "        )\n",
    "    )])\n",
    "    \n",
    "    # Add flow animation using frames\n",
    "    # We'll create frames to animate link opacity to simulate flow\n",
    "    frames = []\n",
    "    \n",
    "    # Create several frames with different link opacities to simulate flow\n",
    "    for i in range(10):\n",
    "        # Generate a flow pattern that moves from left to right\n",
    "        phase = i / 10.0\n",
    "        flow_colors = []\n",
    "        \n",
    "        for s, t in zip(source, target):\n",
    "            # Calculate distance from left to right (normalized)\n",
    "            pos = (s + t) / (2 * num_nodes)\n",
    "            \n",
    "            # Create a wave pattern that moves across the links\n",
    "            intensity = 0.5 + 0.4 * np.sin(2 * np.pi * (pos - phase))\n",
    "            \n",
    "            # Apply the intensity to the base color\n",
    "            base_color = node_colors[s].replace(\"0.8\", str(intensity))\n",
    "            flow_colors.append(base_color)\n",
    "        \n",
    "        # Create a frame with the current flow pattern\n",
    "        frames.append(go.Frame(\n",
    "            data=[go.Sankey(\n",
    "                link=dict(color=flow_colors)\n",
    "            )],\n",
    "            name=f\"frame{i}\"\n",
    "        ))\n",
    "    \n",
    "    # Add frames to the figure\n",
    "    fig.frames = frames\n",
    "    \n",
    "    # Add play button for animation\n",
    "    fig.update_layout(\n",
    "        updatemenus=[\n",
    "            dict(\n",
    "                type=\"buttons\",\n",
    "                showactive=False,\n",
    "                buttons=[\n",
    "                    dict(\n",
    "                        label=\"Play Flow\",\n",
    "                        method=\"animate\",\n",
    "                        args=[\n",
    "                            None,\n",
    "                            dict(\n",
    "                                frame=dict(duration=200, redraw=True),\n",
    "                                fromcurrent=True,\n",
    "                                mode=\"immediate\",\n",
    "                                transition=dict(duration=200)\n",
    "                            )\n",
    "                        ]\n",
    "                    )\n",
    "                ],\n",
    "                x=0.1,\n",
    "                y=1.15,\n",
    "            )\n",
    "        ]\n",
    "    )\n",
    "    \n",
    "    # Add annotations to describe each column\n",
    "    fig.update_layout(\n",
    "        title_text=title,\n",
    "        font_size=12,\n",
    "        height=800,  # Increased height to accommodate more nodes\n",
    "        width=1200,  # Increased width to accommodate more columns\n",
    "        # Add hover mode settings to improve interactivity\n",
    "        hovermode=\"closest\",\n",
    "        hoverdistance=10,\n",
    "        # Add transition settings for smoother animations\n",
    "        transition=dict(\n",
    "            duration=500,\n",
    "            easing=\"cubic-in-out\"\n",
    "        ),\n",
    "        annotations=[\n",
    "            dict(x=0.02, y=1, xref='paper', yref='paper', text='Sender', showarrow=False, font=dict(size=14, color='black')),\n",
    "            dict(x=0.14, y=1, xref='paper', yref='paper', text='Receiver', showarrow=False, font=dict(size=14, color='black')),\n",
    "            dict(x=0.25, y=1, xref='paper', yref='paper', text='Currency', showarrow=False, font=dict(size=14, color='black')),\n",
    "            dict(x=0.37, y=1, xref='paper', yref='paper', text='MX/MT', showarrow=False, font=dict(size=14, color='black')),\n",
    "            dict(x=0.48, y=1, xref='paper', yref='paper', text='MT', showarrow=False, font=dict(size=14, color='black')),\n",
    "            dict(x=0.60, y=1, xref='paper', yref='paper', text='Direction', showarrow=False, font=dict(size=14, color='black')),\n",
    "            dict(x=0.71, y=1, xref='paper', yref='paper', text='Status', showarrow=False, font=dict(size=14, color='black')),\n",
    "            dict(x=0.83, y=1, xref='paper', yref='paper', text='Payment', showarrow=False, font=dict(size=14, color='black')),\n",
    "            dict(x=0.94, y=1, xref='paper', yref='paper', text='Amount', showarrow=False, font=dict(size=14, color='black')),\n",
    "        ]\n",
    "    )\n",
    "    \n",
    "    # Add custom CSS for hover effects\n",
    "    fig.update_layout(\n",
    "        hoverlabel_bgcolor=\"white\",\n",
    "        hoverlabel_font_size=14,\n",
    "        hoverlabel_font_family=\"Arial\"\n",
    "    )\n",
    "    \n",
    "    # Add configuration options for better interactivity\n",
    "    fig.update_layout(\n",
    "        dragmode=\"pan\",\n",
    "        clickmode=\"event+select\"\n",
    "    )\n",
    "    \n",
    "    return fig\n",
    "\n",
    "def visualize_banking_flows(df):\n",
    "    \"\"\"\n",
    "    Create an interactive visualization of banking flows with enhanced animations.\n",
    "    \n",
    "    Parameters:\n",
    "    -----------\n",
    "    df : pandas DataFrame\n",
    "        The DataFrame containing transaction data\n",
    "    \n",
    "    Returns:\n",
    "    --------\n",
    "    plotly.graph_objects.Figure\n",
    "        The flow map visualization\n",
    "    \"\"\"\n",
    "    # Ensure the expected columns exist\n",
    "    required_columns = ['send region', 'receiver region', 'amount', 'transaction_status', 'payment_method']\n",
    "    missing_columns = [col for col in required_columns if col not in df.columns]\n",
    "\n",
    "    # Raise error if essential columns are missing\n",
    "    if missing_columns:\n",
    "        raise ValueError(f\"Missing required columns in dataframe: {missing_columns}\")\n",
    "\n",
    "    # Add default year if not present\n",
    "    if 'year' not in df.columns:\n",
    "        print(\"Warning: 'year' column not found in data. Creating a dummy year column with value 2023.\")\n",
    "        df['year'] = 2023\n",
    "    else:\n",
    "        # Fill any missing year values with a default\n",
    "        df['year'] = df['year'].fillna(2023)\n",
    "\n",
    "    # Ensure all regions are in the coordinates dictionary\n",
    "    send_regions = df['send region'].dropna().unique()\n",
    "    recv_regions = df['receiver region'].dropna().unique()\n",
    "\n",
    "    unknown_send_regions = set(send_regions) - set(region_coordinates.keys())\n",
    "    unknown_recv_regions = set(recv_regions) - set(region_coordinates.keys())\n",
    "\n",
    "    if unknown_send_regions:\n",
    "        print(f\"Warning: Unknown send regions: {unknown_send_regions}\")\n",
    "    if unknown_recv_regions:\n",
    "        print(f\"Warning: Unknown receiver regions: {unknown_recv_regions}\")\n",
    "\n",
    "    # Build the flow map (assumes create_flow_map is already defined)\n",
    "    flow_map = create_flow_map(df)\n",
    "\n",
    "    # Collect unique regions for dropdowns (excluding missing values)\n",
    "    all_regions = sorted(set(send_regions).union(set(recv_regions)))\n",
    "\n",
    "    # Collect valid years (filtering non-numeric entries, if any)\n",
    "    years = sorted(df['year'].dropna().unique())\n",
    "\n",
    "    \n",
    "    # Create dropdown widgets with improved styling\n",
    "    send_dropdown = widgets.Dropdown(\n",
    "        options=['All'] + all_regions,\n",
    "        value='All',\n",
    "        description='Sender Region:',\n",
    "        layout=Layout(width='300px'),\n",
    "        style={'description_width': 'initial'}\n",
    "    )\n",
    "    \n",
    "    receive_dropdown = widgets.Dropdown(\n",
    "        options=['All'] + all_regions,\n",
    "        value='All',\n",
    "        description='Receiver Region:',\n",
    "        layout=Layout(width='300px'),\n",
    "        style={'description_width': 'initial'}\n",
    "    )\n",
    "    \n",
    "    # Create year dropdown\n",
    "    year_dropdown = widgets.Dropdown(\n",
    "        options=['All'] + list(years),\n",
    "        value='All',\n",
    "        description='Year:',\n",
    "        layout=Layout(width='300px'),\n",
    "        style={'description_width': 'initial'}\n",
    "    )\n",
    "    \n",
    "    # Add animation toggle button\n",
    "    animation_button = widgets.ToggleButton(\n",
    "        value=False,\n",
    "        description='Toggle Flow Animation',\n",
    "        disabled=False,\n",
    "        button_style='info',\n",
    "        tooltip='Toggle the flow animation on/off',\n",
    "        icon='play'\n",
    "    )\n",
    "    \n",
    "    # Create output area for the Sankey diagram\n",
    "    sankey_output = widgets.Output()\n",
    "    \n",
    "    # Create status message for user feedback\n",
    "    status_message = widgets.HTML(\n",
    "        value=\"<div style='padding: 10px; color: #555;'>Select options and click Update to visualize banking flows.</div>\"\n",
    "    )\n",
    "    \n",
    "    # Create an update button for better user experience\n",
    "    update_button = widgets.Button(\n",
    "        description='Update Visualization',\n",
    "        button_style='primary',\n",
    "        tooltip='Click to update the visualization',\n",
    "        icon='refresh'\n",
    "    )\n",
    "    \n",
    "    def update_sankey(sender_region, receiver_region, year, animate):\n",
    "        with sankey_output:\n",
    "            sankey_output.clear_output(wait=True)\n",
    "            status_message.value = \"<div style='padding: 10px; color: #555;'>Generating visualization...</div>\"\n",
    "            \n",
    "            send_region = None if sender_region == 'All' else sender_region\n",
    "            receive_region = None if receiver_region == 'All' else receiver_region\n",
    "            selected_year = None if year == 'All' else year\n",
    "            \n",
    "            # Create the Sankey diagram\n",
    "            sankey_fig = create_sankey_for_regions(df, send_region, receive_region, selected_year)\n",
    "            \n",
    "            # Start animation if toggle is on\n",
    "            if animate:\n",
    "                sankey_fig.update_layout(\n",
    "                    updatemenus=[dict(\n",
    "                        type=\"buttons\",\n",
    "                        showactive=False,\n",
    "                        buttons=[dict(\n",
    "                            label=\"Play Flow\",\n",
    "                            method=\"animate\",\n",
    "                            args=[None, dict(frame=dict(duration=200, redraw=True), fromcurrent=True, mode=\"immediate\")]\n",
    "                        )],\n",
    "                        active=0\n",
    "                    )]\n",
    "                )\n",
    "            \n",
    "            # Display the figure\n",
    "            sankey_fig.show()\n",
    "            \n",
    "            # Update status message\n",
    "            filters = []\n",
    "            if send_region:\n",
    "                filters.append(f\"sender: {send_region}\")\n",
    "            if receive_region:\n",
    "                filters.append(f\"receiver: {receive_region}\")\n",
    "            if selected_year:\n",
    "                filters.append(f\"year: {selected_year}\")\n",
    "                \n",
    "            if filters:\n",
    "                filter_text = \", \".join(filters)\n",
    "                status_message.value = f\"<div style='padding: 10px; color: #555;'>Showing transactions with {filter_text}</div>\"\n",
    "            else:\n",
    "                status_message.value = \"<div style='padding: 10px; color: #555;'>Showing all transactions</div>\"\n",
    "    \n",
    "    def on_update_button_click(b):\n",
    "        update_sankey(send_dropdown.value, receive_dropdown.value, year_dropdown.value, animation_button.value)\n",
    "    \n",
    "    update_button.on_click(on_update_button_click)\n",
    "    \n",
    "    # Layout the widgets in a more organized way\n",
    "    filters_box = widgets.HBox([send_dropdown, receive_dropdown, year_dropdown])\n",
    "    controls_box = widgets.HBox([animation_button, update_button])\n",
    "    \n",
    "    # Create a styled container for the interface\n",
    "    container = widgets.VBox([\n",
    "        widgets.HTML(\"<h2 style='color: #333;'>Banking Flows Analysis Dashboard</h2>\"),\n",
    "        widgets.HTML(\"<p style='color: #555;'>Use the controls below to explore transaction flows between regions.</p>\"),\n",
    "        filters_box,\n",
    "        controls_box,\n",
    "        status_message,\n",
    "        sankey_output\n",
    "    ], layout=Layout(border='1px solid #ddd', padding='20px', margin='10px'))\n",
    "    \n",
    "    # Display everything\n",
    "    display(flow_map)\n",
    "    display(container)\n",
    "    \n",
    "    # Initial display\n",
    "    update_sankey('All', 'All', 'All', animation_button.value)\n",
    "    \n",
    "    return flow_map"
   ]
  },
  {
   "cell_type": "code",
   "execution_count": 8,
   "id": "e8d8b259",
   "metadata": {},
   "outputs": [
    {
     "name": "stderr",
     "output_type": "stream",
     "text": [
      "C:\\Users\\joshu\\AppData\\Local\\Temp\\ipykernel_15860\\3031759551.py:68: DeprecationWarning:\n",
      "\n",
      "*scattermapbox* is deprecated! Use *scattermap* instead. Learn more at: https://plotly.com/python/mapbox-to-maplibre/\n",
      "\n",
      "C:\\Users\\joshu\\AppData\\Local\\Temp\\ipykernel_15860\\3031759551.py:81: DeprecationWarning:\n",
      "\n",
      "*scattermapbox* is deprecated! Use *scattermap* instead. Learn more at: https://plotly.com/python/mapbox-to-maplibre/\n",
      "\n"
     ]
    },
    {
     "data": {
      "application/vnd.plotly.v1+json": {
       "config": {
        "plotlyServerURL": "https://plot.ly"
       },
       "data": [
        {
         "customdata": [
          [
           "Africa",
           "Middle East",
           4794660.58
          ],
          [
           "Africa",
           "Middle East",
           4794660.58
          ],
          [
           "Africa",
           "Middle East",
           4794660.58
          ],
          [
           "Africa",
           "Middle East",
           4794660.58
          ],
          [
           "Africa",
           "Middle East",
           4794660.58
          ],
          [
           "Africa",
           "Middle East",
           4794660.58
          ],
          [
           "Africa",
           "Middle East",
           4794660.58
          ],
          [
           "Africa",
           "Middle East",
           4794660.58
          ],
          [
           "Africa",
           "Middle East",
           4794660.58
          ],
          [
           "Africa",
           "Middle East",
           4794660.58
          ],
          [
           "Africa",
           "Middle East",
           4794660.58
          ],
          [
           "Africa",
           "Middle East",
           4794660.58
          ],
          [
           "Africa",
           "Middle East",
           4794660.58
          ],
          [
           "Africa",
           "Middle East",
           4794660.58
          ],
          [
           "Africa",
           "Middle East",
           4794660.58
          ],
          [
           "Africa",
           "Middle East",
           4794660.58
          ],
          [
           "Africa",
           "Middle East",
           4794660.58
          ],
          [
           "Africa",
           "Middle East",
           4794660.58
          ],
          [
           "Africa",
           "Middle East",
           4794660.58
          ],
          [
           "Africa",
           "Middle East",
           4794660.58
          ]
         ],
         "hoverinfo": "text",
         "hovertext": "Africa → Middle East<br>Amount: $4,794,660.58",
         "lat": [
          5,
          6.6560357858663295,
          8.25672256628552,
          9.802060341257574,
          11.292049110782497,
          12.726688874860285,
          14.105979633490932,
          15.429921386674442,
          16.69851413441082,
          17.911757876700065,
          19.069652613542168,
          20.172198344937136,
          21.21939507088497,
          22.211242791385665,
          23.14774150643923,
          24.028891216045658,
          24.854691920204946,
          25.625143618917097,
          26.340246312182117,
          27
         ],
         "line": {
          "color": "rgba(70, 130, 180, 0.35)",
          "width": 1.4913030752006498
         },
         "lon": [
          20,
          21.315789473684212,
          22.63157894736842,
          23.94736842105263,
          25.263157894736842,
          26.578947368421055,
          27.89473684210526,
          29.210526315789473,
          30.52631578947368,
          31.842105263157897,
          33.15789473684211,
          34.473684210526315,
          35.78947368421053,
          37.10526315789474,
          38.421052631578945,
          39.73684210526316,
          41.05263157894736,
          42.368421052631575,
          43.68421052631579,
          45
         ],
         "mode": "lines",
         "showlegend": false,
         "type": "scattermapbox"
        },
        {
         "customdata": [
          [
           "Asia Pacific",
           "Middle East",
           16083014.38
          ],
          [
           "Asia Pacific",
           "Middle East",
           16083014.38
          ],
          [
           "Asia Pacific",
           "Middle East",
           16083014.38
          ],
          [
           "Asia Pacific",
           "Middle East",
           16083014.38
          ],
          [
           "Asia Pacific",
           "Middle East",
           16083014.38
          ],
          [
           "Asia Pacific",
           "Middle East",
           16083014.38
          ],
          [
           "Asia Pacific",
           "Middle East",
           16083014.38
          ],
          [
           "Asia Pacific",
           "Middle East",
           16083014.38
          ],
          [
           "Asia Pacific",
           "Middle East",
           16083014.38
          ],
          [
           "Asia Pacific",
           "Middle East",
           16083014.38
          ],
          [
           "Asia Pacific",
           "Middle East",
           16083014.38
          ],
          [
           "Asia Pacific",
           "Middle East",
           16083014.38
          ],
          [
           "Asia Pacific",
           "Middle East",
           16083014.38
          ],
          [
           "Asia Pacific",
           "Middle East",
           16083014.38
          ],
          [
           "Asia Pacific",
           "Middle East",
           16083014.38
          ],
          [
           "Asia Pacific",
           "Middle East",
           16083014.38
          ],
          [
           "Asia Pacific",
           "Middle East",
           16083014.38
          ],
          [
           "Asia Pacific",
           "Middle East",
           16083014.38
          ],
          [
           "Asia Pacific",
           "Middle East",
           16083014.38
          ],
          [
           "Asia Pacific",
           "Middle East",
           16083014.38
          ]
         ],
         "hoverinfo": "text",
         "hovertext": "Asia Pacific → Middle East<br>Amount: $16,083,014.38",
         "lat": [
          30,
          30.839335180055407,
          31.567867036011084,
          32.18559556786703,
          32.69252077562327,
          33.088642659279785,
          33.37396121883656,
          33.54847645429363,
          33.612188365650965,
          33.56509695290859,
          33.40720221606648,
          33.13850415512465,
          32.7590027700831,
          32.26869806094183,
          31.667590027700832,
          30.955678670360115,
          30.13296398891967,
          29.1994459833795,
          28.155124653739612,
          27
         ],
         "line": {
          "color": "rgba(70, 130, 180, 0.47)",
          "width": 5.002366362164946
         },
         "lon": [
          120,
          116.05263157894738,
          112.10526315789474,
          108.15789473684208,
          104.21052631578948,
          100.26315789473686,
          96.31578947368422,
          92.36842105263158,
          88.42105263157895,
          84.47368421052633,
          80.52631578947368,
          76.57894736842105,
          72.63157894736842,
          68.6842105263158,
          64.73684210526316,
          60.78947368421053,
          56.8421052631579,
          52.89473684210527,
          48.94736842105264,
          45
         ],
         "mode": "lines",
         "showlegend": false,
         "type": "scattermapbox"
        },
        {
         "customdata": [
          [
           "Caribbean",
           "Middle East",
           42760814.73
          ],
          [
           "Caribbean",
           "Middle East",
           42760814.73
          ],
          [
           "Caribbean",
           "Middle East",
           42760814.73
          ],
          [
           "Caribbean",
           "Middle East",
           42760814.73
          ],
          [
           "Caribbean",
           "Middle East",
           42760814.73
          ],
          [
           "Caribbean",
           "Middle East",
           42760814.73
          ],
          [
           "Caribbean",
           "Middle East",
           42760814.73
          ],
          [
           "Caribbean",
           "Middle East",
           42760814.73
          ],
          [
           "Caribbean",
           "Middle East",
           42760814.73
          ],
          [
           "Caribbean",
           "Middle East",
           42760814.73
          ],
          [
           "Caribbean",
           "Middle East",
           42760814.73
          ],
          [
           "Caribbean",
           "Middle East",
           42760814.73
          ],
          [
           "Caribbean",
           "Middle East",
           42760814.73
          ],
          [
           "Caribbean",
           "Middle East",
           42760814.73
          ],
          [
           "Caribbean",
           "Middle East",
           42760814.73
          ],
          [
           "Caribbean",
           "Middle East",
           42760814.73
          ],
          [
           "Caribbean",
           "Middle East",
           42760814.73
          ],
          [
           "Caribbean",
           "Middle East",
           42760814.73
          ],
          [
           "Caribbean",
           "Middle East",
           42760814.73
          ],
          [
           "Caribbean",
           "Middle East",
           42760814.73
          ]
         ],
         "hoverinfo": "text",
         "hovertext": "Caribbean → Middle East<br>Amount: $42,760,814.73",
         "lat": [
          20,
          21.36565096952909,
          22.620498614958446,
          23.764542936288084,
          24.797783933518005,
          25.7202216066482,
          26.53185595567867,
          27.232686980609415,
          27.82271468144044,
          28.301939058171747,
          28.670360110803323,
          28.927977839335178,
          29.074792243767313,
          29.110803324099727,
          29.036011080332408,
          28.850415512465375,
          28.554016620498615,
          28.14681440443213,
          27.628808864265928,
          27
         ],
         "line": {
          "color": "rgba(70, 130, 180, 0.74)",
          "width": 13.300072745698767
         },
         "lon": [
          -75,
          -68.68421052631581,
          -62.368421052631575,
          -56.052631578947356,
          -49.736842105263165,
          -43.42105263157896,
          -37.10526315789474,
          -30.78947368421052,
          -24.47368421052632,
          -18.15789473684211,
          -11.8421052631579,
          -5.526315789473681,
          0.7894736842105239,
          7.105263157894726,
          13.421052631578942,
          19.736842105263158,
          26.05263157894736,
          32.36842105263156,
          38.68421052631579,
          45
         ],
         "mode": "lines",
         "showlegend": false,
         "type": "scattermapbox"
        },
        {
         "customdata": [
          [
           "Central Asia",
           "Latin America",
           4435977
          ],
          [
           "Central Asia",
           "Latin America",
           4435977
          ],
          [
           "Central Asia",
           "Latin America",
           4435977
          ],
          [
           "Central Asia",
           "Latin America",
           4435977
          ],
          [
           "Central Asia",
           "Latin America",
           4435977
          ],
          [
           "Central Asia",
           "Latin America",
           4435977
          ],
          [
           "Central Asia",
           "Latin America",
           4435977
          ],
          [
           "Central Asia",
           "Latin America",
           4435977
          ],
          [
           "Central Asia",
           "Latin America",
           4435977
          ],
          [
           "Central Asia",
           "Latin America",
           4435977
          ],
          [
           "Central Asia",
           "Latin America",
           4435977
          ],
          [
           "Central Asia",
           "Latin America",
           4435977
          ],
          [
           "Central Asia",
           "Latin America",
           4435977
          ],
          [
           "Central Asia",
           "Latin America",
           4435977
          ],
          [
           "Central Asia",
           "Latin America",
           4435977
          ],
          [
           "Central Asia",
           "Latin America",
           4435977
          ],
          [
           "Central Asia",
           "Latin America",
           4435977
          ],
          [
           "Central Asia",
           "Latin America",
           4435977
          ],
          [
           "Central Asia",
           "Latin America",
           4435977
          ],
          [
           "Central Asia",
           "Latin America",
           4435977
          ]
         ],
         "hoverinfo": "text",
         "hovertext": "Central Asia → Latin America<br>Amount: $4,435,977.00",
         "lat": [
          45,
          43.10249307479225,
          41.094182825484765,
          38.97506925207755,
          36.745152354570635,
          34.404432132964004,
          31.95290858725762,
          29.390581717451518,
          26.71745152354571,
          23.933518005540172,
          21.038781163434905,
          18.033240997229917,
          14.916897506925208,
          11.689750692520786,
          8.351800554016622,
          4.903047091412741,
          1.343490304709145,
          -2.326869806094175,
          -6.108033240997225,
          -10
         ],
         "line": {
          "color": "rgba(70, 130, 180, 0.35)",
          "width": 1.3797402404696084
         },
         "lon": [
          65,
          58.42105263157895,
          51.8421052631579,
          45.263157894736835,
          38.684210526315795,
          32.10526315789475,
          25.52631578947369,
          18.94736842105263,
          12.368421052631582,
          5.789473684210533,
          -0.7894736842105221,
          -7.368421052631582,
          -13.947368421052628,
          -20.52631578947367,
          -27.105263157894733,
          -33.684210526315795,
          -40.263157894736835,
          -46.842105263157876,
          -53.42105263157894,
          -60
         ],
         "mode": "lines",
         "showlegend": false,
         "type": "scattermapbox"
        },
        {
         "customdata": [
          [
           "Central Asia",
           "Middle East",
           8409233.71
          ],
          [
           "Central Asia",
           "Middle East",
           8409233.71
          ],
          [
           "Central Asia",
           "Middle East",
           8409233.71
          ],
          [
           "Central Asia",
           "Middle East",
           8409233.71
          ],
          [
           "Central Asia",
           "Middle East",
           8409233.71
          ],
          [
           "Central Asia",
           "Middle East",
           8409233.71
          ],
          [
           "Central Asia",
           "Middle East",
           8409233.71
          ],
          [
           "Central Asia",
           "Middle East",
           8409233.71
          ],
          [
           "Central Asia",
           "Middle East",
           8409233.71
          ],
          [
           "Central Asia",
           "Middle East",
           8409233.71
          ],
          [
           "Central Asia",
           "Middle East",
           8409233.71
          ],
          [
           "Central Asia",
           "Middle East",
           8409233.71
          ],
          [
           "Central Asia",
           "Middle East",
           8409233.71
          ],
          [
           "Central Asia",
           "Middle East",
           8409233.71
          ],
          [
           "Central Asia",
           "Middle East",
           8409233.71
          ],
          [
           "Central Asia",
           "Middle East",
           8409233.71
          ],
          [
           "Central Asia",
           "Middle East",
           8409233.71
          ],
          [
           "Central Asia",
           "Middle East",
           8409233.71
          ],
          [
           "Central Asia",
           "Middle East",
           8409233.71
          ],
          [
           "Central Asia",
           "Middle East",
           8409233.71
          ]
         ],
         "hoverinfo": "text",
         "hovertext": "Central Asia → Middle East<br>Amount: $8,409,233.71",
         "lat": [
          45,
          44.45512227066038,
          43.86552335335264,
          43.23120324807679,
          42.55216195483283,
          41.82839947362077,
          41.05991580444058,
          40.24671094729228,
          39.38878490217587,
          38.48613766909136,
          37.538769248038726,
          36.54667963901798,
          35.50986884202913,
          34.42833685707216,
          33.30208368414708,
          32.131109323253895,
          30.915413774392587,
          29.65499703756317,
          28.349859112765643,
          27
         ],
         "line": {
          "color": "rgba(70, 130, 180, 0.39)",
          "width": 2.615558678775958
         },
         "lon": [
          65,
          63.94736842105264,
          62.89473684210526,
          61.84210526315788,
          60.78947368421053,
          59.736842105263165,
          58.684210526315795,
          57.63157894736841,
          56.578947368421055,
          55.52631578947369,
          54.47368421052632,
          53.421052631578945,
          52.368421052631575,
          51.31578947368422,
          50.26315789473684,
          49.21052631578947,
          48.1578947368421,
          47.10526315789474,
          46.05263157894737,
          45
         ],
         "mode": "lines",
         "showlegend": false,
         "type": "scattermapbox"
        },
        {
         "customdata": [
          [
           "Europe",
           "Middle East",
           5915148.550000001
          ],
          [
           "Europe",
           "Middle East",
           5915148.550000001
          ],
          [
           "Europe",
           "Middle East",
           5915148.550000001
          ],
          [
           "Europe",
           "Middle East",
           5915148.550000001
          ],
          [
           "Europe",
           "Middle East",
           5915148.550000001
          ],
          [
           "Europe",
           "Middle East",
           5915148.550000001
          ],
          [
           "Europe",
           "Middle East",
           5915148.550000001
          ],
          [
           "Europe",
           "Middle East",
           5915148.550000001
          ],
          [
           "Europe",
           "Middle East",
           5915148.550000001
          ],
          [
           "Europe",
           "Middle East",
           5915148.550000001
          ],
          [
           "Europe",
           "Middle East",
           5915148.550000001
          ],
          [
           "Europe",
           "Middle East",
           5915148.550000001
          ],
          [
           "Europe",
           "Middle East",
           5915148.550000001
          ],
          [
           "Europe",
           "Middle East",
           5915148.550000001
          ],
          [
           "Europe",
           "Middle East",
           5915148.550000001
          ],
          [
           "Europe",
           "Middle East",
           5915148.550000001
          ],
          [
           "Europe",
           "Middle East",
           5915148.550000001
          ],
          [
           "Europe",
           "Middle East",
           5915148.550000001
          ],
          [
           "Europe",
           "Middle East",
           5915148.550000001
          ],
          [
           "Europe",
           "Middle East",
           5915148.550000001
          ]
         ],
         "hoverinfo": "text",
         "hovertext": "Europe → Middle East<br>Amount: $5,915,148.55",
         "lat": [
          50,
          49.41594523320448,
          48.762282516520735,
          48.03901184994878,
          47.246133233488614,
          46.38364666714023,
          45.45155215090361,
          44.44984968477878,
          43.37853926876575,
          42.237620902864506,
          41.02709458707503,
          39.74696032139734,
          38.39721810583143,
          36.97786794037731,
          35.48890982503496,
          33.9303437598044,
          32.30216974468563,
          30.60438777967864,
          28.836997864783427,
          27
         ],
         "line": {
          "color": "rgba(70, 130, 180, 0.36)",
          "width": 1.839813074502067
         },
         "lon": [
          10,
          11.842105263157897,
          13.684210526315788,
          15.526315789473681,
          17.36842105263158,
          19.210526315789473,
          21.052631578947366,
          22.89473684210526,
          24.736842105263158,
          26.578947368421055,
          28.421052631578945,
          30.263157894736842,
          32.10526315789474,
          33.94736842105263,
          35.78947368421052,
          37.63157894736842,
          39.473684210526315,
          41.315789473684205,
          43.1578947368421,
          45
         ],
         "mode": "lines",
         "showlegend": false,
         "type": "scattermapbox"
        },
        {
         "customdata": [
          [
           "Latin America",
           "Middle East",
           7798331.86
          ],
          [
           "Latin America",
           "Middle East",
           7798331.86
          ],
          [
           "Latin America",
           "Middle East",
           7798331.86
          ],
          [
           "Latin America",
           "Middle East",
           7798331.86
          ],
          [
           "Latin America",
           "Middle East",
           7798331.86
          ],
          [
           "Latin America",
           "Middle East",
           7798331.86
          ],
          [
           "Latin America",
           "Middle East",
           7798331.86
          ],
          [
           "Latin America",
           "Middle East",
           7798331.86
          ],
          [
           "Latin America",
           "Middle East",
           7798331.86
          ],
          [
           "Latin America",
           "Middle East",
           7798331.86
          ],
          [
           "Latin America",
           "Middle East",
           7798331.86
          ],
          [
           "Latin America",
           "Middle East",
           7798331.86
          ],
          [
           "Latin America",
           "Middle East",
           7798331.86
          ],
          [
           "Latin America",
           "Middle East",
           7798331.86
          ],
          [
           "Latin America",
           "Middle East",
           7798331.86
          ],
          [
           "Latin America",
           "Middle East",
           7798331.86
          ],
          [
           "Latin America",
           "Middle East",
           7798331.86
          ],
          [
           "Latin America",
           "Middle East",
           7798331.86
          ],
          [
           "Latin America",
           "Middle East",
           7798331.86
          ],
          [
           "Latin America",
           "Middle East",
           7798331.86
          ]
         ],
         "hoverinfo": "text",
         "hovertext": "Latin America → Middle East<br>Amount: $7,798,331.86",
         "lat": [
          -10,
          -7.055401662049863,
          -4.221606648199446,
          -1.4986149584487531,
          1.1135734072022154,
          3.614958448753461,
          6.005540166204986,
          8.285318559556785,
          10.454293628808864,
          12.51246537396122,
          14.45983379501385,
          16.29639889196676,
          18.022160664819943,
          19.637119113573405,
          21.141274238227144,
          22.534626038781166,
          23.817174515235457,
          24.988919667590025,
          26.049861495844873,
          27
         ],
         "line": {
          "color": "rgba(70, 130, 180, 0.38)",
          "width": 2.4255473542306936
         },
         "lon": [
          -60,
          -54.47368421052633,
          -48.94736842105263,
          -43.42105263157894,
          -37.89473684210527,
          -32.36842105263158,
          -26.842105263157897,
          -21.31578947368421,
          -15.789473684210527,
          -10.263157894736848,
          -4.736842105263159,
          0.7894736842105292,
          6.315789473684209,
          11.842105263157885,
          17.368421052631575,
          22.894736842105264,
          28.421052631578938,
          33.947368421052616,
          39.473684210526315,
          45
         ],
         "mode": "lines",
         "showlegend": false,
         "type": "scattermapbox"
        },
        {
         "customdata": [
          [
           "Middle East",
           "Central Asia",
           48226219
          ],
          [
           "Middle East",
           "Central Asia",
           48226219
          ],
          [
           "Middle East",
           "Central Asia",
           48226219
          ],
          [
           "Middle East",
           "Central Asia",
           48226219
          ],
          [
           "Middle East",
           "Central Asia",
           48226219
          ],
          [
           "Middle East",
           "Central Asia",
           48226219
          ],
          [
           "Middle East",
           "Central Asia",
           48226219
          ],
          [
           "Middle East",
           "Central Asia",
           48226219
          ],
          [
           "Middle East",
           "Central Asia",
           48226219
          ],
          [
           "Middle East",
           "Central Asia",
           48226219
          ],
          [
           "Middle East",
           "Central Asia",
           48226219
          ],
          [
           "Middle East",
           "Central Asia",
           48226219
          ],
          [
           "Middle East",
           "Central Asia",
           48226219
          ],
          [
           "Middle East",
           "Central Asia",
           48226219
          ],
          [
           "Middle East",
           "Central Asia",
           48226219
          ],
          [
           "Middle East",
           "Central Asia",
           48226219
          ],
          [
           "Middle East",
           "Central Asia",
           48226219
          ],
          [
           "Middle East",
           "Central Asia",
           48226219
          ],
          [
           "Middle East",
           "Central Asia",
           48226219
          ],
          [
           "Middle East",
           "Central Asia",
           48226219
          ]
         ],
         "hoverinfo": "text",
         "hovertext": "Middle East → Central Asia<br>Amount: $48,226,219.00",
         "lat": [
          27,
          28.349859112765646,
          29.65499703756317,
          30.915413774392583,
          32.13110932325389,
          33.302083684147085,
          34.42833685707216,
          35.50986884202912,
          36.54667963901798,
          37.538769248038726,
          38.48613766909136,
          39.38878490217588,
          40.246710947292286,
          41.05991580444058,
          41.82839947362076,
          42.55216195483283,
          43.231203248076795,
          43.865523353352636,
          44.455122270660375,
          45
         ],
         "line": {
          "color": "rgba(70, 130, 180, 0.80)",
          "width": 15
         },
         "lon": [
          45,
          46.05263157894738,
          47.10526315789474,
          48.157894736842096,
          49.210526315789465,
          50.26315789473685,
          51.31578947368421,
          52.368421052631575,
          53.421052631578945,
          54.47368421052632,
          55.526315789473685,
          56.578947368421055,
          57.63157894736842,
          58.684210526315795,
          59.73684210526315,
          60.78947368421052,
          61.84210526315789,
          62.89473684210526,
          63.94736842105263,
          65
         ],
         "mode": "lines",
         "showlegend": false,
         "type": "scattermapbox"
        },
        {
         "customdata": [
          [
           "Middle East",
           "Southeast Asia",
           33486319.98
          ],
          [
           "Middle East",
           "Southeast Asia",
           33486319.98
          ],
          [
           "Middle East",
           "Southeast Asia",
           33486319.98
          ],
          [
           "Middle East",
           "Southeast Asia",
           33486319.98
          ],
          [
           "Middle East",
           "Southeast Asia",
           33486319.98
          ],
          [
           "Middle East",
           "Southeast Asia",
           33486319.98
          ],
          [
           "Middle East",
           "Southeast Asia",
           33486319.98
          ],
          [
           "Middle East",
           "Southeast Asia",
           33486319.98
          ],
          [
           "Middle East",
           "Southeast Asia",
           33486319.98
          ],
          [
           "Middle East",
           "Southeast Asia",
           33486319.98
          ],
          [
           "Middle East",
           "Southeast Asia",
           33486319.98
          ],
          [
           "Middle East",
           "Southeast Asia",
           33486319.98
          ],
          [
           "Middle East",
           "Southeast Asia",
           33486319.98
          ],
          [
           "Middle East",
           "Southeast Asia",
           33486319.98
          ],
          [
           "Middle East",
           "Southeast Asia",
           33486319.98
          ],
          [
           "Middle East",
           "Southeast Asia",
           33486319.98
          ],
          [
           "Middle East",
           "Southeast Asia",
           33486319.98
          ],
          [
           "Middle East",
           "Southeast Asia",
           33486319.98
          ],
          [
           "Middle East",
           "Southeast Asia",
           33486319.98
          ],
          [
           "Middle East",
           "Southeast Asia",
           33486319.98
          ]
         ],
         "hoverinfo": "text",
         "hovertext": "Middle East → Southeast Asia<br>Amount: $33,486,319.98",
         "lat": [
          27,
          27.038099655062737,
          26.972550810440136,
          26.803353466132204,
          26.530507622138945,
          26.15401327846035,
          25.673870435096415,
          25.090079092047148,
          24.402639249312557,
          23.611550906892628,
          22.716814064787364,
          21.718428722996766,
          20.616394881520836,
          19.410712540359576,
          18.101381699512977,
          16.688402358981048,
          15.171774518763787,
          13.551498178861193,
          11.827573339273261,
          10
         ],
         "line": {
          "color": "rgba(70, 130, 180, 0.65)",
          "width": 10.415388353376823
         },
         "lon": [
          45,
          48.15789473684211,
          51.315789473684205,
          54.47368421052631,
          57.63157894736842,
          60.789473684210535,
          63.94736842105263,
          67.10526315789474,
          70.26315789473684,
          73.42105263157895,
          76.57894736842105,
          79.73684210526315,
          82.89473684210526,
          86.05263157894737,
          89.21052631578947,
          92.36842105263158,
          95.52631578947367,
          98.68421052631578,
          101.84210526315789,
          105
         ],
         "mode": "lines",
         "showlegend": false,
         "type": "scattermapbox"
        },
        {
         "customdata": [
          [
           "North America",
           "Europe",
           4646043.73
          ],
          [
           "North America",
           "Europe",
           4646043.73
          ],
          [
           "North America",
           "Europe",
           4646043.73
          ],
          [
           "North America",
           "Europe",
           4646043.73
          ],
          [
           "North America",
           "Europe",
           4646043.73
          ],
          [
           "North America",
           "Europe",
           4646043.73
          ],
          [
           "North America",
           "Europe",
           4646043.73
          ],
          [
           "North America",
           "Europe",
           4646043.73
          ],
          [
           "North America",
           "Europe",
           4646043.73
          ],
          [
           "North America",
           "Europe",
           4646043.73
          ],
          [
           "North America",
           "Europe",
           4646043.73
          ],
          [
           "North America",
           "Europe",
           4646043.73
          ],
          [
           "North America",
           "Europe",
           4646043.73
          ],
          [
           "North America",
           "Europe",
           4646043.73
          ],
          [
           "North America",
           "Europe",
           4646043.73
          ],
          [
           "North America",
           "Europe",
           4646043.73
          ],
          [
           "North America",
           "Europe",
           4646043.73
          ],
          [
           "North America",
           "Europe",
           4646043.73
          ],
          [
           "North America",
           "Europe",
           4646043.73
          ],
          [
           "North America",
           "Europe",
           4646043.73
          ]
         ],
         "hoverinfo": "text",
         "hovertext": "North America → Europe<br>Amount: $4,646,043.73",
         "lat": [
          40,
          41.523545706371195,
          42.936288088642655,
          44.238227146814395,
          45.42936288088643,
          46.50969529085873,
          47.4792243767313,
          48.33795013850415,
          49.08587257617729,
          49.7229916897507,
          50.249307479224385,
          50.664819944598335,
          50.96952908587258,
          51.16343490304709,
          51.24653739612188,
          51.21883656509695,
          51.0803324099723,
          50.83102493074793,
          50.470914127423825,
          50
         ],
         "line": {
          "color": "rgba(70, 130, 180, 0.35)",
          "width": 1.4450781627728273
         },
         "lon": [
          -100,
          -94.21052631578948,
          -88.42105263157895,
          -82.63157894736841,
          -76.84210526315789,
          -71.05263157894738,
          -65.26315789473685,
          -59.47368421052631,
          -53.684210526315795,
          -47.894736842105274,
          -42.10526315789474,
          -36.315789473684205,
          -30.52631578947369,
          -24.736842105263168,
          -18.947368421052634,
          -13.157894736842103,
          -7.368421052631585,
          -1.5789473684210638,
          4.210526315789466,
          10
         ],
         "mode": "lines",
         "showlegend": false,
         "type": "scattermapbox"
        },
        {
         "customdata": [
          [
           "North America",
           "Middle East",
           10590745.35
          ],
          [
           "North America",
           "Middle East",
           10590745.35
          ],
          [
           "North America",
           "Middle East",
           10590745.35
          ],
          [
           "North America",
           "Middle East",
           10590745.35
          ],
          [
           "North America",
           "Middle East",
           10590745.35
          ],
          [
           "North America",
           "Middle East",
           10590745.35
          ],
          [
           "North America",
           "Middle East",
           10590745.35
          ],
          [
           "North America",
           "Middle East",
           10590745.35
          ],
          [
           "North America",
           "Middle East",
           10590745.35
          ],
          [
           "North America",
           "Middle East",
           10590745.35
          ],
          [
           "North America",
           "Middle East",
           10590745.35
          ],
          [
           "North America",
           "Middle East",
           10590745.35
          ],
          [
           "North America",
           "Middle East",
           10590745.35
          ],
          [
           "North America",
           "Middle East",
           10590745.35
          ],
          [
           "North America",
           "Middle East",
           10590745.35
          ],
          [
           "North America",
           "Middle East",
           10590745.35
          ],
          [
           "North America",
           "Middle East",
           10590745.35
          ],
          [
           "North America",
           "Middle East",
           10590745.35
          ],
          [
           "North America",
           "Middle East",
           10590745.35
          ],
          [
           "North America",
           "Middle East",
           10590745.35
          ]
         ],
         "hoverinfo": "text",
         "hovertext": "North America → Middle East<br>Amount: $10,590,745.35",
         "lat": [
          40,
          40.31301939058172,
          40.51523545706371,
          40.60664819944598,
          40.58725761772853,
          40.45706371191137,
          40.21606648199446,
          39.86426592797783,
          39.4016620498615,
          38.82825484764544,
          38.14404432132964,
          37.34903047091413,
          36.443213296398895,
          35.42659279778393,
          34.29916897506925,
          33.060941828254855,
          31.711911357340725,
          30.25207756232687,
          28.681440443213297,
          27
         ],
         "line": {
          "color": "rgba(70, 130, 180, 0.41)",
          "width": 3.2940832506483657
         },
         "lon": [
          -100,
          -92.36842105263159,
          -84.73684210526315,
          -77.10526315789473,
          -69.47368421052632,
          -61.84210526315791,
          -54.21052631578948,
          -46.57894736842105,
          -38.94736842105263,
          -31.315789473684227,
          -23.684210526315788,
          -16.052631578947366,
          -8.421052631578952,
          -0.7894736842105416,
          6.842105263157887,
          14.473684210526319,
          22.105263157894726,
          29.736842105263136,
          37.368421052631575,
          45
         ],
         "mode": "lines",
         "showlegend": false,
         "type": "scattermapbox"
        },
        {
         "customdata": [
          [
           "South Asia",
           "Middle East",
           5440545.04
          ],
          [
           "South Asia",
           "Middle East",
           5440545.04
          ],
          [
           "South Asia",
           "Middle East",
           5440545.04
          ],
          [
           "South Asia",
           "Middle East",
           5440545.04
          ],
          [
           "South Asia",
           "Middle East",
           5440545.04
          ],
          [
           "South Asia",
           "Middle East",
           5440545.04
          ],
          [
           "South Asia",
           "Middle East",
           5440545.04
          ],
          [
           "South Asia",
           "Middle East",
           5440545.04
          ],
          [
           "South Asia",
           "Middle East",
           5440545.04
          ],
          [
           "South Asia",
           "Middle East",
           5440545.04
          ],
          [
           "South Asia",
           "Middle East",
           5440545.04
          ],
          [
           "South Asia",
           "Middle East",
           5440545.04
          ],
          [
           "South Asia",
           "Middle East",
           5440545.04
          ],
          [
           "South Asia",
           "Middle East",
           5440545.04
          ],
          [
           "South Asia",
           "Middle East",
           5440545.04
          ],
          [
           "South Asia",
           "Middle East",
           5440545.04
          ],
          [
           "South Asia",
           "Middle East",
           5440545.04
          ],
          [
           "South Asia",
           "Middle East",
           5440545.04
          ],
          [
           "South Asia",
           "Middle East",
           5440545.04
          ],
          [
           "South Asia",
           "Middle East",
           5440545.04
          ]
         ],
         "hoverinfo": "text",
         "hovertext": "South Asia → Middle East<br>Amount: $5,440,545.04",
         "lat": [
          20,
          20.829228685451785,
          21.60725652281243,
          22.33408351208194,
          23.009709653260323,
          23.634134946347576,
          24.207359391343683,
          24.729382988248663,
          25.200205737062515,
          25.619827637785225,
          25.988248690416803,
          26.305468894957247,
          26.571488251406556,
          26.786306759764738,
          26.94992442003178,
          27.062341232207697,
          27.12355719629247,
          27.133572312286113,
          27.092386580188624,
          27
         ],
         "line": {
          "color": "rgba(70, 130, 180, 0.36)",
          "width": 1.692195185361722
         },
         "lon": [
          75,
          73.42105263157896,
          71.84210526315789,
          70.26315789473684,
          68.6842105263158,
          67.10526315789475,
          65.52631578947368,
          63.94736842105263,
          62.368421052631575,
          60.789473684210535,
          59.21052631578948,
          57.631578947368425,
          56.05263157894737,
          54.47368421052632,
          52.89473684210526,
          51.315789473684205,
          49.73684210526316,
          48.15789473684211,
          46.578947368421055,
          45
         ],
         "mode": "lines",
         "showlegend": false,
         "type": "scattermapbox"
        },
        {
         "customdata": [
          [
           874798.97,
           5552112.78,
           -4677313.8100000005,
           "Africa"
          ],
          [
           1127800.99,
           17499290.02,
           -16371489.03,
           "Asia Pacific"
          ],
          [
           654512.99,
           43489845.73,
           -42835332.739999995,
           "Caribbean"
          ],
          [
           48753914.99,
           13450115.83,
           35303799.160000004,
           "Central Asia"
          ],
          [
           6545044.47,
           6885869.07,
           -340824.60000000056,
           "Europe"
          ],
          [
           6277920.2700000005,
           10194766.540000001,
           -3916846.2700000005,
           "Latin America"
          ],
          [
           105059536.71,
           84499534.24,
           20560002.47,
           "Middle East"
          ],
          [
           645744.36,
           17838163.39,
           -17192419.03,
           "North America"
          ],
          [
           904343.14,
           5894135.18,
           -4989792.04,
           "South Asia"
          ],
          [
           35948692.910000004,
           1488477.02,
           34460215.89,
           "Southeast Asia"
          ]
         ],
         "hovertemplate": "<b>%{text}</b><br>Inflow: $%{customdata[0]:,.2f}<br>Outflow: $%{customdata[1]:,.2f}<br>Net Flow: $%{customdata[2]:,.2f}",
         "lat": {
          "bdata": "AAAAAAAAFEAAAAAAAAA+QAAAAAAAADRAAAAAAACARkAAAAAAAABJQAAAAAAAACTAAAAAAAAAO0AAAAAAAABEQAAAAAAAADRAAAAAAAAAJEA=",
          "dtype": "f8"
         },
         "lon": {
          "bdata": "AAAAAAAANEAAAAAAAABeQAAAAAAAwFLAAAAAAABAUEAAAAAAAAAkQAAAAAAAAE7AAAAAAACARkAAAAAAAABZwAAAAAAAwFJAAAAAAABAWkA=",
          "dtype": "f8"
         },
         "marker": {
          "cmid": 0,
          "color": {
           "bdata": "PgrXc7DXUcGPwvUg5DlvwR6F6yXsbITBFa5HuYvVgEFwZmZmYs0UwSpcjyIX4k3BuB6FJ4ibc0FI4XowXmVwwSlcjwLYCFPBUrgev5FugEE=",
           "dtype": "f8"
          },
          "colorbar": {
           "thickness": 15,
           "title": {
            "text": "Net Flow<br>(Inflow - Outflow)"
           }
          },
          "colorscale": [
           [
            0,
            "rgb(103,0,31)"
           ],
           [
            0.1,
            "rgb(178,24,43)"
           ],
           [
            0.2,
            "rgb(214,96,77)"
           ],
           [
            0.3,
            "rgb(244,165,130)"
           ],
           [
            0.4,
            "rgb(253,219,199)"
           ],
           [
            0.5,
            "rgb(247,247,247)"
           ],
           [
            0.6,
            "rgb(209,229,240)"
           ],
           [
            0.7,
            "rgb(146,197,222)"
           ],
           [
            0.8,
            "rgb(67,147,195)"
           ],
           [
            0.9,
            "rgb(33,102,172)"
           ],
           [
            1,
            "rgb(5,48,97)"
           ]
          ],
          "opacity": 0.8,
          "size": {
           "bdata": "7RCPX/qxJUBEQ27xy+koQA0CIXXapC9ADMZH4Co0MkBniAaT7IonQEyQNPtRWChAAAAAAACAQUDLor3QIOAoQIaf/G4RyyVApscgGPPfLUA=",
           "dtype": "f8"
          }
         },
         "mode": "markers",
         "name": "Regions",
         "text": [
          "Africa",
          "Asia Pacific",
          "Caribbean",
          "Central Asia",
          "Europe",
          "Latin America",
          "Middle East",
          "North America",
          "South Asia",
          "Southeast Asia"
         ],
         "type": "scattermapbox"
        }
       ],
       "layout": {
        "height": 700,
        "mapbox": {
         "center": {
          "lat": 20,
          "lon": 0
         },
         "style": "carto-positron",
         "zoom": 1.2
        },
        "margin": {
         "b": 0,
         "l": 0,
         "r": 0,
         "t": 50
        },
        "template": {
         "data": {
          "bar": [
           {
            "error_x": {
             "color": "#2a3f5f"
            },
            "error_y": {
             "color": "#2a3f5f"
            },
            "marker": {
             "line": {
              "color": "#E5ECF6",
              "width": 0.5
             },
             "pattern": {
              "fillmode": "overlay",
              "size": 10,
              "solidity": 0.2
             }
            },
            "type": "bar"
           }
          ],
          "barpolar": [
           {
            "marker": {
             "line": {
              "color": "#E5ECF6",
              "width": 0.5
             },
             "pattern": {
              "fillmode": "overlay",
              "size": 10,
              "solidity": 0.2
             }
            },
            "type": "barpolar"
           }
          ],
          "carpet": [
           {
            "aaxis": {
             "endlinecolor": "#2a3f5f",
             "gridcolor": "white",
             "linecolor": "white",
             "minorgridcolor": "white",
             "startlinecolor": "#2a3f5f"
            },
            "baxis": {
             "endlinecolor": "#2a3f5f",
             "gridcolor": "white",
             "linecolor": "white",
             "minorgridcolor": "white",
             "startlinecolor": "#2a3f5f"
            },
            "type": "carpet"
           }
          ],
          "choropleth": [
           {
            "colorbar": {
             "outlinewidth": 0,
             "ticks": ""
            },
            "type": "choropleth"
           }
          ],
          "contour": [
           {
            "colorbar": {
             "outlinewidth": 0,
             "ticks": ""
            },
            "colorscale": [
             [
              0,
              "#0d0887"
             ],
             [
              0.1111111111111111,
              "#46039f"
             ],
             [
              0.2222222222222222,
              "#7201a8"
             ],
             [
              0.3333333333333333,
              "#9c179e"
             ],
             [
              0.4444444444444444,
              "#bd3786"
             ],
             [
              0.5555555555555556,
              "#d8576b"
             ],
             [
              0.6666666666666666,
              "#ed7953"
             ],
             [
              0.7777777777777778,
              "#fb9f3a"
             ],
             [
              0.8888888888888888,
              "#fdca26"
             ],
             [
              1,
              "#f0f921"
             ]
            ],
            "type": "contour"
           }
          ],
          "contourcarpet": [
           {
            "colorbar": {
             "outlinewidth": 0,
             "ticks": ""
            },
            "type": "contourcarpet"
           }
          ],
          "heatmap": [
           {
            "colorbar": {
             "outlinewidth": 0,
             "ticks": ""
            },
            "colorscale": [
             [
              0,
              "#0d0887"
             ],
             [
              0.1111111111111111,
              "#46039f"
             ],
             [
              0.2222222222222222,
              "#7201a8"
             ],
             [
              0.3333333333333333,
              "#9c179e"
             ],
             [
              0.4444444444444444,
              "#bd3786"
             ],
             [
              0.5555555555555556,
              "#d8576b"
             ],
             [
              0.6666666666666666,
              "#ed7953"
             ],
             [
              0.7777777777777778,
              "#fb9f3a"
             ],
             [
              0.8888888888888888,
              "#fdca26"
             ],
             [
              1,
              "#f0f921"
             ]
            ],
            "type": "heatmap"
           }
          ],
          "histogram": [
           {
            "marker": {
             "pattern": {
              "fillmode": "overlay",
              "size": 10,
              "solidity": 0.2
             }
            },
            "type": "histogram"
           }
          ],
          "histogram2d": [
           {
            "colorbar": {
             "outlinewidth": 0,
             "ticks": ""
            },
            "colorscale": [
             [
              0,
              "#0d0887"
             ],
             [
              0.1111111111111111,
              "#46039f"
             ],
             [
              0.2222222222222222,
              "#7201a8"
             ],
             [
              0.3333333333333333,
              "#9c179e"
             ],
             [
              0.4444444444444444,
              "#bd3786"
             ],
             [
              0.5555555555555556,
              "#d8576b"
             ],
             [
              0.6666666666666666,
              "#ed7953"
             ],
             [
              0.7777777777777778,
              "#fb9f3a"
             ],
             [
              0.8888888888888888,
              "#fdca26"
             ],
             [
              1,
              "#f0f921"
             ]
            ],
            "type": "histogram2d"
           }
          ],
          "histogram2dcontour": [
           {
            "colorbar": {
             "outlinewidth": 0,
             "ticks": ""
            },
            "colorscale": [
             [
              0,
              "#0d0887"
             ],
             [
              0.1111111111111111,
              "#46039f"
             ],
             [
              0.2222222222222222,
              "#7201a8"
             ],
             [
              0.3333333333333333,
              "#9c179e"
             ],
             [
              0.4444444444444444,
              "#bd3786"
             ],
             [
              0.5555555555555556,
              "#d8576b"
             ],
             [
              0.6666666666666666,
              "#ed7953"
             ],
             [
              0.7777777777777778,
              "#fb9f3a"
             ],
             [
              0.8888888888888888,
              "#fdca26"
             ],
             [
              1,
              "#f0f921"
             ]
            ],
            "type": "histogram2dcontour"
           }
          ],
          "mesh3d": [
           {
            "colorbar": {
             "outlinewidth": 0,
             "ticks": ""
            },
            "type": "mesh3d"
           }
          ],
          "parcoords": [
           {
            "line": {
             "colorbar": {
              "outlinewidth": 0,
              "ticks": ""
             }
            },
            "type": "parcoords"
           }
          ],
          "pie": [
           {
            "automargin": true,
            "type": "pie"
           }
          ],
          "scatter": [
           {
            "fillpattern": {
             "fillmode": "overlay",
             "size": 10,
             "solidity": 0.2
            },
            "type": "scatter"
           }
          ],
          "scatter3d": [
           {
            "line": {
             "colorbar": {
              "outlinewidth": 0,
              "ticks": ""
             }
            },
            "marker": {
             "colorbar": {
              "outlinewidth": 0,
              "ticks": ""
             }
            },
            "type": "scatter3d"
           }
          ],
          "scattercarpet": [
           {
            "marker": {
             "colorbar": {
              "outlinewidth": 0,
              "ticks": ""
             }
            },
            "type": "scattercarpet"
           }
          ],
          "scattergeo": [
           {
            "marker": {
             "colorbar": {
              "outlinewidth": 0,
              "ticks": ""
             }
            },
            "type": "scattergeo"
           }
          ],
          "scattergl": [
           {
            "marker": {
             "colorbar": {
              "outlinewidth": 0,
              "ticks": ""
             }
            },
            "type": "scattergl"
           }
          ],
          "scattermap": [
           {
            "marker": {
             "colorbar": {
              "outlinewidth": 0,
              "ticks": ""
             }
            },
            "type": "scattermap"
           }
          ],
          "scattermapbox": [
           {
            "marker": {
             "colorbar": {
              "outlinewidth": 0,
              "ticks": ""
             }
            },
            "type": "scattermapbox"
           }
          ],
          "scatterpolar": [
           {
            "marker": {
             "colorbar": {
              "outlinewidth": 0,
              "ticks": ""
             }
            },
            "type": "scatterpolar"
           }
          ],
          "scatterpolargl": [
           {
            "marker": {
             "colorbar": {
              "outlinewidth": 0,
              "ticks": ""
             }
            },
            "type": "scatterpolargl"
           }
          ],
          "scatterternary": [
           {
            "marker": {
             "colorbar": {
              "outlinewidth": 0,
              "ticks": ""
             }
            },
            "type": "scatterternary"
           }
          ],
          "surface": [
           {
            "colorbar": {
             "outlinewidth": 0,
             "ticks": ""
            },
            "colorscale": [
             [
              0,
              "#0d0887"
             ],
             [
              0.1111111111111111,
              "#46039f"
             ],
             [
              0.2222222222222222,
              "#7201a8"
             ],
             [
              0.3333333333333333,
              "#9c179e"
             ],
             [
              0.4444444444444444,
              "#bd3786"
             ],
             [
              0.5555555555555556,
              "#d8576b"
             ],
             [
              0.6666666666666666,
              "#ed7953"
             ],
             [
              0.7777777777777778,
              "#fb9f3a"
             ],
             [
              0.8888888888888888,
              "#fdca26"
             ],
             [
              1,
              "#f0f921"
             ]
            ],
            "type": "surface"
           }
          ],
          "table": [
           {
            "cells": {
             "fill": {
              "color": "#EBF0F8"
             },
             "line": {
              "color": "white"
             }
            },
            "header": {
             "fill": {
              "color": "#C8D4E3"
             },
             "line": {
              "color": "white"
             }
            },
            "type": "table"
           }
          ]
         },
         "layout": {
          "annotationdefaults": {
           "arrowcolor": "#2a3f5f",
           "arrowhead": 0,
           "arrowwidth": 1
          },
          "autotypenumbers": "strict",
          "coloraxis": {
           "colorbar": {
            "outlinewidth": 0,
            "ticks": ""
           }
          },
          "colorscale": {
           "diverging": [
            [
             0,
             "#8e0152"
            ],
            [
             0.1,
             "#c51b7d"
            ],
            [
             0.2,
             "#de77ae"
            ],
            [
             0.3,
             "#f1b6da"
            ],
            [
             0.4,
             "#fde0ef"
            ],
            [
             0.5,
             "#f7f7f7"
            ],
            [
             0.6,
             "#e6f5d0"
            ],
            [
             0.7,
             "#b8e186"
            ],
            [
             0.8,
             "#7fbc41"
            ],
            [
             0.9,
             "#4d9221"
            ],
            [
             1,
             "#276419"
            ]
           ],
           "sequential": [
            [
             0,
             "#0d0887"
            ],
            [
             0.1111111111111111,
             "#46039f"
            ],
            [
             0.2222222222222222,
             "#7201a8"
            ],
            [
             0.3333333333333333,
             "#9c179e"
            ],
            [
             0.4444444444444444,
             "#bd3786"
            ],
            [
             0.5555555555555556,
             "#d8576b"
            ],
            [
             0.6666666666666666,
             "#ed7953"
            ],
            [
             0.7777777777777778,
             "#fb9f3a"
            ],
            [
             0.8888888888888888,
             "#fdca26"
            ],
            [
             1,
             "#f0f921"
            ]
           ],
           "sequentialminus": [
            [
             0,
             "#0d0887"
            ],
            [
             0.1111111111111111,
             "#46039f"
            ],
            [
             0.2222222222222222,
             "#7201a8"
            ],
            [
             0.3333333333333333,
             "#9c179e"
            ],
            [
             0.4444444444444444,
             "#bd3786"
            ],
            [
             0.5555555555555556,
             "#d8576b"
            ],
            [
             0.6666666666666666,
             "#ed7953"
            ],
            [
             0.7777777777777778,
             "#fb9f3a"
            ],
            [
             0.8888888888888888,
             "#fdca26"
            ],
            [
             1,
             "#f0f921"
            ]
           ]
          },
          "colorway": [
           "#636efa",
           "#EF553B",
           "#00cc96",
           "#ab63fa",
           "#FFA15A",
           "#19d3f3",
           "#FF6692",
           "#B6E880",
           "#FF97FF",
           "#FECB52"
          ],
          "font": {
           "color": "#2a3f5f"
          },
          "geo": {
           "bgcolor": "white",
           "lakecolor": "white",
           "landcolor": "#E5ECF6",
           "showlakes": true,
           "showland": true,
           "subunitcolor": "white"
          },
          "hoverlabel": {
           "align": "left"
          },
          "hovermode": "closest",
          "mapbox": {
           "style": "light"
          },
          "paper_bgcolor": "white",
          "plot_bgcolor": "#E5ECF6",
          "polar": {
           "angularaxis": {
            "gridcolor": "white",
            "linecolor": "white",
            "ticks": ""
           },
           "bgcolor": "#E5ECF6",
           "radialaxis": {
            "gridcolor": "white",
            "linecolor": "white",
            "ticks": ""
           }
          },
          "scene": {
           "xaxis": {
            "backgroundcolor": "#E5ECF6",
            "gridcolor": "white",
            "gridwidth": 2,
            "linecolor": "white",
            "showbackground": true,
            "ticks": "",
            "zerolinecolor": "white"
           },
           "yaxis": {
            "backgroundcolor": "#E5ECF6",
            "gridcolor": "white",
            "gridwidth": 2,
            "linecolor": "white",
            "showbackground": true,
            "ticks": "",
            "zerolinecolor": "white"
           },
           "zaxis": {
            "backgroundcolor": "#E5ECF6",
            "gridcolor": "white",
            "gridwidth": 2,
            "linecolor": "white",
            "showbackground": true,
            "ticks": "",
            "zerolinecolor": "white"
           }
          },
          "shapedefaults": {
           "line": {
            "color": "#2a3f5f"
           }
          },
          "ternary": {
           "aaxis": {
            "gridcolor": "white",
            "linecolor": "white",
            "ticks": ""
           },
           "baxis": {
            "gridcolor": "white",
            "linecolor": "white",
            "ticks": ""
           },
           "bgcolor": "#E5ECF6",
           "caxis": {
            "gridcolor": "white",
            "linecolor": "white",
            "ticks": ""
           }
          },
          "title": {
           "x": 0.05
          },
          "xaxis": {
           "automargin": true,
           "gridcolor": "white",
           "linecolor": "white",
           "ticks": "",
           "title": {
            "standoff": 15
           },
           "zerolinecolor": "white",
           "zerolinewidth": 2
          },
          "yaxis": {
           "automargin": true,
           "gridcolor": "white",
           "linecolor": "white",
           "ticks": "",
           "title": {
            "standoff": 15
           },
           "zerolinecolor": "white",
           "zerolinewidth": 2
          }
         }
        },
        "title": {
         "text": "Global Banking Transaction Flows Between Regions"
        },
        "width": 1200
       }
      }
     },
     "metadata": {},
     "output_type": "display_data"
    },
    {
     "data": {
      "application/vnd.jupyter.widget-view+json": {
       "model_id": "d087eda9894c4abca7270e4adaeae6ec",
       "version_major": 2,
       "version_minor": 0
      },
      "text/plain": [
       "VBox(children=(HTML(value=\"<h2 style='color: #333;'>Banking Flows Analysis Dashboard</h2>\"), HTML(value=\"<p st…"
      ]
     },
     "metadata": {},
     "output_type": "display_data"
    },
    {
     "data": {
      "application/vnd.plotly.v1+json": {
       "config": {
        "plotlyServerURL": "https://plot.ly"
       },
       "data": [
        {
         "customdata": [
          [
           "Africa",
           "Middle East",
           4794660.58
          ],
          [
           "Africa",
           "Middle East",
           4794660.58
          ],
          [
           "Africa",
           "Middle East",
           4794660.58
          ],
          [
           "Africa",
           "Middle East",
           4794660.58
          ],
          [
           "Africa",
           "Middle East",
           4794660.58
          ],
          [
           "Africa",
           "Middle East",
           4794660.58
          ],
          [
           "Africa",
           "Middle East",
           4794660.58
          ],
          [
           "Africa",
           "Middle East",
           4794660.58
          ],
          [
           "Africa",
           "Middle East",
           4794660.58
          ],
          [
           "Africa",
           "Middle East",
           4794660.58
          ],
          [
           "Africa",
           "Middle East",
           4794660.58
          ],
          [
           "Africa",
           "Middle East",
           4794660.58
          ],
          [
           "Africa",
           "Middle East",
           4794660.58
          ],
          [
           "Africa",
           "Middle East",
           4794660.58
          ],
          [
           "Africa",
           "Middle East",
           4794660.58
          ],
          [
           "Africa",
           "Middle East",
           4794660.58
          ],
          [
           "Africa",
           "Middle East",
           4794660.58
          ],
          [
           "Africa",
           "Middle East",
           4794660.58
          ],
          [
           "Africa",
           "Middle East",
           4794660.58
          ],
          [
           "Africa",
           "Middle East",
           4794660.58
          ]
         ],
         "hoverinfo": "text",
         "hovertext": "Africa → Middle East<br>Amount: $4,794,660.58",
         "lat": [
          5,
          6.6560357858663295,
          8.25672256628552,
          9.802060341257574,
          11.292049110782497,
          12.726688874860285,
          14.105979633490932,
          15.429921386674442,
          16.69851413441082,
          17.911757876700065,
          19.069652613542168,
          20.172198344937136,
          21.21939507088497,
          22.211242791385665,
          23.14774150643923,
          24.028891216045658,
          24.854691920204946,
          25.625143618917097,
          26.340246312182117,
          27
         ],
         "line": {
          "color": "rgba(70, 130, 180, 0.35)",
          "width": 1.4913030752006498
         },
         "lon": [
          20,
          21.315789473684212,
          22.63157894736842,
          23.94736842105263,
          25.263157894736842,
          26.578947368421055,
          27.89473684210526,
          29.210526315789473,
          30.52631578947368,
          31.842105263157897,
          33.15789473684211,
          34.473684210526315,
          35.78947368421053,
          37.10526315789474,
          38.421052631578945,
          39.73684210526316,
          41.05263157894736,
          42.368421052631575,
          43.68421052631579,
          45
         ],
         "mode": "lines",
         "showlegend": false,
         "type": "scattermapbox"
        },
        {
         "customdata": [
          [
           "Asia Pacific",
           "Middle East",
           16083014.38
          ],
          [
           "Asia Pacific",
           "Middle East",
           16083014.38
          ],
          [
           "Asia Pacific",
           "Middle East",
           16083014.38
          ],
          [
           "Asia Pacific",
           "Middle East",
           16083014.38
          ],
          [
           "Asia Pacific",
           "Middle East",
           16083014.38
          ],
          [
           "Asia Pacific",
           "Middle East",
           16083014.38
          ],
          [
           "Asia Pacific",
           "Middle East",
           16083014.38
          ],
          [
           "Asia Pacific",
           "Middle East",
           16083014.38
          ],
          [
           "Asia Pacific",
           "Middle East",
           16083014.38
          ],
          [
           "Asia Pacific",
           "Middle East",
           16083014.38
          ],
          [
           "Asia Pacific",
           "Middle East",
           16083014.38
          ],
          [
           "Asia Pacific",
           "Middle East",
           16083014.38
          ],
          [
           "Asia Pacific",
           "Middle East",
           16083014.38
          ],
          [
           "Asia Pacific",
           "Middle East",
           16083014.38
          ],
          [
           "Asia Pacific",
           "Middle East",
           16083014.38
          ],
          [
           "Asia Pacific",
           "Middle East",
           16083014.38
          ],
          [
           "Asia Pacific",
           "Middle East",
           16083014.38
          ],
          [
           "Asia Pacific",
           "Middle East",
           16083014.38
          ],
          [
           "Asia Pacific",
           "Middle East",
           16083014.38
          ],
          [
           "Asia Pacific",
           "Middle East",
           16083014.38
          ]
         ],
         "hoverinfo": "text",
         "hovertext": "Asia Pacific → Middle East<br>Amount: $16,083,014.38",
         "lat": [
          30,
          30.839335180055407,
          31.567867036011084,
          32.18559556786703,
          32.69252077562327,
          33.088642659279785,
          33.37396121883656,
          33.54847645429363,
          33.612188365650965,
          33.56509695290859,
          33.40720221606648,
          33.13850415512465,
          32.7590027700831,
          32.26869806094183,
          31.667590027700832,
          30.955678670360115,
          30.13296398891967,
          29.1994459833795,
          28.155124653739612,
          27
         ],
         "line": {
          "color": "rgba(70, 130, 180, 0.47)",
          "width": 5.002366362164946
         },
         "lon": [
          120,
          116.05263157894738,
          112.10526315789474,
          108.15789473684208,
          104.21052631578948,
          100.26315789473686,
          96.31578947368422,
          92.36842105263158,
          88.42105263157895,
          84.47368421052633,
          80.52631578947368,
          76.57894736842105,
          72.63157894736842,
          68.6842105263158,
          64.73684210526316,
          60.78947368421053,
          56.8421052631579,
          52.89473684210527,
          48.94736842105264,
          45
         ],
         "mode": "lines",
         "showlegend": false,
         "type": "scattermapbox"
        },
        {
         "customdata": [
          [
           "Caribbean",
           "Middle East",
           42760814.73
          ],
          [
           "Caribbean",
           "Middle East",
           42760814.73
          ],
          [
           "Caribbean",
           "Middle East",
           42760814.73
          ],
          [
           "Caribbean",
           "Middle East",
           42760814.73
          ],
          [
           "Caribbean",
           "Middle East",
           42760814.73
          ],
          [
           "Caribbean",
           "Middle East",
           42760814.73
          ],
          [
           "Caribbean",
           "Middle East",
           42760814.73
          ],
          [
           "Caribbean",
           "Middle East",
           42760814.73
          ],
          [
           "Caribbean",
           "Middle East",
           42760814.73
          ],
          [
           "Caribbean",
           "Middle East",
           42760814.73
          ],
          [
           "Caribbean",
           "Middle East",
           42760814.73
          ],
          [
           "Caribbean",
           "Middle East",
           42760814.73
          ],
          [
           "Caribbean",
           "Middle East",
           42760814.73
          ],
          [
           "Caribbean",
           "Middle East",
           42760814.73
          ],
          [
           "Caribbean",
           "Middle East",
           42760814.73
          ],
          [
           "Caribbean",
           "Middle East",
           42760814.73
          ],
          [
           "Caribbean",
           "Middle East",
           42760814.73
          ],
          [
           "Caribbean",
           "Middle East",
           42760814.73
          ],
          [
           "Caribbean",
           "Middle East",
           42760814.73
          ],
          [
           "Caribbean",
           "Middle East",
           42760814.73
          ]
         ],
         "hoverinfo": "text",
         "hovertext": "Caribbean → Middle East<br>Amount: $42,760,814.73",
         "lat": [
          20,
          21.36565096952909,
          22.620498614958446,
          23.764542936288084,
          24.797783933518005,
          25.7202216066482,
          26.53185595567867,
          27.232686980609415,
          27.82271468144044,
          28.301939058171747,
          28.670360110803323,
          28.927977839335178,
          29.074792243767313,
          29.110803324099727,
          29.036011080332408,
          28.850415512465375,
          28.554016620498615,
          28.14681440443213,
          27.628808864265928,
          27
         ],
         "line": {
          "color": "rgba(70, 130, 180, 0.74)",
          "width": 13.300072745698767
         },
         "lon": [
          -75,
          -68.68421052631581,
          -62.368421052631575,
          -56.052631578947356,
          -49.736842105263165,
          -43.42105263157896,
          -37.10526315789474,
          -30.78947368421052,
          -24.47368421052632,
          -18.15789473684211,
          -11.8421052631579,
          -5.526315789473681,
          0.7894736842105239,
          7.105263157894726,
          13.421052631578942,
          19.736842105263158,
          26.05263157894736,
          32.36842105263156,
          38.68421052631579,
          45
         ],
         "mode": "lines",
         "showlegend": false,
         "type": "scattermapbox"
        },
        {
         "customdata": [
          [
           "Central Asia",
           "Latin America",
           4435977
          ],
          [
           "Central Asia",
           "Latin America",
           4435977
          ],
          [
           "Central Asia",
           "Latin America",
           4435977
          ],
          [
           "Central Asia",
           "Latin America",
           4435977
          ],
          [
           "Central Asia",
           "Latin America",
           4435977
          ],
          [
           "Central Asia",
           "Latin America",
           4435977
          ],
          [
           "Central Asia",
           "Latin America",
           4435977
          ],
          [
           "Central Asia",
           "Latin America",
           4435977
          ],
          [
           "Central Asia",
           "Latin America",
           4435977
          ],
          [
           "Central Asia",
           "Latin America",
           4435977
          ],
          [
           "Central Asia",
           "Latin America",
           4435977
          ],
          [
           "Central Asia",
           "Latin America",
           4435977
          ],
          [
           "Central Asia",
           "Latin America",
           4435977
          ],
          [
           "Central Asia",
           "Latin America",
           4435977
          ],
          [
           "Central Asia",
           "Latin America",
           4435977
          ],
          [
           "Central Asia",
           "Latin America",
           4435977
          ],
          [
           "Central Asia",
           "Latin America",
           4435977
          ],
          [
           "Central Asia",
           "Latin America",
           4435977
          ],
          [
           "Central Asia",
           "Latin America",
           4435977
          ],
          [
           "Central Asia",
           "Latin America",
           4435977
          ]
         ],
         "hoverinfo": "text",
         "hovertext": "Central Asia → Latin America<br>Amount: $4,435,977.00",
         "lat": [
          45,
          43.10249307479225,
          41.094182825484765,
          38.97506925207755,
          36.745152354570635,
          34.404432132964004,
          31.95290858725762,
          29.390581717451518,
          26.71745152354571,
          23.933518005540172,
          21.038781163434905,
          18.033240997229917,
          14.916897506925208,
          11.689750692520786,
          8.351800554016622,
          4.903047091412741,
          1.343490304709145,
          -2.326869806094175,
          -6.108033240997225,
          -10
         ],
         "line": {
          "color": "rgba(70, 130, 180, 0.35)",
          "width": 1.3797402404696084
         },
         "lon": [
          65,
          58.42105263157895,
          51.8421052631579,
          45.263157894736835,
          38.684210526315795,
          32.10526315789475,
          25.52631578947369,
          18.94736842105263,
          12.368421052631582,
          5.789473684210533,
          -0.7894736842105221,
          -7.368421052631582,
          -13.947368421052628,
          -20.52631578947367,
          -27.105263157894733,
          -33.684210526315795,
          -40.263157894736835,
          -46.842105263157876,
          -53.42105263157894,
          -60
         ],
         "mode": "lines",
         "showlegend": false,
         "type": "scattermapbox"
        },
        {
         "customdata": [
          [
           "Central Asia",
           "Middle East",
           8409233.71
          ],
          [
           "Central Asia",
           "Middle East",
           8409233.71
          ],
          [
           "Central Asia",
           "Middle East",
           8409233.71
          ],
          [
           "Central Asia",
           "Middle East",
           8409233.71
          ],
          [
           "Central Asia",
           "Middle East",
           8409233.71
          ],
          [
           "Central Asia",
           "Middle East",
           8409233.71
          ],
          [
           "Central Asia",
           "Middle East",
           8409233.71
          ],
          [
           "Central Asia",
           "Middle East",
           8409233.71
          ],
          [
           "Central Asia",
           "Middle East",
           8409233.71
          ],
          [
           "Central Asia",
           "Middle East",
           8409233.71
          ],
          [
           "Central Asia",
           "Middle East",
           8409233.71
          ],
          [
           "Central Asia",
           "Middle East",
           8409233.71
          ],
          [
           "Central Asia",
           "Middle East",
           8409233.71
          ],
          [
           "Central Asia",
           "Middle East",
           8409233.71
          ],
          [
           "Central Asia",
           "Middle East",
           8409233.71
          ],
          [
           "Central Asia",
           "Middle East",
           8409233.71
          ],
          [
           "Central Asia",
           "Middle East",
           8409233.71
          ],
          [
           "Central Asia",
           "Middle East",
           8409233.71
          ],
          [
           "Central Asia",
           "Middle East",
           8409233.71
          ],
          [
           "Central Asia",
           "Middle East",
           8409233.71
          ]
         ],
         "hoverinfo": "text",
         "hovertext": "Central Asia → Middle East<br>Amount: $8,409,233.71",
         "lat": [
          45,
          44.45512227066038,
          43.86552335335264,
          43.23120324807679,
          42.55216195483283,
          41.82839947362077,
          41.05991580444058,
          40.24671094729228,
          39.38878490217587,
          38.48613766909136,
          37.538769248038726,
          36.54667963901798,
          35.50986884202913,
          34.42833685707216,
          33.30208368414708,
          32.131109323253895,
          30.915413774392587,
          29.65499703756317,
          28.349859112765643,
          27
         ],
         "line": {
          "color": "rgba(70, 130, 180, 0.39)",
          "width": 2.615558678775958
         },
         "lon": [
          65,
          63.94736842105264,
          62.89473684210526,
          61.84210526315788,
          60.78947368421053,
          59.736842105263165,
          58.684210526315795,
          57.63157894736841,
          56.578947368421055,
          55.52631578947369,
          54.47368421052632,
          53.421052631578945,
          52.368421052631575,
          51.31578947368422,
          50.26315789473684,
          49.21052631578947,
          48.1578947368421,
          47.10526315789474,
          46.05263157894737,
          45
         ],
         "mode": "lines",
         "showlegend": false,
         "type": "scattermapbox"
        },
        {
         "customdata": [
          [
           "Europe",
           "Middle East",
           5915148.550000001
          ],
          [
           "Europe",
           "Middle East",
           5915148.550000001
          ],
          [
           "Europe",
           "Middle East",
           5915148.550000001
          ],
          [
           "Europe",
           "Middle East",
           5915148.550000001
          ],
          [
           "Europe",
           "Middle East",
           5915148.550000001
          ],
          [
           "Europe",
           "Middle East",
           5915148.550000001
          ],
          [
           "Europe",
           "Middle East",
           5915148.550000001
          ],
          [
           "Europe",
           "Middle East",
           5915148.550000001
          ],
          [
           "Europe",
           "Middle East",
           5915148.550000001
          ],
          [
           "Europe",
           "Middle East",
           5915148.550000001
          ],
          [
           "Europe",
           "Middle East",
           5915148.550000001
          ],
          [
           "Europe",
           "Middle East",
           5915148.550000001
          ],
          [
           "Europe",
           "Middle East",
           5915148.550000001
          ],
          [
           "Europe",
           "Middle East",
           5915148.550000001
          ],
          [
           "Europe",
           "Middle East",
           5915148.550000001
          ],
          [
           "Europe",
           "Middle East",
           5915148.550000001
          ],
          [
           "Europe",
           "Middle East",
           5915148.550000001
          ],
          [
           "Europe",
           "Middle East",
           5915148.550000001
          ],
          [
           "Europe",
           "Middle East",
           5915148.550000001
          ],
          [
           "Europe",
           "Middle East",
           5915148.550000001
          ]
         ],
         "hoverinfo": "text",
         "hovertext": "Europe → Middle East<br>Amount: $5,915,148.55",
         "lat": [
          50,
          49.41594523320448,
          48.762282516520735,
          48.03901184994878,
          47.246133233488614,
          46.38364666714023,
          45.45155215090361,
          44.44984968477878,
          43.37853926876575,
          42.237620902864506,
          41.02709458707503,
          39.74696032139734,
          38.39721810583143,
          36.97786794037731,
          35.48890982503496,
          33.9303437598044,
          32.30216974468563,
          30.60438777967864,
          28.836997864783427,
          27
         ],
         "line": {
          "color": "rgba(70, 130, 180, 0.36)",
          "width": 1.839813074502067
         },
         "lon": [
          10,
          11.842105263157897,
          13.684210526315788,
          15.526315789473681,
          17.36842105263158,
          19.210526315789473,
          21.052631578947366,
          22.89473684210526,
          24.736842105263158,
          26.578947368421055,
          28.421052631578945,
          30.263157894736842,
          32.10526315789474,
          33.94736842105263,
          35.78947368421052,
          37.63157894736842,
          39.473684210526315,
          41.315789473684205,
          43.1578947368421,
          45
         ],
         "mode": "lines",
         "showlegend": false,
         "type": "scattermapbox"
        },
        {
         "customdata": [
          [
           "Latin America",
           "Middle East",
           7798331.86
          ],
          [
           "Latin America",
           "Middle East",
           7798331.86
          ],
          [
           "Latin America",
           "Middle East",
           7798331.86
          ],
          [
           "Latin America",
           "Middle East",
           7798331.86
          ],
          [
           "Latin America",
           "Middle East",
           7798331.86
          ],
          [
           "Latin America",
           "Middle East",
           7798331.86
          ],
          [
           "Latin America",
           "Middle East",
           7798331.86
          ],
          [
           "Latin America",
           "Middle East",
           7798331.86
          ],
          [
           "Latin America",
           "Middle East",
           7798331.86
          ],
          [
           "Latin America",
           "Middle East",
           7798331.86
          ],
          [
           "Latin America",
           "Middle East",
           7798331.86
          ],
          [
           "Latin America",
           "Middle East",
           7798331.86
          ],
          [
           "Latin America",
           "Middle East",
           7798331.86
          ],
          [
           "Latin America",
           "Middle East",
           7798331.86
          ],
          [
           "Latin America",
           "Middle East",
           7798331.86
          ],
          [
           "Latin America",
           "Middle East",
           7798331.86
          ],
          [
           "Latin America",
           "Middle East",
           7798331.86
          ],
          [
           "Latin America",
           "Middle East",
           7798331.86
          ],
          [
           "Latin America",
           "Middle East",
           7798331.86
          ],
          [
           "Latin America",
           "Middle East",
           7798331.86
          ]
         ],
         "hoverinfo": "text",
         "hovertext": "Latin America → Middle East<br>Amount: $7,798,331.86",
         "lat": [
          -10,
          -7.055401662049863,
          -4.221606648199446,
          -1.4986149584487531,
          1.1135734072022154,
          3.614958448753461,
          6.005540166204986,
          8.285318559556785,
          10.454293628808864,
          12.51246537396122,
          14.45983379501385,
          16.29639889196676,
          18.022160664819943,
          19.637119113573405,
          21.141274238227144,
          22.534626038781166,
          23.817174515235457,
          24.988919667590025,
          26.049861495844873,
          27
         ],
         "line": {
          "color": "rgba(70, 130, 180, 0.38)",
          "width": 2.4255473542306936
         },
         "lon": [
          -60,
          -54.47368421052633,
          -48.94736842105263,
          -43.42105263157894,
          -37.89473684210527,
          -32.36842105263158,
          -26.842105263157897,
          -21.31578947368421,
          -15.789473684210527,
          -10.263157894736848,
          -4.736842105263159,
          0.7894736842105292,
          6.315789473684209,
          11.842105263157885,
          17.368421052631575,
          22.894736842105264,
          28.421052631578938,
          33.947368421052616,
          39.473684210526315,
          45
         ],
         "mode": "lines",
         "showlegend": false,
         "type": "scattermapbox"
        },
        {
         "customdata": [
          [
           "Middle East",
           "Central Asia",
           48226219
          ],
          [
           "Middle East",
           "Central Asia",
           48226219
          ],
          [
           "Middle East",
           "Central Asia",
           48226219
          ],
          [
           "Middle East",
           "Central Asia",
           48226219
          ],
          [
           "Middle East",
           "Central Asia",
           48226219
          ],
          [
           "Middle East",
           "Central Asia",
           48226219
          ],
          [
           "Middle East",
           "Central Asia",
           48226219
          ],
          [
           "Middle East",
           "Central Asia",
           48226219
          ],
          [
           "Middle East",
           "Central Asia",
           48226219
          ],
          [
           "Middle East",
           "Central Asia",
           48226219
          ],
          [
           "Middle East",
           "Central Asia",
           48226219
          ],
          [
           "Middle East",
           "Central Asia",
           48226219
          ],
          [
           "Middle East",
           "Central Asia",
           48226219
          ],
          [
           "Middle East",
           "Central Asia",
           48226219
          ],
          [
           "Middle East",
           "Central Asia",
           48226219
          ],
          [
           "Middle East",
           "Central Asia",
           48226219
          ],
          [
           "Middle East",
           "Central Asia",
           48226219
          ],
          [
           "Middle East",
           "Central Asia",
           48226219
          ],
          [
           "Middle East",
           "Central Asia",
           48226219
          ],
          [
           "Middle East",
           "Central Asia",
           48226219
          ]
         ],
         "hoverinfo": "text",
         "hovertext": "Middle East → Central Asia<br>Amount: $48,226,219.00",
         "lat": [
          27,
          28.349859112765646,
          29.65499703756317,
          30.915413774392583,
          32.13110932325389,
          33.302083684147085,
          34.42833685707216,
          35.50986884202912,
          36.54667963901798,
          37.538769248038726,
          38.48613766909136,
          39.38878490217588,
          40.246710947292286,
          41.05991580444058,
          41.82839947362076,
          42.55216195483283,
          43.231203248076795,
          43.865523353352636,
          44.455122270660375,
          45
         ],
         "line": {
          "color": "rgba(70, 130, 180, 0.80)",
          "width": 15
         },
         "lon": [
          45,
          46.05263157894738,
          47.10526315789474,
          48.157894736842096,
          49.210526315789465,
          50.26315789473685,
          51.31578947368421,
          52.368421052631575,
          53.421052631578945,
          54.47368421052632,
          55.526315789473685,
          56.578947368421055,
          57.63157894736842,
          58.684210526315795,
          59.73684210526315,
          60.78947368421052,
          61.84210526315789,
          62.89473684210526,
          63.94736842105263,
          65
         ],
         "mode": "lines",
         "showlegend": false,
         "type": "scattermapbox"
        },
        {
         "customdata": [
          [
           "Middle East",
           "Southeast Asia",
           33486319.98
          ],
          [
           "Middle East",
           "Southeast Asia",
           33486319.98
          ],
          [
           "Middle East",
           "Southeast Asia",
           33486319.98
          ],
          [
           "Middle East",
           "Southeast Asia",
           33486319.98
          ],
          [
           "Middle East",
           "Southeast Asia",
           33486319.98
          ],
          [
           "Middle East",
           "Southeast Asia",
           33486319.98
          ],
          [
           "Middle East",
           "Southeast Asia",
           33486319.98
          ],
          [
           "Middle East",
           "Southeast Asia",
           33486319.98
          ],
          [
           "Middle East",
           "Southeast Asia",
           33486319.98
          ],
          [
           "Middle East",
           "Southeast Asia",
           33486319.98
          ],
          [
           "Middle East",
           "Southeast Asia",
           33486319.98
          ],
          [
           "Middle East",
           "Southeast Asia",
           33486319.98
          ],
          [
           "Middle East",
           "Southeast Asia",
           33486319.98
          ],
          [
           "Middle East",
           "Southeast Asia",
           33486319.98
          ],
          [
           "Middle East",
           "Southeast Asia",
           33486319.98
          ],
          [
           "Middle East",
           "Southeast Asia",
           33486319.98
          ],
          [
           "Middle East",
           "Southeast Asia",
           33486319.98
          ],
          [
           "Middle East",
           "Southeast Asia",
           33486319.98
          ],
          [
           "Middle East",
           "Southeast Asia",
           33486319.98
          ],
          [
           "Middle East",
           "Southeast Asia",
           33486319.98
          ]
         ],
         "hoverinfo": "text",
         "hovertext": "Middle East → Southeast Asia<br>Amount: $33,486,319.98",
         "lat": [
          27,
          27.038099655062737,
          26.972550810440136,
          26.803353466132204,
          26.530507622138945,
          26.15401327846035,
          25.673870435096415,
          25.090079092047148,
          24.402639249312557,
          23.611550906892628,
          22.716814064787364,
          21.718428722996766,
          20.616394881520836,
          19.410712540359576,
          18.101381699512977,
          16.688402358981048,
          15.171774518763787,
          13.551498178861193,
          11.827573339273261,
          10
         ],
         "line": {
          "color": "rgba(70, 130, 180, 0.65)",
          "width": 10.415388353376823
         },
         "lon": [
          45,
          48.15789473684211,
          51.315789473684205,
          54.47368421052631,
          57.63157894736842,
          60.789473684210535,
          63.94736842105263,
          67.10526315789474,
          70.26315789473684,
          73.42105263157895,
          76.57894736842105,
          79.73684210526315,
          82.89473684210526,
          86.05263157894737,
          89.21052631578947,
          92.36842105263158,
          95.52631578947367,
          98.68421052631578,
          101.84210526315789,
          105
         ],
         "mode": "lines",
         "showlegend": false,
         "type": "scattermapbox"
        },
        {
         "customdata": [
          [
           "North America",
           "Europe",
           4646043.73
          ],
          [
           "North America",
           "Europe",
           4646043.73
          ],
          [
           "North America",
           "Europe",
           4646043.73
          ],
          [
           "North America",
           "Europe",
           4646043.73
          ],
          [
           "North America",
           "Europe",
           4646043.73
          ],
          [
           "North America",
           "Europe",
           4646043.73
          ],
          [
           "North America",
           "Europe",
           4646043.73
          ],
          [
           "North America",
           "Europe",
           4646043.73
          ],
          [
           "North America",
           "Europe",
           4646043.73
          ],
          [
           "North America",
           "Europe",
           4646043.73
          ],
          [
           "North America",
           "Europe",
           4646043.73
          ],
          [
           "North America",
           "Europe",
           4646043.73
          ],
          [
           "North America",
           "Europe",
           4646043.73
          ],
          [
           "North America",
           "Europe",
           4646043.73
          ],
          [
           "North America",
           "Europe",
           4646043.73
          ],
          [
           "North America",
           "Europe",
           4646043.73
          ],
          [
           "North America",
           "Europe",
           4646043.73
          ],
          [
           "North America",
           "Europe",
           4646043.73
          ],
          [
           "North America",
           "Europe",
           4646043.73
          ],
          [
           "North America",
           "Europe",
           4646043.73
          ]
         ],
         "hoverinfo": "text",
         "hovertext": "North America → Europe<br>Amount: $4,646,043.73",
         "lat": [
          40,
          41.523545706371195,
          42.936288088642655,
          44.238227146814395,
          45.42936288088643,
          46.50969529085873,
          47.4792243767313,
          48.33795013850415,
          49.08587257617729,
          49.7229916897507,
          50.249307479224385,
          50.664819944598335,
          50.96952908587258,
          51.16343490304709,
          51.24653739612188,
          51.21883656509695,
          51.0803324099723,
          50.83102493074793,
          50.470914127423825,
          50
         ],
         "line": {
          "color": "rgba(70, 130, 180, 0.35)",
          "width": 1.4450781627728273
         },
         "lon": [
          -100,
          -94.21052631578948,
          -88.42105263157895,
          -82.63157894736841,
          -76.84210526315789,
          -71.05263157894738,
          -65.26315789473685,
          -59.47368421052631,
          -53.684210526315795,
          -47.894736842105274,
          -42.10526315789474,
          -36.315789473684205,
          -30.52631578947369,
          -24.736842105263168,
          -18.947368421052634,
          -13.157894736842103,
          -7.368421052631585,
          -1.5789473684210638,
          4.210526315789466,
          10
         ],
         "mode": "lines",
         "showlegend": false,
         "type": "scattermapbox"
        },
        {
         "customdata": [
          [
           "North America",
           "Middle East",
           10590745.35
          ],
          [
           "North America",
           "Middle East",
           10590745.35
          ],
          [
           "North America",
           "Middle East",
           10590745.35
          ],
          [
           "North America",
           "Middle East",
           10590745.35
          ],
          [
           "North America",
           "Middle East",
           10590745.35
          ],
          [
           "North America",
           "Middle East",
           10590745.35
          ],
          [
           "North America",
           "Middle East",
           10590745.35
          ],
          [
           "North America",
           "Middle East",
           10590745.35
          ],
          [
           "North America",
           "Middle East",
           10590745.35
          ],
          [
           "North America",
           "Middle East",
           10590745.35
          ],
          [
           "North America",
           "Middle East",
           10590745.35
          ],
          [
           "North America",
           "Middle East",
           10590745.35
          ],
          [
           "North America",
           "Middle East",
           10590745.35
          ],
          [
           "North America",
           "Middle East",
           10590745.35
          ],
          [
           "North America",
           "Middle East",
           10590745.35
          ],
          [
           "North America",
           "Middle East",
           10590745.35
          ],
          [
           "North America",
           "Middle East",
           10590745.35
          ],
          [
           "North America",
           "Middle East",
           10590745.35
          ],
          [
           "North America",
           "Middle East",
           10590745.35
          ],
          [
           "North America",
           "Middle East",
           10590745.35
          ]
         ],
         "hoverinfo": "text",
         "hovertext": "North America → Middle East<br>Amount: $10,590,745.35",
         "lat": [
          40,
          40.31301939058172,
          40.51523545706371,
          40.60664819944598,
          40.58725761772853,
          40.45706371191137,
          40.21606648199446,
          39.86426592797783,
          39.4016620498615,
          38.82825484764544,
          38.14404432132964,
          37.34903047091413,
          36.443213296398895,
          35.42659279778393,
          34.29916897506925,
          33.060941828254855,
          31.711911357340725,
          30.25207756232687,
          28.681440443213297,
          27
         ],
         "line": {
          "color": "rgba(70, 130, 180, 0.41)",
          "width": 3.2940832506483657
         },
         "lon": [
          -100,
          -92.36842105263159,
          -84.73684210526315,
          -77.10526315789473,
          -69.47368421052632,
          -61.84210526315791,
          -54.21052631578948,
          -46.57894736842105,
          -38.94736842105263,
          -31.315789473684227,
          -23.684210526315788,
          -16.052631578947366,
          -8.421052631578952,
          -0.7894736842105416,
          6.842105263157887,
          14.473684210526319,
          22.105263157894726,
          29.736842105263136,
          37.368421052631575,
          45
         ],
         "mode": "lines",
         "showlegend": false,
         "type": "scattermapbox"
        },
        {
         "customdata": [
          [
           "South Asia",
           "Middle East",
           5440545.04
          ],
          [
           "South Asia",
           "Middle East",
           5440545.04
          ],
          [
           "South Asia",
           "Middle East",
           5440545.04
          ],
          [
           "South Asia",
           "Middle East",
           5440545.04
          ],
          [
           "South Asia",
           "Middle East",
           5440545.04
          ],
          [
           "South Asia",
           "Middle East",
           5440545.04
          ],
          [
           "South Asia",
           "Middle East",
           5440545.04
          ],
          [
           "South Asia",
           "Middle East",
           5440545.04
          ],
          [
           "South Asia",
           "Middle East",
           5440545.04
          ],
          [
           "South Asia",
           "Middle East",
           5440545.04
          ],
          [
           "South Asia",
           "Middle East",
           5440545.04
          ],
          [
           "South Asia",
           "Middle East",
           5440545.04
          ],
          [
           "South Asia",
           "Middle East",
           5440545.04
          ],
          [
           "South Asia",
           "Middle East",
           5440545.04
          ],
          [
           "South Asia",
           "Middle East",
           5440545.04
          ],
          [
           "South Asia",
           "Middle East",
           5440545.04
          ],
          [
           "South Asia",
           "Middle East",
           5440545.04
          ],
          [
           "South Asia",
           "Middle East",
           5440545.04
          ],
          [
           "South Asia",
           "Middle East",
           5440545.04
          ],
          [
           "South Asia",
           "Middle East",
           5440545.04
          ]
         ],
         "hoverinfo": "text",
         "hovertext": "South Asia → Middle East<br>Amount: $5,440,545.04",
         "lat": [
          20,
          20.829228685451785,
          21.60725652281243,
          22.33408351208194,
          23.009709653260323,
          23.634134946347576,
          24.207359391343683,
          24.729382988248663,
          25.200205737062515,
          25.619827637785225,
          25.988248690416803,
          26.305468894957247,
          26.571488251406556,
          26.786306759764738,
          26.94992442003178,
          27.062341232207697,
          27.12355719629247,
          27.133572312286113,
          27.092386580188624,
          27
         ],
         "line": {
          "color": "rgba(70, 130, 180, 0.36)",
          "width": 1.692195185361722
         },
         "lon": [
          75,
          73.42105263157896,
          71.84210526315789,
          70.26315789473684,
          68.6842105263158,
          67.10526315789475,
          65.52631578947368,
          63.94736842105263,
          62.368421052631575,
          60.789473684210535,
          59.21052631578948,
          57.631578947368425,
          56.05263157894737,
          54.47368421052632,
          52.89473684210526,
          51.315789473684205,
          49.73684210526316,
          48.15789473684211,
          46.578947368421055,
          45
         ],
         "mode": "lines",
         "showlegend": false,
         "type": "scattermapbox"
        },
        {
         "customdata": [
          [
           874798.97,
           5552112.78,
           -4677313.8100000005,
           "Africa"
          ],
          [
           1127800.99,
           17499290.02,
           -16371489.03,
           "Asia Pacific"
          ],
          [
           654512.99,
           43489845.73,
           -42835332.739999995,
           "Caribbean"
          ],
          [
           48753914.99,
           13450115.83,
           35303799.160000004,
           "Central Asia"
          ],
          [
           6545044.47,
           6885869.07,
           -340824.60000000056,
           "Europe"
          ],
          [
           6277920.2700000005,
           10194766.540000001,
           -3916846.2700000005,
           "Latin America"
          ],
          [
           105059536.71,
           84499534.24,
           20560002.47,
           "Middle East"
          ],
          [
           645744.36,
           17838163.39,
           -17192419.03,
           "North America"
          ],
          [
           904343.14,
           5894135.18,
           -4989792.04,
           "South Asia"
          ],
          [
           35948692.910000004,
           1488477.02,
           34460215.89,
           "Southeast Asia"
          ]
         ],
         "hovertemplate": "<b>%{text}</b><br>Inflow: $%{customdata[0]:,.2f}<br>Outflow: $%{customdata[1]:,.2f}<br>Net Flow: $%{customdata[2]:,.2f}",
         "lat": {
          "bdata": "AAAAAAAAFEAAAAAAAAA+QAAAAAAAADRAAAAAAACARkAAAAAAAABJQAAAAAAAACTAAAAAAAAAO0AAAAAAAABEQAAAAAAAADRAAAAAAAAAJEA=",
          "dtype": "f8"
         },
         "lon": {
          "bdata": "AAAAAAAANEAAAAAAAABeQAAAAAAAwFLAAAAAAABAUEAAAAAAAAAkQAAAAAAAAE7AAAAAAACARkAAAAAAAABZwAAAAAAAwFJAAAAAAABAWkA=",
          "dtype": "f8"
         },
         "marker": {
          "cmid": 0,
          "color": {
           "bdata": "PgrXc7DXUcGPwvUg5DlvwR6F6yXsbITBFa5HuYvVgEFwZmZmYs0UwSpcjyIX4k3BuB6FJ4ibc0FI4XowXmVwwSlcjwLYCFPBUrgev5FugEE=",
           "dtype": "f8"
          },
          "colorbar": {
           "thickness": 15,
           "title": {
            "text": "Net Flow<br>(Inflow - Outflow)"
           }
          },
          "colorscale": [
           [
            0,
            "rgb(103,0,31)"
           ],
           [
            0.1,
            "rgb(178,24,43)"
           ],
           [
            0.2,
            "rgb(214,96,77)"
           ],
           [
            0.3,
            "rgb(244,165,130)"
           ],
           [
            0.4,
            "rgb(253,219,199)"
           ],
           [
            0.5,
            "rgb(247,247,247)"
           ],
           [
            0.6,
            "rgb(209,229,240)"
           ],
           [
            0.7,
            "rgb(146,197,222)"
           ],
           [
            0.8,
            "rgb(67,147,195)"
           ],
           [
            0.9,
            "rgb(33,102,172)"
           ],
           [
            1,
            "rgb(5,48,97)"
           ]
          ],
          "opacity": 0.8,
          "size": {
           "bdata": "7RCPX/qxJUBEQ27xy+koQA0CIXXapC9ADMZH4Co0MkBniAaT7IonQEyQNPtRWChAAAAAAACAQUDLor3QIOAoQIaf/G4RyyVApscgGPPfLUA=",
           "dtype": "f8"
          }
         },
         "mode": "markers",
         "name": "Regions",
         "text": [
          "Africa",
          "Asia Pacific",
          "Caribbean",
          "Central Asia",
          "Europe",
          "Latin America",
          "Middle East",
          "North America",
          "South Asia",
          "Southeast Asia"
         ],
         "type": "scattermapbox"
        }
       ],
       "layout": {
        "height": 700,
        "mapbox": {
         "center": {
          "lat": 20,
          "lon": 0
         },
         "style": "carto-positron",
         "zoom": 1.2
        },
        "margin": {
         "b": 0,
         "l": 0,
         "r": 0,
         "t": 50
        },
        "template": {
         "data": {
          "bar": [
           {
            "error_x": {
             "color": "#2a3f5f"
            },
            "error_y": {
             "color": "#2a3f5f"
            },
            "marker": {
             "line": {
              "color": "#E5ECF6",
              "width": 0.5
             },
             "pattern": {
              "fillmode": "overlay",
              "size": 10,
              "solidity": 0.2
             }
            },
            "type": "bar"
           }
          ],
          "barpolar": [
           {
            "marker": {
             "line": {
              "color": "#E5ECF6",
              "width": 0.5
             },
             "pattern": {
              "fillmode": "overlay",
              "size": 10,
              "solidity": 0.2
             }
            },
            "type": "barpolar"
           }
          ],
          "carpet": [
           {
            "aaxis": {
             "endlinecolor": "#2a3f5f",
             "gridcolor": "white",
             "linecolor": "white",
             "minorgridcolor": "white",
             "startlinecolor": "#2a3f5f"
            },
            "baxis": {
             "endlinecolor": "#2a3f5f",
             "gridcolor": "white",
             "linecolor": "white",
             "minorgridcolor": "white",
             "startlinecolor": "#2a3f5f"
            },
            "type": "carpet"
           }
          ],
          "choropleth": [
           {
            "colorbar": {
             "outlinewidth": 0,
             "ticks": ""
            },
            "type": "choropleth"
           }
          ],
          "contour": [
           {
            "colorbar": {
             "outlinewidth": 0,
             "ticks": ""
            },
            "colorscale": [
             [
              0,
              "#0d0887"
             ],
             [
              0.1111111111111111,
              "#46039f"
             ],
             [
              0.2222222222222222,
              "#7201a8"
             ],
             [
              0.3333333333333333,
              "#9c179e"
             ],
             [
              0.4444444444444444,
              "#bd3786"
             ],
             [
              0.5555555555555556,
              "#d8576b"
             ],
             [
              0.6666666666666666,
              "#ed7953"
             ],
             [
              0.7777777777777778,
              "#fb9f3a"
             ],
             [
              0.8888888888888888,
              "#fdca26"
             ],
             [
              1,
              "#f0f921"
             ]
            ],
            "type": "contour"
           }
          ],
          "contourcarpet": [
           {
            "colorbar": {
             "outlinewidth": 0,
             "ticks": ""
            },
            "type": "contourcarpet"
           }
          ],
          "heatmap": [
           {
            "colorbar": {
             "outlinewidth": 0,
             "ticks": ""
            },
            "colorscale": [
             [
              0,
              "#0d0887"
             ],
             [
              0.1111111111111111,
              "#46039f"
             ],
             [
              0.2222222222222222,
              "#7201a8"
             ],
             [
              0.3333333333333333,
              "#9c179e"
             ],
             [
              0.4444444444444444,
              "#bd3786"
             ],
             [
              0.5555555555555556,
              "#d8576b"
             ],
             [
              0.6666666666666666,
              "#ed7953"
             ],
             [
              0.7777777777777778,
              "#fb9f3a"
             ],
             [
              0.8888888888888888,
              "#fdca26"
             ],
             [
              1,
              "#f0f921"
             ]
            ],
            "type": "heatmap"
           }
          ],
          "histogram": [
           {
            "marker": {
             "pattern": {
              "fillmode": "overlay",
              "size": 10,
              "solidity": 0.2
             }
            },
            "type": "histogram"
           }
          ],
          "histogram2d": [
           {
            "colorbar": {
             "outlinewidth": 0,
             "ticks": ""
            },
            "colorscale": [
             [
              0,
              "#0d0887"
             ],
             [
              0.1111111111111111,
              "#46039f"
             ],
             [
              0.2222222222222222,
              "#7201a8"
             ],
             [
              0.3333333333333333,
              "#9c179e"
             ],
             [
              0.4444444444444444,
              "#bd3786"
             ],
             [
              0.5555555555555556,
              "#d8576b"
             ],
             [
              0.6666666666666666,
              "#ed7953"
             ],
             [
              0.7777777777777778,
              "#fb9f3a"
             ],
             [
              0.8888888888888888,
              "#fdca26"
             ],
             [
              1,
              "#f0f921"
             ]
            ],
            "type": "histogram2d"
           }
          ],
          "histogram2dcontour": [
           {
            "colorbar": {
             "outlinewidth": 0,
             "ticks": ""
            },
            "colorscale": [
             [
              0,
              "#0d0887"
             ],
             [
              0.1111111111111111,
              "#46039f"
             ],
             [
              0.2222222222222222,
              "#7201a8"
             ],
             [
              0.3333333333333333,
              "#9c179e"
             ],
             [
              0.4444444444444444,
              "#bd3786"
             ],
             [
              0.5555555555555556,
              "#d8576b"
             ],
             [
              0.6666666666666666,
              "#ed7953"
             ],
             [
              0.7777777777777778,
              "#fb9f3a"
             ],
             [
              0.8888888888888888,
              "#fdca26"
             ],
             [
              1,
              "#f0f921"
             ]
            ],
            "type": "histogram2dcontour"
           }
          ],
          "mesh3d": [
           {
            "colorbar": {
             "outlinewidth": 0,
             "ticks": ""
            },
            "type": "mesh3d"
           }
          ],
          "parcoords": [
           {
            "line": {
             "colorbar": {
              "outlinewidth": 0,
              "ticks": ""
             }
            },
            "type": "parcoords"
           }
          ],
          "pie": [
           {
            "automargin": true,
            "type": "pie"
           }
          ],
          "scatter": [
           {
            "fillpattern": {
             "fillmode": "overlay",
             "size": 10,
             "solidity": 0.2
            },
            "type": "scatter"
           }
          ],
          "scatter3d": [
           {
            "line": {
             "colorbar": {
              "outlinewidth": 0,
              "ticks": ""
             }
            },
            "marker": {
             "colorbar": {
              "outlinewidth": 0,
              "ticks": ""
             }
            },
            "type": "scatter3d"
           }
          ],
          "scattercarpet": [
           {
            "marker": {
             "colorbar": {
              "outlinewidth": 0,
              "ticks": ""
             }
            },
            "type": "scattercarpet"
           }
          ],
          "scattergeo": [
           {
            "marker": {
             "colorbar": {
              "outlinewidth": 0,
              "ticks": ""
             }
            },
            "type": "scattergeo"
           }
          ],
          "scattergl": [
           {
            "marker": {
             "colorbar": {
              "outlinewidth": 0,
              "ticks": ""
             }
            },
            "type": "scattergl"
           }
          ],
          "scattermap": [
           {
            "marker": {
             "colorbar": {
              "outlinewidth": 0,
              "ticks": ""
             }
            },
            "type": "scattermap"
           }
          ],
          "scattermapbox": [
           {
            "marker": {
             "colorbar": {
              "outlinewidth": 0,
              "ticks": ""
             }
            },
            "type": "scattermapbox"
           }
          ],
          "scatterpolar": [
           {
            "marker": {
             "colorbar": {
              "outlinewidth": 0,
              "ticks": ""
             }
            },
            "type": "scatterpolar"
           }
          ],
          "scatterpolargl": [
           {
            "marker": {
             "colorbar": {
              "outlinewidth": 0,
              "ticks": ""
             }
            },
            "type": "scatterpolargl"
           }
          ],
          "scatterternary": [
           {
            "marker": {
             "colorbar": {
              "outlinewidth": 0,
              "ticks": ""
             }
            },
            "type": "scatterternary"
           }
          ],
          "surface": [
           {
            "colorbar": {
             "outlinewidth": 0,
             "ticks": ""
            },
            "colorscale": [
             [
              0,
              "#0d0887"
             ],
             [
              0.1111111111111111,
              "#46039f"
             ],
             [
              0.2222222222222222,
              "#7201a8"
             ],
             [
              0.3333333333333333,
              "#9c179e"
             ],
             [
              0.4444444444444444,
              "#bd3786"
             ],
             [
              0.5555555555555556,
              "#d8576b"
             ],
             [
              0.6666666666666666,
              "#ed7953"
             ],
             [
              0.7777777777777778,
              "#fb9f3a"
             ],
             [
              0.8888888888888888,
              "#fdca26"
             ],
             [
              1,
              "#f0f921"
             ]
            ],
            "type": "surface"
           }
          ],
          "table": [
           {
            "cells": {
             "fill": {
              "color": "#EBF0F8"
             },
             "line": {
              "color": "white"
             }
            },
            "header": {
             "fill": {
              "color": "#C8D4E3"
             },
             "line": {
              "color": "white"
             }
            },
            "type": "table"
           }
          ]
         },
         "layout": {
          "annotationdefaults": {
           "arrowcolor": "#2a3f5f",
           "arrowhead": 0,
           "arrowwidth": 1
          },
          "autotypenumbers": "strict",
          "coloraxis": {
           "colorbar": {
            "outlinewidth": 0,
            "ticks": ""
           }
          },
          "colorscale": {
           "diverging": [
            [
             0,
             "#8e0152"
            ],
            [
             0.1,
             "#c51b7d"
            ],
            [
             0.2,
             "#de77ae"
            ],
            [
             0.3,
             "#f1b6da"
            ],
            [
             0.4,
             "#fde0ef"
            ],
            [
             0.5,
             "#f7f7f7"
            ],
            [
             0.6,
             "#e6f5d0"
            ],
            [
             0.7,
             "#b8e186"
            ],
            [
             0.8,
             "#7fbc41"
            ],
            [
             0.9,
             "#4d9221"
            ],
            [
             1,
             "#276419"
            ]
           ],
           "sequential": [
            [
             0,
             "#0d0887"
            ],
            [
             0.1111111111111111,
             "#46039f"
            ],
            [
             0.2222222222222222,
             "#7201a8"
            ],
            [
             0.3333333333333333,
             "#9c179e"
            ],
            [
             0.4444444444444444,
             "#bd3786"
            ],
            [
             0.5555555555555556,
             "#d8576b"
            ],
            [
             0.6666666666666666,
             "#ed7953"
            ],
            [
             0.7777777777777778,
             "#fb9f3a"
            ],
            [
             0.8888888888888888,
             "#fdca26"
            ],
            [
             1,
             "#f0f921"
            ]
           ],
           "sequentialminus": [
            [
             0,
             "#0d0887"
            ],
            [
             0.1111111111111111,
             "#46039f"
            ],
            [
             0.2222222222222222,
             "#7201a8"
            ],
            [
             0.3333333333333333,
             "#9c179e"
            ],
            [
             0.4444444444444444,
             "#bd3786"
            ],
            [
             0.5555555555555556,
             "#d8576b"
            ],
            [
             0.6666666666666666,
             "#ed7953"
            ],
            [
             0.7777777777777778,
             "#fb9f3a"
            ],
            [
             0.8888888888888888,
             "#fdca26"
            ],
            [
             1,
             "#f0f921"
            ]
           ]
          },
          "colorway": [
           "#636efa",
           "#EF553B",
           "#00cc96",
           "#ab63fa",
           "#FFA15A",
           "#19d3f3",
           "#FF6692",
           "#B6E880",
           "#FF97FF",
           "#FECB52"
          ],
          "font": {
           "color": "#2a3f5f"
          },
          "geo": {
           "bgcolor": "white",
           "lakecolor": "white",
           "landcolor": "#E5ECF6",
           "showlakes": true,
           "showland": true,
           "subunitcolor": "white"
          },
          "hoverlabel": {
           "align": "left"
          },
          "hovermode": "closest",
          "mapbox": {
           "style": "light"
          },
          "paper_bgcolor": "white",
          "plot_bgcolor": "#E5ECF6",
          "polar": {
           "angularaxis": {
            "gridcolor": "white",
            "linecolor": "white",
            "ticks": ""
           },
           "bgcolor": "#E5ECF6",
           "radialaxis": {
            "gridcolor": "white",
            "linecolor": "white",
            "ticks": ""
           }
          },
          "scene": {
           "xaxis": {
            "backgroundcolor": "#E5ECF6",
            "gridcolor": "white",
            "gridwidth": 2,
            "linecolor": "white",
            "showbackground": true,
            "ticks": "",
            "zerolinecolor": "white"
           },
           "yaxis": {
            "backgroundcolor": "#E5ECF6",
            "gridcolor": "white",
            "gridwidth": 2,
            "linecolor": "white",
            "showbackground": true,
            "ticks": "",
            "zerolinecolor": "white"
           },
           "zaxis": {
            "backgroundcolor": "#E5ECF6",
            "gridcolor": "white",
            "gridwidth": 2,
            "linecolor": "white",
            "showbackground": true,
            "ticks": "",
            "zerolinecolor": "white"
           }
          },
          "shapedefaults": {
           "line": {
            "color": "#2a3f5f"
           }
          },
          "ternary": {
           "aaxis": {
            "gridcolor": "white",
            "linecolor": "white",
            "ticks": ""
           },
           "baxis": {
            "gridcolor": "white",
            "linecolor": "white",
            "ticks": ""
           },
           "bgcolor": "#E5ECF6",
           "caxis": {
            "gridcolor": "white",
            "linecolor": "white",
            "ticks": ""
           }
          },
          "title": {
           "x": 0.05
          },
          "xaxis": {
           "automargin": true,
           "gridcolor": "white",
           "linecolor": "white",
           "ticks": "",
           "title": {
            "standoff": 15
           },
           "zerolinecolor": "white",
           "zerolinewidth": 2
          },
          "yaxis": {
           "automargin": true,
           "gridcolor": "white",
           "linecolor": "white",
           "ticks": "",
           "title": {
            "standoff": 15
           },
           "zerolinecolor": "white",
           "zerolinewidth": 2
          }
         }
        },
        "title": {
         "text": "Global Banking Transaction Flows Between Regions"
        },
        "width": 1200
       }
      }
     },
     "metadata": {},
     "output_type": "display_data"
    }
   ],
   "source": [
    "visualize_banking_flows(df) "
   ]
  },
  {
   "cell_type": "code",
   "execution_count": 9,
   "id": "fed308a2",
   "metadata": {},
   "outputs": [],
   "source": [
    "# Dictionary of region coordinates (latitude, longitude)\n",
    "region_coordinates = {\n",
    "    'North America': (40.0, -100.0),\n",
    "    'South America': (-15.0, -60.0),\n",
    "    'Europe': (50.0, 10.0),\n",
    "    'Africa': (0.0, 20.0),\n",
    "    'Middle East': (25.0, 45.0),\n",
    "    'Asia': (30.0, 100.0),\n",
    "    'Australia': (-25.0, 135.0),\n",
    "    'Caribbean': (20.0, -75.0),\n",
    "    'Central America': (15.0, -90.0),\n",
    "    'Southeast Asia': (10.0, 105.0),\n",
    "    'East Asia': (35.0, 120.0),\n",
    "    'South Asia': (25.0, 80.0),\n",
    "    'Central Asia': (45.0, 60.0),\n",
    "    'Eastern Europe': (55.0, 30.0),\n",
    "    'Northern Europe': (60.0, 15.0),\n",
    "    'Southern Europe': (40.0, 15.0),\n",
    "    'Western Europe': (48.0, 5.0),\n",
    "    'Northern Africa': (25.0, 15.0),\n",
    "    'Western Africa': (10.0, 0.0),\n",
    "    'Eastern Africa': (5.0, 35.0),\n",
    "    'Southern Africa': (-25.0, 25.0),\n",
    "    'Central Africa': (0.0, 20.0),\n",
    "    'Oceania': (-10.0, 150.0),\n",
    "    'Pacific Islands': (0.0, 160.0)\n",
    "}\n",
    "import plotly.express as px\n",
    "import plotly.express as px\n",
    "import pandas as pd\n",
    "\n",
    "def plot_transaction_time_series(df, \n",
    "                                  value_column='amount',\n",
    "                                  time_column='year',\n",
    "                                  group_by='send bank',  # Can also be 'receiver bank'\n",
    "                                  aggfunc='sum',\n",
    "                                  title='Transaction Trends Over Time by Bank',\n",
    "                                  status_filter=None,\n",
    "                                  payment_filter=None,\n",
    "                                  region_filter=None):\n",
    "    \"\"\"\n",
    "    Create a detailed interactive time series plot for transaction volume or amount over time, grouped by banks.\n",
    "\n",
    "    Parameters:\n",
    "    - df (pd.DataFrame): The transaction data.\n",
    "    - value_column (str): Column to aggregate ('amount' or 'Count').\n",
    "    - time_column (str): Column representing time ('year', 'month', or full datetime).\n",
    "    - group_by (str): Column to group lines by (e.g., 'send bank', 'receiver bank').\n",
    "    - aggfunc (str): Aggregation function ('sum' or 'count').\n",
    "    - title (str): Title of the plot.\n",
    "    - status_filter (str): Optional filter for 'transaction_status'.\n",
    "    - payment_filter (str): Optional filter for 'payment_method'.\n",
    "    - region_filter (str): Optional filter for specific region ('send region' or 'receiver region').\n",
    "\n",
    "    Returns:\n",
    "    - plotly.graph_objs._figure.Figure\n",
    "    \"\"\"\n",
    "    # Apply optional filters\n",
    "    if status_filter:\n",
    "        df = df[df['transaction_status'] == status_filter]\n",
    "    if payment_filter:\n",
    "        df = df[df['payment_method'] == payment_filter]\n",
    "    if region_filter and region_filter in df.columns:\n",
    "        df = df[df[region_filter].notna()]  # or specify a region like df[df[region_filter] == 'Delhi']\n",
    "\n",
    "    # Group and aggregate\n",
    "    grouped = df.groupby([time_column, group_by])[value_column].agg(aggfunc).reset_index()\n",
    "    grouped.rename(columns={value_column: 'value'}, inplace=True)\n",
    "\n",
    "    fig = px.line(\n",
    "        grouped,\n",
    "        x=time_column,\n",
    "        y='value',\n",
    "        color=group_by,\n",
    "        markers=True,\n",
    "        title=title,\n",
    "        labels={\n",
    "            time_column: time_column.replace('_', ' ').title(),\n",
    "            'value': value_column.title(),\n",
    "            group_by: group_by.replace('_', ' ').title()\n",
    "        }\n",
    "    )\n",
    "\n",
    "    fig.update_layout(\n",
    "        xaxis=dict(dtick=1),\n",
    "        yaxis_title=value_column.title(),\n",
    "        legend_title=group_by.replace('_', ' ').title()\n",
    "    )\n",
    "    \n",
    "    fig.show()\n",
    "    return fig\n",
    "\n",
    "\n",
    "\n",
    "def plot_transaction_heatmap(df, \n",
    "                              value_column='Count', \n",
    "                              aggfunc='count', \n",
    "                              title='Heatmap of Transaction Volumes Between Regions',\n",
    "                              status_filter=None):\n",
    "    \"\"\"\n",
    "    Create an interactive heatmap showing transaction volumes between regions.\n",
    "\n",
    "    Parameters:\n",
    "    - df (pd.DataFrame): The transaction data.\n",
    "    - value_column (str): The column to aggregate (e.g., 'Count' for frequency or 'amount' for value).\n",
    "    - aggfunc (str): Aggregation function: 'count' or 'sum'.\n",
    "    - title (str): Title of the heatmap.\n",
    "    - status_filter (str): Optional filter for transaction_status (e.g., 'Completed').\n",
    "\n",
    "    Returns:\n",
    "    - plotly.graph_objs._figure.Figure\n",
    "    \"\"\"\n",
    "    if status_filter:\n",
    "        df = df[df['transaction_status'] == status_filter]\n",
    "\n",
    "    # Create pivot table\n",
    "    matrix = df.pivot_table(\n",
    "        index='send region',\n",
    "        columns='receiver region',\n",
    "        values=value_column,\n",
    "        aggfunc=aggfunc,\n",
    "        fill_value=0\n",
    "    )\n",
    "\n",
    "    # Generate heatmap\n",
    "    fig = px.imshow(\n",
    "        matrix,\n",
    "        labels=dict(x=\"Receiver Region\", y=\"Sender Region\", color=value_column.title()),\n",
    "        x=matrix.columns,\n",
    "        y=matrix.index,\n",
    "        color_continuous_scale='Viridis',\n",
    "        text_auto=True\n",
    "    )\n",
    "\n",
    "    fig.update_layout(\n",
    "        title=title,\n",
    "        xaxis_title=\"Receiver Region\",\n",
    "        yaxis_title=\"Sender Region\",\n",
    "        autosize=True\n",
    "    )\n",
    "\n",
    "    fig.show()\n",
    "    return fig\n",
    "\n",
    "def create_sankey_for_regions(df, send_region=None, receive_region=None, year=None):\n",
    "    \"\"\"\n",
    "    Create an enhanced Sankey diagram for transactions between specified regions,\n",
    "    with hover animations and flow animations for the links.\n",
    "    \n",
    "    Parameters:\n",
    "    -----------\n",
    "    df : pandas DataFrame\n",
    "        The DataFrame containing transaction data\n",
    "    send_region : str, optional\n",
    "        Region to filter senders by\n",
    "    receive_region : str, optional\n",
    "        Region to filter receivers by\n",
    "    year : int, optional\n",
    "        Year to filter transactions by\n",
    "    \n",
    "    Returns:\n",
    "    --------\n",
    "    plotly.graph_objects.Figure\n",
    "        A Sankey diagram figure with enhanced animations\n",
    "    \"\"\"\n",
    "    import pandas as pd\n",
    "    import numpy as np\n",
    "    import plotly.graph_objects as go\n",
    "    \n",
    "    # Create a copy to avoid modifying the original\n",
    "    filtered_df = df.copy()\n",
    "    \n",
    "    # Filter data if regions are specified\n",
    "    title_parts = []\n",
    "    \n",
    "    if send_region:\n",
    "        filtered_df = filtered_df[filtered_df['send region'] == send_region]\n",
    "        title_parts.append(f\"from {send_region}\")\n",
    "    \n",
    "    if receive_region:\n",
    "        filtered_df = filtered_df[filtered_df['receiver region'] == receive_region]\n",
    "        title_parts.append(f\"to {receive_region}\")\n",
    "    \n",
    "    # Filter by year if specified\n",
    "    if year and 'year' in filtered_df.columns:\n",
    "        filtered_df = filtered_df[filtered_df['year'] == year]\n",
    "        title_parts.append(f\"in {year}\")\n",
    "    \n",
    "    if title_parts:\n",
    "        title = f\"Transactions {' '.join(title_parts)}\"\n",
    "    else:\n",
    "        title = \"All Regional Transactions\"\n",
    "    \n",
    "    # Ensure amount categories exist (create if missing)\n",
    "    if 'amount_category' not in filtered_df.columns:\n",
    "        filtered_df['amount_category'] = pd.cut(\n",
    "            filtered_df['amount'], \n",
    "            bins=[0, 1e6, 5e6, 1e7, float('inf')], \n",
    "            labels=['< 1M', '1M-5M', '5M-10M', '> 10M']\n",
    "        )\n",
    "    \n",
    "    # Check if we have data after all the filters\n",
    "    if filtered_df.empty:\n",
    "        fig = go.Figure()\n",
    "        fig.update_layout(\n",
    "            title_text=f\"No data available for {title}\",\n",
    "            annotations=[dict(\n",
    "                text=\"No transactions found for the selected criteria\",\n",
    "                xref=\"paper\", yref=\"paper\",\n",
    "                x=0.5, y=0.5, showarrow=False,\n",
    "                font=dict(size=20)\n",
    "            )]\n",
    "        )\n",
    "        return fig\n",
    "    \n",
    "    # Make sure all columns are properly formatted as strings\n",
    "    str_columns = ['sender', 'receiver', 'currency', 'mx/mt', 'Mt', 'direction', \n",
    "                  'transaction_status', 'payment_method', 'amount_category']\n",
    "    for col in str_columns:\n",
    "        if col in filtered_df.columns and filtered_df[col].dtype != 'str':\n",
    "            filtered_df[col] = filtered_df[col].astype(str)\n",
    "    \n",
    "    # Create the flows according to the specified path\n",
    "    # sender → receiver\n",
    "    flow1 = filtered_df.groupby(['sender', 'receiver']).size().reset_index(name='count')\n",
    "    \n",
    "    # receiver → currency\n",
    "    flow2 = filtered_df.groupby(['receiver', 'currency']).size().reset_index(name='count')\n",
    "    \n",
    "    # currency → mx/mt\n",
    "    flow3 = filtered_df.groupby(['currency', 'mx/mt']).size().reset_index(name='count')\n",
    "    \n",
    "    # mx/mt → mt\n",
    "    flow4 = filtered_df.groupby(['mx/mt', 'Mt']).size().reset_index(name='count')\n",
    "    \n",
    "    # mt → direction\n",
    "    flow5 = filtered_df.groupby(['Mt', 'direction']).size().reset_index(name='count')\n",
    "    \n",
    "    # direction → transaction_status (new flow)\n",
    "    flow6 = filtered_df.groupby(['direction', 'transaction_status']).size().reset_index(name='count')\n",
    "    \n",
    "    # transaction_status → payment_method (new flow)\n",
    "    flow7 = filtered_df.groupby(['transaction_status', 'payment_method']).size().reset_index(name='count')\n",
    "    \n",
    "    # payment_method → amount (new flow)\n",
    "    flow8 = filtered_df.groupby(['payment_method', 'amount_category']).size().reset_index(name='count')\n",
    "    \n",
    "    # Get all unique labels\n",
    "    labels = pd.unique(\n",
    "        flow1['sender'].tolist() +\n",
    "        flow1['receiver'].tolist() +\n",
    "        flow2['currency'].tolist() +\n",
    "        flow3['mx/mt'].tolist() +\n",
    "        flow4['Mt'].tolist() +\n",
    "        flow5['direction'].tolist() +\n",
    "        flow6['transaction_status'].tolist() +\n",
    "        flow7['payment_method'].tolist() +\n",
    "        flow8['amount_category'].astype(str).tolist()\n",
    "    )\n",
    "    \n",
    "    # Map labels to indices\n",
    "    label_to_index = {label: i for i, label in enumerate(labels)}\n",
    "    \n",
    "    # Prepare sources, targets, and values for links\n",
    "    source, target, value = [], [], []\n",
    "    link_labels = []\n",
    "    \n",
    "    # sender → receiver\n",
    "    for _, row in flow1.iterrows():\n",
    "        source.append(label_to_index[row['sender']])\n",
    "        target.append(label_to_index[row['receiver']])\n",
    "        value.append(row['count'])\n",
    "        link_labels.append(f\"{row['sender']} → {row['receiver']}<br>Count: {row['count']}\")\n",
    "    \n",
    "    # receiver → currency\n",
    "    for _, row in flow2.iterrows():\n",
    "        source.append(label_to_index[row['receiver']])\n",
    "        target.append(label_to_index[row['currency']])\n",
    "        value.append(row['count'])\n",
    "        link_labels.append(f\"{row['receiver']} → {row['currency']}<br>Count: {row['count']}\")\n",
    "    \n",
    "    # currency → mx/mt\n",
    "    for _, row in flow3.iterrows():\n",
    "        source.append(label_to_index[row['currency']])\n",
    "        target.append(label_to_index[row['mx/mt']])\n",
    "        value.append(row['count'])\n",
    "        link_labels.append(f\"{row['currency']} → {row['mx/mt']}<br>Count: {row['count']}\")\n",
    "    \n",
    "    # mx/mt → mt\n",
    "    for _, row in flow4.iterrows():\n",
    "        source.append(label_to_index[row['mx/mt']])\n",
    "        target.append(label_to_index[row['Mt']])\n",
    "        value.append(row['count'])\n",
    "        link_labels.append(f\"{row['mx/mt']} → {row['Mt']}<br>Count: {row['count']}\")\n",
    "    \n",
    "    # mt → direction\n",
    "    for _, row in flow5.iterrows():\n",
    "        source.append(label_to_index[row['Mt']])\n",
    "        target.append(label_to_index[row['direction']])\n",
    "        value.append(row['count'])\n",
    "        link_labels.append(f\"{row['Mt']} → {row['direction']}<br>Count: {row['count']}\")\n",
    "    \n",
    "    # direction → transaction_status (new flow)\n",
    "    for _, row in flow6.iterrows():\n",
    "        source.append(label_to_index[row['direction']])\n",
    "        target.append(label_to_index[row['transaction_status']])\n",
    "        value.append(row['count'])\n",
    "        link_labels.append(f\"{row['direction']} → {row['transaction_status']}<br>Count: {row['count']}\")\n",
    "    \n",
    "    # transaction_status → payment_method (new flow)\n",
    "    for _, row in flow7.iterrows():\n",
    "        source.append(label_to_index[row['transaction_status']])\n",
    "        target.append(label_to_index[row['payment_method']])\n",
    "        value.append(row['count'])\n",
    "        link_labels.append(f\"{row['transaction_status']} → {row['payment_method']}<br>Count: {row['count']}\")\n",
    "    \n",
    "    # payment_method → amount_category (new flow)\n",
    "    for _, row in flow8.iterrows():\n",
    "        source.append(label_to_index[row['payment_method']])\n",
    "        target.append(label_to_index[str(row['amount_category'])])\n",
    "        value.append(row['count'])\n",
    "        link_labels.append(f\"{row['payment_method']} → {row['amount_category']}<br>Count: {row['count']}\")\n",
    "    \n",
    "    # Set up colors for nodes and links\n",
    "    num_nodes = len(labels)\n",
    "    node_colors = [\"rgba(31, 119, 180, 0.8)\"] * num_nodes  # Default blue color\n",
    "    \n",
    "    # Create color groups for different node types\n",
    "    sender_idx    = [label_to_index[label] for label in pd.Series(flow1['sender']).unique()]\n",
    "    receiver_idx  = [label_to_index[label] for label in pd.Series(flow1['receiver']).unique()]\n",
    "    currency_idx  = [label_to_index[label] for label in pd.Series(flow2['currency']).unique()]\n",
    "    mxmt_idx      = [label_to_index[label] for label in pd.Series(flow3['mx/mt']).unique()]\n",
    "    mt_idx        = [label_to_index[label] for label in pd.Series(flow4['Mt']).unique()]\n",
    "    direction_idx = [label_to_index[label] for label in pd.Series(flow5['direction']).unique()]\n",
    "    status_idx    = [label_to_index[label] for label in pd.Series(flow6['transaction_status']).unique()]\n",
    "    payment_idx   = [label_to_index[label] for label in pd.Series(flow7['payment_method']).unique()]\n",
    "    amount_idx    = [label_to_index[str(label)] for label in pd.Series(flow8['amount_category']).unique()]\n",
    "\n",
    "    \n",
    "    # Assign different colors to each node type\n",
    "    for idx in sender_idx:\n",
    "        node_colors[idx] = \"rgba(214, 39, 40, 0.8)\"  # Red for senders\n",
    "    for idx in receiver_idx:\n",
    "        node_colors[idx] = \"rgba(44, 160, 44, 0.8)\"  # Green for receivers\n",
    "    for idx in currency_idx:\n",
    "        node_colors[idx] = \"rgba(255, 127, 14, 0.8)\"  # Orange for currency\n",
    "    for idx in mxmt_idx:\n",
    "        node_colors[idx] = \"rgba(148, 103, 189, 0.8)\"  # Purple for mx/mt\n",
    "    for idx in mt_idx:\n",
    "        node_colors[idx] = \"rgba(140, 86, 75, 0.8)\"   # Brown for Mt\n",
    "    for idx in direction_idx:\n",
    "        node_colors[idx] = \"rgba(23, 190, 207, 0.8)\"  # Cyan for directions\n",
    "    for idx in status_idx:\n",
    "        node_colors[idx] = \"rgba(188, 189, 34, 0.8)\"  # Yellow-green for transaction status\n",
    "    for idx in payment_idx:\n",
    "        node_colors[idx] = \"rgba(127, 127, 127, 0.8)\"  # Gray for payment method\n",
    "    for idx in amount_idx:\n",
    "        node_colors[idx] = \"rgba(31, 119, 180, 0.8)\"  # Blue for amount categories\n",
    "    \n",
    "    # Create base and hover colors for links based on their source\n",
    "    link_colors = []\n",
    "    link_hover_colors = []\n",
    "    \n",
    "    for s in source:\n",
    "        # Normal state: semi-transparent\n",
    "        base_color = node_colors[s].replace(\"0.8\", \"0.4\")  # More transparent for normal state\n",
    "        # Hover state: more opaque and brighter\n",
    "        hover_color = node_colors[s].replace(\"0.8\", \"0.9\")  # More opaque for hover state\n",
    "        \n",
    "        link_colors.append(base_color)\n",
    "        link_hover_colors.append(hover_color)\n",
    "    \n",
    "    # Create the Sankey diagram with enhanced styling\n",
    "    fig = go.Figure(data=[go.Sankey(\n",
    "        arrangement=\"snap\",\n",
    "        node=dict(\n",
    "            pad=20,\n",
    "            thickness=20,\n",
    "            line=dict(color=\"black\", width=0.5),\n",
    "            label=list(labels),\n",
    "            color=node_colors,\n",
    "            # Add hover effect to nodes\n",
    "            hoverinfo=\"all\",\n",
    "            hoverlabel=dict(\n",
    "                bgcolor=\"white\",\n",
    "                font_size=14,\n",
    "                font_family=\"Arial\"\n",
    "            )\n",
    "        ),\n",
    "        link=dict(\n",
    "            source=source,\n",
    "            target=target,\n",
    "            value=value,\n",
    "            color=link_colors,\n",
    "            # Add animated hover effect for links\n",
    "            customdata=np.array(link_labels),\n",
    "            hovertemplate='%{customdata}<extra></extra>',\n",
    "            hoverlabel=dict(\n",
    "                bgcolor=\"white\",\n",
    "                font_size=14,\n",
    "                font_family=\"Arial\"\n",
    "            )\n",
    "        )\n",
    "    )])\n",
    "    \n",
    "    # Add flow animation using frames\n",
    "    # We'll create frames to animate link opacity to simulate flow\n",
    "    frames = []\n",
    "    \n",
    "    # Create several frames with different link opacities to simulate flow\n",
    "    for i in range(10):\n",
    "        # Generate a flow pattern that moves from left to right\n",
    "        phase = i / 10.0\n",
    "        flow_colors = []\n",
    "        \n",
    "        for s, t in zip(source, target):\n",
    "            # Calculate distance from left to right (normalized)\n",
    "            pos = (s + t) / (2 * num_nodes)\n",
    "            \n",
    "            # Create a wave pattern that moves across the links\n",
    "            intensity = 0.5 + 0.4 * np.sin(2 * np.pi * (pos - phase))\n",
    "            \n",
    "            # Apply the intensity to the base color\n",
    "            base_color = node_colors[s].replace(\"0.8\", str(intensity))\n",
    "            flow_colors.append(base_color)\n",
    "        \n",
    "        # Create a frame with the current flow pattern\n",
    "        frames.append(go.Frame(\n",
    "            data=[go.Sankey(\n",
    "                link=dict(color=flow_colors)\n",
    "            )],\n",
    "            name=f\"frame{i}\"\n",
    "        ))\n",
    "    \n",
    "    # Add frames to the figure\n",
    "    fig.frames = frames\n",
    "    \n",
    "    # Add play button for animation\n",
    "    fig.update_layout(\n",
    "        updatemenus=[\n",
    "            dict(\n",
    "                type=\"buttons\",\n",
    "                showactive=False,\n",
    "                buttons=[\n",
    "                    dict(\n",
    "                        label=\"Play Flow\",\n",
    "                        method=\"animate\",\n",
    "                        args=[\n",
    "                            None,\n",
    "                            dict(\n",
    "                                frame=dict(duration=200, redraw=True),\n",
    "                                fromcurrent=True,\n",
    "                                mode=\"immediate\",\n",
    "                                transition=dict(duration=200)\n",
    "                            )\n",
    "                        ]\n",
    "                    )\n",
    "                ],\n",
    "                x=0.1,\n",
    "                y=1,\n",
    "            )\n",
    "        ]\n",
    "    )\n",
    "    \n",
    "    # Add annotations to describe each column\n",
    "    fig.update_layout(\n",
    "        title_text=title,\n",
    "        font_size=12,\n",
    "        height=800,  # Increased height to accommodate more nodes\n",
    "        width=1200,  # Increased width to accommodate more columns\n",
    "        # Add hover mode settings to improve interactivity\n",
    "        hovermode=\"closest\",\n",
    "        hoverdistance=10,\n",
    "        # Add transition settings for smoother animations\n",
    "        transition=dict(\n",
    "            duration=1000,\n",
    "            easing=\"cubic-in-out\"\n",
    "        ),\n",
    "        annotations=[\n",
    "            dict(x=0.02, y=1, xref='paper', yref='paper', text='Sender', showarrow=False, font=dict(size=14, color='black')),\n",
    "            dict(x=0.14, y=1, xref='paper', yref='paper', text='Receiver', showarrow=False, font=dict(size=14, color='black')),\n",
    "            dict(x=0.25, y=1, xref='paper', yref='paper', text='Currency', showarrow=False, font=dict(size=14, color='black')),\n",
    "            dict(x=0.37, y=1, xref='paper', yref='paper', text='MX/MT', showarrow=False, font=dict(size=14, color='black')),\n",
    "            dict(x=0.48, y=1, xref='paper', yref='paper', text='MT', showarrow=False, font=dict(size=14, color='black')),\n",
    "            dict(x=0.60, y=1, xref='paper', yref='paper', text='Direction', showarrow=False, font=dict(size=14, color='black')),\n",
    "            dict(x=0.71, y=1, xref='paper', yref='paper', text='Status', showarrow=False, font=dict(size=14, color='black')),\n",
    "            dict(x=0.83, y=1, xref='paper', yref='paper', text='Payment', showarrow=False, font=dict(size=14, color='black')),\n",
    "            dict(x=0.94, y=1, xref='paper', yref='paper', text='Amount', showarrow=False, font=dict(size=14, color='black')),\n",
    "        ]\n",
    "    )\n",
    "    \n",
    "    # Add custom CSS for hover effects\n",
    "    fig.update_layout(\n",
    "        hoverlabel_bgcolor=\"white\",\n",
    "        hoverlabel_font_size=14,\n",
    "        hoverlabel_font_family=\"Arial\"\n",
    "    )\n",
    "    \n",
    "    # Add configuration options for better interactivity\n",
    "    fig.update_layout(\n",
    "        dragmode=\"pan\",\n",
    "        clickmode=\"event+select\"\n",
    "    )\n",
    "    \n",
    "    return fig\n",
    "\n",
    "def create_flow_map(df, animate=False):\n",
    "    \n",
    "    import pandas as pd\n",
    "    import numpy as np\n",
    "    import plotly.graph_objects as go\n",
    "    from plotly.subplots import make_subplots\n",
    "    \n",
    "    # Aggregate transactions by sender and receiver regions\n",
    "    region_flows = df.groupby(['send region', 'receiver region'])['amount'].sum().reset_index()\n",
    "    \n",
    "    # Filter out flows where sender and receiver are the same\n",
    "    region_flows = region_flows[region_flows['send region'] != region_flows['receiver region']]\n",
    "    \n",
    "    # Create a figure with a map\n",
    "    fig = go.Figure()\n",
    "    \n",
    "    # Add a basemap\n",
    "    fig.add_trace(go.Scattergeo(\n",
    "        lon=[],\n",
    "        lat=[],\n",
    "        mode='markers',\n",
    "        marker=dict(\n",
    "            size=1,\n",
    "            color='rgba(0,0,0,0)'\n",
    "        ),\n",
    "        showlegend=False,\n",
    "        hoverinfo='none'\n",
    "    ))\n",
    "    \n",
    "    # Set up color scale for flows based on amount\n",
    "    max_amount = region_flows['amount'].max()\n",
    "    min_amount = region_flows['amount'].min()\n",
    "    \n",
    "    # Add region markers\n",
    "    all_regions = set(region_flows['send region'].unique()).union(set(region_flows['receiver region'].unique()))\n",
    "    \n",
    "    # Add only regions that have coordinates\n",
    "    valid_regions = [region for region in all_regions if region in region_coordinates]\n",
    "    \n",
    "    # Create a list of region names, longitudes, and latitudes\n",
    "    region_names = []\n",
    "    region_lons = []\n",
    "    region_lats = []\n",
    "    \n",
    "    for region in valid_regions:\n",
    "        if region in region_coordinates:\n",
    "            region_names.append(region)\n",
    "            region_lons.append(region_coordinates[region][1])  # lon\n",
    "            region_lats.append(region_coordinates[region][0])  # lat\n",
    "    \n",
    "    # Add region markers\n",
    "    fig.add_trace(go.Scattergeo(\n",
    "        lon=region_lons,\n",
    "        lat=region_lats,\n",
    "        text=region_names,\n",
    "        mode='markers+text',\n",
    "        marker=dict(\n",
    "            size=10,\n",
    "            color='blue',\n",
    "            line=dict(width=1, color='black')\n",
    "        ),\n",
    "        textposition=\"top center\",\n",
    "        name='Regions',\n",
    "        hoverinfo='text'\n",
    "    ))\n",
    "    \n",
    "    # Calculate normalized amounts for line widths and colors\n",
    "    region_flows['normalized_amount'] = (region_flows['amount'] - min_amount) / (max_amount - min_amount)\n",
    "    region_flows['width'] = 1 + 5 * region_flows['normalized_amount']  # Line width between 1 and 6\n",
    "    \n",
    "    # Add flow lines \n",
    "    # We'll create separate traces for each flow to enable better control over animations\n",
    "    for idx, flow in region_flows.iterrows():\n",
    "        sender = flow['send region']\n",
    "        receiver = flow['receiver region']\n",
    "        \n",
    "        # Skip if we don't have coordinates for either region\n",
    "        if sender not in region_coordinates or receiver not in region_coordinates:\n",
    "            continue\n",
    "        \n",
    "        # Get coordinates\n",
    "        sender_lat, sender_lon = region_coordinates[sender]\n",
    "        receiver_lat, receiver_lon = region_coordinates[receiver]\n",
    "        \n",
    "        # Calculate control point for curved lines\n",
    "        # We'll make a curved line by adding a midpoint that's offset\n",
    "        mid_lon = (sender_lon + receiver_lon) / 2\n",
    "        mid_lat = (sender_lat + receiver_lat) / 2\n",
    "        \n",
    "        # Add some curvature based on distance\n",
    "        dist = np.sqrt((receiver_lon - sender_lon)**2 + (receiver_lat - sender_lat)**2)\n",
    "        curve_strength = 0.1 * dist  # Adjust this factor for more/less curvature\n",
    "        \n",
    "        # Calculate perpendicular offset\n",
    "        dx = receiver_lon - sender_lon\n",
    "        dy = receiver_lat - sender_lat\n",
    "        \n",
    "        # Get perpendicular direction (rotate 90 degrees)\n",
    "        perp_dx = -dy\n",
    "        perp_dy = dx\n",
    "        \n",
    "        # Normalize and apply curve strength\n",
    "        magnitude = np.sqrt(perp_dx**2 + perp_dy**2)\n",
    "        if magnitude > 0:  # Avoid division by zero\n",
    "            perp_dx = perp_dx / magnitude * curve_strength\n",
    "            perp_dy = perp_dy / magnitude * curve_strength\n",
    "        \n",
    "        # Apply offset to midpoint\n",
    "        mid_lon += perp_dx\n",
    "        mid_lat += perp_dy\n",
    "        \n",
    "        # Create a smooth curve using multiple points\n",
    "        lon_points = []\n",
    "        lat_points = []\n",
    "        num_points = 20\n",
    "        \n",
    "        for i in range(num_points):\n",
    "            t = i / (num_points - 1)\n",
    "            # Quadratic Bezier curve\n",
    "            lon = (1-t)**2 * sender_lon + 2*(1-t)*t * mid_lon + t**2 * receiver_lon\n",
    "            lat = (1-t)**2 * sender_lat + 2*(1-t)*t * mid_lat + t**2 * receiver_lat\n",
    "            lon_points.append(lon)\n",
    "            lat_points.append(lat)\n",
    "        \n",
    "        # Calculate color based on normalized amount (blue to red)\n",
    "        color = f'rgba({int(255 * flow[\"normalized_amount\"])}, 0, {int(255 * (1 - flow[\"normalized_amount\"]))}, 0.8)'\n",
    "        \n",
    "        # Add the flow line\n",
    "        fig.add_trace(go.Scattergeo(\n",
    "            lon=lon_points,\n",
    "            lat=lat_points,\n",
    "            mode='lines',\n",
    "            line=dict(\n",
    "                width=flow['width'],\n",
    "                color=color\n",
    "            ),\n",
    "            opacity=0.7,\n",
    "            name=f\"{sender} → {receiver}\",\n",
    "            text=f\"{sender} → {receiver}: ${flow['amount']:,.2f}\",\n",
    "            hoverinfo='text',\n",
    "            customdata=[{\n",
    "                'sender': sender,\n",
    "                'receiver': receiver,\n",
    "                'amount': flow['amount'],\n",
    "                'normalized_amount': flow['normalized_amount']\n",
    "            }]\n",
    "        ))\n",
    "    \n",
    "    # Configure the base map\n",
    "    fig.update_geos(\n",
    "        showcoastlines=True, coastlinecolor=\"Black\",\n",
    "        showland=True, landcolor=\"LightGreen\",\n",
    "        showocean=True, oceancolor=\"LightBlue\",\n",
    "        showlakes=True, lakecolor=\"Blue\",\n",
    "        showrivers=True, rivercolor=\"Blue\",\n",
    "        showcountries=True, countrycolor=\"Black\"\n",
    "    )\n",
    "    \n",
    "    # Add animation frames if requested\n",
    "    if animate:\n",
    "        frames = []\n",
    "        \n",
    "        for frame_idx in range(20):\n",
    "            frame_data = []\n",
    "            \n",
    "            # First add the basemap and markers (unchanged)\n",
    "            frame_data.append(fig.data[0])  # Basemap\n",
    "            frame_data.append(fig.data[1])  # Region markers\n",
    "            \n",
    "            # For each flow line, create an animated version\n",
    "            for flow_idx in range(2, len(fig.data)):\n",
    "                flow_trace = fig.data[flow_idx]\n",
    "                \n",
    "                # Create a progress value that moves along the path\n",
    "                progress = frame_idx / 20.0\n",
    "                \n",
    "                # For animation, we'll show only part of the path up to the current progress\n",
    "                visible_points = int(progress * len(flow_trace.lon)) + 1\n",
    "                visible_points = max(2, min(visible_points, len(flow_trace.lon)))\n",
    "                \n",
    "                \n",
    "                animated_trace = go.Scattergeo(\n",
    "                    lon=flow_trace.lon[:visible_points],\n",
    "                    lat=flow_trace.lat[:visible_points],\n",
    "                    mode='lines',\n",
    "                    line=dict(\n",
    "                        width=flow_trace.line.width,\n",
    "                        color=flow_trace.line.color\n",
    "                    ),\n",
    "                    opacity=flow_trace.opacity,\n",
    "                    name=flow_trace.name,\n",
    "                    text=flow_trace.text,\n",
    "                    hoverinfo=flow_trace.hoverinfo\n",
    "                )\n",
    "                \n",
    "                frame_data.append(animated_trace)\n",
    "            \n",
    "            # Create the frame\n",
    "            frames.append(go.Frame(\n",
    "                data=frame_data,\n",
    "                name=f\"frame{frame_idx}\"\n",
    "            ))\n",
    "        \n",
    "        \n",
    "        fig.frames = frames\n",
    "        \n",
    "       \n",
    "        fig.update_layout(\n",
    "            updatemenus=[\n",
    "                dict(\n",
    "                    type=\"buttons\",\n",
    "                    showactive=False,\n",
    "                    buttons=[\n",
    "                        dict(\n",
    "                            label=\"Play Flow Animation\",\n",
    "                            method=\"animate\",\n",
    "                            args=[\n",
    "                                None,\n",
    "                                dict(\n",
    "                                    frame=dict(duration=100, redraw=True),\n",
    "                                    fromcurrent=True,\n",
    "                                    mode=\"immediate\",\n",
    "                                    transition=dict(duration=50)\n",
    "                                )\n",
    "                            ]\n",
    "                        )\n",
    "                    ],\n",
    "                    x=0.1,\n",
    "                    y=0.95,\n",
    "                )\n",
    "            ]\n",
    "        )\n",
    "    \n",
    "    fig.update_layout(\n",
    "        title=\"Global Banking Transaction Flows\",\n",
    "        height=600,\n",
    "        showlegend=False,\n",
    "        geo=dict(\n",
    "            projection_type=\"natural earth\",\n",
    "            showframe=False,\n",
    "            showcountries=True\n",
    "        )\n",
    "    )\n",
    "    \n",
    "    return fig\n",
    "\n",
    "\n",
    "def visualize_banking_flows(df):\n",
    "    import ipywidgets as widgets\n",
    "    from ipywidgets import Layout\n",
    "    \n",
    "    \n",
    "    required_columns = ['send region', 'receiver region', 'amount', 'transaction_status', 'payment_method']\n",
    "    missing_columns = [col for col in required_columns if col not in df.columns]\n",
    "    \n",
    "    if missing_columns:\n",
    "        raise ValueError(f\"Missing required columns in dataframe: {missing_columns}\")\n",
    "    \n",
    "    if 'year' not in df.columns:\n",
    "        print(\"Warning: 'year' column not found in data. Creating a dummy year column with value 2023.\")\n",
    "        df['year'] = 2023\n",
    "    \n",
    "    # Ensure all regions are in the coordinates dictionary\n",
    "    unknown_send_regions = set(df['send region'].unique()) - set(region_coordinates.keys())\n",
    "    unknown_recv_regions = set(df['receiver region'].unique()) - set(region_coordinates.keys())\n",
    "    \n",
    "    if unknown_send_regions:\n",
    "        print(f\"Warning: Unknown send regions: {unknown_send_regions}\")\n",
    "    if unknown_recv_regions:\n",
    "        print(f\"Warning: Unknown receiver regions: {unknown_recv_regions}\")\n",
    "    \n",
    "    # Get unique regions for dropdowns\n",
    "    all_regions = sorted(list(set(df['send region'].unique()).union(set(df['receiver region'].unique()))))\n",
    "    \n",
    "    # Get unique years for the year dropdown\n",
    "    years = sorted(df['year'].unique())\n",
    "    \n",
    "    # Create dropdown widgets with improved styling\n",
    "    send_dropdown = widgets.Dropdown(\n",
    "        options=['All'] + all_regions,\n",
    "        value='All',\n",
    "        description='Sender Region:',\n",
    "        layout=Layout(width='300px'),\n",
    "        style={'description_width': 'initial'}\n",
    "    )\n",
    "    \n",
    "    receive_dropdown = widgets.Dropdown(\n",
    "        options=['All'] + all_regions,\n",
    "        value='All',\n",
    "        description='Receiver Region:',\n",
    "        layout=Layout(width='300px'),\n",
    "        style={'description_width': 'initial'}\n",
    "    )\n",
    "    \n",
    "    # Create year dropdown\n",
    "    year_dropdown = widgets.Dropdown(\n",
    "        options=['All'] + list(years),\n",
    "        value='All',\n",
    "        description='Year:',\n",
    "        layout=Layout(width='300px'),\n",
    "        style={'description_width': 'initial'}\n",
    "    )\n",
    "    \n",
    "    # Add animation toggle button\n",
    "    animation_button = widgets.ToggleButton(\n",
    "        value=True,  # Default to animation enabled\n",
    "        description='Flow Animation',\n",
    "        disabled=False,\n",
    "        button_style='info',\n",
    "        tooltip='Toggle the flow animation on/off',\n",
    "        icon='play'\n",
    "    )\n",
    "    \n",
    "    # Create output areas for both visualizations\n",
    "    map_output = widgets.Output()\n",
    "    sankey_output = widgets.Output()\n",
    "    heatmap_output = widgets.Output()  \n",
    "    time_series_output=widgets.Output()\n",
    "\n",
    "    \n",
    "    # Create status message for user feedback\n",
    "    status_message = widgets.HTML(\n",
    "        value=\"<div style='padding: 10px; color: #555;'>Select options and click Update to visualize banking flows.</div>\"\n",
    "    )\n",
    "    \n",
    "    # Create an update button for better user experience\n",
    "    update_button = widgets.Button(\n",
    "        description='Update Visualization',\n",
    "        button_style='primary',\n",
    "        tooltip='Click to update the visualization',\n",
    "        icon='refresh'\n",
    "    )\n",
    "    \n",
    "    def update_visualizations(sender_region, receiver_region, year, animate):\n",
    "        # Filter the dataframe based on selections\n",
    "        filtered_df = df.copy()\n",
    "        \n",
    "        send_region = None if sender_region == 'All' else sender_region\n",
    "        receive_region = None if receiver_region == 'All' else receiver_region\n",
    "        selected_year = None if year == 'All' else year\n",
    "        \n",
    "        if send_region:\n",
    "            filtered_df = filtered_df[filtered_df['send region'] == send_region]\n",
    "        \n",
    "        if receive_region:\n",
    "            filtered_df = filtered_df[filtered_df['receiver region'] == receive_region]\n",
    "        \n",
    "        if selected_year and 'year' in filtered_df.columns:\n",
    "            filtered_df = filtered_df[filtered_df['year'] == selected_year]\n",
    "        \n",
    "        # Update the map visualization\n",
    "        with map_output:\n",
    "            map_output.clear_output(wait=True)\n",
    "            status_message.value = \"<div style='padding: 10px; color: #555;'>Generating map visualization...</div>\"\n",
    "            flow_map = create_flow_map(filtered_df, animate=animate)\n",
    "            flow_map.show()\n",
    "        \n",
    "        # Update the sankey diagram\n",
    "        with sankey_output:\n",
    "            sankey_output.clear_output(wait=True)\n",
    "            status_message.value = \"<div style='padding: 10px; color: #555;'>Generating Sankey diagram...</div>\"\n",
    "            sankey_fig = create_sankey_for_regions(filtered_df, send_region, receive_region, selected_year)\n",
    "            \n",
    "            # Start animation if toggle is on\n",
    "            if animate:\n",
    "                sankey_fig.update_layout(\n",
    "                    updatemenus=[dict(\n",
    "                        type=\"buttons\",\n",
    "                        showactive=False,\n",
    "                        buttons=[dict(\n",
    "                            label=\"Play Flow\",\n",
    "                            method=\"animate\",\n",
    "                            args=[None, dict(frame=dict(duration=200, redraw=True), fromcurrent=True, mode=\"immediate\")]\n",
    "                        )],\n",
    "                        active=0\n",
    "                    )]\n",
    "                )\n",
    "            \n",
    "            sankey_fig.show()\n",
    "        with heatmap_output:\n",
    "            heatmap_output.clear_output(wait=True)\n",
    "            status_message.value = \"<div style='padding: 10px; color: #555;'>Generating heatmap visualization...</div>\"\n",
    "            # Create heatmap for transaction counts\n",
    "            matrix = filtered_df.pivot_table(\n",
    "            index='send region',\n",
    "            columns='receiver region',\n",
    "            values='amount',  # or another column\n",
    "            aggfunc='count',  # or 'sum'\n",
    "            fill_value=0\n",
    "        )\n",
    "            \n",
    "            # Generate heatmap\n",
    "            heatmap_fig = px.imshow(\n",
    "                matrix,\n",
    "                labels=dict(x=\"Receiver Region\", y=\"Sender Region\", color=\"Transaction Count\"),\n",
    "                x=matrix.columns,\n",
    "                y=matrix.index,\n",
    "                color_continuous_scale='Viridis',\n",
    "                text_auto=True\n",
    "            )\n",
    "            \n",
    "            heatmap_fig.update_layout(\n",
    "                title=\"Heatmap of Transaction Volumes Between Regions\",\n",
    "                xaxis_title=\"Receiver Region\",\n",
    "                yaxis_title=\"Sender Region\",\n",
    "                autosize=True\n",
    "            )\n",
    "            \n",
    "            heatmap_fig.show()\n",
    "        # Update the time series visualization\n",
    "        with time_series_output:\n",
    "            time_series_output.clear_output(wait=True)\n",
    "            status_message.value = \"<div style='padding: 10px; color: #555;'>Generating time series visualization...</div>\"\n",
    "\n",
    "            try:\n",
    "                plot_transaction_time_series(\n",
    "                    filtered_df,\n",
    "                    value_column='amount',       # or 'Count' if precomputed\n",
    "                    time_column='year',          # adjust if using datetime column\n",
    "                    group_by='send region',      # or 'receiver region', etc.\n",
    "                    aggfunc='sum',               # or 'count'\n",
    "                    title='Transaction Trends Over Time'\n",
    "                )\n",
    "            except Exception as e:\n",
    "                print(f\"Error generating time series: {e}\")\n",
    "\n",
    "        \n",
    "        \n",
    "        \n",
    "        # Update status message\n",
    "        filters = []\n",
    "        if send_region:\n",
    "            filters.append(f\"sender: {send_region}\")\n",
    "        if receive_region:\n",
    "            filters.append(f\"receiver: {receive_region}\")\n",
    "        if selected_year:\n",
    "            filters.append(f\"year: {selected_year}\")\n",
    "            \n",
    "        if filters:\n",
    "            filter_text = \", \".join(filters)\n",
    "            status_message.value = f\"<div style='padding: 10px; color: #555;'>Showing transactions with {filter_text}</div>\"\n",
    "        else:\n",
    "            status_message.value = \"<div style='padding: 10px; color: #555;'>Showing all transactions</div>\"\n",
    "    \n",
    "    def on_update_button_click(b):\n",
    "        update_visualizations(send_dropdown.value, receive_dropdown.value, year_dropdown.value, animation_button.value)\n",
    "    \n",
    "    update_button.on_click(on_update_button_click)\n",
    "    \n",
    "    # Layout the widgets in a more organized way\n",
    "    filters_box = widgets.HBox([send_dropdown, receive_dropdown, year_dropdown])\n",
    "    controls_box = widgets.HBox([animation_button, update_button])\n",
    "    \n",
    "    # Create tabs for map and sankey\n",
    "    tab = widgets.Tab([map_output, sankey_output,heatmap_output,time_series_output])\n",
    "    tab.set_title(0, 'Flow Map')\n",
    "    tab.set_title(1, 'Sankey Diagram')\n",
    "    tab.set_title(2, 'Heatmap')  \n",
    "    tab.set_title(3, 'Time Series')  \n",
    "\n",
    "\n",
    "\n",
    "    styled_dashboard = widgets.HTML(\"\"\"\n",
    "<div style=\"\n",
    "    background-color: #1e1e1e;\n",
    "    color: white;\n",
    "    padding: 30px;\n",
    "    margin: 10px;\n",
    "    border: 1px solid #444;\n",
    "    border-radius: 10px;\n",
    "\">\n",
    "    <h2 style='color: #10a37f;'>Banking Flows Analysis Dashboard</h2>\n",
    "    <p>Use the controls below to explore transaction flows between regions.</p>\n",
    "</div>\n",
    "\"\"\")\n",
    "\n",
    "    # Create a styled container for the interface\n",
    "    container = widgets.VBox([\n",
    "        styled_dashboard,\n",
    "\n",
    "        filters_box,\n",
    "        controls_box,\n",
    "        status_message,\n",
    "        tab\n",
    "    ], layout=Layout(border='1px solid #ddd', padding='30px', margin='10px'))\n",
    "    \n",
    "\n",
    "\n",
    "    dashboard_container = widgets.VBox([\n",
    "    widgets.HTML(\"<style>body { background-color: black; }</style>\"),\n",
    "    container  # your main dashboard container\n",
    "])\n",
    "    display(dashboard_container)\n",
    "\n",
    "   \n",
    "    \n",
    "    # Initial visualization\n",
    "    update_visualizations('All', 'All', 'All', animation_button.value)\n",
    "    \n",
    "    # Return the final filtered dataframe for reference\n",
    "    return df"
   ]
  },
  {
   "cell_type": "code",
   "execution_count": 10,
   "id": "81098a61",
   "metadata": {},
   "outputs": [
    {
     "name": "stdout",
     "output_type": "stream",
     "text": [
      "Warning: Unknown send regions: {np.str_('Asia Pacific'), np.str_('Latin America')}\n",
      "Warning: Unknown receiver regions: {np.str_('Asia Pacific'), np.str_('Latin America')}\n"
     ]
    },
    {
     "data": {
      "application/vnd.jupyter.widget-view+json": {
       "model_id": "107c07bb537844fdb09f605e9ffc7517",
       "version_major": 2,
       "version_minor": 0
      },
      "text/plain": [
       "VBox(children=(HTML(value='<style>body { background-color: black; }</style>'), VBox(children=(HTML(value='\\n<d…"
      ]
     },
     "metadata": {},
     "output_type": "display_data"
    },
    {
     "data": {
      "text/html": [
       "<div>\n",
       "<style scoped>\n",
       "    .dataframe tbody tr th:only-of-type {\n",
       "        vertical-align: middle;\n",
       "    }\n",
       "\n",
       "    .dataframe tbody tr th {\n",
       "        vertical-align: top;\n",
       "    }\n",
       "\n",
       "    .dataframe thead th {\n",
       "        text-align: right;\n",
       "    }\n",
       "</style>\n",
       "<table border=\"1\" class=\"dataframe\">\n",
       "  <thead>\n",
       "    <tr style=\"text-align: right;\">\n",
       "      <th></th>\n",
       "      <th>Count</th>\n",
       "      <th>sender</th>\n",
       "      <th>receiver</th>\n",
       "      <th>amount</th>\n",
       "      <th>currency</th>\n",
       "      <th>Mt</th>\n",
       "      <th>year</th>\n",
       "      <th>direction</th>\n",
       "      <th>category</th>\n",
       "      <th>send region</th>\n",
       "      <th>receiver region</th>\n",
       "      <th>mx/mt</th>\n",
       "      <th>transaction_status</th>\n",
       "      <th>payment_method</th>\n",
       "    </tr>\n",
       "  </thead>\n",
       "  <tbody>\n",
       "    <tr>\n",
       "      <th>0</th>\n",
       "      <td>1</td>\n",
       "      <td>Mashreq Bank</td>\n",
       "      <td>United Arab Bank</td>\n",
       "      <td>38111.53</td>\n",
       "      <td>EUR</td>\n",
       "      <td>MT940</td>\n",
       "      <td>2015</td>\n",
       "      <td>Outgoing</td>\n",
       "      <td>Retail Payment</td>\n",
       "      <td>Central Asia</td>\n",
       "      <td>Middle East</td>\n",
       "      <td>MT</td>\n",
       "      <td>Completed</td>\n",
       "      <td>ACH</td>\n",
       "    </tr>\n",
       "    <tr>\n",
       "      <th>1</th>\n",
       "      <td>2</td>\n",
       "      <td>Barclays</td>\n",
       "      <td>RAK Bank</td>\n",
       "      <td>128668.30</td>\n",
       "      <td>GBP</td>\n",
       "      <td>MT799</td>\n",
       "      <td>2017</td>\n",
       "      <td>Incoming</td>\n",
       "      <td>FX Settlement</td>\n",
       "      <td>Latin America</td>\n",
       "      <td>Middle East</td>\n",
       "      <td>MT</td>\n",
       "      <td>Pending</td>\n",
       "      <td>Wire Transfer</td>\n",
       "    </tr>\n",
       "    <tr>\n",
       "      <th>2</th>\n",
       "      <td>3</td>\n",
       "      <td>Royal Bank of Canada</td>\n",
       "      <td>Emirates NBD</td>\n",
       "      <td>26914.61</td>\n",
       "      <td>EUR</td>\n",
       "      <td>MT103</td>\n",
       "      <td>2015</td>\n",
       "      <td>Outgoing</td>\n",
       "      <td>Retail Payment</td>\n",
       "      <td>Southeast Asia</td>\n",
       "      <td>Middle East</td>\n",
       "      <td>MT</td>\n",
       "      <td>Completed</td>\n",
       "      <td>Wire Transfer</td>\n",
       "    </tr>\n",
       "    <tr>\n",
       "      <th>3</th>\n",
       "      <td>4</td>\n",
       "      <td>Bank of China</td>\n",
       "      <td>First Abu Dhabi Bank</td>\n",
       "      <td>1248.98</td>\n",
       "      <td>USD</td>\n",
       "      <td>MT760</td>\n",
       "      <td>2022</td>\n",
       "      <td>Incoming</td>\n",
       "      <td>Trade Finance</td>\n",
       "      <td>Asia Pacific</td>\n",
       "      <td>Middle East</td>\n",
       "      <td>MT</td>\n",
       "      <td>Failed</td>\n",
       "      <td>ACH</td>\n",
       "    </tr>\n",
       "    <tr>\n",
       "      <th>4</th>\n",
       "      <td>5</td>\n",
       "      <td>BNP Paribas</td>\n",
       "      <td>Bank of Tokyo-Mitsubishi UFJ</td>\n",
       "      <td>6710.04</td>\n",
       "      <td>GBP</td>\n",
       "      <td>MT940</td>\n",
       "      <td>2018</td>\n",
       "      <td>Incoming</td>\n",
       "      <td>Loan Disbursement</td>\n",
       "      <td>Central Asia</td>\n",
       "      <td>Southeast Asia</td>\n",
       "      <td>MT</td>\n",
       "      <td>Failed</td>\n",
       "      <td>Check</td>\n",
       "    </tr>\n",
       "    <tr>\n",
       "      <th>...</th>\n",
       "      <td>...</td>\n",
       "      <td>...</td>\n",
       "      <td>...</td>\n",
       "      <td>...</td>\n",
       "      <td>...</td>\n",
       "      <td>...</td>\n",
       "      <td>...</td>\n",
       "      <td>...</td>\n",
       "      <td>...</td>\n",
       "      <td>...</td>\n",
       "      <td>...</td>\n",
       "      <td>...</td>\n",
       "      <td>...</td>\n",
       "      <td>...</td>\n",
       "    </tr>\n",
       "    <tr>\n",
       "      <th>495</th>\n",
       "      <td>496</td>\n",
       "      <td>UBS</td>\n",
       "      <td>National Bank of Fujairah</td>\n",
       "      <td>14928.90</td>\n",
       "      <td>AED</td>\n",
       "      <td>MT799</td>\n",
       "      <td>2019</td>\n",
       "      <td>Incoming</td>\n",
       "      <td>Corporate Payment</td>\n",
       "      <td>South Asia</td>\n",
       "      <td>Middle East</td>\n",
       "      <td>MT</td>\n",
       "      <td>Completed</td>\n",
       "      <td>Credit Card</td>\n",
       "    </tr>\n",
       "    <tr>\n",
       "      <th>496</th>\n",
       "      <td>497</td>\n",
       "      <td>Bank of China</td>\n",
       "      <td>Abu Dhabi Commercial Bank</td>\n",
       "      <td>11987567.00</td>\n",
       "      <td>JPY</td>\n",
       "      <td>MT940</td>\n",
       "      <td>2021</td>\n",
       "      <td>Outgoing</td>\n",
       "      <td>Loan Disbursement</td>\n",
       "      <td>Caribbean</td>\n",
       "      <td>Middle East</td>\n",
       "      <td>MT</td>\n",
       "      <td>Completed</td>\n",
       "      <td>ACH</td>\n",
       "    </tr>\n",
       "    <tr>\n",
       "      <th>497</th>\n",
       "      <td>498</td>\n",
       "      <td>Industrial and Commercial Bank of China</td>\n",
       "      <td>Credit Suisse</td>\n",
       "      <td>61238.79</td>\n",
       "      <td>USD</td>\n",
       "      <td>MT700</td>\n",
       "      <td>2018</td>\n",
       "      <td>Outgoing</td>\n",
       "      <td>Corporate Payment</td>\n",
       "      <td>South Asia</td>\n",
       "      <td>South Asia</td>\n",
       "      <td>MT</td>\n",
       "      <td>Cancelled</td>\n",
       "      <td>ACH</td>\n",
       "    </tr>\n",
       "    <tr>\n",
       "      <th>498</th>\n",
       "      <td>499</td>\n",
       "      <td>Abu Dhabi Commercial Bank</td>\n",
       "      <td>Commercial Bank of Dubai</td>\n",
       "      <td>1165309.00</td>\n",
       "      <td>JPY</td>\n",
       "      <td>MT202</td>\n",
       "      <td>2023</td>\n",
       "      <td>Incoming</td>\n",
       "      <td>Loan Disbursement</td>\n",
       "      <td>Caribbean</td>\n",
       "      <td>Middle East</td>\n",
       "      <td>MT</td>\n",
       "      <td>Completed</td>\n",
       "      <td>SWIFT</td>\n",
       "    </tr>\n",
       "    <tr>\n",
       "      <th>499</th>\n",
       "      <td>500</td>\n",
       "      <td>Barclays</td>\n",
       "      <td>Emirates NBD</td>\n",
       "      <td>382288.01</td>\n",
       "      <td>AED</td>\n",
       "      <td>MT910</td>\n",
       "      <td>2020</td>\n",
       "      <td>Outgoing</td>\n",
       "      <td>Treasury Operations</td>\n",
       "      <td>South Asia</td>\n",
       "      <td>Middle East</td>\n",
       "      <td>MT</td>\n",
       "      <td>Completed</td>\n",
       "      <td>Wire Transfer</td>\n",
       "    </tr>\n",
       "  </tbody>\n",
       "</table>\n",
       "<p>500 rows × 14 columns</p>\n",
       "</div>"
      ],
      "text/plain": [
       "     Count                                   sender  \\\n",
       "0        1                             Mashreq Bank   \n",
       "1        2                                 Barclays   \n",
       "2        3                     Royal Bank of Canada   \n",
       "3        4                            Bank of China   \n",
       "4        5                              BNP Paribas   \n",
       "..     ...                                      ...   \n",
       "495    496                                      UBS   \n",
       "496    497                            Bank of China   \n",
       "497    498  Industrial and Commercial Bank of China   \n",
       "498    499                Abu Dhabi Commercial Bank   \n",
       "499    500                                 Barclays   \n",
       "\n",
       "                         receiver       amount currency     Mt  year  \\\n",
       "0                United Arab Bank     38111.53      EUR  MT940  2015   \n",
       "1                        RAK Bank    128668.30      GBP  MT799  2017   \n",
       "2                    Emirates NBD     26914.61      EUR  MT103  2015   \n",
       "3            First Abu Dhabi Bank      1248.98      USD  MT760  2022   \n",
       "4    Bank of Tokyo-Mitsubishi UFJ      6710.04      GBP  MT940  2018   \n",
       "..                            ...          ...      ...    ...   ...   \n",
       "495     National Bank of Fujairah     14928.90      AED  MT799  2019   \n",
       "496     Abu Dhabi Commercial Bank  11987567.00      JPY  MT940  2021   \n",
       "497                 Credit Suisse     61238.79      USD  MT700  2018   \n",
       "498      Commercial Bank of Dubai   1165309.00      JPY  MT202  2023   \n",
       "499                  Emirates NBD    382288.01      AED  MT910  2020   \n",
       "\n",
       "    direction             category     send region receiver region mx/mt  \\\n",
       "0    Outgoing       Retail Payment    Central Asia     Middle East    MT   \n",
       "1    Incoming        FX Settlement   Latin America     Middle East    MT   \n",
       "2    Outgoing       Retail Payment  Southeast Asia     Middle East    MT   \n",
       "3    Incoming        Trade Finance    Asia Pacific     Middle East    MT   \n",
       "4    Incoming    Loan Disbursement    Central Asia  Southeast Asia    MT   \n",
       "..        ...                  ...             ...             ...   ...   \n",
       "495  Incoming    Corporate Payment      South Asia     Middle East    MT   \n",
       "496  Outgoing    Loan Disbursement       Caribbean     Middle East    MT   \n",
       "497  Outgoing    Corporate Payment      South Asia      South Asia    MT   \n",
       "498  Incoming    Loan Disbursement       Caribbean     Middle East    MT   \n",
       "499  Outgoing  Treasury Operations      South Asia     Middle East    MT   \n",
       "\n",
       "    transaction_status payment_method  \n",
       "0            Completed            ACH  \n",
       "1              Pending  Wire Transfer  \n",
       "2            Completed  Wire Transfer  \n",
       "3               Failed            ACH  \n",
       "4               Failed          Check  \n",
       "..                 ...            ...  \n",
       "495          Completed    Credit Card  \n",
       "496          Completed            ACH  \n",
       "497          Cancelled            ACH  \n",
       "498          Completed          SWIFT  \n",
       "499          Completed  Wire Transfer  \n",
       "\n",
       "[500 rows x 14 columns]"
      ]
     },
     "execution_count": 10,
     "metadata": {},
     "output_type": "execute_result"
    }
   ],
   "source": [
    "visualize_banking_flows(df) "
   ]
  },
  {
   "cell_type": "code",
   "execution_count": null,
   "id": "5a1d9101",
   "metadata": {},
   "outputs": [],
   "source": []
  },
  {
   "cell_type": "code",
   "execution_count": null,
   "id": "4d0060da",
   "metadata": {},
   "outputs": [],
   "source": []
  },
  {
   "cell_type": "code",
   "execution_count": null,
   "id": "ad1e3195",
   "metadata": {},
   "outputs": [],
   "source": []
  },
  {
   "cell_type": "code",
   "execution_count": null,
   "id": "f0d61fd5",
   "metadata": {},
   "outputs": [],
   "source": []
  },
  {
   "cell_type": "code",
   "execution_count": null,
   "id": "e71757d8",
   "metadata": {},
   "outputs": [],
   "source": []
  },
  {
   "cell_type": "code",
   "execution_count": 11,
   "id": "1ab35be8",
   "metadata": {},
   "outputs": [],
   "source": [
    "def create_enhanced_sankey_for_regions(df, send_region=None, receive_region=None, year=None, \n",
    "                                highlight_critical_path=True, show_node_metrics=True):\n",
    "    \"\"\"\n",
    "    Create an enhanced Sankey diagram for transactions between specified regions,\n",
    "    with additional intuitive visualization features.\n",
    "    \n",
    "    Parameters:\n",
    "    -----------\n",
    "    df : pandas DataFrame\n",
    "        The DataFrame containing transaction data\n",
    "    send_region : str, optional\n",
    "        Region to filter senders by\n",
    "    receive_region : str, optional\n",
    "        Region to filter receivers by\n",
    "    year : int, optional\n",
    "        Year to filter transactions by\n",
    "    highlight_critical_path : bool, default=True\n",
    "        Whether to highlight the critical (highest volume) path\n",
    "    show_node_metrics : bool, default=True\n",
    "        Whether to show comparative metrics for nodes\n",
    "    \n",
    "    Returns:\n",
    "    --------\n",
    "    plotly.graph_objects.Figure\n",
    "        An enhanced Sankey diagram figure\n",
    "    \"\"\"\n",
    "    import pandas as pd\n",
    "    import numpy as np\n",
    "    import plotly.graph_objects as go\n",
    "    from plotly.subplots import make_subplots\n",
    "    import colorsys\n",
    "    \n",
    "    # Create a copy to avoid modifying the original\n",
    "    filtered_df = df.copy()\n",
    "    \n",
    "    # Filter data if regions are specified\n",
    "    title_parts = []\n",
    "    \n",
    "    if send_region:\n",
    "        filtered_df = filtered_df[filtered_df['send region'] == send_region]\n",
    "        title_parts.append(f\"from {send_region}\")\n",
    "    \n",
    "    if receive_region:\n",
    "        filtered_df = filtered_df[filtered_df['receiver region'] == receive_region]\n",
    "        title_parts.append(f\"to {receive_region}\")\n",
    "    \n",
    "    # Filter by year if specified\n",
    "    if year and 'year' in filtered_df.columns:\n",
    "        filtered_df = filtered_df[filtered_df['year'] == year]\n",
    "        title_parts.append(f\"in {year}\")\n",
    "    \n",
    "    if title_parts:\n",
    "        title = f\"Transactions {' '.join(title_parts)}\"\n",
    "    else:\n",
    "        title = \"All Regional Transactions\"\n",
    "    \n",
    "    # Ensure amount categories exist (create if missing)\n",
    "    if 'amount_category' not in filtered_df.columns:\n",
    "        filtered_df['amount_category'] = pd.cut(\n",
    "            filtered_df['amount'], \n",
    "            bins=[0, 1e6, 5e6, 1e7, float('inf')], \n",
    "            labels=['< 1M', '1M-5M', '5M-10M', '> 10M']\n",
    "        )\n",
    "    \n",
    "    # Check if we have data after all the filters\n",
    "    if filtered_df.empty:\n",
    "        fig = go.Figure()\n",
    "        fig.update_layout(\n",
    "            title_text=f\"No data available for {title}\",\n",
    "            annotations=[dict(\n",
    "                text=\"No transactions found for the selected criteria\",\n",
    "                xref=\"paper\", yref=\"paper\",\n",
    "                x=0.5, y=0.5, showarrow=False,\n",
    "                font=dict(size=20)\n",
    "            )]\n",
    "        )\n",
    "        return fig\n",
    "    \n",
    "    # Make sure all columns are properly formatted as strings\n",
    "    str_columns = ['sender', 'receiver', 'currency', 'mx/mt', 'Mt', 'direction', \n",
    "                  'transaction_status', 'payment_method', 'amount_category']\n",
    "    for col in str_columns:\n",
    "        if col in filtered_df.columns and filtered_df[col].dtype != 'str':\n",
    "            filtered_df[col] = filtered_df[col].astype(str)\n",
    "    \n",
    "    # Create the flows according to the specified path\n",
    "    # sender → receiver\n",
    "    flow1 = filtered_df.groupby(['sender', 'receiver']).size().reset_index(name='count')\n",
    "    \n",
    "    # receiver → currency\n",
    "    flow2 = filtered_df.groupby(['receiver', 'currency']).size().reset_index(name='count')\n",
    "    \n",
    "    # currency → mx/mt\n",
    "    flow3 = filtered_df.groupby(['currency', 'mx/mt']).size().reset_index(name='count')\n",
    "    \n",
    "    # mx/mt → mt\n",
    "    flow4 = filtered_df.groupby(['mx/mt', 'Mt']).size().reset_index(name='count')\n",
    "    \n",
    "    # mt → direction\n",
    "    flow5 = filtered_df.groupby(['Mt', 'direction']).size().reset_index(name='count')\n",
    "    \n",
    "    # direction → transaction_status\n",
    "    flow6 = filtered_df.groupby(['direction', 'transaction_status']).size().reset_index(name='count')\n",
    "    \n",
    "    # transaction_status → payment_method\n",
    "    flow7 = filtered_df.groupby(['transaction_status', 'payment_method']).size().reset_index(name='count')\n",
    "    \n",
    "    # payment_method → amount\n",
    "    flow8 = filtered_df.groupby(['payment_method', 'amount_category']).size().reset_index(name='count')\n",
    "    \n",
    "    # Get all unique labels\n",
    "    labels = pd.unique(\n",
    "        flow1['sender'].tolist() +\n",
    "        flow1['receiver'].tolist() +\n",
    "        flow2['currency'].tolist() +\n",
    "        flow3['mx/mt'].tolist() +\n",
    "        flow4['Mt'].tolist() +\n",
    "        flow5['direction'].tolist() +\n",
    "        flow6['transaction_status'].tolist() +\n",
    "        flow7['payment_method'].tolist() +\n",
    "        flow8['amount_category'].astype(str).tolist()\n",
    "    )\n",
    "    \n",
    "    # Map labels to indices\n",
    "    label_to_index = {label: i for i, label in enumerate(labels)}\n",
    "    \n",
    "    # Prepare sources, targets, and values for links\n",
    "    source, target, value = [], [], []\n",
    "    link_labels = []\n",
    "    \n",
    "    # Dictionary to track node categories\n",
    "    node_categories = {}\n",
    "    \n",
    "    # sender → receiver\n",
    "    for _, row in flow1.iterrows():\n",
    "        source.append(label_to_index[row['sender']])\n",
    "        target.append(label_to_index[row['receiver']])\n",
    "        value.append(row['count'])\n",
    "        link_labels.append(f\"{row['sender']} → {row['receiver']}<br>Count: {row['count']}\")\n",
    "        node_categories[label_to_index[row['sender']]] = \"sender\"\n",
    "        node_categories[label_to_index[row['receiver']]] = \"receiver\"\n",
    "    \n",
    "    # receiver → currency\n",
    "    for _, row in flow2.iterrows():\n",
    "        source.append(label_to_index[row['receiver']])\n",
    "        target.append(label_to_index[row['currency']])\n",
    "        value.append(row['count'])\n",
    "        link_labels.append(f\"{row['receiver']} → {row['currency']}<br>Count: {row['count']}\")\n",
    "        node_categories[label_to_index[row['currency']]] = \"currency\"\n",
    "    \n",
    "    # currency → mx/mt\n",
    "    for _, row in flow3.iterrows():\n",
    "        source.append(label_to_index[row['currency']])\n",
    "        target.append(label_to_index[row['mx/mt']])\n",
    "        value.append(row['count'])\n",
    "        link_labels.append(f\"{row['currency']} → {row['mx/mt']}<br>Count: {row['count']}\")\n",
    "        node_categories[label_to_index[row['mx/mt']]] = \"mx/mt\"\n",
    "    \n",
    "    # mx/mt → mt\n",
    "    for _, row in flow4.iterrows():\n",
    "        source.append(label_to_index[row['mx/mt']])\n",
    "        target.append(label_to_index[row['Mt']])\n",
    "        value.append(row['count'])\n",
    "        link_labels.append(f\"{row['mx/mt']} → {row['Mt']}<br>Count: {row['count']}\")\n",
    "        node_categories[label_to_index[row['Mt']]] = \"mt\"\n",
    "    \n",
    "    # mt → direction\n",
    "    for _, row in flow5.iterrows():\n",
    "        source.append(label_to_index[row['Mt']])\n",
    "        target.append(label_to_index[row['direction']])\n",
    "        value.append(row['count'])\n",
    "        link_labels.append(f\"{row['Mt']} → {row['direction']}<br>Count: {row['count']}\")\n",
    "        node_categories[label_to_index[row['direction']]] = \"direction\"\n",
    "    \n",
    "    # direction → transaction_status\n",
    "    for _, row in flow6.iterrows():\n",
    "        source.append(label_to_index[row['direction']])\n",
    "        target.append(label_to_index[row['transaction_status']])\n",
    "        value.append(row['count'])\n",
    "        link_labels.append(f\"{row['direction']} → {row['transaction_status']}<br>Count: {row['count']}\")\n",
    "        node_categories[label_to_index[row['transaction_status']]] = \"status\"\n",
    "    \n",
    "    # transaction_status → payment_method\n",
    "    for _, row in flow7.iterrows():\n",
    "        source.append(label_to_index[row['transaction_status']])\n",
    "        target.append(label_to_index[row['payment_method']])\n",
    "        value.append(row['count'])\n",
    "        link_labels.append(f\"{row['transaction_status']} → {row['payment_method']}<br>Count: {row['count']}\")\n",
    "        node_categories[label_to_index[row['payment_method']]] = \"payment\"\n",
    "    \n",
    "    # payment_method → amount_category\n",
    "    for _, row in flow8.iterrows():\n",
    "        source.append(label_to_index[row['payment_method']])\n",
    "        target.append(label_to_index[str(row['amount_category'])])\n",
    "        value.append(row['count'])\n",
    "        link_labels.append(f\"{row['payment_method']} → {row['amount_category']}<br>Count: {row['count']}\")\n",
    "        node_categories[label_to_index[str(row['amount_category'])]] = \"amount\"\n",
    "    \n",
    "    # Set up colors for nodes and links\n",
    "    num_nodes = len(labels)\n",
    "    \n",
    "    # IMPROVEMENT 1: Create more visually distinct color palette\n",
    "    # Color palette for different node categories\n",
    "    color_palette = {\n",
    "        \"sender\": \"rgba(214, 39, 40, 0.8)\",         # Red for senders\n",
    "        \"receiver\": \"rgba(44, 160, 44, 0.8)\",       # Green for receivers\n",
    "        \"currency\": \"rgba(255, 127, 14, 0.8)\",      # Orange for currency\n",
    "        \"mx/mt\": \"rgba(148, 103, 189, 0.8)\",        # Purple for mx/mt\n",
    "        \"mt\": \"rgba(140, 86, 75, 0.8)\",             # Brown for Mt\n",
    "        \"direction\": \"rgba(23, 190, 207, 0.8)\",     # Cyan for directions\n",
    "        \"status\": \"rgba(188, 189, 34, 0.8)\",        # Yellow-green for status\n",
    "        \"payment\": \"rgba(127, 127, 127, 0.8)\",      # Gray for payment method\n",
    "        \"amount\": \"rgba(31, 119, 180, 0.8)\"         # Blue for amount categories\n",
    "    }\n",
    "    \n",
    "    # Apply colors to nodes\n",
    "    node_colors = [\"rgba(31, 119, 180, 0.8)\"] * num_nodes  # Default blue color\n",
    "    for idx, category in node_categories.items():\n",
    "        node_colors[idx] = color_palette[category]\n",
    "    \n",
    "    # IMPROVEMENT 2: Calculate total flow volume for each node to determine node size\n",
    "    node_volumes = [0] * num_nodes\n",
    "    for s, t, v in zip(source, target, value):\n",
    "        node_volumes[s] += v\n",
    "        node_volumes[t] += v\n",
    "    \n",
    "    # Normalize node sizes for visual clarity\n",
    "    max_volume = max(node_volumes)\n",
    "    node_sizes = [max(15, 30 * (vol / max_volume)) for vol in node_volumes]\n",
    "    \n",
    "    # Create base and hover colors for links based on their source\n",
    "    link_colors = []\n",
    "    link_hover_colors = []\n",
    "    \n",
    "    for s in source:\n",
    "        # Normal state: semi-transparent\n",
    "        base_color = node_colors[s].replace(\"0.8\", \"0.4\")  # More transparent for normal state\n",
    "        # Hover state: more opaque and brighter\n",
    "        hover_color = node_colors[s].replace(\"0.8\", \"0.9\")  # More opaque for hover state\n",
    "        \n",
    "        link_colors.append(base_color)\n",
    "        link_hover_colors.append(hover_color)\n",
    "    \n",
    "    # IMPROVEMENT 3: Find critical path for highlighting if enabled\n",
    "    critical_path_links = []\n",
    "    if highlight_critical_path:\n",
    "        # Create a copy of the link data for processing\n",
    "        links_data = list(zip(source, target, value))\n",
    "        \n",
    "        # Identify the stages in our flow (columns of the Sankey)\n",
    "        stages = [\"sender\", \"receiver\", \"currency\", \"mx/mt\", \"mt\", \"direction\", \"status\", \"payment\", \"amount\"]\n",
    "        stage_nodes = {stage: [] for stage in stages}\n",
    "        \n",
    "        # Group nodes by their stage\n",
    "        for node_idx, category in node_categories.items():\n",
    "            if category in stage_nodes:\n",
    "                stage_nodes[category].append(node_idx)\n",
    "        \n",
    "        # Find the critical path through each stage\n",
    "        critical_path = []\n",
    "        current_stage_nodes = stage_nodes[\"sender\"]\n",
    "        \n",
    "        for i in range(len(stages) - 1):\n",
    "            current_stage = stages[i]\n",
    "            next_stage = stages[i + 1]\n",
    "            \n",
    "            max_flow = 0\n",
    "            max_source = None\n",
    "            max_target = None\n",
    "            \n",
    "            # Find maximum flow from current stage to next stage\n",
    "            for link_idx, (s, t, v) in enumerate(links_data):\n",
    "                if (node_categories.get(s) == current_stage and \n",
    "                    node_categories.get(t) == next_stage and \n",
    "                    v > max_flow):\n",
    "                    max_flow = v\n",
    "                    max_source = s\n",
    "                    max_target = t\n",
    "                    max_link_idx = link_idx\n",
    "            \n",
    "            if max_source is not None and max_target is not None:\n",
    "                critical_path.append((max_source, max_target, max_link_idx))\n",
    "                current_stage_nodes = [max_target]\n",
    "        \n",
    "        # Mark the critical path links\n",
    "        for _, _, link_idx in critical_path:\n",
    "            critical_path_links.append(link_idx)\n",
    "    \n",
    "    # IMPROVEMENT 4: Add visual context indicators\n",
    "    # For this example, we'll highlight abnormally large flows\n",
    "    # Calculate mean and standard deviation of flow values\n",
    "    mean_flow = np.mean(value)\n",
    "    std_flow = np.std(value)\n",
    "    \n",
    "    # Mark flows that are significantly larger than average (2+ std deviations)\n",
    "    anomaly_threshold = mean_flow + 2 * std_flow\n",
    "    anomaly_links = [i for i, v in enumerate(value) if v > anomaly_threshold]\n",
    "    \n",
    "    # Create custom data for nodes to show in hover text\n",
    "    node_hover_data = []\n",
    "    for i, label in enumerate(labels):\n",
    "        volume = node_volumes[i]\n",
    "        category = node_categories.get(i, \"unknown\")\n",
    "        hover_text = f\"{label}<br>Category: {category}<br>Total Volume: {volume}\"\n",
    "        \n",
    "        # Add more context based on anomalies\n",
    "        if show_node_metrics:\n",
    "            # Calculate what percentage of total flow this node represents\n",
    "            pct_of_total = round(100 * volume / sum(node_volumes), 1)\n",
    "            hover_text += f\"<br>{pct_of_total}% of total flow\"\n",
    "            \n",
    "            # Add indicator if this node has anomalous connections\n",
    "            node_anomalies = sum(1 for j, (s, t) in enumerate(zip(source, target)) \n",
    "                                if (s == i or t == i) and j in anomaly_links)\n",
    "            if node_anomalies > 0:\n",
    "                hover_text += f\"<br>⚠️ {node_anomalies} unusual flows detected\"\n",
    "        \n",
    "        node_hover_data.append(hover_text)\n",
    "    \n",
    "    # Create link customdata with indicators\n",
    "    link_customdata = []\n",
    "    for i, label in enumerate(link_labels):\n",
    "        custom_label = label\n",
    "        \n",
    "        # Add critical path indicator\n",
    "        if i in critical_path_links:\n",
    "            custom_label = \"🔹 CRITICAL PATH 🔹<br>\" + custom_label\n",
    "        \n",
    "        # Add anomaly indicator\n",
    "        if i in anomaly_links:\n",
    "            custom_label = \"⚠️ UNUSUAL VOLUME ⚠️<br>\" + custom_label\n",
    "            \n",
    "        link_customdata.append(custom_label)\n",
    "    \n",
    "    # IMPROVEMENT 5: Create the Sankey diagram with enhanced styling and visual cues\n",
    "    fig = go.Figure()\n",
    "    \n",
    "    # Add vertical category separators (subtle background shading)\n",
    "    category_positions = {\n",
    "        \"sender\": 0.03,\n",
    "        \"receiver\": 0.15,\n",
    "        \"currency\": 0.27,\n",
    "        \"mx/mt\": 0.39,\n",
    "        \"mt\": 0.51,\n",
    "        \"direction\": 0.63,\n",
    "        \"status\": 0.75,\n",
    "        \"payment\": 0.87,\n",
    "        \"amount\": 0.99\n",
    "    }\n",
    "    \n",
    "    # Add subtle category background shading\n",
    "    for category, x_pos in category_positions.items():\n",
    "        color = color_palette[category].replace(\"0.8\", \"0.1\")  # Very transparent\n",
    "        fig.add_shape(\n",
    "            type=\"rect\",\n",
    "            x0=x_pos - 0.06,\n",
    "            x1=x_pos + 0.06,\n",
    "            y0=0,\n",
    "            y1=1,\n",
    "            xref=\"paper\",\n",
    "            yref=\"paper\",\n",
    "            fillcolor=color,\n",
    "            layer=\"below\",\n",
    "            line=dict(width=0),\n",
    "            opacity=0.3\n",
    "        )\n",
    "    \n",
    "    # Add the Sankey diagram with all our enhancements\n",
    "    fig.add_trace(go.Sankey(\n",
    "        arrangement=\"snap\",\n",
    "        node=dict(\n",
    "            pad=15,\n",
    "            thickness=node_sizes,  # Variable node thickness based on volume\n",
    "            line=dict(color=\"black\", width=0.5),\n",
    "            label=list(labels),\n",
    "            color=node_colors,\n",
    "            # Enhanced hover information\n",
    "            hoverinfo=\"text\",\n",
    "            hovertext=node_hover_data,\n",
    "            hoverlabel=dict(\n",
    "                bgcolor=\"white\",\n",
    "                font_size=14,\n",
    "                font_family=\"Arial\"\n",
    "            )\n",
    "        ),\n",
    "        link=dict(\n",
    "            source=source,\n",
    "            target=target,\n",
    "            value=value,\n",
    "            color=link_colors,\n",
    "            # Create different link styles based on importance\n",
    "            # Thicker lines for critical path, dashed for anomalies\n",
    "            line=dict(\n",
    "                width=[3 if i in critical_path_links else 0.5 for i in range(len(source))],\n",
    "                dash=[[] if i in critical_path_links else (\"dash\" if i in anomaly_links else []) \n",
    "                      for i in range(len(source))]\n",
    "            ),\n",
    "            # Enhanced hover information\n",
    "            customdata=link_customdata,\n",
    "            hovertemplate='%{customdata}<extra></extra>',\n",
    "            hoverlabel=dict(\n",
    "                bgcolor=\"white\",\n",
    "                font_size=14,\n",
    "                font_family=\"Arial\"\n",
    "            )\n",
    "        )\n",
    "    ))\n",
    "    \n",
    "    # Add flow animation using frames\n",
    "    frames = []\n",
    "    for i in range(10):\n",
    "        # Generate a flow pattern that moves from left to right\n",
    "        phase = i / 10.0\n",
    "        flow_colors = []\n",
    "        \n",
    "        for s, t, i_link in zip(source, target, range(len(source))):\n",
    "            # Calculate distance from left to right (normalized)\n",
    "            pos = (s + t) / (2 * num_nodes)\n",
    "            \n",
    "            # Create a wave pattern that moves across the links\n",
    "            intensity = 0.5 + 0.4 * np.sin(2 * np.pi * (pos - phase))\n",
    "            \n",
    "            # Apply the intensity to the base color with adjustments for critical path\n",
    "            base_color = node_colors[s].replace(\"0.8\", str(intensity))\n",
    "            \n",
    "            # Highlight critical path more intensely\n",
    "            if i_link in critical_path_links:\n",
    "                # Make critical path links more saturated\n",
    "                # This converts to HSL, increases saturation, then back to RGB\n",
    "                rgba = base_color.replace(\"rgba(\", \"\").replace(\")\", \"\").split(\",\")\n",
    "                r, g, b = int(rgba[0]), int(rgba[1]), int(rgba[2])\n",
    "                h, l, s = colorsys.rgb_to_hls(r/255, g/255, b/255)\n",
    "                # Increase saturation for critical path\n",
    "                s = min(1.0, s * 1.5)  # Increase saturation\n",
    "                l = min(0.7, l * 1.2)  # Slightly brighten\n",
    "                r, g, b = colorsys.hls_to_rgb(h, l, s)\n",
    "                base_color = f\"rgba({int(r*255)}, {int(g*255)}, {int(b*255)}, {intensity})\"\n",
    "            \n",
    "            flow_colors.append(base_color)\n",
    "        \n",
    "        # Create a frame with the current flow pattern\n",
    "        frames.append(go.Frame(\n",
    "            data=[go.Sankey(\n",
    "                link=dict(color=flow_colors)\n",
    "            )],\n",
    "            name=f\"frame{i}\"\n",
    "        ))\n",
    "    \n",
    "    # Add frames to the figure\n",
    "    fig.frames = frames\n",
    "    \n",
    "    # Create control buttons for the visualization\n",
    "    buttons = [\n",
    "        dict(\n",
    "            label=\"Play Flow Animation\",\n",
    "            method=\"animate\",\n",
    "            args=[\n",
    "                None,\n",
    "                dict(\n",
    "                    frame=dict(duration=200, redraw=True),\n",
    "                    fromcurrent=True,\n",
    "                    mode=\"immediate\",\n",
    "                    transition=dict(duration=200)\n",
    "                )\n",
    "            ]\n",
    "        )\n",
    "    ]\n",
    "    \n",
    "    # Add toggle buttons for critical path and anomalies\n",
    "    if highlight_critical_path:\n",
    "        buttons.append(dict(\n",
    "            label=\"Toggle Critical Path\",\n",
    "            method=\"update\",\n",
    "            args=[\n",
    "                {\"visible\": [True]},\n",
    "                {\"annotations\": []}\n",
    "            ]\n",
    "        ))\n",
    "    \n",
    "    # Add layout enhancements\n",
    "    fig.update_layout(\n",
    "        title=dict(\n",
    "            text=f\"<b>{title}</b><br><span style='font-size:14px'>Hover over nodes and links for details. Critical paths and unusual flows are highlighted.</span>\",\n",
    "            font=dict(size=18)\n",
    "        ),\n",
    "        font_size=12,\n",
    "        height=800,\n",
    "        width=1200,\n",
    "        hovermode=\"closest\",\n",
    "        hoverdistance=10,\n",
    "        transition=dict(duration=1000, easing=\"cubic-in-out\"),\n",
    "        updatemenus=[\n",
    "            dict(\n",
    "                type=\"buttons\",\n",
    "                showactive=False,\n",
    "                buttons=buttons,\n",
    "                x=0.1,\n",
    "                y=1.15,\n",
    "                xanchor=\"right\",\n",
    "                yanchor=\"top\",\n",
    "                pad={\"r\": 10, \"t\": 10},\n",
    "                bgcolor=\"#E2E2E2\",\n",
    "                bordercolor=\"#FFFFFF\",\n",
    "                font=dict(size=12)\n",
    "            )\n",
    "        ],\n",
    "        # Add color legend\n",
    "        annotations=[\n",
    "            # Column headers\n",
    "            dict(x=0.03, y=1.02, xref='paper', yref='paper', text='Sender', showarrow=False, \n",
    "                 font=dict(size=14, color=color_palette[\"sender\"].replace(\"0.8\", \"1.0\"))),\n",
    "            dict(x=0.15, y=1.02, xref='paper', yref='paper', text='Receiver', showarrow=False, \n",
    "                 font=dict(size=14, color=color_palette[\"receiver\"].replace(\"0.8\", \"1.0\"))),\n",
    "            dict(x=0.27, y=1.02, xref='paper', yref='paper', text='Currency', showarrow=False, \n",
    "                 font=dict(size=14, color=color_palette[\"currency\"].replace(\"0.8\", \"1.0\"))),\n",
    "            dict(x=0.39, y=1.02, xref='paper', yref='paper', text='MX/MT', showarrow=False, \n",
    "                 font=dict(size=14, color=color_palette[\"mx/mt\"].replace(\"0.8\", \"1.0\"))),\n",
    "            dict(x=0.51, y=1.02, xref='paper', yref='paper', text='MT', showarrow=False, \n",
    "                 font=dict(size=14, color=color_palette[\"mt\"].replace(\"0.8\", \"1.0\"))),\n",
    "            dict(x=0.63, y=1.02, xref='paper', yref='paper', text='Direction', showarrow=False, \n",
    "                 font=dict(size=14, color=color_palette[\"direction\"].replace(\"0.8\", \"1.0\"))),\n",
    "            dict(x=0.75, y=1.02, xref='paper', yref='paper', text='Status', showarrow=False, \n",
    "                 font=dict(size=14, color=color_palette[\"status\"].replace(\"0.8\", \"1.0\"))),\n",
    "            dict(x=0.87, y=1.02, xref='paper', yref='paper', text='Payment', showarrow=False, \n",
    "                 font=dict(size=14, color=color_palette[\"payment\"].replace(\"0.8\", \"1.0\"))),\n",
    "            dict(x=0.99, y=1.02, xref='paper', yref='paper', text='Amount', showarrow=False, \n",
    "                 font=dict(size=14, color=color_palette[\"amount\"].replace(\"0.8\", \"1.0\"))),\n",
    "            \n",
    "            # Legend items\n",
    "            dict(x=0.01, y=-0.05, xref='paper', yref='paper', \n",
    "                 text=\"🔹 Critical Path: Highest volume route through the system\", \n",
    "                 showarrow=False, align=\"left\", font=dict(size=12)),\n",
    "            dict(x=0.01, y=-0.08, xref='paper', yref='paper', \n",
    "                 text=\"⚠️ Unusual Volume: Significantly higher than average\", \n",
    "                 showarrow=False, align=\"left\", font=dict(size=12)),\n",
    "            dict(x=0.01, y=-0.11, xref='paper', yref='paper', \n",
    "                 text=\"Node Size: Proportional to total transaction volume\", \n",
    "                 showarrow=False, align=\"left\", font=dict(size=12))\n",
    "        ],\n",
    "        margin=dict(l=25, r=25, b=100, t=75),\n",
    "        plot_bgcolor=\"#FFFFFF\",\n",
    "        paper_bgcolor=\"#FFFFFF\"\n",
    "    )\n",
    "    \n",
    "    # Add hover styling\n",
    "    fig.update_layout(\n",
    "        hoverlabel_bgcolor=\"white\",\n",
    "        hoverlabel_font_size=14,\n",
    "        hoverlabel_font_family=\"Arial\"\n",
    "    )\n",
    "    \n",
    "    # Improve interactivity\n",
    "    fig.update_layout(\n",
    "        dragmode=\"pan\",\n",
    "        clickmode=\"event+select\",\n",
    "    )\n",
    "    \n",
    "    return fig\n",
    "\n",
    "# Example function to generate summary metrics for the Sankey diagram\n",
    "def generate_sankey_summary(df, send_region=None, receive_region=None, year=None):\n",
    "    \"\"\"\n",
    "    Generate summary metrics to accompany the Sankey diagram.\n",
    "    \n",
    "    Parameters are the same as for create_enhanced_sankey_for_regions.\n",
    "    \n",
    "    Returns:\n",
    "    --------\n",
    "    dict\n",
    "        A dictionary containing summary metrics\n",
    "    \"\"\"\n",
    "    import pandas as pd\n",
    "    import numpy as np\n",
    "    \n",
    "    # Create a copy to avoid modifying the original\n",
    "    filtered_df = df.copy()\n",
    "    \n",
    "    # Apply the same filters as in the Sankey function\n",
    "    if send_region:\n",
    "        filtered_df = filtered_df[filtered_df['send region'] == send_region]\n",
    "    \n",
    "    if receive_region:\n",
    "        filtered_df = filtered_df[filtered_df['receiver region'] == receive_region]\n",
    "    \n",
    "    if year and 'year' in filtered_df.columns:\n",
    "        filtered_df = filtered_df[filtered_df['year'] == year]\n",
    "    \n",
    "    # If no data after filtering, return empty metrics\n",
    "    if filtered_df.empty:\n",
    "        return {\n",
    "            \"total_transactions\": 0,\n",
    "            \"total_value\": 0,\n",
    "            \"avg_transaction_size\": 0,\n",
    "            \"unique_senders\": 0,\n",
    "            \"unique_receivers\": 0,\n",
    "            \"top_corridors\": [],\n",
    "            \"anomalies\": []\n",
    "        }\n",
    "    \n",
    "    # Calculate basic metrics\n",
    "    metrics = {\n",
    "        \"total_transactions\": len(filtered_df),\n",
    "        \"total_value\": filtered_df['amount'].sum() if 'amount' in filtered_df.columns else 0,\n",
    "        \"avg_transaction_size\": filtered_df['amount'].mean() if 'amount' in filtered_df.columns else 0,\n",
    "        \"unique_senders\": filtered_df['sender'].nunique(),\n",
    "        \"unique_receivers\": filtered_df['receiver'].nunique(),\n",
    "    }\n",
    "    \n",
    "    # Identify top corridors (sender-receiver pairs)\n",
    "    if 'sender' in filtered_df.columns and 'receiver' in filtered_df.columns:\n",
    "        corridor_counts = filtered_df.groupby(['sender', 'receiver']).size().reset_index(name='count')\n",
    "        corridor_counts = corridor_counts.sort_values('count', ascending=False).head(5)\n",
    "        metrics[\"top_corridors\"] = corridor_counts.to_dict('records')\n",
    "    else:\n",
    "        metrics[\"top_corridors\"] = []\n",
    "    \n",
    "    # Identify anomalies (transactions with unusually large amounts)\n",
    "    if 'amount' in filtered_df.columns:\n",
    "        mean_amount = filtered_df['amount'].mean()\n",
    "        std_amount = filtered_df['amount'].std()\n",
    "        threshold = mean_amount + 2 * std_amount\n",
    "        \n",
    "        anomalies = filtered_df[filtered_df['amount'] > threshold].copy()\n",
    "        if not anomalies.empty:\n",
    "            anomalies['z_score'] = (anomalies['amount'] - mean_amount) / std_amount\n",
    "            anomalies = anomalies.sort_values('z_score', ascending=False).head(5)\n",
    "            \n",
    "            # Format for display\n",
    "            anomaly_list = []\n",
    "            for _, row in anomalies.iterrows():\n",
    "                anomaly_info = {\n",
    "                    \"sender\": row['sender'] if 'sender' in row else \"Unknown\",\n",
    "                    \"receiver\": row['receiver'] if 'receiver' in row else \"Unknown\",\n",
    "                    \"amount\": row['amount'] if 'amount' in row else 0,\n",
    "                    \"z_score\": row['z_score'],\n",
    "                }\n",
    "                anomaly_list.append(anomaly_info)\n",
    "            \n",
    "            metrics[\"anomalies\"] = anomaly_list\n",
    "        else:\n",
    "            metrics[\"anomalies\"] = []\n",
    "    else:\n",
    "        metrics[\"anomalies\"] = []\n",
    "    \n",
    "    return metrics\n",
    "\n",
    "# Example function to create a dashboard with Sankey diagram and summary panels\n",
    "def create_transaction_flow_dashboard(df, send_region=None, receive_region=None, year=None):\n",
    "    \"\"\"\n",
    "    Create a complete dashboard with enhanced Sankey diagram and summary metrics.\n",
    "    \n",
    "    Parameters:\n",
    "    -----------\n",
    "    df : pandas DataFrame\n",
    "        The DataFrame containing transaction data\n",
    "    send_region : str, optional\n",
    "        Region to filter senders by\n",
    "    receive_region : str, optional\n",
    "        Region to filter receivers by\n",
    "    year : int, optional\n",
    "        Year to filter transactions by\n",
    "    \n",
    "    Returns:\n",
    "    --------\n",
    "    plotly.graph_objects.Figure\n",
    "        A dashboard figure with Sankey diagram and summary metrics\n",
    "    \"\"\"\n",
    "    import plotly.graph_objects as go\n",
    "    from plotly.subplots import make_subplots\n",
    "    \n",
    "    # Generate the Sankey diagram\n",
    "    sankey_fig = create_enhanced_sankey_for_regions(df, send_region, receive_region, year)\n",
    "    \n",
    "    # Generate summary metrics\n",
    "    metrics = generate_sankey_summary(df, send_region, receive_region, year)\n",
    "    \n",
    "    # Create a dashboard with the Sankey diagram and summary metrics\n",
    "    # Using subplot layout for organization\n",
    "    fig = make_subplots(\n",
    "        rows=2, \n",
    "        cols=2,\n",
    "        column_widths=[0.7, 0.3],\n",
    "        row_heights=[0.2, 0.8],\n",
    "        specs=[\n",
    "            [{\"type\": \"table\", \"colspan\": 2}, None],\n",
    "            [{\"type\": \"sankey\"}, {\"type\": \"table\"}]\n",
    "        ],\n",
    "        subplot_titles=[\"Transaction Flow Summary\", None, \"Regional Transaction Flow Analysis\", \"Top Corridors\"]\n",
    "    )\n",
    "    \n",
    "    # Add summary metrics as a table in the top row\n",
    "    summary_headers = [\"Metric\", \"Value\"]\n",
    "    summary_cells = [\n",
    "        [\"Total Transactions\", f\"{metrics['total_transactions']:,}\"],\n",
    "        [\"Total Value\", f\"${metrics['total_value']:,.2f}\"],\n",
    "        [\"Average Transaction\", f\"${metrics['avg_transaction_size']:,.2f}\"],\n",
    "        [\"Unique Senders\", f\"{metrics['unique_senders']:,}\"],\n",
    "        [\"Unique Receivers\", f\"{metrics['unique_receivers']:,}\"]\n",
    "    ]\n",
    "    \n",
    "    fig.add_trace(\n",
    "        go.Table(\n",
    "            header=dict(\n",
    "                values=summary_headers,\n",
    "                fill_color='#6EA2E5',\n",
    "                align='center',\n",
    "                font=dict(color='white', size=14)\n",
    "            ),\n",
    "            cells=dict(\n",
    "                values=list(zip(*summary_cells)),\n",
    "                fill_color=[['#EBF0F8', '#FFFFFF']*5],\n",
    "                align='center',\n",
    "                font=dict(size=13),\n",
    "                height=30\n",
    "            )\n",
    "        ),\n",
    "        row=1, col=1\n",
    "    )\n",
    "    \n",
    "    # Add the Sankey diagram in the bottom-left cell\n",
    "    for trace in sankey_fig.data:\n",
    "        fig.add_trace(trace, row=2, col=1)\n",
    "    \n",
    "    # Add top corridors table in the bottom-right cell\n",
    "    if metrics[\"top_corridors\"]:\n",
    "        corridor_headers = [\"Sender\", \"Receiver\", \"Count\"]\n",
    "        corridor_cells = [\n",
    "            [corridor[\"sender\"] for corridor in metrics[\"top_corridors\"]],\n",
    "            [corridor[\"receiver\"] for corridor in metrics[\"top_corridors\"]],\n",
    "            [f\"{corridor['count']:,}\" for corridor in metrics[\"top_corridors\"]]\n",
    "        ]\n",
    "        \n",
    "        fig.add_trace(\n",
    "            go.Table(\n",
    "                header=dict(\n",
    "                    values=corridor_headers,\n",
    "                    fill_color='#6EA2E5',\n",
    "                    align='center',\n",
    "                    font=dict(color='white', size=14)\n",
    "                ),\n",
    "                cells=dict(\n",
    "                    values=corridor_cells,\n",
    "                    fill_color='#EBF0F8',\n",
    "                    align='center',\n",
    "                    font=dict(size=12),\n",
    "                    height=25\n",
    "                )\n",
    "            ),\n",
    "            row=2, col=2\n",
    "        )\n",
    "    \n",
    "    # Apply styling from the Sankey diagram\n",
    "    # Note: We need to extract and apply some of the layout elements from the original Sankey\n",
    "    for key in ['updatemenus', 'annotations']:\n",
    "        if key in sankey_fig.layout:\n",
    "            fig.layout[key] = sankey_fig.layout[key]\n",
    "    \n",
    "    # Add legend for visual indicators\n",
    "    legend_annotations = [\n",
    "        dict(x=0.01, y=0.01, xref='paper', yref='paper', \n",
    "             text=\"🔹 <b>Critical Path:</b> Highest volume route through the system\", \n",
    "             showarrow=False, align=\"left\", font=dict(size=12)),\n",
    "        dict(x=0.01, y=0.04, xref='paper', yref='paper', \n",
    "             text=\"⚠️ <b>Unusual Volume:</b> Significantly higher than average\", \n",
    "             showarrow=False, align=\"left\", font=dict(size=12)),\n",
    "        dict(x=0.01, y=0.07, xref='paper', yref='paper', \n",
    "             text=\"<b>Node Size:</b> Proportional to total transaction volume\", \n",
    "             showarrow=False, align=\"left\", font=dict(size=12))\n",
    "    ]\n",
    "    \n",
    "    # If annotations already exist, extend them\n",
    "    if hasattr(fig.layout, 'annotations') and fig.layout.annotations:\n",
    "        fig.layout.annotations = list(fig.layout.annotations) + legend_annotations\n",
    "    else:\n",
    "        fig.layout.annotations = legend_annotations\n",
    "    \n",
    "    # Final layout adjustments\n",
    "    title_parts = []\n",
    "    if send_region:\n",
    "        title_parts.append(f\"from {send_region}\")\n",
    "    if receive_region:\n",
    "        title_parts.append(f\"to {receive_region}\")\n",
    "    if year:\n",
    "        title_parts.append(f\"in {year}\")\n",
    "    \n",
    "    title = f\"Transaction Flow Analysis {' '.join(title_parts)}\" if title_parts else \"Transaction Flow Analysis\"\n",
    "    \n",
    "    fig.update_layout(\n",
    "        title=dict(\n",
    "            text=f\"<b>{title}</b>\",\n",
    "            font=dict(size=20)\n",
    "        ),\n",
    "        height=1000,\n",
    "        width=1200,\n",
    "        showlegend=False,\n",
    "        margin=dict(l=25, r=25, b=25, t=100),\n",
    "        template=\"plotly_white\",\n",
    "    )\n",
    "    \n",
    "    return fig\n",
    "\n",
    "\n",
    "def create_statistical_overlay(fig, df, send_region=None, receive_region=None, year=None):\n",
    "    \"\"\"\n",
    "    Add statistical overlays to a Sankey diagram to highlight meaningful patterns.\n",
    "    \n",
    "    Parameters:\n",
    "    -----------\n",
    "    fig : plotly.graph_objects.Figure\n",
    "        The existing Sankey diagram figure\n",
    "    df : pandas DataFrame\n",
    "        The DataFrame containing transaction data\n",
    "    send_region, receive_region, year : filters\n",
    "        Same filters as in the main function\n",
    "    \n",
    "    Returns:\n",
    "    --------\n",
    "    plotly.graph_objects.Figure\n",
    "        The Sankey diagram with statistical overlays\n",
    "    \"\"\"\n",
    "    import pandas as pd\n",
    "    import numpy as np\n",
    "    import plotly.graph_objects as go\n",
    "    \n",
    "    # Create a copy of the figure to avoid modifying the original\n",
    "    enhanced_fig = go.Figure(fig)\n",
    "    \n",
    "    # Filter the data using the same criteria as the Sankey diagram\n",
    "    filtered_df = df.copy()\n",
    "    \n",
    "    if send_region:\n",
    "        filtered_df = filtered_df[filtered_df['send region'] == send_region]\n",
    "    \n",
    "    if receive_region:\n",
    "        filtered_df = filtered_df[filtered_df['receiver region'] == receive_region]\n",
    "    \n",
    "    if year and 'year' in filtered_df.columns:\n",
    "        filtered_df = filtered_df[filtered_df['year'] == year]\n",
    "    \n",
    "    # If we don't have data, just return the original figure\n",
    "    if filtered_df.empty:\n",
    "        return fig\n",
    "        \n",
    "    # Calculate statistical properties of the flows\n",
    "    # 1. Z-scores for each flow segment to identify unusual patterns\n",
    "    \n",
    "    # Group by each flow segment and calculate total flow and z-scores\n",
    "    flow_segments = []\n",
    "    \n",
    "    # For our 8 different flows, calculate statistics\n",
    "    flow_defs = [\n",
    "        ('sender', 'receiver'),\n",
    "        ('receiver', 'currency'),\n",
    "        ('currency', 'mx/mt'),\n",
    "        ('mx/mt', 'Mt'),\n",
    "        ('Mt', 'direction'),\n",
    "        ('direction', 'transaction_status'),\n",
    "        ('transaction_status', 'payment_method'),\n",
    "        ('payment_method', 'amount_category')\n",
    "    ]\n",
    "    \n",
    "    for source_col, target_col in flow_defs:\n",
    "        if source_col in filtered_df.columns and target_col in filtered_df.columns:\n",
    "            flow = filtered_df.groupby([source_col, target_col]).size().reset_index(name='count')\n",
    "            \n",
    "            # Calculate mean and standard deviation for this segment type\n",
    "            mean_count = flow['count'].mean()\n",
    "            std_count = flow['count'].std()\n",
    "            \n",
    "            # Calculate z-scores if std is not zero\n",
    "            if std_count > 0:\n",
    "                flow['z_score'] = (flow['count'] - mean_count) / std_count\n",
    "            else:\n",
    "                flow['z_score'] = 0\n",
    "            \n",
    "            flow_segments.append(flow)\n",
    "    \n",
    "    # Use these statistics to add annotations to the figure\n",
    "    # Now we need to add these as annotations or shapes to highlight patterns\n",
    "    \n",
    "    # To do this properly, we would need to match the flow segments with their positions\n",
    "    # in the Sankey diagram, which requires internal knowledge of how the diagram was built.\n",
    "    # As a simplified approach, we'll add annotations for the most significant findings.\n",
    "    \n",
    "    # Find flows with extreme z-scores (very unusual flows)\n",
    "    all_segments = pd.concat(flow_segments) if flow_segments else pd.DataFrame()\n",
    "    if not all_segments.empty and 'z_score' in all_segments.columns:\n",
    "        extreme_flows = all_segments[abs(all_segments['z_score']) > 2.5].sort_values('z_score', ascending=False)\n",
    "        \n",
    "        # Add annotations about unusual flows\n",
    "        if not extreme_flows.empty:\n",
    "            # Add a section for statistical insights\n",
    "            insights = []\n",
    "            \n",
    "            for i, (_, row) in enumerate(extreme_flows.head(3).iterrows()):\n",
    "                source_val = row.iloc[0] if not pd.isna(row.iloc[0]) else \"Unknown\"\n",
    "                target_val = row.iloc[1] if not pd.isna(row.iloc[1]) else \"Unknown\"\n",
    "                count = row['count']\n",
    "                z_score = row['z_score']\n",
    "                \n",
    "                if z_score > 0:\n",
    "                    insight = f\"<b>Statistical Anomaly #{i+1}:</b> The flow from <b>{source_val}</b> to <b>{target_val}</b> \"\n",
    "                    insight += f\"has {count:,} transactions, which is {abs(z_score):.1f} standard deviations \"\n",
    "                    insight += f\"<b>above</b> the average for its category.\"\n",
    "                else:\n",
    "                    insight = f\"<b>Statistical Anomaly #{i+1}:</b> The flow from <b>{source_val}</b> to <b>{target_val}</b> \"\n",
    "                    insight += f\"has {count:,} transactions, which is {abs(z_score):.1f} standard deviations \"\n",
    "                    insight += f\"<b>below</b> the average for its category.\"\n",
    "                \n",
    "                insights.append(insight)\n",
    "            \n",
    "            # Add annotations with the insights\n",
    "            y_pos = 0.10  # Starting position\n",
    "            for insight in insights:\n",
    "                enhanced_fig.add_annotation(\n",
    "                    x=0.5, y=y_pos,\n",
    "                    xref=\"paper\", yref=\"paper\",\n",
    "                    text=insight,\n",
    "                    showarrow=False,\n",
    "                    font=dict(size=12),\n",
    "                    bgcolor=\"rgba(255, 255, 255, 0.7)\",\n",
    "                    bordercolor=\"rgba(0, 0, 0, 0.3)\",\n",
    "                    borderwidth=1,\n",
    "                    borderpad=4,\n",
    "                    align=\"left\"\n",
    "                )\n",
    "                y_pos += 0.05  # Move down for the next insight\n",
    "    \n",
    "    return enhanced_fig\n",
    "\n",
    "\n",
    "# Implementation example for an interactive flow explorer component\n",
    "def create_interactive_flow_explorer(df, initial_send_region=None, initial_receive_region=None, initial_year=None):\n",
    "    \"\"\"\n",
    "    Create a comprehensive interactive application with Sankey diagram and controls.\n",
    "    \n",
    "    This function would be used in a Dash or Streamlit app to create an interactive\n",
    "    flow explorer with filters, statistics, and visualizations.\n",
    "    \n",
    "    Parameters:\n",
    "    -----------\n",
    "    df : pandas DataFrame\n",
    "        The DataFrame containing transaction data\n",
    "    initial_send_region, initial_receive_region, initial_year : initial filters\n",
    "    \n",
    "    Returns:\n",
    "    --------\n",
    "    dict\n",
    "        A dictionary describing the components needed for the interactive application\n",
    "    \"\"\"\n",
    "    # In a real implementation, this would return the necessary components for a Dash or Streamlit app\n",
    "    # For now, we'll return a description of what would be included\n",
    "    \n",
    "    components = {\n",
    "        \"filters\": [\n",
    "            {\"type\": \"dropdown\", \"id\": \"send_region_filter\", \"label\": \"Sending Region\", \n",
    "             \"options\": sorted(df['send region'].unique()) if 'send region' in df.columns else [],\n",
    "             \"value\": initial_send_region},\n",
    "            {\"type\": \"dropdown\", \"id\": \"receive_region_filter\", \"label\": \"Receiving Region\", \n",
    "             \"options\": sorted(df['receiver region'].unique()) if 'receiver region' in df.columns else [],\n",
    "             \"value\": initial_receive_region},\n",
    "            {\"type\": \"dropdown\", \"id\": \"year_filter\", \"label\": \"Year\", \n",
    "             \"options\": sorted(df['year'].unique()) if 'year' in df.columns else [],\n",
    "             \"value\": initial_year},\n",
    "        ],\n",
    "        \"visualizations\": [\n",
    "            {\"type\": \"sankey\", \"id\": \"main_sankey\", \"function\": \"create_enhanced_sankey_for_regions\"},\n",
    "            {\"type\": \"table\", \"id\": \"summary_table\", \"function\": \"generate_sankey_summary\"},\n",
    "            {\"type\": \"statistic\", \"id\": \"anomaly_stats\", \"function\": \"create_statistical_overlay\"}\n",
    "        ],\n",
    "        \"controls\": [\n",
    "            {\"type\": \"button\", \"id\": \"play_animation\", \"label\": \"Play Flow Animation\"},\n",
    "            {\"type\": \"toggle\", \"id\": \"show_critical_path\", \"label\": \"Show Critical Path\", \"value\": True},\n",
    "            {\"type\": \"toggle\", \"id\": \"show_anomalies\", \"label\": \"Highlight Anomalies\", \"value\": True}\n",
    "        ],\n",
    "        \"layout\": \"responsive_grid\"  # Suggests a responsive grid layout for the components\n",
    "    }\n",
    "    \n",
    "    return components"
   ]
  },
  {
   "cell_type": "code",
   "execution_count": null,
   "id": "d5aee61f",
   "metadata": {},
   "outputs": [],
   "source": []
  },
  {
   "cell_type": "code",
   "execution_count": null,
   "id": "932c6aa8",
   "metadata": {},
   "outputs": [],
   "source": []
  }
 ],
 "metadata": {
  "kernelspec": {
   "display_name": "sankeyenv",
   "language": "python",
   "name": "python3"
  },
  "language_info": {
   "codemirror_mode": {
    "name": "ipython",
    "version": 3
   },
   "file_extension": ".py",
   "mimetype": "text/x-python",
   "name": "python",
   "nbconvert_exporter": "python",
   "pygments_lexer": "ipython3",
   "version": "3.10.17"
  }
 },
 "nbformat": 4,
 "nbformat_minor": 5
}
